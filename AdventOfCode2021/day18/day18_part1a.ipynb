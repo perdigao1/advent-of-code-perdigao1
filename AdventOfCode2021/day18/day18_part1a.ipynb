{
 "cells": [
  {
   "cell_type": "code",
   "execution_count": 1,
   "metadata": {},
   "outputs": [],
   "source": [
    "#input_test = \"[[[[5,6],2],3],4]\"\n",
    "input_test = \"[7,[6,[5,[4,[3,2]]]]]\""
   ]
  },
  {
   "cell_type": "code",
   "execution_count": 2,
   "metadata": {},
   "outputs": [],
   "source": [
    "mysquid = eval(input_test)"
   ]
  },
  {
   "cell_type": "code",
   "execution_count": 3,
   "metadata": {},
   "outputs": [
    {
     "data": {
      "text/plain": [
       "2"
      ]
     },
     "execution_count": 3,
     "metadata": {},
     "output_type": "execute_result"
    }
   ],
   "source": [
    "len(mysquid)"
   ]
  },
  {
   "cell_type": "code",
   "execution_count": 4,
   "metadata": {},
   "outputs": [],
   "source": [
    "def addSquids(squid1, squid2):\n",
    "    assert len(squid1) == 1 and len(squid2) ==2 , \"Squids are not pairs\"\n",
    "    return [[squid1],squid2]"
   ]
  },
  {
   "cell_type": "code",
   "execution_count": null,
   "metadata": {},
   "outputs": [],
   "source": [
    "def carryinto(squid,carryvalue, fromleft=True):\n",
    "    newsquid=squid\n",
    "    if fromleft:\n",
    "        if type(squid[0])==list:\n",
    "            #propagates\n",
    "            newsquid[0] = carryinto(squid[0], carryvalue, fromleft)\n",
    "        else:\n",
    "            newsquid[0] += carryvalue\n",
    "    else:\n",
    "        if type(squid[1])==list:\n",
    "            #propagates\n",
    "            newsquid[1] = carryinto(squid[1], carryvalue, fromleft)\n",
    "        else:\n",
    "            newsquid[1] += carryvalue\n",
    "    return newsquid"
   ]
  },
  {
   "cell_type": "code",
   "execution_count": 5,
   "metadata": {},
   "outputs": [],
   "source": [
    "def doExpl( squid , parentlevel=0):\n",
    "    #process explosion if mylevel =4\n",
    "    #returns carryvalues of the expl\n",
    "    print(f\"squid: {squid}, len(squid)={len(squid)}\")\n",
    "    assert len(squid)==2 , \"Error. len(squid) is not ==2!\"\n",
    "\n",
    "    newsquid = squid\n",
    "    sq0, sq1  = squid\n",
    "\n",
    "    carry=None\n",
    "\n",
    "    mylevel = parentlevel+1\n",
    "\n",
    "    print(f\"mylevel: {mylevel} , inputsquid={squid}\")\n",
    "\n",
    "    newsquid = squid\n",
    "\n",
    "    if mylevel==5:\n",
    "        assert type(sq0)==int and type(sq1)==int , \"Squids are not a pair or ints\"\n",
    "        #Do the explosion\n",
    "        carry = sq0, sq1\n",
    "        newsquid= 0 #squid pair becomes a single value of zero but carry two numbers\n",
    "\n",
    "\n",
    "    #Check if elements in squids are numbers or lists\n",
    "    else:\n",
    "\n",
    "        if type(sq0)==list:\n",
    "            newsquid0, sq0_carry = doExpl(sq0, mylevel)\n",
    "            \n",
    "            if not carry is not None:\n",
    "                carry=[0,0]\n",
    "                carry[0] = sq0_carry[0] #Carry out\n",
    "            \n",
    "                #other element may not be a number, if it is a list carries into\n",
    "                if type(sq1)==list:\n",
    "                    sq1 = carryinto(sq1)\n",
    "                else:\n",
    "                    #int type, just add\n",
    "                    assert type(sq1)==int, \"sq1 type is not int\"\n",
    "                    sq1 += sq0_carry[1]\n",
    "                    carry[1] = 0 # Carries out a zero\n",
    "                sq0 = newsquid0\n",
    "\n",
    "        \n",
    "        if type(sq1)==list:\n",
    "            newsquid1, sq1_carry = doExpl(sq1, mylevel)\n",
    "            \n",
    "            carry[1] = sq1_carry[1]\n",
    "            \n",
    "            # assumes the other element is a number, so add value\n",
    "            #TODO: Check this from examples\n",
    "            sq0 += sq1_carry[0]\n",
    "            sq1 = newsquid1\n",
    "            carry[0] = 0\n",
    "            \n",
    "        newsquid = [sq0,sq1]\n",
    "\n",
    "    print(f\"newsquid: {newsquid} , carry={carry}\")\n",
    "    return newsquid, carry\n"
   ]
  },
  {
   "cell_type": "code",
   "execution_count": 6,
   "metadata": {},
   "outputs": [
    {
     "name": "stdout",
     "output_type": "stream",
     "text": [
      "squid: [7, [6, [5, [4, [3, 2]]]]], len(squid)=2\n",
      "mylevel: 1 , inputsquid=[7, [6, [5, [4, [3, 2]]]]]\n",
      "squid: [6, [5, [4, [3, 2]]]], len(squid)=2\n",
      "mylevel: 2 , inputsquid=[6, [5, [4, [3, 2]]]]\n",
      "squid: [5, [4, [3, 2]]], len(squid)=2\n",
      "mylevel: 3 , inputsquid=[5, [4, [3, 2]]]\n",
      "squid: [4, [3, 2]], len(squid)=2\n",
      "mylevel: 4 , inputsquid=[4, [3, 2]]\n",
      "squid: [3, 2], len(squid)=2\n",
      "mylevel: 5 , inputsquid=[3, 2]\n",
      "newsquid: 0 , carry=(3, 2)\n",
      "newsquid: [7, 0] , carry=[0, 2]\n",
      "newsquid: [5, [7, 0]] , carry=[0, 2]\n",
      "newsquid: [6, [5, [7, 0]]] , carry=[0, 2]\n",
      "newsquid: [7, [6, [5, [7, 0]]]] , carry=[0, 2]\n"
     ]
    },
    {
     "data": {
      "text/plain": [
       "([7, [6, [5, [7, 0]]]], [0, 2])"
      ]
     },
     "execution_count": 6,
     "metadata": {},
     "output_type": "execute_result"
    }
   ],
   "source": [
    "doExpl(mysquid)"
   ]
  },
  {
   "cell_type": "code",
   "execution_count": 19,
   "metadata": {},
   "outputs": [],
   "source": [
    "def testExplodeInExamples(lines):\n",
    "    for l0 in lines:\n",
    "        print(f\"line : {l0}\")\n",
    "\n",
    "        sq0 = eval(l0)\n",
    "\n",
    "        newsq , carry = doExpl(sq0)\n",
    "\n",
    "        print(f\"after explosion: {newsq}\")\n",
    "        print()"
   ]
  },
  {
   "cell_type": "code",
   "execution_count": 20,
   "metadata": {},
   "outputs": [
    {
     "name": "stdout",
     "output_type": "stream",
     "text": [
      "line : [[[[[9,8],1],2],3],4]\n",
      "squid: [[[[[9, 8], 1], 2], 3], 4], len(squid)=2\n",
      "mylevel: 1 , inputsquid=[[[[[9, 8], 1], 2], 3], 4]\n",
      "squid: [[[[9, 8], 1], 2], 3], len(squid)=2\n",
      "mylevel: 2 , inputsquid=[[[[9, 8], 1], 2], 3]\n",
      "squid: [[[9, 8], 1], 2], len(squid)=2\n",
      "mylevel: 3 , inputsquid=[[[9, 8], 1], 2]\n",
      "squid: [[9, 8], 1], len(squid)=2\n",
      "mylevel: 4 , inputsquid=[[9, 8], 1]\n",
      "squid: [9, 8], len(squid)=2\n",
      "mylevel: 5 , inputsquid=[9, 8]\n",
      "newsquid: 0 , carry=(9, 8)\n",
      "newsquid: [0, 9] , carry=[9, 0]\n",
      "newsquid: [[0, 9], 2] , carry=[9, 0]\n",
      "newsquid: [[[0, 9], 2], 3] , carry=[9, 0]\n",
      "newsquid: [[[[0, 9], 2], 3], 4] , carry=[9, 0]\n",
      "after explosion: [[[[0, 9], 2], 3], 4]\n",
      "\n",
      "line : [7,[6,[5,[4,[3,2]]]]]\n",
      "squid: [7, [6, [5, [4, [3, 2]]]]], len(squid)=2\n",
      "mylevel: 1 , inputsquid=[7, [6, [5, [4, [3, 2]]]]]\n",
      "squid: [6, [5, [4, [3, 2]]]], len(squid)=2\n",
      "mylevel: 2 , inputsquid=[6, [5, [4, [3, 2]]]]\n",
      "squid: [5, [4, [3, 2]]], len(squid)=2\n",
      "mylevel: 3 , inputsquid=[5, [4, [3, 2]]]\n",
      "squid: [4, [3, 2]], len(squid)=2\n",
      "mylevel: 4 , inputsquid=[4, [3, 2]]\n",
      "squid: [3, 2], len(squid)=2\n",
      "mylevel: 5 , inputsquid=[3, 2]\n",
      "newsquid: 0 , carry=(3, 2)\n",
      "newsquid: [7, 0] , carry=[0, 2]\n",
      "newsquid: [5, [7, 0]] , carry=[0, 2]\n",
      "newsquid: [6, [5, [7, 0]]] , carry=[0, 2]\n",
      "newsquid: [7, [6, [5, [7, 0]]]] , carry=[0, 2]\n",
      "after explosion: [7, [6, [5, [7, 0]]]]\n",
      "\n",
      "line : [[6,[5,[4,[3,2]]]],1]\n",
      "squid: [[6, [5, [4, [3, 2]]]], 1], len(squid)=2\n",
      "mylevel: 1 , inputsquid=[[6, [5, [4, [3, 2]]]], 1]\n",
      "squid: [6, [5, [4, [3, 2]]]], len(squid)=2\n",
      "mylevel: 2 , inputsquid=[6, [5, [4, [3, 2]]]]\n",
      "squid: [5, [4, [3, 2]]], len(squid)=2\n",
      "mylevel: 3 , inputsquid=[5, [4, [3, 2]]]\n",
      "squid: [4, [3, 2]], len(squid)=2\n",
      "mylevel: 4 , inputsquid=[4, [3, 2]]\n",
      "squid: [3, 2], len(squid)=2\n",
      "mylevel: 5 , inputsquid=[3, 2]\n",
      "newsquid: 0 , carry=(3, 2)\n",
      "newsquid: [7, 0] , carry=[0, 2]\n",
      "newsquid: [5, [7, 0]] , carry=[0, 2]\n",
      "newsquid: [6, [5, [7, 0]]] , carry=[0, 2]\n",
      "newsquid: [[6, [5, [7, 0]]], 3] , carry=[0, 0]\n",
      "after explosion: [[6, [5, [7, 0]]], 3]\n",
      "\n",
      "line : [[3,[2,[1,[7,3]]]],[6,[5,[4,[3,2]]]]]\n",
      "squid: [[3, [2, [1, [7, 3]]]], [6, [5, [4, [3, 2]]]]], len(squid)=2\n",
      "mylevel: 1 , inputsquid=[[3, [2, [1, [7, 3]]]], [6, [5, [4, [3, 2]]]]]\n",
      "squid: [3, [2, [1, [7, 3]]]], len(squid)=2\n",
      "mylevel: 2 , inputsquid=[3, [2, [1, [7, 3]]]]\n",
      "squid: [2, [1, [7, 3]]], len(squid)=2\n",
      "mylevel: 3 , inputsquid=[2, [1, [7, 3]]]\n",
      "squid: [1, [7, 3]], len(squid)=2\n",
      "mylevel: 4 , inputsquid=[1, [7, 3]]\n",
      "squid: [7, 3], len(squid)=2\n",
      "mylevel: 5 , inputsquid=[7, 3]\n",
      "newsquid: 0 , carry=(7, 3)\n",
      "newsquid: [8, 0] , carry=[0, 3]\n",
      "newsquid: [2, [8, 0]] , carry=[0, 3]\n",
      "newsquid: [3, [2, [8, 0]]] , carry=[0, 3]\n"
     ]
    },
    {
     "ename": "TypeError",
     "evalue": "'int' object is not iterable",
     "output_type": "error",
     "traceback": [
      "\u001b[1;31m---------------------------------------------------------------------------\u001b[0m",
      "\u001b[1;31mTypeError\u001b[0m                                 Traceback (most recent call last)",
      "\u001b[1;32m~\\AppData\\Local\\Temp/ipykernel_6324/3007588649.py\u001b[0m in \u001b[0;36m<module>\u001b[1;34m\u001b[0m\n\u001b[0;32m      6\u001b[0m     \u001b[1;34m\"[[3,[2,[8,0]]],[9,[5,[4,[3,2]]]]]\"\u001b[0m\u001b[1;33m\u001b[0m\u001b[1;33m\u001b[0m\u001b[0m\n\u001b[0;32m      7\u001b[0m ]\n\u001b[1;32m----> 8\u001b[1;33m \u001b[0mtestExplodeInExamples\u001b[0m\u001b[1;33m(\u001b[0m\u001b[0mtestlines\u001b[0m\u001b[1;33m)\u001b[0m\u001b[1;33m\u001b[0m\u001b[1;33m\u001b[0m\u001b[0m\n\u001b[0m",
      "\u001b[1;32m~\\AppData\\Local\\Temp/ipykernel_6324/3812181459.py\u001b[0m in \u001b[0;36mtestExplodeInExamples\u001b[1;34m(lines)\u001b[0m\n\u001b[0;32m      5\u001b[0m         \u001b[0msq0\u001b[0m \u001b[1;33m=\u001b[0m \u001b[0meval\u001b[0m\u001b[1;33m(\u001b[0m\u001b[0ml0\u001b[0m\u001b[1;33m)\u001b[0m\u001b[1;33m\u001b[0m\u001b[1;33m\u001b[0m\u001b[0m\n\u001b[0;32m      6\u001b[0m \u001b[1;33m\u001b[0m\u001b[0m\n\u001b[1;32m----> 7\u001b[1;33m         \u001b[0mnewsq\u001b[0m \u001b[1;33m,\u001b[0m \u001b[0mcarry\u001b[0m \u001b[1;33m=\u001b[0m \u001b[0mdoExpl\u001b[0m\u001b[1;33m(\u001b[0m\u001b[0msq0\u001b[0m\u001b[1;33m)\u001b[0m\u001b[1;33m\u001b[0m\u001b[1;33m\u001b[0m\u001b[0m\n\u001b[0m\u001b[0;32m      8\u001b[0m \u001b[1;33m\u001b[0m\u001b[0m\n\u001b[0;32m      9\u001b[0m         \u001b[0mprint\u001b[0m\u001b[1;33m(\u001b[0m\u001b[1;34mf\"after explosion: {newsq}\"\u001b[0m\u001b[1;33m)\u001b[0m\u001b[1;33m\u001b[0m\u001b[1;33m\u001b[0m\u001b[0m\n",
      "\u001b[1;32m~\\AppData\\Local\\Temp/ipykernel_6324/665190525.py\u001b[0m in \u001b[0;36mdoExpl\u001b[1;34m(squid, parentlevel)\u001b[0m\n\u001b[0;32m     32\u001b[0m             \u001b[1;31m# assumes the other element is a number, so add value\u001b[0m\u001b[1;33m\u001b[0m\u001b[1;33m\u001b[0m\u001b[1;33m\u001b[0m\u001b[0m\n\u001b[0;32m     33\u001b[0m             \u001b[1;31m#TODO: Chesck this from examples\u001b[0m\u001b[1;33m\u001b[0m\u001b[1;33m\u001b[0m\u001b[1;33m\u001b[0m\u001b[0m\n\u001b[1;32m---> 34\u001b[1;33m             \u001b[0msq1\u001b[0m \u001b[1;33m+=\u001b[0m \u001b[0msq0_carry\u001b[0m\u001b[1;33m[\u001b[0m\u001b[1;36m1\u001b[0m\u001b[1;33m]\u001b[0m\u001b[1;33m\u001b[0m\u001b[1;33m\u001b[0m\u001b[0m\n\u001b[0m\u001b[0;32m     35\u001b[0m             \u001b[0mcarry\u001b[0m\u001b[1;33m[\u001b[0m\u001b[1;36m1\u001b[0m\u001b[1;33m]\u001b[0m \u001b[1;33m=\u001b[0m \u001b[1;36m0\u001b[0m\u001b[1;33m\u001b[0m\u001b[1;33m\u001b[0m\u001b[0m\n\u001b[0;32m     36\u001b[0m             \u001b[0msq0\u001b[0m \u001b[1;33m=\u001b[0m \u001b[0mnewsquid0\u001b[0m\u001b[1;33m\u001b[0m\u001b[1;33m\u001b[0m\u001b[0m\n",
      "\u001b[1;31mTypeError\u001b[0m: 'int' object is not iterable"
     ]
    }
   ],
   "source": [
    "testlines = [\n",
    "    \"[[[[[9,8],1],2],3],4]\",\n",
    "    \"[7,[6,[5,[4,[3,2]]]]]\",\n",
    "    \"[[6,[5,[4,[3,2]]]],1]\",\n",
    "    \"[[3,[2,[1,[7,3]]]],[6,[5,[4,[3,2]]]]]\",\n",
    "    \"[[3,[2,[8,0]]],[9,[5,[4,[3,2]]]]]\"\n",
    "]\n",
    "testExplodeInExamples(testlines)"
   ]
  }
 ],
 "metadata": {
  "interpreter": {
   "hash": "181599033aa013a348f55e980951d395a235453ffaaf6fbabf88e9b4b2c9ad13"
  },
  "kernelspec": {
   "display_name": "Python 3.8.12 64-bit ('dev': conda)",
   "language": "python",
   "name": "python3"
  },
  "language_info": {
   "codemirror_mode": {
    "name": "ipython",
    "version": 3
   },
   "file_extension": ".py",
   "mimetype": "text/x-python",
   "name": "python",
   "nbconvert_exporter": "python",
   "pygments_lexer": "ipython3",
   "version": "3.8.12"
  },
  "orig_nbformat": 4
 },
 "nbformat": 4,
 "nbformat_minor": 2
}
