{
 "cells": [
  {
   "cell_type": "code",
   "execution_count": 1,
   "metadata": {},
   "outputs": [],
   "source": [
    "import numpy as np"
   ]
  },
  {
   "cell_type": "code",
   "execution_count": 2,
   "metadata": {},
   "outputs": [],
   "source": [
    "# class cBoardPosition:\n",
    "#     connections = None\n",
    "#     def __init__(self,destType=None, isImmOutsideRoom=False):\n",
    "#         self.destType=destType\n",
    "#         self.isImmOutsideRoom = isImmOutsideRoom"
   ]
  },
  {
   "cell_type": "code",
   "execution_count": 3,
   "metadata": {},
   "outputs": [],
   "source": [
    "class cAmphipod:\n",
    "    def __init__(self, type=\"A\", position = None):\n",
    "        self.type = type\n",
    "        self.position=position\n",
    "        #self.hasStoppedInHallway = False #maybe dont need this\n",
    "        #self.hasLeftStartingRoom = False\n",
    "    \n",
    "    def __str__(self) -> str:\n",
    "        #return (f\"type={self.type}, position={self.position}, hasStoppedInHallway={self.hasStoppedInHallway}, hasLeftStartingRoom={self.hasLeftStartingRoom}\")\n",
    "        return (f\"type={self.type}, position={self.position}\")\n"
   ]
  },
  {
   "cell_type": "markdown",
   "metadata": {},
   "source": [
    "Create board positions from input file"
   ]
  },
  {
   "cell_type": "code",
   "execution_count": 4,
   "metadata": {},
   "outputs": [],
   "source": [
    "filename = \"input_part2.txt\"\n",
    "#filename = \"input_test3.txt\""
   ]
  },
  {
   "cell_type": "code",
   "execution_count": 5,
   "metadata": {},
   "outputs": [],
   "source": [
    "with open(filename, 'r') as f:\n",
    "    lines = f.read().splitlines()"
   ]
  },
  {
   "cell_type": "code",
   "execution_count": 6,
   "metadata": {},
   "outputs": [
    {
     "data": {
      "text/plain": [
       "['#############',\n",
       " '#...........#',\n",
       " '###B#B#D#A###',\n",
       " '  #D#C#B#A#',\n",
       " '  #D#B#A#C#',\n",
       " '  #C#A#D#C#',\n",
       " '  #########']"
      ]
     },
     "execution_count": 6,
     "metadata": {},
     "output_type": "execute_result"
    }
   ],
   "source": [
    "lines"
   ]
  },
  {
   "cell_type": "code",
   "execution_count": 7,
   "metadata": {},
   "outputs": [],
   "source": [
    "amphipDestinations = { 'A':(5,3) , 'B':(5,5) , 'C':(5,7) , 'D':(5,9)}"
   ]
  },
  {
   "cell_type": "code",
   "execution_count": 8,
   "metadata": {},
   "outputs": [],
   "source": [
    "b_ysize, b_xsize = (len(lines),len(lines[0]))"
   ]
  },
  {
   "cell_type": "code",
   "execution_count": 9,
   "metadata": {},
   "outputs": [],
   "source": [
    "#Setup board and amphipods\n",
    "board = np.zeros((len(lines), len(lines[0])), dtype=np.int8)\n",
    "amphipods = []\n",
    "#values 0 for wall\n",
    "#1 space\n",
    "#2 space but above room\n",
    "\n",
    "for j in range(len(lines)):\n",
    "    l0 = lines[j]\n",
    "    for i in range(len(l0)):\n",
    "        c0=l0[i]\n",
    "        if c0=='#' or c0==' ':\n",
    "            board[j,i] = 0\n",
    "        else:\n",
    "            board[j,i]=1\n",
    "            if j==2:\n",
    "                board[1,i] =2 #identifies as space just above room\n",
    "            if c0=='A' or c0=='B' or c0=='C' or c0=='D':\n",
    "                board[j,i] = 1\n",
    "                \n",
    "                a0 = cAmphipod(type=c0, position=[j,i])\n",
    "                amphipods.append( a0 )"
   ]
  },
  {
   "cell_type": "code",
   "execution_count": 10,
   "metadata": {},
   "outputs": [
    {
     "data": {
      "text/plain": [
       "array([[0, 0, 0, 0, 0, 0, 0, 0, 0, 0, 0, 0, 0],\n",
       "       [0, 1, 1, 2, 1, 2, 1, 2, 1, 2, 1, 1, 0],\n",
       "       [0, 0, 0, 1, 0, 1, 0, 1, 0, 1, 0, 0, 0],\n",
       "       [0, 0, 0, 1, 0, 1, 0, 1, 0, 1, 0, 0, 0],\n",
       "       [0, 0, 0, 1, 0, 1, 0, 1, 0, 1, 0, 0, 0],\n",
       "       [0, 0, 0, 1, 0, 1, 0, 1, 0, 1, 0, 0, 0],\n",
       "       [0, 0, 0, 0, 0, 0, 0, 0, 0, 0, 0, 0, 0]], dtype=int8)"
      ]
     },
     "execution_count": 10,
     "metadata": {},
     "output_type": "execute_result"
    }
   ],
   "source": [
    "board"
   ]
  },
  {
   "cell_type": "code",
   "execution_count": 11,
   "metadata": {},
   "outputs": [],
   "source": [
    "def printAmphipods(amphipods):\n",
    "    for a in amphipods:\n",
    "        print(a)"
   ]
  },
  {
   "cell_type": "code",
   "execution_count": 12,
   "metadata": {},
   "outputs": [
    {
     "name": "stdout",
     "output_type": "stream",
     "text": [
      "type=B, position=[2, 3]\n",
      "type=B, position=[2, 5]\n",
      "type=D, position=[2, 7]\n",
      "type=A, position=[2, 9]\n",
      "type=D, position=[3, 3]\n",
      "type=C, position=[3, 5]\n",
      "type=B, position=[3, 7]\n",
      "type=A, position=[3, 9]\n",
      "type=D, position=[4, 3]\n",
      "type=B, position=[4, 5]\n",
      "type=A, position=[4, 7]\n",
      "type=C, position=[4, 9]\n",
      "type=C, position=[5, 3]\n",
      "type=A, position=[5, 5]\n",
      "type=D, position=[5, 7]\n",
      "type=C, position=[5, 9]\n"
     ]
    }
   ],
   "source": [
    "printAmphipods(amphipods)"
   ]
  },
  {
   "cell_type": "code",
   "execution_count": 13,
   "metadata": {},
   "outputs": [],
   "source": [
    "def getArrayDistances(type):\n",
    "    dest = amphipDestinations[type]\n",
    "\n",
    "    dist_array = np.zeros_like(board)-1 #array with -1\n",
    "    dist_array[dest[0], dest[1]] = 0\n",
    "    #print(dist_array)\n",
    "\n",
    "    hasChanged=True\n",
    "    while hasChanged:\n",
    "        hasChanged=False\n",
    "        for j in range(1, board.shape[0]):\n",
    "            for i in range(1, board.shape[1]-1):\n",
    "                if dist_array[j,i]==-1 and board[j,i] >0 :\n",
    "                    max0 = max(dist_array[j-1,i] , max(dist_array[j+1,i], max(dist_array[j,i-1], dist_array[j,i+1])))\n",
    "                    \n",
    "                    if max0>-1:\n",
    "                        v0 = max0+1\n",
    "                        dist_array[j,i] = v0\n",
    "                        hasChanged=True\n",
    "                        #print(f\"j,i = {j},{i} , new value={v0}\")\n",
    "    return dist_array"
   ]
  },
  {
   "cell_type": "code",
   "execution_count": 14,
   "metadata": {},
   "outputs": [
    {
     "data": {
      "text/plain": [
       "array([[-1, -1, -1, -1, -1, -1, -1, -1, -1, -1, -1, -1, -1],\n",
       "       [-1,  6,  5,  4,  5,  6,  7,  8,  9, 10, 11, 12, -1],\n",
       "       [-1, -1, -1,  3, -1,  7, -1,  9, -1, 11, -1, -1, -1],\n",
       "       [-1, -1, -1,  2, -1,  8, -1, 10, -1, 12, -1, -1, -1],\n",
       "       [-1, -1, -1,  1, -1,  9, -1, 11, -1, 13, -1, -1, -1],\n",
       "       [-1, -1, -1,  0, -1, 10, -1, 12, -1, 14, -1, -1, -1],\n",
       "       [-1, -1, -1, -1, -1, -1, -1, -1, -1, -1, -1, -1, -1]], dtype=int8)"
      ]
     },
     "execution_count": 14,
     "metadata": {},
     "output_type": "execute_result"
    }
   ],
   "source": [
    "getArrayDistances('A')"
   ]
  },
  {
   "cell_type": "code",
   "execution_count": 15,
   "metadata": {},
   "outputs": [],
   "source": [
    "arrdist_dict = { 'A' : getArrayDistances('A') ,\n",
    "    'B':getArrayDistances('B'),\n",
    "    'C':getArrayDistances('C'),\n",
    "    'D':getArrayDistances('D')}"
   ]
  },
  {
   "cell_type": "code",
   "execution_count": 16,
   "metadata": {},
   "outputs": [
    {
     "data": {
      "text/plain": [
       "{'A': array([[-1, -1, -1, -1, -1, -1, -1, -1, -1, -1, -1, -1, -1],\n",
       "        [-1,  6,  5,  4,  5,  6,  7,  8,  9, 10, 11, 12, -1],\n",
       "        [-1, -1, -1,  3, -1,  7, -1,  9, -1, 11, -1, -1, -1],\n",
       "        [-1, -1, -1,  2, -1,  8, -1, 10, -1, 12, -1, -1, -1],\n",
       "        [-1, -1, -1,  1, -1,  9, -1, 11, -1, 13, -1, -1, -1],\n",
       "        [-1, -1, -1,  0, -1, 10, -1, 12, -1, 14, -1, -1, -1],\n",
       "        [-1, -1, -1, -1, -1, -1, -1, -1, -1, -1, -1, -1, -1]], dtype=int8),\n",
       " 'B': array([[-1, -1, -1, -1, -1, -1, -1, -1, -1, -1, -1, -1, -1],\n",
       "        [-1,  8,  7,  6,  5,  4,  5,  6,  7,  8,  9, 10, -1],\n",
       "        [-1, -1, -1,  7, -1,  3, -1,  7, -1,  9, -1, -1, -1],\n",
       "        [-1, -1, -1,  8, -1,  2, -1,  8, -1, 10, -1, -1, -1],\n",
       "        [-1, -1, -1,  9, -1,  1, -1,  9, -1, 11, -1, -1, -1],\n",
       "        [-1, -1, -1, 10, -1,  0, -1, 10, -1, 12, -1, -1, -1],\n",
       "        [-1, -1, -1, -1, -1, -1, -1, -1, -1, -1, -1, -1, -1]], dtype=int8),\n",
       " 'C': array([[-1, -1, -1, -1, -1, -1, -1, -1, -1, -1, -1, -1, -1],\n",
       "        [-1, 10,  9,  8,  7,  6,  5,  4,  5,  6,  7,  8, -1],\n",
       "        [-1, -1, -1,  9, -1,  7, -1,  3, -1,  7, -1, -1, -1],\n",
       "        [-1, -1, -1, 10, -1,  8, -1,  2, -1,  8, -1, -1, -1],\n",
       "        [-1, -1, -1, 11, -1,  9, -1,  1, -1,  9, -1, -1, -1],\n",
       "        [-1, -1, -1, 12, -1, 10, -1,  0, -1, 10, -1, -1, -1],\n",
       "        [-1, -1, -1, -1, -1, -1, -1, -1, -1, -1, -1, -1, -1]], dtype=int8),\n",
       " 'D': array([[-1, -1, -1, -1, -1, -1, -1, -1, -1, -1, -1, -1, -1],\n",
       "        [-1, 12, 11, 10,  9,  8,  7,  6,  5,  4,  5,  6, -1],\n",
       "        [-1, -1, -1, 11, -1,  9, -1,  7, -1,  3, -1, -1, -1],\n",
       "        [-1, -1, -1, 12, -1, 10, -1,  8, -1,  2, -1, -1, -1],\n",
       "        [-1, -1, -1, 13, -1, 11, -1,  9, -1,  1, -1, -1, -1],\n",
       "        [-1, -1, -1, 14, -1, 12, -1, 10, -1,  0, -1, -1, -1],\n",
       "        [-1, -1, -1, -1, -1, -1, -1, -1, -1, -1, -1, -1, -1]], dtype=int8)}"
      ]
     },
     "execution_count": 16,
     "metadata": {},
     "output_type": "execute_result"
    }
   ],
   "source": [
    "arrdist_dict"
   ]
  },
  {
   "cell_type": "code",
   "execution_count": 17,
   "metadata": {},
   "outputs": [],
   "source": [
    "#Board is the current position of the amphipods\n",
    "# We can associate a cost when reaching the board state\n",
    "# We can have a function that calculates the distance score"
   ]
  },
  {
   "cell_type": "code",
   "execution_count": 18,
   "metadata": {},
   "outputs": [],
   "source": [
    "amphCostMov_dict = { 'A':1 , 'B':10 , 'C':100, 'D':1000 }"
   ]
  },
  {
   "cell_type": "code",
   "execution_count": 19,
   "metadata": {},
   "outputs": [],
   "source": [
    "board_state = amphipods"
   ]
  },
  {
   "cell_type": "code",
   "execution_count": 20,
   "metadata": {},
   "outputs": [],
   "source": [
    "def getDistScore(amphipods):\n",
    "    global arrdist_dict\n",
    "\n",
    "    total_score=0\n",
    "\n",
    "    for a0 in amphipods:\n",
    "        v0 = arrdist_dict[a0.type][a0.position[0], a0.position[1]]\n",
    "        total_score+= v0\n",
    "    \n",
    "    return total_score"
   ]
  },
  {
   "cell_type": "code",
   "execution_count": 21,
   "metadata": {},
   "outputs": [
    {
     "data": {
      "text/plain": [
       "144"
      ]
     },
     "execution_count": 21,
     "metadata": {},
     "output_type": "execute_result"
    }
   ],
   "source": [
    "getDistScore(board_state)"
   ]
  },
  {
   "cell_type": "code",
   "execution_count": 22,
   "metadata": {},
   "outputs": [],
   "source": [
    "#Check movements\n",
    "# Loop through all amphipods and check what movements are possible\n",
    "# Get the scores : movement cost and final board dist score\n",
    "# Sort and start by choosing the lowestdef"
   ]
  },
  {
   "cell_type": "code",
   "execution_count": 23,
   "metadata": {},
   "outputs": [],
   "source": [
    "def isOccupied( y,x, amphipods):\n",
    "    #Check if position is occupied\n",
    "    for a0 in amphipods:\n",
    "        a0_y, a0_x = a0.position\n",
    "        if a0_y == y and a0_x == x:\n",
    "            return True\n",
    "    return False\n",
    "\n",
    "def isNextPosValid(y,x,amphipods):\n",
    "    #print(f\"isNextPosValid y,x = {y},{x}\")\n",
    "    ret=True\n",
    "    if board[y,x] >0:\n",
    "        isOcc =  isOccupied(y,x,amphipods)\n",
    "        #print(f\"isOcc={isOcc}\")\n",
    "        if isOcc:\n",
    "            ret=False\n",
    "    return ret\n",
    "\n",
    "def whatAmphipodIsHere(y,x, amphipods):\n",
    "    #Check if position is occupied and returns the amphipod that occupies it\n",
    "    # Return None if no amphipods were found\n",
    "    for a0 in amphipods:\n",
    "        a0_y, a0_x = a0.position\n",
    "        if a0_y == y and a0_x == x:\n",
    "            return a0\n",
    "    return None\n",
    "\n",
    "\n",
    "    \n",
    "def isAmphipodInDestinationRoom(a0):\n",
    "    destcol = amphipDestinations[a0.type][1]\n",
    "    if a0.position[1] == destcol and a0.position[0]>=2:\n",
    "        return True\n",
    "    return False\n",
    "\n",
    "def canMoveIntoMyRoom(a0,amphipods):\n",
    "    #Returns if amphipods can move into its respective room\n",
    "    #True if room is empty or if room is already filled with correct amphipods\n",
    "\n",
    "    a0destcol = amphipDestinations[a0.type][1]\n",
    "    \n",
    "    for a1 in amphipods:\n",
    "        if a1.position[1]==a0destcol:\n",
    "            #is it the same type?\n",
    "            if a1.type != a0.type:\n",
    "                return False\n",
    "    return True"
   ]
  },
  {
   "cell_type": "code",
   "execution_count": 24,
   "metadata": {},
   "outputs": [],
   "source": [
    "# Types of moves:\n",
    "# Leaving from a room and stop somewhere in hallway\n",
    "# From hallway, move fully into its room, only if room is free\n",
    "# (Note that leaving room and enter room in one go is a valid move)"
   ]
  },
  {
   "cell_type": "code",
   "execution_count": 25,
   "metadata": {},
   "outputs": [],
   "source": [
    "def getMovements(amphipods):\n",
    "    #Returns a list of start and end coordinates\n",
    "    movements = [] #Start coordinates to end coordinates, and number of steps\n",
    "\n",
    "    #Check rooms that are incorrectly filled first\n",
    "\n",
    "    for a0 in amphipods:\n",
    "        #Check movements\n",
    "        \n",
    "        y,x = a0.position\n",
    "        atype = a0.type\n",
    "\n",
    "        dest = amphipDestinations[atype]\n",
    "\n",
    "        #print(f\"amphipod y,x {y},{x} ; atype:{atype}\")\n",
    "        \n",
    "        steps = 0\n",
    "\n",
    "        #Need to go to halway\n",
    "        #If in wrong room, yes\n",
    "        #If in right room, need to check if room is correctly filled\n",
    "\n",
    "        if y>1:\n",
    "            #Amphipod is in some room\n",
    "            # Check if it is in the right room\n",
    "            # If it is in the right room, check if it has to leave the room to allow others to leave\n",
    "            \n",
    "            needToLeaveRoom=False\n",
    "            if x!= dest[1]:\n",
    "                #Not in destination room, get out\n",
    "                needToLeaveRoom=True\n",
    "            else:\n",
    "                #It's the right room but check if need to leave\n",
    "                if not canMoveIntoMyRoom(a0,amphipods):\n",
    "                    needToLeaveRoom = True\n",
    "\n",
    "            if needToLeaveRoom:\n",
    "                #print(\"needToLeaveRoom\")\n",
    "                #Check access to hallway is clear\n",
    "                bClear=True\n",
    "                while y>1 and bClear:\n",
    "                    y-=1\n",
    "                    steps+=1\n",
    "                    if not isNextPosValid(y,x, amphipods):\n",
    "                        #print(\"Not a valid position to move to\")\n",
    "                        bClear=False\n",
    "                \n",
    "                if bClear:\n",
    "                    #Check movements to the left and to the right\n",
    "                    x0=x #backup\n",
    "                    steps0=steps\n",
    "\n",
    "                    #left\n",
    "                    bClear = True\n",
    "                    while bClear and x>1:\n",
    "                        x-=1\n",
    "                        steps+=1\n",
    "                        if not isNextPosValid(y,x, amphipods):\n",
    "                            bClear=False\n",
    "                        else:\n",
    "                            #Check if can stop here\n",
    "                            if board[y,x]==1:\n",
    "                                movements.append([a0.position, [y,x] ,steps])\n",
    "                \n",
    "                    #right\n",
    "                    x=x0\n",
    "                    steps = steps0\n",
    "                    bClear = True\n",
    "                    while bClear and x<b_xsize-1:\n",
    "                        x+=1\n",
    "                        steps+=1\n",
    "                        if not isNextPosValid(y,x, amphipods):\n",
    "                            bClear=False\n",
    "                        else:\n",
    "                            #Check if can stop here\n",
    "                            if board[y,x]==1:\n",
    "                                movements.append([a0.position, [y,x] ,steps])\n",
    "\n",
    "        else:\n",
    "            #print(\"Piece in hallway. Move to its respective room if possible\")\n",
    "        \n",
    "            #Check first if the room is empty or has the correct amphipods already there\n",
    "\n",
    "            #Move towards the correct column\n",
    "            \n",
    "            if canMoveIntoMyRoom(a0,amphipods):\n",
    "                destcol = dest[1]\n",
    "                #print(\"Can move into room\")\n",
    "\n",
    "                xdir = ((destcol - x)>0)*2 -1\n",
    "                #print(f\"xdir:{xdir}\")\n",
    "                stillValid=True\n",
    "                while stillValid and x!=destcol:\n",
    "                    x+=xdir\n",
    "                    steps+=1\n",
    "                    #Check if there is an amphipod there\n",
    "                    if isOccupied(y,x,amphipods):\n",
    "                        stillValid=False\n",
    "                        break\n",
    "                #print(f\"move-x into room x={x}\")\n",
    "                if stillValid:\n",
    "                    #Move downwards\n",
    "\n",
    "                    while stillValid:\n",
    "                        y0=y+1\n",
    "                        if isOccupied(y0,x,amphipods) or y0==b_ysize-1:\n",
    "                            #Set the last position as the final for the movement\n",
    "                            movements.append([a0.position, [y,x] ,steps])\n",
    "                            #print(f\"move-y into room y={y}\")\n",
    "                            stillValid=False\n",
    "                        else:\n",
    "                            y+=1\n",
    "                            steps+=1\n",
    "\n",
    "    return movements\n"
   ]
  },
  {
   "cell_type": "code",
   "execution_count": 26,
   "metadata": {},
   "outputs": [],
   "source": [
    "class node:\n",
    "    amphipods = None\n",
    "    parent_node = None\n",
    "    acccost = 0\n",
    "    distance = 0 #automatically calculated\n",
    "    \n",
    "    def __init__(self, amphipods, parentnode=None, acccost=0):\n",
    "        self.amphipods = amphipods\n",
    "        self.parent_node = parentnode\n",
    "        self.acccost = acccost\n",
    "        self.distance = getDistScore(self.amphipods)\n",
    "    \n",
    "    def score(self):\n",
    "        return self.acccost+self.distance\n",
    "    def score1(self):\n",
    "        return self.distance\n",
    "    \n",
    "    def printStatus(self):\n",
    "        print(f\"Node status. acccost:{self.acccost}, distance:{self.distance}\")\n",
    "        lines=[]\n",
    "        for i in range(b_ysize):\n",
    "            lines.append( '#'* b_xsize)\n",
    "        for y in range(b_ysize):\n",
    "            for x in range(b_xsize):\n",
    "                if board[y,x] >0:\n",
    "                    lines[y] = lines[y][:x] +'.'+ lines[y][x+1:]\n",
    "        for a0 in self.amphipods:\n",
    "            y,x = a0.position\n",
    "            type = a0.type\n",
    "            lines[y]= lines[y][:x] +type+ lines[y][x+1:]\n",
    "        for l0 in lines:\n",
    "            print(l0)\n",
    "        "
   ]
  },
  {
   "cell_type": "code",
   "execution_count": 27,
   "metadata": {},
   "outputs": [],
   "source": [
    "def amphDeepCopy(amphipods):\n",
    "    if amphipods is None:\n",
    "        return None\n",
    "    amphs0 = []\n",
    "    for a0 in amphipods:\n",
    "        a1 = cAmphipod(a0.type,a0.position.copy())\n",
    "        amphs0.append(a1)\n",
    "    return amphs0\n"
   ]
  },
  {
   "cell_type": "code",
   "execution_count": 28,
   "metadata": {},
   "outputs": [],
   "source": [
    "#Create the root node\n",
    "noderoot = node(amphipods, None, 0)"
   ]
  },
  {
   "cell_type": "code",
   "execution_count": 29,
   "metadata": {},
   "outputs": [],
   "source": [
    "#Sort moves ascending based on the total score\n",
    "def nodeScore(node):\n",
    "    v = node.score1()\n",
    "    #print(f\"node score:{v}\")\n",
    "    return v"
   ]
  },
  {
   "cell_type": "code",
   "execution_count": 30,
   "metadata": {},
   "outputs": [],
   "source": [
    "def checkNodeIsSolution(n1):\n",
    "    amps=n1.amphipods\n",
    "\n",
    "    #Check amphipods are all in correct place\n",
    "    for a0 in amps:\n",
    "        if not isAmphipodInDestinationRoom(a0):\n",
    "            return False\n",
    "    \n",
    "    return True\n"
   ]
  },
  {
   "cell_type": "code",
   "execution_count": 31,
   "metadata": {},
   "outputs": [],
   "source": [
    "solution_nodes = []\n",
    "best_node = None"
   ]
  },
  {
   "cell_type": "code",
   "execution_count": 32,
   "metadata": {},
   "outputs": [],
   "source": [
    "#Explore each node\n",
    "def exploreMovesFromNode(node0, level=0):\n",
    "    global solution_nodes\n",
    "    global best_node\n",
    "\n",
    "    #print(f\"Level:{level}\")\n",
    "    #node0.printStatus()\n",
    "    \n",
    "    amps0 = node0.amphipods\n",
    "    movs = getMovements(amps0)\n",
    "    \n",
    "    movenodes=None\n",
    "    \n",
    "    if len(movs)>0:\n",
    "        movenodes=[]\n",
    "        for mov0 in movs:\n",
    "\n",
    "            amphipods0 = amphDeepCopy(amps0)\n",
    "    \n",
    "            orig,dest , steps = mov0\n",
    "            #Move the amphipod\n",
    "            a0 = whatAmphipodIsHere(orig[0], orig[1], amphipods0)\n",
    "\n",
    "            if not a0 is None:\n",
    "                a0.position = dest\n",
    "            \n",
    "                cost = amphCostMov_dict[a0.type]*steps + node0.acccost\n",
    "                \n",
    "                #scoredist = getDistScore(amphipods0)\n",
    "\n",
    "                #Create a new node\n",
    "                node1 = node(amphipods0, parentnode= node0, acccost=cost)\n",
    "\n",
    "                movenodes.append(node1)\n",
    "        \n",
    "        if len(movenodes)>0:\n",
    "            movenodes.sort(key = nodeScore) #Sorts in-place\n",
    "\n",
    "            \n",
    "            for movn0 in movenodes:\n",
    "                checkNode=True\n",
    "                if not best_node is None:\n",
    "                    if movn0.acccost >= best_node.acccost :\n",
    "                        checkNode=False\n",
    "                \n",
    "                #Check if new node is a solution to the problem\n",
    "                \n",
    "                if checkNode:\n",
    "                    if checkNodeIsSolution(movn0):\n",
    "                        #Print solution\n",
    "                        print(f\"Solution found at this node acccost:{movn0.acccost} , at level {level}\")\n",
    "                        #solution_nodes.append(movn0)\n",
    "                        if best_node is None:\n",
    "                            best_node = movn0\n",
    "                        else:\n",
    "                            if movn0.acccost < best_node.acccost:\n",
    "                                print(f\"This is a better solution than previous best node {best_node.acccost}\")\n",
    "                                best_node = movn0\n",
    "                        \n",
    "                    else:\n",
    "                        exploreMovesFromNode(movn0, level+1)\n"
   ]
  },
  {
   "cell_type": "code",
   "execution_count": 33,
   "metadata": {},
   "outputs": [
    {
     "name": "stdout",
     "output_type": "stream",
     "text": [
      "Solution found at this node acccost:46756 , at level 31\n",
      "Solution found at this node acccost:46754 , at level 31\n",
      "This is a better solution than previous best node 46756\n"
     ]
    },
    {
     "ename": "KeyboardInterrupt",
     "evalue": "",
     "output_type": "error",
     "traceback": [
      "\u001b[1;31m---------------------------------------------------------------------------\u001b[0m",
      "\u001b[1;31mKeyboardInterrupt\u001b[0m                         Traceback (most recent call last)",
      "\u001b[1;32m~\\AppData\\Local\\Temp/ipykernel_15656/887561610.py\u001b[0m in \u001b[0;36m<module>\u001b[1;34m\u001b[0m\n\u001b[0;32m      1\u001b[0m \u001b[0mbest_node\u001b[0m \u001b[1;33m=\u001b[0m \u001b[1;32mNone\u001b[0m\u001b[1;33m\u001b[0m\u001b[1;33m\u001b[0m\u001b[0m\n\u001b[1;32m----> 2\u001b[1;33m \u001b[0mexploreMovesFromNode\u001b[0m\u001b[1;33m(\u001b[0m\u001b[0mnoderoot\u001b[0m\u001b[1;33m)\u001b[0m\u001b[1;33m\u001b[0m\u001b[1;33m\u001b[0m\u001b[0m\n\u001b[0m",
      "\u001b[1;32m~\\AppData\\Local\\Temp/ipykernel_15656/291839487.py\u001b[0m in \u001b[0;36mexploreMovesFromNode\u001b[1;34m(node0, level)\u001b[0m\n\u001b[0;32m     59\u001b[0m \u001b[1;33m\u001b[0m\u001b[0m\n\u001b[0;32m     60\u001b[0m                     \u001b[1;32melse\u001b[0m\u001b[1;33m:\u001b[0m\u001b[1;33m\u001b[0m\u001b[1;33m\u001b[0m\u001b[0m\n\u001b[1;32m---> 61\u001b[1;33m                         \u001b[0mexploreMovesFromNode\u001b[0m\u001b[1;33m(\u001b[0m\u001b[0mmovn0\u001b[0m\u001b[1;33m,\u001b[0m \u001b[0mlevel\u001b[0m\u001b[1;33m+\u001b[0m\u001b[1;36m1\u001b[0m\u001b[1;33m)\u001b[0m\u001b[1;33m\u001b[0m\u001b[1;33m\u001b[0m\u001b[0m\n\u001b[0m",
      "\u001b[1;32m~\\AppData\\Local\\Temp/ipykernel_15656/291839487.py\u001b[0m in \u001b[0;36mexploreMovesFromNode\u001b[1;34m(node0, level)\u001b[0m\n\u001b[0;32m     59\u001b[0m \u001b[1;33m\u001b[0m\u001b[0m\n\u001b[0;32m     60\u001b[0m                     \u001b[1;32melse\u001b[0m\u001b[1;33m:\u001b[0m\u001b[1;33m\u001b[0m\u001b[1;33m\u001b[0m\u001b[0m\n\u001b[1;32m---> 61\u001b[1;33m                         \u001b[0mexploreMovesFromNode\u001b[0m\u001b[1;33m(\u001b[0m\u001b[0mmovn0\u001b[0m\u001b[1;33m,\u001b[0m \u001b[0mlevel\u001b[0m\u001b[1;33m+\u001b[0m\u001b[1;36m1\u001b[0m\u001b[1;33m)\u001b[0m\u001b[1;33m\u001b[0m\u001b[1;33m\u001b[0m\u001b[0m\n\u001b[0m",
      "\u001b[1;32m~\\AppData\\Local\\Temp/ipykernel_15656/291839487.py\u001b[0m in \u001b[0;36mexploreMovesFromNode\u001b[1;34m(node0, level)\u001b[0m\n\u001b[0;32m     59\u001b[0m \u001b[1;33m\u001b[0m\u001b[0m\n\u001b[0;32m     60\u001b[0m                     \u001b[1;32melse\u001b[0m\u001b[1;33m:\u001b[0m\u001b[1;33m\u001b[0m\u001b[1;33m\u001b[0m\u001b[0m\n\u001b[1;32m---> 61\u001b[1;33m                         \u001b[0mexploreMovesFromNode\u001b[0m\u001b[1;33m(\u001b[0m\u001b[0mmovn0\u001b[0m\u001b[1;33m,\u001b[0m \u001b[0mlevel\u001b[0m\u001b[1;33m+\u001b[0m\u001b[1;36m1\u001b[0m\u001b[1;33m)\u001b[0m\u001b[1;33m\u001b[0m\u001b[1;33m\u001b[0m\u001b[0m\n\u001b[0m",
      "\u001b[1;32m~\\AppData\\Local\\Temp/ipykernel_15656/291839487.py\u001b[0m in \u001b[0;36mexploreMovesFromNode\u001b[1;34m(node0, level)\u001b[0m\n\u001b[0;32m     59\u001b[0m \u001b[1;33m\u001b[0m\u001b[0m\n\u001b[0;32m     60\u001b[0m                     \u001b[1;32melse\u001b[0m\u001b[1;33m:\u001b[0m\u001b[1;33m\u001b[0m\u001b[1;33m\u001b[0m\u001b[0m\n\u001b[1;32m---> 61\u001b[1;33m                         \u001b[0mexploreMovesFromNode\u001b[0m\u001b[1;33m(\u001b[0m\u001b[0mmovn0\u001b[0m\u001b[1;33m,\u001b[0m \u001b[0mlevel\u001b[0m\u001b[1;33m+\u001b[0m\u001b[1;36m1\u001b[0m\u001b[1;33m)\u001b[0m\u001b[1;33m\u001b[0m\u001b[1;33m\u001b[0m\u001b[0m\n\u001b[0m",
      "\u001b[1;32m~\\AppData\\Local\\Temp/ipykernel_15656/291839487.py\u001b[0m in \u001b[0;36mexploreMovesFromNode\u001b[1;34m(node0, level)\u001b[0m\n\u001b[0;32m     59\u001b[0m \u001b[1;33m\u001b[0m\u001b[0m\n\u001b[0;32m     60\u001b[0m                     \u001b[1;32melse\u001b[0m\u001b[1;33m:\u001b[0m\u001b[1;33m\u001b[0m\u001b[1;33m\u001b[0m\u001b[0m\n\u001b[1;32m---> 61\u001b[1;33m                         \u001b[0mexploreMovesFromNode\u001b[0m\u001b[1;33m(\u001b[0m\u001b[0mmovn0\u001b[0m\u001b[1;33m,\u001b[0m \u001b[0mlevel\u001b[0m\u001b[1;33m+\u001b[0m\u001b[1;36m1\u001b[0m\u001b[1;33m)\u001b[0m\u001b[1;33m\u001b[0m\u001b[1;33m\u001b[0m\u001b[0m\n\u001b[0m",
      "\u001b[1;32m~\\AppData\\Local\\Temp/ipykernel_15656/291839487.py\u001b[0m in \u001b[0;36mexploreMovesFromNode\u001b[1;34m(node0, level)\u001b[0m\n\u001b[0;32m     59\u001b[0m \u001b[1;33m\u001b[0m\u001b[0m\n\u001b[0;32m     60\u001b[0m                     \u001b[1;32melse\u001b[0m\u001b[1;33m:\u001b[0m\u001b[1;33m\u001b[0m\u001b[1;33m\u001b[0m\u001b[0m\n\u001b[1;32m---> 61\u001b[1;33m                         \u001b[0mexploreMovesFromNode\u001b[0m\u001b[1;33m(\u001b[0m\u001b[0mmovn0\u001b[0m\u001b[1;33m,\u001b[0m \u001b[0mlevel\u001b[0m\u001b[1;33m+\u001b[0m\u001b[1;36m1\u001b[0m\u001b[1;33m)\u001b[0m\u001b[1;33m\u001b[0m\u001b[1;33m\u001b[0m\u001b[0m\n\u001b[0m",
      "\u001b[1;32m~\\AppData\\Local\\Temp/ipykernel_15656/291839487.py\u001b[0m in \u001b[0;36mexploreMovesFromNode\u001b[1;34m(node0, level)\u001b[0m\n\u001b[0;32m     59\u001b[0m \u001b[1;33m\u001b[0m\u001b[0m\n\u001b[0;32m     60\u001b[0m                     \u001b[1;32melse\u001b[0m\u001b[1;33m:\u001b[0m\u001b[1;33m\u001b[0m\u001b[1;33m\u001b[0m\u001b[0m\n\u001b[1;32m---> 61\u001b[1;33m                         \u001b[0mexploreMovesFromNode\u001b[0m\u001b[1;33m(\u001b[0m\u001b[0mmovn0\u001b[0m\u001b[1;33m,\u001b[0m \u001b[0mlevel\u001b[0m\u001b[1;33m+\u001b[0m\u001b[1;36m1\u001b[0m\u001b[1;33m)\u001b[0m\u001b[1;33m\u001b[0m\u001b[1;33m\u001b[0m\u001b[0m\n\u001b[0m",
      "\u001b[1;32m~\\AppData\\Local\\Temp/ipykernel_15656/291839487.py\u001b[0m in \u001b[0;36mexploreMovesFromNode\u001b[1;34m(node0, level)\u001b[0m\n\u001b[0;32m     59\u001b[0m \u001b[1;33m\u001b[0m\u001b[0m\n\u001b[0;32m     60\u001b[0m                     \u001b[1;32melse\u001b[0m\u001b[1;33m:\u001b[0m\u001b[1;33m\u001b[0m\u001b[1;33m\u001b[0m\u001b[0m\n\u001b[1;32m---> 61\u001b[1;33m                         \u001b[0mexploreMovesFromNode\u001b[0m\u001b[1;33m(\u001b[0m\u001b[0mmovn0\u001b[0m\u001b[1;33m,\u001b[0m \u001b[0mlevel\u001b[0m\u001b[1;33m+\u001b[0m\u001b[1;36m1\u001b[0m\u001b[1;33m)\u001b[0m\u001b[1;33m\u001b[0m\u001b[1;33m\u001b[0m\u001b[0m\n\u001b[0m",
      "\u001b[1;32m~\\AppData\\Local\\Temp/ipykernel_15656/291839487.py\u001b[0m in \u001b[0;36mexploreMovesFromNode\u001b[1;34m(node0, level)\u001b[0m\n\u001b[0;32m     59\u001b[0m \u001b[1;33m\u001b[0m\u001b[0m\n\u001b[0;32m     60\u001b[0m                     \u001b[1;32melse\u001b[0m\u001b[1;33m:\u001b[0m\u001b[1;33m\u001b[0m\u001b[1;33m\u001b[0m\u001b[0m\n\u001b[1;32m---> 61\u001b[1;33m                         \u001b[0mexploreMovesFromNode\u001b[0m\u001b[1;33m(\u001b[0m\u001b[0mmovn0\u001b[0m\u001b[1;33m,\u001b[0m \u001b[0mlevel\u001b[0m\u001b[1;33m+\u001b[0m\u001b[1;36m1\u001b[0m\u001b[1;33m)\u001b[0m\u001b[1;33m\u001b[0m\u001b[1;33m\u001b[0m\u001b[0m\n\u001b[0m",
      "\u001b[1;32m~\\AppData\\Local\\Temp/ipykernel_15656/291839487.py\u001b[0m in \u001b[0;36mexploreMovesFromNode\u001b[1;34m(node0, level)\u001b[0m\n\u001b[0;32m     59\u001b[0m \u001b[1;33m\u001b[0m\u001b[0m\n\u001b[0;32m     60\u001b[0m                     \u001b[1;32melse\u001b[0m\u001b[1;33m:\u001b[0m\u001b[1;33m\u001b[0m\u001b[1;33m\u001b[0m\u001b[0m\n\u001b[1;32m---> 61\u001b[1;33m                         \u001b[0mexploreMovesFromNode\u001b[0m\u001b[1;33m(\u001b[0m\u001b[0mmovn0\u001b[0m\u001b[1;33m,\u001b[0m \u001b[0mlevel\u001b[0m\u001b[1;33m+\u001b[0m\u001b[1;36m1\u001b[0m\u001b[1;33m)\u001b[0m\u001b[1;33m\u001b[0m\u001b[1;33m\u001b[0m\u001b[0m\n\u001b[0m",
      "\u001b[1;32m~\\AppData\\Local\\Temp/ipykernel_15656/291839487.py\u001b[0m in \u001b[0;36mexploreMovesFromNode\u001b[1;34m(node0, level)\u001b[0m\n\u001b[0;32m     59\u001b[0m \u001b[1;33m\u001b[0m\u001b[0m\n\u001b[0;32m     60\u001b[0m                     \u001b[1;32melse\u001b[0m\u001b[1;33m:\u001b[0m\u001b[1;33m\u001b[0m\u001b[1;33m\u001b[0m\u001b[0m\n\u001b[1;32m---> 61\u001b[1;33m                         \u001b[0mexploreMovesFromNode\u001b[0m\u001b[1;33m(\u001b[0m\u001b[0mmovn0\u001b[0m\u001b[1;33m,\u001b[0m \u001b[0mlevel\u001b[0m\u001b[1;33m+\u001b[0m\u001b[1;36m1\u001b[0m\u001b[1;33m)\u001b[0m\u001b[1;33m\u001b[0m\u001b[1;33m\u001b[0m\u001b[0m\n\u001b[0m",
      "\u001b[1;32m~\\AppData\\Local\\Temp/ipykernel_15656/291839487.py\u001b[0m in \u001b[0;36mexploreMovesFromNode\u001b[1;34m(node0, level)\u001b[0m\n\u001b[0;32m     59\u001b[0m \u001b[1;33m\u001b[0m\u001b[0m\n\u001b[0;32m     60\u001b[0m                     \u001b[1;32melse\u001b[0m\u001b[1;33m:\u001b[0m\u001b[1;33m\u001b[0m\u001b[1;33m\u001b[0m\u001b[0m\n\u001b[1;32m---> 61\u001b[1;33m                         \u001b[0mexploreMovesFromNode\u001b[0m\u001b[1;33m(\u001b[0m\u001b[0mmovn0\u001b[0m\u001b[1;33m,\u001b[0m \u001b[0mlevel\u001b[0m\u001b[1;33m+\u001b[0m\u001b[1;36m1\u001b[0m\u001b[1;33m)\u001b[0m\u001b[1;33m\u001b[0m\u001b[1;33m\u001b[0m\u001b[0m\n\u001b[0m",
      "\u001b[1;32m~\\AppData\\Local\\Temp/ipykernel_15656/291839487.py\u001b[0m in \u001b[0;36mexploreMovesFromNode\u001b[1;34m(node0, level)\u001b[0m\n\u001b[0;32m     59\u001b[0m \u001b[1;33m\u001b[0m\u001b[0m\n\u001b[0;32m     60\u001b[0m                     \u001b[1;32melse\u001b[0m\u001b[1;33m:\u001b[0m\u001b[1;33m\u001b[0m\u001b[1;33m\u001b[0m\u001b[0m\n\u001b[1;32m---> 61\u001b[1;33m                         \u001b[0mexploreMovesFromNode\u001b[0m\u001b[1;33m(\u001b[0m\u001b[0mmovn0\u001b[0m\u001b[1;33m,\u001b[0m \u001b[0mlevel\u001b[0m\u001b[1;33m+\u001b[0m\u001b[1;36m1\u001b[0m\u001b[1;33m)\u001b[0m\u001b[1;33m\u001b[0m\u001b[1;33m\u001b[0m\u001b[0m\n\u001b[0m",
      "\u001b[1;32m~\\AppData\\Local\\Temp/ipykernel_15656/291839487.py\u001b[0m in \u001b[0;36mexploreMovesFromNode\u001b[1;34m(node0, level)\u001b[0m\n\u001b[0;32m     59\u001b[0m \u001b[1;33m\u001b[0m\u001b[0m\n\u001b[0;32m     60\u001b[0m                     \u001b[1;32melse\u001b[0m\u001b[1;33m:\u001b[0m\u001b[1;33m\u001b[0m\u001b[1;33m\u001b[0m\u001b[0m\n\u001b[1;32m---> 61\u001b[1;33m                         \u001b[0mexploreMovesFromNode\u001b[0m\u001b[1;33m(\u001b[0m\u001b[0mmovn0\u001b[0m\u001b[1;33m,\u001b[0m \u001b[0mlevel\u001b[0m\u001b[1;33m+\u001b[0m\u001b[1;36m1\u001b[0m\u001b[1;33m)\u001b[0m\u001b[1;33m\u001b[0m\u001b[1;33m\u001b[0m\u001b[0m\n\u001b[0m",
      "\u001b[1;32m~\\AppData\\Local\\Temp/ipykernel_15656/291839487.py\u001b[0m in \u001b[0;36mexploreMovesFromNode\u001b[1;34m(node0, level)\u001b[0m\n\u001b[0;32m     59\u001b[0m \u001b[1;33m\u001b[0m\u001b[0m\n\u001b[0;32m     60\u001b[0m                     \u001b[1;32melse\u001b[0m\u001b[1;33m:\u001b[0m\u001b[1;33m\u001b[0m\u001b[1;33m\u001b[0m\u001b[0m\n\u001b[1;32m---> 61\u001b[1;33m                         \u001b[0mexploreMovesFromNode\u001b[0m\u001b[1;33m(\u001b[0m\u001b[0mmovn0\u001b[0m\u001b[1;33m,\u001b[0m \u001b[0mlevel\u001b[0m\u001b[1;33m+\u001b[0m\u001b[1;36m1\u001b[0m\u001b[1;33m)\u001b[0m\u001b[1;33m\u001b[0m\u001b[1;33m\u001b[0m\u001b[0m\n\u001b[0m",
      "\u001b[1;32m~\\AppData\\Local\\Temp/ipykernel_15656/291839487.py\u001b[0m in \u001b[0;36mexploreMovesFromNode\u001b[1;34m(node0, level)\u001b[0m\n\u001b[0;32m     59\u001b[0m \u001b[1;33m\u001b[0m\u001b[0m\n\u001b[0;32m     60\u001b[0m                     \u001b[1;32melse\u001b[0m\u001b[1;33m:\u001b[0m\u001b[1;33m\u001b[0m\u001b[1;33m\u001b[0m\u001b[0m\n\u001b[1;32m---> 61\u001b[1;33m                         \u001b[0mexploreMovesFromNode\u001b[0m\u001b[1;33m(\u001b[0m\u001b[0mmovn0\u001b[0m\u001b[1;33m,\u001b[0m \u001b[0mlevel\u001b[0m\u001b[1;33m+\u001b[0m\u001b[1;36m1\u001b[0m\u001b[1;33m)\u001b[0m\u001b[1;33m\u001b[0m\u001b[1;33m\u001b[0m\u001b[0m\n\u001b[0m",
      "\u001b[1;32m~\\AppData\\Local\\Temp/ipykernel_15656/291839487.py\u001b[0m in \u001b[0;36mexploreMovesFromNode\u001b[1;34m(node0, level)\u001b[0m\n\u001b[0;32m     59\u001b[0m \u001b[1;33m\u001b[0m\u001b[0m\n\u001b[0;32m     60\u001b[0m                     \u001b[1;32melse\u001b[0m\u001b[1;33m:\u001b[0m\u001b[1;33m\u001b[0m\u001b[1;33m\u001b[0m\u001b[0m\n\u001b[1;32m---> 61\u001b[1;33m                         \u001b[0mexploreMovesFromNode\u001b[0m\u001b[1;33m(\u001b[0m\u001b[0mmovn0\u001b[0m\u001b[1;33m,\u001b[0m \u001b[0mlevel\u001b[0m\u001b[1;33m+\u001b[0m\u001b[1;36m1\u001b[0m\u001b[1;33m)\u001b[0m\u001b[1;33m\u001b[0m\u001b[1;33m\u001b[0m\u001b[0m\n\u001b[0m",
      "\u001b[1;32m~\\AppData\\Local\\Temp/ipykernel_15656/291839487.py\u001b[0m in \u001b[0;36mexploreMovesFromNode\u001b[1;34m(node0, level)\u001b[0m\n\u001b[0;32m     59\u001b[0m \u001b[1;33m\u001b[0m\u001b[0m\n\u001b[0;32m     60\u001b[0m                     \u001b[1;32melse\u001b[0m\u001b[1;33m:\u001b[0m\u001b[1;33m\u001b[0m\u001b[1;33m\u001b[0m\u001b[0m\n\u001b[1;32m---> 61\u001b[1;33m                         \u001b[0mexploreMovesFromNode\u001b[0m\u001b[1;33m(\u001b[0m\u001b[0mmovn0\u001b[0m\u001b[1;33m,\u001b[0m \u001b[0mlevel\u001b[0m\u001b[1;33m+\u001b[0m\u001b[1;36m1\u001b[0m\u001b[1;33m)\u001b[0m\u001b[1;33m\u001b[0m\u001b[1;33m\u001b[0m\u001b[0m\n\u001b[0m",
      "\u001b[1;32m~\\AppData\\Local\\Temp/ipykernel_15656/291839487.py\u001b[0m in \u001b[0;36mexploreMovesFromNode\u001b[1;34m(node0, level)\u001b[0m\n\u001b[0;32m     59\u001b[0m \u001b[1;33m\u001b[0m\u001b[0m\n\u001b[0;32m     60\u001b[0m                     \u001b[1;32melse\u001b[0m\u001b[1;33m:\u001b[0m\u001b[1;33m\u001b[0m\u001b[1;33m\u001b[0m\u001b[0m\n\u001b[1;32m---> 61\u001b[1;33m                         \u001b[0mexploreMovesFromNode\u001b[0m\u001b[1;33m(\u001b[0m\u001b[0mmovn0\u001b[0m\u001b[1;33m,\u001b[0m \u001b[0mlevel\u001b[0m\u001b[1;33m+\u001b[0m\u001b[1;36m1\u001b[0m\u001b[1;33m)\u001b[0m\u001b[1;33m\u001b[0m\u001b[1;33m\u001b[0m\u001b[0m\n\u001b[0m",
      "\u001b[1;32m~\\AppData\\Local\\Temp/ipykernel_15656/291839487.py\u001b[0m in \u001b[0;36mexploreMovesFromNode\u001b[1;34m(node0, level)\u001b[0m\n\u001b[0;32m     59\u001b[0m \u001b[1;33m\u001b[0m\u001b[0m\n\u001b[0;32m     60\u001b[0m                     \u001b[1;32melse\u001b[0m\u001b[1;33m:\u001b[0m\u001b[1;33m\u001b[0m\u001b[1;33m\u001b[0m\u001b[0m\n\u001b[1;32m---> 61\u001b[1;33m                         \u001b[0mexploreMovesFromNode\u001b[0m\u001b[1;33m(\u001b[0m\u001b[0mmovn0\u001b[0m\u001b[1;33m,\u001b[0m \u001b[0mlevel\u001b[0m\u001b[1;33m+\u001b[0m\u001b[1;36m1\u001b[0m\u001b[1;33m)\u001b[0m\u001b[1;33m\u001b[0m\u001b[1;33m\u001b[0m\u001b[0m\n\u001b[0m",
      "\u001b[1;32m~\\AppData\\Local\\Temp/ipykernel_15656/291839487.py\u001b[0m in \u001b[0;36mexploreMovesFromNode\u001b[1;34m(node0, level)\u001b[0m\n\u001b[0;32m     59\u001b[0m \u001b[1;33m\u001b[0m\u001b[0m\n\u001b[0;32m     60\u001b[0m                     \u001b[1;32melse\u001b[0m\u001b[1;33m:\u001b[0m\u001b[1;33m\u001b[0m\u001b[1;33m\u001b[0m\u001b[0m\n\u001b[1;32m---> 61\u001b[1;33m                         \u001b[0mexploreMovesFromNode\u001b[0m\u001b[1;33m(\u001b[0m\u001b[0mmovn0\u001b[0m\u001b[1;33m,\u001b[0m \u001b[0mlevel\u001b[0m\u001b[1;33m+\u001b[0m\u001b[1;36m1\u001b[0m\u001b[1;33m)\u001b[0m\u001b[1;33m\u001b[0m\u001b[1;33m\u001b[0m\u001b[0m\n\u001b[0m",
      "\u001b[1;32m~\\AppData\\Local\\Temp/ipykernel_15656/291839487.py\u001b[0m in \u001b[0;36mexploreMovesFromNode\u001b[1;34m(node0, level)\u001b[0m\n\u001b[0;32m     59\u001b[0m \u001b[1;33m\u001b[0m\u001b[0m\n\u001b[0;32m     60\u001b[0m                     \u001b[1;32melse\u001b[0m\u001b[1;33m:\u001b[0m\u001b[1;33m\u001b[0m\u001b[1;33m\u001b[0m\u001b[0m\n\u001b[1;32m---> 61\u001b[1;33m                         \u001b[0mexploreMovesFromNode\u001b[0m\u001b[1;33m(\u001b[0m\u001b[0mmovn0\u001b[0m\u001b[1;33m,\u001b[0m \u001b[0mlevel\u001b[0m\u001b[1;33m+\u001b[0m\u001b[1;36m1\u001b[0m\u001b[1;33m)\u001b[0m\u001b[1;33m\u001b[0m\u001b[1;33m\u001b[0m\u001b[0m\n\u001b[0m",
      "\u001b[1;32m~\\AppData\\Local\\Temp/ipykernel_15656/291839487.py\u001b[0m in \u001b[0;36mexploreMovesFromNode\u001b[1;34m(node0, level)\u001b[0m\n\u001b[0;32m     59\u001b[0m \u001b[1;33m\u001b[0m\u001b[0m\n\u001b[0;32m     60\u001b[0m                     \u001b[1;32melse\u001b[0m\u001b[1;33m:\u001b[0m\u001b[1;33m\u001b[0m\u001b[1;33m\u001b[0m\u001b[0m\n\u001b[1;32m---> 61\u001b[1;33m                         \u001b[0mexploreMovesFromNode\u001b[0m\u001b[1;33m(\u001b[0m\u001b[0mmovn0\u001b[0m\u001b[1;33m,\u001b[0m \u001b[0mlevel\u001b[0m\u001b[1;33m+\u001b[0m\u001b[1;36m1\u001b[0m\u001b[1;33m)\u001b[0m\u001b[1;33m\u001b[0m\u001b[1;33m\u001b[0m\u001b[0m\n\u001b[0m",
      "\u001b[1;32m~\\AppData\\Local\\Temp/ipykernel_15656/291839487.py\u001b[0m in \u001b[0;36mexploreMovesFromNode\u001b[1;34m(node0, level)\u001b[0m\n\u001b[0;32m     59\u001b[0m \u001b[1;33m\u001b[0m\u001b[0m\n\u001b[0;32m     60\u001b[0m                     \u001b[1;32melse\u001b[0m\u001b[1;33m:\u001b[0m\u001b[1;33m\u001b[0m\u001b[1;33m\u001b[0m\u001b[0m\n\u001b[1;32m---> 61\u001b[1;33m                         \u001b[0mexploreMovesFromNode\u001b[0m\u001b[1;33m(\u001b[0m\u001b[0mmovn0\u001b[0m\u001b[1;33m,\u001b[0m \u001b[0mlevel\u001b[0m\u001b[1;33m+\u001b[0m\u001b[1;36m1\u001b[0m\u001b[1;33m)\u001b[0m\u001b[1;33m\u001b[0m\u001b[1;33m\u001b[0m\u001b[0m\n\u001b[0m",
      "\u001b[1;32m~\\AppData\\Local\\Temp/ipykernel_15656/291839487.py\u001b[0m in \u001b[0;36mexploreMovesFromNode\u001b[1;34m(node0, level)\u001b[0m\n\u001b[0;32m     59\u001b[0m \u001b[1;33m\u001b[0m\u001b[0m\n\u001b[0;32m     60\u001b[0m                     \u001b[1;32melse\u001b[0m\u001b[1;33m:\u001b[0m\u001b[1;33m\u001b[0m\u001b[1;33m\u001b[0m\u001b[0m\n\u001b[1;32m---> 61\u001b[1;33m                         \u001b[0mexploreMovesFromNode\u001b[0m\u001b[1;33m(\u001b[0m\u001b[0mmovn0\u001b[0m\u001b[1;33m,\u001b[0m \u001b[0mlevel\u001b[0m\u001b[1;33m+\u001b[0m\u001b[1;36m1\u001b[0m\u001b[1;33m)\u001b[0m\u001b[1;33m\u001b[0m\u001b[1;33m\u001b[0m\u001b[0m\n\u001b[0m",
      "\u001b[1;32m~\\AppData\\Local\\Temp/ipykernel_15656/291839487.py\u001b[0m in \u001b[0;36mexploreMovesFromNode\u001b[1;34m(node0, level)\u001b[0m\n\u001b[0;32m     59\u001b[0m \u001b[1;33m\u001b[0m\u001b[0m\n\u001b[0;32m     60\u001b[0m                     \u001b[1;32melse\u001b[0m\u001b[1;33m:\u001b[0m\u001b[1;33m\u001b[0m\u001b[1;33m\u001b[0m\u001b[0m\n\u001b[1;32m---> 61\u001b[1;33m                         \u001b[0mexploreMovesFromNode\u001b[0m\u001b[1;33m(\u001b[0m\u001b[0mmovn0\u001b[0m\u001b[1;33m,\u001b[0m \u001b[0mlevel\u001b[0m\u001b[1;33m+\u001b[0m\u001b[1;36m1\u001b[0m\u001b[1;33m)\u001b[0m\u001b[1;33m\u001b[0m\u001b[1;33m\u001b[0m\u001b[0m\n\u001b[0m",
      "\u001b[1;32m~\\AppData\\Local\\Temp/ipykernel_15656/291839487.py\u001b[0m in \u001b[0;36mexploreMovesFromNode\u001b[1;34m(node0, level)\u001b[0m\n\u001b[0;32m     59\u001b[0m \u001b[1;33m\u001b[0m\u001b[0m\n\u001b[0;32m     60\u001b[0m                     \u001b[1;32melse\u001b[0m\u001b[1;33m:\u001b[0m\u001b[1;33m\u001b[0m\u001b[1;33m\u001b[0m\u001b[0m\n\u001b[1;32m---> 61\u001b[1;33m                         \u001b[0mexploreMovesFromNode\u001b[0m\u001b[1;33m(\u001b[0m\u001b[0mmovn0\u001b[0m\u001b[1;33m,\u001b[0m \u001b[0mlevel\u001b[0m\u001b[1;33m+\u001b[0m\u001b[1;36m1\u001b[0m\u001b[1;33m)\u001b[0m\u001b[1;33m\u001b[0m\u001b[1;33m\u001b[0m\u001b[0m\n\u001b[0m",
      "\u001b[1;32m~\\AppData\\Local\\Temp/ipykernel_15656/291839487.py\u001b[0m in \u001b[0;36mexploreMovesFromNode\u001b[1;34m(node0, level)\u001b[0m\n\u001b[0;32m      8\u001b[0m \u001b[1;33m\u001b[0m\u001b[0m\n\u001b[0;32m      9\u001b[0m     \u001b[0mamps0\u001b[0m \u001b[1;33m=\u001b[0m \u001b[0mnode0\u001b[0m\u001b[1;33m.\u001b[0m\u001b[0mamphipods\u001b[0m\u001b[1;33m\u001b[0m\u001b[1;33m\u001b[0m\u001b[0m\n\u001b[1;32m---> 10\u001b[1;33m     \u001b[0mmovs\u001b[0m \u001b[1;33m=\u001b[0m \u001b[0mgetMovements\u001b[0m\u001b[1;33m(\u001b[0m\u001b[0mamps0\u001b[0m\u001b[1;33m)\u001b[0m\u001b[1;33m\u001b[0m\u001b[1;33m\u001b[0m\u001b[0m\n\u001b[0m\u001b[0;32m     11\u001b[0m \u001b[1;33m\u001b[0m\u001b[0m\n\u001b[0;32m     12\u001b[0m     \u001b[0mmovenodes\u001b[0m\u001b[1;33m=\u001b[0m\u001b[1;32mNone\u001b[0m\u001b[1;33m\u001b[0m\u001b[1;33m\u001b[0m\u001b[0m\n",
      "\u001b[1;32m~\\AppData\\Local\\Temp/ipykernel_15656/3266083815.py\u001b[0m in \u001b[0;36mgetMovements\u001b[1;34m(amphipods)\u001b[0m\n\u001b[0;32m     95\u001b[0m                     \u001b[0msteps\u001b[0m\u001b[1;33m+=\u001b[0m\u001b[1;36m1\u001b[0m\u001b[1;33m\u001b[0m\u001b[1;33m\u001b[0m\u001b[0m\n\u001b[0;32m     96\u001b[0m                     \u001b[1;31m#Check if there is an amphipod there\u001b[0m\u001b[1;33m\u001b[0m\u001b[1;33m\u001b[0m\u001b[1;33m\u001b[0m\u001b[0m\n\u001b[1;32m---> 97\u001b[1;33m                     \u001b[1;32mif\u001b[0m \u001b[0misOccupied\u001b[0m\u001b[1;33m(\u001b[0m\u001b[0my\u001b[0m\u001b[1;33m,\u001b[0m\u001b[0mx\u001b[0m\u001b[1;33m,\u001b[0m\u001b[0mamphipods\u001b[0m\u001b[1;33m)\u001b[0m\u001b[1;33m:\u001b[0m\u001b[1;33m\u001b[0m\u001b[1;33m\u001b[0m\u001b[0m\n\u001b[0m\u001b[0;32m     98\u001b[0m                         \u001b[0mstillValid\u001b[0m\u001b[1;33m=\u001b[0m\u001b[1;32mFalse\u001b[0m\u001b[1;33m\u001b[0m\u001b[1;33m\u001b[0m\u001b[0m\n\u001b[0;32m     99\u001b[0m                         \u001b[1;32mbreak\u001b[0m\u001b[1;33m\u001b[0m\u001b[1;33m\u001b[0m\u001b[0m\n",
      "\u001b[1;31mKeyboardInterrupt\u001b[0m: "
     ]
    }
   ],
   "source": [
    "best_node = None\n",
    "exploreMovesFromNode(noderoot)"
   ]
  },
  {
   "cell_type": "code",
   "execution_count": null,
   "metadata": {},
   "outputs": [],
   "source": [
    "#46754  is the right answer!!"
   ]
  },
  {
   "cell_type": "code",
   "execution_count": null,
   "metadata": {},
   "outputs": [],
   "source": [
    "def printSolution(node):\n",
    "    nodes = []\n",
    "    \n",
    "    while True:\n",
    "        nodes.insert(0,node)\n",
    "        node = node.parent_node\n",
    "        if node is None:\n",
    "            break\n",
    "    \n",
    "    for n0 in nodes:\n",
    "        n0.printStatus()"
   ]
  },
  {
   "cell_type": "code",
   "execution_count": null,
   "metadata": {},
   "outputs": [
    {
     "name": "stdout",
     "output_type": "stream",
     "text": [
      "Node status. acccost:0, distance:42\n",
      "#############\n",
      "#...........#\n",
      "###.#.#.#.###\n",
      "###.#.#.#.###\n",
      "###.#.#.#.###\n",
      "###C#A#D#C###\n",
      "#############\n",
      "Node status. acccost:700, distance:35\n",
      "#############\n",
      "#.....C.....#\n",
      "###.#.#.#.###\n",
      "###.#.#.#.###\n",
      "###.#.#.#.###\n",
      "###.#A#D#C###\n",
      "#############\n",
      "Node status. acccost:705, distance:30\n",
      "#############\n",
      "#...A.C.....#\n",
      "###.#.#.#.###\n",
      "###.#.#.#.###\n",
      "###.#.#.#.###\n",
      "###.#.#D#C###\n",
      "#############\n",
      "Node status. acccost:710, distance:25\n",
      "#############\n",
      "#.....C.....#\n",
      "###.#.#.#.###\n",
      "###.#.#.#.###\n",
      "###.#.#.#.###\n",
      "###A#.#D#C###\n",
      "#############\n",
      "Node status. acccost:5710, distance:20\n",
      "#############\n",
      "#.....C.D...#\n",
      "###.#.#.#.###\n",
      "###.#.#.#.###\n",
      "###.#.#.#.###\n",
      "###A#.#.#C###\n",
      "#############\n",
      "Node status. acccost:6210, distance:15\n",
      "#############\n",
      "#.......D...#\n",
      "###.#.#.#.###\n",
      "###.#.#.#.###\n",
      "###.#.#.#.###\n",
      "###A#.#C#C###\n",
      "#############\n",
      "Node status. acccost:6710, distance:12\n",
      "#############\n",
      "#.......D.C.#\n",
      "###.#.#.#.###\n",
      "###.#.#.#.###\n",
      "###.#.#.#.###\n",
      "###A#.#C#.###\n",
      "#############\n",
      "Node status. acccost:11710, distance:7\n",
      "#############\n",
      "#.........C.#\n",
      "###.#.#.#.###\n",
      "###.#.#.#.###\n",
      "###.#.#.#.###\n",
      "###A#.#C#D###\n",
      "#############\n",
      "Node status. acccost:12310, distance:1\n",
      "#############\n",
      "#...........#\n",
      "###.#.#.#.###\n",
      "###.#.#.#.###\n",
      "###.#.#C#.###\n",
      "###A#.#C#D###\n",
      "#############\n"
     ]
    }
   ],
   "source": [
    "printSolution(best_node)"
   ]
  },
  {
   "cell_type": "code",
   "execution_count": null,
   "metadata": {},
   "outputs": [],
   "source": []
  }
 ],
 "metadata": {
  "interpreter": {
   "hash": "181599033aa013a348f55e980951d395a235453ffaaf6fbabf88e9b4b2c9ad13"
  },
  "kernelspec": {
   "display_name": "Python 3.8.12 64-bit ('dev': conda)",
   "name": "python3"
  },
  "language_info": {
   "codemirror_mode": {
    "name": "ipython",
    "version": 3
   },
   "file_extension": ".py",
   "mimetype": "text/x-python",
   "name": "python",
   "nbconvert_exporter": "python",
   "pygments_lexer": "ipython3",
   "version": "3.8.12"
  },
  "orig_nbformat": 4
 },
 "nbformat": 4,
 "nbformat_minor": 2
}
