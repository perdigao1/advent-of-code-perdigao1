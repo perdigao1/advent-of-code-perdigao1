{
 "cells": [
  {
   "cell_type": "code",
   "execution_count": 7,
   "metadata": {},
   "outputs": [],
   "source": [
    "import numpy as np"
   ]
  },
  {
   "cell_type": "code",
   "execution_count": 8,
   "metadata": {},
   "outputs": [],
   "source": [
    "class reactor:\n",
    "\n",
    "    def __init__(self, xmin,xmax , ymin,ymax , zmin, zmax):\n",
    "        shape=( xmax-xmin+1 , ymax-ymin+1 , zmax-zmin+1)\n",
    "        self.volume = np.zeros( shape, dtype=bool)\n",
    "        self.xmin = xmin\n",
    "        self.xmax = xmax\n",
    "        self.ymin = ymin\n",
    "        self.ymax = ymax\n",
    "        self.zmin = zmin\n",
    "        self.zmax = zmax\n",
    "\n",
    "    def orderasc(self,x,y):\n",
    "        x0=x\n",
    "        y0=y\n",
    "        if x0>y0:\n",
    "            return y0,x0\n",
    "        return x0,y0\n",
    "\n",
    "\n",
    "    def turnOnOrOff(self, xmin,xmax, ymin,ymax, zmin,zmax, turnon = True):\n",
    "        xmin,xmax = self.orderasc(xmin,xmax)\n",
    "        #print(f\"xmin,xmax = {xmin},{xmax}\")\n",
    "        if xmin>= self.xmin and xmin < self.xmax and xmax<=self.xmax:\n",
    "            xc_min = xmin-self.xmin\n",
    "            xc_max = xmax - self.xmin+1\n",
    "\n",
    "            ymin,ymax = self.orderasc(ymin,ymax)\n",
    "            #print(f\"ymin,ymax = {ymin},{ymax}\")\n",
    "            if ymin>= self.ymin and ymin < self.ymax and ymax<=self.ymax:\n",
    "                yc_min = ymin-self.ymin\n",
    "                yc_max = ymax - self.ymin+1\n",
    "\n",
    "                zmin,zmax = self.orderasc(zmin,zmax)\n",
    "                #print(f\"zmin,zmax = {zmin},{zmax}\")\n",
    "                if zmin>= self.zmin and zmin < self.zmax and zmax<=self.zmax:\n",
    "                    zc_min = zmin-self.zmin\n",
    "                    zc_max = zmax - self.zmin+1\n",
    "\n",
    "                    vol = (zc_max-zc_min)*(yc_max-yc_min)*(xc_max-xc_min)\n",
    "\n",
    "                    #print(f\"xc : {xc_min},{xc_max} ; yc: {yc_min},{yc_max} ; zc: {zc_min},{zc_max} ; volume = {vol}, turnval={turnval}\")\n",
    "\n",
    "                    self.volume[xc_min:xc_max, yc_min:yc_max , zc_min:zc_max] = turnon\n",
    "                else:\n",
    "                    print(\"z out of bounds\")\n",
    "                    return\n",
    "            else:\n",
    "                print(\"y out of bounds\")\n",
    "                return\n",
    "        else:\n",
    "            print(\"x out of bounds\")\n",
    "            return"
   ]
  },
  {
   "cell_type": "code",
   "execution_count": 9,
   "metadata": {},
   "outputs": [],
   "source": [
    "filename = \"input_reboot_test.txt\" #Expected 2758514936282235 to be on, with 474140 in initialisation region\n",
    "filename = \"input_reboot_test_short.txt\" #to compare with vectorial version"
   ]
  },
  {
   "cell_type": "code",
   "execution_count": 10,
   "metadata": {},
   "outputs": [
    {
     "name": "stdout",
     "output_type": "stream",
     "text": [
      "['on x=-5..47,y=-31..22,z=-19..33', 'on x=-44..5,y=-27..21,z=-14..35', 'on x=-49..-1,y=-11..42,z=-10..38', 'on x=-20..34,y=-40..6,z=-44..1', 'off x=26..39,y=40..50,z=-2..11', 'on x=-41..5,y=-41..6,z=-36..8', 'off x=-43..-33,y=-45..-28,z=7..25', 'on x=-33..15,y=-32..19,z=-34..11', 'off x=35..47,y=-46..-34,z=-11..5', 'on x=-14..36,y=-6..44,z=-16..29']\n"
     ]
    }
   ],
   "source": [
    "with open(filename,'r') as f:\n",
    "    lines = f.read().splitlines()\n",
    "print(lines)"
   ]
  },
  {
   "cell_type": "code",
   "execution_count": 11,
   "metadata": {},
   "outputs": [],
   "source": [
    "#Get maximiums for each axis"
   ]
  },
  {
   "cell_type": "code",
   "execution_count": 12,
   "metadata": {},
   "outputs": [
    {
     "name": "stdout",
     "output_type": "stream",
     "text": [
      "xcoords, ycoords, zcoords = [-5, 47],[-31, 22],[-19, 33] ; turnon=True\n",
      "xcoords, ycoords, zcoords = [-44, 5],[-27, 21],[-14, 35] ; turnon=True\n",
      "xcoords, ycoords, zcoords = [-49, -1],[-11, 42],[-10, 38] ; turnon=True\n",
      "xcoords, ycoords, zcoords = [-20, 34],[-40, 6],[-44, 1] ; turnon=True\n",
      "xcoords, ycoords, zcoords = [26, 39],[40, 50],[-2, 11] ; turnon=False\n",
      "xcoords, ycoords, zcoords = [-41, 5],[-41, 6],[-36, 8] ; turnon=True\n",
      "xcoords, ycoords, zcoords = [-43, -33],[-45, -28],[7, 25] ; turnon=False\n",
      "xcoords, ycoords, zcoords = [-33, 15],[-32, 19],[-34, 11] ; turnon=True\n",
      "xcoords, ycoords, zcoords = [35, 47],[-46, -34],[-11, 5] ; turnon=False\n",
      "xcoords, ycoords, zcoords = [-14, 36],[-6, 44],[-16, 29] ; turnon=True\n",
      "xmin,xmax = -14,36\n",
      "ymin,ymax = -6,44\n",
      "zmin,zmax = -16,29\n"
     ]
    }
   ],
   "source": [
    "xmin,xmax = None,None\n",
    "ymin, ymax = None, None\n",
    "zmin,zmax = None, None\n",
    "\n",
    "isfirstelement = True\n",
    "\n",
    "for l0 in lines:\n",
    "    turnon = True\n",
    "    if l0.find(\"off\")>=0:\n",
    "        turnon = False\n",
    "    \n",
    "    #Get coordinates\n",
    "    xpos = l0.find(\"x=\")\n",
    "    ypos = l0.find(\"y=\")\n",
    "    zpos = l0.find(\"z=\")\n",
    "\n",
    "    xcoords = list(map(int,l0[xpos+2:ypos].replace(',','').split('..')))\n",
    "    ycoords = list(map(int,l0[ypos+2:zpos].replace(',','').split('..')))\n",
    "    zcoords = list(map(int,l0[zpos+2:].replace(',','').split('..')))\n",
    "\n",
    "    print(f\"xcoords, ycoords, zcoords = {xcoords},{ycoords},{zcoords} ; turnon={turnon}\")\n",
    "\n",
    "    if isfirstelement:\n",
    "        xmin , xmax = xcoords\n",
    "        ymin,ymax = ycoords\n",
    "        zmin,zmax = zcoords\n",
    "    else:\n",
    "        xmin = min(xmin,xcoords[0])\n",
    "        xmax = max(xmax,xcoords[1])\n",
    "        ymin = min(ymin,ycoords[0])\n",
    "        ymax = max(ymax, ycoords[1])\n",
    "        zmin = min(zmin, zcoords[0])\n",
    "        zmax = max(zmax, zcoords[1])\n",
    "\n",
    "print (f\"xmin,xmax = {xmin},{xmax}\")\n",
    "print (f\"ymin,ymax = {ymin},{ymax}\")\n",
    "print (f\"zmin,zmax = {zmin},{zmax}\")\n"
   ]
  },
  {
   "cell_type": "code",
   "execution_count": 14,
   "metadata": {},
   "outputs": [
    {
     "data": {
      "text/plain": [
       "-14"
      ]
     },
     "execution_count": 14,
     "metadata": {},
     "output_type": "execute_result"
    }
   ],
   "source": [
    "xmin"
   ]
  },
  {
   "cell_type": "code",
   "execution_count": 18,
   "metadata": {},
   "outputs": [],
   "source": [
    "myreactor = reactor(xmin,xmax,ymin,ymax,zmin,zmax)"
   ]
  },
  {
   "cell_type": "code",
   "execution_count": 19,
   "metadata": {},
   "outputs": [
    {
     "name": "stdout",
     "output_type": "stream",
     "text": [
      "xcoords, ycoords, zcoords = [-5, 47],[-31, 22],[-19, 33] ; turnon=True\n",
      "x out of bounds\n",
      "xcoords, ycoords, zcoords = [-44, 5],[-27, 21],[-14, 35] ; turnon=True\n",
      "x out of bounds\n",
      "xcoords, ycoords, zcoords = [-49, -1],[-11, 42],[-10, 38] ; turnon=True\n",
      "x out of bounds\n",
      "xcoords, ycoords, zcoords = [-20, 34],[-40, 6],[-44, 1] ; turnon=True\n",
      "x out of bounds\n",
      "xcoords, ycoords, zcoords = [26, 39],[40, 50],[-2, 11] ; turnon=False\n",
      "x out of bounds\n",
      "xcoords, ycoords, zcoords = [-41, 5],[-41, 6],[-36, 8] ; turnon=True\n",
      "x out of bounds\n",
      "xcoords, ycoords, zcoords = [-43, -33],[-45, -28],[7, 25] ; turnon=False\n",
      "x out of bounds\n",
      "xcoords, ycoords, zcoords = [-33, 15],[-32, 19],[-34, 11] ; turnon=True\n",
      "x out of bounds\n",
      "xcoords, ycoords, zcoords = [35, 47],[-46, -34],[-11, 5] ; turnon=False\n",
      "x out of bounds\n",
      "xcoords, ycoords, zcoords = [-14, 36],[-6, 44],[-16, 29] ; turnon=True\n"
     ]
    }
   ],
   "source": [
    "xmin,xmax = None,None\n",
    "ymin, ymax = None, None\n",
    "zmin,zmax = None, None\n",
    "\n",
    "isfirstelement = True\n",
    "\n",
    "for l0 in lines:\n",
    "    turnon = True\n",
    "    if l0.find(\"off\")>=0:\n",
    "        turnon = False\n",
    "    \n",
    "    #Get coordinates\n",
    "    xpos = l0.find(\"x=\")\n",
    "    ypos = l0.find(\"y=\")\n",
    "    zpos = l0.find(\"z=\")\n",
    "\n",
    "    xcoords = list(map(int,l0[xpos+2:ypos].replace(',','').split('..')))\n",
    "    ycoords = list(map(int,l0[ypos+2:zpos].replace(',','').split('..')))\n",
    "    zcoords = list(map(int,l0[zpos+2:].replace(',','').split('..')))\n",
    "\n",
    "    print(f\"xcoords, ycoords, zcoords = {xcoords},{ycoords},{zcoords} ; turnon={turnon}\")\n",
    "\n",
    "    myreactor.turnOnOrOff(xcoords[0], xcoords[1], ycoords[0], ycoords[1], zcoords[0], zcoords[1], turnon)\n"
   ]
  },
  {
   "cell_type": "code",
   "execution_count": 20,
   "metadata": {},
   "outputs": [
    {
     "data": {
      "text/plain": [
       "119646"
      ]
     },
     "execution_count": 20,
     "metadata": {},
     "output_type": "execute_result"
    }
   ],
   "source": [
    "np.sum(np.array(myreactor.volume, dtype=np.int32))"
   ]
  },
  {
   "cell_type": "code",
   "execution_count": null,
   "metadata": {},
   "outputs": [],
   "source": []
  }
 ],
 "metadata": {
  "interpreter": {
   "hash": "181599033aa013a348f55e980951d395a235453ffaaf6fbabf88e9b4b2c9ad13"
  },
  "kernelspec": {
   "display_name": "Python 3.8.12 64-bit ('dev': conda)",
   "language": "python",
   "name": "python3"
  },
  "language_info": {
   "codemirror_mode": {
    "name": "ipython",
    "version": 3
   },
   "file_extension": ".py",
   "mimetype": "text/x-python",
   "name": "python",
   "nbconvert_exporter": "python",
   "pygments_lexer": "ipython3",
   "version": "3.8.12"
  },
  "orig_nbformat": 4
 },
 "nbformat": 4,
 "nbformat_minor": 2
}
