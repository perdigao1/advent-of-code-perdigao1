{
 "cells": [
  {
   "cell_type": "code",
   "execution_count": 8,
   "metadata": {},
   "outputs": [],
   "source": [
    "import numpy as np"
   ]
  },
  {
   "cell_type": "code",
   "execution_count": 9,
   "metadata": {},
   "outputs": [],
   "source": [
    "class reactor:\n",
    "\n",
    "    def __init__(self, xmin,xmax , ymin,ymax , zmin, zmax):\n",
    "        shape=( xmax-xmin+1 , ymax-ymin+1 , zmax-zmin+1)\n",
    "        self.volume = np.zeros( shape, dtype=np.int32 )\n",
    "        self.xmin = xmin\n",
    "        self.xmax = xmax\n",
    "        self.ymin = ymin\n",
    "        self.ymax = ymax\n",
    "        self.zmin = zmin\n",
    "        self.zmax = zmax\n",
    "\n",
    "    def orderasc(self,x,y):\n",
    "        x0=x\n",
    "        y0=y\n",
    "        if x0>y0:\n",
    "            return y0,x0\n",
    "        return x0,y0\n",
    "\n",
    "\n",
    "    def turnOnOrOff(self, xmin,xmax, ymin,ymax, zmin,zmax, turn=\"on\"):\n",
    "        xmin,xmax = self.orderasc(xmin,xmax)\n",
    "        #print(f\"xmin,xmax = {xmin},{xmax}\")\n",
    "        if xmin>= self.xmin and xmin < self.xmax and xmax<=self.xmax:\n",
    "            xc_min = xmin-self.xmin\n",
    "            xc_max = xmax - self.xmin+1\n",
    "\n",
    "            ymin,ymax = self.orderasc(ymin,ymax)\n",
    "            #print(f\"ymin,ymax = {ymin},{ymax}\")\n",
    "            if ymin>= self.ymin and ymin < self.ymax and ymax<=self.ymax:\n",
    "                yc_min = ymin-self.ymin\n",
    "                yc_max = ymax - self.ymin+1\n",
    "\n",
    "                zmin,zmax = self.orderasc(zmin,zmax)\n",
    "                #print(f\"zmin,zmax = {zmin},{zmax}\")\n",
    "                if zmin>= self.zmin and zmin < self.zmax and zmax<=self.zmax:\n",
    "                    zc_min = zmin-self.zmin\n",
    "                    zc_max = zmax - self.zmin+1\n",
    "\n",
    "                    #modshape = (xc_max-xc_min, yc_max-yc_min , zc_max-zc_min)\n",
    "                    turnval = 0\n",
    "                    if turn==\"on\":\n",
    "                        turnval=1\n",
    "                    \n",
    "                    vol = (zc_max-zc_min)*(yc_max-yc_min)*(xc_max-xc_min)\n",
    "\n",
    "                    #print(f\"xc : {xc_min},{xc_max} ; yc: {yc_min},{yc_max} ; zc: {zc_min},{zc_max} ; volume = {vol}, turnval={turnval}\")\n",
    "\n",
    "                    self.volume[xc_min:xc_max, yc_min:yc_max , zc_min:zc_max] = turnval\n",
    "                else:\n",
    "                    print(\"z out of bounds\")\n",
    "                    return\n",
    "            else:\n",
    "                print(\"y out of bounds\")\n",
    "                return\n",
    "        else:\n",
    "            print(\"x out of bounds\")\n",
    "            return"
   ]
  },
  {
   "cell_type": "code",
   "execution_count": 10,
   "metadata": {},
   "outputs": [
    {
     "name": "stdout",
     "output_type": "stream",
     "text": [
      "reactor shape = (101, 101, 101)\n"
     ]
    }
   ],
   "source": [
    "#react0 = reactor(0,15, 0,15 , 0,15)\n",
    "react0 = reactor(-50,50, -50,50 , -50,50)\n",
    "\n",
    "print(f\"reactor shape = {react0.volume.shape}\")"
   ]
  },
  {
   "cell_type": "code",
   "execution_count": 11,
   "metadata": {},
   "outputs": [],
   "source": [
    "filename = \"input_test.txt\" # expected 590784\n",
    "#filename = \"input_test_small.txt\"\n",
    "#filename = \"input.txt\" #final result 607573\n",
    "#filename = \"input_reboot_test.txt\" #expected 474140"
   ]
  },
  {
   "cell_type": "code",
   "execution_count": 12,
   "metadata": {},
   "outputs": [
    {
     "name": "stdout",
     "output_type": "stream",
     "text": [
      "['on x=-20..26,y=-36..17,z=-47..7', 'on x=-20..33,y=-21..23,z=-26..28', 'on x=-22..28,y=-29..23,z=-38..16', 'on x=-46..7,y=-6..46,z=-50..-1', 'on x=-49..1,y=-3..46,z=-24..28', 'on x=2..47,y=-22..22,z=-23..27', 'on x=-27..23,y=-28..26,z=-21..29', 'on x=-39..5,y=-6..47,z=-3..44', 'on x=-30..21,y=-8..43,z=-13..34', 'on x=-22..26,y=-27..20,z=-29..19', 'off x=-48..-32,y=26..41,z=-47..-37', 'on x=-12..35,y=6..50,z=-50..-2', 'off x=-48..-32,y=-32..-16,z=-15..-5', 'on x=-18..26,y=-33..15,z=-7..46', 'off x=-40..-22,y=-38..-28,z=23..41', 'on x=-16..35,y=-41..10,z=-47..6', 'off x=-32..-23,y=11..30,z=-14..3', 'on x=-49..-5,y=-3..45,z=-29..18', 'off x=18..30,y=-20..-8,z=-3..13', 'on x=-41..9,y=-7..43,z=-33..15', 'on x=-54112..-39298,y=-85059..-49293,z=-27449..7877', 'on x=967..23432,y=45373..81175,z=27513..53682']\n"
     ]
    }
   ],
   "source": [
    "with open(filename,'r') as f:\n",
    "    lines = f.read().splitlines()\n",
    "print(lines)"
   ]
  },
  {
   "cell_type": "code",
   "execution_count": 13,
   "metadata": {},
   "outputs": [
    {
     "name": "stdout",
     "output_type": "stream",
     "text": [
      "xcoords, ycoords, zcoords = [-20, 26],[-36, 17],[-47, 7] ; turn=on\n",
      "xcoords, ycoords, zcoords = [-20, 33],[-21, 23],[-26, 28] ; turn=on\n",
      "xcoords, ycoords, zcoords = [-22, 28],[-29, 23],[-38, 16] ; turn=on\n",
      "xcoords, ycoords, zcoords = [-46, 7],[-6, 46],[-50, -1] ; turn=on\n",
      "xcoords, ycoords, zcoords = [-49, 1],[-3, 46],[-24, 28] ; turn=on\n",
      "xcoords, ycoords, zcoords = [2, 47],[-22, 22],[-23, 27] ; turn=on\n",
      "xcoords, ycoords, zcoords = [-27, 23],[-28, 26],[-21, 29] ; turn=on\n",
      "xcoords, ycoords, zcoords = [-39, 5],[-6, 47],[-3, 44] ; turn=on\n",
      "xcoords, ycoords, zcoords = [-30, 21],[-8, 43],[-13, 34] ; turn=on\n",
      "xcoords, ycoords, zcoords = [-22, 26],[-27, 20],[-29, 19] ; turn=on\n",
      "xcoords, ycoords, zcoords = [-48, -32],[26, 41],[-47, -37] ; turn=off\n",
      "xcoords, ycoords, zcoords = [-12, 35],[6, 50],[-50, -2] ; turn=on\n",
      "xcoords, ycoords, zcoords = [-48, -32],[-32, -16],[-15, -5] ; turn=off\n",
      "xcoords, ycoords, zcoords = [-18, 26],[-33, 15],[-7, 46] ; turn=on\n",
      "xcoords, ycoords, zcoords = [-40, -22],[-38, -28],[23, 41] ; turn=off\n",
      "xcoords, ycoords, zcoords = [-16, 35],[-41, 10],[-47, 6] ; turn=on\n",
      "xcoords, ycoords, zcoords = [-32, -23],[11, 30],[-14, 3] ; turn=off\n",
      "xcoords, ycoords, zcoords = [-49, -5],[-3, 45],[-29, 18] ; turn=on\n",
      "xcoords, ycoords, zcoords = [18, 30],[-20, -8],[-3, 13] ; turn=off\n",
      "xcoords, ycoords, zcoords = [-41, 9],[-7, 43],[-33, 15] ; turn=on\n",
      "xcoords, ycoords, zcoords = [-54112, -39298],[-85059, -49293],[-27449, 7877] ; turn=on\n",
      "x out of bounds\n",
      "xcoords, ycoords, zcoords = [967, 23432],[45373, 81175],[27513, 53682] ; turn=on\n",
      "x out of bounds\n"
     ]
    }
   ],
   "source": [
    "for l0 in lines:\n",
    "    turn = 'on'\n",
    "    if l0.find(\"off\")>=0:\n",
    "        turn = 'off'\n",
    "    \n",
    "    #Get coordinates\n",
    "    xpos = l0.find(\"x=\")\n",
    "    ypos = l0.find(\"y=\")\n",
    "    zpos = l0.find(\"z=\")\n",
    "\n",
    "    xcoords = list(map(int,l0[xpos+2:ypos].replace(',','').split('..')))\n",
    "    ycoords = list(map(int,l0[ypos+2:zpos].replace(',','').split('..')))\n",
    "    zcoords = list(map(int,l0[zpos+2:].replace(',','').split('..')))\n",
    "\n",
    "    print(f\"xcoords, ycoords, zcoords = {xcoords},{ycoords},{zcoords} ; turn={turn}\")\n",
    "    react0.turnOnOrOff(xcoords[0], xcoords[1] , ycoords[0], ycoords[1] , zcoords[0],zcoords[1], turn)\n"
   ]
  },
  {
   "cell_type": "code",
   "execution_count": 14,
   "metadata": {},
   "outputs": [
    {
     "data": {
      "text/plain": [
       "590784"
      ]
     },
     "execution_count": 14,
     "metadata": {},
     "output_type": "execute_result"
    }
   ],
   "source": [
    "np.sum(react0.volume) #OK"
   ]
  },
  {
   "cell_type": "code",
   "execution_count": null,
   "metadata": {},
   "outputs": [],
   "source": []
  },
  {
   "cell_type": "code",
   "execution_count": null,
   "metadata": {},
   "outputs": [],
   "source": []
  }
 ],
 "metadata": {
  "interpreter": {
   "hash": "181599033aa013a348f55e980951d395a235453ffaaf6fbabf88e9b4b2c9ad13"
  },
  "kernelspec": {
   "display_name": "Python 3.8.12 64-bit ('dev': conda)",
   "language": "python",
   "name": "python3"
  },
  "language_info": {
   "codemirror_mode": {
    "name": "ipython",
    "version": 3
   },
   "file_extension": ".py",
   "mimetype": "text/x-python",
   "name": "python",
   "nbconvert_exporter": "python",
   "pygments_lexer": "ipython3",
   "version": "3.8.12"
  },
  "orig_nbformat": 4
 },
 "nbformat": 4,
 "nbformat_minor": 2
}
