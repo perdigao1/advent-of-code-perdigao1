{
 "cells": [
  {
   "cell_type": "code",
   "execution_count": 1,
   "metadata": {},
   "outputs": [],
   "source": [
    "#filename = \"data_test.txt\"\n",
    "filename = \"data.txt\""
   ]
  },
  {
   "cell_type": "code",
   "execution_count": 2,
   "metadata": {},
   "outputs": [],
   "source": [
    "steps=40"
   ]
  },
  {
   "cell_type": "code",
   "execution_count": 3,
   "metadata": {},
   "outputs": [],
   "source": [
    "with open(filename,\"r\") as f:\n",
    "    lines = f.read().splitlines()"
   ]
  },
  {
   "cell_type": "code",
   "execution_count": 4,
   "metadata": {},
   "outputs": [
    {
     "data": {
      "text/plain": [
       "'VHCKBFOVCHHKOHBPNCKO'"
      ]
     },
     "execution_count": 4,
     "metadata": {},
     "output_type": "execute_result"
    }
   ],
   "source": [
    "#first line is the initial sequence\n",
    "\n",
    "sequence0 = lines[0]\n",
    "sequence0"
   ]
  },
  {
   "cell_type": "code",
   "execution_count": 5,
   "metadata": {},
   "outputs": [],
   "source": [
    "#Lines from index 2 are the 'dictionary'\n",
    "seq_repl_dict = {}\n",
    "for i in range(2, len(lines)):\n",
    "    li = lines[i]\n",
    "    seq, repl = li.split(' -> ')\n",
    "    seq_repl_dict[seq]= repl"
   ]
  },
  {
   "cell_type": "code",
   "execution_count": 6,
   "metadata": {},
   "outputs": [
    {
     "data": {
      "text/plain": [
       "{'SO': 'F',\n",
       " 'OP': 'V',\n",
       " 'NF': 'F',\n",
       " 'BO': 'V',\n",
       " 'BH': 'S',\n",
       " 'VB': 'B',\n",
       " 'SV': 'B',\n",
       " 'BK': 'S',\n",
       " 'KC': 'N',\n",
       " 'SP': 'O',\n",
       " 'CP': 'O',\n",
       " 'VN': 'O',\n",
       " 'HO': 'S',\n",
       " 'PC': 'B',\n",
       " 'CS': 'O',\n",
       " 'PO': 'K',\n",
       " 'KF': 'B',\n",
       " 'BP': 'K',\n",
       " 'VO': 'O',\n",
       " 'HB': 'N',\n",
       " 'PH': 'O',\n",
       " 'FF': 'O',\n",
       " 'FB': 'K',\n",
       " 'CC': 'H',\n",
       " 'FK': 'F',\n",
       " 'HV': 'P',\n",
       " 'CO': 'S',\n",
       " 'OC': 'N',\n",
       " 'KV': 'V',\n",
       " 'SS': 'O',\n",
       " 'FC': 'O',\n",
       " 'NP': 'B',\n",
       " 'OH': 'B',\n",
       " 'OF': 'K',\n",
       " 'KB': 'K',\n",
       " 'BN': 'C',\n",
       " 'OK': 'C',\n",
       " 'NC': 'O',\n",
       " 'NO': 'O',\n",
       " 'FS': 'C',\n",
       " 'VP': 'K',\n",
       " 'KP': 'S',\n",
       " 'VS': 'B',\n",
       " 'VV': 'N',\n",
       " 'NN': 'P',\n",
       " 'KH': 'P',\n",
       " 'OB': 'H',\n",
       " 'HP': 'H',\n",
       " 'KK': 'H',\n",
       " 'FH': 'F',\n",
       " 'KS': 'V',\n",
       " 'BS': 'V',\n",
       " 'SN': 'H',\n",
       " 'CB': 'B',\n",
       " 'HN': 'K',\n",
       " 'SB': 'O',\n",
       " 'OS': 'K',\n",
       " 'BC': 'H',\n",
       " 'OV': 'N',\n",
       " 'PN': 'B',\n",
       " 'VH': 'N',\n",
       " 'SK': 'C',\n",
       " 'PV': 'K',\n",
       " 'VC': 'N',\n",
       " 'PF': 'S',\n",
       " 'NB': 'B',\n",
       " 'PP': 'S',\n",
       " 'NS': 'F',\n",
       " 'PB': 'B',\n",
       " 'CV': 'C',\n",
       " 'HK': 'P',\n",
       " 'PK': 'S',\n",
       " 'NH': 'B',\n",
       " 'SH': 'V',\n",
       " 'KO': 'H',\n",
       " 'NV': 'B',\n",
       " 'HH': 'V',\n",
       " 'FO': 'O',\n",
       " 'CK': 'O',\n",
       " 'VK': 'F',\n",
       " 'HF': 'O',\n",
       " 'BF': 'C',\n",
       " 'BV': 'P',\n",
       " 'KN': 'K',\n",
       " 'VF': 'C',\n",
       " 'FN': 'V',\n",
       " 'ON': 'C',\n",
       " 'SF': 'F',\n",
       " 'SC': 'C',\n",
       " 'OO': 'S',\n",
       " 'FP': 'K',\n",
       " 'PS': 'C',\n",
       " 'NK': 'O',\n",
       " 'BB': 'V',\n",
       " 'HC': 'H',\n",
       " 'FV': 'V',\n",
       " 'CH': 'N',\n",
       " 'HS': 'V',\n",
       " 'CF': 'F',\n",
       " 'CN': 'S'}"
      ]
     },
     "execution_count": 6,
     "metadata": {},
     "output_type": "execute_result"
    }
   ],
   "source": [
    "seq_repl_dict"
   ]
  },
  {
   "cell_type": "code",
   "execution_count": null,
   "metadata": {},
   "outputs": [],
   "source": []
  },
  {
   "cell_type": "code",
   "execution_count": 7,
   "metadata": {},
   "outputs": [],
   "source": [
    "#Keep track of the number of character pairs.\n",
    "# Each character pair leads to increase in some number of character pairs and decrease in others\n",
    "#Create a dictionary that tells the increment for each character pair\n",
    "\n",
    "newcpairs_dict = seq_repl_dict.copy()\n",
    "\n",
    "for cpair in seq_repl_dict:\n",
    "    newchar = seq_repl_dict[cpair]\n",
    "    newcpair1 = cpair[0]+newchar\n",
    "    newcpair2 = newchar+ cpair[1]\n",
    "\n",
    "    newcpairs_dict[cpair] = [newcpair1,newcpair2]"
   ]
  },
  {
   "cell_type": "code",
   "execution_count": 8,
   "metadata": {},
   "outputs": [
    {
     "data": {
      "text/plain": [
       "{'SO': ['SF', 'FO'],\n",
       " 'OP': ['OV', 'VP'],\n",
       " 'NF': ['NF', 'FF'],\n",
       " 'BO': ['BV', 'VO'],\n",
       " 'BH': ['BS', 'SH'],\n",
       " 'VB': ['VB', 'BB'],\n",
       " 'SV': ['SB', 'BV'],\n",
       " 'BK': ['BS', 'SK'],\n",
       " 'KC': ['KN', 'NC'],\n",
       " 'SP': ['SO', 'OP'],\n",
       " 'CP': ['CO', 'OP'],\n",
       " 'VN': ['VO', 'ON'],\n",
       " 'HO': ['HS', 'SO'],\n",
       " 'PC': ['PB', 'BC'],\n",
       " 'CS': ['CO', 'OS'],\n",
       " 'PO': ['PK', 'KO'],\n",
       " 'KF': ['KB', 'BF'],\n",
       " 'BP': ['BK', 'KP'],\n",
       " 'VO': ['VO', 'OO'],\n",
       " 'HB': ['HN', 'NB'],\n",
       " 'PH': ['PO', 'OH'],\n",
       " 'FF': ['FO', 'OF'],\n",
       " 'FB': ['FK', 'KB'],\n",
       " 'CC': ['CH', 'HC'],\n",
       " 'FK': ['FF', 'FK'],\n",
       " 'HV': ['HP', 'PV'],\n",
       " 'CO': ['CS', 'SO'],\n",
       " 'OC': ['ON', 'NC'],\n",
       " 'KV': ['KV', 'VV'],\n",
       " 'SS': ['SO', 'OS'],\n",
       " 'FC': ['FO', 'OC'],\n",
       " 'NP': ['NB', 'BP'],\n",
       " 'OH': ['OB', 'BH'],\n",
       " 'OF': ['OK', 'KF'],\n",
       " 'KB': ['KK', 'KB'],\n",
       " 'BN': ['BC', 'CN'],\n",
       " 'OK': ['OC', 'CK'],\n",
       " 'NC': ['NO', 'OC'],\n",
       " 'NO': ['NO', 'OO'],\n",
       " 'FS': ['FC', 'CS'],\n",
       " 'VP': ['VK', 'KP'],\n",
       " 'KP': ['KS', 'SP'],\n",
       " 'VS': ['VB', 'BS'],\n",
       " 'VV': ['VN', 'NV'],\n",
       " 'NN': ['NP', 'PN'],\n",
       " 'KH': ['KP', 'PH'],\n",
       " 'OB': ['OH', 'HB'],\n",
       " 'HP': ['HH', 'HP'],\n",
       " 'KK': ['KH', 'HK'],\n",
       " 'FH': ['FF', 'FH'],\n",
       " 'KS': ['KV', 'VS'],\n",
       " 'BS': ['BV', 'VS'],\n",
       " 'SN': ['SH', 'HN'],\n",
       " 'CB': ['CB', 'BB'],\n",
       " 'HN': ['HK', 'KN'],\n",
       " 'SB': ['SO', 'OB'],\n",
       " 'OS': ['OK', 'KS'],\n",
       " 'BC': ['BH', 'HC'],\n",
       " 'OV': ['ON', 'NV'],\n",
       " 'PN': ['PB', 'BN'],\n",
       " 'VH': ['VN', 'NH'],\n",
       " 'SK': ['SC', 'CK'],\n",
       " 'PV': ['PK', 'KV'],\n",
       " 'VC': ['VN', 'NC'],\n",
       " 'PF': ['PS', 'SF'],\n",
       " 'NB': ['NB', 'BB'],\n",
       " 'PP': ['PS', 'SP'],\n",
       " 'NS': ['NF', 'FS'],\n",
       " 'PB': ['PB', 'BB'],\n",
       " 'CV': ['CC', 'CV'],\n",
       " 'HK': ['HP', 'PK'],\n",
       " 'PK': ['PS', 'SK'],\n",
       " 'NH': ['NB', 'BH'],\n",
       " 'SH': ['SV', 'VH'],\n",
       " 'KO': ['KH', 'HO'],\n",
       " 'NV': ['NB', 'BV'],\n",
       " 'HH': ['HV', 'VH'],\n",
       " 'FO': ['FO', 'OO'],\n",
       " 'CK': ['CO', 'OK'],\n",
       " 'VK': ['VF', 'FK'],\n",
       " 'HF': ['HO', 'OF'],\n",
       " 'BF': ['BC', 'CF'],\n",
       " 'BV': ['BP', 'PV'],\n",
       " 'KN': ['KK', 'KN'],\n",
       " 'VF': ['VC', 'CF'],\n",
       " 'FN': ['FV', 'VN'],\n",
       " 'ON': ['OC', 'CN'],\n",
       " 'SF': ['SF', 'FF'],\n",
       " 'SC': ['SC', 'CC'],\n",
       " 'OO': ['OS', 'SO'],\n",
       " 'FP': ['FK', 'KP'],\n",
       " 'PS': ['PC', 'CS'],\n",
       " 'NK': ['NO', 'OK'],\n",
       " 'BB': ['BV', 'VB'],\n",
       " 'HC': ['HH', 'HC'],\n",
       " 'FV': ['FV', 'VV'],\n",
       " 'CH': ['CN', 'NH'],\n",
       " 'HS': ['HV', 'VS'],\n",
       " 'CF': ['CF', 'FF'],\n",
       " 'CN': ['CS', 'SN']}"
      ]
     },
     "execution_count": 8,
     "metadata": {},
     "output_type": "execute_result"
    }
   ],
   "source": [
    "newcpairs_dict"
   ]
  },
  {
   "cell_type": "code",
   "execution_count": 9,
   "metadata": {},
   "outputs": [],
   "source": [
    "seq = sequence0\n",
    "#seq = \"NNCB\" #test"
   ]
  },
  {
   "cell_type": "code",
   "execution_count": 10,
   "metadata": {},
   "outputs": [],
   "source": [
    "#initialise frequency dictionary\n",
    "char_freq_dict = {}\n",
    "#Count the characters in the initial sequence\n",
    "for i in range(len(seq)):\n",
    "    char = seq[i]\n",
    "    if not char in char_freq_dict:\n",
    "        char_freq_dict[char]=1\n",
    "    else:\n",
    "        char_freq_dict[char]+=1\n"
   ]
  },
  {
   "cell_type": "code",
   "execution_count": 11,
   "metadata": {},
   "outputs": [
    {
     "data": {
      "text/plain": [
       "{'V': 2, 'H': 4, 'C': 3, 'K': 3, 'B': 2, 'F': 1, 'O': 3, 'P': 1, 'N': 1}"
      ]
     },
     "execution_count": 11,
     "metadata": {},
     "output_type": "execute_result"
    }
   ],
   "source": [
    "char_freq_dict"
   ]
  },
  {
   "cell_type": "code",
   "execution_count": 12,
   "metadata": {},
   "outputs": [],
   "source": [
    "# Now, for each step, have a counter from the pairs, that increases and decreases for each pair\n",
    "paircounter = seq_repl_dict.copy()\n",
    "\n",
    "#Initialise\n",
    "for key in paircounter:\n",
    "    paircounter[key] = 0\n",
    "\n",
    "#Count the pairs in the initial sequence\n",
    "for i in range(len(seq)-1):\n",
    "    cpair = seq[i:i+2]\n",
    "    #print(cpair)\n",
    "    paircounter[ cpair ] +=1\n"
   ]
  },
  {
   "cell_type": "code",
   "execution_count": 13,
   "metadata": {},
   "outputs": [
    {
     "data": {
      "text/plain": [
       "{'SO': 0,\n",
       " 'OP': 0,\n",
       " 'NF': 0,\n",
       " 'BO': 0,\n",
       " 'BH': 0,\n",
       " 'VB': 0,\n",
       " 'SV': 0,\n",
       " 'BK': 0,\n",
       " 'KC': 0,\n",
       " 'SP': 0,\n",
       " 'CP': 0,\n",
       " 'VN': 0,\n",
       " 'HO': 0,\n",
       " 'PC': 0,\n",
       " 'CS': 0,\n",
       " 'PO': 0,\n",
       " 'KF': 0,\n",
       " 'BP': 1,\n",
       " 'VO': 0,\n",
       " 'HB': 1,\n",
       " 'PH': 0,\n",
       " 'FF': 0,\n",
       " 'FB': 0,\n",
       " 'CC': 0,\n",
       " 'FK': 0,\n",
       " 'HV': 0,\n",
       " 'CO': 0,\n",
       " 'OC': 0,\n",
       " 'KV': 0,\n",
       " 'SS': 0,\n",
       " 'FC': 0,\n",
       " 'NP': 0,\n",
       " 'OH': 1,\n",
       " 'OF': 0,\n",
       " 'KB': 1,\n",
       " 'BN': 0,\n",
       " 'OK': 0,\n",
       " 'NC': 1,\n",
       " 'NO': 0,\n",
       " 'FS': 0,\n",
       " 'VP': 0,\n",
       " 'KP': 0,\n",
       " 'VS': 0,\n",
       " 'VV': 0,\n",
       " 'NN': 0,\n",
       " 'KH': 0,\n",
       " 'OB': 0,\n",
       " 'HP': 0,\n",
       " 'KK': 0,\n",
       " 'FH': 0,\n",
       " 'KS': 0,\n",
       " 'BS': 0,\n",
       " 'SN': 0,\n",
       " 'CB': 0,\n",
       " 'HN': 0,\n",
       " 'SB': 0,\n",
       " 'OS': 0,\n",
       " 'BC': 0,\n",
       " 'OV': 1,\n",
       " 'PN': 1,\n",
       " 'VH': 1,\n",
       " 'SK': 0,\n",
       " 'PV': 0,\n",
       " 'VC': 1,\n",
       " 'PF': 0,\n",
       " 'NB': 0,\n",
       " 'PP': 0,\n",
       " 'NS': 0,\n",
       " 'PB': 0,\n",
       " 'CV': 0,\n",
       " 'HK': 1,\n",
       " 'PK': 0,\n",
       " 'NH': 0,\n",
       " 'SH': 0,\n",
       " 'KO': 2,\n",
       " 'NV': 0,\n",
       " 'HH': 1,\n",
       " 'FO': 1,\n",
       " 'CK': 2,\n",
       " 'VK': 0,\n",
       " 'HF': 0,\n",
       " 'BF': 1,\n",
       " 'BV': 0,\n",
       " 'KN': 0,\n",
       " 'VF': 0,\n",
       " 'FN': 0,\n",
       " 'ON': 0,\n",
       " 'SF': 0,\n",
       " 'SC': 0,\n",
       " 'OO': 0,\n",
       " 'FP': 0,\n",
       " 'PS': 0,\n",
       " 'NK': 0,\n",
       " 'BB': 0,\n",
       " 'HC': 1,\n",
       " 'FV': 0,\n",
       " 'CH': 1,\n",
       " 'HS': 0,\n",
       " 'CF': 0,\n",
       " 'CN': 0}"
      ]
     },
     "execution_count": 13,
     "metadata": {},
     "output_type": "execute_result"
    }
   ],
   "source": [
    "paircounter"
   ]
  },
  {
   "cell_type": "code",
   "execution_count": 14,
   "metadata": {},
   "outputs": [],
   "source": [
    "\n",
    "\n",
    "for step in range(steps):\n",
    "    paircounter0 = paircounter.copy()\n",
    "    for pairkey0,pcount in paircounter.items():\n",
    "        cpair1 , cpair2 = newcpairs_dict[pairkey0]\n",
    "\n",
    "        paircounter0[pairkey0] -= pcount\n",
    "        paircounter0[cpair1]+= pcount\n",
    "        paircounter0[cpair2]+= pcount\n",
    "\n",
    "        #Because each pair creates a new character, add +1 to the character count\n",
    "        newchar = seq_repl_dict[pairkey0]\n",
    "        if not newchar in char_freq_dict:\n",
    "            char_freq_dict[newchar]=pcount\n",
    "        else:\n",
    "            char_freq_dict[newchar]+=pcount\n",
    "        \n",
    "    paircounter=paircounter0.copy()"
   ]
  },
  {
   "cell_type": "code",
   "execution_count": 15,
   "metadata": {},
   "outputs": [
    {
     "data": {
      "text/plain": [
       "{'SO': 776516645256,\n",
       " 'OP': 55124669904,\n",
       " 'NF': 0,\n",
       " 'BO': 0,\n",
       " 'BH': 94287725644,\n",
       " 'VB': 1214927058796,\n",
       " 'SV': 63415978505,\n",
       " 'BK': 180861256243,\n",
       " 'KC': 0,\n",
       " 'SP': 110216162660,\n",
       " 'CP': 0,\n",
       " 'VN': 293748368081,\n",
       " 'HO': 3209887577,\n",
       " 'PC': 63800103496,\n",
       " 'CS': 447692516904,\n",
       " 'PO': 12855258600,\n",
       " 'KF': 106161453322,\n",
       " 'BP': 361610958253,\n",
       " 'VO': 293855764980,\n",
       " 'HB': 14846651261,\n",
       " 'PH': 25723593200,\n",
       " 'FF': 424877469173,\n",
       " 'FB': 0,\n",
       " 'CC': 109137800507,\n",
       " 'FK': 13805367161,\n",
       " 'HV': 87603169860,\n",
       " 'CO': 449044129376,\n",
       " 'OC': 844882011968,\n",
       " 'KV': 867386931136,\n",
       " 'SS': 0,\n",
       " 'FC': 0,\n",
       " 'NP': 0,\n",
       " 'OH': 27701909861,\n",
       " 'OF': 212384795065,\n",
       " 'KB': 106077730798,\n",
       " 'BN': 0,\n",
       " 'OK': 682928706562,\n",
       " 'NC': 424070934630,\n",
       " 'NO': 423849146191,\n",
       " 'FS': 0,\n",
       " 'VP': 27571529142,\n",
       " 'KP': 220376062066,\n",
       " 'VS': 400660481043,\n",
       " 'VV': 433744509199,\n",
       " 'NN': 0,\n",
       " 'KH': 51468834843,\n",
       " 'OB': 29698353135,\n",
       " 'HP': 179399300488,\n",
       " 'KK': 96553113126,\n",
       " 'FH': 0,\n",
       " 'KS': 461781547436,\n",
       " 'BS': 337937500944,\n",
       " 'SN': 159385730891,\n",
       " 'CB': 0,\n",
       " 'HN': 87110455679,\n",
       " 'SB': 31708723893,\n",
       " 'OS': 703270505283,\n",
       " 'BC': 58429376760,\n",
       " 'OV': 27571529142,\n",
       " 'PN': 0,\n",
       " 'VH': 150217963197,\n",
       " 'SK': 218031570916,\n",
       " 'PV': 405421759595,\n",
       " 'VC': 3451084229,\n",
       " 'PF': 0,\n",
       " 'NB': 348120553137,\n",
       " 'PP': 0,\n",
       " 'NS': 0,\n",
       " 'PB': 63839623416,\n",
       " 'CV': 0,\n",
       " 'HK': 91808208988,\n",
       " 'PK': 255089069670,\n",
       " 'NH': 102431046684,\n",
       " 'SH': 126838035355,\n",
       " 'KO': 6424096985,\n",
       " 'NV': 230693754049,\n",
       " 'HH': 173569456274,\n",
       " 'FO': 1200839359244,\n",
       " 'CK': 450448837582,\n",
       " 'VK': 13791212623,\n",
       " 'HF': 0,\n",
       " 'BF': 53062929109,\n",
       " 'BV': 723028947483,\n",
       " 'KN': 87087573159,\n",
       " 'VF': 6898607680,\n",
       " 'FN': 0,\n",
       " 'ON': 583031807288,\n",
       " 'SF': 776215380059,\n",
       " 'SC': 218187392693,\n",
       " 'OO': 959076383617,\n",
       " 'FP': 0,\n",
       " 'PS': 127569274536,\n",
       " 'NK': 0,\n",
       " 'BB': 813671709152,\n",
       " 'HC': 167682184494,\n",
       " 'FV': 0,\n",
       " 'CH': 54594543645,\n",
       " 'HS': 1603794082,\n",
       " 'CF': 59921561170,\n",
       " 'CN': 318801499593}"
      ]
     },
     "execution_count": 15,
     "metadata": {},
     "output_type": "execute_result"
    }
   ],
   "source": [
    "paircounter"
   ]
  },
  {
   "cell_type": "code",
   "execution_count": 16,
   "metadata": {},
   "outputs": [
    {
     "data": {
      "text/plain": [
       "{'V': 2838866578970,\n",
       " 'H': 806833108703,\n",
       " 'C': 1889640888777,\n",
       " 'K': 2003317342871,\n",
       " 'B': 2622890403588,\n",
       " 'F': 1639522195578,\n",
       " 'O': 4125670671826,\n",
       " 'P': 954298682513,\n",
       " 'N': 1529165434691,\n",
       " 'S': 2480515620228}"
      ]
     },
     "execution_count": 16,
     "metadata": {},
     "output_type": "execute_result"
    }
   ],
   "source": [
    "char_freq_dict"
   ]
  },
  {
   "cell_type": "code",
   "execution_count": 17,
   "metadata": {},
   "outputs": [
    {
     "data": {
      "text/plain": [
       "[('H', 806833108703),\n",
       " ('P', 954298682513),\n",
       " ('N', 1529165434691),\n",
       " ('F', 1639522195578),\n",
       " ('C', 1889640888777),\n",
       " ('K', 2003317342871),\n",
       " ('S', 2480515620228),\n",
       " ('B', 2622890403588),\n",
       " ('V', 2838866578970),\n",
       " ('O', 4125670671826)]"
      ]
     },
     "execution_count": 17,
     "metadata": {},
     "output_type": "execute_result"
    }
   ],
   "source": [
    "# https://stackoverflow.com/questions/613183/how-do-i-sort-a-dictionary-by-value\n",
    "#sorts ascending\n",
    "char_freq_dict_sorted = sorted(char_freq_dict.items(), key=lambda x: x[1] )\n",
    "char_freq_dict_sorted"
   ]
  },
  {
   "cell_type": "code",
   "execution_count": 18,
   "metadata": {},
   "outputs": [],
   "source": [
    "#Get subtraction max and min\n",
    "delta = char_freq_dict_sorted[-1][1] - char_freq_dict_sorted[0][1]"
   ]
  },
  {
   "cell_type": "code",
   "execution_count": 19,
   "metadata": {},
   "outputs": [
    {
     "name": "stdout",
     "output_type": "stream",
     "text": [
      "3318837563123\n"
     ]
    }
   ],
   "source": [
    "print(delta) #ok"
   ]
  },
  {
   "cell_type": "code",
   "execution_count": null,
   "metadata": {},
   "outputs": [],
   "source": []
  }
 ],
 "metadata": {
  "interpreter": {
   "hash": "c20f18160aedb1585981487c6d6bd79d2111974d45cddf4d0e7fdb3307f5b1ec"
  },
  "kernelspec": {
   "display_name": "Python 3.8.12 64-bit ('dev': conda)",
   "language": "python",
   "name": "python3"
  },
  "language_info": {
   "codemirror_mode": {
    "name": "ipython",
    "version": 3
   },
   "file_extension": ".py",
   "mimetype": "text/x-python",
   "name": "python",
   "nbconvert_exporter": "python",
   "pygments_lexer": "ipython3",
   "version": "3.8.12"
  },
  "orig_nbformat": 4
 },
 "nbformat": 4,
 "nbformat_minor": 2
}
