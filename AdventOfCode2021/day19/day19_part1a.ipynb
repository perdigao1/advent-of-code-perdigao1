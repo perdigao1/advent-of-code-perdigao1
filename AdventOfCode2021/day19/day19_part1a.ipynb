{
 "cells": [
  {
   "cell_type": "code",
   "execution_count": 1,
   "metadata": {},
   "outputs": [],
   "source": [
    "import numpy as np"
   ]
  },
  {
   "cell_type": "code",
   "execution_count": 2,
   "metadata": {},
   "outputs": [],
   "source": [
    "#filename =\"data_test.txt\"\n",
    "filename=\"input.txt\""
   ]
  },
  {
   "cell_type": "code",
   "execution_count": 3,
   "metadata": {},
   "outputs": [],
   "source": [
    "#Work out a way to read input data\n",
    "with open(filename,\"r\") as f:\n",
    "    lines = f.read().splitlines()"
   ]
  },
  {
   "cell_type": "code",
   "execution_count": 4,
   "metadata": {},
   "outputs": [
    {
     "name": "stdout",
     "output_type": "stream",
     "text": [
      "New scanner 0 data\n",
      "New scanner 1 data\n",
      "New scanner 2 data\n",
      "New scanner 3 data\n",
      "New scanner 4 data\n",
      "New scanner 5 data\n",
      "New scanner 6 data\n",
      "New scanner 7 data\n",
      "New scanner 8 data\n",
      "New scanner 9 data\n",
      "New scanner 10 data\n",
      "New scanner 11 data\n",
      "New scanner 12 data\n",
      "New scanner 13 data\n",
      "New scanner 14 data\n",
      "New scanner 15 data\n",
      "New scanner 16 data\n",
      "New scanner 17 data\n",
      "New scanner 18 data\n",
      "New scanner 19 data\n",
      "New scanner 20 data\n",
      "New scanner 21 data\n",
      "New scanner 22 data\n",
      "New scanner 23 data\n",
      "New scanner 24 data\n",
      "New scanner 25 data\n",
      "New scanner 26 data\n",
      "New scanner 27 data\n",
      "New scanner 28 data\n",
      "New scanner 29 data\n",
      "New scanner 30 data\n",
      "New scanner 31 data\n",
      "New scanner 32 data\n",
      "New scanner 33 data\n",
      "New scanner 34 data\n",
      "New scanner 35 data\n"
     ]
    }
   ],
   "source": [
    "scanners = {}\n",
    "\n",
    "currentscanner = None\n",
    "beacons_coords = []\n",
    "for l0 in lines:\n",
    "    if l0.find(\"scanner\")>=0:\n",
    "        #next lines are scanner data\n",
    "        svalue = int(l0.strip(\"-\").strip( ).strip(\"scanner\"))\n",
    "        currentscanner = svalue\n",
    "        print(f\"New scanner {currentscanner} data\")\n",
    "        scanners[currentscanner]={} #Set new dict value\n",
    "        beacons_coords=[]\n",
    "    else:\n",
    "        if l0==\"\":\n",
    "            #End of scanner data\n",
    "            scanners[currentscanner] =  np.array(beacons_coords)\n",
    "        else:\n",
    "            beacons_coords.append( list(map(int,l0.split(\",\"))))\n",
    "\n",
    "#Store last scanner data\n",
    "if len(beacons_coords):\n",
    "     scanners[currentscanner] = np.array(beacons_coords)\n"
   ]
  },
  {
   "cell_type": "code",
   "execution_count": 5,
   "metadata": {},
   "outputs": [
    {
     "data": {
      "text/plain": [
       "array([[ 417,  597, -659],\n",
       "       [-781, -790, -526],\n",
       "       [   1, -140,   -9],\n",
       "       [ 311,  816,  519],\n",
       "       [ 274,  815,  564],\n",
       "       [ -89,   11, -167],\n",
       "       [-842, -411,  466],\n",
       "       [-760,  591, -661],\n",
       "       [-831, -483,  469],\n",
       "       [-831, -515,  455],\n",
       "       [-826,  643, -605],\n",
       "       [-794, -873, -582],\n",
       "       [ 378, -780, -402],\n",
       "       [-864,  635, -645],\n",
       "       [ 369, -725, -496],\n",
       "       [ 587, -558,  577],\n",
       "       [-973,  480,  540],\n",
       "       [-723, -955, -453],\n",
       "       [ 406, -622, -430],\n",
       "       [ 510,  768, -630],\n",
       "       [-845,  401,  529],\n",
       "       [ 492,  744, -683],\n",
       "       [ 618, -598,  694],\n",
       "       [-898,  460,  422],\n",
       "       [ 630, -610,  724],\n",
       "       [ 313,  739,  706]])"
      ]
     },
     "execution_count": 5,
     "metadata": {},
     "output_type": "execute_result"
    }
   ],
   "source": [
    "scanners[0]"
   ]
  },
  {
   "cell_type": "code",
   "execution_count": 6,
   "metadata": {},
   "outputs": [
    {
     "data": {
      "text/plain": [
       "array([[False, False, False],\n",
       "       [False, False, False],\n",
       "       [False, False, False],\n",
       "       [False, False, False],\n",
       "       [False, False, False],\n",
       "       [False, False, False],\n",
       "       [False, False, False],\n",
       "       [False, False, False],\n",
       "       [False, False, False],\n",
       "       [False, False, False],\n",
       "       [False, False, False],\n",
       "       [False, False, False],\n",
       "       [False, False, False],\n",
       "       [False, False, False],\n",
       "       [False, False, False],\n",
       "       [False, False, False],\n",
       "       [False, False, False],\n",
       "       [False, False, False],\n",
       "       [False, False, False],\n",
       "       [False, False, False],\n",
       "       [False, False, False],\n",
       "       [False, False, False],\n",
       "       [False, False, False],\n",
       "       [False, False, False],\n",
       "       [False, False, False],\n",
       "       [False, False, False]])"
      ]
     },
     "execution_count": 6,
     "metadata": {},
     "output_type": "execute_result"
    }
   ],
   "source": [
    "#How it lookes when trying to loccate a single element in this way\n",
    "scanners[0] == [ 455,  729,  728]\n",
    "#A vector that is found will show as [True, True, True]"
   ]
  },
  {
   "cell_type": "code",
   "execution_count": 7,
   "metadata": {},
   "outputs": [
    {
     "data": {
      "text/plain": [
       "array([False, False, False, False, False, False, False, False, False,\n",
       "       False, False, False, False, False, False, False, False, False,\n",
       "       False, False, False, False, False, False, False, False])"
      ]
     },
     "execution_count": 7,
     "metadata": {},
     "output_type": "execute_result"
    }
   ],
   "source": [
    "(scanners[0] == [ 455,  729,  728]).all(axis=1) #Logical AND across the vector"
   ]
  },
  {
   "cell_type": "code",
   "execution_count": 8,
   "metadata": {},
   "outputs": [
    {
     "data": {
      "text/plain": [
       "(array([], dtype=int64),)"
      ]
     },
     "execution_count": 8,
     "metadata": {},
     "output_type": "execute_result"
    }
   ],
   "source": [
    "np.where( (scanners[0] == [ 455,  729,  728]).all(axis=1) ) #Get the index where the vector was found"
   ]
  },
  {
   "cell_type": "code",
   "execution_count": 9,
   "metadata": {},
   "outputs": [
    {
     "data": {
      "text/plain": [
       "0"
      ]
     },
     "execution_count": 9,
     "metadata": {},
     "output_type": "execute_result"
    }
   ],
   "source": [
    "np.sum((scanners[0] == [ 455,  729,  728]).all(axis=1))  # Number of matches"
   ]
  },
  {
   "cell_type": "code",
   "execution_count": 10,
   "metadata": {},
   "outputs": [],
   "source": [
    "scan_temp = np.copy(scanners[0])"
   ]
  },
  {
   "cell_type": "code",
   "execution_count": 11,
   "metadata": {},
   "outputs": [
    {
     "data": {
      "text/plain": [
       "array([[ 417,  597, -659],\n",
       "       [-781, -790, -526],\n",
       "       [   1, -140,   -9],\n",
       "       [ 311,  816,  519],\n",
       "       [ 274,  815,  564],\n",
       "       [ -89,   11, -167],\n",
       "       [-842, -411,  466],\n",
       "       [-760,  591, -661],\n",
       "       [-831, -483,  469],\n",
       "       [-831, -515,  455],\n",
       "       [-826,  643, -605],\n",
       "       [-794, -873, -582],\n",
       "       [ 378, -780, -402],\n",
       "       [-864,  635, -645],\n",
       "       [ 369, -725, -496],\n",
       "       [ 587, -558,  577],\n",
       "       [-973,  480,  540],\n",
       "       [-723, -955, -453],\n",
       "       [ 406, -622, -430],\n",
       "       [ 510,  768, -630],\n",
       "       [-845,  401,  529],\n",
       "       [ 492,  744, -683],\n",
       "       [ 618, -598,  694],\n",
       "       [-898,  460,  422],\n",
       "       [ 630, -610,  724],\n",
       "       [ 313,  739,  706]])"
      ]
     },
     "execution_count": 11,
     "metadata": {},
     "output_type": "execute_result"
    }
   ],
   "source": [
    "#np.delete, remove elements at the indices given in the second parameter\n",
    "# If second parameter are numbers, removes the indices given\n",
    "# If it is a boolean array, removes the elements indicated with true\n",
    "\n",
    "#OK, it works\n",
    "np.delete(scan_temp, (scan_temp == [ 404, -588, -901]).all(axis=1) , axis=0)"
   ]
  },
  {
   "cell_type": "code",
   "execution_count": 12,
   "metadata": {},
   "outputs": [],
   "source": [
    "def countOverlapAndAppendWithNoDuplicates(scandata0, scandata1):\n",
    "\n",
    "    allb1_in_sd0 = None\n",
    "    for b1 in scandata1:\n",
    "        b1_in_sd0 = (scandata0 == b1).all(axis=1) #boolean matrix where element was found\n",
    "        if allb1_in_sd0 is None:\n",
    "            allb1_in_sd0 = b1_in_sd0 #First element initialises\n",
    "        else:\n",
    "            #Accumulate\n",
    "            allb1_in_sd0 = np.logical_or(allb1_in_sd0, b1_in_sd0)\n",
    "    \n",
    "    noverlaps = np.sum(allb1_in_sd0)\n",
    "\n",
    "    newscan=None\n",
    "\n",
    "    if noverlaps>=12:\n",
    "        print(f\"{noverlaps} >=12 overlaps . Appending and removing duplicates\")\n",
    "        #Remove duplicates\n",
    "        #addedscan = np.copy(scandata1)\n",
    "        addedscan = np.delete ( scandata0 , allb1_in_sd0, axis=0)\n",
    "\n",
    "        #Appends\n",
    "        newscan = np.append(addedscan, scandata1, axis=0)\n",
    "    \n",
    "    return newscan, noverlaps"
   ]
  },
  {
   "cell_type": "code",
   "execution_count": 13,
   "metadata": {},
   "outputs": [
    {
     "data": {
      "text/plain": [
       "(None, 0)"
      ]
     },
     "execution_count": 13,
     "metadata": {},
     "output_type": "execute_result"
    }
   ],
   "source": [
    "#Test\n",
    "countOverlapAndAppendWithNoDuplicates(scanners[0], scanners[4])"
   ]
  },
  {
   "cell_type": "code",
   "execution_count": 14,
   "metadata": {},
   "outputs": [],
   "source": [
    "rotateZBy90Matrix = [   [  0 , -1 ,  0 ] ,\n",
    "                        [  1 ,  0 ,  0 ] ,\n",
    "                        [  0 ,  0 ,  1 ]\n",
    "                    ]\n",
    "\n",
    "rotateYBy90Matrix = [   [  0 ,  0 ,  1 ] ,\n",
    "                        [  0 ,  1 ,  0 ] ,\n",
    "                        [ -1 ,  0 ,  0 ]\n",
    "                    ]\n",
    "\n",
    "rotateXByMinus90Matrix = [  [  1 ,  0 ,  0 ] ,\n",
    "                            [  0 ,  0 ,  1 ] ,\n",
    "                            [  0 , -1 ,  0 ]\n",
    "                        ]\n"
   ]
  },
  {
   "cell_type": "code",
   "execution_count": 15,
   "metadata": {},
   "outputs": [],
   "source": [
    "#Maybe too slow\n",
    "def applyTransformToScannerData(scannerdata, transfmatrix):\n",
    "    scannerdata_rot = np.copy(scannerdata)\n",
    "\n",
    "    for i in range(len(scannerdata)):\n",
    "        scannerdata_rot[i] = np.matmul(transfmatrix, scannerdata[i])\n",
    "\n",
    "    return scannerdata_rot"
   ]
  },
  {
   "cell_type": "code",
   "execution_count": 16,
   "metadata": {},
   "outputs": [
    {
     "data": {
      "text/plain": [
       "array([[ 417, -659, -597],\n",
       "       [-781, -526,  790],\n",
       "       [   1,   -9,  140],\n",
       "       [ 311,  519, -816],\n",
       "       [ 274,  564, -815],\n",
       "       [ -89, -167,  -11],\n",
       "       [-842,  466,  411],\n",
       "       [-760, -661, -591],\n",
       "       [-831,  469,  483],\n",
       "       [-831,  455,  515],\n",
       "       [-826, -605, -643],\n",
       "       [-794, -582,  873],\n",
       "       [ 378, -402,  780],\n",
       "       [-864, -645, -635],\n",
       "       [ 369, -496,  725],\n",
       "       [ 587,  577,  558],\n",
       "       [-973,  540, -480],\n",
       "       [-723, -453,  955],\n",
       "       [ 406, -430,  622],\n",
       "       [ 510, -630, -768],\n",
       "       [-845,  529, -401],\n",
       "       [ 492, -683, -744],\n",
       "       [ 618,  694,  598],\n",
       "       [-898,  422, -460],\n",
       "       [ 630,  724,  610],\n",
       "       [ 313,  706, -739]])"
      ]
     },
     "execution_count": 16,
     "metadata": {},
     "output_type": "execute_result"
    }
   ],
   "source": [
    "#Test\n",
    "applyTransformToScannerData(scanners[0] , rotateXByMinus90Matrix)"
   ]
  },
  {
   "cell_type": "code",
   "execution_count": 17,
   "metadata": {},
   "outputs": [],
   "source": [
    "def applyTransformToScannerData2(scannerdata, transfmatrix):\n",
    "    scannerdata_rot = np.transpose ( np.matmul( transfmatrix , np.transpose(scannerdata)))\n",
    "\n",
    "    return scannerdata_rot"
   ]
  },
  {
   "cell_type": "code",
   "execution_count": 18,
   "metadata": {},
   "outputs": [
    {
     "data": {
      "text/plain": [
       "array([[ 417, -659, -597],\n",
       "       [-781, -526,  790],\n",
       "       [   1,   -9,  140],\n",
       "       [ 311,  519, -816],\n",
       "       [ 274,  564, -815],\n",
       "       [ -89, -167,  -11],\n",
       "       [-842,  466,  411],\n",
       "       [-760, -661, -591],\n",
       "       [-831,  469,  483],\n",
       "       [-831,  455,  515],\n",
       "       [-826, -605, -643],\n",
       "       [-794, -582,  873],\n",
       "       [ 378, -402,  780],\n",
       "       [-864, -645, -635],\n",
       "       [ 369, -496,  725],\n",
       "       [ 587,  577,  558],\n",
       "       [-973,  540, -480],\n",
       "       [-723, -453,  955],\n",
       "       [ 406, -430,  622],\n",
       "       [ 510, -630, -768],\n",
       "       [-845,  529, -401],\n",
       "       [ 492, -683, -744],\n",
       "       [ 618,  694,  598],\n",
       "       [-898,  422, -460],\n",
       "       [ 630,  724,  610],\n",
       "       [ 313,  706, -739]])"
      ]
     },
     "execution_count": 18,
     "metadata": {},
     "output_type": "execute_result"
    }
   ],
   "source": [
    "#Test\n",
    "applyTransformToScannerData2(scanners[0] , rotateXByMinus90Matrix)"
   ]
  },
  {
   "cell_type": "code",
   "execution_count": 19,
   "metadata": {},
   "outputs": [],
   "source": [
    "#Another faster method\n",
    "#create all rotation matrices\n",
    "all24RotationTransforms = []\n",
    "\n",
    "#Invert or not invert up direction\n",
    "for invz in [1,-1]:\n",
    "    invertmatrix = np.eye(3,3)\n",
    "    #print(f\"invz = {invz}\")\n",
    "    if invz==-1:\n",
    "        #Turn it around by  rotating 180 around yy\n",
    "        invertmatrix=np.matmul(rotateYBy90Matrix, rotateYBy90Matrix)\n",
    "\n",
    "    #Rotation around z\n",
    "    rotZMatrix = np.eye(3,3)\n",
    "    for izrot in range(4):\n",
    "        #print(f\"izrot = {izrot}\")\n",
    "        if izrot >=1:\n",
    "            rotZMatrix = np.matmul( rotateZBy90Matrix, rotZMatrix)\n",
    "\n",
    "        #Rotation to face the different axis\n",
    "        rotFaceDiffAxis = None\n",
    "        for facerot in ('none', 'ztox', 'ztoy'):\n",
    "            #print(f\"facerot = {facerot}\")\n",
    "            scandata1_3 = None\n",
    "            if facerot=='none':\n",
    "                rotFaceDiffAxis = np.eye(3,3)\n",
    "            elif facerot=='ztox':\n",
    "                rotFaceDiffAxis = rotateYBy90Matrix\n",
    "            elif facerot == 'ztoy':\n",
    "                rotFaceDiffAxis = rotateXByMinus90Matrix\n",
    "            \n",
    "            #transformatrix = np.matmul( rotZMatrix , np.matmul(rotFaceDiffAxis ,invertmatrix) )\n",
    "            transformatrix = np.matmul( rotFaceDiffAxis , np.matmul(rotZMatrix ,invertmatrix) )\n",
    "\n",
    "            info = f\"invz={invz} ; izrot={izrot} ; facerot={facerot}\"\n",
    "\n",
    "            all24RotationTransforms.append([transformatrix,info])"
   ]
  },
  {
   "cell_type": "code",
   "execution_count": 20,
   "metadata": {},
   "outputs": [
    {
     "data": {
      "text/plain": [
       "24"
      ]
     },
     "execution_count": 20,
     "metadata": {},
     "output_type": "execute_result"
    }
   ],
   "source": [
    "len(all24RotationTransforms) #size OK"
   ]
  },
  {
   "cell_type": "code",
   "execution_count": 21,
   "metadata": {},
   "outputs": [],
   "source": [
    "def checkFor12Overlaps(scandata0, scandata1):\n",
    "    #Parameters scandata0 and scandata1 are the scandata from each, as a numpy array\n",
    "    #Returns the new scan data with appended and duplicates removed\n",
    "    # and the 3D translation that the 2nd volume needs in order to get 12 beacons to match\n",
    "\n",
    "    #overlap_scan_data = None\n",
    "\n",
    "    for beacon0 in scandata0:\n",
    "        for beacon1 in scandata1:\n",
    "            #Translate scandata in second volume by vector\n",
    "            translvector = beacon1-beacon0\n",
    "\n",
    "            scandata1_transl = scandata1 - translvector #TODO: Check it adds to every row\n",
    "            \n",
    "            newscan , noverlaps = countOverlapAndAppendWithNoDuplicates(scandata0, scandata1_transl)\n",
    "\n",
    "            #print(f\"noverlaps = {noverlaps}\")\n",
    "\n",
    "            #print(f\"b0:{beacon0} , b1:{beacon1} ; Translate beacon1 by : {translvector}\")\n",
    "            if noverlaps>=12:\n",
    "                print (\"Found >12 overlaps, returning the matched scan data\")\n",
    "                return newscan, translvector\n",
    "            else:\n",
    "                #print(\"No >12 overlap found\")\n",
    "                pass\n",
    "    \n",
    "    return None, None\n"
   ]
  },
  {
   "cell_type": "code",
   "execution_count": 22,
   "metadata": {},
   "outputs": [],
   "source": [
    "def checkFor12OverlapsInAllOrientations3(scandata0,scandata1):\n",
    "    for transform , info in all24RotationTransforms:\n",
    "        #scandata1_trans = applyTransformToScannerData(scandata1, transform)\n",
    "        scandata1_trans = applyTransformToScannerData2(scandata1, transform)\n",
    "\n",
    "        #Now we can check for overlaps\n",
    "        newscan, translvector = checkFor12Overlaps(scandata0, scandata1_trans)\n",
    "        if not newscan is None:\n",
    "            print(f\"Overlap found with {info} , translate: {translvector}\")\n",
    "            return newscan\n",
    "    return None"
   ]
  },
  {
   "cell_type": "code",
   "execution_count": 23,
   "metadata": {},
   "outputs": [],
   "source": [
    "#Test\n",
    "checkFor12OverlapsInAllOrientations3(scanners[0],scanners[1]) #There should be overlap"
   ]
  },
  {
   "cell_type": "code",
   "execution_count": 24,
   "metadata": {},
   "outputs": [],
   "source": [
    "#Test\n",
    "checkFor12OverlapsInAllOrientations3(scanners[1],scanners[4]) #There should be overlap"
   ]
  },
  {
   "cell_type": "markdown",
   "metadata": {},
   "source": [
    "## Run the whole scanner data"
   ]
  },
  {
   "cell_type": "code",
   "execution_count": 25,
   "metadata": {},
   "outputs": [
    {
     "name": "stdout",
     "output_type": "stream",
     "text": [
      "scanner_numb = 1\n",
      "scanner_numb = 2\n",
      "scanner_numb = 3\n",
      "scanner_numb = 4\n",
      "scanner_numb = 5\n",
      "12 >=12 overlaps . Appending and removing duplicates\n",
      "Found >12 overlaps, returning the matched scan data\n",
      "Overlap found with invz=1 ; izrot=1 ; facerot=none , translate: [  108. -1136.    57.]\n",
      "scanner_numb = 6\n",
      "scanner_numb = 7\n",
      "scanner_numb = 8\n",
      "scanner_numb = 9\n",
      "scanner_numb = 10\n",
      "scanner_numb = 11\n",
      "12 >=12 overlaps . Appending and removing duplicates\n",
      "Found >12 overlaps, returning the matched scan data\n",
      "Overlap found with invz=1 ; izrot=3 ; facerot=ztox , translate: [ 104.   60. 1191.]\n",
      "scanner_numb = 12\n",
      "scanner_numb = 13\n",
      "scanner_numb = 14\n",
      "scanner_numb = 15\n",
      "scanner_numb = 16\n",
      "scanner_numb = 17\n",
      "scanner_numb = 18\n",
      "scanner_numb = 19\n",
      "scanner_numb = 20\n",
      "12 >=12 overlaps . Appending and removing duplicates\n",
      "Found >12 overlaps, returning the matched scan data\n",
      "Overlap found with invz=1 ; izrot=1 ; facerot=ztoy , translate: [  28.   99. 2459.]\n",
      "scanner_numb = 21\n",
      "scanner_numb = 22\n",
      "scanner_numb = 23\n",
      "scanner_numb = 24\n",
      "scanner_numb = 25\n",
      "scanner_numb = 26\n",
      "scanner_numb = 27\n",
      "scanner_numb = 28\n",
      "12 >=12 overlaps . Appending and removing duplicates\n",
      "Found >12 overlaps, returning the matched scan data\n",
      "Overlap found with invz=1 ; izrot=3 ; facerot=none , translate: [   55. -1183.  2527.]\n",
      "scanner_numb = 29\n",
      "scanner_numb = 30\n",
      "scanner_numb = 31\n",
      "12 >=12 overlaps . Appending and removing duplicates\n",
      "Found >12 overlaps, returning the matched scan data\n",
      "Overlap found with invz=-1 ; izrot=2 ; facerot=ztox , translate: [  101. -2413.   146.]\n",
      "scanner_numb = 32\n",
      "12 >=12 overlaps . Appending and removing duplicates\n",
      "Found >12 overlaps, returning the matched scan data\n",
      "Overlap found with invz=1 ; izrot=0 ; facerot=ztoy , translate: [1219.   79. 2541.]\n",
      "scanner_numb = 33\n",
      "12 >=12 overlaps . Appending and removing duplicates\n",
      "Found >12 overlaps, returning the matched scan data\n",
      "Overlap found with invz=-1 ; izrot=1 ; facerot=ztox , translate: [ 158. 1274. 2455.]\n",
      "scanner_numb = 34\n",
      "scanner_numb = 35\n",
      "scanner_numb = 1\n",
      "12 >=12 overlaps . Appending and removing duplicates\n",
      "Found >12 overlaps, returning the matched scan data\n",
      "Overlap found with invz=-1 ; izrot=3 ; facerot=ztox , translate: [ 186. 2456. 2380.]\n",
      "scanner_numb = 2\n",
      "12 >=12 overlaps . Appending and removing duplicates\n",
      "Found >12 overlaps, returning the matched scan data\n",
      "Overlap found with invz=-1 ; izrot=0 ; facerot=ztoy , translate: [ 139. 3642. 2490.]\n",
      "scanner_numb = 3\n",
      "12 >=12 overlaps . Appending and removing duplicates\n",
      "Found >12 overlaps, returning the matched scan data\n",
      "Overlap found with invz=-1 ; izrot=1 ; facerot=none , translate: [  116. -2406.  2569.]\n",
      "scanner_numb = 4\n",
      "12 >=12 overlaps . Appending and removing duplicates\n",
      "Found >12 overlaps, returning the matched scan data\n",
      "Overlap found with invz=1 ; izrot=0 ; facerot=ztoy , translate: [-1173. -1146.  2550.]\n",
      "scanner_numb = 6\n",
      "scanner_numb = 7\n",
      "12 >=12 overlaps . Appending and removing duplicates\n",
      "Found >12 overlaps, returning the matched scan data\n",
      "Overlap found with invz=-1 ; izrot=0 ; facerot=none , translate: [-2300. -1212.  2377.]\n",
      "scanner_numb = 8\n",
      "scanner_numb = 9\n",
      "scanner_numb = 10\n",
      "12 >=12 overlaps . Appending and removing duplicates\n",
      "Found >12 overlaps, returning the matched scan data\n",
      "Overlap found with invz=-1 ; izrot=2 ; facerot=ztox , translate: [   67. -2257.  3688.]\n",
      "scanner_numb = 12\n",
      "12 >=12 overlaps . Appending and removing duplicates\n",
      "Found >12 overlaps, returning the matched scan data\n",
      "Overlap found with invz=1 ; izrot=3 ; facerot=ztoy , translate: [-1094.  1335.  2464.]\n",
      "scanner_numb = 13\n",
      "18 >=12 overlaps . Appending and removing duplicates\n",
      "Found >12 overlaps, returning the matched scan data\n",
      "Overlap found with invz=-1 ; izrot=3 ; facerot=none , translate: [-1128. -2365.  2443.]\n",
      "scanner_numb = 14\n",
      "24 >=12 overlaps . Appending and removing duplicates\n",
      "Found >12 overlaps, returning the matched scan data\n",
      "Overlap found with invz=1 ; izrot=2 ; facerot=ztoy , translate: [  128. -2387.  1294.]\n",
      "scanner_numb = 15\n",
      "12 >=12 overlaps . Appending and removing duplicates\n",
      "Found >12 overlaps, returning the matched scan data\n",
      "Overlap found with invz=-1 ; izrot=1 ; facerot=ztox , translate: [ 1331. -2414.  2418.]\n",
      "scanner_numb = 16\n",
      "18 >=12 overlaps . Appending and removing duplicates\n",
      "Found >12 overlaps, returning the matched scan data\n",
      "Overlap found with invz=-1 ; izrot=3 ; facerot=ztoy , translate: [-1113.  2504.  2563.]\n",
      "scanner_numb = 17\n",
      "12 >=12 overlaps . Appending and removing duplicates\n",
      "Found >12 overlaps, returning the matched scan data\n",
      "Overlap found with invz=1 ; izrot=3 ; facerot=none , translate: [-1047.  1190.  3745.]\n",
      "scanner_numb = 18\n",
      "24 >=12 overlaps . Appending and removing duplicates\n",
      "Found >12 overlaps, returning the matched scan data\n",
      "Overlap found with invz=-1 ; izrot=2 ; facerot=ztoy , translate: [-1099.   114.  2497.]\n",
      "scanner_numb = 19\n",
      "12 >=12 overlaps . Appending and removing duplicates\n",
      "Found >12 overlaps, returning the matched scan data\n",
      "Overlap found with invz=-1 ; izrot=0 ; facerot=ztox , translate: [2556.   -4. 2493.]\n",
      "scanner_numb = 21\n",
      "scanner_numb = 22\n",
      "18 >=12 overlaps . Appending and removing duplicates\n",
      "Found >12 overlaps, returning the matched scan data\n",
      "Overlap found with invz=1 ; izrot=0 ; facerot=ztox , translate: [-1210. -1159.  1260.]\n",
      "scanner_numb = 23\n",
      "12 >=12 overlaps . Appending and removing duplicates\n",
      "Found >12 overlaps, returning the matched scan data\n",
      "Overlap found with invz=1 ; izrot=2 ; facerot=ztox , translate: [3740.    8. 2546.]\n",
      "scanner_numb = 24\n",
      "12 >=12 overlaps . Appending and removing duplicates\n",
      "Found >12 overlaps, returning the matched scan data\n",
      "Overlap found with invz=1 ; izrot=0 ; facerot=ztox , translate: [2562. 1288. 2553.]\n",
      "scanner_numb = 25\n",
      "scanner_numb = 26\n",
      "18 >=12 overlaps . Appending and removing duplicates\n",
      "Found >12 overlaps, returning the matched scan data\n",
      "Overlap found with invz=-1 ; izrot=1 ; facerot=none , translate: [-2233. -2293.  2383.]\n",
      "scanner_numb = 27\n",
      "12 >=12 overlaps . Appending and removing duplicates\n",
      "Found >12 overlaps, returning the matched scan data\n",
      "Overlap found with invz=1 ; izrot=2 ; facerot=ztoy , translate: [ 1290. -3504.  2383.]\n",
      "scanner_numb = 29\n",
      "scanner_numb = 30\n",
      "18 >=12 overlaps . Appending and removing duplicates\n",
      "Found >12 overlaps, returning the matched scan data\n",
      "Overlap found with invz=1 ; izrot=0 ; facerot=ztoy , translate: [-1043. -2368.  3606.]\n",
      "scanner_numb = 34\n",
      "18 >=12 overlaps . Appending and removing duplicates\n",
      "Found >12 overlaps, returning the matched scan data\n",
      "Overlap found with invz=-1 ; izrot=0 ; facerot=none , translate: [-1199.  3727.  2439.]\n",
      "scanner_numb = 35\n",
      "15 >=12 overlaps . Appending and removing duplicates\n",
      "Found >12 overlaps, returning the matched scan data\n",
      "Overlap found with invz=1 ; izrot=1 ; facerot=ztox , translate: [ 1191. -3565.  3682.]\n",
      "scanner_numb = 6\n",
      "12 >=12 overlaps . Appending and removing duplicates\n",
      "Found >12 overlaps, returning the matched scan data\n",
      "Overlap found with invz=-1 ; izrot=2 ; facerot=none , translate: [ 2464. -3583.  2543.]\n",
      "scanner_numb = 8\n",
      "12 >=12 overlaps . Appending and removing duplicates\n",
      "Found >12 overlaps, returning the matched scan data\n",
      "Overlap found with invz=1 ; izrot=1 ; facerot=ztox , translate: [-1098. -3559.  3605.]\n",
      "scanner_numb = 9\n",
      "12 >=12 overlaps . Appending and removing duplicates\n",
      "Found >12 overlaps, returning the matched scan data\n",
      "Overlap found with invz=1 ; izrot=2 ; facerot=none , translate: [ 1351. -4756.  3766.]\n",
      "scanner_numb = 21\n",
      "scanner_numb = 25\n",
      "15 >=12 overlaps . Appending and removing duplicates\n",
      "Found >12 overlaps, returning the matched scan data\n",
      "Overlap found with invz=1 ; izrot=0 ; facerot=ztoy , translate: [ 2525. -4655.  3628.]\n",
      "scanner_numb = 29\n",
      "12 >=12 overlaps . Appending and removing duplicates\n",
      "Found >12 overlaps, returning the matched scan data\n",
      "Overlap found with invz=-1 ; izrot=0 ; facerot=ztox , translate: [ 2389. -5879.  3631.]\n",
      "scanner_numb = 21\n",
      "12 >=12 overlaps . Appending and removing duplicates\n",
      "Found >12 overlaps, returning the matched scan data\n",
      "Overlap found with invz=-1 ; izrot=1 ; facerot=ztoy , translate: [ 3713. -5845.  3627.]\n"
     ]
    }
   ],
   "source": [
    "iscannersleft = list(np.arange(1,len(scanners)))\n",
    "\n",
    "wholescan = np.copy(scanners[0]) # initialises\n",
    "\n",
    "hasfoundmatch=True\n",
    "while len(iscannersleft)>0 and hasfoundmatch:\n",
    "    iscannersleft0 = iscannersleft.copy()\n",
    "    hasfoundmatch=False\n",
    "    for scannumb in iscannersleft0:\n",
    "        print(f\"scanner_numb = {scannumb}\")\n",
    "        #res = checkFor12OverlapsInAllOrientations2(wholescan, scanners0[scannumb])\n",
    "        newscan = checkFor12OverlapsInAllOrientations3(wholescan, scanners[scannumb])\n",
    "\n",
    "        if not newscan is None:\n",
    "            wholescan = newscan\n",
    "            iscannersleft.remove(scannumb)\n",
    "            hasfoundmatch=True\n",
    "    if not hasfoundmatch:\n",
    "        print(f\"No more matchings found, but with scanners {iscannersleft} to be matched. Exiting.\")\n"
   ]
  },
  {
   "cell_type": "code",
   "execution_count": 26,
   "metadata": {},
   "outputs": [
    {
     "data": {
      "text/plain": [
       "array([[ 1.000e+00, -1.400e+02, -9.000e+00],\n",
       "       [-8.900e+01,  1.100e+01, -1.670e+02],\n",
       "       [-8.420e+02, -4.110e+02,  4.660e+02],\n",
       "       ...,\n",
       "       [-2.917e+03,  6.701e+03, -2.808e+03],\n",
       "       [-4.511e+03,  6.659e+03, -4.491e+03],\n",
       "       [-4.584e+03,  6.575e+03, -2.976e+03]])"
      ]
     },
     "execution_count": 26,
     "metadata": {},
     "output_type": "execute_result"
    }
   ],
   "source": [
    "wholescan"
   ]
  },
  {
   "cell_type": "code",
   "execution_count": 27,
   "metadata": {},
   "outputs": [
    {
     "data": {
      "text/plain": [
       "447"
      ]
     },
     "execution_count": 27,
     "metadata": {},
     "output_type": "execute_result"
    }
   ],
   "source": [
    "len(wholescan)"
   ]
  },
  {
   "cell_type": "code",
   "execution_count": 28,
   "metadata": {},
   "outputs": [],
   "source": [
    "np.save(\"wholescan.txt\",wholescan)"
   ]
  },
  {
   "cell_type": "code",
   "execution_count": null,
   "metadata": {},
   "outputs": [],
   "source": []
  }
 ],
 "metadata": {
  "interpreter": {
   "hash": "181599033aa013a348f55e980951d395a235453ffaaf6fbabf88e9b4b2c9ad13"
  },
  "kernelspec": {
   "display_name": "Python 3.8.12 64-bit ('dev': conda)",
   "language": "python",
   "name": "python3"
  },
  "language_info": {
   "codemirror_mode": {
    "name": "ipython",
    "version": 3
   },
   "file_extension": ".py",
   "mimetype": "text/x-python",
   "name": "python",
   "nbconvert_exporter": "python",
   "pygments_lexer": "ipython3",
   "version": "3.8.12"
  },
  "orig_nbformat": 4
 },
 "nbformat": 4,
 "nbformat_minor": 2
}
