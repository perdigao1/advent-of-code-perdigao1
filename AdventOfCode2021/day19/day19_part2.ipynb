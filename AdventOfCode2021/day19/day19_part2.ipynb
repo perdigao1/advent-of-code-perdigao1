{
 "cells": [
  {
   "cell_type": "code",
   "execution_count": 1,
   "metadata": {},
   "outputs": [],
   "source": [
    "import numpy as np"
   ]
  },
  {
   "cell_type": "code",
   "execution_count": 2,
   "metadata": {},
   "outputs": [],
   "source": [
    "def getManhatanDistance(vector0, vector1):\n",
    "    deltavector = np.abs(vector1-vector0)\n",
    "    return np.sum(deltavector)"
   ]
  },
  {
   "cell_type": "code",
   "execution_count": 4,
   "metadata": {},
   "outputs": [
    {
     "data": {
      "text/plain": [
       "3621"
      ]
     },
     "execution_count": 4,
     "metadata": {},
     "output_type": "execute_result"
    }
   ],
   "source": [
    "#Test\n",
    "vector0 = np.array( [1105 , -1205 , 1229] )\n",
    "vector1 = np.array( [ -92, -2380, -20 ] )\n",
    "getManhatanDistance(vector0, vector1)"
   ]
  },
  {
   "cell_type": "code",
   "execution_count": null,
   "metadata": {},
   "outputs": [],
   "source": []
  },
  {
   "cell_type": "markdown",
   "metadata": {},
   "source": [
    "## Using wholescan calculation output"
   ]
  },
  {
   "cell_type": "code",
   "execution_count": 8,
   "metadata": {},
   "outputs": [],
   "source": [
    "with open(\"calc_beacon_output.txt\",\"r\") as f:\n",
    "    lines = f.read().splitlines()"
   ]
  },
  {
   "cell_type": "code",
   "execution_count": 25,
   "metadata": {},
   "outputs": [
    {
     "name": "stdout",
     "output_type": "stream",
     "text": [
      "[10  2  3]\n",
      "10  2  3\n",
      "[10.  2.  3.]\n"
     ]
    }
   ],
   "source": [
    "a = str(np.array([10,2,3]))\n",
    "print(a)\n",
    "a1 = a.strip('[]')\n",
    "print(a1)\n",
    "b= np.fromstring(a1, sep=\" \")\n",
    "print(b)"
   ]
  },
  {
   "cell_type": "code",
   "execution_count": 47,
   "metadata": {},
   "outputs": [
    {
     "name": "stdout",
     "output_type": "stream",
     "text": [
      "string :  [  108. -1136.    57.]\n",
      "s0=108. -1136.    57.\n",
      "scanner 1 at position [  108. -1136.    57.]\n",
      "string :  [ 104.   60. 1191.]\n",
      "s0=104.   60. 1191.\n",
      "scanner 2 at position [ 104.   60. 1191.]\n",
      "string :  [  28.   99. 2459.]\n",
      "s0=28.   99. 2459.\n",
      "scanner 3 at position [  28.   99. 2459.]\n",
      "string :  [   55. -1183.  2527.]\n",
      "s0=55. -1183.  2527.\n",
      "scanner 4 at position [   55. -1183.  2527.]\n",
      "string :  [  101. -2413.   146.]\n",
      "s0=101. -2413.   146.\n",
      "scanner 5 at position [  101. -2413.   146.]\n",
      "string :  [1219.   79. 2541.]\n",
      "s0=1219.   79. 2541.\n",
      "scanner 6 at position [1219.   79. 2541.]\n",
      "string :  [ 158. 1274. 2455.]\n",
      "s0=158. 1274. 2455.\n",
      "scanner 7 at position [ 158. 1274. 2455.]\n",
      "string :  [ 186. 2456. 2380.]\n",
      "s0=186. 2456. 2380.\n",
      "scanner 8 at position [ 186. 2456. 2380.]\n",
      "string :  [ 139. 3642. 2490.]\n",
      "s0=139. 3642. 2490.\n",
      "scanner 9 at position [ 139. 3642. 2490.]\n",
      "string :  [  116. -2406.  2569.]\n",
      "s0=116. -2406.  2569.\n",
      "scanner 10 at position [  116. -2406.  2569.]\n",
      "string :  [-1173. -1146.  2550.]\n",
      "s0=-1173. -1146.  2550.\n",
      "scanner 11 at position [-1173. -1146.  2550.]\n",
      "string :  [-2300. -1212.  2377.]\n",
      "s0=-2300. -1212.  2377.\n",
      "scanner 12 at position [-2300. -1212.  2377.]\n",
      "string :  [   67. -2257.  3688.]\n",
      "s0=67. -2257.  3688.\n",
      "scanner 13 at position [   67. -2257.  3688.]\n",
      "string :  [-1094.  1335.  2464.]\n",
      "s0=-1094.  1335.  2464.\n",
      "scanner 14 at position [-1094.  1335.  2464.]\n",
      "string :  [-1128. -2365.  2443.]\n",
      "s0=-1128. -2365.  2443.\n",
      "scanner 15 at position [-1128. -2365.  2443.]\n",
      "string :  [  128. -2387.  1294.]\n",
      "s0=128. -2387.  1294.\n",
      "scanner 16 at position [  128. -2387.  1294.]\n",
      "string :  [ 1331. -2414.  2418.]\n",
      "s0=1331. -2414.  2418.\n",
      "scanner 17 at position [ 1331. -2414.  2418.]\n",
      "string :  [-1113.  2504.  2563.]\n",
      "s0=-1113.  2504.  2563.\n",
      "scanner 18 at position [-1113.  2504.  2563.]\n",
      "string :  [-1047.  1190.  3745.]\n",
      "s0=-1047.  1190.  3745.\n",
      "scanner 19 at position [-1047.  1190.  3745.]\n",
      "string :  [-1099.   114.  2497.]\n",
      "s0=-1099.   114.  2497.\n",
      "scanner 20 at position [-1099.   114.  2497.]\n",
      "string :  [2556.   -4. 2493.]\n",
      "s0=2556.   -4. 2493.\n",
      "scanner 21 at position [2556.   -4. 2493.]\n",
      "string :  [-1210. -1159.  1260.]\n",
      "s0=-1210. -1159.  1260.\n",
      "scanner 22 at position [-1210. -1159.  1260.]\n",
      "string :  [3740.    8. 2546.]\n",
      "s0=3740.    8. 2546.\n",
      "scanner 23 at position [3740.    8. 2546.]\n",
      "string :  [2562. 1288. 2553.]\n",
      "s0=2562. 1288. 2553.\n",
      "scanner 24 at position [2562. 1288. 2553.]\n",
      "string :  [-2233. -2293.  2383.]\n",
      "s0=-2233. -2293.  2383.\n",
      "scanner 25 at position [-2233. -2293.  2383.]\n",
      "string :  [ 1290. -3504.  2383.]\n",
      "s0=1290. -3504.  2383.\n",
      "scanner 26 at position [ 1290. -3504.  2383.]\n",
      "string :  [-1043. -2368.  3606.]\n",
      "s0=-1043. -2368.  3606.\n",
      "scanner 27 at position [-1043. -2368.  3606.]\n",
      "string :  [-1199.  3727.  2439.]\n",
      "s0=-1199.  3727.  2439.\n",
      "scanner 28 at position [-1199.  3727.  2439.]\n",
      "string :  [ 1191. -3565.  3682.]\n",
      "s0=1191. -3565.  3682.\n",
      "scanner 29 at position [ 1191. -3565.  3682.]\n",
      "string :  [ 2464. -3583.  2543.]\n",
      "s0=2464. -3583.  2543.\n",
      "scanner 30 at position [ 2464. -3583.  2543.]\n",
      "string :  [-1098. -3559.  3605.]\n",
      "s0=-1098. -3559.  3605.\n",
      "scanner 31 at position [-1098. -3559.  3605.]\n",
      "string :  [ 1351. -4756.  3766.]\n",
      "s0=1351. -4756.  3766.\n",
      "scanner 32 at position [ 1351. -4756.  3766.]\n",
      "string :  [ 2525. -4655.  3628.]\n",
      "s0=2525. -4655.  3628.\n",
      "scanner 33 at position [ 2525. -4655.  3628.]\n",
      "string :  [ 2389. -5879.  3631.]\n",
      "s0=2389. -5879.  3631.\n",
      "scanner 34 at position [ 2389. -5879.  3631.]\n",
      "string :  [ 3713. -5845.  3627.]\n",
      "s0=3713. -5845.  3627.\n",
      "scanner 35 at position [ 3713. -5845.  3627.]\n"
     ]
    }
   ],
   "source": [
    "beacon_poss = np.array([[0,0,0]])\n",
    "iscanner=1\n",
    "\n",
    "for l0 in lines:\n",
    "\n",
    "    translpos = l0.find(\"translate:\")\n",
    "    #print(f\"translpos={translpos}\")\n",
    "\n",
    "    if translpos>=0:\n",
    "        #Get the value\n",
    "        s = l0[ translpos+10:]\n",
    "        print(f\"string : {s}\")\n",
    "        s0 = s.strip('[ ]')\n",
    "        print(f\"s0={s0}\")\n",
    "        scanpos = np.fromstring( s0 , sep=\" \")\n",
    "        print(f\"scanner {iscanner} at position {scanpos}\")\n",
    "        beacon_poss = np.append(beacon_poss,[scanpos] , axis=0)\n",
    "        iscanner+=1"
   ]
  },
  {
   "cell_type": "code",
   "execution_count": 48,
   "metadata": {},
   "outputs": [
    {
     "data": {
      "text/plain": [
       "array([[ 0.000e+00,  0.000e+00,  0.000e+00],\n",
       "       [ 1.080e+02, -1.136e+03,  5.700e+01],\n",
       "       [ 1.040e+02,  6.000e+01,  1.191e+03],\n",
       "       [ 2.800e+01,  9.900e+01,  2.459e+03],\n",
       "       [ 5.500e+01, -1.183e+03,  2.527e+03],\n",
       "       [ 1.010e+02, -2.413e+03,  1.460e+02],\n",
       "       [ 1.219e+03,  7.900e+01,  2.541e+03],\n",
       "       [ 1.580e+02,  1.274e+03,  2.455e+03],\n",
       "       [ 1.860e+02,  2.456e+03,  2.380e+03],\n",
       "       [ 1.390e+02,  3.642e+03,  2.490e+03],\n",
       "       [ 1.160e+02, -2.406e+03,  2.569e+03],\n",
       "       [-1.173e+03, -1.146e+03,  2.550e+03],\n",
       "       [-2.300e+03, -1.212e+03,  2.377e+03],\n",
       "       [ 6.700e+01, -2.257e+03,  3.688e+03],\n",
       "       [-1.094e+03,  1.335e+03,  2.464e+03],\n",
       "       [-1.128e+03, -2.365e+03,  2.443e+03],\n",
       "       [ 1.280e+02, -2.387e+03,  1.294e+03],\n",
       "       [ 1.331e+03, -2.414e+03,  2.418e+03],\n",
       "       [-1.113e+03,  2.504e+03,  2.563e+03],\n",
       "       [-1.047e+03,  1.190e+03,  3.745e+03],\n",
       "       [-1.099e+03,  1.140e+02,  2.497e+03],\n",
       "       [ 2.556e+03, -4.000e+00,  2.493e+03],\n",
       "       [-1.210e+03, -1.159e+03,  1.260e+03],\n",
       "       [ 3.740e+03,  8.000e+00,  2.546e+03],\n",
       "       [ 2.562e+03,  1.288e+03,  2.553e+03],\n",
       "       [-2.233e+03, -2.293e+03,  2.383e+03],\n",
       "       [ 1.290e+03, -3.504e+03,  2.383e+03],\n",
       "       [-1.043e+03, -2.368e+03,  3.606e+03],\n",
       "       [-1.199e+03,  3.727e+03,  2.439e+03],\n",
       "       [ 1.191e+03, -3.565e+03,  3.682e+03],\n",
       "       [ 2.464e+03, -3.583e+03,  2.543e+03],\n",
       "       [-1.098e+03, -3.559e+03,  3.605e+03],\n",
       "       [ 1.351e+03, -4.756e+03,  3.766e+03],\n",
       "       [ 2.525e+03, -4.655e+03,  3.628e+03],\n",
       "       [ 2.389e+03, -5.879e+03,  3.631e+03],\n",
       "       [ 3.713e+03, -5.845e+03,  3.627e+03]])"
      ]
     },
     "execution_count": 48,
     "metadata": {},
     "output_type": "execute_result"
    }
   ],
   "source": [
    "beacon_poss"
   ]
  },
  {
   "cell_type": "code",
   "execution_count": null,
   "metadata": {},
   "outputs": [],
   "source": []
  },
  {
   "cell_type": "code",
   "execution_count": 50,
   "metadata": {},
   "outputs": [
    {
     "data": {
      "text/plain": [
       "15672"
      ]
     },
     "execution_count": 50,
     "metadata": {},
     "output_type": "execute_result"
    }
   ],
   "source": [
    "maxdistance = 0\n",
    "\n",
    "for ib0 in range(len(beacon_poss)-1):\n",
    "    vector0 = beacon_poss[ib0]\n",
    "    for ib1 in range(ib0+1, len(beacon_poss)):\n",
    "        vector1 = beacon_poss[ib1]\n",
    "\n",
    "        dist = getManhatanDistance(vector0,vector1)\n",
    "        maxdistance=max(dist, maxdistance)\n",
    "\n",
    "int(maxdistance)"
   ]
  },
  {
   "cell_type": "code",
   "execution_count": null,
   "metadata": {},
   "outputs": [],
   "source": []
  }
 ],
 "metadata": {
  "interpreter": {
   "hash": "181599033aa013a348f55e980951d395a235453ffaaf6fbabf88e9b4b2c9ad13"
  },
  "kernelspec": {
   "display_name": "Python 3.8.12 64-bit ('dev': conda)",
   "language": "python",
   "name": "python3"
  },
  "language_info": {
   "codemirror_mode": {
    "name": "ipython",
    "version": 3
   },
   "file_extension": ".py",
   "mimetype": "text/x-python",
   "name": "python",
   "nbconvert_exporter": "python",
   "pygments_lexer": "ipython3",
   "version": "3.8.12"
  },
  "orig_nbformat": 4
 },
 "nbformat": 4,
 "nbformat_minor": 2
}
