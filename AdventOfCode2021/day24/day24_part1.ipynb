{
 "cells": [
  {
   "cell_type": "code",
   "execution_count": 1,
   "metadata": {},
   "outputs": [],
   "source": [
    "filename=\"input.txt\""
   ]
  },
  {
   "cell_type": "code",
   "execution_count": 2,
   "metadata": {},
   "outputs": [],
   "source": [
    "with open(filename, 'r') as f:\n",
    "    lines = f.read().splitlines()"
   ]
  },
  {
   "cell_type": "code",
   "execution_count": 24,
   "metadata": {},
   "outputs": [],
   "source": [
    "import math\n",
    "class cALU:\n",
    "\n",
    "    vars = {'w':0 , 'x': 0 , 'y':0 , 'z':0}\n",
    "    def __init__(self, lines):\n",
    "        self.lines = lines\n",
    "    \n",
    "    def interpretEntryAsNumber(self,s):\n",
    "        if s == 'w' or s=='x' or s=='y' or s=='z':\n",
    "            return self.vars[s]\n",
    "        else:\n",
    "            return int(s)\n",
    "\n",
    "    def processNumber(self,numberstring, stopAtInput=None):\n",
    "        self.vars = {'w':0 , 'x': 0 , 'y':0 , 'z':0}\n",
    "        inputs = list(map(int,list(str(numberstring))))\n",
    "        print(inputs)\n",
    "\n",
    "        if stopAtInput is None:\n",
    "            stopAtInput=len(inputs)+1\n",
    "        ninput=0\n",
    "        bcontinue = True\n",
    "        for l0 in self.lines:\n",
    "            #print(f\"line:{l0}\")\n",
    "            s = l0.split()\n",
    "            if 'inp' in s[0]:\n",
    "                print(f\"input {ninput}:{inputs[ninput]}. lastz={self.vars['z']}\")\n",
    "                self.vars[s[1]] = inputs[ninput]\n",
    "                ninput+=1\n",
    "                if ninput > len(inputs) or ninput>stopAtInput:\n",
    "                    bcontinue=False\n",
    "            if 'add' in s[0]:\n",
    "                i0 = self.interpretEntryAsNumber(s[1])\n",
    "                i1 = self.interpretEntryAsNumber(s[2])\n",
    "                self.vars[s[1]] = i0+i1\n",
    "                #print(f\"add, {s[1]}+{s[2]} = {self.vars[s[1]]}\")\n",
    "            if 'mul' in s[0]:\n",
    "                i0 = self.interpretEntryAsNumber(s[1])\n",
    "                i1 = self.interpretEntryAsNumber(s[2])\n",
    "                self.vars[s[1]] = i0*i1\n",
    "                #print(f\"mul, {s[1]}*{s[2]} = {self.vars[s[1]]}\")\n",
    "            if 'div' in s[0]:\n",
    "                i0 = self.interpretEntryAsNumber(s[1])\n",
    "                i1 = self.interpretEntryAsNumber(s[2])\n",
    "                v = float(i0)/float(i1)\n",
    "                if v<0:\n",
    "                    v = math.ceil(v)\n",
    "                else:\n",
    "                    v= math.floor(v)\n",
    "\n",
    "                self.vars[s[1]] = int(v)\n",
    "                #print(f\"div, {s[1]}/{s[2]} = {self.vars[s[1]]}\")\n",
    "\n",
    "            if 'mod' in s[0]:\n",
    "                i0 = self.interpretEntryAsNumber(s[1])\n",
    "                i1 = self.interpretEntryAsNumber(s[2])\n",
    "                self.vars[s[1]] = i0 % i1\n",
    "                #print(f\"mod, {s[1]}%{s[2]} = {self.vars[s[1]]}\")\n",
    "\n",
    "            if 'eql' in s[0]:\n",
    "                i0 = self.interpretEntryAsNumber(s[1])\n",
    "                i1 = self.interpretEntryAsNumber(s[2])\n",
    "                self.vars[s[1]] = (i0==i1)\n",
    "                #print(f\"eql, {s[1]}=={s[2]} = {self.vars[s[1]]}\")\n",
    "\n",
    "\n",
    "            if not bcontinue:\n",
    "                break\n",
    "        return self.vars['z']\n"
   ]
  },
  {
   "cell_type": "code",
   "execution_count": 25,
   "metadata": {},
   "outputs": [],
   "source": [
    "alu = cALU(lines)"
   ]
  },
  {
   "cell_type": "code",
   "execution_count": 26,
   "metadata": {},
   "outputs": [
    {
     "name": "stdout",
     "output_type": "stream",
     "text": [
      "[1, 3, 5, 7, 9, 2, 4, 6, 8, 9, 9, 9, 9, 9]\n",
      "input 0:1. lastz=0\n",
      "input 1:3. lastz=17\n",
      "input 2:5. lastz=456\n",
      "input 3:7. lastz=11873\n",
      "input 4:9. lastz=11875\n",
      "input 5:2. lastz=11877\n",
      "input 6:4. lastz=308806\n",
      "input 7:6. lastz=8028971\n",
      "input 8:8. lastz=8028966\n",
      "input 9:9. lastz=208753136\n",
      "input 10:9. lastz=5427581554\n",
      "input 11:9. lastz=5427581555\n",
      "input 12:9. lastz=5427581556\n",
      "input 13:9. lastz=5427581551\n"
     ]
    },
    {
     "data": {
      "text/plain": [
       "5427581560"
      ]
     },
     "execution_count": 26,
     "metadata": {},
     "output_type": "execute_result"
    }
   ],
   "source": [
    "alu.processNumber(\"13579246899999\")"
   ]
  },
  {
   "cell_type": "code",
   "execution_count": 7,
   "metadata": {},
   "outputs": [
    {
     "data": {
      "text/plain": [
       "5427581551"
      ]
     },
     "execution_count": 7,
     "metadata": {},
     "output_type": "execute_result"
    }
   ],
   "source": [
    "alu.vars['z']"
   ]
  },
  {
   "cell_type": "code",
   "execution_count": 8,
   "metadata": {},
   "outputs": [],
   "source": [
    "operDict = {'mul':'*' , 'add' :'+' , 'div':'/' , 'mod':'%' , 'eql':'='}"
   ]
  },
  {
   "cell_type": "code",
   "execution_count": 39,
   "metadata": {},
   "outputs": [
    {
     "name": "stdout",
     "output_type": "stream",
     "text": [
      "i0=0 , line: add z y\n",
      "z_final = (z+y)\n",
      "i0=1 , line: mul y x\n",
      "z_final = (z+(y*x))\n",
      "i0=2 , line: add y 15\n",
      "z_final = (z+((y+15)*x))\n",
      "i0=3 , line: add y w\n",
      "z_final = (z+(((y+w)+15)*x))\n",
      "i0=4 , line: mul y 0\n",
      "z_final = (z+(((w)+15)*x))\n",
      "i0=5 , line: mul z y\n",
      "z_final = ((z*y)+(((w)+15)*x))\n",
      "i0=6 , line: add y 1\n",
      "z_final = ((z*(y+1))+(((w)+15)*x))\n",
      "i0=7 , line: mul y x\n",
      "z_final = ((z*((y*x)+1))+(((w)+15)*x))\n",
      "i0=8 , line: add y 25\n",
      "z_final = ((z*(((y+25)*x)+1))+(((w)+15)*x))\n",
      "i0=9 , line: mul y 0\n",
      "z_final = ((z*(((25)*x)+1))+(((w)+15)*x))\n",
      "i0=10 , line: eql x 0\n",
      "z_final = ((z*(((25)*(x==0))+1))+(((w)+15)*(x==0)))\n",
      "i0=11 , line: eql x w\n",
      "z_final = ((z*(((25)*((x==w)==0))+1))+(((w)+15)*((x==w)==0)))\n",
      "i0=12 , line: add x -11\n",
      "z_final = ((z*(((25)*(((x-11)==w)==0))+1))+(((w)+15)*(((x-11)==w)==0)))\n",
      "i0=13 , line: div z 26\n",
      "z_final = (((z/26)*(((25)*(((x-11)==w)==0))+1))+(((w)+15)*(((x-11)==w)==0)))\n",
      "i0=14 , line: mod x 26\n",
      "z_final = (((z/26)*(((25)*((((x%26)-11)==w)==0))+1))+(((w)+15)*((((x%26)-11)==w)==0)))\n",
      "i0=15 , line: add x z\n",
      "z_final = (((z/26)*(((25)*(((((x+z)%26)-11)==w)==0))+1))+(((w)+15)*(((((x+z)%26)-11)==w)==0)))\n",
      "i0=16 , line: mul x 0\n",
      "z_final = (((z/26)*(((25)*(((((z)%26)-11)==w)==0))+1))+(((w)+15)*(((((z)%26)-11)==w)==0)))\n",
      "i0=17 , line: inp w\n",
      "z_final = (((z/26)*(((25)*(((((z)%26)-11)==i13)==0))+1))+(((i13)+15)*(((((z)%26)-11)==i13)==0)))\n",
      "i0=18 , line: add z y\n",
      "z_final = ((((z+y)/26)*(((25)*((((((z+y))%26)-11)==i13)==0))+1))+(((i13)+15)*((((((z+y))%26)-11)==i13)==0)))\n",
      "i0=19 , line: mul y x\n",
      "z_final = ((((z+(y*x))/26)*(((25)*((((((z+(y*x)))%26)-11)==i13)==0))+1))+(((i13)+15)*((((((z+(y*x)))%26)-11)==i13)==0)))\n"
     ]
    }
   ],
   "source": [
    "#Try to read input in backwards direction\n",
    "\n",
    "zform = \"z\"\n",
    "ninp = 13\n",
    "for i0 in range(20):\n",
    "    \n",
    "    l0 = lines[len(lines)-1-i0]\n",
    "    print(f\"i0={i0} , line: {l0}\")\n",
    "\n",
    "    s = l0.split(' ')\n",
    "\n",
    "    vartorepl = s[1]\n",
    "    if 'inp' in s[0]:\n",
    "        newstr = 'i'+str(ninp)\n",
    "        ninp-=1\n",
    "    if 'add' in s[0]:\n",
    "        if '-' in s[2]:\n",
    "            newstr = \"(\"+vartorepl+ s[2]+\")\"\n",
    "        else:\n",
    "            newstr = \"(\"+vartorepl+\"+\"+s[2]+\")\"\n",
    "    if 'mul' in s[0]:\n",
    "        if s[2] =='0':\n",
    "            #Eliminate variable that is multiplying\n",
    "            newstr='0'\n",
    "        else:\n",
    "            newstr = \"(\"+vartorepl+\"*\"+s[2]+\")\"\n",
    "    if 'div' in s[0]:\n",
    "        newstr = \"(\"+vartorepl+\"/\"+s[2]+\")\"\n",
    "    if 'mod' in s[0]:\n",
    "        newstr = \"(\"+vartorepl+\"%\"+s[2]+\")\"\n",
    "    if 'eql' in s[0]:\n",
    "        newstr = \"(\"+vartorepl+\"==\"+s[2]+\")\"\n",
    "\n",
    "    zform = zform.replace(vartorepl, newstr )\n",
    "    zform = zform.replace('0+', '')\n",
    "    print(f\"z_final = {zform}\")\n"
   ]
  },
  {
   "cell_type": "code",
   "execution_count": null,
   "metadata": {},
   "outputs": [],
   "source": [
    "#Notice that at line 36, z is only a function of the i13\n",
    "#Perhaps best is to go backwards, input by input\n",
    "#And try to figure out best way to optimize the output"
   ]
  },
  {
   "cell_type": "code",
   "execution_count": 40,
   "metadata": {},
   "outputs": [],
   "source": [
    "class processBackwardsUntilInput:\n",
    "    def __init__(self,lines):\n",
    "        self.lines = lines\n",
    "        self.i0 = 0\n",
    "        self.ninput = 13\n",
    "\n",
    "    def processUntilNextInput(self,zform=\"z\"):\n",
    "        \n",
    "        foundNewInput=False\n",
    "        while not foundNewInput:\n",
    "            l0 = self.lines[len(self.lines)-1-self.i0]\n",
    "            print(f\"i0={self.i0} , line: {l0}\")\n",
    "\n",
    "            s = l0.split(' ')\n",
    "\n",
    "            newstr=''\n",
    "            vartorepl = s[1]\n",
    "\n",
    "            if 'inp' in s[0]:\n",
    "                newstr = 'i'+str(self.ninput)\n",
    "                self.ninput-=1\n",
    "                foundNewInput=True\n",
    "\n",
    "            if 'add' in s[0]:\n",
    "                if '-' in s[2]:\n",
    "                    newstr = \"(\"+vartorepl+ s[2]+\")\"\n",
    "                else:\n",
    "                    newstr = \"(\"+vartorepl+\"+\"+s[2]+\")\"\n",
    "            if 'mul' in s[0]:\n",
    "                if s[2] =='0':\n",
    "                    #Eliminate variable that is multiplying\n",
    "                    newstr='0'\n",
    "                else:\n",
    "                    newstr = \"(\"+vartorepl+\"*\"+s[2]+\")\"\n",
    "            if 'div' in s[0]:\n",
    "                newstr = \"(\"+vartorepl+\"/\"+s[2]+\")\"\n",
    "            if 'mod' in s[0]:\n",
    "                newstr = \"(\"+vartorepl+\"%\"+s[2]+\")\"\n",
    "            if 'eql' in s[0]:\n",
    "                newstr = \"(\"+vartorepl+\"==\"+s[2]+\")\"\n",
    "\n",
    "            zform = zform.replace(vartorepl, newstr )\n",
    "            zform = zform.replace('0+', '')\n",
    "            #print(f\"z_final = {zform}\")\n",
    "            self.i0+=1\n",
    "            \n",
    "        return zform\n",
    "        "
   ]
  },
  {
   "cell_type": "code",
   "execution_count": 41,
   "metadata": {},
   "outputs": [],
   "source": [
    "mproc = processBackwardsUntilInput(lines)"
   ]
  },
  {
   "cell_type": "code",
   "execution_count": 42,
   "metadata": {},
   "outputs": [
    {
     "name": "stdout",
     "output_type": "stream",
     "text": [
      "i0=0 , line: add z y\n",
      "i0=1 , line: mul y x\n",
      "i0=2 , line: add y 15\n",
      "i0=3 , line: add y w\n",
      "i0=4 , line: mul y 0\n",
      "i0=5 , line: mul z y\n",
      "i0=6 , line: add y 1\n",
      "i0=7 , line: mul y x\n",
      "i0=8 , line: add y 25\n",
      "i0=9 , line: mul y 0\n",
      "i0=10 , line: eql x 0\n",
      "i0=11 , line: eql x w\n",
      "i0=12 , line: add x -11\n",
      "i0=13 , line: div z 26\n",
      "i0=14 , line: mod x 26\n",
      "i0=15 , line: add x z\n",
      "i0=16 , line: mul x 0\n",
      "i0=17 , line: inp w\n"
     ]
    },
    {
     "data": {
      "text/plain": [
       "'(((z/26)*(((25)*(((((z)%26)-11)==i13)==0))+1))+(((i13)+15)*(((((z)%26)-11)==i13)==0)))'"
      ]
     },
     "execution_count": 42,
     "metadata": {},
     "output_type": "execute_result"
    }
   ],
   "source": [
    "mproc.processUntilNextInput()"
   ]
  },
  {
   "cell_type": "code",
   "execution_count": null,
   "metadata": {},
   "outputs": [],
   "source": [
    "#(((z/26)*(((25)*(((((z)%26)-11)==i13)==0))+1))+(((i13)+15)*(((((z)%26)-11)==i13)==0)))\n",
    "\n",
    "math.floor(z/26)*((25*( z%26 != (i13+11) )) +1)  +   (i13+15)*( (z%26) != (i13+11) ) \n"
   ]
  },
  {
   "cell_type": "code",
   "execution_count": 30,
   "metadata": {},
   "outputs": [
    {
     "name": "stdout",
     "output_type": "stream",
     "text": [
      "i0=18 , line: add z y\n",
      "i0=19 , line: mul y x\n",
      "i0=20 , line: add y 6\n",
      "i0=21 , line: add y w\n",
      "i0=22 , line: mul y 0\n",
      "i0=23 , line: mul z y\n",
      "i0=24 , line: add y 1\n",
      "i0=25 , line: mul y x\n",
      "i0=26 , line: add y 25\n",
      "i0=27 , line: mul y 0\n",
      "i0=28 , line: eql x 0\n",
      "i0=29 , line: eql x w\n",
      "i0=30 , line: add x -6\n",
      "i0=31 , line: div z 26\n",
      "i0=32 , line: mod x 26\n",
      "i0=33 , line: add x z\n",
      "i0=34 , line: mul x 0\n",
      "i0=35 , line: inp w\n"
     ]
    },
    {
     "data": {
      "text/plain": [
       "'(((z/26)*(((25)*(((((z)%26)-6)==i12)==0))+1))+(((i12)+6)*(((((z)%26)-6)==i12)==0)))'"
      ]
     },
     "execution_count": 30,
     "metadata": {},
     "output_type": "execute_result"
    }
   ],
   "source": [
    "mproc.processUntilNextInput()"
   ]
  },
  {
   "cell_type": "code",
   "execution_count": null,
   "metadata": {},
   "outputs": [],
   "source": [
    "# (((z/26)*(((25)*(((((z)%26)-6)==i12)==0))+1))+(((i12)+6)*(((((z)%26)-6)==i12)==0)))\n",
    "\n",
    "#Similar to previous\n",
    "#Need to ensure that z here is not multiple of 26\n",
    "math.floor(z/26)*((25*( z%26 != (i12+6) )) +1)  +  (i12+6)*( (z%26) != (i12+6) ) "
   ]
  },
  {
   "cell_type": "code",
   "execution_count": 31,
   "metadata": {},
   "outputs": [
    {
     "name": "stdout",
     "output_type": "stream",
     "text": [
      "i0=36 , line: add z y\n",
      "i0=37 , line: mul y x\n",
      "i0=38 , line: add y 11\n",
      "i0=39 , line: add y w\n",
      "i0=40 , line: mul y 0\n",
      "i0=41 , line: mul z y\n",
      "i0=42 , line: add y 1\n",
      "i0=43 , line: mul y x\n",
      "i0=44 , line: add y 25\n",
      "i0=45 , line: mul y 0\n",
      "i0=46 , line: eql x 0\n",
      "i0=47 , line: eql x w\n",
      "i0=48 , line: add x -11\n",
      "i0=49 , line: div z 26\n",
      "i0=50 , line: mod x 26\n",
      "i0=51 , line: add x z\n",
      "i0=52 , line: mul x 0\n",
      "i0=53 , line: inp w\n"
     ]
    },
    {
     "data": {
      "text/plain": [
       "'(((z/26)*(((25)*(((((z)%26)-11)==i11)==0))+1))+(((i11)+11)*(((((z)%26)-11)==i11)==0)))'"
      ]
     },
     "execution_count": 31,
     "metadata": {},
     "output_type": "execute_result"
    }
   ],
   "source": [
    "mproc.processUntilNextInput()"
   ]
  },
  {
   "cell_type": "code",
   "execution_count": null,
   "metadata": {},
   "outputs": [],
   "source": [
    "# (((z/26)*(((25)*(((((z)%26)-11)==i11)==0))+1))+(((i11)+11)*(((((z)%26)-11)==i11)==0)))\n",
    "\n",
    "math.floor(z/26)*((25*( z%26 != (i11+11) )) +1)  +  (i11+11)*( (z%26) != (i11+11) ) "
   ]
  },
  {
   "cell_type": "code",
   "execution_count": 32,
   "metadata": {},
   "outputs": [
    {
     "name": "stdout",
     "output_type": "stream",
     "text": [
      "i0=54 , line: add z y\n",
      "i0=55 , line: mul y x\n",
      "i0=56 , line: add y 10\n",
      "i0=57 , line: add y w\n",
      "i0=58 , line: mul y 0\n",
      "i0=59 , line: mul z y\n",
      "i0=60 , line: add y 1\n",
      "i0=61 , line: mul y x\n",
      "i0=62 , line: add y 25\n",
      "i0=63 , line: mul y 0\n",
      "i0=64 , line: eql x 0\n",
      "i0=65 , line: eql x w\n",
      "i0=66 , line: add x -7\n",
      "i0=67 , line: div z 26\n",
      "i0=68 , line: mod x 26\n",
      "i0=69 , line: add x z\n",
      "i0=70 , line: mul x 0\n",
      "i0=71 , line: inp w\n"
     ]
    },
    {
     "data": {
      "text/plain": [
       "'(((z/26)*(((25)*(((((z)%26)-7)==i10)==0))+1))+(((i10)+10)*(((((z)%26)-7)==i10)==0)))'"
      ]
     },
     "execution_count": 32,
     "metadata": {},
     "output_type": "execute_result"
    }
   ],
   "source": [
    "mproc.processUntilNextInput()"
   ]
  },
  {
   "cell_type": "code",
   "execution_count": null,
   "metadata": {},
   "outputs": [],
   "source": [
    "# (((z/26)*(((25)*(((((z)%26)-7)==i10)==0))+1))+(((i10)+10)*(((((z)%26)-7)==i10)==0)))\n",
    "\n",
    "math.floor(z/26)*((25*( z%26 != (i10+7) )) +1)  +  (i10+10)*( (z%26) != (i10+7) )"
   ]
  },
  {
   "cell_type": "code",
   "execution_count": 33,
   "metadata": {},
   "outputs": [
    {
     "name": "stdout",
     "output_type": "stream",
     "text": [
      "i0=72 , line: add z y\n",
      "i0=73 , line: mul y x\n",
      "i0=74 , line: add y 9\n",
      "i0=75 , line: add y w\n",
      "i0=76 , line: mul y 0\n",
      "i0=77 , line: mul z y\n",
      "i0=78 , line: add y 1\n",
      "i0=79 , line: mul y x\n",
      "i0=80 , line: add y 25\n",
      "i0=81 , line: mul y 0\n",
      "i0=82 , line: eql x 0\n",
      "i0=83 , line: eql x w\n",
      "i0=84 , line: add x 15\n",
      "i0=85 , line: div z 1\n",
      "i0=86 , line: mod x 26\n",
      "i0=87 , line: add x z\n",
      "i0=88 , line: mul x 0\n",
      "i0=89 , line: inp w\n"
     ]
    },
    {
     "data": {
      "text/plain": [
       "'(((z/1)*(((25)*(((((z)%26)+15)==i9)==0))+1))+(((i9)+9)*(((((z)%26)+15)==i9)==0)))'"
      ]
     },
     "execution_count": 33,
     "metadata": {},
     "output_type": "execute_result"
    }
   ],
   "source": [
    "mproc.processUntilNextInput()"
   ]
  },
  {
   "cell_type": "code",
   "execution_count": null,
   "metadata": {},
   "outputs": [],
   "source": [
    "# (((z/1)*(((25)*(((((z)%26)+15)==i9)==0))+1))+(((i9)+9)*(((((z)%26)+15)==i9)==0)))\n",
    "\n",
    "(z*((25*((((z%26)+15)==i9)==0))+1))+((i9+9)*((((z%26)+15)==i9)==0))\n",
    "#Since i9 goes from 0 to 9 then i9-15 <0, which means the mod will never be equal to i9-15, so this is always true\n",
    "z*(25+1)+i9+9 = 26*z +i9+9"
   ]
  },
  {
   "cell_type": "code",
   "execution_count": 34,
   "metadata": {},
   "outputs": [
    {
     "name": "stdout",
     "output_type": "stream",
     "text": [
      "i0=90 , line: add z y\n",
      "i0=91 , line: mul y x\n",
      "i0=92 , line: add y 12\n",
      "i0=93 , line: add y w\n",
      "i0=94 , line: mul y 0\n",
      "i0=95 , line: mul z y\n",
      "i0=96 , line: add y 1\n",
      "i0=97 , line: mul y x\n",
      "i0=98 , line: add y 25\n",
      "i0=99 , line: mul y 0\n",
      "i0=100 , line: eql x 0\n",
      "i0=101 , line: eql x w\n",
      "i0=102 , line: add x 14\n",
      "i0=103 , line: div z 1\n",
      "i0=104 , line: mod x 26\n",
      "i0=105 , line: add x z\n",
      "i0=106 , line: mul x 0\n",
      "i0=107 , line: inp w\n"
     ]
    },
    {
     "data": {
      "text/plain": [
       "'(((z/1)*(((25)*(((((z)%26)+14)==i8)==0))+1))+(((i8)+12)*(((((z)%26)+14)==i8)==0)))'"
      ]
     },
     "execution_count": 34,
     "metadata": {},
     "output_type": "execute_result"
    }
   ],
   "source": [
    "mproc.processUntilNextInput()"
   ]
  },
  {
   "cell_type": "code",
   "execution_count": null,
   "metadata": {},
   "outputs": [],
   "source": [
    "# (((z/1)*(((25)*(((((z)%26)+14)==i8)==0))+1))+(((i8)+12)*(((((z)%26)+14)==i8)==0)))\n",
    "((z*((25*((((z%26)+14)==i8)==0))+1))+((i8+12)*((((z%26)+14)==i8)==0)))\n",
    "#As in previous case\n",
    "((((z%26)+14)==i8)==0) = 1\n",
    "#So becomes\n",
    "26*z +i8+12"
   ]
  },
  {
   "cell_type": "code",
   "execution_count": 35,
   "metadata": {},
   "outputs": [
    {
     "name": "stdout",
     "output_type": "stream",
     "text": [
      "i0=108 , line: add z y\n",
      "i0=109 , line: mul y x\n",
      "i0=110 , line: add y 4\n",
      "i0=111 , line: add y w\n",
      "i0=112 , line: mul y 0\n",
      "i0=113 , line: mul z y\n",
      "i0=114 , line: add y 1\n",
      "i0=115 , line: mul y x\n",
      "i0=116 , line: add y 25\n",
      "i0=117 , line: mul y 0\n",
      "i0=118 , line: eql x 0\n",
      "i0=119 , line: eql x w\n",
      "i0=120 , line: add x -16\n",
      "i0=121 , line: div z 26\n",
      "i0=122 , line: mod x 26\n",
      "i0=123 , line: add x z\n",
      "i0=124 , line: mul x 0\n",
      "i0=125 , line: inp w\n"
     ]
    },
    {
     "data": {
      "text/plain": [
       "'(((z/26)*(((25)*(((((z)%26)-16)==i7)==0))+1))+(((i7)+4)*(((((z)%26)-16)==i7)==0)))'"
      ]
     },
     "execution_count": 35,
     "metadata": {},
     "output_type": "execute_result"
    }
   ],
   "source": [
    "mproc.processUntilNextInput()"
   ]
  },
  {
   "cell_type": "code",
   "execution_count": null,
   "metadata": {},
   "outputs": [],
   "source": [
    "# (((z/26)*(((25)*(((((z)%26)-16)==i7)==0))+1))+(((i7)+4)*(((((z)%26)-16)==i7)==0)))\n",
    "\n",
    "math.floor(z/26)*((25*( z%26 != (i7+16) )) +1)  +  (i7+4)*( (z%26) != (i7+16) )"
   ]
  },
  {
   "cell_type": "code",
   "execution_count": 36,
   "metadata": {},
   "outputs": [
    {
     "name": "stdout",
     "output_type": "stream",
     "text": [
      "i0=126 , line: add z y\n",
      "i0=127 , line: mul y x\n",
      "i0=128 , line: add y 11\n",
      "i0=129 , line: add y w\n",
      "i0=130 , line: mul y 0\n",
      "i0=131 , line: mul z y\n",
      "i0=132 , line: add y 1\n",
      "i0=133 , line: mul y x\n",
      "i0=134 , line: add y 25\n",
      "i0=135 , line: mul y 0\n",
      "i0=136 , line: eql x 0\n",
      "i0=137 , line: eql x w\n",
      "i0=138 , line: add x 15\n",
      "i0=139 , line: div z 1\n",
      "i0=140 , line: mod x 26\n",
      "i0=141 , line: add x z\n",
      "i0=142 , line: mul x 0\n",
      "i0=143 , line: inp w\n"
     ]
    },
    {
     "data": {
      "text/plain": [
       "'(((z/1)*(((25)*(((((z)%26)+15)==i6)==0))+1))+(((i6)+11)*(((((z)%26)+15)==i6)==0)))'"
      ]
     },
     "execution_count": 36,
     "metadata": {},
     "output_type": "execute_result"
    }
   ],
   "source": [
    "mproc.processUntilNextInput()"
   ]
  },
  {
   "cell_type": "code",
   "execution_count": null,
   "metadata": {},
   "outputs": [],
   "source": [
    "((z*(((25)*((((z%26)+15)==i6)==0))+1))+((i6+11)*((((z%26)+15)==i6)==0)))\n",
    "\n",
    "#  z%26 != i6-15) always true\n",
    "26*z + i6+11"
   ]
  },
  {
   "cell_type": "code",
   "execution_count": 37,
   "metadata": {},
   "outputs": [
    {
     "name": "stdout",
     "output_type": "stream",
     "text": [
      "i0=144 , line: add z y\n",
      "i0=145 , line: mul y x\n",
      "i0=146 , line: add y 2\n",
      "i0=147 , line: add y w\n",
      "i0=148 , line: mul y 0\n",
      "i0=149 , line: mul z y\n",
      "i0=150 , line: add y 1\n",
      "i0=151 , line: mul y x\n",
      "i0=152 , line: add y 25\n",
      "i0=153 , line: mul y 0\n",
      "i0=154 , line: eql x 0\n",
      "i0=155 , line: eql x w\n",
      "i0=156 , line: add x 14\n",
      "i0=157 , line: div z 1\n",
      "i0=158 , line: mod x 26\n",
      "i0=159 , line: add x z\n",
      "i0=160 , line: mul x 0\n",
      "i0=161 , line: inp w\n"
     ]
    },
    {
     "data": {
      "text/plain": [
       "'(((z/1)*(((25)*(((((z)%26)+14)==i5)==0))+1))+(((i5)+2)*(((((z)%26)+14)==i5)==0)))'"
      ]
     },
     "execution_count": 37,
     "metadata": {},
     "output_type": "execute_result"
    }
   ],
   "source": [
    "mproc.processUntilNextInput()"
   ]
  },
  {
   "cell_type": "code",
   "execution_count": null,
   "metadata": {},
   "outputs": [],
   "source": [
    "26*z + i5+2"
   ]
  },
  {
   "cell_type": "code",
   "execution_count": 38,
   "metadata": {},
   "outputs": [
    {
     "name": "stdout",
     "output_type": "stream",
     "text": [
      "i0=162 , line: add z y\n",
      "i0=163 , line: mul y x\n",
      "i0=164 , line: add y 12\n",
      "i0=165 , line: add y w\n",
      "i0=166 , line: mul y 0\n",
      "i0=167 , line: mul z y\n",
      "i0=168 , line: add y 1\n",
      "i0=169 , line: mul y x\n",
      "i0=170 , line: add y 25\n",
      "i0=171 , line: mul y 0\n",
      "i0=172 , line: eql x 0\n",
      "i0=173 , line: eql x w\n",
      "i0=174 , line: add x -3\n",
      "i0=175 , line: div z 26\n",
      "i0=176 , line: mod x 26\n",
      "i0=177 , line: add x z\n",
      "i0=178 , line: mul x 0\n",
      "i0=179 , line: inp w\n"
     ]
    },
    {
     "data": {
      "text/plain": [
       "'(((z/26)*(((25)*(((((z)%26)-3)==i4)==0))+1))+(((i4)+12)*(((((z)%26)-3)==i4)==0)))'"
      ]
     },
     "execution_count": 38,
     "metadata": {},
     "output_type": "execute_result"
    }
   ],
   "source": [
    "mproc.processUntilNextInput()"
   ]
  },
  {
   "cell_type": "code",
   "execution_count": null,
   "metadata": {},
   "outputs": [],
   "source": [
    "(((z/26)*(((25)*(((((z)%26)-3)==i4)==0))+1))+(((i4)+12)*(((((z)%26)-3)==i4)==0)))\n",
    "\n",
    "math.floor(z/26)*((25*( z%26 != (i4+3) )) +1)  +  (i4+12)*( (z%26) != (i4+3) )"
   ]
  },
  {
   "cell_type": "code",
   "execution_count": 39,
   "metadata": {},
   "outputs": [
    {
     "name": "stdout",
     "output_type": "stream",
     "text": [
      "i0=180 , line: add z y\n",
      "i0=181 , line: mul y x\n",
      "i0=182 , line: add y 12\n",
      "i0=183 , line: add y w\n",
      "i0=184 , line: mul y 0\n",
      "i0=185 , line: mul z y\n",
      "i0=186 , line: add y 1\n",
      "i0=187 , line: mul y x\n",
      "i0=188 , line: add y 25\n",
      "i0=189 , line: mul y 0\n",
      "i0=190 , line: eql x 0\n",
      "i0=191 , line: eql x w\n",
      "i0=192 , line: add x -5\n",
      "i0=193 , line: div z 26\n",
      "i0=194 , line: mod x 26\n",
      "i0=195 , line: add x z\n",
      "i0=196 , line: mul x 0\n",
      "i0=197 , line: inp w\n"
     ]
    },
    {
     "data": {
      "text/plain": [
       "'(((z/26)*(((25)*(((((z)%26)-5)==i3)==0))+1))+(((i3)+12)*(((((z)%26)-5)==i3)==0)))'"
      ]
     },
     "execution_count": 39,
     "metadata": {},
     "output_type": "execute_result"
    }
   ],
   "source": [
    "mproc.processUntilNextInput()"
   ]
  },
  {
   "cell_type": "code",
   "execution_count": null,
   "metadata": {},
   "outputs": [],
   "source": [
    "(((z/26)*(((25)*(((((z)%26)-5)==i3)==0))+1))+(((i3)+12)*(((((z)%26)-5)==i3)==0)))\n",
    "\n",
    "math.floor(z/26)*((25*( z%26 != (i3+5) )) +1)  +  (i3+12)*( (z%26) != (i3+5) )"
   ]
  },
  {
   "cell_type": "code",
   "execution_count": 40,
   "metadata": {},
   "outputs": [
    {
     "name": "stdout",
     "output_type": "stream",
     "text": [
      "i0=198 , line: add z y\n",
      "i0=199 , line: mul y x\n",
      "i0=200 , line: add y 12\n",
      "i0=201 , line: add y w\n",
      "i0=202 , line: mul y 0\n",
      "i0=203 , line: mul z y\n",
      "i0=204 , line: add y 1\n",
      "i0=205 , line: mul y x\n",
      "i0=206 , line: add y 25\n",
      "i0=207 , line: mul y 0\n",
      "i0=208 , line: eql x 0\n",
      "i0=209 , line: eql x w\n",
      "i0=210 , line: add x 13\n",
      "i0=211 , line: div z 1\n",
      "i0=212 , line: mod x 26\n",
      "i0=213 , line: add x z\n",
      "i0=214 , line: mul x 0\n",
      "i0=215 , line: inp w\n"
     ]
    },
    {
     "data": {
      "text/plain": [
       "'(((z/1)*(((25)*(((((z)%26)+13)==i2)==0))+1))+(((i2)+12)*(((((z)%26)+13)==i2)==0)))'"
      ]
     },
     "execution_count": 40,
     "metadata": {},
     "output_type": "execute_result"
    }
   ],
   "source": [
    "mproc.processUntilNextInput()"
   ]
  },
  {
   "cell_type": "code",
   "execution_count": null,
   "metadata": {},
   "outputs": [],
   "source": [
    "26*z + i2+12"
   ]
  },
  {
   "cell_type": "code",
   "execution_count": 41,
   "metadata": {},
   "outputs": [
    {
     "name": "stdout",
     "output_type": "stream",
     "text": [
      "i0=216 , line: add z y\n",
      "i0=217 , line: mul y x\n",
      "i0=218 , line: add y 11\n",
      "i0=219 , line: add y w\n",
      "i0=220 , line: mul y 0\n",
      "i0=221 , line: mul z y\n",
      "i0=222 , line: add y 1\n",
      "i0=223 , line: mul y x\n",
      "i0=224 , line: add y 25\n",
      "i0=225 , line: mul y 0\n",
      "i0=226 , line: eql x 0\n",
      "i0=227 , line: eql x w\n",
      "i0=228 , line: add x 12\n",
      "i0=229 , line: div z 1\n",
      "i0=230 , line: mod x 26\n",
      "i0=231 , line: add x z\n",
      "i0=232 , line: mul x 0\n",
      "i0=233 , line: inp w\n"
     ]
    },
    {
     "data": {
      "text/plain": [
       "'(((z/1)*(((25)*(((((z)%26)+12)==i1)==0))+1))+(((i1)+11)*(((((z)%26)+12)==i1)==0)))'"
      ]
     },
     "execution_count": 41,
     "metadata": {},
     "output_type": "execute_result"
    }
   ],
   "source": [
    "mproc.processUntilNextInput()"
   ]
  },
  {
   "cell_type": "code",
   "execution_count": null,
   "metadata": {},
   "outputs": [],
   "source": [
    "26*z +i1+11"
   ]
  },
  {
   "cell_type": "code",
   "execution_count": 42,
   "metadata": {},
   "outputs": [
    {
     "name": "stdout",
     "output_type": "stream",
     "text": [
      "i0=234 , line: add z y\n",
      "i0=235 , line: mul y x\n",
      "i0=236 , line: add y 16\n",
      "i0=237 , line: add y w\n",
      "i0=238 , line: mul y 0\n",
      "i0=239 , line: mul z y\n",
      "i0=240 , line: add y 1\n",
      "i0=241 , line: mul y x\n",
      "i0=242 , line: add y 25\n",
      "i0=243 , line: mul y 0\n",
      "i0=244 , line: eql x 0\n",
      "i0=245 , line: eql x w\n",
      "i0=246 , line: add x 11\n",
      "i0=247 , line: div z 1\n",
      "i0=248 , line: mod x 26\n",
      "i0=249 , line: add x z\n",
      "i0=250 , line: mul x 0\n",
      "i0=251 , line: inp w\n"
     ]
    },
    {
     "data": {
      "text/plain": [
       "'(((z/1)*(((25)*(((((z)%26)+11)==i0)==0))+1))+(((i0)+16)*(((((z)%26)+11)==i0)==0)))'"
      ]
     },
     "execution_count": 42,
     "metadata": {},
     "output_type": "execute_result"
    }
   ],
   "source": [
    "mproc.processUntilNextInput()"
   ]
  },
  {
   "cell_type": "code",
   "execution_count": null,
   "metadata": {},
   "outputs": [],
   "source": [
    "26*z +i0+16"
   ]
  },
  {
   "cell_type": "code",
   "execution_count": null,
   "metadata": {},
   "outputs": [],
   "source": [
    "'''\n",
    "Rereversing again and combining\n",
    "26*z +i0+16. but at begining z=0\n",
    "26*z +i1+11\n",
    "26*z + i2+12\n",
    "(floor(z/26)*26+i3+12) * (z%26 != i3+5)\n",
    "(floor(z/26)*26+i4+12) * (z%26 != i4+3 )\n",
    "26*z + i5+2\n",
    "26*z + i6+11\n",
    "(floor(z/26)*26+i7+4) * ( z%26 != i7+16)\n",
    "26*z +i8+12\n",
    "z*(25+1)+i9+9 = 26*z +i9+9\n",
    "(floor(z/26)*26+i10+7) * ( z%26 != i10+7)\n",
    "(floor(z/26)*26+i11+11)*(z%26 != i11+11)\n",
    "(floor(z/26)*26+i12+6) * (z%26 != i12+6)\n",
    "(floor(z/26)*26+i13+15) * (z%26!=i13+11)\n",
    "'''"
   ]
  },
  {
   "cell_type": "code",
   "execution_count": 66,
   "metadata": {},
   "outputs": [],
   "source": [
    "z0 = lambda z,i0: 26*z+i0+16\n",
    "z1 = lambda z,i1: 26*z +i1+11\n",
    "z2 = lambda z,i2: 26*z + i2+12\n",
    "z3 = lambda z,i3: math.floor(z/26)*((25*( z%26 != (i3+5) )) +1)  +  (i3+12)*( (z%26) != (i3+5) )\n",
    "z4 = lambda z,i4: math.floor(z/26)*((25*( z%26 != (i4+3) )) +1)  +  (i4+12)*( (z%26) != (i4+3) )\n",
    "z5 = lambda z,i5: 26*z + i5+2\n",
    "z6 = lambda z,i6: 26*z + i6+11\n",
    "z7 = lambda z,i7: math.floor(z/26)*((25*( z%26 != (i7+16) )) +1)  +  (i7+4)*( (z%26) != (i7+16) )\n",
    "z8 = lambda z,i8: 26*z +i8+12\n",
    "z9 = lambda z,i9: 26*z +i9+9\n",
    "z10 = lambda z,i10: math.floor(z/26)*((25*( z%26 != (i10+7) )) +1)  +  (i10+10)*( (z%26) != (i10+7) )\n",
    "z11 = lambda z,i11: math.floor(z/26)*((25*( z%26 != (i11+11) )) +1)  +  (i11+11)*( (z%26) != (i11+11) ) \n",
    "z12 = lambda z,i12: math.floor(z/26)*((25*( z%26 != (i12+6) )) +1)  +  (i12+6)*( (z%26) != (i12+6) ) \n",
    "z13 = lambda z,i13: math.floor(z/26)*((25*( z%26 != (i13+11) )) +1)  +   (i13+15)*( (z%26) != (i13+11) ) "
   ]
  },
  {
   "cell_type": "code",
   "execution_count": 67,
   "metadata": {},
   "outputs": [],
   "source": [
    "alllambdas = [z0,z1,z2,z3,z4,z5,z6,z7,z8,z9,z10,z11,z12,z13]"
   ]
  },
  {
   "cell_type": "code",
   "execution_count": 68,
   "metadata": {},
   "outputs": [],
   "source": [
    "def alu_lambdas(numberstring, stopAt=None):\n",
    "    z=0\n",
    "    values = []\n",
    "    for c in numberstring:\n",
    "        v=int(c)\n",
    "        values.append(v)\n",
    "    \n",
    "    if stopAt is None:\n",
    "        stopAt=len(alllambdas)\n",
    "    \n",
    "    for ninput in range(stopAt):\n",
    "        v0=values[ninput]\n",
    "        \n",
    "        f = alllambdas[ninput]\n",
    "        z= f(z,v0)\n",
    "        print(f\"input {ninput}:{v0} , z = {z}\")\n",
    "    return z"
   ]
  },
  {
   "cell_type": "code",
   "execution_count": 69,
   "metadata": {},
   "outputs": [],
   "source": [
    "import random\n",
    "def createRandomInt14():\n",
    "    s = ''\n",
    "    for i in range(14):\n",
    "        s+= str(random.randint(1,9))\n",
    "    return s"
   ]
  },
  {
   "cell_type": "code",
   "execution_count": 13,
   "metadata": {},
   "outputs": [
    {
     "data": {
      "text/plain": [
       "'39977411356491'"
      ]
     },
     "execution_count": 13,
     "metadata": {},
     "output_type": "execute_result"
    }
   ],
   "source": [
    "createRandomInt14()"
   ]
  },
  {
   "cell_type": "code",
   "execution_count": 77,
   "metadata": {},
   "outputs": [
    {
     "name": "stdout",
     "output_type": "stream",
     "text": [
      "63167252519187\n",
      "[6, 3, 1, 6, 7, 2, 5, 2, 5, 1, 9, 1, 8, 7]\n",
      "input 0:6. lastz=0\n",
      "input 1:3. lastz=22\n",
      "input 2:1. lastz=586\n",
      "input 3:6. lastz=15249\n",
      "input 4:7. lastz=15254\n",
      "input 5:2. lastz=15255\n",
      "input 6:5. lastz=396634\n",
      "input 7:2. lastz=10312500\n",
      "input 8:5. lastz=10312490\n",
      "input 9:1. lastz=268124757\n",
      "input 10:9. lastz=6971243692\n",
      "input 11:1. lastz=6971243701\n",
      "input 12:8. lastz=6971243694\n",
      "input 13:7. lastz=6971243696\n",
      "ALU processnumber 6971243704\n",
      "input 0:6 , z = 22\n",
      "input 1:3 , z = 586\n",
      "input 2:1 , z = 15249\n",
      "input 3:6 , z = 15254\n",
      "input 4:7 , z = 15255\n",
      "input 5:2 , z = 396634\n",
      "input 6:5 , z = 10312500\n",
      "input 7:2 , z = 10312490\n",
      "input 8:5 , z = 268124757\n",
      "input 9:1 , z = 6971243692\n",
      "input 10:9 , z = 6971243701\n",
      "input 11:1 , z = 6971243694\n",
      "input 12:8 , z = 6971243696\n",
      "input 13:7 , z = 6971243704\n",
      "ALU lambdas process 6971243704\n"
     ]
    }
   ],
   "source": [
    "n14 = createRandomInt14()\n",
    "print(n14)\n",
    "alu=cALU(lines)\n",
    "\n",
    "alu_value = alu.processNumber(n14)\n",
    "print(f\"ALU processnumber {alu_value}\")\n",
    "\n",
    "alu_lambdas_value = alu_lambdas(n14)\n",
    "print(f\"ALU lambdas process {alu_lambdas_value}\")\n",
    "\n",
    "assert alu_value == alu_lambdas_value , \"Error, values not equal\"\n",
    "#sometimes does not work\n",
    "#Example of fails\n",
    "# 76333899759847\n",
    "# 71139667857115\n",
    "# 65472638631894\n"
   ]
  },
  {
   "cell_type": "code",
   "execution_count": 80,
   "metadata": {},
   "outputs": [],
   "source": [
    "import math\n",
    "class cALU3:\n",
    "    #Simplified\n",
    "\n",
    "    vars = {'w':0 , 'x': 0 , 'y':0 , 'z':0}\n",
    "    def __init__(self, lines):\n",
    "        self.lines = lines\n",
    "    \n",
    "    def interpretEntryAsNumber(self,s):\n",
    "        if s == 'w' or s=='x' or s=='y' or s=='z':\n",
    "            return self.vars[s]\n",
    "        else:\n",
    "            return int(s)\n",
    "\n",
    "    def processNumber(self,numberstring):\n",
    "        self.vars = {'w':0 , 'x': 0 , 'y':0 , 'z':0}\n",
    "        inputs = list(map(int,list(str(numberstring))))\n",
    "\n",
    "        ninput=0\n",
    "        bcontinue = True\n",
    "        for l0 in self.lines:\n",
    "            s = l0.split()\n",
    "            if 'inp' in s[0]:\n",
    "                #print(f\"input {ninput}:{inputs[ninput]}. lastz={self.vars['z']}\")\n",
    "                self.vars[s[1]] = inputs[ninput]\n",
    "                ninput+=1\n",
    "            if 'add' in s[0]:\n",
    "                i0 = self.interpretEntryAsNumber(s[1])\n",
    "                i1 = self.interpretEntryAsNumber(s[2])\n",
    "                self.vars[s[1]] = i0+i1\n",
    "\n",
    "            if 'mul' in s[0]:\n",
    "                i0 = self.interpretEntryAsNumber(s[1])\n",
    "                i1 = self.interpretEntryAsNumber(s[2])\n",
    "                self.vars[s[1]] = i0*i1\n",
    "\n",
    "            if 'div' in s[0]:\n",
    "                i0 = self.interpretEntryAsNumber(s[1])\n",
    "                i1 = self.interpretEntryAsNumber(s[2])\n",
    "                v = float(i0)/float(i1)\n",
    "                if v<0:\n",
    "                    v = math.ceil(v)\n",
    "                else:\n",
    "                    v= math.floor(v)\n",
    "\n",
    "                self.vars[s[1]] = int(v)\n",
    "\n",
    "            if 'mod' in s[0]:\n",
    "                i0 = self.interpretEntryAsNumber(s[1])\n",
    "                i1 = self.interpretEntryAsNumber(s[2])\n",
    "                self.vars[s[1]] = i0 % i1\n",
    "\n",
    "            if 'eql' in s[0]:\n",
    "                i0 = self.interpretEntryAsNumber(s[1])\n",
    "                i1 = self.interpretEntryAsNumber(s[2])\n",
    "                self.vars[s[1]] = (i0==i1)\n",
    "\n",
    "                \n",
    "            if not bcontinue:\n",
    "                break\n",
    "        return self.vars['z']\n",
    "\n",
    "alu3 = cALU3(lines)\n"
   ]
  },
  {
   "cell_type": "code",
   "execution_count": 82,
   "metadata": {},
   "outputs": [],
   "source": [
    "def alu_lambdas3(numberstring, stopAt=None):\n",
    "    z=0\n",
    "    values = []\n",
    "    for c in numberstring:\n",
    "        v=int(c)\n",
    "        values.append(v)\n",
    "    \n",
    "    if stopAt is None:\n",
    "        stopAt=len(alllambdas)\n",
    "    \n",
    "    for ninput in range(stopAt):\n",
    "        v0=values[ninput]\n",
    "        \n",
    "        f = alllambdas[ninput]\n",
    "        z= f(z,v0)\n",
    "        #print(f\"input {ninput}:{v0} , z = {z}\")\n",
    "    return z"
   ]
  },
  {
   "cell_type": "code",
   "execution_count": 85,
   "metadata": {},
   "outputs": [
    {
     "name": "stdout",
     "output_type": "stream",
     "text": [
      "i:0 , n14:77195795683384\n",
      "i:1 , n14:78647737638225\n",
      "i:2 , n14:68427486521471\n",
      "i:3 , n14:28324812199586\n",
      "i:4 , n14:97217981358314\n",
      "i:5 , n14:89697477542163\n",
      "i:6 , n14:96847766937211\n",
      "i:7 , n14:76172143433311\n",
      "i:8 , n14:27215463762732\n",
      "i:9 , n14:81922281243971\n",
      "i:10 , n14:92899652637146\n",
      "i:11 , n14:17664486246868\n",
      "i:12 , n14:36418763816195\n",
      "i:13 , n14:81561293883136\n",
      "i:14 , n14:51856931573631\n",
      "i:15 , n14:11734468497488\n",
      "i:16 , n14:47414718158675\n",
      "i:17 , n14:48956399179523\n",
      "i:18 , n14:86954452331367\n",
      "i:19 , n14:44248761594782\n",
      "i:20 , n14:71335881394854\n",
      "i:21 , n14:11566289656347\n",
      "i:22 , n14:41352115934849\n",
      "i:23 , n14:33852991194354\n",
      "i:24 , n14:64274879285142\n",
      "i:25 , n14:13211412393934\n",
      "i:26 , n14:57799871646729\n",
      "i:27 , n14:18639124441325\n",
      "i:28 , n14:13881628131616\n",
      "i:29 , n14:15118328419474\n",
      "i:30 , n14:22487626371844\n",
      "i:31 , n14:34129158747744\n",
      "i:32 , n14:61754174441286\n",
      "i:33 , n14:96152421465916\n",
      "i:34 , n14:68245238979358\n",
      "i:35 , n14:76344684935466\n",
      "i:36 , n14:71398795134496\n",
      "i:37 , n14:37312579356878\n",
      "i:38 , n14:73663686381166\n",
      "i:39 , n14:36221378959993\n",
      "i:40 , n14:83287322664684\n",
      "i:41 , n14:23276117595869\n",
      "i:42 , n14:53455134571844\n",
      "i:43 , n14:52836748924455\n",
      "i:44 , n14:18367122326347\n",
      "i:45 , n14:81718583115585\n",
      "i:46 , n14:11783925946317\n",
      "i:47 , n14:52826567259421\n",
      "i:48 , n14:57794491729193\n",
      "i:49 , n14:17634827234634\n",
      "i:50 , n14:95953337337477\n",
      "i:51 , n14:99843769849975\n",
      "i:52 , n14:29474395327915\n",
      "i:53 , n14:35924687822789\n",
      "i:54 , n14:53829642319631\n",
      "i:55 , n14:34823163665584\n",
      "i:56 , n14:64883329573937\n",
      "i:57 , n14:68243685448759\n",
      "i:58 , n14:63629293168651\n",
      "i:59 , n14:22737419683699\n",
      "i:60 , n14:74714124196715\n",
      "i:61 , n14:89596526193564\n",
      "i:62 , n14:35841862662724\n",
      "i:63 , n14:14629877568451\n",
      "i:64 , n14:19967956237388\n",
      "i:65 , n14:34897145528685\n",
      "i:66 , n14:93742861693731\n",
      "i:67 , n14:71582378486684\n",
      "i:68 , n14:69557234647824\n",
      "i:69 , n14:93963761887399\n",
      "i:70 , n14:42473757623714\n",
      "i:71 , n14:47449781841545\n",
      "i:72 , n14:22637313314344\n",
      "i:73 , n14:59416265964539\n",
      "i:74 , n14:86993311943895\n",
      "i:75 , n14:16257382261139\n",
      "i:76 , n14:48386268443556\n",
      "i:77 , n14:76293247239939\n",
      "i:78 , n14:15672238525213\n",
      "i:79 , n14:71471914751889\n",
      "i:80 , n14:89378228926675\n",
      "i:81 , n14:38195899278294\n",
      "i:82 , n14:25422839646266\n",
      "i:83 , n14:19113692569577\n",
      "i:84 , n14:22168386385539\n",
      "i:85 , n14:99321326286677\n",
      "i:86 , n14:55779643683821\n",
      "i:87 , n14:45692659629295\n",
      "i:88 , n14:16192321193314\n",
      "i:89 , n14:48138314752541\n",
      "i:90 , n14:92568855841467\n",
      "i:91 , n14:84976998922723\n",
      "i:92 , n14:49737336456816\n",
      "i:93 , n14:84639323944382\n",
      "i:94 , n14:46142843848351\n",
      "i:95 , n14:79325387646346\n",
      "i:96 , n14:49833428677442\n",
      "i:97 , n14:17782522273478\n",
      "i:98 , n14:97378579995566\n",
      "i:99 , n14:13752669916322\n"
     ]
    }
   ],
   "source": [
    "#Create several random examples and test\n",
    "\n",
    "for i in range(100):\n",
    "    n14 = createRandomInt14()\n",
    "    print(f\"i:{i} , n14:{n14}\")\n",
    "\n",
    "    alu3=cALU3(lines)\n",
    "\n",
    "    alu_value = alu3.processNumber(n14)\n",
    "    #print(f\"ALU processnumber {alu_value}\")\n",
    "\n",
    "    alu_lambdas_value = alu_lambdas3(n14)\n",
    "    #print(f\"ALU lambdas process {alu_lambdas_value}\")\n",
    "\n",
    "    assert alu_value == alu_lambdas_value , \"Error, values not equal\"\n",
    "\n",
    "#NO errors, lambdas working fine"
   ]
  },
  {
   "cell_type": "code",
   "execution_count": null,
   "metadata": {},
   "outputs": [],
   "source": []
  },
  {
   "cell_type": "code",
   "execution_count": null,
   "metadata": {},
   "outputs": [],
   "source": []
  },
  {
   "cell_type": "code",
   "execution_count": 83,
   "metadata": {},
   "outputs": [
    {
     "name": "stdout",
     "output_type": "stream",
     "text": [
      "306550811\n",
      "306550811\n"
     ]
    }
   ],
   "source": [
    "n14_try = \"99999999999994\"\n",
    "print(alu3.processNumber(n14_try))\n",
    "print( alu_lambdas3(n14_try))\n",
    "#All ok except last input that it gives different answers, not sure why last character=4 does not work"
   ]
  },
  {
   "cell_type": "code",
   "execution_count": null,
   "metadata": {},
   "outputs": [],
   "source": [
    "'''\n",
    "Now the objective is to maximize inputs one by one for final zero lambda\n",
    "\n",
    "The best is to exploit the mod function in many of the inputs\n",
    "\n",
    "z%26 != i+11\n",
    "\n",
    "Adjust last value. max mod value is 9+11 = 20\n",
    "\n",
    "Going backwards\n",
    "z12,  *26+i+6, i cannot be more than 20-6 = 14, ok , max mod value = 9+6 = 15\n",
    "\n",
    "z11 i cannot be more than 15-11 = 4 ??"
   ]
  },
  {
   "cell_type": "code",
   "execution_count": null,
   "metadata": {},
   "outputs": [],
   "source": []
  },
  {
   "cell_type": "code",
   "execution_count": null,
   "metadata": {},
   "outputs": [],
   "source": []
  },
  {
   "cell_type": "code",
   "execution_count": null,
   "metadata": {},
   "outputs": [],
   "source": []
  },
  {
   "cell_type": "code",
   "execution_count": null,
   "metadata": {},
   "outputs": [],
   "source": [
    "#Try brute force with some predefined digits"
   ]
  },
  {
   "cell_type": "code",
   "execution_count": 99,
   "metadata": {},
   "outputs": [],
   "source": [
    "def alu_lambdas4(ivalues, stopAt = None):\n",
    "    z=0\n",
    "    for ninput in range(len(ivalues)):\n",
    "        v0 = ivalues[ninput]\n",
    "        f = alllambdas[ninput]\n",
    "        z= f(z,v0)\n",
    "    return z"
   ]
  },
  {
   "cell_type": "code",
   "execution_count": 98,
   "metadata": {},
   "outputs": [],
   "source": [
    "digit_list = [1,2,3,4,5,6,7,8,9]"
   ]
  },
  {
   "cell_type": "code",
   "execution_count": 96,
   "metadata": {},
   "outputs": [
    {
     "name": "stdout",
     "output_type": "stream",
     "text": [
      "i2=1\n",
      "i2=2\n",
      "i2=3\n",
      "i2=4\n",
      "i2=5\n",
      "i2=6\n",
      "i2=7\n",
      "i2=8\n",
      "i2=9\n"
     ]
    }
   ],
   "source": [
    "success_inputs=[]\n",
    "\n",
    "i9=7\n",
    "i10 = i9+2\n",
    "for i11 in digit_list:\n",
    "    for i12 in digit_list:\n",
    "        \n",
    "        input=[ 9, 9, 9, 9, 9, 9, 9, 9, 7, i9, i10, i11, i12, 2]\n",
    "\n",
    "        #Check if ==0\n",
    "        v0 = alu_lambdas4(input)\n",
    "\n",
    "        if v0==0:\n",
    "            print(f\"result in zero for {input}\")\n",
    "            success_inputs.append(input)\n"
   ]
  },
  {
   "cell_type": "code",
   "execution_count": 110,
   "metadata": {},
   "outputs": [],
   "source": [
    "def alu_lambdas5(ivalues, stopAt = None):\n",
    "    z=0\n",
    "    if stopAt is None:\n",
    "        stopAt=len(alllambdas)\n",
    "    for ninput in range(len(ivalues)):\n",
    "        v0 = ivalues[ninput]\n",
    "        f = alllambdas[ninput]\n",
    "        z= f(z,v0)\n",
    "        print(f\"input {ninput}:{v0} , z = {z}, mod(26) = {z%26}\")\n",
    "        \n",
    "    return z"
   ]
  },
  {
   "cell_type": "code",
   "execution_count": 185,
   "metadata": {},
   "outputs": [],
   "source": [
    "tryinput = [ 4, #rel 13, cant go higher\n",
    "    1, #cant go higher (rel to 4)\n",
    "    2, 2+7, #2,3 #cant go higher\n",
    "    9  , #4\n",
    "    9, #5 rel to 12 #cant go higher\n",
    "    9, 9-5, #6,7\n",
    "    8, #8 rel 11\n",
    "    7, 7+2, #9,10\n",
    "    9, #11\n",
    "    5, #12\n",
    "    9 #13\n",
    "    ]"
   ]
  },
  {
   "cell_type": "code",
   "execution_count": 186,
   "metadata": {},
   "outputs": [
    {
     "name": "stdout",
     "output_type": "stream",
     "text": [
      "input 0:4 , z = 20, mod(26) = 20\n",
      "input 1:1 , z = 532, mod(26) = 12\n",
      "input 2:2 , z = 13846, mod(26) = 14\n",
      "input 3:9 , z = 532, mod(26) = 12\n",
      "input 4:9 , z = 20, mod(26) = 20\n",
      "input 5:9 , z = 531, mod(26) = 11\n",
      "input 6:9 , z = 13826, mod(26) = 20\n",
      "input 7:4 , z = 531, mod(26) = 11\n",
      "input 8:8 , z = 13826, mod(26) = 20\n",
      "input 9:7 , z = 359492, mod(26) = 16\n",
      "input 10:9 , z = 13826, mod(26) = 20\n",
      "input 11:9 , z = 531, mod(26) = 11\n",
      "input 12:5 , z = 20, mod(26) = 20\n",
      "input 13:9 , z = 0, mod(26) = 0\n"
     ]
    },
    {
     "data": {
      "text/plain": [
       "0"
      ]
     },
     "execution_count": 186,
     "metadata": {},
     "output_type": "execute_result"
    }
   ],
   "source": [
    "alu_lambdas5(tryinput)"
   ]
  },
  {
   "cell_type": "code",
   "execution_count": 189,
   "metadata": {},
   "outputs": [
    {
     "data": {
      "text/plain": [
       "'41299994879959'"
      ]
     },
     "execution_count": 189,
     "metadata": {},
     "output_type": "execute_result"
    }
   ],
   "source": [
    "#Convert to string\n",
    "ctry=''\n",
    "for i in tryinput:\n",
    "    ctry+=str(i)\n",
    "ctry"
   ]
  },
  {
   "cell_type": "markdown",
   "metadata": {},
   "source": [
    "# Part 2\n",
    "Look for the smallest number"
   ]
  },
  {
   "cell_type": "code",
   "execution_count": 197,
   "metadata": {},
   "outputs": [
    {
     "name": "stdout",
     "output_type": "stream",
     "text": [
      "input 0:1 , z = 17, mod(26) = 17\n",
      "input 1:1 , z = 454, mod(26) = 12\n",
      "input 2:1 , z = 11817, mod(26) = 13\n",
      "input 3:8 , z = 454, mod(26) = 12\n",
      "input 4:9 , z = 17, mod(26) = 17\n",
      "input 5:5 , z = 449, mod(26) = 7\n",
      "input 6:6 , z = 11691, mod(26) = 17\n",
      "input 7:1 , z = 449, mod(26) = 7\n",
      "input 8:1 , z = 11687, mod(26) = 13\n",
      "input 9:1 , z = 303872, mod(26) = 10\n",
      "input 10:3 , z = 11687, mod(26) = 13\n",
      "input 11:2 , z = 449, mod(26) = 7\n",
      "input 12:1 , z = 17, mod(26) = 17\n",
      "input 13:6 , z = 0, mod(26) = 0\n"
     ]
    },
    {
     "data": {
      "text/plain": [
       "0"
      ]
     },
     "execution_count": 197,
     "metadata": {},
     "output_type": "execute_result"
    }
   ],
   "source": [
    "tryinput = [ 1, #rel 13, cant go lower\n",
    "    1, #cant go lower (rel to 4)\n",
    "    1, 1+7, #2,3 #cant go lower\n",
    "    9  , #4\n",
    "    5, #5 rel to 12 #cant go higher\n",
    "    6, 6-5, #6,7\n",
    "    1, #8 rel 11\n",
    "    1, 3, #9,10\n",
    "    2, #11\n",
    "    1, #12\n",
    "    6 #13\n",
    "    ]\n",
    "alu_lambdas5(tryinput)"
   ]
  },
  {
   "cell_type": "code",
   "execution_count": 198,
   "metadata": {},
   "outputs": [
    {
     "data": {
      "text/plain": [
       "'11189561113216'"
      ]
     },
     "execution_count": 198,
     "metadata": {},
     "output_type": "execute_result"
    }
   ],
   "source": [
    "ctry=''\n",
    "for i in tryinput:\n",
    "    ctry+=str(i)\n",
    "ctry"
   ]
  },
  {
   "cell_type": "code",
   "execution_count": null,
   "metadata": {},
   "outputs": [],
   "source": []
  }
 ],
 "metadata": {
  "interpreter": {
   "hash": "c20f18160aedb1585981487c6d6bd79d2111974d45cddf4d0e7fdb3307f5b1ec"
  },
  "kernelspec": {
   "display_name": "Python 3.8.12 64-bit ('dev': conda)",
   "language": "python",
   "name": "python3"
  },
  "language_info": {
   "codemirror_mode": {
    "name": "ipython",
    "version": 3
   },
   "file_extension": ".py",
   "mimetype": "text/x-python",
   "name": "python",
   "nbconvert_exporter": "python",
   "pygments_lexer": "ipython3",
   "version": "3.8.12"
  },
  "orig_nbformat": 4
 },
 "nbformat": 4,
 "nbformat_minor": 2
}
