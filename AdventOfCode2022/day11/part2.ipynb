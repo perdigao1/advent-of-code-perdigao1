{
 "cells": [
  {
   "cell_type": "code",
   "execution_count": 1,
   "metadata": {},
   "outputs": [],
   "source": [
    "import numpy as np"
   ]
  },
  {
   "cell_type": "code",
   "execution_count": 2,
   "metadata": {},
   "outputs": [],
   "source": [
    "#inputfile='input_test.txt'\n",
    "inputfile='input.txt'"
   ]
  },
  {
   "cell_type": "code",
   "execution_count": 3,
   "metadata": {},
   "outputs": [],
   "source": [
    "OP_ADD = 0\n",
    "OP_MULT = 1"
   ]
  },
  {
   "cell_type": "code",
   "execution_count": 4,
   "metadata": {},
   "outputs": [],
   "source": [
    "class cMonkey():\n",
    "    number=0\n",
    "    items=[]\n",
    "    operation = OP_ADD\n",
    "    op_with_str = ''\n",
    "\n",
    "    test_div_by = 1\n",
    "\n",
    "    throwto_iftrue = 1\n",
    "    throwto_iffalse = 1\n",
    "\n",
    "    ninspect=0\n",
    "\n",
    "    def __str__(self):\n",
    "        str = f\"Monkey number:{self.number}\"\n",
    "        str+= f\"\\nitems:{self.items}\"\n",
    "        str+= f\"\\noperation:{self.operation}, op_with_str:{self.op_with_str}\"\n",
    "        str+= f\"\\ntest_div_by:{self.test_div_by}, throwto true,false: {self.throwto_iftrue},{self.throwto_iffalse}\"\n",
    "        str+= f\"\\nninspect:{self.ninspect}\"\n",
    "\n",
    "        return str"
   ]
  },
  {
   "cell_type": "code",
   "execution_count": 5,
   "metadata": {},
   "outputs": [],
   "source": [
    "# Read data and create monkeys\n",
    "\n",
    "with open(inputfile,'r') as f:\n",
    "    monkeys_str=f.read().split('Monkey')"
   ]
  },
  {
   "cell_type": "code",
   "execution_count": 6,
   "metadata": {},
   "outputs": [
    {
     "data": {
      "text/plain": [
       "['',\n",
       " ' 0:\\n  Starting items: 83, 62, 93\\n  Operation: new = old * 17\\n  Test: divisible by 2\\n    If true: throw to monkey 1\\n    If false: throw to monkey 6\\n\\n',\n",
       " ' 1:\\n  Starting items: 90, 55\\n  Operation: new = old + 1\\n  Test: divisible by 17\\n    If true: throw to monkey 6\\n    If false: throw to monkey 3\\n\\n',\n",
       " ' 2:\\n  Starting items: 91, 78, 80, 97, 79, 88\\n  Operation: new = old + 3\\n  Test: divisible by 19\\n    If true: throw to monkey 7\\n    If false: throw to monkey 5\\n\\n',\n",
       " ' 3:\\n  Starting items: 64, 80, 83, 89, 59\\n  Operation: new = old + 5\\n  Test: divisible by 3\\n    If true: throw to monkey 7\\n    If false: throw to monkey 2\\n\\n',\n",
       " ' 4:\\n  Starting items: 98, 92, 99, 51\\n  Operation: new = old * old\\n  Test: divisible by 5\\n    If true: throw to monkey 0\\n    If false: throw to monkey 1\\n\\n',\n",
       " ' 5:\\n  Starting items: 68, 57, 95, 85, 98, 75, 98, 75\\n  Operation: new = old + 2\\n  Test: divisible by 13\\n    If true: throw to monkey 4\\n    If false: throw to monkey 0\\n\\n',\n",
       " ' 6:\\n  Starting items: 74\\n  Operation: new = old + 4\\n  Test: divisible by 7\\n    If true: throw to monkey 3\\n    If false: throw to monkey 2\\n\\n',\n",
       " ' 7:\\n  Starting items: 68, 64, 60, 68, 87, 80, 82\\n  Operation: new = old * 19\\n  Test: divisible by 11\\n    If true: throw to monkey 4\\n    If false: throw to monkey 5\\n']"
      ]
     },
     "execution_count": 6,
     "metadata": {},
     "output_type": "execute_result"
    }
   ],
   "source": [
    "monkeys_str"
   ]
  },
  {
   "attachments": {},
   "cell_type": "markdown",
   "metadata": {},
   "source": [
    "```\n",
    "Monkey 0:\n",
    "  Starting items: 79, 98\n",
    "  Operation: new = old * 19\n",
    "  Test: divisible by 23\n",
    "    If true: throw to monkey 2\n",
    "    If false: throw to monkey 3\n",
    "\n",
    "```"
   ]
  },
  {
   "cell_type": "code",
   "execution_count": 7,
   "metadata": {},
   "outputs": [
    {
     "name": "stdout",
     "output_type": "stream",
     "text": [
      "Monkey number:0\n",
      "items:[83, 62, 93]\n",
      "operation:1, op_with_str: 17\n",
      "test_div_by:2, throwto true,false: 1,6\n",
      "ninspect:0\n",
      "Monkey number:1\n",
      "items:[90, 55]\n",
      "operation:0, op_with_str: 1\n",
      "test_div_by:17, throwto true,false: 6,3\n",
      "ninspect:0\n",
      "Monkey number:2\n",
      "items:[91, 78, 80, 97, 79, 88]\n",
      "operation:0, op_with_str: 3\n",
      "test_div_by:19, throwto true,false: 7,5\n",
      "ninspect:0\n",
      "Monkey number:3\n",
      "items:[64, 80, 83, 89, 59]\n",
      "operation:0, op_with_str: 5\n",
      "test_div_by:3, throwto true,false: 7,2\n",
      "ninspect:0\n",
      "Monkey number:4\n",
      "items:[98, 92, 99, 51]\n",
      "operation:1, op_with_str: old\n",
      "test_div_by:5, throwto true,false: 0,1\n",
      "ninspect:0\n",
      "Monkey number:5\n",
      "items:[68, 57, 95, 85, 98, 75, 98, 75]\n",
      "operation:0, op_with_str: 2\n",
      "test_div_by:13, throwto true,false: 4,0\n",
      "ninspect:0\n",
      "Monkey number:6\n",
      "items:[74]\n",
      "operation:0, op_with_str: 4\n",
      "test_div_by:7, throwto true,false: 3,2\n",
      "ninspect:0\n",
      "Monkey number:7\n",
      "items:[68, 64, 60, 68, 87, 80, 82]\n",
      "operation:1, op_with_str: 19\n",
      "test_div_by:11, throwto true,false: 4,5\n",
      "ninspect:0\n"
     ]
    }
   ],
   "source": [
    "#Parse file to cMonkeys\n",
    "\n",
    "monkeys_dict = {}\n",
    "\n",
    "for m0 in monkeys_str:\n",
    "    if len(m0)>0:\n",
    "        newmonkey = cMonkey()\n",
    "\n",
    "        #Monkey number\n",
    "        lines = m0.splitlines()\n",
    "        #print(lines)\n",
    "        m_n = int(lines[0].strip()[:-1])\n",
    "        newmonkey.number=m_n\n",
    "\n",
    "        #starting items\n",
    "        startitems_line = lines[1]\n",
    "        itvalues_str = startitems_line.split(':')[1].split(',')\n",
    "        item_numbers = [int(s) for s in itvalues_str]\n",
    "        newmonkey.items = item_numbers\n",
    "\n",
    "        #operation line\n",
    "        opline = lines[2]\n",
    "        t0 = opline.split('=')[1]\n",
    "        #print(t0)\n",
    "\n",
    "        m_op = OP_ADD\n",
    "        if '*' in t0:\n",
    "            m_op = OP_MULT\n",
    "            m_op_with = t0.split('*')[1]\n",
    "\n",
    "        elif '+' in t0:\n",
    "            m_op = OP_ADD\n",
    "            m_op_with = t0.split('+')[1]\n",
    "\n",
    "        newmonkey.operation=m_op\n",
    "        newmonkey.op_with_str = m_op_with\n",
    "\n",
    "\n",
    "        #test div by\n",
    "        testdivby_line= lines[3]\n",
    "        newmonkey.test_div_by = int(testdivby_line.rsplit(' ',1)[1])\n",
    "\n",
    "        newmonkey.throwto_iftrue = int(lines[4].rsplit(' ',1)[1]) #Assume \"If true\"\n",
    "        newmonkey.throwto_iffalse = int(lines[5].rsplit(' ',1)[1]) #Assume \"If false\" in this line\n",
    "\n",
    "        print(newmonkey)\n",
    "\n",
    "        monkeys_dict[newmonkey.number]=newmonkey #add new element to dict\n"
   ]
  },
  {
   "cell_type": "code",
   "execution_count": 8,
   "metadata": {},
   "outputs": [
    {
     "data": {
      "text/plain": [
       "{0: <__main__.cMonkey at 0x218c53fcfd0>,\n",
       " 1: <__main__.cMonkey at 0x218c53fcf70>,\n",
       " 2: <__main__.cMonkey at 0x218c53fcfa0>,\n",
       " 3: <__main__.cMonkey at 0x218c5426040>,\n",
       " 4: <__main__.cMonkey at 0x218c5426070>,\n",
       " 5: <__main__.cMonkey at 0x218c54260a0>,\n",
       " 6: <__main__.cMonkey at 0x218c54260d0>,\n",
       " 7: <__main__.cMonkey at 0x218c5426100>}"
      ]
     },
     "execution_count": 8,
     "metadata": {},
     "output_type": "execute_result"
    }
   ],
   "source": [
    "monkeys_dict"
   ]
  },
  {
   "cell_type": "code",
   "execution_count": 9,
   "metadata": {},
   "outputs": [
    {
     "data": {
      "text/plain": [
       "8"
      ]
     },
     "execution_count": 9,
     "metadata": {},
     "output_type": "execute_result"
    }
   ],
   "source": [
    "len(monkeys_dict)"
   ]
  },
  {
   "attachments": {},
   "cell_type": "markdown",
   "metadata": {},
   "source": [
    "Divisibility is tested on the prime numbers\n",
    "\n",
    "So try to simplify worry levels to the multiplication of all of them"
   ]
  },
  {
   "cell_type": "code",
   "execution_count": 10,
   "metadata": {},
   "outputs": [
    {
     "data": {
      "text/plain": [
       "[2, 17, 19, 3, 5, 13, 7, 11]"
      ]
     },
     "execution_count": 10,
     "metadata": {},
     "output_type": "execute_result"
    }
   ],
   "source": [
    "#Collect division values\n",
    "div_values = [m0.test_div_by for m0 in monkeys_dict.values()]\n",
    "div_values"
   ]
  },
  {
   "cell_type": "code",
   "execution_count": 11,
   "metadata": {},
   "outputs": [
    {
     "name": "stdout",
     "output_type": "stream",
     "text": [
      "9699690\n",
      "<class 'int'>\n"
     ]
    }
   ],
   "source": [
    "worry_div = int(np.product(np.array(div_values)))\n",
    "print(worry_div)\n",
    "print(type(worry_div))"
   ]
  },
  {
   "cell_type": "code",
   "execution_count": 12,
   "metadata": {},
   "outputs": [],
   "source": [
    "def doRound():\n",
    "    nmonkeys = len(monkeys_dict)\n",
    "\n",
    "    for imonkey in range(nmonkeys):\n",
    "        monkey = monkeys_dict[imonkey]\n",
    "        #print(f\"Monkey number:{imonkey}, check:{monkey.number}\")\n",
    "\n",
    "        items_to_process = monkey.items.copy()\n",
    "        for it0 in items_to_process:\n",
    "            monkey.ninspect+=1\n",
    "            \n",
    "            #print(\"item:\",str(it0))\n",
    "\n",
    "            #Item number is the worry level\n",
    "            w=it0\n",
    "\n",
    "            #Do operation\n",
    "            #Get value for the operation\n",
    "            value =0\n",
    "            if \"old\" in monkey.op_with_str:\n",
    "                value=w\n",
    "            else:\n",
    "                value = int(monkey.op_with_str)\n",
    "\n",
    "            #Removed the division by 3\n",
    "            #The values may overflow\n",
    "            #So replace with mod of multiplication of the divisors after the operation\n",
    "\n",
    "\n",
    "            if monkey.operation==OP_MULT:\n",
    "                w*= value\n",
    "            elif monkey.operation==OP_ADD:\n",
    "                w+= value\n",
    "            else:\n",
    "                print(\"Error with operation not supported\")\n",
    "            \n",
    "            w = w % worry_div\n",
    "            #print(f\"After operation and modding, worry:{w}\")\n",
    "\n",
    "\n",
    "            #Test divisibility\n",
    "            monkeytothrowworry = 0\n",
    "            if w % monkey.test_div_by ==0:\n",
    "                #True\n",
    "                monkeytothrowworry = monkey.throwto_iftrue\n",
    "                #print(f\"is divisible by {monkey.test_div_by}\")\n",
    "            else:\n",
    "                #False\n",
    "                monkeytothrowworry = monkey.throwto_iffalse\n",
    "                #print(f\"is not divisible by {monkey.test_div_by}\")\n",
    "            \n",
    "            #Do the throw\n",
    "            #print(f\"Throwing item w={w} to monkey number {monkeytothrowworry}\")\n",
    "            monkeytarget = monkeys_dict[monkeytothrowworry]\n",
    "            monkeytarget.items.append(w)\n",
    "\n",
    "            #And remove this item from this monkey\n",
    "            monkey.items.remove(it0) #Use initial reference\n"
   ]
  },
  {
   "cell_type": "code",
   "execution_count": 13,
   "metadata": {},
   "outputs": [],
   "source": [
    "doRound()"
   ]
  },
  {
   "cell_type": "code",
   "execution_count": 14,
   "metadata": {},
   "outputs": [
    {
     "name": "stdout",
     "output_type": "stream",
     "text": [
      "Monkey number:0\n",
      "items:[70, 59, 97, 87, 100, 77, 100, 77, 96, 83, 85, 102, 84, 93]\n",
      "operation:1, op_with_str: 17\n",
      "test_div_by:2, throwto true,false: 1,6\n",
      "ninspect:3\n",
      "Monkey number:1\n",
      "items:[9604, 8464, 9801, 2601]\n",
      "operation:0, op_with_str: 1\n",
      "test_div_by:17, throwto true,false: 6,3\n",
      "ninspect:3\n",
      "Monkey number:2\n",
      "items:[85, 88, 94, 64, 61, 1060, 78, 1415, 1585]\n",
      "operation:0, op_with_str: 3\n",
      "test_div_by:19, throwto true,false: 7,5\n",
      "ninspect:6\n",
      "Monkey number:3\n",
      "items:[]\n",
      "operation:0, op_with_str: 5\n",
      "test_div_by:3, throwto true,false: 7,2\n",
      "ninspect:8\n",
      "Monkey number:4\n",
      "items:[]\n",
      "operation:1, op_with_str: old\n",
      "test_div_by:5, throwto true,false: 0,1\n",
      "ninspect:4\n",
      "Monkey number:5\n",
      "items:[1292, 1216, 1140, 1292, 1653, 1520, 1558, 1311, 1824]\n",
      "operation:0, op_with_str: 2\n",
      "test_div_by:13, throwto true,false: 4,0\n",
      "ninspect:14\n",
      "Monkey number:6\n",
      "items:[]\n",
      "operation:0, op_with_str: 4\n",
      "test_div_by:7, throwto true,false: 3,2\n",
      "ninspect:3\n",
      "Monkey number:7\n",
      "items:[]\n",
      "operation:1, op_with_str: 19\n",
      "test_div_by:11, throwto true,false: 4,5\n",
      "ninspect:9\n"
     ]
    }
   ],
   "source": [
    "#Check result\n",
    "for m0 in monkeys_dict.values():\n",
    "    print(m0)\n"
   ]
  },
  {
   "attachments": {},
   "cell_type": "markdown",
   "metadata": {},
   "source": [
    "ninspect should be 2,4,3,6 for input_test.txt"
   ]
  },
  {
   "cell_type": "code",
   "execution_count": 15,
   "metadata": {},
   "outputs": [],
   "source": [
    "#Do 19 more rounds\n",
    "for i in range(19):\n",
    "    doRound()"
   ]
  },
  {
   "cell_type": "code",
   "execution_count": 16,
   "metadata": {},
   "outputs": [
    {
     "name": "stdout",
     "output_type": "stream",
     "text": [
      "Monkey number:0\n",
      "items:[8497334, 8738558, 6009854, 4943954, 6430400, 792758, 5348925, 5885751, 3678369, 1509747, 1476801, 5640354, 8516346]\n",
      "operation:1, op_with_str: 17\n",
      "test_div_by:2, throwto true,false: 1,6\n",
      "ninspect:298\n",
      "Monkey number:1\n",
      "items:[]\n",
      "operation:0, op_with_str: 1\n",
      "test_div_by:17, throwto true,false: 6,3\n",
      "ninspect:207\n",
      "Monkey number:2\n",
      "items:[490210, 221006, 1604704, 2304322, 6982654, 1517494, 1517494, 7169669, 6493069, 5640349, 3434905, 8105485, 7708195, 4878715, 4878715]\n",
      "operation:0, op_with_str: 3\n",
      "test_div_by:19, throwto true,false: 7,5\n",
      "ninspect:217\n",
      "Monkey number:3\n",
      "items:[3634519]\n",
      "operation:0, op_with_str: 5\n",
      "test_div_by:3, throwto true,false: 7,2\n",
      "ninspect:231\n",
      "Monkey number:4\n",
      "items:[1700400]\n",
      "operation:1, op_with_str: old\n",
      "test_div_by:5, throwto true,false: 0,1\n",
      "ninspect:35\n",
      "Monkey number:5\n",
      "items:[6055452, 1158126, 7992426, 6236598, 6236598, 918726]\n",
      "operation:0, op_with_str: 2\n",
      "test_div_by:13, throwto true,false: 4,0\n",
      "ninspect:321\n",
      "Monkey number:6\n",
      "items:[]\n",
      "operation:0, op_with_str: 4\n",
      "test_div_by:7, throwto true,false: 3,2\n",
      "ninspect:122\n",
      "Monkey number:7\n",
      "items:[]\n",
      "operation:1, op_with_str: 19\n",
      "test_div_by:11, throwto true,false: 4,5\n",
      "ninspect:116\n"
     ]
    }
   ],
   "source": [
    "#Check result\n",
    "for m0 in monkeys_dict.values():\n",
    "    print(m0)"
   ]
  },
  {
   "attachments": {},
   "cell_type": "markdown",
   "metadata": {},
   "source": [
    "input_test.txt should give ninspect = 99,97,8,103"
   ]
  },
  {
   "cell_type": "code",
   "execution_count": 17,
   "metadata": {},
   "outputs": [],
   "source": [
    "#Complete to 10000 by doing 10000-20 more times\n",
    "for i in range(10000-20):\n",
    "    doRound()"
   ]
  },
  {
   "cell_type": "code",
   "execution_count": 18,
   "metadata": {},
   "outputs": [
    {
     "name": "stdout",
     "output_type": "stream",
     "text": [
      "Monkey number:0\n",
      "items:[8589332, 8589332, 8378090, 2304398, 2304398, 2304398, 8627877, 1825641, 4308219, 6631881, 7304775, 7304775, 3138634, 1936836, 5341902, 6045396, 4994252, 4994252, 7784904, 7784904]\n",
      "operation:1, op_with_str: 17\n",
      "test_div_by:2, throwto true,false: 1,6\n",
      "ninspect:154173\n",
      "Monkey number:1\n",
      "items:[6137076, 6137076]\n",
      "operation:0, op_with_str: 1\n",
      "test_div_by:17, throwto true,false: 6,3\n",
      "ninspect:115470\n",
      "Monkey number:2\n",
      "items:[8627872, 1825636, 1825636, 523300, 523300, 4858334, 3138629, 3138629, 1936831, 8896189, 6045391, 6392293]\n",
      "operation:0, op_with_str: 3\n",
      "test_div_by:19, throwto true,false: 7,5\n",
      "ninspect:115407\n",
      "Monkey number:3\n",
      "items:[]\n",
      "operation:0, op_with_str: 5\n",
      "test_div_by:3, throwto true,false: 7,2\n",
      "ninspect:115888\n",
      "Monkey number:4\n",
      "items:[]\n",
      "operation:1, op_with_str: old\n",
      "test_div_by:5, throwto true,false: 0,1\n",
      "ninspect:19243\n",
      "Monkey number:5\n",
      "items:[2389668, 2304396]\n",
      "operation:0, op_with_str: 2\n",
      "test_div_by:13, throwto true,false: 4,0\n",
      "ninspect:166945\n",
      "Monkey number:6\n",
      "items:[]\n",
      "operation:0, op_with_str: 4\n",
      "test_div_by:7, throwto true,false: 3,2\n",
      "ninspect:57913\n",
      "Monkey number:7\n",
      "items:[]\n",
      "operation:1, op_with_str: 19\n",
      "test_div_by:11, throwto true,false: 4,5\n",
      "ninspect:57983\n"
     ]
    }
   ],
   "source": [
    "#Check result\n",
    "for m0 in monkeys_dict.values():\n",
    "    print(m0)"
   ]
  },
  {
   "attachments": {},
   "cell_type": "markdown",
   "metadata": {},
   "source": [
    "input_test.txt should give ninspect = 52166, 47830,1938,52013"
   ]
  },
  {
   "cell_type": "code",
   "execution_count": 19,
   "metadata": {},
   "outputs": [],
   "source": [
    "#Check maximum values of ninspect\n",
    "import numpy as np\n",
    "ninspect_values_np = [ m0.ninspect for m0 in monkeys_dict.values()]"
   ]
  },
  {
   "cell_type": "code",
   "execution_count": 20,
   "metadata": {},
   "outputs": [
    {
     "data": {
      "text/plain": [
       "[154173, 115470, 115407, 115888, 19243, 166945, 57913, 57983]"
      ]
     },
     "execution_count": 20,
     "metadata": {},
     "output_type": "execute_result"
    }
   ],
   "source": [
    "ninspect_values_np"
   ]
  },
  {
   "cell_type": "code",
   "execution_count": 21,
   "metadata": {},
   "outputs": [],
   "source": [
    "ninspect_values_np.sort()"
   ]
  },
  {
   "cell_type": "code",
   "execution_count": 22,
   "metadata": {},
   "outputs": [
    {
     "data": {
      "text/plain": [
       "[19243, 57913, 57983, 115407, 115470, 115888, 154173, 166945]"
      ]
     },
     "execution_count": 22,
     "metadata": {},
     "output_type": "execute_result"
    }
   ],
   "source": [
    "ninspect_values_np"
   ]
  },
  {
   "cell_type": "code",
   "execution_count": 23,
   "metadata": {},
   "outputs": [
    {
     "data": {
      "text/plain": [
       "25738411485"
      ]
     },
     "execution_count": 23,
     "metadata": {},
     "output_type": "execute_result"
    }
   ],
   "source": [
    "#multiply larger two values to get result\n",
    "ninspect_values_np[-1]*ninspect_values_np[-2]"
   ]
  },
  {
   "attachments": {},
   "cell_type": "markdown",
   "metadata": {},
   "source": [
    "OK"
   ]
  },
  {
   "cell_type": "code",
   "execution_count": null,
   "metadata": {},
   "outputs": [],
   "source": []
  }
 ],
 "metadata": {
  "kernelspec": {
   "display_name": "dev",
   "language": "python",
   "name": "python3"
  },
  "language_info": {
   "codemirror_mode": {
    "name": "ipython",
    "version": 3
   },
   "file_extension": ".py",
   "mimetype": "text/x-python",
   "name": "python",
   "nbconvert_exporter": "python",
   "pygments_lexer": "ipython3",
   "version": "3.8.13 | packaged by conda-forge | (default, Mar 25 2022, 05:59:45) [MSC v.1929 64 bit (AMD64)]"
  },
  "orig_nbformat": 4,
  "vscode": {
   "interpreter": {
    "hash": "ae9318eca6f153166416f971f14e35a175773b3b30438ae2aa8538d9aa021541"
   }
  }
 },
 "nbformat": 4,
 "nbformat_minor": 2
}
