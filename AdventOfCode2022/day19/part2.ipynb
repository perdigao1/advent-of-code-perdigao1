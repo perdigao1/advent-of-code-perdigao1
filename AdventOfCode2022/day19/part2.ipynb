{
 "cells": [
  {
   "cell_type": "code",
   "execution_count": 1,
   "metadata": {},
   "outputs": [],
   "source": [
    "import numpy as np"
   ]
  },
  {
   "cell_type": "code",
   "execution_count": 2,
   "metadata": {},
   "outputs": [],
   "source": [
    "#file_input = 'input_test_extended.txt'\n",
    "\n",
    "file_input = 'input.txt'"
   ]
  },
  {
   "cell_type": "code",
   "execution_count": 3,
   "metadata": {},
   "outputs": [],
   "source": [
    "with open(file_input) as f:\n",
    "    filestr = f.read()"
   ]
  },
  {
   "attachments": {},
   "cell_type": "markdown",
   "metadata": {},
   "source": [
    "Collect information from file"
   ]
  },
  {
   "cell_type": "code",
   "execution_count": 4,
   "metadata": {},
   "outputs": [],
   "source": [
    "blupr_str = filestr.split(\"Blueprint\")"
   ]
  },
  {
   "cell_type": "code",
   "execution_count": 5,
   "metadata": {},
   "outputs": [],
   "source": [
    "ores = ['geode', 'obsidian', 'clay','ore']"
   ]
  },
  {
   "cell_type": "code",
   "execution_count": 6,
   "metadata": {},
   "outputs": [],
   "source": [
    "ores_dict = {'geode':0, 'obsidian':1, 'clay':2,'ore':3}\n",
    "#ores_dict_inv = {0:'geode'}"
   ]
  },
  {
   "cell_type": "code",
   "execution_count": 7,
   "metadata": {},
   "outputs": [],
   "source": [
    "blueprints={}\n",
    "\n",
    "for b0 in blupr_str:\n",
    "\n",
    "    if b0!='':\n",
    "        #Initialise blueprint\n",
    "        blueprint = [0,0,0,0]\n",
    "        # for o0 in ores:\n",
    "        #     blueprint[o0]={}\n",
    "        \n",
    "        b0_split = b0.split(':')\n",
    "        #print(f\"b0_split:{b0_split}\")\n",
    "        bp_number = int(b0_split[0])\n",
    "        bp_key = bp_number\n",
    "        bp_value={}\n",
    "\n",
    "        b_rest = b0_split[1]\n",
    "\n",
    "        b_details_split = b_rest.split('.')\n",
    "        #print(f\"b_details_split:{b_details_split}\")\n",
    "\n",
    "        for b1 in b_details_split:\n",
    "            b1=b1.strip('\\n')\n",
    "            if 'costs' in b1:\n",
    "                # #Initialise costs\n",
    "                # robot_costs = {}\n",
    "                # for o0 in ores:\n",
    "                #     robot_costs[o0]=0\n",
    "\n",
    "                b2=b1.split('costs')\n",
    "                #print(f\"b2:{b2}\")\n",
    "\n",
    "                brobot = ''\n",
    "                irobot = 0\n",
    "                b2_robot = b2[0]\n",
    "                if 'ore' in b2_robot:\n",
    "                    brobot = 'ore'\n",
    "                    irobot=3\n",
    "                if 'clay' in b2_robot:\n",
    "                    brobot = 'clay'\n",
    "                    irobot=2\n",
    "                if 'obsidian' in b2_robot:\n",
    "                    brobot = 'obsidian'\n",
    "                    irobot=1\n",
    "                if 'geode' in b2_robot:\n",
    "                    brobot = 'geode'\n",
    "                    irobot=0\n",
    "                \n",
    "                b2_costs = b2[1]\n",
    "\n",
    "                b2_costs_split = b2_costs.split('and')\n",
    "                #print(f\"b2_costs_split:{b2_costs_split}\")\n",
    "\n",
    "                robot_costs = np.zeros((4),dtype=np.int32)\n",
    "                for b3 in b2_costs_split:\n",
    "\n",
    "                    cost_key=''\n",
    "                    cost_value=0\n",
    "\n",
    "                    b3_split = b3.split(' ')\n",
    "                    #print(f\"b3_split:{b3_split}\")\n",
    "                    for b4 in b3_split:\n",
    "                        if b4!='':\n",
    "                            if b4.isnumeric():\n",
    "                                cost_value=int(b4)\n",
    "                            else:\n",
    "                                if 'ore' in b4:\n",
    "                                    cost_key = 'ore'\n",
    "                                if 'clay' in b4:\n",
    "                                    cost_key = 'clay'\n",
    "                                if 'obsidian' in b4:\n",
    "                                    cost_key = 'obsidian'\n",
    "                                if 'geode' in b4: #This may not be necessary\n",
    "                                    cost_key = 'geode'\n",
    "                    if cost_key!='':\n",
    "                        robot_costs[ores_dict[cost_key]] = cost_value\n",
    "\n",
    "                #blueprint[]= robot_costs\n",
    "                blueprint[irobot] = robot_costs\n",
    "        \n",
    "            blueprints[bp_number] = blueprint"
   ]
  },
  {
   "cell_type": "code",
   "execution_count": 8,
   "metadata": {},
   "outputs": [
    {
     "data": {
      "text/plain": [
       "{1: [array([0, 9, 0, 4]),\n",
       "  array([ 0,  0, 18,  4]),\n",
       "  array([0, 0, 0, 4]),\n",
       "  array([0, 0, 0, 4])],\n",
       " 2: [array([0, 7, 0, 2]),\n",
       "  array([ 0,  0, 10,  4]),\n",
       "  array([0, 0, 0, 4]),\n",
       "  array([0, 0, 0, 4])],\n",
       " 3: [array([ 0, 12,  0,  3]),\n",
       "  array([ 0,  0, 15,  4]),\n",
       "  array([0, 0, 0, 3]),\n",
       "  array([0, 0, 0, 4])],\n",
       " 4: [array([0, 7, 0, 2]),\n",
       "  array([ 0,  0, 10,  3]),\n",
       "  array([0, 0, 0, 4]),\n",
       "  array([0, 0, 0, 3])],\n",
       " 5: [array([ 0, 10,  0,  2]),\n",
       "  array([ 0,  0, 13,  2]),\n",
       "  array([0, 0, 0, 3]),\n",
       "  array([0, 0, 0, 4])],\n",
       " 6: [array([ 0, 10,  0,  2]),\n",
       "  array([0, 0, 9, 3]),\n",
       "  array([0, 0, 0, 3]),\n",
       "  array([0, 0, 0, 3])],\n",
       " 7: [array([0, 7, 0, 2]),\n",
       "  array([ 0,  0, 11,  2]),\n",
       "  array([0, 0, 0, 4]),\n",
       "  array([0, 0, 0, 4])],\n",
       " 8: [array([ 0, 19,  0,  2]),\n",
       "  array([ 0,  0, 18,  3]),\n",
       "  array([0, 0, 0, 3]),\n",
       "  array([0, 0, 0, 2])],\n",
       " 9: [array([ 0, 10,  0,  2]),\n",
       "  array([0, 0, 5, 2]),\n",
       "  array([0, 0, 0, 3]),\n",
       "  array([0, 0, 0, 4])],\n",
       " 10: [array([0, 7, 0, 4]),\n",
       "  array([ 0,  0, 11,  3]),\n",
       "  array([0, 0, 0, 3]),\n",
       "  array([0, 0, 0, 4])],\n",
       " 11: [array([ 0, 15,  0,  2]),\n",
       "  array([0, 0, 8, 4]),\n",
       "  array([0, 0, 0, 4]),\n",
       "  array([0, 0, 0, 4])],\n",
       " 12: [array([ 0, 14,  0,  3]),\n",
       "  array([ 0,  0, 16,  3]),\n",
       "  array([0, 0, 0, 4]),\n",
       "  array([0, 0, 0, 3])],\n",
       " 13: [array([0, 8, 0, 3]),\n",
       "  array([ 0,  0, 11,  4]),\n",
       "  array([0, 0, 0, 4]),\n",
       "  array([0, 0, 0, 2])],\n",
       " 14: [array([ 0, 17,  0,  3]),\n",
       "  array([ 0,  0, 14,  2]),\n",
       "  array([0, 0, 0, 4]),\n",
       "  array([0, 0, 0, 4])],\n",
       " 15: [array([ 0, 14,  0,  4]),\n",
       "  array([0, 0, 8, 4]),\n",
       "  array([0, 0, 0, 4]),\n",
       "  array([0, 0, 0, 4])],\n",
       " 16: [array([ 0, 10,  0,  2]),\n",
       "  array([0, 0, 8, 4]),\n",
       "  array([0, 0, 0, 4]),\n",
       "  array([0, 0, 0, 3])],\n",
       " 17: [array([0, 9, 0, 3]),\n",
       "  array([ 0,  0, 15,  2]),\n",
       "  array([0, 0, 0, 3]),\n",
       "  array([0, 0, 0, 3])],\n",
       " 18: [array([ 0, 13,  0,  3]),\n",
       "  array([ 0,  0, 18,  4]),\n",
       "  array([0, 0, 0, 3]),\n",
       "  array([0, 0, 0, 4])],\n",
       " 19: [array([ 0, 11,  0,  4]),\n",
       "  array([0, 0, 7, 3]),\n",
       "  array([0, 0, 0, 4]),\n",
       "  array([0, 0, 0, 4])],\n",
       " 20: [array([ 0, 10,  0,  2]),\n",
       "  array([ 0,  0, 20,  3]),\n",
       "  array([0, 0, 0, 4]),\n",
       "  array([0, 0, 0, 4])],\n",
       " 21: [array([0, 7, 0, 3]),\n",
       "  array([0, 0, 8, 4]),\n",
       "  array([0, 0, 0, 3]),\n",
       "  array([0, 0, 0, 4])],\n",
       " 22: [array([ 0, 16,  0,  2]),\n",
       "  array([0, 0, 7, 4]),\n",
       "  array([0, 0, 0, 4]),\n",
       "  array([0, 0, 0, 4])],\n",
       " 23: [array([ 0, 10,  0,  3]),\n",
       "  array([0, 0, 5, 4]),\n",
       "  array([0, 0, 0, 3]),\n",
       "  array([0, 0, 0, 4])],\n",
       " 24: [array([ 0, 11,  0,  4]),\n",
       "  array([ 0,  0, 19,  4]),\n",
       "  array([0, 0, 0, 4]),\n",
       "  array([0, 0, 0, 3])],\n",
       " 25: [array([0, 8, 0, 2]),\n",
       "  array([ 0,  0, 15,  3]),\n",
       "  array([0, 0, 0, 3]),\n",
       "  array([0, 0, 0, 3])],\n",
       " 26: [array([ 0, 20,  0,  4]),\n",
       "  array([ 0,  0, 18,  2]),\n",
       "  array([0, 0, 0, 4]),\n",
       "  array([0, 0, 0, 4])],\n",
       " 27: [array([0, 8, 0, 4]),\n",
       "  array([ 0,  0, 14,  3]),\n",
       "  array([0, 0, 0, 4]),\n",
       "  array([0, 0, 0, 4])],\n",
       " 28: [array([0, 7, 0, 2]),\n",
       "  array([ 0,  0, 14,  2]),\n",
       "  array([0, 0, 0, 3]),\n",
       "  array([0, 0, 0, 4])],\n",
       " 29: [array([ 0, 15,  0,  3]),\n",
       "  array([ 0,  0, 13,  3]),\n",
       "  array([0, 0, 0, 3]),\n",
       "  array([0, 0, 0, 2])],\n",
       " 30: [array([ 0, 18,  0,  2]),\n",
       "  array([ 0,  0, 16,  2]),\n",
       "  array([0, 0, 0, 3]),\n",
       "  array([0, 0, 0, 3])]}"
      ]
     },
     "execution_count": 8,
     "metadata": {},
     "output_type": "execute_result"
    }
   ],
   "source": [
    "blueprints"
   ]
  },
  {
   "attachments": {},
   "cell_type": "markdown",
   "metadata": {},
   "source": [
    "For this problem, only the first 3 blueprints are used"
   ]
  },
  {
   "cell_type": "code",
   "execution_count": 9,
   "metadata": {},
   "outputs": [],
   "source": [
    "blueprints_short ={}\n",
    "for i in range(1,4):\n",
    "    blueprints_short[i] = blueprints[i]"
   ]
  },
  {
   "cell_type": "code",
   "execution_count": 10,
   "metadata": {},
   "outputs": [
    {
     "data": {
      "text/plain": [
       "{1: [array([0, 9, 0, 4]),\n",
       "  array([ 0,  0, 18,  4]),\n",
       "  array([0, 0, 0, 4]),\n",
       "  array([0, 0, 0, 4])],\n",
       " 2: [array([0, 7, 0, 2]),\n",
       "  array([ 0,  0, 10,  4]),\n",
       "  array([0, 0, 0, 4]),\n",
       "  array([0, 0, 0, 4])],\n",
       " 3: [array([ 0, 12,  0,  3]),\n",
       "  array([ 0,  0, 15,  4]),\n",
       "  array([0, 0, 0, 3]),\n",
       "  array([0, 0, 0, 4])]}"
      ]
     },
     "execution_count": 10,
     "metadata": {},
     "output_type": "execute_result"
    }
   ],
   "source": [
    "blueprints_short"
   ]
  },
  {
   "cell_type": "code",
   "execution_count": 11,
   "metadata": {},
   "outputs": [],
   "source": [
    "blueprints=blueprints_short"
   ]
  },
  {
   "attachments": {},
   "cell_type": "markdown",
   "metadata": {},
   "source": [
    "# Optimizer"
   ]
  },
  {
   "attachments": {},
   "cell_type": "markdown",
   "metadata": {},
   "source": [
    "If the number of collected materials exceeds the maximum cost of respective robot for each materials, avoid buying it. So create a new array here with maximum cost."
   ]
  },
  {
   "cell_type": "code",
   "execution_count": 12,
   "metadata": {},
   "outputs": [],
   "source": [
    "def getMaxCost(blueprint):\n",
    "    #max_cost = np.zeros((4), dtype=np.int8)\n",
    "    \n",
    "    costs_np = np.array(blueprint)\n",
    "    max_cost = np.max(costs_np, axis=0) #Maximum along column\n",
    "    return max_cost"
   ]
  },
  {
   "cell_type": "code",
   "execution_count": 13,
   "metadata": {},
   "outputs": [
    {
     "data": {
      "text/plain": [
       "array([ 0,  9, 18,  4])"
      ]
     },
     "execution_count": 13,
     "metadata": {},
     "output_type": "execute_result"
    }
   ],
   "source": [
    "#Test\n",
    "getMaxCost(blueprints[1])"
   ]
  },
  {
   "cell_type": "code",
   "execution_count": 14,
   "metadata": {},
   "outputs": [],
   "source": [
    "def getOptionsNext(blueprint, robots_count, materials_count, bpmaxcost):\n",
    "    #Returns a index of robot to buy or None for not buying\n",
    "\n",
    "    #Check which robots I can buy with the materials I have\n",
    "    canIBuy=np.zeros((4),dtype=bool)\n",
    "    for ibp, bpitem in enumerate(blueprint):\n",
    "        canIBuy[ibp] = np.all( (materials_count-bpitem)>=0)\n",
    "\n",
    "    #print(f\"canIBuy: {canIBuy}\")\n",
    "\n",
    "    buylist = list( np.nonzero(canIBuy)[0] )\n",
    "    buylist.append(None)\n",
    "    #print(f\"buylist:{buylist}\")\n",
    "\n",
    "    return buylist"
   ]
  },
  {
   "cell_type": "code",
   "execution_count": 24,
   "metadata": {},
   "outputs": [],
   "source": [
    "#This is not working well\n",
    "def getOptionsNext_opt(blueprint, robots_count, materials_count, bpmaxcost):\n",
    "    #Returns a index of robot to buy or None for not buying\n",
    "\n",
    "    #Check which robots I can buy with the materials I have\n",
    "    canIBuy=np.zeros((4),dtype=bool)\n",
    "    for ibp, bpitem in enumerate(blueprint):\n",
    "        canIBuy[ibp] = np.all( (materials_count-bpitem)>=0)\n",
    "\n",
    "        if canIBuy[ibp] and ibp!=0:\n",
    "            #if materials_count[ibp] >= ( bpmaxcost[ibp] * 2 ):\n",
    "            #if robots_count[ibp] > bpmaxcost[ibp]+1:\n",
    "            if robots_count[ibp] >= bpmaxcost[ibp]:\n",
    "                #No point buying this robot because there are enough robots already to be able to create materials per day for making any other robot\n",
    "                canIBuy[ibp]=False\n",
    "        \n",
    "    #print(f\"canIBuy: {canIBuy}\")\n",
    "    \n",
    "    buylist= [None]\n",
    "    buylist1 = list( np.nonzero(canIBuy)[0] )\n",
    "    buylist.extend(buylist1)\n",
    "    #buylist.append(None)\n",
    "    #print(f\"buylist:{buylist}\")\n",
    "\n",
    "    return buylist\n"
   ]
  },
  {
   "cell_type": "code",
   "execution_count": 16,
   "metadata": {},
   "outputs": [],
   "source": [
    "#Global variables\n",
    "maxgeode_global = 0\n",
    "already_calculated={}"
   ]
  },
  {
   "cell_type": "code",
   "execution_count": 17,
   "metadata": {},
   "outputs": [],
   "source": [
    "def maxAtMinute2(blueprint, robots_count, materials_count, minute, maxminutes, bpmaxcost):\n",
    "    #print(f\"** {minute} mins, robots_count: {robots_count}, materials_count:{materials_count}\")\n",
    "    global maxgeode_global\n",
    "    global already_calculated\n",
    "    \n",
    "    #Check if this state has already been calculated\n",
    "    if (*robots_count, *materials_count, minute) in already_calculated:\n",
    "        return already_calculated[(*robots_count, *materials_count, minute)]\n",
    "\n",
    "    #Check if there is any chance to get a better result. Number of geode robots and geode materials\n",
    "    minleft = maxminutes-minute\n",
    "\n",
    "    #sum(i, from k to k+m = 1/2*(2k+m)(m+1)\n",
    "    # replace k with robot_count+1, and m with number of minutes\n",
    "    maxgeodes_possible = int(materials_count[0] +1+ (2*(robots_count[0]+1)+minleft+1)*(minleft+2)/2)\n",
    "\n",
    "    if maxgeodes_possible<maxgeode_global:\n",
    "        return materials_count[0] #Get out if it is not possible to do better\n",
    "\n",
    "    maxgeodes = 0 #default\n",
    "    \n",
    "    buylist = getOptionsNext(blueprint, robots_count, materials_count, bpmaxcost)\n",
    "    #print(f\"buylist:{buylist}\")\n",
    "    \n",
    "    maxgeode0=0\n",
    "\n",
    "    for buyrobot0 in buylist:\n",
    "        materials_count1 = materials_count.copy() #Hopefully, np array copy properly\n",
    "        robots_count1 = robots_count.copy()\n",
    "        #print(f\"Buying robot {buyrobot0}.\")\n",
    "\n",
    "        if not buyrobot0 is None:\n",
    "            #Test materials that will be left if we buy the robot\n",
    "            materials_count1 -= blueprint[buyrobot0]\n",
    "    \n",
    "            #print(f\"After buying this robot the materials left is {materials_count1}\")\n",
    "\n",
    "        #Update materials based in the number of robots\n",
    "        materials_count1+= robots_count\n",
    "        #print(f\"Robots collect materials, leading to {materials_count1}\")\n",
    "    \n",
    "        #Update robot count at end of minute if there was a purchase\n",
    "        if not buyrobot0 is None:\n",
    "            robots_count1[buyrobot0]+=1\n",
    "            #print(f\"New robot acquired, robot_count1 is now {robots_count1}\")\n",
    "\n",
    "        minute1 = minute+1\n",
    "        #Check if reached maximum number of minutes\n",
    "        if minute1>maxminutes:\n",
    "            return materials_count1[0]\n",
    "\n",
    "        #print(f\"Entering {minute1} mins...\")\n",
    "        maxgeode0 = maxAtMinute2(blueprint,robots_count1,materials_count1,minute1, maxminutes, bpmaxcost)\n",
    "        #print(f\"{minute} mins, maxgeode0: {maxgeode0}\")\n",
    "\n",
    "        maxgeodes= max(maxgeodes, maxgeode0)\n",
    "\n",
    "    if maxgeodes>maxgeode_global:\n",
    "        #print(f\"{minute} min, new geode max: {maxgeodes}\")\n",
    "        maxgeode_global=maxgeodes\n",
    "        \n",
    "    already_calculated[(*robots_count, *materials_count, minute)] = maxgeodes\n",
    "\n",
    "    return maxgeodes"
   ]
  },
  {
   "cell_type": "code",
   "execution_count": 18,
   "metadata": {},
   "outputs": [],
   "source": [
    "def maxAtMinute2_opt(blueprint, robots_count, materials_count, minute, maxminutes, bpmaxcost):\n",
    "    #print(f\"** {minute} mins, robots_count: {robots_count}, materials_count:{materials_count}\")\n",
    "    global maxgeode_global\n",
    "    global already_calculated\n",
    "    \n",
    "    #Check if this state has already been calculated\n",
    "    if (*robots_count, *materials_count, minute) in already_calculated:\n",
    "        return already_calculated[(*robots_count, *materials_count, minute)]\n",
    "\n",
    "    #Check if there is any chance to get a better result. Number of geode robots and geode materials\n",
    "    minleft = maxminutes-minute\n",
    "\n",
    "    #sum(i, from k to k+m = 1/2*(2k+m)(m+1)\n",
    "    # replace k with robot_count+1, and m with number of minutes\n",
    "    maxgeodes_possible = int(materials_count[0] +1+ (2*(robots_count[0]+1)+minleft+1)*(minleft+2)/2)\n",
    "    \n",
    "    if maxgeodes_possible<maxgeode_global:\n",
    "        return materials_count[0] #Get out if it is not possible to do better\n",
    "\n",
    "    maxgeodes = 0 #default\n",
    "    \n",
    "    buylist = getOptionsNext_opt(blueprint, robots_count, materials_count, bpmaxcost)\n",
    "    #print(f\"buylist:{buylist}\")\n",
    "    \n",
    "    maxgeode0=0\n",
    "\n",
    "    for buyrobot0 in buylist:\n",
    "        materials_count1 = materials_count.copy() #Hopefully, np array copy properly\n",
    "        robots_count1 = robots_count.copy()\n",
    "        #print(f\"Buying robot {buyrobot0}.\")\n",
    "\n",
    "        if not buyrobot0 is None:\n",
    "            #Test materials that will be left if we buy the robot\n",
    "            materials_count1 -= blueprint[buyrobot0]\n",
    "    \n",
    "            #print(f\"After buying this robot the materials left is {materials_count1}\")\n",
    "\n",
    "        #Update materials based in the number of robots\n",
    "        materials_count1+= robots_count\n",
    "        #print(f\"Robots collect materials, leading to {materials_count1}\")\n",
    "    \n",
    "        #Update robot count at end of minute if there was a purchase\n",
    "        if not buyrobot0 is None:\n",
    "            robots_count1[buyrobot0]+=1\n",
    "            #print(f\"New robot acquired, robot_count1 is now {robots_count1}\")\n",
    "\n",
    "        minute1 = minute+1\n",
    "        #Check if reached maximum number of minutes\n",
    "        if minute1>maxminutes:\n",
    "            return materials_count1[0]\n",
    "\n",
    "        #print(f\"Entering {minute1} mins...\")\n",
    "        maxgeode0 = maxAtMinute2_opt(blueprint,robots_count1,materials_count1,minute1, maxminutes, bpmaxcost)\n",
    "        #print(f\"{minute} mins, maxgeode0: {maxgeode0}\")\n",
    "\n",
    "        maxgeodes= max(maxgeodes, maxgeode0)\n",
    "\n",
    "    if maxgeodes>maxgeode_global:\n",
    "        #print(f\"{minute} min, new geode max: {maxgeodes}\")\n",
    "        maxgeode_global=maxgeodes\n",
    "        \n",
    "    already_calculated[(*robots_count, *materials_count, minute)] = maxgeodes\n",
    "\n",
    "    return maxgeodes"
   ]
  },
  {
   "cell_type": "code",
   "execution_count": 19,
   "metadata": {},
   "outputs": [],
   "source": [
    "def maxAtMinute3(blueprint, robots_count, materials_count, minute, maxminutes, bpmaxcost):\n",
    "    #print(f\"** {minute} mins, robots_count: {robots_count}, materials_count:{materials_count}\")\n",
    "    global maxgeode_global\n",
    "    global already_calculated\n",
    "    \n",
    "    #Check if this state has already been calculated\n",
    "    if (*robots_count, *materials_count, minute) in already_calculated:\n",
    "        return already_calculated[(*robots_count, *materials_count, minute)]\n",
    "\n",
    "    #Check if there is any chance to get a better result. Number of geode robots and geode materials\n",
    "    minleft = maxminutes-minute\n",
    "    #sum(i, from k to k+m) = 1/2*(2k+m)(m+1)\n",
    "    # replace k with robot_count+1, and m with number of minutes\n",
    "    #maxgeodes_possible = materials_count[0] +1+ (2*(robots_count[0]+1)+minleft+1)*(minleft+2)//2\n",
    "    maxgeodes_possible = materials_count[0] + (2*robots_count[0]+minleft)*(minleft+1)//2\n",
    "    if maxgeodes_possible<maxgeode_global:\n",
    "        return materials_count[0] #Get out if it is not possible to do better\n",
    "\n",
    "    maxgeodes = 0 #default\n",
    "\n",
    "    # Check if number of robots per material producing for geode is already ok to just create geode robots every minute\n",
    "    mat_for_geode = blueprint[0]\n",
    "    if np.all(robots_count>=mat_for_geode) and np.all(materials_count>=mat_for_geode):\n",
    "        #No need to continue\n",
    "        #Number of geodes that will be produced will be\n",
    "        # previous + produced in this minute (ngeoderobots) + (next minute ngeoderobots+1) + ...+ (next minute ngeoderobots+minleft)\n",
    "        #sum(i, from k to k+m) = 1/2*(2k+m)(m+1)\n",
    "        #maxgeodes = materials_count[0] + (2*robots_count[0]+minleft)*(minleft+1)//2\n",
    "        #return maxgeodes\n",
    "        return maxgeodes_possible\n",
    "    \n",
    "    buylist = getOptionsNext_opt(blueprint, robots_count, materials_count, bpmaxcost)\n",
    "    #print(f\"buylist:{buylist}\")\n",
    "    \n",
    "    maxgeode0=0\n",
    "\n",
    "    for buyrobot0 in buylist:\n",
    "        materials_count1 = materials_count.copy() #Hopefully, np array copy properly\n",
    "        robots_count1 = robots_count.copy()\n",
    "        #print(f\"Buying robot {buyrobot0}.\")\n",
    "\n",
    "        if not buyrobot0 is None:\n",
    "            #Test materials that will be left if we buy the robot\n",
    "            materials_count1 -= blueprint[buyrobot0]\n",
    "    \n",
    "            #print(f\"After buying this robot the materials left is {materials_count1}\")\n",
    "\n",
    "        #Update materials based in the number of robots\n",
    "        materials_count1+= robots_count\n",
    "        #print(f\"Robots collect materials, leading to {materials_count1}\")\n",
    "    \n",
    "        #Update robot count at end of minute if there was a purchase\n",
    "        if not buyrobot0 is None:\n",
    "            robots_count1[buyrobot0]+=1\n",
    "            #print(f\"New robot acquired, robot_count1 is now {robots_count1}\")\n",
    "\n",
    "        minute1 = minute+1\n",
    "        #Check if reached maximum number of minutes\n",
    "        if minute1>maxminutes:\n",
    "            return materials_count1[0]\n",
    "\n",
    "        #print(f\"Entering {minute1} mins...\")\n",
    "        maxgeode0 = maxAtMinute3(blueprint,robots_count1,materials_count1,minute1, maxminutes, bpmaxcost)\n",
    "        #print(f\"{minute} mins, maxgeode0: {maxgeode0}\")\n",
    "\n",
    "        maxgeodes= max(maxgeodes, maxgeode0)\n",
    "\n",
    "    if maxgeodes>maxgeode_global:\n",
    "        #print(f\"{minute} min, new geode max: {maxgeodes}\")\n",
    "        maxgeode_global=maxgeodes\n",
    "        \n",
    "    already_calculated[(*robots_count, *materials_count, minute)] = maxgeodes\n",
    "\n",
    "    return maxgeodes"
   ]
  },
  {
   "cell_type": "code",
   "execution_count": 20,
   "metadata": {},
   "outputs": [],
   "source": [
    "def getMaxGeodesForBlueprint(blueprint, minutes):\n",
    "    global already_calculated\n",
    "    global maxgeode_global\n",
    "    #reset\n",
    "    maxgeode_global=0\n",
    "    already_calculated={}\n",
    "\n",
    "    bpmaxcost = getMaxCost(blueprint)\n",
    "    #print(f\"bpmaxcost:{bpmaxcost}\")\n",
    "\n",
    "    robots_count_init = np.array([0,0,0,1])\n",
    "    materials_count_init = np.array([0,0,0,0])\n",
    "    return maxAtMinute2(blueprint, robots_count_init, materials_count_init, 1, minutes, bpmaxcost)"
   ]
  },
  {
   "cell_type": "code",
   "execution_count": 21,
   "metadata": {},
   "outputs": [],
   "source": [
    "def getMaxGeodesForBlueprint_opt(blueprint, minutes):\n",
    "    global already_calculated\n",
    "    global maxgeode_global\n",
    "    #reset\n",
    "    maxgeode_global=0\n",
    "    already_calculated={}\n",
    "\n",
    "    bpmaxcost = getMaxCost(blueprint)\n",
    "    #print(f\"bpmaxcost:{bpmaxcost}\")\n",
    "\n",
    "    robots_count_init = np.array([0,0,0,1])\n",
    "    materials_count_init = np.array([0,0,0,0])\n",
    "    return maxAtMinute2_opt(blueprint, robots_count_init, materials_count_init, 1, minutes, bpmaxcost)"
   ]
  },
  {
   "cell_type": "code",
   "execution_count": 22,
   "metadata": {},
   "outputs": [],
   "source": [
    "def getMaxGeodesForBlueprint3(blueprint, minutes):\n",
    "    global already_calculated\n",
    "    global maxgeode_global\n",
    "    #reset\n",
    "    maxgeode_global=0\n",
    "    already_calculated={}\n",
    "\n",
    "    bpmaxcost = getMaxCost(blueprint)\n",
    "    #print(f\"bpmaxcost:{bpmaxcost}\")\n",
    "\n",
    "    robots_count_init = np.array([0,0,0,1])\n",
    "    materials_count_init = np.array([0,0,0,0])\n",
    "    return maxAtMinute3(blueprint, robots_count_init, materials_count_init, 1, minutes, bpmaxcost)"
   ]
  },
  {
   "attachments": {},
   "cell_type": "markdown",
   "metadata": {},
   "source": [
    "# Testing"
   ]
  },
  {
   "attachments": {},
   "cell_type": "markdown",
   "metadata": {},
   "source": [
    "Examples in website"
   ]
  },
  {
   "cell_type": "code",
   "execution_count": null,
   "metadata": {},
   "outputs": [],
   "source": [
    "minutes=24\n",
    "blueprint = [np.array([0, 7, 0, 2]),\n",
    "  np.array([ 0,  0, 14,  3]),\n",
    "  np.array([0, 0, 0, 2]),\n",
    "  np.array([0, 0, 0, 4])]\n",
    "exp_result = 9\n",
    "print ( \"opt,\",getMaxGeodesForBlueprint_opt( blueprint , minutes), f\", expected {exp_result}\" )\n",
    "#print ( \"non-opt,\", getMaxGeodesForBlueprint( blueprint , minutes), f\", expected {exp_result}\" )"
   ]
  },
  {
   "cell_type": "code",
   "execution_count": 25,
   "metadata": {},
   "outputs": [
    {
     "name": "stdout",
     "output_type": "stream",
     "text": [
      "opt3, 9 , expected 9\n"
     ]
    }
   ],
   "source": [
    "minutes=24\n",
    "blueprint = [np.array([0, 7, 0, 2]),\n",
    "  np.array([ 0,  0, 14,  3]),\n",
    "  np.array([0, 0, 0, 2]),\n",
    "  np.array([0, 0, 0, 4])]\n",
    "exp_result = 9\n",
    "print ( \"opt3,\",getMaxGeodesForBlueprint3( blueprint , minutes), f\", expected {exp_result}\" )\n",
    "#print ( \"non-opt,\", getMaxGeodesForBlueprint( blueprint , minutes), f\", expected {exp_result}\" )"
   ]
  },
  {
   "cell_type": "code",
   "execution_count": null,
   "metadata": {},
   "outputs": [],
   "source": [
    "minutes=24\n",
    "blueprint = [np.array([ 0, 12,  0,  3]),\n",
    "  np.array([0, 0, 8, 3]),\n",
    "  np.array([0, 0, 0, 3]),\n",
    "  np.array([0, 0, 0, 2])]\n",
    "exp_result = 12\n",
    "print ( \"opt,\",getMaxGeodesForBlueprint_opt( blueprint , minutes), f\", expected {exp_result}\" )\n",
    "#print ( \"non-opt,\", getMaxGeodesForBlueprint( blueprint , minutes), f\", expected {exp_result}\" )"
   ]
  },
  {
   "cell_type": "code",
   "execution_count": 26,
   "metadata": {},
   "outputs": [
    {
     "name": "stdout",
     "output_type": "stream",
     "text": [
      "opt3, 12 , expected 12\n"
     ]
    }
   ],
   "source": [
    "minutes=24\n",
    "blueprint = [np.array([ 0, 12,  0,  3]),\n",
    "  np.array([0, 0, 8, 3]),\n",
    "  np.array([0, 0, 0, 3]),\n",
    "  np.array([0, 0, 0, 2])]\n",
    "exp_result = 12\n",
    "print ( \"opt3,\",getMaxGeodesForBlueprint3( blueprint , minutes), f\", expected {exp_result}\" )\n",
    "#print ( \"non-opt,\", getMaxGeodesForBlueprint( blueprint , minutes), f\", expected {exp_result}\" )"
   ]
  },
  {
   "attachments": {},
   "cell_type": "markdown",
   "metadata": {},
   "source": [
    "Examples from file, already tested at 24 mins"
   ]
  },
  {
   "cell_type": "code",
   "execution_count": null,
   "metadata": {},
   "outputs": [],
   "source": [
    "minutes=24\n",
    "blueprint = [np.array([0, 9, 0, 4]),\n",
    "  np.array([ 0,  0, 18,  4]),\n",
    "  np.array([0, 0, 0, 4]),\n",
    "  np.array([0, 0, 0, 4])\n",
    "  ]\n",
    "exp_result = 0\n",
    "print ( \"opt,\",getMaxGeodesForBlueprint_opt( blueprint , minutes), f\", expected {exp_result}\" )\n",
    "#print ( \"non-opt,\", getMaxGeodesForBlueprint( blueprint , minutes), f\", expected {exp_result}\" )"
   ]
  },
  {
   "cell_type": "code",
   "execution_count": 27,
   "metadata": {},
   "outputs": [
    {
     "name": "stdout",
     "output_type": "stream",
     "text": [
      "opt3, 0 , expected 0\n"
     ]
    }
   ],
   "source": [
    "minutes=24\n",
    "blueprint = [np.array([0, 9, 0, 4]),\n",
    "  np.array([ 0,  0, 18,  4]),\n",
    "  np.array([0, 0, 0, 4]),\n",
    "  np.array([0, 0, 0, 4])\n",
    "  ]\n",
    "exp_result = 0\n",
    "print ( \"opt3,\",getMaxGeodesForBlueprint3( blueprint , minutes), f\", expected {exp_result}\" )\n",
    "#print ( \"non-opt,\", getMaxGeodesForBlueprint( blueprint , minutes), f\", expected {exp_result}\" )"
   ]
  },
  {
   "cell_type": "code",
   "execution_count": null,
   "metadata": {},
   "outputs": [],
   "source": [
    "minutes=24\n",
    "blueprint = [np.array([0, 7, 0, 2]),\n",
    "  np.array([ 0,  0, 10,  4]),\n",
    "  np.array([0, 0, 0, 4]),\n",
    "  np.array([0, 0, 0, 4])]\n",
    "exp_result = 4\n",
    "print ( \"opt,\",getMaxGeodesForBlueprint_opt( blueprint , minutes), f\", expected {exp_result}\" )\n",
    "#print ( \"non-opt,\", getMaxGeodesForBlueprint( blueprint , minutes), f\", expected {exp_result}\" )"
   ]
  },
  {
   "cell_type": "code",
   "execution_count": 28,
   "metadata": {},
   "outputs": [
    {
     "name": "stdout",
     "output_type": "stream",
     "text": [
      "opt3, 4 , expected 4\n"
     ]
    }
   ],
   "source": [
    "minutes=24\n",
    "blueprint = [np.array([0, 7, 0, 2]),\n",
    "  np.array([ 0,  0, 10,  4]),\n",
    "  np.array([0, 0, 0, 4]),\n",
    "  np.array([0, 0, 0, 4])]\n",
    "exp_result = 4\n",
    "print ( \"opt3,\",getMaxGeodesForBlueprint3( blueprint , minutes), f\", expected {exp_result}\" )\n",
    "#print ( \"non-opt,\", getMaxGeodesForBlueprint( blueprint , minutes), f\", expected {exp_result}\" )"
   ]
  },
  {
   "cell_type": "code",
   "execution_count": null,
   "metadata": {},
   "outputs": [],
   "source": [
    "minutes=24\n",
    "blueprint = [np.array([ 0, 12,  0,  3]),\n",
    "  np.array([ 0,  0, 15,  4]),\n",
    "  np.array([0, 0, 0, 3]),\n",
    "  np.array([0, 0, 0, 4])]\n",
    "exp_result = 1\n",
    "print ( \"opt,\",getMaxGeodesForBlueprint_opt( blueprint , minutes), f\", expected {exp_result}\" )\n",
    "#print ( \"non-opt,\", getMaxGeodesForBlueprint( blueprint , minutes), f\", expected {exp_result}\" )"
   ]
  },
  {
   "cell_type": "code",
   "execution_count": 29,
   "metadata": {},
   "outputs": [
    {
     "name": "stdout",
     "output_type": "stream",
     "text": [
      "opt3, 1 , expected 1\n"
     ]
    }
   ],
   "source": [
    "minutes=24\n",
    "blueprint = [np.array([ 0, 12,  0,  3]),\n",
    "  np.array([ 0,  0, 15,  4]),\n",
    "  np.array([0, 0, 0, 3]),\n",
    "  np.array([0, 0, 0, 4])]\n",
    "exp_result = 1\n",
    "print ( \"opt3,\",getMaxGeodesForBlueprint3( blueprint , minutes), f\", expected {exp_result}\" )\n",
    "#print ( \"non-opt,\", getMaxGeodesForBlueprint( blueprint , minutes), f\", expected {exp_result}\" )"
   ]
  },
  {
   "attachments": {},
   "cell_type": "markdown",
   "metadata": {},
   "source": [
    "Examples from website, with given answers at 32 mins"
   ]
  },
  {
   "cell_type": "code",
   "execution_count": null,
   "metadata": {},
   "outputs": [],
   "source": [
    "minutes=32\n",
    "blueprint = [np.array([0, 7, 0, 2]),\n",
    "  np.array([ 0,  0, 14,  3]),\n",
    "  np.array([0, 0, 0, 2]),\n",
    "  np.array([0, 0, 0, 4])]\n",
    "exp_result = 56\n",
    "print ( \"opt,\",getMaxGeodesForBlueprint_opt( blueprint , minutes), f\", expected {exp_result}\" )\n",
    "#print ( \"non-opt,\", getMaxGeodesForBlueprint( blueprint , minutes), f\", expected {exp_result}\" )"
   ]
  },
  {
   "cell_type": "code",
   "execution_count": 30,
   "metadata": {},
   "outputs": [
    {
     "name": "stdout",
     "output_type": "stream",
     "text": [
      "opt3, 56 , expected 56\n"
     ]
    }
   ],
   "source": [
    "minutes=32\n",
    "blueprint = [np.array([0, 7, 0, 2]),\n",
    "  np.array([ 0,  0, 14,  3]),\n",
    "  np.array([0, 0, 0, 2]),\n",
    "  np.array([0, 0, 0, 4])]\n",
    "exp_result = 56\n",
    "print ( \"opt3,\",getMaxGeodesForBlueprint3( blueprint , minutes), f\", expected {exp_result}\" )\n",
    "#print ( \"non-opt,\", getMaxGeodesForBlueprint( blueprint , minutes), f\", expected {exp_result}\" )"
   ]
  },
  {
   "cell_type": "code",
   "execution_count": null,
   "metadata": {},
   "outputs": [],
   "source": [
    "minutes=32\n",
    "blueprint = [np.array([ 0, 12,  0,  3]),\n",
    "  np.array([0, 0, 8, 3]),\n",
    "  np.array([0, 0, 0, 3]),\n",
    "  np.array([0, 0, 0, 2])]\n",
    "exp_result = 62\n",
    "print ( \"opt,\",getMaxGeodesForBlueprint_opt( blueprint , minutes), f\", expected {exp_result}\" )\n",
    "#print ( \"non-opt,\", getMaxGeodesForBlueprint( blueprint , minutes), f\", expected {exp_result}\" )"
   ]
  },
  {
   "cell_type": "code",
   "execution_count": null,
   "metadata": {},
   "outputs": [],
   "source": [
    "minutes=32\n",
    "blueprint = [np.array([ 0, 12,  0,  3]),\n",
    "  np.array([0, 0, 8, 3]),\n",
    "  np.array([0, 0, 0, 3]),\n",
    "  np.array([0, 0, 0, 2])]\n",
    "exp_result = 62\n",
    "print ( \"opt3,\",getMaxGeodesForBlueprint3( blueprint , minutes), f\", expected {exp_result}\" )\n",
    "#print ( \"non-opt,\", getMaxGeodesForBlueprint( blueprint , minutes), f\", expected {exp_result}\" )"
   ]
  },
  {
   "cell_type": "code",
   "execution_count": null,
   "metadata": {},
   "outputs": [],
   "source": []
  },
  {
   "cell_type": "code",
   "execution_count": null,
   "metadata": {},
   "outputs": [],
   "source": []
  },
  {
   "attachments": {},
   "cell_type": "markdown",
   "metadata": {},
   "source": [
    "# Calculation\n",
    "\n",
    "use the non-optimized because is giving better results"
   ]
  },
  {
   "cell_type": "code",
   "execution_count": 31,
   "metadata": {},
   "outputs": [],
   "source": [
    "values=[]"
   ]
  },
  {
   "cell_type": "code",
   "execution_count": 32,
   "metadata": {},
   "outputs": [
    {
     "name": "stdout",
     "output_type": "stream",
     "text": [
      "Blueprint 1\n",
      "value=16 \n"
     ]
    }
   ],
   "source": [
    "print(f\"Blueprint 1\")\n",
    "bpmax= getMaxGeodesForBlueprint3( blueprints[1] , 32)\n",
    "print( f\"value={bpmax} \")\n",
    "values.append(bpmax)"
   ]
  },
  {
   "attachments": {},
   "cell_type": "markdown",
   "metadata": {},
   "source": [
    "12 is wrong answer, should be 16"
   ]
  },
  {
   "cell_type": "code",
   "execution_count": 33,
   "metadata": {},
   "outputs": [
    {
     "name": "stdout",
     "output_type": "stream",
     "text": [
      "Blueprint 2\n",
      "value=40 \n"
     ]
    }
   ],
   "source": [
    "print(f\"Blueprint 2\")\n",
    "bpmax= getMaxGeodesForBlueprint3( blueprints[2] , 32)\n",
    "print( f\"value={bpmax} \")\n",
    "values.append(bpmax)"
   ]
  },
  {
   "attachments": {},
   "cell_type": "markdown",
   "metadata": {},
   "source": [
    "ok"
   ]
  },
  {
   "cell_type": "code",
   "execution_count": 34,
   "metadata": {},
   "outputs": [
    {
     "name": "stdout",
     "output_type": "stream",
     "text": [
      "Blueprint 3\n",
      "value=21 \n"
     ]
    }
   ],
   "source": [
    "print(f\"Blueprint 3\")\n",
    "bpmax= getMaxGeodesForBlueprint3( blueprints[3] , 32)\n",
    "print( f\"value={bpmax} \")\n",
    "values.append(bpmax)"
   ]
  },
  {
   "cell_type": "code",
   "execution_count": 35,
   "metadata": {},
   "outputs": [
    {
     "data": {
      "text/plain": [
       "[16, 40, 21]"
      ]
     },
     "execution_count": 35,
     "metadata": {},
     "output_type": "execute_result"
    }
   ],
   "source": [
    "values"
   ]
  },
  {
   "cell_type": "code",
   "execution_count": 36,
   "metadata": {},
   "outputs": [
    {
     "data": {
      "text/plain": [
       "13440"
      ]
     },
     "execution_count": 36,
     "metadata": {},
     "output_type": "execute_result"
    }
   ],
   "source": [
    "answer = np.prod( np.array(values))\n",
    "answer"
   ]
  },
  {
   "attachments": {},
   "cell_type": "markdown",
   "metadata": {},
   "source": [
    "Answer is not 8640"
   ]
  },
  {
   "cell_type": "code",
   "execution_count": null,
   "metadata": {},
   "outputs": [],
   "source": []
  },
  {
   "cell_type": "code",
   "execution_count": null,
   "metadata": {},
   "outputs": [],
   "source": []
  }
 ],
 "metadata": {
  "kernelspec": {
   "display_name": "dev",
   "language": "python",
   "name": "python3"
  },
  "language_info": {
   "codemirror_mode": {
    "name": "ipython",
    "version": 3
   },
   "file_extension": ".py",
   "mimetype": "text/x-python",
   "name": "python",
   "nbconvert_exporter": "python",
   "pygments_lexer": "ipython3",
   "version": "3.8.13"
  },
  "orig_nbformat": 4,
  "vscode": {
   "interpreter": {
    "hash": "ae9318eca6f153166416f971f14e35a175773b3b30438ae2aa8538d9aa021541"
   }
  }
 },
 "nbformat": 4,
 "nbformat_minor": 2
}
