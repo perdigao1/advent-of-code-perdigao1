{
 "cells": [
  {
   "cell_type": "code",
   "execution_count": 1,
   "metadata": {},
   "outputs": [],
   "source": [
    "import numpy as np"
   ]
  },
  {
   "cell_type": "code",
   "execution_count": 2,
   "metadata": {},
   "outputs": [],
   "source": [
    "#file_input = 'input_test.txt'\n",
    "file_input = 'input.txt'"
   ]
  },
  {
   "cell_type": "code",
   "execution_count": 3,
   "metadata": {},
   "outputs": [],
   "source": [
    "with open(file_input) as f:\n",
    "    filestr = f.read()"
   ]
  },
  {
   "attachments": {},
   "cell_type": "markdown",
   "metadata": {},
   "source": [
    "Collect information from file"
   ]
  },
  {
   "cell_type": "code",
   "execution_count": 4,
   "metadata": {},
   "outputs": [],
   "source": [
    "blupr_str = filestr.split(\"Blueprint\")"
   ]
  },
  {
   "cell_type": "code",
   "execution_count": 5,
   "metadata": {},
   "outputs": [],
   "source": [
    "ores = ['geode', 'obsidian', 'clay','ore']"
   ]
  },
  {
   "cell_type": "code",
   "execution_count": 6,
   "metadata": {},
   "outputs": [],
   "source": [
    "ores_dict = {'geode':0, 'obsidian':1, 'clay':2,'ore':3}\n",
    "#ores_dict_inv = {0:'geode'}"
   ]
  },
  {
   "cell_type": "code",
   "execution_count": 8,
   "metadata": {},
   "outputs": [],
   "source": [
    "blueprints={}\n",
    "\n",
    "for b0 in blupr_str:\n",
    "\n",
    "    if b0!='':\n",
    "        #Initialise blueprint\n",
    "        blueprint = [0,0,0,0]\n",
    "        # for o0 in ores:\n",
    "        #     blueprint[o0]={}\n",
    "        \n",
    "        b0_split = b0.split(':')\n",
    "        #print(f\"b0_split:{b0_split}\")\n",
    "        bp_number = int(b0_split[0])\n",
    "        bp_key = bp_number\n",
    "        bp_value={}\n",
    "\n",
    "        b_rest = b0_split[1]\n",
    "\n",
    "        b_details_split = b_rest.split('.')\n",
    "        #print(f\"b_details_split:{b_details_split}\")\n",
    "\n",
    "        for b1 in b_details_split:\n",
    "            b1=b1.strip('\\n')\n",
    "            if 'costs' in b1:\n",
    "                # #Initialise costs\n",
    "                # robot_costs = {}\n",
    "                # for o0 in ores:\n",
    "                #     robot_costs[o0]=0\n",
    "\n",
    "                b2=b1.split('costs')\n",
    "                #print(f\"b2:{b2}\")\n",
    "\n",
    "                brobot = ''\n",
    "                irobot = 0\n",
    "                b2_robot = b2[0]\n",
    "                if 'ore' in b2_robot:\n",
    "                    brobot = 'ore'\n",
    "                    irobot=3\n",
    "                if 'clay' in b2_robot:\n",
    "                    brobot = 'clay'\n",
    "                    irobot=2\n",
    "                if 'obsidian' in b2_robot:\n",
    "                    brobot = 'obsidian'\n",
    "                    irobot=1\n",
    "                if 'geode' in b2_robot:\n",
    "                    brobot = 'geode'\n",
    "                    irobot=0\n",
    "                \n",
    "                b2_costs = b2[1]\n",
    "\n",
    "                b2_costs_split = b2_costs.split('and')\n",
    "                #print(f\"b2_costs_split:{b2_costs_split}\")\n",
    "\n",
    "                robot_costs = np.zeros((4),dtype=np.int32)\n",
    "                for b3 in b2_costs_split:\n",
    "\n",
    "                    cost_key=''\n",
    "                    cost_value=0\n",
    "\n",
    "                    b3_split = b3.split(' ')\n",
    "                    #print(f\"b3_split:{b3_split}\")\n",
    "                    for b4 in b3_split:\n",
    "                        if b4!='':\n",
    "                            if b4.isnumeric():\n",
    "                                cost_value=int(b4)\n",
    "                            else:\n",
    "                                if 'ore' in b4:\n",
    "                                    cost_key = 'ore'\n",
    "                                if 'clay' in b4:\n",
    "                                    cost_key = 'clay'\n",
    "                                if 'obsidian' in b4:\n",
    "                                    cost_key = 'obsidian'\n",
    "                                if 'geode' in b4: #This may not be necessary\n",
    "                                    cost_key = 'geode'\n",
    "                    if cost_key!='':\n",
    "                        robot_costs[ores_dict[cost_key]] = cost_value\n",
    "\n",
    "                #blueprint[]= robot_costs\n",
    "                blueprint[irobot] = robot_costs\n",
    "        \n",
    "            blueprints[bp_number] = blueprint"
   ]
  },
  {
   "cell_type": "code",
   "execution_count": 9,
   "metadata": {},
   "outputs": [
    {
     "data": {
      "text/plain": [
       "{1: [array([0, 9, 0, 4]),\n",
       "  array([ 0,  0, 18,  4]),\n",
       "  array([0, 0, 0, 4]),\n",
       "  array([0, 0, 0, 4])],\n",
       " 2: [array([0, 7, 0, 2]),\n",
       "  array([ 0,  0, 10,  4]),\n",
       "  array([0, 0, 0, 4]),\n",
       "  array([0, 0, 0, 4])],\n",
       " 3: [array([ 0, 12,  0,  3]),\n",
       "  array([ 0,  0, 15,  4]),\n",
       "  array([0, 0, 0, 3]),\n",
       "  array([0, 0, 0, 4])],\n",
       " 4: [array([0, 7, 0, 2]),\n",
       "  array([ 0,  0, 10,  3]),\n",
       "  array([0, 0, 0, 4]),\n",
       "  array([0, 0, 0, 3])],\n",
       " 5: [array([ 0, 10,  0,  2]),\n",
       "  array([ 0,  0, 13,  2]),\n",
       "  array([0, 0, 0, 3]),\n",
       "  array([0, 0, 0, 4])],\n",
       " 6: [array([ 0, 10,  0,  2]),\n",
       "  array([0, 0, 9, 3]),\n",
       "  array([0, 0, 0, 3]),\n",
       "  array([0, 0, 0, 3])],\n",
       " 7: [array([0, 7, 0, 2]),\n",
       "  array([ 0,  0, 11,  2]),\n",
       "  array([0, 0, 0, 4]),\n",
       "  array([0, 0, 0, 4])],\n",
       " 8: [array([ 0, 19,  0,  2]),\n",
       "  array([ 0,  0, 18,  3]),\n",
       "  array([0, 0, 0, 3]),\n",
       "  array([0, 0, 0, 2])],\n",
       " 9: [array([ 0, 10,  0,  2]),\n",
       "  array([0, 0, 5, 2]),\n",
       "  array([0, 0, 0, 3]),\n",
       "  array([0, 0, 0, 4])],\n",
       " 10: [array([0, 7, 0, 4]),\n",
       "  array([ 0,  0, 11,  3]),\n",
       "  array([0, 0, 0, 3]),\n",
       "  array([0, 0, 0, 4])],\n",
       " 11: [array([ 0, 15,  0,  2]),\n",
       "  array([0, 0, 8, 4]),\n",
       "  array([0, 0, 0, 4]),\n",
       "  array([0, 0, 0, 4])],\n",
       " 12: [array([ 0, 14,  0,  3]),\n",
       "  array([ 0,  0, 16,  3]),\n",
       "  array([0, 0, 0, 4]),\n",
       "  array([0, 0, 0, 3])],\n",
       " 13: [array([0, 8, 0, 3]),\n",
       "  array([ 0,  0, 11,  4]),\n",
       "  array([0, 0, 0, 4]),\n",
       "  array([0, 0, 0, 2])],\n",
       " 14: [array([ 0, 17,  0,  3]),\n",
       "  array([ 0,  0, 14,  2]),\n",
       "  array([0, 0, 0, 4]),\n",
       "  array([0, 0, 0, 4])],\n",
       " 15: [array([ 0, 14,  0,  4]),\n",
       "  array([0, 0, 8, 4]),\n",
       "  array([0, 0, 0, 4]),\n",
       "  array([0, 0, 0, 4])],\n",
       " 16: [array([ 0, 10,  0,  2]),\n",
       "  array([0, 0, 8, 4]),\n",
       "  array([0, 0, 0, 4]),\n",
       "  array([0, 0, 0, 3])],\n",
       " 17: [array([0, 9, 0, 3]),\n",
       "  array([ 0,  0, 15,  2]),\n",
       "  array([0, 0, 0, 3]),\n",
       "  array([0, 0, 0, 3])],\n",
       " 18: [array([ 0, 13,  0,  3]),\n",
       "  array([ 0,  0, 18,  4]),\n",
       "  array([0, 0, 0, 3]),\n",
       "  array([0, 0, 0, 4])],\n",
       " 19: [array([ 0, 11,  0,  4]),\n",
       "  array([0, 0, 7, 3]),\n",
       "  array([0, 0, 0, 4]),\n",
       "  array([0, 0, 0, 4])],\n",
       " 20: [array([ 0, 10,  0,  2]),\n",
       "  array([ 0,  0, 20,  3]),\n",
       "  array([0, 0, 0, 4]),\n",
       "  array([0, 0, 0, 4])],\n",
       " 21: [array([0, 7, 0, 3]),\n",
       "  array([0, 0, 8, 4]),\n",
       "  array([0, 0, 0, 3]),\n",
       "  array([0, 0, 0, 4])],\n",
       " 22: [array([ 0, 16,  0,  2]),\n",
       "  array([0, 0, 7, 4]),\n",
       "  array([0, 0, 0, 4]),\n",
       "  array([0, 0, 0, 4])],\n",
       " 23: [array([ 0, 10,  0,  3]),\n",
       "  array([0, 0, 5, 4]),\n",
       "  array([0, 0, 0, 3]),\n",
       "  array([0, 0, 0, 4])],\n",
       " 24: [array([ 0, 11,  0,  4]),\n",
       "  array([ 0,  0, 19,  4]),\n",
       "  array([0, 0, 0, 4]),\n",
       "  array([0, 0, 0, 3])],\n",
       " 25: [array([0, 8, 0, 2]),\n",
       "  array([ 0,  0, 15,  3]),\n",
       "  array([0, 0, 0, 3]),\n",
       "  array([0, 0, 0, 3])],\n",
       " 26: [array([ 0, 20,  0,  4]),\n",
       "  array([ 0,  0, 18,  2]),\n",
       "  array([0, 0, 0, 4]),\n",
       "  array([0, 0, 0, 4])],\n",
       " 27: [array([0, 8, 0, 4]),\n",
       "  array([ 0,  0, 14,  3]),\n",
       "  array([0, 0, 0, 4]),\n",
       "  array([0, 0, 0, 4])],\n",
       " 28: [array([0, 7, 0, 2]),\n",
       "  array([ 0,  0, 14,  2]),\n",
       "  array([0, 0, 0, 3]),\n",
       "  array([0, 0, 0, 4])],\n",
       " 29: [array([ 0, 15,  0,  3]),\n",
       "  array([ 0,  0, 13,  3]),\n",
       "  array([0, 0, 0, 3]),\n",
       "  array([0, 0, 0, 2])],\n",
       " 30: [array([ 0, 18,  0,  2]),\n",
       "  array([ 0,  0, 16,  2]),\n",
       "  array([0, 0, 0, 3]),\n",
       "  array([0, 0, 0, 3])]}"
      ]
     },
     "execution_count": 9,
     "metadata": {},
     "output_type": "execute_result"
    }
   ],
   "source": [
    "blueprints"
   ]
  },
  {
   "attachments": {},
   "cell_type": "markdown",
   "metadata": {},
   "source": [
    "# Optimizer 2"
   ]
  },
  {
   "cell_type": "code",
   "execution_count": 10,
   "metadata": {},
   "outputs": [],
   "source": [
    "#This is not working well\n",
    "def getOptionsNext(blueprint, robots_count, materials_count):\n",
    "    #Returns a index of robot to buy or None for not buying\n",
    "\n",
    "    #Check which robots I can buy with the materials I have\n",
    "    canIBuy=np.zeros((4),dtype=bool)\n",
    "    for ibp, bpitem in enumerate(blueprint):\n",
    "        canIBuy[ibp] = np.all( (materials_count-bpitem)>=0)\n",
    "    #print(f\"canIBuy: {canIBuy}\")\n",
    "\n",
    "    buylist = list( np.nonzero(canIBuy)[0] )\n",
    "    buylist.append(None)\n",
    "    #print(f\"buylist:{buylist}\")\n",
    "\n",
    "    return buylist\n"
   ]
  },
  {
   "cell_type": "code",
   "execution_count": 11,
   "metadata": {},
   "outputs": [],
   "source": [
    "#Global variables\n",
    "maxgeode_global = 0\n",
    "already_calculated={}"
   ]
  },
  {
   "cell_type": "code",
   "execution_count": 12,
   "metadata": {},
   "outputs": [],
   "source": [
    "def maxAtMinute2(blueprint, robots_count, materials_count, minute, maxminutes):\n",
    "    #print(f\"** {minute} mins, robots_count: {robots_count}, materials_count:{materials_count}\")\n",
    "    global maxgeode_global\n",
    "    global already_calculated\n",
    "    \n",
    "    #Check if this state has already been calculated\n",
    "    if (*robots_count, *materials_count, minute) in already_calculated:\n",
    "        return already_calculated[(*robots_count, *materials_count, minute)]\n",
    "\n",
    "    #Check if there is any chance to get a better result. Number of geode robots and geode materials\n",
    "    minleft = maxminutes-minute\n",
    "    maxgeodes_possible = materials_count[0] +1+ (2*(robots_count[0]+1)+minleft)*(minleft+1)/2\n",
    "    if maxgeodes_possible<maxgeode_global:\n",
    "        return 0 #Get out if it is not possible to do better\n",
    "\n",
    "    maxgeodes = 0 #default\n",
    "    \n",
    "    \n",
    "    buylist = getOptionsNext(blueprint, robots_count, materials_count)\n",
    "    #print(f\"buylist:{buylist}\")\n",
    "    \n",
    "    maxgeode0=0\n",
    "\n",
    "    for buyrobot0 in buylist:\n",
    "        materials_count1 = materials_count.copy() #Hopefully, np array copy properly\n",
    "        robots_count1 = robots_count.copy()\n",
    "        #print(f\"Buying robot {buyrobot0}.\")\n",
    "\n",
    "        if not buyrobot0 is None:\n",
    "            #Test materials that will be left if we buy the robot\n",
    "            materials_count1 -= blueprint[buyrobot0]\n",
    "    \n",
    "            #print(f\"After buying this robot the materials left is {materials_count1}\")\n",
    "\n",
    "        #Update materials based in the number of robots\n",
    "        materials_count1+= robots_count\n",
    "        #print(f\"Robots collect materials, leading to {materials_count1}\")\n",
    "    \n",
    "        #Update robot count at end of minute if there was a purchase\n",
    "        if not buyrobot0 is None:\n",
    "            robots_count1[buyrobot0]+=1\n",
    "            #print(f\"New robot acquired, robot_count1 is now {robots_count1}\")\n",
    "\n",
    "        minute1 = minute+1\n",
    "        #Check if reached maximum number of minutes\n",
    "        if minute1>maxminutes:\n",
    "            return materials_count1[0]\n",
    "\n",
    "        #print(f\"Entering {minute1} mins...\")\n",
    "        maxgeode0 = maxAtMinute2(blueprint,robots_count1,materials_count1,minute1, maxminutes)\n",
    "        #print(f\"{minute} mins, maxgeode0: {maxgeode0}\")\n",
    "\n",
    "        maxgeodes= max(maxgeodes, maxgeode0)\n",
    "\n",
    "    if maxgeodes>maxgeode_global:\n",
    "        #print(f\"{minute} min, new geode max: {maxgeodes}\")\n",
    "        maxgeode_global=maxgeodes\n",
    "        \n",
    "    already_calculated[(*robots_count, *materials_count, minute)] = maxgeodes\n",
    "\n",
    "    return maxgeodes"
   ]
  },
  {
   "cell_type": "code",
   "execution_count": 13,
   "metadata": {},
   "outputs": [],
   "source": [
    "def maxAtMinute2_deep(blueprint, robots_count, materials_count, minute, maxminutes):\n",
    "    #print(f\"** {minute} mins, robots_count: {robots_count}, materials_count:{materials_count}\")\n",
    "    global maxgeode_global\n",
    "    global already_calculated\n",
    "    \n",
    "    #Check if this state has already been calculated\n",
    "    if (*robots_count, *materials_count, minute) in already_calculated:\n",
    "        return already_calculated[(*robots_count, *materials_count, minute)]\n",
    "\n",
    "    # #Check if there is any chance to get a better result. Number of geode robots and geode materials\n",
    "    # minleft = maxminutes-minute\n",
    "    # maxgeodes_possible = materials_count[0] + (2*robots_count[0]+minleft)*(minleft+1)/2\n",
    "    # if maxgeodes_possible<maxgeode_global:\n",
    "    #     return 0 #Get out if it is not possible to do better\n",
    "\n",
    "    maxgeodes = 0 #default\n",
    "    \n",
    "    \n",
    "    buylist = getOptionsNext(blueprint, robots_count, materials_count)\n",
    "    #print(f\"buylist:{buylist}\")\n",
    "    \n",
    "    maxgeode0=0\n",
    "\n",
    "    for buyrobot0 in buylist:\n",
    "        materials_count1 = materials_count.copy() #Hopefully, np array copy properly\n",
    "        robots_count1 = robots_count.copy()\n",
    "        #print(f\"Buying robot {buyrobot0}.\")\n",
    "\n",
    "        if not buyrobot0 is None:\n",
    "            #Test materials that will be left if we buy the robot\n",
    "            materials_count1 -= blueprint[buyrobot0]\n",
    "    \n",
    "            #print(f\"After buying this robot the materials left is {materials_count1}\")\n",
    "\n",
    "        #Update materials based in the number of robots\n",
    "        materials_count1+= robots_count\n",
    "        #print(f\"Robots collect materials, leading to {materials_count1}\")\n",
    "    \n",
    "        #Update robot count at end of minute if there was a purchase\n",
    "        if not buyrobot0 is None:\n",
    "            robots_count1[buyrobot0]+=1\n",
    "            #print(f\"New robot acquired, robot_count1 is now {robots_count1}\")\n",
    "\n",
    "        minute1 = minute+1\n",
    "        #Check if reached maximum number of minutes\n",
    "        if minute1>maxminutes:\n",
    "            return materials_count1[0]\n",
    "\n",
    "        #print(f\"Entering {minute1} mins...\")\n",
    "        maxgeode0 = maxAtMinute2_deep(blueprint,robots_count1,materials_count1,minute1, maxminutes)\n",
    "        #print(f\"{minute} mins, maxgeode0: {maxgeode0}\")\n",
    "\n",
    "        maxgeodes= max(maxgeodes, maxgeode0)\n",
    "\n",
    "    if maxgeodes>maxgeode_global:\n",
    "        #print(f\"{minute} min, new geode max: {maxgeodes}\")\n",
    "        maxgeode_global=maxgeodes\n",
    "        \n",
    "    already_calculated[(*robots_count, *materials_count, minute)] = maxgeodes\n",
    "\n",
    "    return maxgeodes"
   ]
  },
  {
   "cell_type": "code",
   "execution_count": 14,
   "metadata": {},
   "outputs": [],
   "source": [
    "def getMaxGeodesForBlueprint(blueprint):\n",
    "    global already_calculated\n",
    "    global maxgeode_global\n",
    "    #reset\n",
    "    maxgeode_global=0\n",
    "    already_calculated={}\n",
    "\n",
    "    robots_count_init = np.array([0,0,0,1])\n",
    "    materials_count_init = np.array([0,0,0,0])\n",
    "    return maxAtMinute2(blueprint, robots_count_init, materials_count_init, 1, 24)"
   ]
  },
  {
   "cell_type": "code",
   "execution_count": 15,
   "metadata": {},
   "outputs": [],
   "source": [
    "def getMaxGeodesForBlueprint_deep(blueprint):\n",
    "    global already_calculated\n",
    "    global maxgeode_global\n",
    "    #reset\n",
    "    maxgeode_global=0\n",
    "    already_calculated={}\n",
    "\n",
    "    robots_count_init = np.array([0,0,0,1])\n",
    "    materials_count_init = np.array([0,0,0,0])\n",
    "\n",
    "    return maxAtMinute2_deep(blueprint, robots_count_init, materials_count_init, 1, 24)"
   ]
  },
  {
   "attachments": {},
   "cell_type": "markdown",
   "metadata": {},
   "source": [
    "## Check results are consistent and check which one is faster"
   ]
  },
  {
   "cell_type": "code",
   "execution_count": 19,
   "metadata": {},
   "outputs": [
    {
     "name": "stdout",
     "output_type": "stream",
     "text": [
      "0\n"
     ]
    }
   ],
   "source": [
    "#Compare results of two different functions\n",
    "bp = blueprints[1]\n",
    "print(getMaxGeodesForBlueprint(bp))"
   ]
  },
  {
   "cell_type": "code",
   "execution_count": 20,
   "metadata": {},
   "outputs": [
    {
     "name": "stdout",
     "output_type": "stream",
     "text": [
      "0\n"
     ]
    }
   ],
   "source": [
    "print(getMaxGeodesForBlueprint_deep(bp))"
   ]
  },
  {
   "cell_type": "code",
   "execution_count": 21,
   "metadata": {},
   "outputs": [
    {
     "name": "stdout",
     "output_type": "stream",
     "text": [
      "4\n"
     ]
    }
   ],
   "source": [
    "bp = blueprints[2]\n",
    "print(getMaxGeodesForBlueprint(bp))"
   ]
  },
  {
   "cell_type": "code",
   "execution_count": 22,
   "metadata": {},
   "outputs": [
    {
     "name": "stdout",
     "output_type": "stream",
     "text": [
      "4\n"
     ]
    }
   ],
   "source": [
    "print(getMaxGeodesForBlueprint_deep(bp))"
   ]
  },
  {
   "cell_type": "code",
   "execution_count": 23,
   "metadata": {},
   "outputs": [
    {
     "name": "stdout",
     "output_type": "stream",
     "text": [
      "1\n"
     ]
    }
   ],
   "source": [
    "#Compare results of two different functions\n",
    "bp = blueprints[3]\n",
    "print(getMaxGeodesForBlueprint(bp))"
   ]
  },
  {
   "cell_type": "code",
   "execution_count": 24,
   "metadata": {},
   "outputs": [
    {
     "name": "stdout",
     "output_type": "stream",
     "text": [
      "1\n"
     ]
    }
   ],
   "source": [
    "print(getMaxGeodesForBlueprint_deep(bp))"
   ]
  },
  {
   "cell_type": "code",
   "execution_count": 25,
   "metadata": {},
   "outputs": [
    {
     "name": "stdout",
     "output_type": "stream",
     "text": [
      "3\n"
     ]
    }
   ],
   "source": [
    "bp = blueprints[5]\n",
    "print(getMaxGeodesForBlueprint(bp))"
   ]
  },
  {
   "cell_type": "code",
   "execution_count": 26,
   "metadata": {},
   "outputs": [
    {
     "name": "stdout",
     "output_type": "stream",
     "text": [
      "3\n"
     ]
    }
   ],
   "source": [
    "print(getMaxGeodesForBlueprint_deep(bp))"
   ]
  },
  {
   "cell_type": "code",
   "execution_count": 27,
   "metadata": {},
   "outputs": [
    {
     "name": "stdout",
     "output_type": "stream",
     "text": [
      "3\n",
      "3\n"
     ]
    }
   ],
   "source": [
    "bp = blueprints[7]\n",
    "print(getMaxGeodesForBlueprint(bp))\n",
    "print(getMaxGeodesForBlueprint_deep(bp))"
   ]
  },
  {
   "attachments": {},
   "cell_type": "markdown",
   "metadata": {},
   "source": [
    "Results are consistent.\n",
    "\n",
    "The getMaxGeodesForBlueprint() is faster"
   ]
  },
  {
   "cell_type": "code",
   "execution_count": null,
   "metadata": {},
   "outputs": [],
   "source": []
  },
  {
   "attachments": {},
   "cell_type": "markdown",
   "metadata": {},
   "source": [
    "# Calculate for all blueprints"
   ]
  },
  {
   "cell_type": "code",
   "execution_count": 30,
   "metadata": {},
   "outputs": [
    {
     "name": "stdout",
     "output_type": "stream",
     "text": [
      "bp_number:1, blueprint:[array([0, 9, 0, 4]), array([ 0,  0, 18,  4]), array([0, 0, 0, 4]), array([0, 0, 0, 4])]\n",
      "bpmax:0, score:0\n",
      "bp_number:2, blueprint:[array([0, 7, 0, 2]), array([ 0,  0, 10,  4]), array([0, 0, 0, 4]), array([0, 0, 0, 4])]\n",
      "bpmax:4, score:8\n",
      "bp_number:3, blueprint:[array([ 0, 12,  0,  3]), array([ 0,  0, 15,  4]), array([0, 0, 0, 3]), array([0, 0, 0, 4])]\n",
      "bpmax:1, score:3\n",
      "bp_number:4, blueprint:[array([0, 7, 0, 2]), array([ 0,  0, 10,  3]), array([0, 0, 0, 4]), array([0, 0, 0, 3])]\n",
      "bpmax:7, score:28\n",
      "bp_number:5, blueprint:[array([ 0, 10,  0,  2]), array([ 0,  0, 13,  2]), array([0, 0, 0, 3]), array([0, 0, 0, 4])]\n",
      "bpmax:3, score:15\n",
      "bp_number:6, blueprint:[array([ 0, 10,  0,  2]), array([0, 0, 9, 3]), array([0, 0, 0, 3]), array([0, 0, 0, 3])]\n",
      "bpmax:7, score:42\n",
      "bp_number:7, blueprint:[array([0, 7, 0, 2]), array([ 0,  0, 11,  2]), array([0, 0, 0, 4]), array([0, 0, 0, 4])]\n",
      "bpmax:3, score:21\n",
      "bp_number:8, blueprint:[array([ 0, 19,  0,  2]), array([ 0,  0, 18,  3]), array([0, 0, 0, 3]), array([0, 0, 0, 2])]\n",
      "bpmax:1, score:8\n",
      "bp_number:9, blueprint:[array([ 0, 10,  0,  2]), array([0, 0, 5, 2]), array([0, 0, 0, 3]), array([0, 0, 0, 4])]\n",
      "bpmax:15, score:135\n",
      "bp_number:10, blueprint:[array([0, 7, 0, 4]), array([ 0,  0, 11,  3]), array([0, 0, 0, 3]), array([0, 0, 0, 4])]\n",
      "bpmax:6, score:60\n",
      "bp_number:11, blueprint:[array([ 0, 15,  0,  2]), array([0, 0, 8, 4]), array([0, 0, 0, 4]), array([0, 0, 0, 4])]\n",
      "bpmax:1, score:11\n",
      "bp_number:12, blueprint:[array([ 0, 14,  0,  3]), array([ 0,  0, 16,  3]), array([0, 0, 0, 4]), array([0, 0, 0, 3])]\n",
      "bpmax:0, score:0\n",
      "bp_number:13, blueprint:[array([0, 8, 0, 3]), array([ 0,  0, 11,  4]), array([0, 0, 0, 4]), array([0, 0, 0, 2])]\n",
      "bpmax:9, score:117\n",
      "bp_number:14, blueprint:[array([ 0, 17,  0,  3]), array([ 0,  0, 14,  2]), array([0, 0, 0, 4]), array([0, 0, 0, 4])]\n",
      "bpmax:0, score:0\n",
      "bp_number:15, blueprint:[array([ 0, 14,  0,  4]), array([0, 0, 8, 4]), array([0, 0, 0, 4]), array([0, 0, 0, 4])]\n",
      "bpmax:1, score:15\n",
      "bp_number:16, blueprint:[array([ 0, 10,  0,  2]), array([0, 0, 8, 4]), array([0, 0, 0, 4]), array([0, 0, 0, 3])]\n",
      "bpmax:6, score:96\n",
      "bp_number:17, blueprint:[array([0, 9, 0, 3]), array([ 0,  0, 15,  2]), array([0, 0, 0, 3]), array([0, 0, 0, 3])]\n",
      "bpmax:4, score:68\n",
      "bp_number:18, blueprint:[array([ 0, 13,  0,  3]), array([ 0,  0, 18,  4]), array([0, 0, 0, 3]), array([0, 0, 0, 4])]\n",
      "bpmax:0, score:0\n",
      "bp_number:19, blueprint:[array([ 0, 11,  0,  4]), array([0, 0, 7, 3]), array([0, 0, 0, 4]), array([0, 0, 0, 4])]\n",
      "bpmax:4, score:76\n",
      "bp_number:20, blueprint:[array([ 0, 10,  0,  2]), array([ 0,  0, 20,  3]), array([0, 0, 0, 4]), array([0, 0, 0, 4])]\n",
      "bpmax:0, score:0\n",
      "bp_number:21, blueprint:[array([0, 7, 0, 3]), array([0, 0, 8, 4]), array([0, 0, 0, 3]), array([0, 0, 0, 4])]\n",
      "bpmax:9, score:189\n",
      "bp_number:22, blueprint:[array([ 0, 16,  0,  2]), array([0, 0, 7, 4]), array([0, 0, 0, 4]), array([0, 0, 0, 4])]\n",
      "bpmax:1, score:22\n",
      "bp_number:23, blueprint:[array([ 0, 10,  0,  3]), array([0, 0, 5, 4]), array([0, 0, 0, 3]), array([0, 0, 0, 4])]\n",
      "bpmax:7, score:161\n",
      "bp_number:24, blueprint:[array([ 0, 11,  0,  4]), array([ 0,  0, 19,  4]), array([0, 0, 0, 4]), array([0, 0, 0, 3])]\n",
      "bpmax:0, score:0\n",
      "bp_number:25, blueprint:[array([0, 8, 0, 2]), array([ 0,  0, 15,  3]), array([0, 0, 0, 3]), array([0, 0, 0, 3])]\n",
      "bpmax:4, score:100\n",
      "bp_number:26, blueprint:[array([ 0, 20,  0,  4]), array([ 0,  0, 18,  2]), array([0, 0, 0, 4]), array([0, 0, 0, 4])]\n",
      "bpmax:0, score:0\n",
      "bp_number:27, blueprint:[array([0, 8, 0, 4]), array([ 0,  0, 14,  3]), array([0, 0, 0, 4]), array([0, 0, 0, 4])]\n",
      "bpmax:1, score:27\n",
      "bp_number:28, blueprint:[array([0, 7, 0, 2]), array([ 0,  0, 14,  2]), array([0, 0, 0, 3]), array([0, 0, 0, 4])]\n",
      "bpmax:5, score:140\n",
      "bp_number:29, blueprint:[array([ 0, 15,  0,  3]), array([ 0,  0, 13,  3]), array([0, 0, 0, 3]), array([0, 0, 0, 2])]\n",
      "bpmax:5, score:145\n",
      "bp_number:30, blueprint:[array([ 0, 18,  0,  2]), array([ 0,  0, 16,  2]), array([0, 0, 0, 3]), array([0, 0, 0, 3])]\n",
      "bpmax:0, score:0\n"
     ]
    }
   ],
   "source": [
    "bp_scores = []\n",
    "values = []\n",
    "for bp_number, bp in blueprints.items():\n",
    "    print(f\"bp_number:{bp_number}, blueprint:{bp}\")\n",
    "    bpmax= getMaxGeodesForBlueprint(bp)\n",
    "    values.append(bpmax)\n",
    "    score = bp_number*bpmax\n",
    "    bp_scores.append(score)\n",
    "    print(f\"bpmax:{bpmax}, score:{score}\")"
   ]
  },
  {
   "cell_type": "code",
   "execution_count": 31,
   "metadata": {},
   "outputs": [
    {
     "data": {
      "text/plain": [
       "[0,\n",
       " 4,\n",
       " 1,\n",
       " 7,\n",
       " 3,\n",
       " 7,\n",
       " 3,\n",
       " 1,\n",
       " 15,\n",
       " 6,\n",
       " 1,\n",
       " 0,\n",
       " 9,\n",
       " 0,\n",
       " 1,\n",
       " 6,\n",
       " 4,\n",
       " 0,\n",
       " 4,\n",
       " 0,\n",
       " 9,\n",
       " 1,\n",
       " 7,\n",
       " 0,\n",
       " 4,\n",
       " 0,\n",
       " 1,\n",
       " 5,\n",
       " 5,\n",
       " 0]"
      ]
     },
     "execution_count": 31,
     "metadata": {},
     "output_type": "execute_result"
    }
   ],
   "source": [
    "values"
   ]
  },
  {
   "cell_type": "code",
   "execution_count": 32,
   "metadata": {},
   "outputs": [
    {
     "data": {
      "text/plain": [
       "1487"
      ]
     },
     "execution_count": 32,
     "metadata": {},
     "output_type": "execute_result"
    }
   ],
   "source": [
    "answer = np.sum( np.array(bp_scores))\n",
    "answer"
   ]
  },
  {
   "cell_type": "code",
   "execution_count": null,
   "metadata": {},
   "outputs": [],
   "source": []
  },
  {
   "cell_type": "code",
   "execution_count": null,
   "metadata": {},
   "outputs": [],
   "source": []
  }
 ],
 "metadata": {
  "kernelspec": {
   "display_name": "dev",
   "language": "python",
   "name": "python3"
  },
  "language_info": {
   "codemirror_mode": {
    "name": "ipython",
    "version": 3
   },
   "file_extension": ".py",
   "mimetype": "text/x-python",
   "name": "python",
   "nbconvert_exporter": "python",
   "pygments_lexer": "ipython3",
   "version": "3.8.13"
  },
  "orig_nbformat": 4,
  "vscode": {
   "interpreter": {
    "hash": "ae9318eca6f153166416f971f14e35a175773b3b30438ae2aa8538d9aa021541"
   }
  }
 },
 "nbformat": 4,
 "nbformat_minor": 2
}
