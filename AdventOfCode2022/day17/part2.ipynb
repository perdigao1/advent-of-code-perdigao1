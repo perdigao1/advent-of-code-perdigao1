{
 "cells": [
  {
   "cell_type": "code",
   "execution_count": 1,
   "metadata": {},
   "outputs": [],
   "source": [
    "import numpy as np\n",
    "import matplotlib.pyplot as plt"
   ]
  },
  {
   "cell_type": "code",
   "execution_count": 2,
   "metadata": {},
   "outputs": [],
   "source": [
    "#fileinput, max_rocks = \"input_test.txt\", 10\n",
    "#fileinput, max_rocks = \"input_test.txt\", 2022\n",
    "\n",
    "fileinput, max_rocks = \"input.txt\", 2022\n",
    "\n",
    "#fileinput, max_rocks = \"input.txt\", 100000"
   ]
  },
  {
   "cell_type": "code",
   "execution_count": 3,
   "metadata": {},
   "outputs": [],
   "source": [
    "with open (fileinput,'r') as f:\n",
    "    input = f.read().strip('\\n')"
   ]
  },
  {
   "cell_type": "code",
   "execution_count": 4,
   "metadata": {},
   "outputs": [],
   "source": [
    "input_bin = np.zeros( len(input), dtype=bool)\n",
    "MOVE_LEFT_BIN=False\n",
    "MOVE_RIGHT_BIN=True\n",
    "for i, ip0 in enumerate(input):\n",
    "    move = False\n",
    "    if ip0=='>':\n",
    "        move = True\n",
    "    input_bin[i] =  move"
   ]
  },
  {
   "cell_type": "code",
   "execution_count": 5,
   "metadata": {},
   "outputs": [
    {
     "data": {
      "text/plain": [
       "array([ True,  True,  True, ...,  True, False, False])"
      ]
     },
     "execution_count": 5,
     "metadata": {},
     "output_type": "execute_result"
    }
   ],
   "source": [
    "input_bin"
   ]
  },
  {
   "cell_type": "code",
   "execution_count": 6,
   "metadata": {},
   "outputs": [
    {
     "data": {
      "text/plain": [
       "10091"
      ]
     },
     "execution_count": 6,
     "metadata": {},
     "output_type": "execute_result"
    }
   ],
   "source": [
    "len(input_bin)"
   ]
  },
  {
   "attachments": {},
   "cell_type": "markdown",
   "metadata": {},
   "source": [
    "# Game Loop"
   ]
  },
  {
   "cell_type": "code",
   "execution_count": 7,
   "metadata": {},
   "outputs": [],
   "source": [
    "MOVE_LEFT=1\n",
    "MOVE_RIGHT=2\n",
    "MOVE_DOWN=3"
   ]
  },
  {
   "cell_type": "code",
   "execution_count": 8,
   "metadata": {},
   "outputs": [],
   "source": [
    "#game_progress = []\n",
    "\n",
    "# Start the game board\n",
    "game_height = max_rocks*3\n",
    "game = np.zeros((game_height,9), dtype=bool)\n",
    "\n",
    "#walls\n",
    "game[:,0]=True\n",
    "game[:,8]=True\n",
    "\n",
    "#Bottom\n",
    "game[0,:]= True\n",
    "\n",
    "#game_progress.append(game.copy())"
   ]
  },
  {
   "cell_type": "code",
   "execution_count": 9,
   "metadata": {},
   "outputs": [],
   "source": [
    "def isMoveAllowed(piece, xpos0, ypos0, move):\n",
    "    \n",
    "    xpos1 = xpos0\n",
    "    if move==MOVE_LEFT:\n",
    "        xpos1=xpos0-1\n",
    "    elif move==MOVE_RIGHT:\n",
    "        xpos1=xpos0+1\n",
    "    \n",
    "    iy=1\n",
    "    if move==MOVE_DOWN:\n",
    "        iy=0\n",
    "    \n",
    "    #print(piece)\n",
    "    _piece_and_surround0 = game[ ypos0-1: ypos0+piece.shape[0] , :].copy()\n",
    "    _piece_and_surround0[1:1+piece.shape[0],xpos0:xpos0+piece.shape[1]] = np.logical_or(_piece_and_surround0[1:1+piece.shape[0],xpos0:xpos0+piece.shape[1]], piece)\n",
    "    #print(_piece_and_surround0)\n",
    "\n",
    "    _piece_and_surround1 = game[ ypos0-1: ypos0+piece.shape[0] , :].copy()\n",
    "    _piece_and_surround1[iy:iy+piece.shape[0],xpos1:xpos1+piece.shape[1]] = np.logical_or(_piece_and_surround1[iy:iy+piece.shape[0],xpos1:xpos1+piece.shape[1]], piece)\n",
    "    \n",
    "    #print(_piece_and_surround1)\n",
    "    if np.sum(_piece_and_surround1) == np.sum(_piece_and_surround0):\n",
    "        return True\n",
    "\n",
    "    return False"
   ]
  },
  {
   "cell_type": "code",
   "execution_count": 10,
   "metadata": {},
   "outputs": [],
   "source": [
    "def getTopOfGamePileIndex():\n",
    "    game_mid = game[:,1:-1]\n",
    "    trans = np.logical_and( game_mid[:-1,:] , np.logical_not(game_mid[1:,:]) )\n",
    "    top_of_pile = np.max(np.nonzero(np.sum( trans,axis=1 ) >0 )[0])+1\n",
    "    return top_of_pile"
   ]
  },
  {
   "attachments": {},
   "cell_type": "markdown",
   "metadata": {},
   "source": [
    "Rather than having a function that calculates the top of the pile, calculate the new top of the pile based on the piece that fell"
   ]
  },
  {
   "cell_type": "code",
   "execution_count": 11,
   "metadata": {},
   "outputs": [],
   "source": [
    "#pieces (peicearray, height)\n",
    "piece0 = ( np.ones( (1,4), dtype=bool), 1)\n",
    "piece1  = ( np.array( [[0,1,0],[1,1,1], [0,1,0] ],dtype=bool) , 3)\n",
    "piece2 = (np.array( [[1,1,1],[0,0,1],[0,0,1]],dtype=bool) , 3)\n",
    "piece3 = ( np.ones( (4,1),dtype=bool), 4)\n",
    "piece4 = ( np.ones( (2,2),dtype=bool), 2)\n",
    "\n",
    "#Implement a rotating list with collections dequeue\n",
    "from collections import deque\n",
    "pieces_c =  deque( [piece0, piece1, piece2, piece3, piece4] )\n",
    "\n",
    "pieces = (piece0, piece1, piece2, piece3, piece4)"
   ]
  },
  {
   "cell_type": "code",
   "execution_count": 12,
   "metadata": {},
   "outputs": [
    {
     "name": "stdout",
     "output_type": "stream",
     "text": [
      "Completed rocks 2023\n"
     ]
    }
   ],
   "source": [
    "rock_count = 0\n",
    "\n",
    "#move_queue = deque(input)\n",
    "move_bin_queue = deque(input_bin)\n",
    "\n",
    "curpiece = None\n",
    "top_of_pile= 1 #Starting top_of_pile value\n",
    "\n",
    "while True:\n",
    "    input0 = move_bin_queue[0]\n",
    "    move_bin_queue.rotate(-1)\n",
    "    \n",
    "    if curpiece is None:\n",
    "        #Respawn a new piece\n",
    "        rock_count+=1\n",
    "        if rock_count> max_rocks:\n",
    "            break\n",
    "\n",
    "        #Spawn new piece\n",
    "        piece_pos_y = top_of_pile+3\n",
    "        piece_pos_x = 3\n",
    "\n",
    "        # curpiece, curpiece_height = pieces_c[0]\n",
    "        # pieces_c.rotate(-1)\n",
    "        curpiece, curpiece_height = pieces[(rock_count-1) % 5 ]\n",
    "\n",
    "        #print(f\"{rock_count}: Top of pile {top_of_pile}, new piece, at {piece_pos_x},{piece_pos_y}\")\n",
    "\n",
    "    #Try a jet push sideways\n",
    "    jetmove = MOVE_LEFT\n",
    "    if input0==True:\n",
    "        jetmove=MOVE_RIGHT\n",
    "\n",
    "    #Check this side move is allowed\n",
    "    if isMoveAllowed(curpiece, piece_pos_x, piece_pos_y,jetmove):\n",
    "        #Make the move\n",
    "        if jetmove==MOVE_RIGHT:\n",
    "            piece_pos_x+=1\n",
    "        else:\n",
    "            piece_pos_x-=1\n",
    "    \n",
    "    #Move down\n",
    "    if isMoveAllowed(curpiece, piece_pos_x, piece_pos_y,MOVE_DOWN):\n",
    "        #Make the move\n",
    "        piece_pos_y-=1\n",
    "    else:\n",
    "        #Move is not allowed, piece goes to rest\n",
    "        #print(\"Down movement is not allowed, piece comes to rest\")\n",
    "        game[piece_pos_y:piece_pos_y+curpiece.shape[0], piece_pos_x:piece_pos_x+curpiece.shape[1] ] = np.logical_or(\n",
    "            game[piece_pos_y:piece_pos_y+curpiece.shape[0], piece_pos_x:piece_pos_x+curpiece.shape[1] ] , curpiece\n",
    "            )\n",
    "        \n",
    "        #Calculate new top of the pile based in location where piece came to rest and\n",
    "        # its height, compared with previous height\n",
    "\n",
    "        top_of_piece_rest = piece_pos_y + curpiece_height #do I need -1?\n",
    "        top_of_pile = max(top_of_pile, top_of_piece_rest)\n",
    "\n",
    "        #rock_count+=1\n",
    "        curpiece=None #force new piece to be spawned\n",
    "\n",
    "        #game_progress.append(game.copy())\n",
    "    \n",
    "print(f\"Completed rocks {rock_count}\")"
   ]
  },
  {
   "cell_type": "code",
   "execution_count": 13,
   "metadata": {},
   "outputs": [
    {
     "data": {
      "text/plain": [
       "3211"
      ]
     },
     "execution_count": 13,
     "metadata": {},
     "output_type": "execute_result"
    }
   ],
   "source": [
    "answer = top_of_pile-1 #discount bottom bar\n",
    "answer"
   ]
  },
  {
   "attachments": {},
   "cell_type": "markdown",
   "metadata": {},
   "source": [
    "Answer for input.txt is and 2022 rocks is **3211** \n",
    "\n",
    "Answer for input_test.txt is and 2022 rocks is **3068**"
   ]
  },
  {
   "cell_type": "code",
   "execution_count": 14,
   "metadata": {},
   "outputs": [
    {
     "data": {
      "text/plain": [
       "54951.093526761186"
      ]
     },
     "execution_count": 14,
     "metadata": {},
     "output_type": "execute_result"
    }
   ],
   "source": [
    "1000000000000/2022*0.4 /60/60"
   ]
  },
  {
   "attachments": {},
   "cell_type": "markdown",
   "metadata": {},
   "source": [
    "Need to make it significantly faster"
   ]
  },
  {
   "cell_type": "code",
   "execution_count": null,
   "metadata": {},
   "outputs": [],
   "source": []
  },
  {
   "attachments": {},
   "cell_type": "markdown",
   "metadata": {},
   "source": [
    "# See what the pile looks like after running all the commands in the input"
   ]
  },
  {
   "cell_type": "code",
   "execution_count": 15,
   "metadata": {},
   "outputs": [
    {
     "name": "stdout",
     "output_type": "stream",
     "text": [
      "i:0, moves from input:10091 , Completed rocks:1754, top_of_pile-1:2794, piece(mod5):3\n",
      "i:1, moves from input:20182 , Completed rocks:3504, top_of_pile-1:5575, piece(mod5):3\n",
      "i:2, moves from input:30273 , Completed rocks:5254, top_of_pile-1:8356, piece(mod5):3\n",
      "i:3, moves from input:40364 , Completed rocks:7004, top_of_pile-1:11137, piece(mod5):3\n",
      "i:4, moves from input:50455 , Completed rocks:8754, top_of_pile-1:13918, piece(mod5):3\n",
      "i:5, moves from input:60546 , Completed rocks:10504, top_of_pile-1:16699, piece(mod5):3\n",
      "i:6, moves from input:70637 , Completed rocks:12254, top_of_pile-1:19480, piece(mod5):3\n",
      "i:7, moves from input:80728 , Completed rocks:14004, top_of_pile-1:22261, piece(mod5):3\n",
      "i:8, moves from input:90819 , Completed rocks:15754, top_of_pile-1:25042, piece(mod5):3\n",
      "i:9, moves from input:100910 , Completed rocks:17504, top_of_pile-1:27823, piece(mod5):3\n",
      "i:10, moves from input:111001 , Completed rocks:19254, top_of_pile-1:30604, piece(mod5):3\n",
      "i:11, moves from input:121092 , Completed rocks:21004, top_of_pile-1:33385, piece(mod5):3\n",
      "i:12, moves from input:131183 , Completed rocks:22754, top_of_pile-1:36166, piece(mod5):3\n",
      "i:13, moves from input:141274 , Completed rocks:24504, top_of_pile-1:38947, piece(mod5):3\n",
      "i:14, moves from input:151365 , Completed rocks:26254, top_of_pile-1:41728, piece(mod5):3\n"
     ]
    }
   ],
   "source": [
    "game_height = 50000\n",
    "game = np.zeros((game_height,9), dtype=bool)\n",
    "#walls\n",
    "game[:,0]=True\n",
    "game[:,8]=True\n",
    "#Bottom\n",
    "game[0,:]= True\n",
    "\n",
    "#Implement a rotating list with collections dequeue\n",
    "pieces = (piece0, piece1, piece2, piece3, piece4)\n",
    "\n",
    "rock_count = 0\n",
    "curpiece = None\n",
    "top_of_pile= 1 #Starting top_of_pile value\n",
    "nmoves_from_input = 0\n",
    "\n",
    "data = []\n",
    "\n",
    "ninputs = 15\n",
    "\n",
    "for i in range(ninputs):\n",
    "    for input0 in input_bin:\n",
    "        \n",
    "        if curpiece is None:\n",
    "            #Respawn a new piece\n",
    "            rock_count+=1\n",
    "\n",
    "            #Spawn new piece\n",
    "            piece_pos_y = top_of_pile+3\n",
    "            piece_pos_x = 3\n",
    "\n",
    "            curpiece, curpiece_height = pieces[ (rock_count-1) % 5] #Use mode rather than dequeue\n",
    "\n",
    "            #print(f\"{rock_count}: Top of pile {top_of_pile}, new piece, at {piece_pos_x},{piece_pos_y}\")\n",
    "\n",
    "        #Try a jet push sideways\n",
    "        jetmove = MOVE_LEFT\n",
    "        if input0==True:\n",
    "            jetmove=MOVE_RIGHT\n",
    "\n",
    "        nmoves_from_input +=1\n",
    "\n",
    "        #Check this side move is allowed\n",
    "        if isMoveAllowed(curpiece, piece_pos_x, piece_pos_y,jetmove):\n",
    "            #Make the move\n",
    "            if jetmove==MOVE_RIGHT:\n",
    "                piece_pos_x+=1\n",
    "            else:\n",
    "                piece_pos_x-=1\n",
    "        \n",
    "        #Move down\n",
    "        if isMoveAllowed(curpiece, piece_pos_x, piece_pos_y,MOVE_DOWN):\n",
    "            #Make the move\n",
    "            piece_pos_y-=1\n",
    "        else:\n",
    "            #Move is not allowed, piece goes to rest\n",
    "            #print(\"Down movement is not allowed, piece comes to rest\")\n",
    "            game[piece_pos_y:piece_pos_y+curpiece.shape[0], piece_pos_x:piece_pos_x+curpiece.shape[1] ] = np.logical_or(\n",
    "                game[piece_pos_y:piece_pos_y+curpiece.shape[0], piece_pos_x:piece_pos_x+curpiece.shape[1] ] , curpiece\n",
    "                )\n",
    "            \n",
    "            #Calculate new top of the pile based in location where piece came to rest and\n",
    "            # its height, compared with previous height\n",
    "\n",
    "            top_of_piece_rest = piece_pos_y + curpiece_height #do I need -1?\n",
    "            top_of_pile = max(top_of_pile, top_of_piece_rest)\n",
    "\n",
    "            #rock_count+=1\n",
    "            curpiece=None #force new piece to be spawned\n",
    "\n",
    "            #game_progress.append(game.copy())\n",
    "        \n",
    "    print(f\"i:{i}, moves from input:{nmoves_from_input} , Completed rocks:{rock_count}, top_of_pile-1:{top_of_pile-1}, piece(mod5):{(rock_count-1) %5}\")\n",
    "    data.append( (i, nmoves_from_input, rock_count, top_of_pile-1, (rock_count-1) %5))"
   ]
  },
  {
   "cell_type": "code",
   "execution_count": 16,
   "metadata": {},
   "outputs": [
    {
     "data": {
      "text/plain": [
       "<matplotlib.image.AxesImage at 0x1c9b56dae50>"
      ]
     },
     "execution_count": 16,
     "metadata": {},
     "output_type": "execute_result"
    },
    {
     "data": {
      "image/png": "[encoded data removed]",
      "text/plain": [
       "<Figure size 640x480 with 1 Axes>"
      ]
     },
     "metadata": {},
     "output_type": "display_data"
    }
   ],
   "source": [
    "plt.imshow( game[top_of_pile-50:top_of_pile+10,:])"
   ]
  },
  {
   "attachments": {},
   "cell_type": "markdown",
   "metadata": {},
   "source": [
    "The cycle repeats.\n",
    "Everytime a new input cycle ends, the end piece is 3 (from rock count mod5)\n",
    "\n",
    "Try to plot them to see if there is any correlation"
   ]
  },
  {
   "cell_type": "code",
   "execution_count": 17,
   "metadata": {},
   "outputs": [
    {
     "data": {
      "text/plain": [
       "[(0, 10091, 1754, 2794, 3),\n",
       " (1, 20182, 3504, 5575, 3),\n",
       " (2, 30273, 5254, 8356, 3),\n",
       " (3, 40364, 7004, 11137, 3),\n",
       " (4, 50455, 8754, 13918, 3),\n",
       " (5, 60546, 10504, 16699, 3),\n",
       " (6, 70637, 12254, 19480, 3),\n",
       " (7, 80728, 14004, 22261, 3),\n",
       " (8, 90819, 15754, 25042, 3),\n",
       " (9, 100910, 17504, 27823, 3),\n",
       " (10, 111001, 19254, 30604, 3),\n",
       " (11, 121092, 21004, 33385, 3),\n",
       " (12, 131183, 22754, 36166, 3),\n",
       " (13, 141274, 24504, 38947, 3),\n",
       " (14, 151365, 26254, 41728, 3)]"
      ]
     },
     "execution_count": 17,
     "metadata": {},
     "output_type": "execute_result"
    }
   ],
   "source": [
    "data"
   ]
  },
  {
   "attachments": {},
   "cell_type": "markdown",
   "metadata": {},
   "source": [
    "## rocks"
   ]
  },
  {
   "cell_type": "code",
   "execution_count": 18,
   "metadata": {},
   "outputs": [
    {
     "data": {
      "text/plain": [
       "Text(0.5, 1.0, 'nrocks')"
      ]
     },
     "execution_count": 18,
     "metadata": {},
     "output_type": "execute_result"
    },
    {
     "data": {
      "image/png": "[encoded data removed]",
      "text/plain": [
       "<Figure size 640x480 with 1 Axes>"
      ]
     },
     "metadata": {},
     "output_type": "display_data"
    }
   ],
   "source": [
    "X=[]\n",
    "Y=[]\n",
    "for d0 in data:\n",
    "    X.append(d0[0])\n",
    "    Y.append(d0[2])\n",
    "    title = \"nrocks\"\n",
    "\n",
    "plt.scatter (X,Y)\n",
    "plt.title(title)"
   ]
  },
  {
   "cell_type": "code",
   "execution_count": 19,
   "metadata": {},
   "outputs": [],
   "source": [
    "from scipy import stats\n",
    "\n",
    "nrocks_vs_i_lregr = stats.linregress(X,Y)"
   ]
  },
  {
   "cell_type": "code",
   "execution_count": 20,
   "metadata": {},
   "outputs": [
    {
     "data": {
      "text/plain": [
       "LinregressResult(slope=1750.0, intercept=1754.0, rvalue=1.0, pvalue=1.9648061969921602e-129, stderr=0.0, intercept_stderr=0.0)"
      ]
     },
     "execution_count": 20,
     "metadata": {},
     "output_type": "execute_result"
    }
   ],
   "source": [
    "nrocks_vs_i_lregr"
   ]
  },
  {
   "cell_type": "code",
   "execution_count": 21,
   "metadata": {},
   "outputs": [
    {
     "name": "stdout",
     "output_type": "stream",
     "text": [
      "1750.0\n",
      "1754.0\n"
     ]
    }
   ],
   "source": [
    "print(nrocks_vs_i_lregr.slope)\n",
    "print(nrocks_vs_i_lregr.intercept)"
   ]
  },
  {
   "attachments": {},
   "cell_type": "markdown",
   "metadata": {},
   "source": [
    "## top of pile"
   ]
  },
  {
   "cell_type": "code",
   "execution_count": 22,
   "metadata": {},
   "outputs": [
    {
     "data": {
      "text/plain": [
       "Text(0.5, 1.0, 'topofpile')"
      ]
     },
     "execution_count": 22,
     "metadata": {},
     "output_type": "execute_result"
    },
    {
     "data": {
      "image/png": "[encoded data removed]",
      "text/plain": [
       "<Figure size 640x480 with 1 Axes>"
      ]
     },
     "metadata": {},
     "output_type": "display_data"
    }
   ],
   "source": [
    "X=[]\n",
    "Y=[]\n",
    "for d0 in data:\n",
    "    X.append(d0[0])\n",
    "    Y.append(d0[3])\n",
    "    title = \"topofpile\"\n",
    "\n",
    "plt.scatter (X,Y)\n",
    "plt.title(title)"
   ]
  },
  {
   "cell_type": "code",
   "execution_count": 23,
   "metadata": {},
   "outputs": [],
   "source": [
    "from scipy import stats\n",
    "topofpile_vs_i_lregr = stats.linregress(X,Y)"
   ]
  },
  {
   "cell_type": "code",
   "execution_count": 24,
   "metadata": {},
   "outputs": [
    {
     "data": {
      "text/plain": [
       "LinregressResult(slope=2781.0, intercept=2794.0, rvalue=1.0, pvalue=1.9648061969921602e-129, stderr=0.0, intercept_stderr=0.0)"
      ]
     },
     "execution_count": 24,
     "metadata": {},
     "output_type": "execute_result"
    }
   ],
   "source": [
    "topofpile_vs_i_lregr"
   ]
  },
  {
   "attachments": {},
   "cell_type": "markdown",
   "metadata": {},
   "source": [
    "Now that we have the correlation between the nrock and pile based in the number of cycles\n",
    "\n",
    "We should try to figure out which ncycle corresponds to `1000000000000` rocks\n",
    "\n",
    "From the linear regression nrock=slope*i+intercept <=> i=(nrock-intercept)/slope"
   ]
  },
  {
   "cell_type": "code",
   "execution_count": 25,
   "metadata": {},
   "outputs": [
    {
     "data": {
      "text/plain": [
       "571428570.4262857"
      ]
     },
     "execution_count": 25,
     "metadata": {},
     "output_type": "execute_result"
    }
   ],
   "source": [
    "irock_float = (1000000000000 - nrocks_vs_i_lregr.intercept)/ nrocks_vs_i_lregr.slope\n",
    "irock_float"
   ]
  },
  {
   "cell_type": "code",
   "execution_count": 26,
   "metadata": {},
   "outputs": [
    {
     "data": {
      "text/plain": [
       "571428570"
      ]
     },
     "execution_count": 26,
     "metadata": {},
     "output_type": "execute_result"
    }
   ],
   "source": [
    "irock = int(irock_float)\n",
    "irock"
   ]
  },
  {
   "cell_type": "code",
   "execution_count": 27,
   "metadata": {},
   "outputs": [
    {
     "data": {
      "text/plain": [
       "999999999254"
      ]
     },
     "execution_count": 27,
     "metadata": {},
     "output_type": "execute_result"
    }
   ],
   "source": [
    "nrocks_for_this_irock = int(irock*nrocks_vs_i_lregr.slope + nrocks_vs_i_lregr.intercept)\n",
    "nrocks_for_this_irock"
   ]
  },
  {
   "cell_type": "code",
   "execution_count": 28,
   "metadata": {},
   "outputs": [
    {
     "data": {
      "text/plain": [
       "746"
      ]
     },
     "execution_count": 28,
     "metadata": {},
     "output_type": "execute_result"
    }
   ],
   "source": [
    "rocks_remaining = 1000000000000-nrocks_for_this_irock\n",
    "rocks_remaining"
   ]
  },
  {
   "attachments": {},
   "cell_type": "markdown",
   "metadata": {},
   "source": [
    "So, need to run the code above in such a way that runs a full cycle from file, and then continue to drop further 746 rocks, just to get the additional height after the cycle completes"
   ]
  },
  {
   "cell_type": "code",
   "execution_count": 29,
   "metadata": {},
   "outputs": [
    {
     "name": "stdout",
     "output_type": "stream",
     "text": [
      "input_count:1, moves from input:10091 , Completed rocks:1754, top_of_pile-1:2794, piece(mod5):3\n",
      "In second loop and reached rock_count_from_input_start above 746. Stop here\n",
      "input_count:2, moves from input:14348 , Completed rocks:2501, top_of_pile-1:4013, piece(mod5):0\n",
      "1219\n"
     ]
    }
   ],
   "source": [
    "game_height = 10000\n",
    "game = np.zeros((game_height,9), dtype=bool)\n",
    "#walls\n",
    "game[:,0]=True\n",
    "game[:,8]=True\n",
    "#Bottom\n",
    "game[0,:]= True\n",
    "\n",
    "#Implement a rotating list with collections dequeue\n",
    "pieces = (piece0, piece1, piece2, piece3, piece4)\n",
    "\n",
    "rock_count = 0\n",
    "curpiece = None\n",
    "top_of_pile= 1 #Starting top_of_pile value\n",
    "nmoves_from_input = 0\n",
    "\n",
    "input_count=0\n",
    "\n",
    "bContinueDropping=True\n",
    "\n",
    "top_of_pile_values = []\n",
    "\n",
    "while bContinueDropping:\n",
    "    input_count+=1\n",
    "    rock_count_from_input_start=0\n",
    "    height_cycle1=0\n",
    "\n",
    "    for input0 in input_bin:\n",
    "        \n",
    "        if curpiece is None:\n",
    "            #Respawn a new piece\n",
    "            rock_count+=1\n",
    "            rock_count_from_input_start+=1\n",
    "\n",
    "            if rock_count_from_input_start> rocks_remaining and input_count==2:\n",
    "                print(f\"In second loop and reached rock_count_from_input_start above {rocks_remaining}. Stop here\")\n",
    "                bContinueDropping=False #Exit the while loop\n",
    "                break #exits the for loop\n",
    "\n",
    "            #Spawn new piece\n",
    "            piece_pos_y = top_of_pile+3\n",
    "            piece_pos_x = 3\n",
    "\n",
    "            curpiece, curpiece_height = pieces[ (rock_count-1) % 5] #Use mode rather than dequeue\n",
    "\n",
    "            #print(f\"{rock_count}: Top of pile {top_of_pile}, new piece, at {piece_pos_x},{piece_pos_y}\")\n",
    "\n",
    "        #Try a jet push sideways\n",
    "        jetmove = MOVE_LEFT\n",
    "        if input0==True:\n",
    "            jetmove=MOVE_RIGHT\n",
    "\n",
    "        nmoves_from_input +=1\n",
    "\n",
    "        #Check this side move is allowed\n",
    "        if isMoveAllowed(curpiece, piece_pos_x, piece_pos_y,jetmove):\n",
    "            #Make the move\n",
    "            if jetmove==MOVE_RIGHT:\n",
    "                piece_pos_x+=1\n",
    "            else:\n",
    "                piece_pos_x-=1\n",
    "        \n",
    "        #Move down\n",
    "        if isMoveAllowed(curpiece, piece_pos_x, piece_pos_y,MOVE_DOWN):\n",
    "            #Make the move\n",
    "            piece_pos_y-=1\n",
    "        else:\n",
    "            #Move is not allowed, piece goes to rest\n",
    "            #print(\"Down movement is not allowed, piece comes to rest\")\n",
    "            game[piece_pos_y:piece_pos_y+curpiece.shape[0], piece_pos_x:piece_pos_x+curpiece.shape[1] ] = np.logical_or(\n",
    "                game[piece_pos_y:piece_pos_y+curpiece.shape[0], piece_pos_x:piece_pos_x+curpiece.shape[1] ] , curpiece\n",
    "                )\n",
    "            \n",
    "            #Calculate new top of the pile based in location where piece came to rest and\n",
    "            # its height, compared with previous height\n",
    "\n",
    "            top_of_piece_rest = piece_pos_y + curpiece_height #do I need -1?\n",
    "            top_of_pile = max(top_of_pile, top_of_piece_rest)\n",
    "\n",
    "            #rock_count+=1\n",
    "            curpiece=None #force new piece to be spawned\n",
    "\n",
    "            #game_progress.append(game.copy())\n",
    "    \n",
    "    print(f\"input_count:{input_count}, moves from input:{nmoves_from_input} , Completed rocks:{rock_count}, top_of_pile-1:{top_of_pile-1}, piece(mod5):{(rock_count-1) %5}\")\n",
    "\n",
    "    top_of_pile_values.append(top_of_pile-1)\n",
    "    \n",
    "additional_height = top_of_pile_values[1]- top_of_pile_values[0]\n",
    "print(additional_height)"
   ]
  },
  {
   "attachments": {},
   "cell_type": "markdown",
   "metadata": {},
   "source": [
    "This value will need to be added to the expected height after the several cycles (irock) above\n",
    "\n",
    "The expected height can be calculated from the linear expression"
   ]
  },
  {
   "cell_type": "code",
   "execution_count": 30,
   "metadata": {},
   "outputs": [
    {
     "data": {
      "text/plain": [
       "1589142855964"
      ]
     },
     "execution_count": 30,
     "metadata": {},
     "output_type": "execute_result"
    }
   ],
   "source": [
    "height_i = int(topofpile_vs_i_lregr.slope * irock + topofpile_vs_i_lregr.intercept)\n",
    "height_i"
   ]
  },
  {
   "cell_type": "code",
   "execution_count": 31,
   "metadata": {},
   "outputs": [
    {
     "data": {
      "text/plain": [
       "1589142857183"
      ]
     },
     "execution_count": 31,
     "metadata": {},
     "output_type": "execute_result"
    }
   ],
   "source": [
    "total_height = height_i+additional_height\n",
    "total_height"
   ]
  },
  {
   "attachments": {},
   "cell_type": "markdown",
   "metadata": {},
   "source": [
    "THIS IS THE RIGHT ANSWER!!"
   ]
  },
  {
   "cell_type": "code",
   "execution_count": null,
   "metadata": {},
   "outputs": [],
   "source": []
  }
 ],
 "metadata": {
  "kernelspec": {
   "display_name": "dev",
   "language": "python",
   "name": "python3"
  },
  "language_info": {
   "codemirror_mode": {
    "name": "ipython",
    "version": 3
   },
   "file_extension": ".py",
   "mimetype": "text/x-python",
   "name": "python",
   "nbconvert_exporter": "python",
   "pygments_lexer": "ipython3",
   "version": "3.8.13 | packaged by conda-forge | (default, Mar 25 2022, 05:59:45) [MSC v.1929 64 bit (AMD64)]"
  },
  "orig_nbformat": 4,
  "vscode": {
   "interpreter": {
    "hash": "ae9318eca6f153166416f971f14e35a175773b3b30438ae2aa8538d9aa021541"
   }
  }
 },
 "nbformat": 4,
 "nbformat_minor": 2
}
