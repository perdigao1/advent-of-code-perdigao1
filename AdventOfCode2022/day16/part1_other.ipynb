{
 "cells": [
  {
   "cell_type": "code",
   "execution_count": 1,
   "metadata": {},
   "outputs": [],
   "source": [
    "import numpy as np\n",
    "import matplotlib.pyplot as plt\n",
    "import networkx as ntx"
   ]
  },
  {
   "cell_type": "code",
   "execution_count": 2,
   "metadata": {},
   "outputs": [],
   "source": [
    "file_input=\"input_test.txt\"\n",
    "#file_input=\"input.txt\""
   ]
  },
  {
   "cell_type": "code",
   "execution_count": 3,
   "metadata": {},
   "outputs": [],
   "source": [
    "with open(file_input,'r') as f:\n",
    "    lines = f.readlines()"
   ]
  },
  {
   "cell_type": "code",
   "execution_count": 4,
   "metadata": {},
   "outputs": [],
   "source": [
    "from collections import deque\n"
   ]
  },
  {
   "cell_type": "code",
   "execution_count": 5,
   "metadata": {},
   "outputs": [],
   "source": [
    "valves = {}\n",
    "tunnels = {}\n",
    "\n",
    "for line in lines:\n",
    "    line = line.strip()\n",
    "    valve = line.split()[1]\n",
    "    flow = int(line.split(\";\")[0].split(\"=\")[1])\n",
    "    targets = line.split(\"to \")[1].split(\" \", 1)[1].split(\", \")\n",
    "    valves[valve] = flow\n",
    "    tunnels[valve] = targets\n"
   ]
  },
  {
   "cell_type": "code",
   "execution_count": 6,
   "metadata": {},
   "outputs": [
    {
     "data": {
      "text/plain": [
       "{'AA': 0,\n",
       " 'BB': 13,\n",
       " 'CC': 2,\n",
       " 'DD': 20,\n",
       " 'EE': 3,\n",
       " 'FF': 0,\n",
       " 'GG': 0,\n",
       " 'HH': 22,\n",
       " 'II': 0,\n",
       " 'JJ': 21}"
      ]
     },
     "execution_count": 6,
     "metadata": {},
     "output_type": "execute_result"
    }
   ],
   "source": [
    "valves"
   ]
  },
  {
   "cell_type": "code",
   "execution_count": 7,
   "metadata": {},
   "outputs": [
    {
     "data": {
      "text/plain": [
       "{'AA': ['DD', 'II', 'BB'],\n",
       " 'BB': ['CC', 'AA'],\n",
       " 'CC': ['DD', 'BB'],\n",
       " 'DD': ['CC', 'AA', 'EE'],\n",
       " 'EE': ['FF', 'DD'],\n",
       " 'FF': ['EE', 'GG'],\n",
       " 'GG': ['FF', 'HH'],\n",
       " 'HH': ['GG'],\n",
       " 'II': ['AA', 'JJ'],\n",
       " 'JJ': ['II']}"
      ]
     },
     "execution_count": 7,
     "metadata": {},
     "output_type": "execute_result"
    }
   ],
   "source": [
    "tunnels"
   ]
  },
  {
   "cell_type": "code",
   "execution_count": 8,
   "metadata": {},
   "outputs": [],
   "source": [
    "dists = {} \n",
    "nonempty = []"
   ]
  },
  {
   "cell_type": "code",
   "execution_count": 9,
   "metadata": {},
   "outputs": [],
   "source": [
    "#Builds up a dictionary with distances to any other valves\n",
    "for valve in valves:\n",
    "\n",
    "    if valve != \"AA\":\n",
    "        nonempty.append(valve)\n",
    "        #Build up a ordered list of valves that are nonempty,\n",
    "        #For some reason excludes 'AA'\n",
    "\n",
    "    dists[valve] = {valve: 0, \"AA\": 0}\n",
    "    visited = {valve}\n",
    "    \n",
    "    queue = deque([(0, valve)])\n",
    "    \n",
    "    while queue:\n",
    "        distance, position = queue.popleft()\n",
    "        for neighbor in tunnels[position]:\n",
    "            if neighbor in visited:\n",
    "                continue\n",
    "            visited.add(neighbor)\n",
    "            if valves[neighbor]:\n",
    "                dists[valve][neighbor] = distance + 1\n",
    "            queue.append((distance + 1, neighbor))\n",
    "\n",
    "    del dists[valve][valve]\n",
    "    if valve != \"AA\":\n",
    "        del dists[valve][\"AA\"]\n"
   ]
  },
  {
   "cell_type": "code",
   "execution_count": 10,
   "metadata": {},
   "outputs": [
    {
     "data": {
      "text/plain": [
       "{'AA': {'DD': 1, 'BB': 1, 'CC': 2, 'EE': 2, 'JJ': 2, 'HH': 5},\n",
       " 'BB': {'CC': 1, 'DD': 2, 'EE': 3, 'JJ': 3, 'HH': 6},\n",
       " 'CC': {'DD': 1, 'BB': 1, 'EE': 2, 'JJ': 4, 'HH': 5},\n",
       " 'DD': {'CC': 1, 'EE': 1, 'BB': 2, 'JJ': 3, 'HH': 4},\n",
       " 'EE': {'DD': 1, 'CC': 2, 'HH': 3, 'BB': 3, 'JJ': 4},\n",
       " 'FF': {'EE': 1, 'DD': 2, 'HH': 2, 'CC': 3, 'BB': 4, 'JJ': 5},\n",
       " 'GG': {'HH': 1, 'EE': 2, 'DD': 3, 'CC': 4, 'BB': 5, 'JJ': 6},\n",
       " 'HH': {'EE': 3, 'DD': 4, 'CC': 5, 'BB': 6, 'JJ': 7},\n",
       " 'II': {'JJ': 1, 'DD': 2, 'BB': 2, 'CC': 3, 'EE': 3, 'HH': 6},\n",
       " 'JJ': {'DD': 3, 'BB': 3, 'CC': 4, 'EE': 4, 'HH': 7}}"
      ]
     },
     "execution_count": 10,
     "metadata": {},
     "output_type": "execute_result"
    }
   ],
   "source": [
    "dists"
   ]
  },
  {
   "cell_type": "code",
   "execution_count": 11,
   "metadata": {},
   "outputs": [
    {
     "data": {
      "text/plain": [
       "['BB', 'CC', 'DD', 'EE', 'FF', 'GG', 'HH', 'II', 'JJ']"
      ]
     },
     "execution_count": 11,
     "metadata": {},
     "output_type": "execute_result"
    }
   ],
   "source": [
    "nonempty"
   ]
  },
  {
   "cell_type": "code",
   "execution_count": 12,
   "metadata": {},
   "outputs": [],
   "source": [
    "#Seetup indices to each of the nonzero valves\n",
    "indices = {}\n",
    "\n",
    "for index, element in enumerate(nonempty):\n",
    "    indices[element] = index"
   ]
  },
  {
   "cell_type": "code",
   "execution_count": 13,
   "metadata": {},
   "outputs": [
    {
     "data": {
      "text/plain": [
       "{'BB': 0,\n",
       " 'CC': 1,\n",
       " 'DD': 2,\n",
       " 'EE': 3,\n",
       " 'FF': 4,\n",
       " 'GG': 5,\n",
       " 'HH': 6,\n",
       " 'II': 7,\n",
       " 'JJ': 8}"
      ]
     },
     "execution_count": 13,
     "metadata": {},
     "output_type": "execute_result"
    }
   ],
   "source": [
    "indices"
   ]
  },
  {
   "cell_type": "code",
   "execution_count": 14,
   "metadata": {},
   "outputs": [],
   "source": [
    "cache = {}\n",
    "\n",
    "#dictionary of items (time,valve,bitmask):maxval"
   ]
  },
  {
   "cell_type": "code",
   "execution_count": 33,
   "metadata": {},
   "outputs": [],
   "source": [
    "cache = {}\n",
    "def dfs(time, valve, bitmask):\n",
    "    #Gets the maximim score starting from a given valve, timeleft and given opened gas valves\n",
    "\n",
    "    if (time, valve, bitmask) in cache:\n",
    "        #If already calculated, just use calculation\n",
    "        return cache[(time, valve, bitmask)]\n",
    "    \n",
    "    maxval = 0\n",
    "    for neighbor in dists[valve]: #Check all useful neighbours from the valve\n",
    "        bit = 1 << indices[neighbor] #Convert the neighbor to a binary\n",
    "\n",
    "        if bitmask & bit: \n",
    "            continue #check if valve has been opened? if yes, try another valve destination\n",
    "\n",
    "        remtime = time - dists[valve][neighbor] - 1 #remaining time after reaching new valve\n",
    "        if remtime <= 0:\n",
    "            continue #Check if remaining time is below zero. if yes try another neigbor\n",
    "        \n",
    "        #maxval = max(maxval, dfs(remtime, neighbor, bitmask | bit) + valves[neighbor] * remtime) #Split below\n",
    "        newdfs = dfs(remtime, neighbor, bitmask | bit)\n",
    "        totpress = newdfs + valves[neighbor] * remtime #Calculates the new total pressure at final if this is visited and opened\n",
    "        maxval = max(maxval, totpress)\n",
    "        \n",
    "    cache[(time, valve, bitmask)] = maxval\n",
    "    return maxval"
   ]
  },
  {
   "cell_type": "code",
   "execution_count": 34,
   "metadata": {},
   "outputs": [
    {
     "data": {
      "text/plain": [
       "1651"
      ]
     },
     "execution_count": 34,
     "metadata": {},
     "output_type": "execute_result"
    }
   ],
   "source": [
    "dfs(30,'AA',0)"
   ]
  },
  {
   "cell_type": "code",
   "execution_count": null,
   "metadata": {},
   "outputs": [],
   "source": []
  }
 ],
 "metadata": {
  "kernelspec": {
   "display_name": "dev",
   "language": "python",
   "name": "python3"
  },
  "language_info": {
   "codemirror_mode": {
    "name": "ipython",
    "version": 3
   },
   "file_extension": ".py",
   "mimetype": "text/x-python",
   "name": "python",
   "nbconvert_exporter": "python",
   "pygments_lexer": "ipython3",
   "version": "3.8.13 | packaged by conda-forge | (default, Mar 25 2022, 05:59:45) [MSC v.1929 64 bit (AMD64)]"
  },
  "orig_nbformat": 4,
  "vscode": {
   "interpreter": {
    "hash": "ae9318eca6f153166416f971f14e35a175773b3b30438ae2aa8538d9aa021541"
   }
  }
 },
 "nbformat": 4,
 "nbformat_minor": 2
}
