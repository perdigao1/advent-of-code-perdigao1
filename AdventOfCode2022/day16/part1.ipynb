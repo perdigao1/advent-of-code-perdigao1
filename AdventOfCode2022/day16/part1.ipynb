{
 "cells": [
  {
   "cell_type": "code",
   "execution_count": 1,
   "metadata": {},
   "outputs": [],
   "source": [
    "import numpy as np\n",
    "import matplotlib.pyplot as plt\n",
    "import networkx as ntx"
   ]
  },
  {
   "cell_type": "code",
   "execution_count": 2,
   "metadata": {},
   "outputs": [],
   "source": [
    "#file_input=\"input_test.txt\"\n",
    "file_input=\"input.txt\""
   ]
  },
  {
   "cell_type": "code",
   "execution_count": 3,
   "metadata": {},
   "outputs": [],
   "source": [
    "with open(file_input,'r') as f:\n",
    "    lines = f.readlines()"
   ]
  },
  {
   "cell_type": "code",
   "execution_count": 4,
   "metadata": {},
   "outputs": [
    {
     "data": {
      "text/plain": [
       "['Valve QE has flow rate=3; tunnels lead to valves OU, ME, UX, AX, TW\\n',\n",
       " 'Valve TN has flow rate=16; tunnels lead to valves UW, CG, WB\\n',\n",
       " 'Valve UX has flow rate=0; tunnels lead to valves AA, QE\\n',\n",
       " 'Valve HK has flow rate=5; tunnels lead to valves HT, QU, TW, WV, OK\\n',\n",
       " 'Valve SK has flow rate=14; tunnels lead to valves GH, GA, XM\\n',\n",
       " 'Valve HY has flow rate=0; tunnels lead to valves LG, AA\\n',\n",
       " 'Valve BK has flow rate=0; tunnels lead to valves SZ, AA\\n',\n",
       " 'Valve BY has flow rate=11; tunnels lead to valves SP, HS, DN, KD, TK\\n',\n",
       " 'Valve GR has flow rate=0; tunnels lead to valves FE, OK\\n',\n",
       " 'Valve OH has flow rate=0; tunnels lead to valves BM, KE\\n',\n",
       " 'Valve DC has flow rate=0; tunnels lead to valves AX, XH\\n',\n",
       " 'Valve YS has flow rate=0; tunnels lead to valves XH, EU\\n',\n",
       " 'Valve KP has flow rate=0; tunnels lead to valves KI, OF\\n',\n",
       " 'Valve LG has flow rate=0; tunnels lead to valves FE, HY\\n',\n",
       " 'Valve FE has flow rate=4; tunnels lead to valves RU, GR, YI, LG, ME\\n',\n",
       " 'Valve NK has flow rate=0; tunnels lead to valves SD, BM\\n',\n",
       " 'Valve EU has flow rate=0; tunnels lead to valves NS, YS\\n',\n",
       " 'Valve OF has flow rate=0; tunnels lead to valves CJ, KP\\n',\n",
       " 'Valve TW has flow rate=0; tunnels lead to valves HK, QE\\n',\n",
       " 'Valve GL has flow rate=0; tunnels lead to valves AF, CQ\\n',\n",
       " 'Valve OU has flow rate=0; tunnels lead to valves KN, QE\\n',\n",
       " 'Valve BM has flow rate=24; tunnels lead to valves GH, NK, YH, OH\\n',\n",
       " 'Valve GA has flow rate=0; tunnels lead to valves SK, SZ\\n',\n",
       " 'Valve EI has flow rate=17; tunnels lead to valves ZX, AF\\n',\n",
       " 'Valve QN has flow rate=25; tunnel leads to valve SD\\n',\n",
       " 'Valve ZX has flow rate=0; tunnels lead to valves EI, WB\\n',\n",
       " 'Valve ME has flow rate=0; tunnels lead to valves QE, FE\\n',\n",
       " 'Valve CJ has flow rate=21; tunnels lead to valves OF, YI, KD\\n',\n",
       " 'Valve AX has flow rate=0; tunnels lead to valves DC, QE\\n',\n",
       " 'Valve LW has flow rate=0; tunnels lead to valves AA, HT\\n',\n",
       " 'Valve CQ has flow rate=18; tunnels lead to valves GL, XM\\n',\n",
       " 'Valve KN has flow rate=0; tunnels lead to valves SZ, OU\\n',\n",
       " 'Valve HS has flow rate=0; tunnels lead to valves UZ, BY\\n',\n",
       " 'Valve RU has flow rate=0; tunnels lead to valves TK, FE\\n',\n",
       " 'Valve SZ has flow rate=6; tunnels lead to valves WV, GA, BK, KE, KN\\n',\n",
       " 'Valve AF has flow rate=0; tunnels lead to valves GL, EI\\n',\n",
       " 'Valve YI has flow rate=0; tunnels lead to valves FE, CJ\\n',\n",
       " 'Valve HT has flow rate=0; tunnels lead to valves LW, HK\\n',\n",
       " 'Valve WV has flow rate=0; tunnels lead to valves SZ, HK\\n',\n",
       " 'Valve TK has flow rate=0; tunnels lead to valves BY, RU\\n',\n",
       " 'Valve GH has flow rate=0; tunnels lead to valves BM, SK\\n',\n",
       " 'Valve CG has flow rate=0; tunnels lead to valves TN, SP\\n',\n",
       " 'Valve AA has flow rate=0; tunnels lead to valves HY, UX, VQ, LW, BK\\n',\n",
       " 'Valve SP has flow rate=0; tunnels lead to valves BY, CG\\n',\n",
       " 'Valve XM has flow rate=0; tunnels lead to valves SK, CQ\\n',\n",
       " 'Valve DN has flow rate=0; tunnels lead to valves NS, BY\\n',\n",
       " 'Valve XH has flow rate=22; tunnels lead to valves YS, QU, UZ, DC\\n',\n",
       " 'Valve KI has flow rate=20; tunnels lead to valves UW, KP\\n',\n",
       " 'Valve OK has flow rate=0; tunnels lead to valves HK, GR\\n',\n",
       " 'Valve YH has flow rate=0; tunnels lead to valves VQ, BM\\n',\n",
       " 'Valve UZ has flow rate=0; tunnels lead to valves XH, HS\\n',\n",
       " 'Valve KE has flow rate=0; tunnels lead to valves OH, SZ\\n',\n",
       " 'Valve VQ has flow rate=0; tunnels lead to valves AA, YH\\n',\n",
       " 'Valve QU has flow rate=0; tunnels lead to valves HK, XH\\n',\n",
       " 'Valve WB has flow rate=0; tunnels lead to valves TN, ZX\\n',\n",
       " 'Valve UW has flow rate=0; tunnels lead to valves KI, TN\\n',\n",
       " 'Valve SD has flow rate=0; tunnels lead to valves NK, QN\\n',\n",
       " 'Valve NS has flow rate=23; tunnels lead to valves EU, DN\\n',\n",
       " 'Valve KD has flow rate=0; tunnels lead to valves BY, CJ\\n']"
      ]
     },
     "execution_count": 4,
     "metadata": {},
     "output_type": "execute_result"
    }
   ],
   "source": [
    "lines"
   ]
  },
  {
   "attachments": {},
   "cell_type": "markdown",
   "metadata": {},
   "source": [
    "Try to parse string"
   ]
  },
  {
   "cell_type": "code",
   "execution_count": 5,
   "metadata": {},
   "outputs": [],
   "source": [
    "line0=lines[0].strip()"
   ]
  },
  {
   "cell_type": "code",
   "execution_count": 6,
   "metadata": {},
   "outputs": [
    {
     "data": {
      "text/plain": [
       "'Valve QE has flow rate=3; tunnels lead to valves OU, ME, UX, AX, TW'"
      ]
     },
     "execution_count": 6,
     "metadata": {},
     "output_type": "execute_result"
    }
   ],
   "source": [
    "line0"
   ]
  },
  {
   "cell_type": "code",
   "execution_count": 7,
   "metadata": {},
   "outputs": [
    {
     "data": {
      "text/plain": [
       "'QE'"
      ]
     },
     "execution_count": 7,
     "metadata": {},
     "output_type": "execute_result"
    }
   ],
   "source": [
    "valve_name = line0.lstrip('Valve ')[:2]\n",
    "valve_name "
   ]
  },
  {
   "cell_type": "code",
   "execution_count": 8,
   "metadata": {},
   "outputs": [
    {
     "data": {
      "text/plain": [
       "'3'"
      ]
     },
     "execution_count": 8,
     "metadata": {},
     "output_type": "execute_result"
    }
   ],
   "source": [
    "valve_flowr = line0.split(';')[0].split('=')[1]\n",
    "valve_flowr"
   ]
  },
  {
   "cell_type": "code",
   "execution_count": 9,
   "metadata": {},
   "outputs": [
    {
     "data": {
      "text/plain": [
       "26"
      ]
     },
     "execution_count": 9,
     "metadata": {},
     "output_type": "execute_result"
    }
   ],
   "source": [
    "i0 = line0.find(\"tunnels lead to valves\")\n",
    "i0"
   ]
  },
  {
   "cell_type": "code",
   "execution_count": 10,
   "metadata": {},
   "outputs": [
    {
     "data": {
      "text/plain": [
       "['OU', 'ME', 'UX', 'AX', 'TW']"
      ]
     },
     "execution_count": 10,
     "metadata": {},
     "output_type": "execute_result"
    }
   ],
   "source": [
    "dest_valves=None\n",
    "if i0>=0:\n",
    "    dest_valves_str=line0[i0+len(\"tunnels lead to valves\"):]\n",
    "    dest_valves= [s.strip(' ') for s in dest_valves_str.split(',')]\n",
    "\n",
    "dest_valves\n",
    "#OK"
   ]
  },
  {
   "attachments": {},
   "cell_type": "markdown",
   "metadata": {},
   "source": [
    "Create two containers\n",
    "1. valves and  flow rates list (to be sorted)\n",
    "2. valve destinations dictionary"
   ]
  },
  {
   "cell_type": "code",
   "execution_count": null,
   "metadata": {},
   "outputs": [],
   "source": []
  },
  {
   "cell_type": "code",
   "execution_count": 11,
   "metadata": {},
   "outputs": [],
   "source": [
    "valves_to_rate = []\n",
    "valves_to_rate_dict={}\n",
    "valves_to_dest = {}\n",
    "\n",
    "for line0 in lines:\n",
    "    valve_name = line0.lstrip('Valve ')[:2]\n",
    "    valve_flowr = int(line0.split(';')[0].split('=')[1])\n",
    "    valves_to_rate.append( [ valve_name, valve_flowr])\n",
    "    valves_to_rate_dict[valve_name]=valve_flowr\n",
    "\n",
    "    dest_valves=None\n",
    "    s=\"tunnels lead to valves\"\n",
    "    i0 = line0.find(s)\n",
    "    if i0<0:\n",
    "        s= \"tunnel leads to valve\"\n",
    "        i0=line0.find(s)\n",
    "    \n",
    "    if i0>=0:\n",
    "        dest_valves_str=line0[i0+len(s):]\n",
    "        dest_valves= [s.strip(' ').strip('\\n') for s in dest_valves_str.split(',')]\n",
    "\n",
    "        valves_to_dest[valve_name] = dest_valves\n"
   ]
  },
  {
   "cell_type": "code",
   "execution_count": 12,
   "metadata": {},
   "outputs": [
    {
     "data": {
      "text/plain": [
       "[['QE', 3],\n",
       " ['TN', 16],\n",
       " ['UX', 0],\n",
       " ['HK', 5],\n",
       " ['SK', 14],\n",
       " ['HY', 0],\n",
       " ['BK', 0],\n",
       " ['BY', 11],\n",
       " ['GR', 0],\n",
       " ['OH', 0],\n",
       " ['DC', 0],\n",
       " ['YS', 0],\n",
       " ['KP', 0],\n",
       " ['LG', 0],\n",
       " ['FE', 4],\n",
       " ['NK', 0],\n",
       " ['EU', 0],\n",
       " ['OF', 0],\n",
       " ['TW', 0],\n",
       " ['GL', 0],\n",
       " ['OU', 0],\n",
       " ['BM', 24],\n",
       " ['GA', 0],\n",
       " ['EI', 17],\n",
       " ['QN', 25],\n",
       " ['ZX', 0],\n",
       " ['ME', 0],\n",
       " ['CJ', 21],\n",
       " ['AX', 0],\n",
       " ['LW', 0],\n",
       " ['CQ', 18],\n",
       " ['KN', 0],\n",
       " ['HS', 0],\n",
       " ['RU', 0],\n",
       " ['SZ', 6],\n",
       " ['AF', 0],\n",
       " ['YI', 0],\n",
       " ['HT', 0],\n",
       " ['WV', 0],\n",
       " ['TK', 0],\n",
       " ['GH', 0],\n",
       " ['CG', 0],\n",
       " ['AA', 0],\n",
       " ['SP', 0],\n",
       " ['XM', 0],\n",
       " ['DN', 0],\n",
       " ['XH', 22],\n",
       " ['KI', 20],\n",
       " ['OK', 0],\n",
       " ['YH', 0],\n",
       " ['UZ', 0],\n",
       " ['KE', 0],\n",
       " ['Q ', 0],\n",
       " ['QU', 0],\n",
       " ['WB', 0],\n",
       " ['UW', 0],\n",
       " ['SD', 0],\n",
       " ['NS', 23],\n",
       " ['KD', 0]]"
      ]
     },
     "execution_count": 12,
     "metadata": {},
     "output_type": "execute_result"
    }
   ],
   "source": [
    "valves_to_rate"
   ]
  },
  {
   "cell_type": "code",
   "execution_count": 13,
   "metadata": {},
   "outputs": [
    {
     "data": {
      "text/plain": [
       "{'QE': 3,\n",
       " 'TN': 16,\n",
       " 'UX': 0,\n",
       " 'HK': 5,\n",
       " 'SK': 14,\n",
       " 'HY': 0,\n",
       " 'BK': 0,\n",
       " 'BY': 11,\n",
       " 'GR': 0,\n",
       " 'OH': 0,\n",
       " 'DC': 0,\n",
       " 'YS': 0,\n",
       " 'KP': 0,\n",
       " 'LG': 0,\n",
       " 'FE': 4,\n",
       " 'NK': 0,\n",
       " 'EU': 0,\n",
       " 'OF': 0,\n",
       " 'TW': 0,\n",
       " 'GL': 0,\n",
       " 'OU': 0,\n",
       " 'BM': 24,\n",
       " 'GA': 0,\n",
       " 'EI': 17,\n",
       " 'QN': 25,\n",
       " 'ZX': 0,\n",
       " 'ME': 0,\n",
       " 'CJ': 21,\n",
       " 'AX': 0,\n",
       " 'LW': 0,\n",
       " 'CQ': 18,\n",
       " 'KN': 0,\n",
       " 'HS': 0,\n",
       " 'RU': 0,\n",
       " 'SZ': 6,\n",
       " 'AF': 0,\n",
       " 'YI': 0,\n",
       " 'HT': 0,\n",
       " 'WV': 0,\n",
       " 'TK': 0,\n",
       " 'GH': 0,\n",
       " 'CG': 0,\n",
       " 'AA': 0,\n",
       " 'SP': 0,\n",
       " 'XM': 0,\n",
       " 'DN': 0,\n",
       " 'XH': 22,\n",
       " 'KI': 20,\n",
       " 'OK': 0,\n",
       " 'YH': 0,\n",
       " 'UZ': 0,\n",
       " 'KE': 0,\n",
       " 'Q ': 0,\n",
       " 'QU': 0,\n",
       " 'WB': 0,\n",
       " 'UW': 0,\n",
       " 'SD': 0,\n",
       " 'NS': 23,\n",
       " 'KD': 0}"
      ]
     },
     "execution_count": 13,
     "metadata": {},
     "output_type": "execute_result"
    }
   ],
   "source": [
    "valves_to_rate_dict"
   ]
  },
  {
   "cell_type": "code",
   "execution_count": 14,
   "metadata": {},
   "outputs": [
    {
     "data": {
      "text/plain": [
       "{'QE': ['OU', 'ME', 'UX', 'AX', 'TW'],\n",
       " 'TN': ['UW', 'CG', 'WB'],\n",
       " 'UX': ['AA', 'QE'],\n",
       " 'HK': ['HT', 'QU', 'TW', 'WV', 'OK'],\n",
       " 'SK': ['GH', 'GA', 'XM'],\n",
       " 'HY': ['LG', 'AA'],\n",
       " 'BK': ['SZ', 'AA'],\n",
       " 'BY': ['SP', 'HS', 'DN', 'KD', 'TK'],\n",
       " 'GR': ['FE', 'OK'],\n",
       " 'OH': ['BM', 'KE'],\n",
       " 'DC': ['AX', 'XH'],\n",
       " 'YS': ['XH', 'EU'],\n",
       " 'KP': ['KI', 'OF'],\n",
       " 'LG': ['FE', 'HY'],\n",
       " 'FE': ['RU', 'GR', 'YI', 'LG', 'ME'],\n",
       " 'NK': ['SD', 'BM'],\n",
       " 'EU': ['NS', 'YS'],\n",
       " 'OF': ['CJ', 'KP'],\n",
       " 'TW': ['HK', 'QE'],\n",
       " 'GL': ['AF', 'CQ'],\n",
       " 'OU': ['KN', 'QE'],\n",
       " 'BM': ['GH', 'NK', 'YH', 'OH'],\n",
       " 'GA': ['SK', 'SZ'],\n",
       " 'EI': ['ZX', 'AF'],\n",
       " 'QN': ['SD'],\n",
       " 'ZX': ['EI', 'WB'],\n",
       " 'ME': ['QE', 'FE'],\n",
       " 'CJ': ['OF', 'YI', 'KD'],\n",
       " 'AX': ['DC', 'QE'],\n",
       " 'LW': ['AA', 'HT'],\n",
       " 'CQ': ['GL', 'XM'],\n",
       " 'KN': ['SZ', 'OU'],\n",
       " 'HS': ['UZ', 'BY'],\n",
       " 'RU': ['TK', 'FE'],\n",
       " 'SZ': ['WV', 'GA', 'BK', 'KE', 'KN'],\n",
       " 'AF': ['GL', 'EI'],\n",
       " 'YI': ['FE', 'CJ'],\n",
       " 'HT': ['LW', 'HK'],\n",
       " 'WV': ['SZ', 'HK'],\n",
       " 'TK': ['BY', 'RU'],\n",
       " 'GH': ['BM', 'SK'],\n",
       " 'CG': ['TN', 'SP'],\n",
       " 'AA': ['HY', 'UX', 'VQ', 'LW', 'BK'],\n",
       " 'SP': ['BY', 'CG'],\n",
       " 'XM': ['SK', 'CQ'],\n",
       " 'DN': ['NS', 'BY'],\n",
       " 'XH': ['YS', 'QU', 'UZ', 'DC'],\n",
       " 'KI': ['UW', 'KP'],\n",
       " 'OK': ['HK', 'GR'],\n",
       " 'YH': ['VQ', 'BM'],\n",
       " 'UZ': ['XH', 'HS'],\n",
       " 'KE': ['OH', 'SZ'],\n",
       " 'Q ': ['AA', 'YH'],\n",
       " 'QU': ['HK', 'XH'],\n",
       " 'WB': ['TN', 'ZX'],\n",
       " 'UW': ['KI', 'TN'],\n",
       " 'SD': ['NK', 'QN'],\n",
       " 'NS': ['EU', 'DN'],\n",
       " 'KD': ['BY', 'CJ']}"
      ]
     },
     "execution_count": 14,
     "metadata": {},
     "output_type": "execute_result"
    }
   ],
   "source": [
    "valves_to_dest"
   ]
  },
  {
   "attachments": {},
   "cell_type": "markdown",
   "metadata": {},
   "source": [
    "Create a graph from valves_to_dest"
   ]
  },
  {
   "cell_type": "code",
   "execution_count": 15,
   "metadata": {},
   "outputs": [],
   "source": [
    "G = ntx.Graph()\n",
    "\n",
    "for k0 in valves_to_dest.keys():\n",
    "    G.add_node(k0)\n",
    "\n",
    "for key, value in valves_to_dest.items():\n",
    "    for v0 in value:\n",
    "        G.add_edge(key,v0)"
   ]
  },
  {
   "attachments": {},
   "cell_type": "markdown",
   "metadata": {},
   "source": [
    "View graph"
   ]
  },
  {
   "cell_type": "code",
   "execution_count": 16,
   "metadata": {},
   "outputs": [
    {
     "data": {
      "image/png": "[encoded data removed]",
      "text/plain": [
       "<Figure size 640x480 with 1 Axes>"
      ]
     },
     "metadata": {},
     "output_type": "display_data"
    }
   ],
   "source": [
    "ntx.draw(G, with_labels=True)"
   ]
  },
  {
   "cell_type": "code",
   "execution_count": 17,
   "metadata": {},
   "outputs": [
    {
     "ename": "NodeNotFound",
     "evalue": "Either source AA or target DD is not in G",
     "output_type": "error",
     "traceback": [
      "\u001b[1;31m---------------------------------------------------------------------------\u001b[0m",
      "\u001b[1;31mNodeNotFound\u001b[0m                              Traceback (most recent call last)",
      "Cell \u001b[1;32mIn[17], line 2\u001b[0m\n\u001b[0;32m      1\u001b[0m \u001b[39m#Test shortest path\u001b[39;00m\n\u001b[1;32m----> 2\u001b[0m \u001b[39mprint\u001b[39m(ntx\u001b[39m.\u001b[39;49mshortest_path(G,\u001b[39m'\u001b[39;49m\u001b[39mAA\u001b[39;49m\u001b[39m'\u001b[39;49m,\u001b[39m'\u001b[39;49m\u001b[39mDD\u001b[39;49m\u001b[39m'\u001b[39;49m))\n\u001b[0;32m      3\u001b[0m \u001b[39mprint\u001b[39m(ntx\u001b[39m.\u001b[39mshortest_path(G,\u001b[39m'\u001b[39m\u001b[39mAA\u001b[39m\u001b[39m'\u001b[39m, \u001b[39m'\u001b[39m\u001b[39mHH\u001b[39m\u001b[39m'\u001b[39m))\n",
      "File \u001b[1;32mc:\\Users\\Luis-work\\miniconda3\\envs\\dev\\lib\\site-packages\\networkx\\algorithms\\shortest_paths\\generic.py:165\u001b[0m, in \u001b[0;36mshortest_path\u001b[1;34m(G, source, target, weight, method)\u001b[0m\n\u001b[0;32m    162\u001b[0m \u001b[39melse\u001b[39;00m:\n\u001b[0;32m    163\u001b[0m     \u001b[39m# Find shortest source-target path.\u001b[39;00m\n\u001b[0;32m    164\u001b[0m     \u001b[39mif\u001b[39;00m method \u001b[39m==\u001b[39m \u001b[39m\"\u001b[39m\u001b[39munweighted\u001b[39m\u001b[39m\"\u001b[39m:\n\u001b[1;32m--> 165\u001b[0m         paths \u001b[39m=\u001b[39m nx\u001b[39m.\u001b[39;49mbidirectional_shortest_path(G, source, target)\n\u001b[0;32m    166\u001b[0m     \u001b[39melif\u001b[39;00m method \u001b[39m==\u001b[39m \u001b[39m\"\u001b[39m\u001b[39mdijkstra\u001b[39m\u001b[39m\"\u001b[39m:\n\u001b[0;32m    167\u001b[0m         _, paths \u001b[39m=\u001b[39m nx\u001b[39m.\u001b[39mbidirectional_dijkstra(G, source, target, weight)\n",
      "File \u001b[1;32mc:\\Users\\Luis-work\\miniconda3\\envs\\dev\\lib\\site-packages\\networkx\\algorithms\\shortest_paths\\unweighted.py:221\u001b[0m, in \u001b[0;36mbidirectional_shortest_path\u001b[1;34m(G, source, target)\u001b[0m\n\u001b[0;32m    219\u001b[0m \u001b[39mif\u001b[39;00m source \u001b[39mnot\u001b[39;00m \u001b[39min\u001b[39;00m G \u001b[39mor\u001b[39;00m target \u001b[39mnot\u001b[39;00m \u001b[39min\u001b[39;00m G:\n\u001b[0;32m    220\u001b[0m     msg \u001b[39m=\u001b[39m \u001b[39mf\u001b[39m\u001b[39m\"\u001b[39m\u001b[39mEither source \u001b[39m\u001b[39m{\u001b[39;00msource\u001b[39m}\u001b[39;00m\u001b[39m or target \u001b[39m\u001b[39m{\u001b[39;00mtarget\u001b[39m}\u001b[39;00m\u001b[39m is not in G\u001b[39m\u001b[39m\"\u001b[39m\n\u001b[1;32m--> 221\u001b[0m     \u001b[39mraise\u001b[39;00m nx\u001b[39m.\u001b[39mNodeNotFound(msg)\n\u001b[0;32m    223\u001b[0m \u001b[39m# call helper to do the real work\u001b[39;00m\n\u001b[0;32m    224\u001b[0m results \u001b[39m=\u001b[39m _bidirectional_pred_succ(G, source, target)\n",
      "\u001b[1;31mNodeNotFound\u001b[0m: Either source AA or target DD is not in G"
     ]
    }
   ],
   "source": [
    "#Test shortest path\n",
    "print(ntx.shortest_path(G,'AA','DD'))\n",
    "print(ntx.shortest_path(G,'AA', 'HH'))"
   ]
  },
  {
   "attachments": {},
   "cell_type": "markdown",
   "metadata": {},
   "source": [
    "These lists will be useful later"
   ]
  },
  {
   "cell_type": "code",
   "execution_count": 18,
   "metadata": {},
   "outputs": [
    {
     "data": {
      "text/plain": [
       "[['QN', 25],\n",
       " ['BM', 24],\n",
       " ['NS', 23],\n",
       " ['XH', 22],\n",
       " ['CJ', 21],\n",
       " ['KI', 20],\n",
       " ['CQ', 18],\n",
       " ['EI', 17],\n",
       " ['TN', 16],\n",
       " ['SK', 14],\n",
       " ['BY', 11],\n",
       " ['SZ', 6],\n",
       " ['HK', 5],\n",
       " ['FE', 4],\n",
       " ['QE', 3],\n",
       " ['UX', 0],\n",
       " ['HY', 0],\n",
       " ['BK', 0],\n",
       " ['GR', 0],\n",
       " ['OH', 0],\n",
       " ['DC', 0],\n",
       " ['YS', 0],\n",
       " ['KP', 0],\n",
       " ['LG', 0],\n",
       " ['NK', 0],\n",
       " ['EU', 0],\n",
       " ['OF', 0],\n",
       " ['TW', 0],\n",
       " ['GL', 0],\n",
       " ['OU', 0],\n",
       " ['GA', 0],\n",
       " ['ZX', 0],\n",
       " ['ME', 0],\n",
       " ['AX', 0],\n",
       " ['LW', 0],\n",
       " ['KN', 0],\n",
       " ['HS', 0],\n",
       " ['RU', 0],\n",
       " ['AF', 0],\n",
       " ['YI', 0],\n",
       " ['HT', 0],\n",
       " ['WV', 0],\n",
       " ['TK', 0],\n",
       " ['GH', 0],\n",
       " ['CG', 0],\n",
       " ['AA', 0],\n",
       " ['SP', 0],\n",
       " ['XM', 0],\n",
       " ['DN', 0],\n",
       " ['OK', 0],\n",
       " ['YH', 0],\n",
       " ['UZ', 0],\n",
       " ['KE', 0],\n",
       " ['Q ', 0],\n",
       " ['QU', 0],\n",
       " ['WB', 0],\n",
       " ['UW', 0],\n",
       " ['SD', 0],\n",
       " ['KD', 0]]"
      ]
     },
     "execution_count": 18,
     "metadata": {},
     "output_type": "execute_result"
    }
   ],
   "source": [
    "closed_valves_sorted = valves_to_rate.copy()\n",
    "#Sorted by rel value\n",
    "closed_valves_sorted = sorted(closed_valves_sorted,key=lambda x: x[1], reverse=True)\n",
    "closed_valves_sorted"
   ]
  },
  {
   "cell_type": "code",
   "execution_count": 19,
   "metadata": {},
   "outputs": [
    {
     "name": "stdout",
     "output_type": "stream",
     "text": [
      "[['QN', 25], ['BM', 24], ['NS', 23], ['XH', 22], ['CJ', 21], ['KI', 20], ['CQ', 18], ['EI', 17], ['TN', 16], ['SK', 14], ['BY', 11], ['SZ', 6], ['HK', 5], ['FE', 4], ['QE', 3]]\n",
      "\n",
      "[['UX', 0], ['HY', 0], ['BK', 0], ['GR', 0], ['OH', 0], ['DC', 0], ['YS', 0], ['KP', 0], ['LG', 0], ['NK', 0], ['EU', 0], ['OF', 0], ['TW', 0], ['GL', 0], ['OU', 0], ['GA', 0], ['ZX', 0], ['ME', 0], ['AX', 0], ['LW', 0], ['KN', 0], ['HS', 0], ['RU', 0], ['AF', 0], ['YI', 0], ['HT', 0], ['WV', 0], ['TK', 0], ['GH', 0], ['CG', 0], ['AA', 0], ['SP', 0], ['XM', 0], ['DN', 0], ['OK', 0], ['YH', 0], ['UZ', 0], ['KE', 0], ['Q ', 0], ['QU', 0], ['WB', 0], ['UW', 0], ['SD', 0], ['KD', 0]]\n"
     ]
    }
   ],
   "source": [
    "#Create a sorted list where valves with zero have been removed\n",
    "closed_valves_to_open = closed_valves_sorted.copy()\n",
    "for it in closed_valves_sorted:\n",
    "    if it[1]==0:\n",
    "        closed_valves_to_open.remove(it)\n",
    "\n",
    "#Create a list of valves not to try open\n",
    "closed_valves_keep_closed = []\n",
    "for v0 in closed_valves_sorted:\n",
    "    if v0[1]==0:\n",
    "        closed_valves_keep_closed.append(v0)\n",
    "\n",
    "print(closed_valves_to_open)\n",
    "print()\n",
    "print(closed_valves_keep_closed)"
   ]
  },
  {
   "cell_type": "code",
   "execution_count": null,
   "metadata": {},
   "outputs": [],
   "source": []
  },
  {
   "attachments": {},
   "cell_type": "markdown",
   "metadata": {},
   "source": [
    "# Testing algorithm (optional)"
   ]
  },
  {
   "attachments": {},
   "cell_type": "markdown",
   "metadata": {},
   "source": [
    "TODO: create algorithm to find optimal circuit for max score in 30 days"
   ]
  },
  {
   "cell_type": "code",
   "execution_count": 20,
   "metadata": {},
   "outputs": [],
   "source": [
    "current_loc = 'AA'\n",
    "nminutes = 0\n",
    "\n",
    "#press_rel_total=0 #use score instead\n",
    "\n",
    "open_valves_add = 0"
   ]
  },
  {
   "cell_type": "code",
   "execution_count": 21,
   "metadata": {},
   "outputs": [],
   "source": [
    "scoremax=0\n",
    "press_rel_total=0"
   ]
  },
  {
   "cell_type": "code",
   "execution_count": 22,
   "metadata": {},
   "outputs": [],
   "source": [
    "#Test going to first destination\n",
    "newdest_item = closed_valves_sorted[0]\n",
    "newdest_str = newdest_item[0]"
   ]
  },
  {
   "cell_type": "code",
   "execution_count": 23,
   "metadata": {},
   "outputs": [
    {
     "data": {
      "text/plain": [
       "6"
      ]
     },
     "execution_count": 23,
     "metadata": {},
     "output_type": "execute_result"
    }
   ],
   "source": [
    "#How far is it?\n",
    "paths = ntx.shortest_path(G,current_loc, closed_valves_sorted[0][0])\n",
    "dist = len(paths)\n",
    "dist"
   ]
  },
  {
   "cell_type": "code",
   "execution_count": 24,
   "metadata": {},
   "outputs": [
    {
     "name": "stdout",
     "output_type": "stream",
     "text": [
      "6\n",
      "0\n"
     ]
    }
   ],
   "source": [
    "#Move to new destination ignoring valves on the way\n",
    "nminutes+=dist #each edge takes one minute\n",
    "press_rel_total+= dist*open_valves_add #Opened valves keep releasing\n",
    "\n",
    "print(nminutes)\n",
    "print(press_rel_total)"
   ]
  },
  {
   "cell_type": "code",
   "execution_count": 26,
   "metadata": {},
   "outputs": [],
   "source": [
    "#Open the valve\n",
    "# The process here is to create a new list of closed valves with this valve removed\n",
    "closed_valves_new = closed_valves_sorted.copy()\n",
    "closed_valves_new.remove(newdest_item)"
   ]
  },
  {
   "cell_type": "code",
   "execution_count": 27,
   "metadata": {},
   "outputs": [
    {
     "data": {
      "text/plain": [
       "[['JJ', 21],\n",
       " ['DD', 20],\n",
       " ['BB', 13],\n",
       " ['EE', 3],\n",
       " ['CC', 2],\n",
       " ['AA', 0],\n",
       " ['FF', 0],\n",
       " ['GG', 0],\n",
       " ['II', 0]]"
      ]
     },
     "execution_count": 27,
     "metadata": {},
     "output_type": "execute_result"
    }
   ],
   "source": [
    "closed_valves_new"
   ]
  },
  {
   "cell_type": "code",
   "execution_count": 28,
   "metadata": {},
   "outputs": [],
   "source": [
    "#update the pressure being released and minutes\n",
    "#Don't update score yet\n",
    "nminutes+=1\n",
    "press_rel_total+= newdest_item[1]\n"
   ]
  },
  {
   "cell_type": "code",
   "execution_count": 29,
   "metadata": {},
   "outputs": [
    {
     "data": {
      "text/plain": [
       "7"
      ]
     },
     "execution_count": 29,
     "metadata": {},
     "output_type": "execute_result"
    }
   ],
   "source": [
    "#check nminutes is not over 30\n",
    "nminutes"
   ]
  },
  {
   "cell_type": "code",
   "execution_count": 30,
   "metadata": {},
   "outputs": [],
   "source": [
    "#If below 30 check if score is over the current score maximum (global)\n",
    "# and continue with the new list\n"
   ]
  },
  {
   "attachments": {},
   "cell_type": "markdown",
   "metadata": {},
   "source": [
    "# Search algorithm (not working)"
   ]
  },
  {
   "attachments": {},
   "cell_type": "markdown",
   "metadata": {},
   "source": [
    "TODO: Run this algorithm recursively\n",
    "\n",
    "Create a function that accepts currentlocation, closedvalvelist , nminutes, current score (press_rel_total)\n",
    "\n",
    "All other variables are global"
   ]
  },
  {
   "cell_type": "code",
   "execution_count": 18,
   "metadata": {},
   "outputs": [],
   "source": [
    "# This algorithm takes long, produces too much text and is giving wrong results\n",
    "def decideFromCurLoc(cur_loc0, closed_valves0, nminutes0, press_rel_per_min0, press_rel_total0,route0):\n",
    "    print(f\"Minutes {nminutes0}, Current location {cur_loc0}\")\n",
    "    print(f\"Closed valves to explore: {closed_valves0}\")\n",
    "    \n",
    "    global scoremax\n",
    "    \n",
    "    route1=route0.copy()\n",
    "\n",
    "    if nminutes0>=30:\n",
    "        print(\"Reached maximum 30 minutes.\")\n",
    "        scoremax=max(scoremax,press_rel_total0)\n",
    "        print(f\"Route taken was {route1}\")\n",
    "        print(f\"Pressure released in this route was: {press_rel_total0}, current max in {scoremax}\")\n",
    "\n",
    "        return\n",
    "\n",
    "    for newdest_item in closed_valves0:\n",
    "        press_rel_total1=press_rel_total0\n",
    "        press_rel_per_min1=press_rel_per_min0\n",
    "\n",
    "        newdest_str = newdest_item[0]\n",
    "\n",
    "        #How far is it?\n",
    "        paths = ntx.shortest_path(G,cur_loc0, newdest_str)\n",
    "        dist = len(paths)\n",
    "\n",
    "        print(f\"Minutes {nminutes0}. Moving from {cur_loc0} to {newdest_str}, path {paths}, takes {dist} mins\")\n",
    "\n",
    "        nminutes1 = nminutes0\n",
    "        if dist+nminutes1>30: #not sure if i should use 31\n",
    "            nminutes1=30\n",
    "            press_rel_total1+=(30-nminutes1)*press_rel_per_min1\n",
    "            \n",
    "            print(f\"Reached 30mins. Score {press_rel_total1}\")\n",
    "            #break #don't try to open more valves, and exit\n",
    "        else:\n",
    "            nminutes1+=dist #each edge takes one minute\n",
    "            press_rel_total1+= dist*press_rel_per_min1 #Opened valves keep releasing\n",
    "\n",
    "            route1.append(newdest_str)\n",
    "            \n",
    "        if nminutes1<30:\n",
    "            #open the valve at new location\n",
    "            closed_valves_new = closed_valves0.copy()\n",
    "            closed_valves_new.remove(newdest_item)\n",
    "            press_rel_per_min1+= newdest_item[1]\n",
    "            nminutes1+=1\n",
    "\n",
    "            print(f\"Minutes {nminutes1}, Opened valve {newdest_str}, adding release by {newdest_item[1]} to pressure-release-per-minute = {press_rel_per_min1}\")\n",
    "            \n",
    "            #recursion in this location\n",
    "            decideFromCurLoc(newdest_str, closed_valves_new, nminutes1, press_rel_per_min1, press_rel_total1, route1)\n",
    "        else:\n",
    "            print(f\"Reached 30mins. Score {press_rel_total1}\")\n",
    "    "
   ]
  },
  {
   "cell_type": "code",
   "execution_count": 24,
   "metadata": {},
   "outputs": [],
   "source": [
    "def decideFromCurLoc_nodebug(cur_loc0, closed_valves0, nminutes0, press_rel_per_min0, press_rel_total0,route0):\n",
    "    #print(f\"Minutes {nminutes0}, Current location {cur_loc0}\")\n",
    "    #print(f\"Closed valves to explore: {closed_valves0}\")\n",
    "    \n",
    "    global scoremax\n",
    "    \n",
    "    route1=route0.copy()\n",
    "\n",
    "    if nminutes0>=30:\n",
    "        #print(\"Reached maximum 30 minutes.\")\n",
    "        scoremax=max(scoremax,press_rel_total0)\n",
    "        #print(f\"Route taken was {route1}\")\n",
    "        #print(f\"Pressure released in this route was: {press_rel_total0}, current max in {scoremax}\")\n",
    "\n",
    "        return\n",
    "\n",
    "    for newdest_item in closed_valves0:\n",
    "        press_rel_total1=press_rel_total0\n",
    "        press_rel_per_min1=press_rel_per_min0\n",
    "\n",
    "        newdest_str = newdest_item[0]\n",
    "\n",
    "        #How far is it?\n",
    "        paths = ntx.shortest_path(G,cur_loc0, newdest_str)\n",
    "        dist = len(paths)\n",
    "\n",
    "        #print(f\"Minutes {nminutes0}. Moving from {cur_loc0} to {newdest_str}, path {paths}, takes {dist} mins\")\n",
    "\n",
    "        nminutes1 = nminutes0\n",
    "        if dist+nminutes1>30: #not sure if i should use 31\n",
    "            nminutes1=30\n",
    "            press_rel_total1+=(30-nminutes1)*press_rel_per_min1\n",
    "            \n",
    "            #print(f\"Reached 30mins. Score {press_rel_total1}\")\n",
    "            #break #don't try to open more valves, and exit\n",
    "        else:\n",
    "            nminutes1+=dist #each edge takes one minute\n",
    "            press_rel_total1+= dist*press_rel_per_min1 #Opened valves keep releasing\n",
    "\n",
    "            route1.append(newdest_str)\n",
    "            \n",
    "        if nminutes1<30:\n",
    "            #open the valve at new location\n",
    "            closed_valves_new = closed_valves0.copy()\n",
    "            closed_valves_new.remove(newdest_item)\n",
    "            press_rel_per_min1+= newdest_item[1]\n",
    "            nminutes1+=1\n",
    "\n",
    "            #print(f\"Minutes {nminutes1}, Opened valve {newdest_str}, adding release by {newdest_item[1]} to pressure-release-per-minute = {press_rel_per_min1}\")\n",
    "            \n",
    "            #recursion in this location\n",
    "            decideFromCurLoc_nodebug(newdest_str, closed_valves_new, nminutes1, press_rel_per_min1, press_rel_total1, route1)\n",
    "        else:\n",
    "            #print(f\"Reached 30mins. Score {press_rel_total1}\")\n",
    "            pass\n",
    "    "
   ]
  },
  {
   "attachments": {},
   "cell_type": "markdown",
   "metadata": {},
   "source": [
    "Try to execute"
   ]
  },
  {
   "cell_type": "code",
   "execution_count": 21,
   "metadata": {},
   "outputs": [
    {
     "data": {
      "text/plain": [
       "[['DD', 20],\n",
       " ['BB', 13],\n",
       " ['JJ', 21],\n",
       " ['HH', 22],\n",
       " ['EE', 3],\n",
       " ['CC', 2],\n",
       " ['AA', 0],\n",
       " ['FF', 0],\n",
       " ['GG', 0],\n",
       " ['II', 0]]"
      ]
     },
     "execution_count": 21,
     "metadata": {},
     "output_type": "execute_result"
    }
   ],
   "source": [
    "#Test using the example in the question\n",
    "route_test = ['DD', 'BB', 'JJ', 'HH', 'EE', 'CC', 'AA','FF','GG', 'II']\n",
    "closed_valves_test=[]\n",
    "for r0 in route_test:\n",
    "    closed_valves_test.append([r0, valves_to_rate_dict[r0]])\n",
    "closed_valves_test"
   ]
  },
  {
   "cell_type": "code",
   "execution_count": 22,
   "metadata": {},
   "outputs": [
    {
     "data": {
      "text/plain": [
       "10"
      ]
     },
     "execution_count": 22,
     "metadata": {},
     "output_type": "execute_result"
    }
   ],
   "source": [
    "len(closed_valves_test)"
   ]
  },
  {
   "cell_type": "code",
   "execution_count": 25,
   "metadata": {},
   "outputs": [],
   "source": [
    "scoremax=0\n",
    "#decideFromCurLoc('AA',closed_valves_test,nminutes0=0, press_rel_per_min0=0, press_rel_total0=0, route0=['AA'])\n",
    "decideFromCurLoc_nodebug('AA',closed_valves_test,nminutes0=0, press_rel_per_min0=0, press_rel_total0=0, route0=['AA'])"
   ]
  },
  {
   "cell_type": "code",
   "execution_count": 26,
   "metadata": {},
   "outputs": [
    {
     "data": {
      "text/plain": [
       "1186"
      ]
     },
     "execution_count": 26,
     "metadata": {},
     "output_type": "execute_result"
    }
   ],
   "source": [
    "scoremax"
   ]
  },
  {
   "cell_type": "code",
   "execution_count": null,
   "metadata": {},
   "outputs": [],
   "source": []
  },
  {
   "cell_type": "code",
   "execution_count": null,
   "metadata": {},
   "outputs": [],
   "source": [
    "#Create a sorted list where valves with zero have been removed\n",
    "closed_valves_to_open = closed_valves.copy()\n",
    "for it in closed_valves:\n",
    "    if it[1]==0:\n",
    "        closed_valves_to_open.remove(it)"
   ]
  },
  {
   "cell_type": "code",
   "execution_count": null,
   "metadata": {},
   "outputs": [],
   "source": [
    "closed_valves_to_open"
   ]
  },
  {
   "cell_type": "code",
   "execution_count": null,
   "metadata": {},
   "outputs": [],
   "source": [
    "scoremax=0\n",
    "#decideFromCurLoc('AA',closed_valves_to_open,nminutes0=0, press_rel_per_min0=0, press_rel_total0=0, route0=['AA'])\n",
    "decideFromCurLoc('AA',closed_valves_to_open,nminutes0=0, press_rel_per_min0=0, press_rel_total0=0, route0=['AA'])"
   ]
  },
  {
   "cell_type": "code",
   "execution_count": null,
   "metadata": {},
   "outputs": [],
   "source": [
    "scoremax"
   ]
  },
  {
   "cell_type": "code",
   "execution_count": null,
   "metadata": {},
   "outputs": [],
   "source": []
  },
  {
   "attachments": {},
   "cell_type": "markdown",
   "metadata": {},
   "source": [
    "# Algorithm using permutations\n",
    "\n",
    "First need to create a function that, given a suggested route, calculates the score"
   ]
  },
  {
   "cell_type": "code",
   "execution_count": 51,
   "metadata": {},
   "outputs": [],
   "source": [
    "def calcScoreForRoute(route):\n",
    "    #Format ['AA', 'BB', 'CC',...]\n",
    "    #start at 'AA'\n",
    "    loc0 = 'AA'\n",
    "\n",
    "    nminutes = 1\n",
    "    press_rel_per_min = 0\n",
    "    press_rel_total=0\n",
    "    route_followed=['AA'] #Starts at 'AA'\n",
    "\n",
    "    for iloc1, loc1 in enumerate(route):\n",
    "        \n",
    "        print(f\"Minute {nminutes}. Move from {loc0} to {loc1}\")\n",
    "\n",
    "        paths = ntx.shortest_path(G,loc0, loc1)\n",
    "        dist = len(paths)-1\n",
    "        \n",
    "        nmoves=dist\n",
    "        if dist+nminutes>30:\n",
    "            print(\"Cannot go that far.\")\n",
    "            nmoves = 30-nminutes+1\n",
    "\n",
    "        nminutes+=nmoves\n",
    "\n",
    "        press_rel_total+=nmoves*press_rel_per_min\n",
    "\n",
    "        route_followed.extend(paths[1:nmoves+1]) #may give error on the +1\n",
    "        print(f\"Path followed {paths[:nmoves+1]}, took {nmoves} minutes.\")\n",
    "        print(f\"...releasing {press_rel_per_min} per minute\")\n",
    "\n",
    "        if nminutes<30:\n",
    "            #Assume it arrived at destination\n",
    "            #Additional minute to open valve\n",
    "            press_rel_total+= press_rel_per_min #Note that new gas is not released here\n",
    "\n",
    "            rel_addit = valves_to_rate_dict[loc1]\n",
    "            print(f\"Minute {nminutes}. Open valve {loc1}, releasing additional {rel_addit}\")\n",
    "            print(f\"Released {press_rel_per_min} in this minute\")\n",
    "            press_rel_per_min+=rel_addit\n",
    "            nminutes+=1\n",
    "\n",
    "        if nminutes>=30:\n",
    "            print(f\"Finished route with score {press_rel_total}\")\n",
    "            print(f\"Complete route is {route_followed}\")\n",
    "            break\n",
    "        \n",
    "        loc0=loc1\n",
    "    \n",
    "    if nminutes<30:\n",
    "        print(\"Did not complete the 30mins. Stay here and let release the pressure\")\n",
    "        nmins_remain = 31-nminutes\n",
    "        press_rel_total+= press_rel_per_min*nmins_remain\n",
    "\n",
    "        print(f\"Finished route with score {press_rel_total}\")\n",
    "        print(f\"Complete route is {route_followed}\")\n",
    "    \n",
    "    return press_rel_total\n"
   ]
  },
  {
   "cell_type": "code",
   "execution_count": 24,
   "metadata": {},
   "outputs": [],
   "source": [
    "def calcScoreForRoute_nodebug1(route1):\n",
    "    #Format ['AA', 'BB', 'CC',...]\n",
    "    #start at 'AA'\n",
    "    loc0 = 'AA'\n",
    "\n",
    "    nminutes = 1\n",
    "    press_rel_per_min = 0\n",
    "    press_rel_total=0\n",
    "    route_followed=['AA'] #Starts at 'AA'\n",
    "\n",
    "    for loc1,releas1 in route1:\n",
    "        \n",
    "        #print(f\"Minute {nminutes}. Move from {loc0} to {loc1}\")\n",
    "\n",
    "        paths = ntx.shortest_path(G,loc0, loc1)\n",
    "        dist = len(paths)-1\n",
    "        \n",
    "        nmoves=dist\n",
    "        if dist+nminutes>30:\n",
    "            #print(\"Cannot go that far.\")\n",
    "            nmoves = 30-nminutes+1\n",
    "\n",
    "        nminutes+=nmoves\n",
    "\n",
    "        press_rel_total+=nmoves*press_rel_per_min\n",
    "\n",
    "        route_followed.extend(paths[1:nmoves+1]) #may give error on the +1\n",
    "        #print(f\"Path followed {paths[:nmoves+1]}, took {nmoves} minutes.\")\n",
    "        #print(f\"...releasing {press_rel_per_min} per minute\")\n",
    "\n",
    "        if nminutes<30:\n",
    "            #Assume it arrived at destination\n",
    "            #Additional minute to open valve\n",
    "            press_rel_total+= press_rel_per_min #Note that new gas is not released here\n",
    "\n",
    "            rel_addit = valves_to_rate_dict[loc1]\n",
    "            #print(f\"Minute {nminutes}. Open valve {loc1}, releasing additional {rel_addit}\")\n",
    "            #print(f\"Released {press_rel_per_min} in this minute\")\n",
    "            press_rel_per_min+=rel_addit\n",
    "            nminutes+=1\n",
    "\n",
    "        if nminutes>=30:\n",
    "            #print(f\"Finished route with score {press_rel_total}\")\n",
    "            #print(f\"Complete route is {route_followed}\")\n",
    "            break\n",
    "        \n",
    "        loc0=loc1\n",
    "    \n",
    "    if nminutes<30:\n",
    "        #print(\"Did not complete the 30mins. Stay here and let release the pressure\")\n",
    "        nmins_remain = 31-nminutes\n",
    "        press_rel_total+= press_rel_per_min*nmins_remain\n",
    "\n",
    "        #print(f\"Finished route with score {press_rel_total}\")\n",
    "        #print(f\"Complete route is {route_followed}\")\n",
    "    \n",
    "    return press_rel_total"
   ]
  },
  {
   "cell_type": "code",
   "execution_count": 52,
   "metadata": {},
   "outputs": [
    {
     "name": "stdout",
     "output_type": "stream",
     "text": [
      "Minute 1. Move from AA to DD\n",
      "Path followed ['AA', 'DD'], took 1 minutes.\n",
      "...releasing 0 per minute\n",
      "Minute 2. Open valve DD, releasing additional 20\n",
      "Released 0 in this minute\n",
      "Minute 3. Move from DD to BB\n",
      "Path followed ['DD', 'AA', 'BB'], took 2 minutes.\n",
      "...releasing 20 per minute\n",
      "Minute 5. Open valve BB, releasing additional 13\n",
      "Released 20 in this minute\n",
      "Minute 6. Move from BB to JJ\n",
      "Path followed ['BB', 'AA', 'II', 'JJ'], took 3 minutes.\n",
      "...releasing 33 per minute\n",
      "Minute 9. Open valve JJ, releasing additional 21\n",
      "Released 33 in this minute\n",
      "Minute 10. Move from JJ to HH\n",
      "Path followed ['JJ', 'II', 'AA', 'DD', 'EE', 'FF', 'GG', 'HH'], took 7 minutes.\n",
      "...releasing 54 per minute\n",
      "Minute 17. Open valve HH, releasing additional 22\n",
      "Released 54 in this minute\n",
      "Minute 18. Move from HH to EE\n",
      "Path followed ['HH', 'GG', 'FF', 'EE'], took 3 minutes.\n",
      "...releasing 76 per minute\n",
      "Minute 21. Open valve EE, releasing additional 3\n",
      "Released 76 in this minute\n",
      "Minute 22. Move from EE to CC\n",
      "Path followed ['EE', 'DD', 'CC'], took 2 minutes.\n",
      "...releasing 79 per minute\n",
      "Minute 24. Open valve CC, releasing additional 2\n",
      "Released 79 in this minute\n",
      "Did not complete the 30mins. Stay here and let release the pressure\n",
      "Finished route with score 1651\n",
      "Complete route is ['AA', 'DD', 'AA', 'BB', 'AA', 'II', 'JJ', 'II', 'AA', 'DD', 'EE', 'FF', 'GG', 'HH', 'GG', 'FF', 'EE', 'DD', 'CC']\n"
     ]
    },
    {
     "data": {
      "text/plain": [
       "1651"
      ]
     },
     "execution_count": 52,
     "metadata": {},
     "output_type": "execute_result"
    }
   ],
   "source": [
    "#Test with route in question\n",
    "#route_test = ['DD', 'BB', 'JJ', 'HH', 'EE', 'CC', 'AA','FF','GG', 'II']\n",
    "route_test = ['DD', 'BB', 'JJ', 'HH', 'EE', 'CC']\n",
    "calcScoreForRoute(route_test)"
   ]
  },
  {
   "attachments": {},
   "cell_type": "markdown",
   "metadata": {},
   "source": [
    "Result with test data should be 1651 which appears to give the rigth answer"
   ]
  },
  {
   "attachments": {},
   "cell_type": "markdown",
   "metadata": {},
   "source": [
    "Try running with all permutations of `closed_valves_to_open`"
   ]
  },
  {
   "cell_type": "code",
   "execution_count": 26,
   "metadata": {},
   "outputs": [
    {
     "data": {
      "text/plain": [
       "[['HH', 22], ['JJ', 21], ['DD', 20], ['BB', 13], ['EE', 3], ['CC', 2]]"
      ]
     },
     "execution_count": 26,
     "metadata": {},
     "output_type": "execute_result"
    }
   ],
   "source": [
    "closed_valves_to_open"
   ]
  },
  {
   "cell_type": "code",
   "execution_count": 28,
   "metadata": {},
   "outputs": [],
   "source": [
    "import itertools\n",
    "#try_routes_permutations = list(itertools.permutations(closed_valves_to_open))\n",
    "try_routes_permutations_iter = itertools.permutations(closed_valves_to_open)\n",
    "#Too many for 15 elements!!"
   ]
  },
  {
   "cell_type": "code",
   "execution_count": 29,
   "metadata": {},
   "outputs": [],
   "source": [
    "#try_routes_permutations"
   ]
  },
  {
   "cell_type": "code",
   "execution_count": 30,
   "metadata": {},
   "outputs": [],
   "source": [
    "#len(try_routes_permutations)"
   ]
  },
  {
   "cell_type": "code",
   "execution_count": 36,
   "metadata": {},
   "outputs": [],
   "source": [
    "#try_routes_permutations_scores = [ calcScoreForRoute_nodebug1(r)  for r in try_routes_permutations]\n",
    "try_routes_permutations_scores = [ calcScoreForRoute_nodebug1(r)  for r in try_routes_permutations_iter]"
   ]
  },
  {
   "cell_type": "code",
   "execution_count": 37,
   "metadata": {},
   "outputs": [
    {
     "data": {
      "text/plain": [
       "[]"
      ]
     },
     "execution_count": 37,
     "metadata": {},
     "output_type": "execute_result"
    }
   ],
   "source": [
    "try_routes_permutations_scores"
   ]
  },
  {
   "cell_type": "code",
   "execution_count": 38,
   "metadata": {},
   "outputs": [
    {
     "ename": "ValueError",
     "evalue": "zero-size array to reduction operation maximum which has no identity",
     "output_type": "error",
     "traceback": [
      "\u001b[1;31m---------------------------------------------------------------------------\u001b[0m",
      "\u001b[1;31mValueError\u001b[0m                                Traceback (most recent call last)",
      "Cell \u001b[1;32mIn[38], line 1\u001b[0m\n\u001b[1;32m----> 1\u001b[0m np\u001b[39m.\u001b[39;49mmax(np\u001b[39m.\u001b[39;49marray(try_routes_permutations_scores))\n",
      "File \u001b[1;32m<__array_function__ internals>:180\u001b[0m, in \u001b[0;36mamax\u001b[1;34m(*args, **kwargs)\u001b[0m\n",
      "File \u001b[1;32mc:\\Users\\Luis-work\\miniconda3\\envs\\dev\\lib\\site-packages\\numpy\\core\\fromnumeric.py:2793\u001b[0m, in \u001b[0;36mamax\u001b[1;34m(a, axis, out, keepdims, initial, where)\u001b[0m\n\u001b[0;32m   2677\u001b[0m \u001b[39m@array_function_dispatch\u001b[39m(_amax_dispatcher)\n\u001b[0;32m   2678\u001b[0m \u001b[39mdef\u001b[39;00m \u001b[39mamax\u001b[39m(a, axis\u001b[39m=\u001b[39m\u001b[39mNone\u001b[39;00m, out\u001b[39m=\u001b[39m\u001b[39mNone\u001b[39;00m, keepdims\u001b[39m=\u001b[39mnp\u001b[39m.\u001b[39m_NoValue, initial\u001b[39m=\u001b[39mnp\u001b[39m.\u001b[39m_NoValue,\n\u001b[0;32m   2679\u001b[0m          where\u001b[39m=\u001b[39mnp\u001b[39m.\u001b[39m_NoValue):\n\u001b[0;32m   2680\u001b[0m     \u001b[39m\"\"\"\u001b[39;00m\n\u001b[0;32m   2681\u001b[0m \u001b[39m    Return the maximum of an array or maximum along an axis.\u001b[39;00m\n\u001b[0;32m   2682\u001b[0m \n\u001b[1;32m   (...)\u001b[0m\n\u001b[0;32m   2791\u001b[0m \u001b[39m    5\u001b[39;00m\n\u001b[0;32m   2792\u001b[0m \u001b[39m    \"\"\"\u001b[39;00m\n\u001b[1;32m-> 2793\u001b[0m     \u001b[39mreturn\u001b[39;00m _wrapreduction(a, np\u001b[39m.\u001b[39;49mmaximum, \u001b[39m'\u001b[39;49m\u001b[39mmax\u001b[39;49m\u001b[39m'\u001b[39;49m, axis, \u001b[39mNone\u001b[39;49;00m, out,\n\u001b[0;32m   2794\u001b[0m                           keepdims\u001b[39m=\u001b[39;49mkeepdims, initial\u001b[39m=\u001b[39;49minitial, where\u001b[39m=\u001b[39;49mwhere)\n",
      "File \u001b[1;32mc:\\Users\\Luis-work\\miniconda3\\envs\\dev\\lib\\site-packages\\numpy\\core\\fromnumeric.py:86\u001b[0m, in \u001b[0;36m_wrapreduction\u001b[1;34m(obj, ufunc, method, axis, dtype, out, **kwargs)\u001b[0m\n\u001b[0;32m     83\u001b[0m         \u001b[39melse\u001b[39;00m:\n\u001b[0;32m     84\u001b[0m             \u001b[39mreturn\u001b[39;00m reduction(axis\u001b[39m=\u001b[39maxis, out\u001b[39m=\u001b[39mout, \u001b[39m*\u001b[39m\u001b[39m*\u001b[39mpasskwargs)\n\u001b[1;32m---> 86\u001b[0m \u001b[39mreturn\u001b[39;00m ufunc\u001b[39m.\u001b[39;49mreduce(obj, axis, dtype, out, \u001b[39m*\u001b[39;49m\u001b[39m*\u001b[39;49mpasskwargs)\n",
      "\u001b[1;31mValueError\u001b[0m: zero-size array to reduction operation maximum which has no identity"
     ]
    }
   ],
   "source": [
    "np.max(np.array(try_routes_permutations_scores))"
   ]
  },
  {
   "cell_type": "code",
   "execution_count": null,
   "metadata": {},
   "outputs": [],
   "source": []
  },
  {
   "cell_type": "code",
   "execution_count": null,
   "metadata": {},
   "outputs": [],
   "source": []
  },
  {
   "cell_type": "code",
   "execution_count": null,
   "metadata": {},
   "outputs": [],
   "source": []
  },
  {
   "attachments": {},
   "cell_type": "markdown",
   "metadata": {},
   "source": [
    "# search algorithm 2\n",
    "\n",
    "Go from non-opened valve to non-opened valve\n",
    "\n",
    "Keep track of remaining minutes, rather than elapsed minutes\n",
    "\n",
    "Once valve is open, its contribution to the final total pressure is remaining_minutes*valve_value\n",
    "\n",
    "Contributions add-up\n",
    "\n",
    "Write function:\n",
    "From a valve location, search for possible destinations.\n",
    "\n",
    "Calculate score for each and collect the maximum only\n",
    "To calcualate score in each destination, call this function recursively and passing closed valves info.\n",
    "\n",
    "Return maximum"
   ]
  },
  {
   "cell_type": "code",
   "execution_count": 20,
   "metadata": {},
   "outputs": [
    {
     "data": {
      "text/plain": [
       "[['QN', 25],\n",
       " ['BM', 24],\n",
       " ['NS', 23],\n",
       " ['XH', 22],\n",
       " ['CJ', 21],\n",
       " ['KI', 20],\n",
       " ['CQ', 18],\n",
       " ['EI', 17],\n",
       " ['TN', 16],\n",
       " ['SK', 14],\n",
       " ['BY', 11],\n",
       " ['SZ', 6],\n",
       " ['HK', 5],\n",
       " ['FE', 4],\n",
       " ['QE', 3]]"
      ]
     },
     "execution_count": 20,
     "metadata": {},
     "output_type": "execute_result"
    }
   ],
   "source": [
    "closed_valves_to_open"
   ]
  },
  {
   "cell_type": "code",
   "execution_count": 21,
   "metadata": {},
   "outputs": [],
   "source": [
    "# This algorithm takes long, produces too much text and is giving wrong results\n",
    "def getMaxPressContribFromValveWithStatus(cur_loc0, closed_valves0, minutes_remain0):\n",
    "\n",
    "    #print(f\"cur_loc:{cur_loc0}, minutes_remain:{minutes_remain0}, closed_valves:{closed_valves0}\")\n",
    "    MaxPressContrib=0\n",
    "\n",
    "    #press_contib=0\n",
    "\n",
    "    for v0 in closed_valves0:\n",
    "        #Get dist\n",
    "        paths = ntx.shortest_path(G,cur_loc0, v0[0]) #Warning can be slow if running often\n",
    "        dist = len(paths)-1\n",
    "        minutes_remain1 = minutes_remain0-dist-1\n",
    "\n",
    "        if minutes_remain1>0:\n",
    "            #Continue only if valve can be opened after moving the distance\n",
    "            \n",
    "            #Get Pressure contribution to the total if the valve is opened after moving\n",
    "            press_contrib = minutes_remain1 * v0[1]\n",
    "\n",
    "            #Add if going to next valve (recursive)\n",
    "            closed_valves1 = closed_valves0.copy()\n",
    "            closed_valves1.remove(v0)\n",
    "            cur_loc1 = v0[0]\n",
    "            #minutes_remain1-=1\n",
    "            press_contrib += getMaxPressContribFromValveWithStatus( cur_loc1 , closed_valves1, minutes_remain1)\n",
    "        \n",
    "            MaxPressContrib = max(MaxPressContrib, press_contrib)\n",
    "\n",
    "    return MaxPressContrib"
   ]
  },
  {
   "cell_type": "code",
   "execution_count": 22,
   "metadata": {},
   "outputs": [
    {
     "data": {
      "text/plain": [
       "2077"
      ]
     },
     "execution_count": 22,
     "metadata": {},
     "output_type": "execute_result"
    }
   ],
   "source": [
    "getMaxPressContribFromValveWithStatus('AA', closed_valves_to_open, 30)"
   ]
  },
  {
   "attachments": {},
   "cell_type": "markdown",
   "metadata": {},
   "source": [
    "OK"
   ]
  },
  {
   "cell_type": "code",
   "execution_count": null,
   "metadata": {},
   "outputs": [],
   "source": []
  },
  {
   "cell_type": "code",
   "execution_count": null,
   "metadata": {},
   "outputs": [],
   "source": []
  }
 ],
 "metadata": {
  "kernelspec": {
   "display_name": "dev",
   "language": "python",
   "name": "python3"
  },
  "language_info": {
   "codemirror_mode": {
    "name": "ipython",
    "version": 3
   },
   "file_extension": ".py",
   "mimetype": "text/x-python",
   "name": "python",
   "nbconvert_exporter": "python",
   "pygments_lexer": "ipython3",
   "version": "3.8.13 | packaged by conda-forge | (default, Mar 25 2022, 05:59:45) [MSC v.1929 64 bit (AMD64)]"
  },
  "orig_nbformat": 4,
  "vscode": {
   "interpreter": {
    "hash": "ae9318eca6f153166416f971f14e35a175773b3b30438ae2aa8538d9aa021541"
   }
  }
 },
 "nbformat": 4,
 "nbformat_minor": 2
}
