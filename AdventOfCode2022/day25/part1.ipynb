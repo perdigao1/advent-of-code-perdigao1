{
 "cells": [
  {
   "attachments": {},
   "cell_type": "markdown",
   "metadata": {},
   "source": [
    "Useful functions"
   ]
  },
  {
   "cell_type": "code",
   "execution_count": 1,
   "metadata": {},
   "outputs": [],
   "source": [
    "def snafu_to_decimal(snafu_str):\n",
    "    s=snafu_str.strip()\n",
    "    N=len(s)\n",
    "\n",
    "    value=0\n",
    "\n",
    "    for i,ch in enumerate(s):\n",
    "        power5 = 5**(N-i-1)\n",
    "        \n",
    "        if ch=='2':\n",
    "            value+=2*power5\n",
    "            continue\n",
    "        if ch=='1':\n",
    "            value+=power5\n",
    "            continue\n",
    "        if ch=='0':\n",
    "            #Don't add anything\n",
    "            continue\n",
    "        if ch=='=':\n",
    "            value-=2*power5\n",
    "            continue\n",
    "        if ch=='-':\n",
    "            value-=power5\n",
    "        else:\n",
    "            raise ValueError(f\"{ch} is not a valid SNAFU character\")\n",
    "    \n",
    "    return value"
   ]
  },
  {
   "cell_type": "code",
   "execution_count": 2,
   "metadata": {},
   "outputs": [],
   "source": [
    "import math\n",
    "# From https://stackoverflow.com/questions/2267362/how-to-convert-an-integer-to-a-string-in-any-base\n",
    "def numberToBase(n, b):\n",
    "    if n == 0:\n",
    "        return [0]\n",
    "    digits = []\n",
    "    while n:\n",
    "        digits.append(int(n % b))\n",
    "        n //= b\n",
    "    return digits[::-1]\n",
    "\n",
    "def decimal_to_snafu(v):\n",
    "    assert v>=1.0, \"Error value is not >=1.0\"\n",
    "\n",
    "    dig = numberToBase(v,5)\n",
    "\n",
    "    s_snafu=\"\"\n",
    "    carry=0\n",
    "    for i in range(len(dig)):\n",
    "        d0 = dig[-(i+1)]\n",
    "\n",
    "        v0 = d0+carry\n",
    "        if v0==3:\n",
    "            s_snafu+=\"=\"\n",
    "            carry=1\n",
    "            continue\n",
    "        if v0==4:\n",
    "            s_snafu+=\"-\"\n",
    "            carry=1\n",
    "            continue\n",
    "        if v0==5:\n",
    "            s_snafu+=\"0\"\n",
    "            carry=1\n",
    "            continue\n",
    "        #else\n",
    "        s_snafu+=str(v0)\n",
    "        carry=0\n",
    "\n",
    "    if carry>0:\n",
    "        s_snafu+=str(carry)\n",
    "    #print(s_snafu)\n",
    "    #At the end we need to invert the string\n",
    "    s_snafu_invert = s_snafu[::-1]\n",
    "    #print(s_snafu_invert)\n",
    "\n",
    "    return s_snafu_invert"
   ]
  },
  {
   "cell_type": "code",
   "execution_count": 3,
   "metadata": {},
   "outputs": [],
   "source": [
    "#input_file='input_test.txt'\n",
    "input_file='input.txt'"
   ]
  },
  {
   "cell_type": "code",
   "execution_count": 4,
   "metadata": {},
   "outputs": [],
   "source": [
    "with open(input_file, 'r') as f:\n",
    "    lines=f.read().split('\\n')"
   ]
  },
  {
   "cell_type": "code",
   "execution_count": 5,
   "metadata": {},
   "outputs": [
    {
     "data": {
      "text/plain": [
       "['2-=0102020-02',\n",
       " '1-02202=-1=-2==',\n",
       " '1==00-101-=0-',\n",
       " '211012=12222',\n",
       " '112-20',\n",
       " '11==0020-=20-=0=12=',\n",
       " '122-22110',\n",
       " '1==00-1201112==--=',\n",
       " '1-10==11=',\n",
       " '10=0=110-2',\n",
       " '1111=000=2001=211=',\n",
       " '22-21===0=-',\n",
       " '2=022',\n",
       " '11=-0100===',\n",
       " '10=10--==-0',\n",
       " '12=01-1',\n",
       " '12-01--20121-2-=0-1',\n",
       " '22-222--022-0-=01-',\n",
       " '12-1',\n",
       " '2-=2=02-1=',\n",
       " '2210',\n",
       " '1=2=0211',\n",
       " '10=01=001-01',\n",
       " '2',\n",
       " '201=-1',\n",
       " '11---10',\n",
       " '1=-0=',\n",
       " '1=-021',\n",
       " '1-2=02012111=01=-100',\n",
       " '1101=20=',\n",
       " '20-1-',\n",
       " '2-1020---',\n",
       " '2=121=0=10=',\n",
       " '1022-22211112=-1',\n",
       " '2-1-',\n",
       " '210--==00',\n",
       " '12=1122-10',\n",
       " '1=2222=2-=21=0',\n",
       " '1=021=',\n",
       " '1=10-1201',\n",
       " '1=1',\n",
       " '1-=-==0201-=1=0',\n",
       " '22=2=211-0-1=2=1',\n",
       " '1=21-=002111',\n",
       " '102112=10021',\n",
       " '1===-111-=2001122',\n",
       " '10--',\n",
       " '1-',\n",
       " '1-2-2',\n",
       " '11-1-1-02-',\n",
       " '1=20--=1=0101-1001',\n",
       " '12012-',\n",
       " '1220-1--00',\n",
       " '1=2=1-',\n",
       " '12-0=2022=0100-1',\n",
       " '12=2-=-=221==2=',\n",
       " '2-2-',\n",
       " '1=-1-01-0=',\n",
       " '12---2=',\n",
       " '1=1=1102-==010',\n",
       " '10-=--200=',\n",
       " '1=2212=-',\n",
       " '12-121=-',\n",
       " '1===0-=20-=',\n",
       " '1=2020-01---112=1-',\n",
       " '101=00111=20=',\n",
       " '1=2=01=1-2==0-',\n",
       " '2=-100---00',\n",
       " '1==1=01--===0-10-',\n",
       " '1==-=0-20',\n",
       " '1=2011121=10--2',\n",
       " '2-=0-01-=--12102=',\n",
       " '200',\n",
       " '2==22=0002-210',\n",
       " '102',\n",
       " '1-22221',\n",
       " '20==00',\n",
       " '1-22--2-0=10=11-1',\n",
       " '1=12=2',\n",
       " '1=-12-=',\n",
       " '10-020-100=0=',\n",
       " '1-11111',\n",
       " '1=02-002220',\n",
       " '20==0120210--1',\n",
       " '100-121=2-2-=00=',\n",
       " '21',\n",
       " '11=-=-',\n",
       " '2-=1100=10102-',\n",
       " '112--0-2=1--=2=',\n",
       " '1-1==100',\n",
       " '1--02-0=1-',\n",
       " '1102-',\n",
       " '1-2-21-',\n",
       " '22=1=-000=210-12',\n",
       " '1=112-12-',\n",
       " '1====120==0',\n",
       " '20=2=22=22=2-=2=',\n",
       " '1=21201=',\n",
       " '2202202-20',\n",
       " '1=-2=-==--200101',\n",
       " '12010',\n",
       " '1--22=2--02',\n",
       " '102==-',\n",
       " '2-==1-10',\n",
       " '12-==12-2',\n",
       " '22=-11110=2-211',\n",
       " '1-0',\n",
       " '1=02=20-1=--',\n",
       " '1-20',\n",
       " '1102---10',\n",
       " '11=2-==2=1-',\n",
       " '2=2-',\n",
       " '2=10=2==221=01',\n",
       " '1--==-1==',\n",
       " '1011-111',\n",
       " '1-2-=---012-21',\n",
       " '1=-==0',\n",
       " '1=0011=11112102=',\n",
       " '10-0-=202',\n",
       " '2-----12=',\n",
       " '1=-2221020=01-10',\n",
       " '12-2201==',\n",
       " '1-102',\n",
       " '22-100=0-===',\n",
       " '100=0-0',\n",
       " '']"
      ]
     },
     "execution_count": 5,
     "metadata": {},
     "output_type": "execute_result"
    }
   ],
   "source": [
    "lines"
   ]
  },
  {
   "attachments": {},
   "cell_type": "markdown",
   "metadata": {},
   "source": [
    "Read SNAFU codes, convert to decimal and get the total"
   ]
  },
  {
   "cell_type": "code",
   "execution_count": 6,
   "metadata": {},
   "outputs": [
    {
     "name": "stdout",
     "output_type": "stream",
     "text": [
      "31069194366050\n",
      "sum in snafu: 2=1-=02-21===-21=200\n"
     ]
    }
   ],
   "source": [
    "sum_decimal=0\n",
    "for line0 in lines:\n",
    "    if not line0=='':\n",
    "        value_dec = snafu_to_decimal(line0)\n",
    "        sum_decimal+=value_dec\n",
    "print(sum_decimal)\n",
    "print(\"sum in snafu:\", decimal_to_snafu(sum_decimal))"
   ]
  },
  {
   "attachments": {},
   "cell_type": "markdown",
   "metadata": {},
   "source": [
    "OK"
   ]
  },
  {
   "cell_type": "code",
   "execution_count": null,
   "metadata": {},
   "outputs": [],
   "source": []
  }
 ],
 "metadata": {
  "kernelspec": {
   "display_name": "dev",
   "language": "python",
   "name": "python3"
  },
  "language_info": {
   "codemirror_mode": {
    "name": "ipython",
    "version": 3
   },
   "file_extension": ".py",
   "mimetype": "text/x-python",
   "name": "python",
   "nbconvert_exporter": "python",
   "pygments_lexer": "ipython3",
   "version": "3.8.15"
  },
  "orig_nbformat": 4,
  "vscode": {
   "interpreter": {
    "hash": "ae9318eca6f153166416f971f14e35a175773b3b30438ae2aa8538d9aa021541"
   }
  }
 },
 "nbformat": 4,
 "nbformat_minor": 2
}
