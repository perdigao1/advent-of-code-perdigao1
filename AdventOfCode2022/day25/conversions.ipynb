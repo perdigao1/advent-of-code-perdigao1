{
 "cells": [
  {
   "attachments": {},
   "cell_type": "markdown",
   "metadata": {},
   "source": [
    "SNAFU to decimal, decimal to SNAFU conversions"
   ]
  },
  {
   "attachments": {},
   "cell_type": "markdown",
   "metadata": {},
   "source": [
    "# SNAFU to decimal"
   ]
  },
  {
   "cell_type": "code",
   "execution_count": 8,
   "metadata": {},
   "outputs": [],
   "source": [
    "def snafu_to_decimal(snafu_str):\n",
    "    s=snafu_str.strip()\n",
    "    N=len(s)\n",
    "\n",
    "    value=0\n",
    "\n",
    "    for i,ch in enumerate(s):\n",
    "        power5 = 5**(N-i-1)\n",
    "        \n",
    "        if ch=='2':\n",
    "            value+=2*power5\n",
    "            continue\n",
    "        if ch=='1':\n",
    "            value+=power5\n",
    "            continue\n",
    "        if ch=='0':\n",
    "            #Don't add anything\n",
    "            continue\n",
    "        if ch=='=':\n",
    "            value-=2*power5\n",
    "            continue\n",
    "        if ch=='-':\n",
    "            value-=power5\n",
    "        else:\n",
    "            raise ValueError(f\"{ch} is not a valid SNAFU character\")\n",
    "    \n",
    "    return value"
   ]
  },
  {
   "cell_type": "code",
   "execution_count": 9,
   "metadata": {},
   "outputs": [
    {
     "data": {
      "text/plain": [
       "3"
      ]
     },
     "execution_count": 9,
     "metadata": {},
     "output_type": "execute_result"
    }
   ],
   "source": [
    "#test, expect 3\n",
    "snafu_to_decimal('1=')"
   ]
  },
  {
   "cell_type": "code",
   "execution_count": 10,
   "metadata": {},
   "outputs": [
    {
     "data": {
      "text/plain": [
       "1747"
      ]
     },
     "execution_count": 10,
     "metadata": {},
     "output_type": "execute_result"
    }
   ],
   "source": [
    "#test, expect 1747\n",
    "snafu_to_decimal('1=-0-2')"
   ]
  },
  {
   "cell_type": "code",
   "execution_count": 117,
   "metadata": {},
   "outputs": [
    {
     "data": {
      "text/plain": [
       "1257"
      ]
     },
     "execution_count": 117,
     "metadata": {},
     "output_type": "execute_result"
    }
   ],
   "source": [
    "#test, expect 1257\n",
    "snafu_to_decimal('20012')"
   ]
  },
  {
   "cell_type": "code",
   "execution_count": null,
   "metadata": {},
   "outputs": [],
   "source": []
  },
  {
   "attachments": {},
   "cell_type": "markdown",
   "metadata": {},
   "source": [
    "# Decimal to SNAFU (not working)"
   ]
  },
  {
   "attachments": {},
   "cell_type": "markdown",
   "metadata": {},
   "source": [
    "Conversion should use log base 5"
   ]
  },
  {
   "cell_type": "code",
   "execution_count": 25,
   "metadata": {},
   "outputs": [],
   "source": [
    "import math"
   ]
  },
  {
   "cell_type": "code",
   "execution_count": 26,
   "metadata": {},
   "outputs": [
    {
     "data": {
      "text/plain": [
       "3.0000000000000004"
      ]
     },
     "execution_count": 26,
     "metadata": {},
     "output_type": "execute_result"
    }
   ],
   "source": [
    "math.log(125,5)"
   ]
  },
  {
   "cell_type": "code",
   "execution_count": 27,
   "metadata": {},
   "outputs": [
    {
     "data": {
      "text/plain": [
       "0.0"
      ]
     },
     "execution_count": 27,
     "metadata": {},
     "output_type": "execute_result"
    }
   ],
   "source": [
    "math.log(1.0,5)"
   ]
  },
  {
   "cell_type": "code",
   "execution_count": 28,
   "metadata": {},
   "outputs": [
    {
     "data": {
      "text/plain": [
       "0.6826061944859854"
      ]
     },
     "execution_count": 28,
     "metadata": {},
     "output_type": "execute_result"
    }
   ],
   "source": [
    "math.log(3.0,5)"
   ]
  },
  {
   "cell_type": "code",
   "execution_count": 33,
   "metadata": {},
   "outputs": [
    {
     "name": "stdout",
     "output_type": "stream",
     "text": [
      "1: 0.0\n",
      "2: 0.43067655807339306\n",
      "3: 0.6826061944859854\n",
      "4: 0.8613531161467861\n",
      "5: 1.0\n",
      "6: 1.1132827525593785\n",
      "7: 1.2090619551221675\n",
      "8: 1.2920296742201791\n",
      "9: 1.3652123889719707\n",
      "10: 1.4306765580733933\n",
      "11: 1.4898961024049782\n",
      "12: 1.5439593106327716\n",
      "13: 1.5936926411670824\n",
      "14: 1.6397385131955606\n"
     ]
    }
   ],
   "source": [
    "for i in range(1,15):\n",
    "    v=math.log(float(i),5.0)\n",
    "    print(f\"{i}: {v}\")"
   ]
  },
  {
   "attachments": {},
   "cell_type": "markdown",
   "metadata": {},
   "source": [
    "transition of numbering is 1->3 and 7->8"
   ]
  },
  {
   "cell_type": "code",
   "execution_count": 70,
   "metadata": {},
   "outputs": [],
   "source": [
    "#Test value here\n",
    "v=8.0"
   ]
  },
  {
   "cell_type": "code",
   "execution_count": 71,
   "metadata": {},
   "outputs": [
    {
     "data": {
      "text/plain": [
       "1.2920296742201791"
      ]
     },
     "execution_count": 71,
     "metadata": {},
     "output_type": "execute_result"
    }
   ],
   "source": [
    "pow5=math.log(v, 5.0)\n",
    "pow5"
   ]
  },
  {
   "cell_type": "code",
   "execution_count": 72,
   "metadata": {},
   "outputs": [
    {
     "data": {
      "text/plain": [
       "2"
      ]
     },
     "execution_count": 72,
     "metadata": {},
     "output_type": "execute_result"
    }
   ],
   "source": [
    "pow5_int = math.floor(pow5)\n",
    "pow5_1 = pow5_int+1\n",
    "pow5_1"
   ]
  },
  {
   "cell_type": "code",
   "execution_count": 74,
   "metadata": {},
   "outputs": [
    {
     "data": {
      "text/plain": [
       "0.32"
      ]
     },
     "execution_count": 74,
     "metadata": {},
     "output_type": "execute_result"
    }
   ],
   "source": [
    "v_pow5_1 = 5.0**(pow5_1)\n",
    "v/v_pow5_1"
   ]
  },
  {
   "cell_type": "code",
   "execution_count": 73,
   "metadata": {},
   "outputs": [
    {
     "name": "stdout",
     "output_type": "stream",
     "text": [
      "25.0\n",
      "5.0\n",
      "17.0\n"
     ]
    }
   ],
   "source": [
    "v_pow5_1 = 5.0**(pow5_1)\n",
    "print(v_pow5_1)\n",
    "v_pow5 = 5.0**(pow5_int)\n",
    "print(v_pow5)\n",
    "diff = v_pow5_1-v\n",
    "print(diff)"
   ]
  },
  {
   "cell_type": "code",
   "execution_count": null,
   "metadata": {},
   "outputs": [],
   "source": []
  },
  {
   "cell_type": "code",
   "execution_count": 75,
   "metadata": {},
   "outputs": [],
   "source": [
    "# From https://stackoverflow.com/questions/2267362/how-to-convert-an-integer-to-a-string-in-any-base\n",
    "def numberToBase(n, b):\n",
    "    if n == 0:\n",
    "        return [0]\n",
    "    digits = []\n",
    "    while n:\n",
    "        digits.append(int(n % b))\n",
    "        n //= b\n",
    "    return digits[::-1]"
   ]
  },
  {
   "cell_type": "code",
   "execution_count": 77,
   "metadata": {},
   "outputs": [
    {
     "name": "stdout",
     "output_type": "stream",
     "text": [
      "1: base5:[1]\n",
      "2: base5:[2]\n",
      "3: base5:[3]\n",
      "4: base5:[4]\n",
      "5: base5:[1, 0]\n",
      "6: base5:[1, 1]\n",
      "7: base5:[1, 2]\n",
      "8: base5:[1, 3]\n",
      "9: base5:[1, 4]\n",
      "10: base5:[2, 0]\n",
      "11: base5:[2, 1]\n",
      "12: base5:[2, 2]\n",
      "13: base5:[2, 3]\n",
      "14: base5:[2, 4]\n"
     ]
    }
   ],
   "source": [
    "for i in range(1,15):\n",
    "    print(f\"{i}: base5:{numberToBase(i,5)}\")"
   ]
  },
  {
   "cell_type": "code",
   "execution_count": null,
   "metadata": {},
   "outputs": [],
   "source": []
  },
  {
   "attachments": {},
   "cell_type": "markdown",
   "metadata": {},
   "source": [
    "Maybe can use conversion to base 5, and then convert to SNAFU"
   ]
  },
  {
   "cell_type": "code",
   "execution_count": 110,
   "metadata": {},
   "outputs": [],
   "source": [
    "#test value\n",
    "v=314159265"
   ]
  },
  {
   "cell_type": "code",
   "execution_count": 111,
   "metadata": {},
   "outputs": [
    {
     "name": "stdout",
     "output_type": "stream",
     "text": [
      "[1, 1, 2, 0, 4, 1, 1, 0, 4, 4, 0, 3, 0]\n"
     ]
    }
   ],
   "source": [
    "dig = numberToBase(v,5)\n",
    "print(dig)"
   ]
  },
  {
   "cell_type": "code",
   "execution_count": 112,
   "metadata": {},
   "outputs": [
    {
     "name": "stdout",
     "output_type": "stream",
     "text": [
      "0\n",
      "3\n",
      "0\n",
      "4\n",
      "4\n",
      "0\n",
      "1\n",
      "1\n",
      "4\n",
      "0\n",
      "2\n",
      "1\n",
      "1\n",
      "0=1-0111-1211\n",
      "1121-1110-1=0\n"
     ]
    }
   ],
   "source": [
    "s_snafu=\"\"\n",
    "carry=0\n",
    "for i in range(len(dig)):\n",
    "    d0 = dig[-(i+1)]\n",
    "    print(d0)\n",
    "\n",
    "    v0 = d0+carry\n",
    "\n",
    "    if v0==3:\n",
    "        s_snafu+=\"=\"\n",
    "        carry=1\n",
    "        continue\n",
    "    if v0==4:\n",
    "        s_snafu+=\"-\"\n",
    "        carry=1\n",
    "        continue\n",
    "    if v0==5:\n",
    "        s_snafu+=\"0\"\n",
    "        carry=1\n",
    "        continue\n",
    "    #else\n",
    "    s_snafu+=str(v0)\n",
    "    carry=0\n",
    "\n",
    "if carry>0:\n",
    "    s_snafu+=str(carry)\n",
    "print(s_snafu)\n",
    "#At the end we need to invert the string\n",
    "s_snafu_invert = s_snafu[::-1]\n",
    "print(s_snafu_invert)\n"
   ]
  },
  {
   "attachments": {},
   "cell_type": "markdown",
   "metadata": {},
   "source": [
    "OK"
   ]
  },
  {
   "cell_type": "code",
   "execution_count": null,
   "metadata": {},
   "outputs": [],
   "source": []
  },
  {
   "cell_type": "code",
   "execution_count": 113,
   "metadata": {},
   "outputs": [],
   "source": [
    "def decimal_to_snafu(v):\n",
    "    assert v>=1.0, \"Error value is not >=1.0\"\n",
    "\n",
    "    dig = numberToBase(v,5)\n",
    "\n",
    "    s_snafu=\"\"\n",
    "    carry=0\n",
    "    for i in range(len(dig)):\n",
    "        d0 = dig[-(i+1)]\n",
    "\n",
    "        v0 = d0+carry\n",
    "        if v0==3:\n",
    "            s_snafu+=\"=\"\n",
    "            carry=1\n",
    "            continue\n",
    "        if v0==4:\n",
    "            s_snafu+=\"-\"\n",
    "            carry=1\n",
    "            continue\n",
    "        if v0==5:\n",
    "            s_snafu+=\"0\"\n",
    "            carry=1\n",
    "            continue\n",
    "        #else\n",
    "        s_snafu+=str(v0)\n",
    "        carry=0\n",
    "\n",
    "    if carry>0:\n",
    "        s_snafu+=str(carry)\n",
    "    #print(s_snafu)\n",
    "    #At the end we need to invert the string\n",
    "    s_snafu_invert = s_snafu[::-1]\n",
    "    #print(s_snafu_invert)\n",
    "\n",
    "    return s_snafu_invert\n"
   ]
  },
  {
   "cell_type": "code",
   "execution_count": 115,
   "metadata": {},
   "outputs": [
    {
     "name": "stdout",
     "output_type": "stream",
     "text": [
      "1, 1\n",
      "2, 2\n",
      "3, 1=\n",
      "4, 1-\n",
      "5, 10\n",
      "6, 11\n",
      "7, 12\n",
      "8, 2=\n",
      "9, 2-\n",
      "10, 20\n",
      "11, 21\n",
      "12, 22\n",
      "13, 1==\n",
      "14, 1=-\n",
      "15, 1=0\n",
      "16, 1=1\n",
      "17, 1=2\n",
      "18, 1-=\n",
      "19, 1--\n",
      "20, 1-0\n"
     ]
    }
   ],
   "source": [
    "for i in range(1,21):\n",
    "    print(f\"{i}, {decimal_to_snafu(i)}\")"
   ]
  },
  {
   "cell_type": "code",
   "execution_count": 116,
   "metadata": {},
   "outputs": [
    {
     "data": {
      "text/plain": [
       "'1121-1110-1=0'"
      ]
     },
     "execution_count": 116,
     "metadata": {},
     "output_type": "execute_result"
    }
   ],
   "source": [
    "decimal_to_snafu(314159265)"
   ]
  },
  {
   "attachments": {},
   "cell_type": "markdown",
   "metadata": {},
   "source": [
    "OK"
   ]
  },
  {
   "cell_type": "code",
   "execution_count": null,
   "metadata": {},
   "outputs": [],
   "source": []
  }
 ],
 "metadata": {
  "kernelspec": {
   "display_name": "dev",
   "language": "python",
   "name": "python3"
  },
  "language_info": {
   "codemirror_mode": {
    "name": "ipython",
    "version": 3
   },
   "file_extension": ".py",
   "mimetype": "text/x-python",
   "name": "python",
   "nbconvert_exporter": "python",
   "pygments_lexer": "ipython3",
   "version": "3.8.15"
  },
  "orig_nbformat": 4,
  "vscode": {
   "interpreter": {
    "hash": "ae9318eca6f153166416f971f14e35a175773b3b30438ae2aa8538d9aa021541"
   }
  }
 },
 "nbformat": 4,
 "nbformat_minor": 2
}
