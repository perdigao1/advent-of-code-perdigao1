{
 "cells": [
  {
   "cell_type": "code",
   "execution_count": 1,
   "metadata": {},
   "outputs": [],
   "source": [
    "import numpy as np\n",
    "import matplotlib.pyplot as plt"
   ]
  },
  {
   "cell_type": "code",
   "execution_count": 2,
   "metadata": {},
   "outputs": [],
   "source": [
    "#filename, y_check = \"input_test.txt\", 10\n",
    "filename, y_check = \"input.txt\", 2000000 #Fails if trying to use meshgrids"
   ]
  },
  {
   "cell_type": "code",
   "execution_count": 3,
   "metadata": {},
   "outputs": [],
   "source": [
    "with open(filename) as f:\n",
    "    lines = f.read().split('\\n')\n",
    "    lines = [l0.strip() for l0 in lines]"
   ]
  },
  {
   "cell_type": "code",
   "execution_count": 4,
   "metadata": {},
   "outputs": [],
   "source": [
    "def get_manhattan_distance(p, q):\n",
    "    \"\"\" \n",
    "    Return the manhattan distance between points p and q\n",
    "    assuming both to have the same number of dimensions\n",
    "    \"\"\"\n",
    "    # sum of absolute difference between coordinates\n",
    "    distance = 0\n",
    "    for p_i,q_i in zip(p,q):\n",
    "        distance += abs(p_i - q_i)\n",
    "    \n",
    "    return distance"
   ]
  },
  {
   "cell_type": "code",
   "execution_count": 5,
   "metadata": {},
   "outputs": [
    {
     "name": "stdout",
     "output_type": "stream",
     "text": [
      "sensor_x:Sensor at x=3844106, sensr_y: y=3888618\n",
      "sensor_x:Sensor at x=3844106, sensr_y: y=3888618\n",
      "sensor_x:Sensor at x=1380352, sensr_y: y=1857923\n",
      "sensor_x:Sensor at x=1380352, sensr_y: y=1857923\n",
      "sensor_x:Sensor at x=272, sensr_y: y=1998931\n",
      "sensor_x:Sensor at x=272, sensr_y: y=1998931\n",
      "sensor_x:Sensor at x=2119959, sensr_y: y=184595\n",
      "sensor_x:Sensor at x=2119959, sensr_y: y=184595\n",
      "sensor_x:Sensor at x=1675775, sensr_y: y=2817868\n",
      "sensor_x:Sensor at x=1675775, sensr_y: y=2817868\n",
      "sensor_x:Sensor at x=2628344, sensr_y: y=2174105\n",
      "sensor_x:Sensor at x=2628344, sensr_y: y=2174105\n",
      "sensor_x:Sensor at x=2919046, sensr_y: y=3736158\n",
      "sensor_x:Sensor at x=2919046, sensr_y: y=3736158\n",
      "sensor_x:Sensor at x=16, sensr_y: y=2009884\n",
      "sensor_x:Sensor at x=16, sensr_y: y=2009884\n",
      "sensor_x:Sensor at x=2504789, sensr_y: y=3988246\n",
      "sensor_x:Sensor at x=2504789, sensr_y: y=3988246\n",
      "sensor_x:Sensor at x=2861842, sensr_y: y=2428768\n",
      "sensor_x:Sensor at x=2861842, sensr_y: y=2428768\n",
      "sensor_x:Sensor at x=3361207, sensr_y: y=130612\n",
      "sensor_x:Sensor at x=3361207, sensr_y: y=130612\n",
      "sensor_x:Sensor at x=831856, sensr_y: y=591484\n",
      "sensor_x:Sensor at x=831856, sensr_y: y=591484\n",
      "sensor_x:Sensor at x=3125600, sensr_y: y=1745424\n",
      "sensor_x:Sensor at x=3125600, sensr_y: y=1745424\n",
      "sensor_x:Sensor at x=21581, sensr_y: y=3243480\n",
      "sensor_x:Sensor at x=21581, sensr_y: y=3243480\n",
      "sensor_x:Sensor at x=2757890, sensr_y: y=3187285\n",
      "sensor_x:Sensor at x=2757890, sensr_y: y=3187285\n",
      "sensor_x:Sensor at x=3849488, sensr_y: y=2414083\n",
      "sensor_x:Sensor at x=3849488, sensr_y: y=2414083\n",
      "sensor_x:Sensor at x=3862221, sensr_y: y=757146\n",
      "sensor_x:Sensor at x=3862221, sensr_y: y=757146\n",
      "sensor_x:Sensor at x=3558604, sensr_y: y=2961030\n",
      "sensor_x:Sensor at x=3558604, sensr_y: y=2961030\n",
      "sensor_x:Sensor at x=3995832, sensr_y: y=1706663\n",
      "sensor_x:Sensor at x=3995832, sensr_y: y=1706663\n",
      "sensor_x:Sensor at x=1082213, sensr_y: y=3708082\n",
      "sensor_x:Sensor at x=1082213, sensr_y: y=3708082\n",
      "sensor_x:Sensor at x=135817, sensr_y: y=1427041\n",
      "sensor_x:Sensor at x=135817, sensr_y: y=1427041\n",
      "sensor_x:Sensor at x=2467372, sensr_y: y=697908\n",
      "sensor_x:Sensor at x=2467372, sensr_y: y=697908\n",
      "sensor_x:Sensor at x=3448383, sensr_y: y=3674287\n",
      "sensor_x:Sensor at x=3448383, sensr_y: y=3674287\n"
     ]
    }
   ],
   "source": [
    "sensors_beacons = []\n",
    "import re\n",
    "for line0 in lines:\n",
    "    if len(line0)>0:\n",
    "        sensorestr, beaconstr = line0.split(':')\n",
    "\n",
    "        sensor_x, sensor_y = sensorestr.split(',')\n",
    "        print(f\"sensor_x:{sensor_x}, sensr_y:{sensor_y}\")\n",
    "\n",
    "        sensor_x0 = int(sensor_x[sensor_x.find('x=')+2 : ])\n",
    "        sensor_y0 = int(sensor_y[sensor_y.find('y=')+2 : ])\n",
    "\n",
    "        beacon_x , beacon_y = beaconstr.split(',')\n",
    "        print(f\"sensor_x:{sensor_x}, sensr_y:{sensor_y}\")\n",
    "        beacon_x0 = int(beacon_x[beacon_x.find('x=')+2 : ])\n",
    "        beacon_y0 = int(beacon_y[beacon_y.find('y=')+2 : ])\n",
    "\n",
    "        s = (sensor_x0, sensor_y0)\n",
    "        b = (beacon_x0, beacon_y0)\n",
    "\n",
    "        d = get_manhattan_distance(s,b)\n",
    "        sensors_beacons.append( ( s , b, d ) )"
   ]
  },
  {
   "cell_type": "code",
   "execution_count": 6,
   "metadata": {},
   "outputs": [
    {
     "data": {
      "text/plain": [
       "[((3844106, 3888618), (3225436, 4052707), 782759),\n",
       " ((1380352, 1857923), (10411, 2000000), 1512018),\n",
       " ((272, 1998931), (10411, 2000000), 11208),\n",
       " ((2119959, 184595), (2039500, -250317), 515371),\n",
       " ((1675775, 2817868), (2307516, 3313037), 1126910),\n",
       " ((2628344, 2174105), (3166783, 2549046), 913380),\n",
       " ((2919046, 3736158), (3145593, 4120490), 610879),\n",
       " ((16, 2009884), (10411, 2000000), 20279),\n",
       " ((2504789, 3988246), (3145593, 4120490), 773048),\n",
       " ((2861842, 2428768), (3166783, 2549046), 425219),\n",
       " ((3361207, 130612), (2039500, -250317), 1702636),\n",
       " ((831856, 591484), (-175938, 1260620), 1676930),\n",
       " ((3125600, 1745424), (3166783, 2549046), 844805),\n",
       " ((21581, 3243480), (10411, 2000000), 1254650),\n",
       " ((2757890, 3187285), (2307516, 3313037), 576126),\n",
       " ((3849488, 2414083), (3166783, 2549046), 817668),\n",
       " ((3862221, 757146), (4552923, 1057347), 990903),\n",
       " ((3558604, 2961030), (3166783, 2549046), 803805),\n",
       " ((3995832, 1706663), (4552923, 1057347), 1206407),\n",
       " ((1082213, 3708082), (2307516, 3313037), 1620348),\n",
       " ((135817, 1427041), (-175938, 1260620), 478176),\n",
       " ((2467372, 697908), (2039500, -250317), 1376097),\n",
       " ((3448383, 3674287), (3225436, 4052707), 601367)]"
      ]
     },
     "execution_count": 6,
     "metadata": {},
     "output_type": "execute_result"
    }
   ],
   "source": [
    "sensors_beacons"
   ]
  },
  {
   "cell_type": "code",
   "execution_count": 7,
   "metadata": {},
   "outputs": [
    {
     "data": {
      "text/plain": [
       "(-1233069, 5202239, -1572024, 5328430)"
      ]
     },
     "execution_count": 7,
     "metadata": {},
     "output_type": "execute_result"
    }
   ],
   "source": [
    "#Get minimums and maximums, both on sensors and considering beacons distances to calculate maximums\n",
    "xmin, xmax, ymin, ymax = 0,0,0,0\n",
    "for i, sbd in enumerate(sensors_beacons):\n",
    "    s, b, d = sbd\n",
    "    sx, sy = s\n",
    "    bx,by = b\n",
    "\n",
    "    x0 = sx-d\n",
    "    x1 = sx+d\n",
    "    y0 = sy-d\n",
    "    y1 = sy+d\n",
    "\n",
    "    if i==0:\n",
    "        xmin = x0\n",
    "        xmax = x1\n",
    "        ymin = y0\n",
    "        ymax = y1\n",
    "    else:\n",
    "        xmin = min(x0,xmin)\n",
    "        xmax = max(x1,xmax)\n",
    "        ymin = min(y0,ymin)\n",
    "        ymax = max(y1,ymax)\n",
    "\n",
    "xmin, xmax, ymin, ymax"
   ]
  },
  {
   "attachments": {},
   "cell_type": "markdown",
   "metadata": {},
   "source": [
    "# Generate area based in instructions\n",
    "\n",
    "Remember to reference points using xmin and ymin"
   ]
  },
  {
   "cell_type": "code",
   "execution_count": 8,
   "metadata": {},
   "outputs": [],
   "source": [
    "x_values = np.arange(xmin,xmax+1)\n",
    "y_value = y_check"
   ]
  },
  {
   "cell_type": "code",
   "execution_count": 9,
   "metadata": {},
   "outputs": [],
   "source": [
    "SENSOR=1\n",
    "BEACON=2\n",
    "COVERED=3"
   ]
  },
  {
   "cell_type": "code",
   "execution_count": 10,
   "metadata": {},
   "outputs": [],
   "source": [
    "def manh_dist_np(y_np, x_np, y0, x0):\n",
    "    dist = np.abs(x_np-x0)+np.abs(y_np-y0)\n",
    "    return dist"
   ]
  },
  {
   "cell_type": "code",
   "execution_count": 11,
   "metadata": {},
   "outputs": [],
   "source": [
    "area_coverage = np.zeros_like(x_values)\n",
    "for sbd in sensors_beacons:\n",
    "    s, b,d = sbd\n",
    "    \n",
    "    sx, sy = s\n",
    "    bx,by = b\n",
    "\n",
    "    #Cover with sensors\n",
    "    d_to_sensor = manh_dist_np(y_value,x_values, sy,sx)\n",
    "    area_coverage = np.where( d_to_sensor<=d, COVERED, area_coverage)"
   ]
  },
  {
   "cell_type": "code",
   "execution_count": 12,
   "metadata": {},
   "outputs": [
    {
     "data": {
      "text/plain": [
       "[<matplotlib.lines.Line2D at 0x1e5437e1cd0>]"
      ]
     },
     "execution_count": 12,
     "metadata": {},
     "output_type": "execute_result"
    },
    {
     "data": {
      "image/png": "[encoded data removed]",
      "text/plain": [
       "<Figure size 640x480 with 1 Axes>"
      ]
     },
     "metadata": {},
     "output_type": "display_data"
    }
   ],
   "source": [
    "plt.plot(x_values, area_coverage)"
   ]
  },
  {
   "cell_type": "code",
   "execution_count": 13,
   "metadata": {},
   "outputs": [],
   "source": [
    "area = np.array(area_coverage)\n",
    "for sbd in sensors_beacons:\n",
    "    s, b,d = sbd\n",
    "    \n",
    "    sx, sy = s\n",
    "    bx,by = b\n",
    "    \n",
    "    if sy==y_value:\n",
    "        area = np.where( x_values==sx, SENSOR, area)\n",
    "\n",
    "    if by==y_value:\n",
    "        area = np.where( x_values==bx, BEACON, area)\n"
   ]
  },
  {
   "cell_type": "code",
   "execution_count": 14,
   "metadata": {},
   "outputs": [
    {
     "data": {
      "text/plain": [
       "[<matplotlib.lines.Line2D at 0x1e5440c9220>]"
      ]
     },
     "execution_count": 14,
     "metadata": {},
     "output_type": "execute_result"
    },
    {
     "data": {
      "image/png": "[encoded data removed]",
      "text/plain": [
       "<Figure size 640x480 with 1 Axes>"
      ]
     },
     "metadata": {},
     "output_type": "display_data"
    }
   ],
   "source": [
    "plt.plot(x_values, area)"
   ]
  },
  {
   "cell_type": "code",
   "execution_count": 15,
   "metadata": {},
   "outputs": [],
   "source": [
    "non_valid_beacon_locations = np.logical_and(area==COVERED, area!=BEACON)"
   ]
  },
  {
   "cell_type": "code",
   "execution_count": 16,
   "metadata": {},
   "outputs": [
    {
     "data": {
      "text/plain": [
       "[<matplotlib.lines.Line2D at 0x1e543eee400>]"
      ]
     },
     "execution_count": 16,
     "metadata": {},
     "output_type": "execute_result"
    },
    {
     "data": {
      "image/png": "[encoded data removed]",
      "text/plain": [
       "<Figure size 640x480 with 1 Axes>"
      ]
     },
     "metadata": {},
     "output_type": "display_data"
    }
   ],
   "source": [
    "plt.plot(x_values, non_valid_beacon_locations)"
   ]
  },
  {
   "cell_type": "code",
   "execution_count": 17,
   "metadata": {},
   "outputs": [
    {
     "data": {
      "text/plain": [
       "4919281"
      ]
     },
     "execution_count": 17,
     "metadata": {},
     "output_type": "execute_result"
    }
   ],
   "source": [
    "np.sum(non_valid_beacon_locations)"
   ]
  },
  {
   "attachments": {},
   "cell_type": "markdown",
   "metadata": {},
   "source": [
    "OK"
   ]
  },
  {
   "cell_type": "code",
   "execution_count": null,
   "metadata": {},
   "outputs": [],
   "source": []
  }
 ],
 "metadata": {
  "kernelspec": {
   "display_name": "dev",
   "language": "python",
   "name": "python3"
  },
  "language_info": {
   "codemirror_mode": {
    "name": "ipython",
    "version": 3
   },
   "file_extension": ".py",
   "mimetype": "text/x-python",
   "name": "python",
   "nbconvert_exporter": "python",
   "pygments_lexer": "ipython3",
   "version": "3.8.13"
  },
  "orig_nbformat": 4,
  "vscode": {
   "interpreter": {
    "hash": "ae9318eca6f153166416f971f14e35a175773b3b30438ae2aa8538d9aa021541"
   }
  }
 },
 "nbformat": 4,
 "nbformat_minor": 2
}
