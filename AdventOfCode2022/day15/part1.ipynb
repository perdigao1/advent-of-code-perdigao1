{
 "cells": [
  {
   "cell_type": "code",
   "execution_count": 1,
   "metadata": {},
   "outputs": [],
   "source": [
    "import numpy as np\n",
    "import matplotlib.pyplot as plt"
   ]
  },
  {
   "cell_type": "code",
   "execution_count": 2,
   "metadata": {},
   "outputs": [],
   "source": [
    "filename, y_check = \"input_test.txt\", 10\n",
    "#filename, y_check = \"input.txt\", 2000000 #Fails if trying to use meshgrids"
   ]
  },
  {
   "cell_type": "code",
   "execution_count": 3,
   "metadata": {},
   "outputs": [],
   "source": [
    "with open(filename) as f:\n",
    "    lines = f.read().split('\\n')\n",
    "    lines = [l0.strip() for l0 in lines]"
   ]
  },
  {
   "cell_type": "code",
   "execution_count": 4,
   "metadata": {},
   "outputs": [],
   "source": [
    "#lines"
   ]
  },
  {
   "cell_type": "code",
   "execution_count": 5,
   "metadata": {},
   "outputs": [],
   "source": [
    "def get_manhattan_distance(p, q):\n",
    "    \"\"\" \n",
    "    Return the manhattan distance between points p and q\n",
    "    assuming both to have the same number of dimensions\n",
    "    \"\"\"\n",
    "    # sum of absolute difference between coordinates\n",
    "    distance = 0\n",
    "    for p_i,q_i in zip(p,q):\n",
    "        distance += abs(p_i - q_i)\n",
    "    \n",
    "    return distance"
   ]
  },
  {
   "cell_type": "code",
   "execution_count": 6,
   "metadata": {},
   "outputs": [
    {
     "name": "stdout",
     "output_type": "stream",
     "text": [
      "sensor_x:Sensor at x=2, sensr_y: y=18\n",
      "sensor_x:Sensor at x=2, sensr_y: y=18\n",
      "sensor_x:Sensor at x=9, sensr_y: y=16\n",
      "sensor_x:Sensor at x=9, sensr_y: y=16\n",
      "sensor_x:Sensor at x=13, sensr_y: y=2\n",
      "sensor_x:Sensor at x=13, sensr_y: y=2\n",
      "sensor_x:Sensor at x=12, sensr_y: y=14\n",
      "sensor_x:Sensor at x=12, sensr_y: y=14\n",
      "sensor_x:Sensor at x=10, sensr_y: y=20\n",
      "sensor_x:Sensor at x=10, sensr_y: y=20\n",
      "sensor_x:Sensor at x=14, sensr_y: y=17\n",
      "sensor_x:Sensor at x=14, sensr_y: y=17\n",
      "sensor_x:Sensor at x=8, sensr_y: y=7\n",
      "sensor_x:Sensor at x=8, sensr_y: y=7\n",
      "sensor_x:Sensor at x=2, sensr_y: y=0\n",
      "sensor_x:Sensor at x=2, sensr_y: y=0\n",
      "sensor_x:Sensor at x=0, sensr_y: y=11\n",
      "sensor_x:Sensor at x=0, sensr_y: y=11\n",
      "sensor_x:Sensor at x=20, sensr_y: y=14\n",
      "sensor_x:Sensor at x=20, sensr_y: y=14\n",
      "sensor_x:Sensor at x=17, sensr_y: y=20\n",
      "sensor_x:Sensor at x=17, sensr_y: y=20\n",
      "sensor_x:Sensor at x=16, sensr_y: y=7\n",
      "sensor_x:Sensor at x=16, sensr_y: y=7\n",
      "sensor_x:Sensor at x=14, sensr_y: y=3\n",
      "sensor_x:Sensor at x=14, sensr_y: y=3\n",
      "sensor_x:Sensor at x=20, sensr_y: y=1\n",
      "sensor_x:Sensor at x=20, sensr_y: y=1\n"
     ]
    }
   ],
   "source": [
    "sensors_beacons = []\n",
    "import re\n",
    "for line0 in lines:\n",
    "    if len(line0)>0:\n",
    "        sensorestr, beaconstr = line0.split(':')\n",
    "\n",
    "        sensor_x, sensor_y = sensorestr.split(',')\n",
    "        print(f\"sensor_x:{sensor_x}, sensr_y:{sensor_y}\")\n",
    "\n",
    "        sensor_x0 = int(sensor_x[sensor_x.find('x=')+2 : ])\n",
    "        sensor_y0 = int(sensor_y[sensor_y.find('y=')+2 : ])\n",
    "\n",
    "        beacon_x , beacon_y = beaconstr.split(',')\n",
    "        print(f\"sensor_x:{sensor_x}, sensr_y:{sensor_y}\")\n",
    "        beacon_x0 = int(beacon_x[beacon_x.find('x=')+2 : ])\n",
    "        beacon_y0 = int(beacon_y[beacon_y.find('y=')+2 : ])\n",
    "\n",
    "        s = (sensor_x0, sensor_y0)\n",
    "        b = (beacon_x0, beacon_y0)\n",
    "\n",
    "        d = get_manhattan_distance(s,b)\n",
    "        sensors_beacons.append( ( s , b, d ) )"
   ]
  },
  {
   "cell_type": "code",
   "execution_count": 7,
   "metadata": {},
   "outputs": [
    {
     "data": {
      "text/plain": [
       "[((2, 18), (-2, 15), 7),\n",
       " ((9, 16), (10, 16), 1),\n",
       " ((13, 2), (15, 3), 3),\n",
       " ((12, 14), (10, 16), 4),\n",
       " ((10, 20), (10, 16), 4),\n",
       " ((14, 17), (10, 16), 5),\n",
       " ((8, 7), (2, 10), 9),\n",
       " ((2, 0), (2, 10), 10),\n",
       " ((0, 11), (2, 10), 3),\n",
       " ((20, 14), (25, 17), 8),\n",
       " ((17, 20), (21, 22), 6),\n",
       " ((16, 7), (15, 3), 5),\n",
       " ((14, 3), (15, 3), 1),\n",
       " ((20, 1), (15, 3), 7)]"
      ]
     },
     "execution_count": 7,
     "metadata": {},
     "output_type": "execute_result"
    }
   ],
   "source": [
    "sensors_beacons"
   ]
  },
  {
   "cell_type": "code",
   "execution_count": 8,
   "metadata": {},
   "outputs": [
    {
     "data": {
      "text/plain": [
       "(-8, 28, -10, 26)"
      ]
     },
     "execution_count": 8,
     "metadata": {},
     "output_type": "execute_result"
    }
   ],
   "source": [
    "#Get minimums and maximums, both on sensors and considering beacons distances to calculate maximums\n",
    "xmin, xmax, ymin, ymax = 0,0,0,0\n",
    "for i, sbd in enumerate(sensors_beacons):\n",
    "    s, b, d = sbd\n",
    "    sx, sy = s\n",
    "    bx,by = b\n",
    "\n",
    "    x0 = sx-d\n",
    "    x1 = sx+d\n",
    "    y0 = sy-d\n",
    "    y1 = sy+d\n",
    "\n",
    "    if i==0:\n",
    "        xmin = x0\n",
    "        xmax = x1\n",
    "        ymin = y0\n",
    "        ymax = y1\n",
    "    else:\n",
    "        xmin = min(x0,xmin)\n",
    "        xmax = max(x1,xmax)\n",
    "        ymin = min(y0,ymin)\n",
    "        ymax = max(y1,ymax)\n",
    "\n",
    "xmin, xmax, ymin, ymax"
   ]
  },
  {
   "attachments": {},
   "cell_type": "markdown",
   "metadata": {},
   "source": [
    "# Generate area based in instructions\n",
    "\n",
    "Remember to reference points using xmin and ymin"
   ]
  },
  {
   "cell_type": "code",
   "execution_count": 9,
   "metadata": {},
   "outputs": [],
   "source": [
    "x_values = np.arange(xmin,xmax+1)\n",
    "y_values = np.arange(ymin,ymax+1)"
   ]
  },
  {
   "cell_type": "code",
   "execution_count": 10,
   "metadata": {},
   "outputs": [],
   "source": [
    "x_mg, y_mg = np.meshgrid(x_values, y_values)"
   ]
  },
  {
   "cell_type": "code",
   "execution_count": 11,
   "metadata": {},
   "outputs": [
    {
     "data": {
      "text/plain": [
       "array([[-10, -10, -10, ..., -10, -10, -10],\n",
       "       [ -9,  -9,  -9, ...,  -9,  -9,  -9],\n",
       "       [ -8,  -8,  -8, ...,  -8,  -8,  -8],\n",
       "       ...,\n",
       "       [ 24,  24,  24, ...,  24,  24,  24],\n",
       "       [ 25,  25,  25, ...,  25,  25,  25],\n",
       "       [ 26,  26,  26, ...,  26,  26,  26]])"
      ]
     },
     "execution_count": 11,
     "metadata": {},
     "output_type": "execute_result"
    }
   ],
   "source": [
    "y_mg"
   ]
  },
  {
   "cell_type": "code",
   "execution_count": 12,
   "metadata": {},
   "outputs": [
    {
     "data": {
      "text/plain": [
       "array([[-8, -7, -6, ..., 26, 27, 28],\n",
       "       [-8, -7, -6, ..., 26, 27, 28],\n",
       "       [-8, -7, -6, ..., 26, 27, 28],\n",
       "       ...,\n",
       "       [-8, -7, -6, ..., 26, 27, 28],\n",
       "       [-8, -7, -6, ..., 26, 27, 28],\n",
       "       [-8, -7, -6, ..., 26, 27, 28]])"
      ]
     },
     "execution_count": 12,
     "metadata": {},
     "output_type": "execute_result"
    }
   ],
   "source": [
    "x_mg"
   ]
  },
  {
   "cell_type": "code",
   "execution_count": 13,
   "metadata": {},
   "outputs": [],
   "source": [
    "SENSOR=1\n",
    "BEACON=2\n",
    "COVERED=3"
   ]
  },
  {
   "cell_type": "code",
   "execution_count": 14,
   "metadata": {},
   "outputs": [],
   "source": [
    "#sensors_beacons[0]"
   ]
  },
  {
   "cell_type": "code",
   "execution_count": 15,
   "metadata": {},
   "outputs": [],
   "source": [
    "#Test\n",
    "#np.logical_and( y_mg==18,  x_mg==2)"
   ]
  },
  {
   "cell_type": "code",
   "execution_count": 16,
   "metadata": {},
   "outputs": [],
   "source": [
    "def manh_dist_np(y_np, x_np, y0, x0):\n",
    "    dist = np.abs(x_np-x0)+np.abs(y_np-y0)\n",
    "    return dist"
   ]
  },
  {
   "cell_type": "code",
   "execution_count": 17,
   "metadata": {},
   "outputs": [],
   "source": [
    "#test\n",
    "#test0= manh_dist_np(y_mg,x_mg, 16,2)\n",
    "#test0"
   ]
  },
  {
   "cell_type": "code",
   "execution_count": 18,
   "metadata": {},
   "outputs": [],
   "source": [
    "#plt.pcolormesh(x_mg,y_mg, test0)"
   ]
  },
  {
   "cell_type": "code",
   "execution_count": 19,
   "metadata": {},
   "outputs": [],
   "source": [
    "area_coverage = np.zeros_like(y_mg)\n",
    "for sbd in sensors_beacons:\n",
    "    s, b,d = sbd\n",
    "    \n",
    "    sx, sy = s\n",
    "    bx,by = b\n",
    "\n",
    "    #Cover with sensors\n",
    "    d_to_sensor = manh_dist_np(y_mg,x_mg, sy,sx)\n",
    "    area_coverage = np.where( d_to_sensor<=d, COVERED, area_coverage)\n"
   ]
  },
  {
   "cell_type": "code",
   "execution_count": 20,
   "metadata": {},
   "outputs": [
    {
     "data": {
      "text/plain": [
       "<matplotlib.collections.QuadMesh at 0x183a1f246a0>"
      ]
     },
     "execution_count": 20,
     "metadata": {},
     "output_type": "execute_result"
    },
    {
     "data": {
      "image/png": "[encoded data removed]",
      "text/plain": [
       "<Figure size 640x480 with 1 Axes>"
      ]
     },
     "metadata": {},
     "output_type": "display_data"
    }
   ],
   "source": [
    "plt.pcolormesh(x_mg,y_mg, area_coverage)"
   ]
  },
  {
   "cell_type": "code",
   "execution_count": 21,
   "metadata": {},
   "outputs": [],
   "source": [
    "area = np.array(area_coverage)\n",
    "for sbd in sensors_beacons:\n",
    "    s, b,d = sbd\n",
    "    \n",
    "    sx, sy = s\n",
    "    bx,by = b\n",
    "    #print(f\" sx,sy= {sx},{sy}  , bx,by= {bx},{by}\")\n",
    "    #area +=  np.logical_and( y_mg==sy,  x_mg==sx) * SENSOR\n",
    "    area = np.where( np.logical_and( y_mg==sy,  x_mg==sx), SENSOR, area)\n",
    "\n",
    "    #area += np.logical_and( y_mg==by,  x_mg==bx) * BEACON\n",
    "    area = np.where( np.logical_and( y_mg==by,  x_mg==bx), BEACON, area)\n"
   ]
  },
  {
   "cell_type": "code",
   "execution_count": 22,
   "metadata": {},
   "outputs": [
    {
     "data": {
      "text/plain": [
       "<matplotlib.collections.QuadMesh at 0x183a2817160>"
      ]
     },
     "execution_count": 22,
     "metadata": {},
     "output_type": "execute_result"
    },
    {
     "data": {
      "image/png": "[encoded data removed]",
      "text/plain": [
       "<Figure size 640x480 with 1 Axes>"
      ]
     },
     "metadata": {},
     "output_type": "display_data"
    }
   ],
   "source": [
    "plt.pcolormesh(x_mg,y_mg, area)"
   ]
  },
  {
   "cell_type": "code",
   "execution_count": 23,
   "metadata": {},
   "outputs": [],
   "source": [
    "non_valid_beacon_locations = np.logical_and(area==COVERED, area!=BEACON)"
   ]
  },
  {
   "cell_type": "code",
   "execution_count": 24,
   "metadata": {},
   "outputs": [
    {
     "data": {
      "text/plain": [
       "<matplotlib.collections.QuadMesh at 0x183a2642cd0>"
      ]
     },
     "execution_count": 24,
     "metadata": {},
     "output_type": "execute_result"
    },
    {
     "data": {
      "image/png": "[encoded data removed]",
      "text/plain": [
       "<Figure size 640x480 with 1 Axes>"
      ]
     },
     "metadata": {},
     "output_type": "display_data"
    }
   ],
   "source": [
    "plt.pcolormesh(x_mg,y_mg, non_valid_beacon_locations)"
   ]
  },
  {
   "cell_type": "code",
   "execution_count": 25,
   "metadata": {},
   "outputs": [],
   "source": [
    "#plt.pcolormesh(x_mg,y_mg, np.logical_and( y_mg==y_check , non_valid_beacon_locations ))"
   ]
  },
  {
   "cell_type": "code",
   "execution_count": 26,
   "metadata": {},
   "outputs": [
    {
     "data": {
      "text/plain": [
       "26"
      ]
     },
     "execution_count": 26,
     "metadata": {},
     "output_type": "execute_result"
    }
   ],
   "source": [
    "np.sum( np.logical_and( y_mg==y_check , non_valid_beacon_locations ))"
   ]
  },
  {
   "attachments": {},
   "cell_type": "markdown",
   "metadata": {},
   "source": [
    "OK"
   ]
  },
  {
   "cell_type": "code",
   "execution_count": null,
   "metadata": {},
   "outputs": [],
   "source": []
  }
 ],
 "metadata": {
  "kernelspec": {
   "display_name": "dev",
   "language": "python",
   "name": "python3"
  },
  "language_info": {
   "codemirror_mode": {
    "name": "ipython",
    "version": 3
   },
   "file_extension": ".py",
   "mimetype": "text/x-python",
   "name": "python",
   "nbconvert_exporter": "python",
   "pygments_lexer": "ipython3",
   "version": "3.8.13"
  },
  "orig_nbformat": 4,
  "vscode": {
   "interpreter": {
    "hash": "ae9318eca6f153166416f971f14e35a175773b3b30438ae2aa8538d9aa021541"
   }
  }
 },
 "nbformat": 4,
 "nbformat_minor": 2
}
