{
 "cells": [
  {
   "attachments": {},
   "cell_type": "markdown",
   "metadata": {},
   "source": [
    "x area and y areas fixed from zero to 4000000"
   ]
  },
  {
   "cell_type": "code",
   "execution_count": 1,
   "metadata": {},
   "outputs": [],
   "source": [
    "import numpy as np\n",
    "import matplotlib.pyplot as plt"
   ]
  },
  {
   "cell_type": "code",
   "execution_count": 2,
   "metadata": {},
   "outputs": [],
   "source": [
    "#filename, maxval= \"input_test.txt\", 20\n",
    "filename, maxval = \"input.txt\", 4000000 #Fails if trying to use meshgrids"
   ]
  },
  {
   "cell_type": "code",
   "execution_count": 3,
   "metadata": {},
   "outputs": [],
   "source": [
    "with open(filename) as f:\n",
    "    lines = f.read().split('\\n')\n",
    "    lines = [l0.strip() for l0 in lines]"
   ]
  },
  {
   "cell_type": "code",
   "execution_count": 4,
   "metadata": {},
   "outputs": [],
   "source": [
    "#lines"
   ]
  },
  {
   "cell_type": "code",
   "execution_count": 5,
   "metadata": {},
   "outputs": [],
   "source": [
    "def get_manhattan_distance(p, q):\n",
    "    \"\"\" \n",
    "    Return the manhattan distance between points p and q\n",
    "    assuming both to have the same number of dimensions\n",
    "    \"\"\"\n",
    "    # sum of absolute difference between coordinates\n",
    "    distance = 0\n",
    "    for p_i,q_i in zip(p,q):\n",
    "        distance += abs(p_i - q_i)\n",
    "    \n",
    "    return distance"
   ]
  },
  {
   "cell_type": "code",
   "execution_count": 6,
   "metadata": {},
   "outputs": [
    {
     "name": "stdout",
     "output_type": "stream",
     "text": [
      "sensor_x:Sensor at x=3844106, sensr_y: y=3888618\n",
      "sensor_x:Sensor at x=3844106, sensr_y: y=3888618\n",
      "sensor_x:Sensor at x=1380352, sensr_y: y=1857923\n",
      "sensor_x:Sensor at x=1380352, sensr_y: y=1857923\n",
      "sensor_x:Sensor at x=272, sensr_y: y=1998931\n",
      "sensor_x:Sensor at x=272, sensr_y: y=1998931\n",
      "sensor_x:Sensor at x=2119959, sensr_y: y=184595\n",
      "sensor_x:Sensor at x=2119959, sensr_y: y=184595\n",
      "sensor_x:Sensor at x=1675775, sensr_y: y=2817868\n",
      "sensor_x:Sensor at x=1675775, sensr_y: y=2817868\n",
      "sensor_x:Sensor at x=2628344, sensr_y: y=2174105\n",
      "sensor_x:Sensor at x=2628344, sensr_y: y=2174105\n",
      "sensor_x:Sensor at x=2919046, sensr_y: y=3736158\n",
      "sensor_x:Sensor at x=2919046, sensr_y: y=3736158\n",
      "sensor_x:Sensor at x=16, sensr_y: y=2009884\n",
      "sensor_x:Sensor at x=16, sensr_y: y=2009884\n",
      "sensor_x:Sensor at x=2504789, sensr_y: y=3988246\n",
      "sensor_x:Sensor at x=2504789, sensr_y: y=3988246\n",
      "sensor_x:Sensor at x=2861842, sensr_y: y=2428768\n",
      "sensor_x:Sensor at x=2861842, sensr_y: y=2428768\n",
      "sensor_x:Sensor at x=3361207, sensr_y: y=130612\n",
      "sensor_x:Sensor at x=3361207, sensr_y: y=130612\n",
      "sensor_x:Sensor at x=831856, sensr_y: y=591484\n",
      "sensor_x:Sensor at x=831856, sensr_y: y=591484\n",
      "sensor_x:Sensor at x=3125600, sensr_y: y=1745424\n",
      "sensor_x:Sensor at x=3125600, sensr_y: y=1745424\n",
      "sensor_x:Sensor at x=21581, sensr_y: y=3243480\n",
      "sensor_x:Sensor at x=21581, sensr_y: y=3243480\n",
      "sensor_x:Sensor at x=2757890, sensr_y: y=3187285\n",
      "sensor_x:Sensor at x=2757890, sensr_y: y=3187285\n",
      "sensor_x:Sensor at x=3849488, sensr_y: y=2414083\n",
      "sensor_x:Sensor at x=3849488, sensr_y: y=2414083\n",
      "sensor_x:Sensor at x=3862221, sensr_y: y=757146\n",
      "sensor_x:Sensor at x=3862221, sensr_y: y=757146\n",
      "sensor_x:Sensor at x=3558604, sensr_y: y=2961030\n",
      "sensor_x:Sensor at x=3558604, sensr_y: y=2961030\n",
      "sensor_x:Sensor at x=3995832, sensr_y: y=1706663\n",
      "sensor_x:Sensor at x=3995832, sensr_y: y=1706663\n",
      "sensor_x:Sensor at x=1082213, sensr_y: y=3708082\n",
      "sensor_x:Sensor at x=1082213, sensr_y: y=3708082\n",
      "sensor_x:Sensor at x=135817, sensr_y: y=1427041\n",
      "sensor_x:Sensor at x=135817, sensr_y: y=1427041\n",
      "sensor_x:Sensor at x=2467372, sensr_y: y=697908\n",
      "sensor_x:Sensor at x=2467372, sensr_y: y=697908\n",
      "sensor_x:Sensor at x=3448383, sensr_y: y=3674287\n",
      "sensor_x:Sensor at x=3448383, sensr_y: y=3674287\n"
     ]
    }
   ],
   "source": [
    "sensors_beacons = []\n",
    "import re\n",
    "for line0 in lines:\n",
    "    if len(line0)>0:\n",
    "        sensorestr, beaconstr = line0.split(':')\n",
    "\n",
    "        sensor_x, sensor_y = sensorestr.split(',')\n",
    "        print(f\"sensor_x:{sensor_x}, sensr_y:{sensor_y}\")\n",
    "\n",
    "        sensor_x0 = int(sensor_x[sensor_x.find('x=')+2 : ])\n",
    "        sensor_y0 = int(sensor_y[sensor_y.find('y=')+2 : ])\n",
    "\n",
    "        beacon_x , beacon_y = beaconstr.split(',')\n",
    "        print(f\"sensor_x:{sensor_x}, sensr_y:{sensor_y}\")\n",
    "        beacon_x0 = int(beacon_x[beacon_x.find('x=')+2 : ])\n",
    "        beacon_y0 = int(beacon_y[beacon_y.find('y=')+2 : ])\n",
    "\n",
    "        s = (sensor_x0, sensor_y0)\n",
    "        b = (beacon_x0, beacon_y0)\n",
    "\n",
    "        d = get_manhattan_distance(s,b)\n",
    "        sensors_beacons.append( ( s , b, d ) )"
   ]
  },
  {
   "cell_type": "code",
   "execution_count": 7,
   "metadata": {},
   "outputs": [
    {
     "data": {
      "text/plain": [
       "[((3844106, 3888618), (3225436, 4052707), 782759),\n",
       " ((1380352, 1857923), (10411, 2000000), 1512018),\n",
       " ((272, 1998931), (10411, 2000000), 11208),\n",
       " ((2119959, 184595), (2039500, -250317), 515371),\n",
       " ((1675775, 2817868), (2307516, 3313037), 1126910),\n",
       " ((2628344, 2174105), (3166783, 2549046), 913380),\n",
       " ((2919046, 3736158), (3145593, 4120490), 610879),\n",
       " ((16, 2009884), (10411, 2000000), 20279),\n",
       " ((2504789, 3988246), (3145593, 4120490), 773048),\n",
       " ((2861842, 2428768), (3166783, 2549046), 425219),\n",
       " ((3361207, 130612), (2039500, -250317), 1702636),\n",
       " ((831856, 591484), (-175938, 1260620), 1676930),\n",
       " ((3125600, 1745424), (3166783, 2549046), 844805),\n",
       " ((21581, 3243480), (10411, 2000000), 1254650),\n",
       " ((2757890, 3187285), (2307516, 3313037), 576126),\n",
       " ((3849488, 2414083), (3166783, 2549046), 817668),\n",
       " ((3862221, 757146), (4552923, 1057347), 990903),\n",
       " ((3558604, 2961030), (3166783, 2549046), 803805),\n",
       " ((3995832, 1706663), (4552923, 1057347), 1206407),\n",
       " ((1082213, 3708082), (2307516, 3313037), 1620348),\n",
       " ((135817, 1427041), (-175938, 1260620), 478176),\n",
       " ((2467372, 697908), (2039500, -250317), 1376097),\n",
       " ((3448383, 3674287), (3225436, 4052707), 601367)]"
      ]
     },
     "execution_count": 7,
     "metadata": {},
     "output_type": "execute_result"
    }
   ],
   "source": [
    "sensors_beacons"
   ]
  },
  {
   "attachments": {},
   "cell_type": "markdown",
   "metadata": {},
   "source": [
    "Try to find pairs of sensors that their distance is +1 from their sum fo sensors distances"
   ]
  },
  {
   "cell_type": "code",
   "execution_count": 8,
   "metadata": {},
   "outputs": [
    {
     "name": "stdout",
     "output_type": "stream",
     "text": [
      "11\n",
      "10\n"
     ]
    }
   ],
   "source": [
    "print(get_manhattan_distance((12,14),(16,7)) )\n",
    "print( 4+5+1)"
   ]
  },
  {
   "cell_type": "code",
   "execution_count": 21,
   "metadata": {},
   "outputs": [],
   "source": [
    "pairs_sel=[]\n",
    "for i, sbd0 in enumerate(sensors_beacons):\n",
    "    s0,_, d0 = sbd0\n",
    "    for j in range(i+1, len(sensors_beacons)):\n",
    "        sbd1=sensors_beacons[j]\n",
    "        s1,_, d1 = sbd1\n",
    "\n",
    "        if get_manhattan_distance(s0,s1)== d0+d1+2 : #must be +2\n",
    "            pairs_sel.append((sbd0, sbd1))"
   ]
  },
  {
   "cell_type": "code",
   "execution_count": 22,
   "metadata": {},
   "outputs": [
    {
     "data": {
      "text/plain": [
       "[(((2919046, 3736158), (3145593, 4120490), 610879),\n",
       "  ((3558604, 2961030), (3166783, 2549046), 803805)),\n",
       " (((2757890, 3187285), (2307516, 3313037), 576126),\n",
       "  ((3448383, 3674287), (3225436, 4052707), 601367))]"
      ]
     },
     "execution_count": 22,
     "metadata": {},
     "output_type": "execute_result"
    }
   ],
   "source": [
    "pairs_sel"
   ]
  },
  {
   "attachments": {},
   "cell_type": "markdown",
   "metadata": {},
   "source": [
    "2 pairs of beacons!! Should be relatively easy to find the answer"
   ]
  },
  {
   "cell_type": "code",
   "execution_count": 24,
   "metadata": {},
   "outputs": [],
   "source": [
    "pair0 = pairs_sel[0]\n",
    "b0, b1 = pair0"
   ]
  },
  {
   "cell_type": "code",
   "execution_count": 25,
   "metadata": {},
   "outputs": [
    {
     "data": {
      "text/plain": [
       "((2919046, 3736158), (3145593, 4120490), 610879)"
      ]
     },
     "execution_count": 25,
     "metadata": {},
     "output_type": "execute_result"
    }
   ],
   "source": [
    "b0"
   ]
  },
  {
   "cell_type": "code",
   "execution_count": 26,
   "metadata": {},
   "outputs": [
    {
     "data": {
      "text/plain": [
       "((3558604, 2961030), (3166783, 2549046), 803805)"
      ]
     },
     "execution_count": 26,
     "metadata": {},
     "output_type": "execute_result"
    }
   ],
   "source": [
    "b1"
   ]
  },
  {
   "attachments": {},
   "cell_type": "markdown",
   "metadata": {},
   "source": [
    "Find orientation\n",
    "Which one is 45 degrees?"
   ]
  },
  {
   "cell_type": "code",
   "execution_count": 27,
   "metadata": {},
   "outputs": [
    {
     "data": {
      "text/plain": [
       "(639558, -775128)"
      ]
     },
     "execution_count": 27,
     "metadata": {},
     "output_type": "execute_result"
    }
   ],
   "source": [
    "vect1_0 = (b1[0][0] - b0[0][0] , b1[0][1] - b0[0][1])\n",
    "vect1_0"
   ]
  },
  {
   "attachments": {},
   "cell_type": "markdown",
   "metadata": {},
   "source": [
    "Pointing right downwards\n",
    "\n",
    "Between line equation should look like y = +x+c, c = y-x"
   ]
  },
  {
   "cell_type": "code",
   "execution_count": 38,
   "metadata": {},
   "outputs": [
    {
     "data": {
      "text/plain": [
       "206232"
      ]
     },
     "execution_count": 38,
     "metadata": {},
     "output_type": "execute_result"
    }
   ],
   "source": [
    "#Use the first beacon position (highest) to get the c value\n",
    "\n",
    "y0 = b0[0][1] - b0[2]-1\n",
    "x0 = b0[0][0]\n",
    "m1_0 = 1\n",
    "c1_0 = y0 - m1_0*x0\n",
    "\n",
    "c1_0"
   ]
  },
  {
   "attachments": {},
   "cell_type": "markdown",
   "metadata": {},
   "source": [
    "Second pair"
   ]
  },
  {
   "cell_type": "code",
   "execution_count": 33,
   "metadata": {},
   "outputs": [
    {
     "data": {
      "text/plain": [
       "(690493, 487002)"
      ]
     },
     "execution_count": 33,
     "metadata": {},
     "output_type": "execute_result"
    }
   ],
   "source": [
    "pair1 = pairs_sel[1]\n",
    "b2, b3 = pair1\n",
    "vect3_2 = (b3[0][0] - b2[0][0] , b3[0][1] - b2[0][1])\n",
    "vect3_2"
   ]
  },
  {
   "attachments": {},
   "cell_type": "markdown",
   "metadata": {},
   "source": [
    "Pointing right upwards\n",
    "\n",
    "Between line equation should look like y = -x+c, c = y+x, m3_2=-1"
   ]
  },
  {
   "cell_type": "code",
   "execution_count": 36,
   "metadata": {},
   "outputs": [
    {
     "data": {
      "text/plain": [
       "6521302"
      ]
     },
     "execution_count": 36,
     "metadata": {},
     "output_type": "execute_result"
    }
   ],
   "source": [
    "#Use the second beacon position (highest) to get the c value\n",
    "y1 = b3[0][1] - b3[2]-1\n",
    "x1 = b3[0][0]\n",
    "m3_2 = -1\n",
    "\n",
    "c3_2 = y1 - m3_2* x1\n",
    "\n",
    "c3_2"
   ]
  },
  {
   "attachments": {},
   "cell_type": "markdown",
   "metadata": {},
   "source": [
    "Now find where they intercept\n",
    "\n",
    "m1_0.x + c1_0 = m3_2.x + c3_2 <=> x = (c3_2- c1_0) / (m1_0-m3_2)"
   ]
  },
  {
   "cell_type": "code",
   "execution_count": 40,
   "metadata": {},
   "outputs": [
    {
     "data": {
      "text/plain": [
       "3157535.0"
      ]
     },
     "execution_count": 40,
     "metadata": {},
     "output_type": "execute_result"
    }
   ],
   "source": [
    "x_match = (c3_2- c1_0) / (m1_0-m3_2)\n",
    "x_match"
   ]
  },
  {
   "cell_type": "code",
   "execution_count": 42,
   "metadata": {},
   "outputs": [
    {
     "data": {
      "text/plain": [
       "3363767.0"
      ]
     },
     "execution_count": 42,
     "metadata": {},
     "output_type": "execute_result"
    }
   ],
   "source": [
    "y_match = m1_0*x_match + c1_0\n",
    "y_match"
   ]
  },
  {
   "cell_type": "code",
   "execution_count": 46,
   "metadata": {},
   "outputs": [
    {
     "data": {
      "text/plain": [
       "12630143363767"
      ]
     },
     "execution_count": 46,
     "metadata": {},
     "output_type": "execute_result"
    }
   ],
   "source": [
    "freq = int(x_match*4000000+y_match)\n",
    "freq"
   ]
  },
  {
   "cell_type": "code",
   "execution_count": null,
   "metadata": {},
   "outputs": [],
   "source": []
  },
  {
   "attachments": {},
   "cell_type": "markdown",
   "metadata": {},
   "source": [
    "Try to check line-by line"
   ]
  },
  {
   "attachments": {},
   "cell_type": "markdown",
   "metadata": {},
   "source": [
    "# Generate area based in instructions\n",
    "\n",
    "Remember to reference points using xmin and ymin"
   ]
  },
  {
   "cell_type": "code",
   "execution_count": 11,
   "metadata": {},
   "outputs": [],
   "source": [
    "def manh_dist_np(y_np, x_np, y0, x0):\n",
    "    dist = np.abs(x_np-x0)+np.abs(y_np-y0)\n",
    "    return dist"
   ]
  },
  {
   "cell_type": "code",
   "execution_count": 12,
   "metadata": {},
   "outputs": [],
   "source": [
    "x_values = np.arange(maxval)\n",
    "y_values = np.arange(maxval)\n",
    "# x_values = np.arange(4000001)\n",
    "# y_values = np.arange(4000001)"
   ]
  },
  {
   "cell_type": "code",
   "execution_count": 13,
   "metadata": {},
   "outputs": [],
   "source": [
    "SENSOR=1\n",
    "BEACON=2\n",
    "COVERED=3"
   ]
  },
  {
   "cell_type": "code",
   "execution_count": 14,
   "metadata": {},
   "outputs": [
    {
     "name": "stdout",
     "output_type": "stream",
     "text": [
      "[3 7]\n",
      "2\n"
     ]
    }
   ],
   "source": [
    "#Test\n",
    "a = np.array ( [1,1,1,0,1,3,4,0,2,1])\n",
    "print(np.nonzero(a==0)[0])\n",
    "print(len(np.nonzero(a==0)[0]))"
   ]
  },
  {
   "cell_type": "code",
   "execution_count": 15,
   "metadata": {},
   "outputs": [],
   "source": [
    "def checkAtY(y_value):\n",
    "    points_found=[]\n",
    "\n",
    "    area_coverage = np.zeros_like(x_values)\n",
    "    for sbd in sensors_beacons:\n",
    "        s, b,d = sbd\n",
    "        \n",
    "        sx, sy = s\n",
    "        bx,by = b\n",
    "\n",
    "        #Cover with sensors\n",
    "        d_to_sensor = manh_dist_np(y_value,x_values, sy,sx)\n",
    "        area_coverage = np.where( d_to_sensor<=d, COVERED, area_coverage)\n",
    "    \n",
    "    #Locate points that are not covered\n",
    "    not_cov = np.nonzero( area_coverage==0 )[0]\n",
    "\n",
    "    if len(not_cov)>0:\n",
    "        print(\"Found points\")\n",
    "        \n",
    "        for x in not_cov:\n",
    "            p = (x, y_value)\n",
    "            print(f\"x,y : {x},{y_value}\")\n",
    "            points_found.append( (x, y_value))\n",
    "    \n",
    "    return points_found\n"
   ]
  },
  {
   "cell_type": "code",
   "execution_count": 16,
   "metadata": {},
   "outputs": [
    {
     "data": {
      "text/plain": [
       "[]"
      ]
     },
     "execution_count": 16,
     "metadata": {},
     "output_type": "execute_result"
    }
   ],
   "source": [
    "checkAtY(10)"
   ]
  },
  {
   "cell_type": "code",
   "execution_count": 44,
   "metadata": {},
   "outputs": [
    {
     "name": "stdout",
     "output_type": "stream",
     "text": [
      "Found points\n",
      "x,y : 3157535,3363767\n"
     ]
    },
    {
     "data": {
      "text/plain": [
       "[(3157535, 3363767)]"
      ]
     },
     "execution_count": 44,
     "metadata": {},
     "output_type": "execute_result"
    }
   ],
   "source": [
    "checkAtY(3363767)"
   ]
  },
  {
   "cell_type": "code",
   "execution_count": 18,
   "metadata": {},
   "outputs": [
    {
     "name": "stdout",
     "output_type": "stream",
     "text": [
      "y_value:0 / 4000000\n"
     ]
    },
    {
     "ename": "KeyboardInterrupt",
     "evalue": "",
     "output_type": "error",
     "traceback": [
      "\u001b[1;31m---------------------------------------------------------------------------\u001b[0m",
      "\u001b[1;31mKeyboardInterrupt\u001b[0m                         Traceback (most recent call last)",
      "Cell \u001b[1;32mIn[18], line 7\u001b[0m\n\u001b[0;32m      5\u001b[0m \u001b[39mif\u001b[39;00m y_value \u001b[39m%\u001b[39m\u001b[39m100000\u001b[39m \u001b[39m==\u001b[39m \u001b[39m0\u001b[39m:\n\u001b[0;32m      6\u001b[0m     \u001b[39mprint\u001b[39m(\u001b[39mf\u001b[39m\u001b[39m\"\u001b[39m\u001b[39my_value:\u001b[39m\u001b[39m{\u001b[39;00my_value\u001b[39m}\u001b[39;00m\u001b[39m / \u001b[39m\u001b[39m{\u001b[39;00mmaxval\u001b[39m}\u001b[39;00m\u001b[39m\"\u001b[39m)\n\u001b[1;32m----> 7\u001b[0m p0 \u001b[39m=\u001b[39m checkAtY(y_value)\n\u001b[0;32m      8\u001b[0m points_found\u001b[39m.\u001b[39mextend(p0)\n",
      "Cell \u001b[1;32mIn[15], line 12\u001b[0m, in \u001b[0;36mcheckAtY\u001b[1;34m(y_value)\u001b[0m\n\u001b[0;32m      9\u001b[0m     bx,by \u001b[39m=\u001b[39m b\n\u001b[0;32m     11\u001b[0m     \u001b[39m#Cover with sensors\u001b[39;00m\n\u001b[1;32m---> 12\u001b[0m     d_to_sensor \u001b[39m=\u001b[39m manh_dist_np(y_value,x_values, sy,sx)\n\u001b[0;32m     13\u001b[0m     area_coverage \u001b[39m=\u001b[39m np\u001b[39m.\u001b[39mwhere( d_to_sensor\u001b[39m<\u001b[39m\u001b[39m=\u001b[39md, COVERED, area_coverage)\n\u001b[0;32m     15\u001b[0m \u001b[39m#Locate points that are not covered\u001b[39;00m\n",
      "Cell \u001b[1;32mIn[11], line 2\u001b[0m, in \u001b[0;36mmanh_dist_np\u001b[1;34m(y_np, x_np, y0, x0)\u001b[0m\n\u001b[0;32m      1\u001b[0m \u001b[39mdef\u001b[39;00m \u001b[39mmanh_dist_np\u001b[39m(y_np, x_np, y0, x0):\n\u001b[1;32m----> 2\u001b[0m     dist \u001b[39m=\u001b[39m np\u001b[39m.\u001b[39;49mabs(x_np\u001b[39m-\u001b[39;49mx0)\u001b[39m+\u001b[39;49mnp\u001b[39m.\u001b[39;49mabs(y_np\u001b[39m-\u001b[39;49my0)\n\u001b[0;32m      3\u001b[0m     \u001b[39mreturn\u001b[39;00m dist\n",
      "\u001b[1;31mKeyboardInterrupt\u001b[0m: "
     ]
    }
   ],
   "source": [
    "points_found = []\n",
    "\n",
    "for y_value in y_values:\n",
    "    \n",
    "    if y_value %100000 == 0:\n",
    "        print(f\"y_value:{y_value} / {maxval}\")\n",
    "    p0 = checkAtY(y_value)\n",
    "    points_found.extend(p0)\n"
   ]
  },
  {
   "attachments": {},
   "cell_type": "markdown",
   "metadata": {},
   "source": [
    "Code takes forever"
   ]
  },
  {
   "cell_type": "code",
   "execution_count": null,
   "metadata": {},
   "outputs": [],
   "source": []
  }
 ],
 "metadata": {
  "kernelspec": {
   "display_name": "dev",
   "language": "python",
   "name": "python3"
  },
  "language_info": {
   "codemirror_mode": {
    "name": "ipython",
    "version": 3
   },
   "file_extension": ".py",
   "mimetype": "text/x-python",
   "name": "python",
   "nbconvert_exporter": "python",
   "pygments_lexer": "ipython3",
   "version": "3.8.13"
  },
  "orig_nbformat": 4,
  "vscode": {
   "interpreter": {
    "hash": "ae9318eca6f153166416f971f14e35a175773b3b30438ae2aa8538d9aa021541"
   }
  }
 },
 "nbformat": 4,
 "nbformat_minor": 2
}
