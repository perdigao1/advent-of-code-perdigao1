{
 "cells": [
  {
   "cell_type": "code",
   "execution_count": 1,
   "metadata": {},
   "outputs": [],
   "source": [
    "file_input, cube_size = 'input_test.txt', 4\n",
    "#file_input, cube_size = 'input.txt', 50"
   ]
  },
  {
   "cell_type": "code",
   "execution_count": 2,
   "metadata": {},
   "outputs": [],
   "source": [
    "import numpy as np"
   ]
  },
  {
   "cell_type": "code",
   "execution_count": 3,
   "metadata": {},
   "outputs": [],
   "source": [
    "with open(file_input) as f:\n",
    "    filetxt = f.read()"
   ]
  },
  {
   "cell_type": "code",
   "execution_count": 4,
   "metadata": {},
   "outputs": [],
   "source": [
    "map,moves = filetxt.split('\\n\\n')"
   ]
  },
  {
   "cell_type": "code",
   "execution_count": 5,
   "metadata": {},
   "outputs": [],
   "source": [
    "map = map.split('\\n')"
   ]
  },
  {
   "cell_type": "code",
   "execution_count": 6,
   "metadata": {},
   "outputs": [
    {
     "data": {
      "text/plain": [
       "['        ...#',\n",
       " '        .#..',\n",
       " '        #...',\n",
       " '        ....',\n",
       " '...#.......#',\n",
       " '........#...',\n",
       " '..#....#....',\n",
       " '..........#.',\n",
       " '        ...#....',\n",
       " '        .....#..',\n",
       " '        .#......',\n",
       " '        ......#.']"
      ]
     },
     "execution_count": 6,
     "metadata": {},
     "output_type": "execute_result"
    }
   ],
   "source": [
    "map"
   ]
  },
  {
   "cell_type": "code",
   "execution_count": 7,
   "metadata": {},
   "outputs": [],
   "source": [
    "moves=moves.strip('\\n')"
   ]
  },
  {
   "cell_type": "code",
   "execution_count": 8,
   "metadata": {},
   "outputs": [
    {
     "data": {
      "text/plain": [
       "'10R5L5R10L4R5L5'"
      ]
     },
     "execution_count": 8,
     "metadata": {},
     "output_type": "execute_result"
    }
   ],
   "source": [
    "moves"
   ]
  },
  {
   "cell_type": "code",
   "execution_count": 9,
   "metadata": {},
   "outputs": [
    {
     "data": {
      "text/plain": [
       "['10', 'R', '5', 'L', '5', 'R', '10', 'L', '4', 'R', '5', 'L', '5']"
      ]
     },
     "execution_count": 9,
     "metadata": {},
     "output_type": "execute_result"
    }
   ],
   "source": [
    "#Test splitting the moves\n",
    "import re\n",
    "re.findall( \"[R|L]|[0-9]+\", moves)"
   ]
  },
  {
   "cell_type": "code",
   "execution_count": 10,
   "metadata": {},
   "outputs": [
    {
     "data": {
      "text/plain": [
       "['10', 'R', '5', 'L', '5', 'R', '10', 'L', '4', 'R', '5', 'L', '5']"
      ]
     },
     "execution_count": 10,
     "metadata": {},
     "output_type": "execute_result"
    }
   ],
   "source": [
    "moves_list = re.findall( \"[R|L]|[0-9]+\", moves)\n",
    "moves_list"
   ]
  },
  {
   "attachments": {},
   "cell_type": "markdown",
   "metadata": {},
   "source": [
    "# Parse map"
   ]
  },
  {
   "attachments": {},
   "cell_type": "markdown",
   "metadata": {},
   "source": [
    "Convert map to a numpy array of int8"
   ]
  },
  {
   "cell_type": "code",
   "execution_count": 11,
   "metadata": {},
   "outputs": [],
   "source": [
    "VOID=0\n",
    "TILE=1\n",
    "WALL=2"
   ]
  },
  {
   "cell_type": "code",
   "execution_count": 12,
   "metadata": {},
   "outputs": [],
   "source": [
    "conv_dict={' ':VOID , '.':TILE , '#':WALL}"
   ]
  },
  {
   "attachments": {},
   "cell_type": "markdown",
   "metadata": {},
   "source": [
    "need to figure out dimensions of the map"
   ]
  },
  {
   "cell_type": "code",
   "execution_count": 13,
   "metadata": {},
   "outputs": [
    {
     "data": {
      "text/plain": [
       "12"
      ]
     },
     "execution_count": 13,
     "metadata": {},
     "output_type": "execute_result"
    }
   ],
   "source": [
    "ysize = len(map)\n",
    "ysize"
   ]
  },
  {
   "cell_type": "code",
   "execution_count": 14,
   "metadata": {},
   "outputs": [
    {
     "data": {
      "text/plain": [
       "16"
      ]
     },
     "execution_count": 14,
     "metadata": {},
     "output_type": "execute_result"
    }
   ],
   "source": [
    "xsize=0\n",
    "for l0 in map:\n",
    "    lsize = len(l0)\n",
    "    xsize=max(xsize,lsize)\n",
    "xsize"
   ]
  },
  {
   "attachments": {},
   "cell_type": "markdown",
   "metadata": {},
   "source": [
    "Create array with these dimensions and fill with the elements"
   ]
  },
  {
   "cell_type": "code",
   "execution_count": 15,
   "metadata": {},
   "outputs": [],
   "source": [
    "map_np = np.zeros((ysize,xsize), dtype=np.int8)\n",
    "\n",
    "for iy, l0 in enumerate(map):\n",
    "    for ix,char in enumerate(l0):\n",
    "        map_np[iy,ix] = conv_dict[char]"
   ]
  },
  {
   "cell_type": "code",
   "execution_count": 16,
   "metadata": {},
   "outputs": [
    {
     "data": {
      "text/plain": [
       "<matplotlib.image.AxesImage at 0x1670e3d4970>"
      ]
     },
     "execution_count": 16,
     "metadata": {},
     "output_type": "execute_result"
    },
    {
     "data": {
      "image/png": "[encoded data removed]",
      "text/plain": [
       "<Figure size 640x480 with 1 Axes>"
      ]
     },
     "metadata": {},
     "output_type": "display_data"
    }
   ],
   "source": [
    "import matplotlib.pyplot as plt\n",
    "plt.imshow(map_np)"
   ]
  },
  {
   "attachments": {},
   "cell_type": "markdown",
   "metadata": {},
   "source": [
    "Setup directions"
   ]
  },
  {
   "cell_type": "code",
   "execution_count": 17,
   "metadata": {},
   "outputs": [],
   "source": [
    "DIR_UP=(-1,0)\n",
    "DIR_DOWN=(1,0)\n",
    "DIR_LEFT=(0,-1)\n",
    "DIR_RIGHT=(0,1)"
   ]
  },
  {
   "cell_type": "code",
   "execution_count": 18,
   "metadata": {},
   "outputs": [],
   "source": [
    "Lrot_dict={DIR_UP:DIR_LEFT , DIR_DOWN:DIR_RIGHT , DIR_LEFT:DIR_DOWN , DIR_RIGHT:DIR_UP} #counterclockwise\n",
    "Rrot_dict={DIR_UP:DIR_RIGHT , DIR_DOWN:DIR_LEFT , DIR_LEFT:DIR_UP , DIR_RIGHT:DIR_DOWN} #clockwise"
   ]
  },
  {
   "attachments": {},
   "cell_type": "markdown",
   "metadata": {},
   "source": [
    "# Setup the cubefaces\n",
    "\n",
    "Create a class that contains the cube face info, location in original map, and connectivity"
   ]
  },
  {
   "cell_type": "code",
   "execution_count": 19,
   "metadata": {},
   "outputs": [],
   "source": [
    "RIGHT=0\n",
    "DOWN=1\n",
    "LEFT=2\n",
    "UP=3"
   ]
  },
  {
   "cell_type": "code",
   "execution_count": 20,
   "metadata": {},
   "outputs": [],
   "source": [
    "class cFace:\n",
    "    def __init__(self, facedata, map_position, tag):\n",
    "        self.map_position = map_position\n",
    "        self.facedata = facedata\n",
    "\n",
    "        self.whoAtSide=[None,None, None, None] #in order as above, right, bootom, left, top\n",
    "        self.tag=tag\n",
    "    def __str__(self):\n",
    "\n",
    "        s = f\"Cube face {self.tag}, from map_position {self.map_position}, connected to \"\n",
    "        for s0 in self.whoAtSide:\n",
    "            if not s0 is None:\n",
    "                s+= f\"; {s0[0].tag},{s0[1]}\"\n",
    "            else:\n",
    "                s+=\"; None \"\n",
    "        return s\n"
   ]
  },
  {
   "cell_type": "code",
   "execution_count": 21,
   "metadata": {},
   "outputs": [
    {
     "name": "stdout",
     "output_type": "stream",
     "text": [
      "face found, iy:0 , ix:8\n",
      "face found, iy:4 , ix:0\n",
      "face found, iy:4 , ix:4\n",
      "face found, iy:4 , ix:8\n",
      "face found, iy:8 , ix:8\n",
      "face found, iy:8 , ix:12\n"
     ]
    }
   ],
   "source": [
    "#Parse map to create initial cFace objects\n",
    "\n",
    "cubefaces = []\n",
    "iface=0\n",
    "\n",
    "for iy in range(0, map_np.shape[0], cube_size):\n",
    "    for ix in range( 0, map_np.shape[1], cube_size):\n",
    "        face = map_np[iy:iy+cube_size , ix:ix+cube_size]\n",
    "\n",
    "        if face[0,0]!=VOID:\n",
    "            #Valid face, add to cubeface at the right location\n",
    "\n",
    "            print(f\"face found, iy:{iy} , ix:{ix}\")\n",
    "            cFace0 = cFace(face, [iy,ix], iface)\n",
    "\n",
    "            cubefaces.append(cFace0)\n",
    "            iface+=1"
   ]
  },
  {
   "cell_type": "code",
   "execution_count": 22,
   "metadata": {},
   "outputs": [
    {
     "name": "stdout",
     "output_type": "stream",
     "text": [
      "Cube face 0, from map_position [0, 8], connected to ; None ; None ; None ; None \n"
     ]
    }
   ],
   "source": [
    "print(cubefaces[0])"
   ]
  },
  {
   "cell_type": "code",
   "execution_count": 23,
   "metadata": {},
   "outputs": [],
   "source": [
    "#Sort simple obvious connectivity, from coordinates\n",
    "\n",
    "for i0,c0 in enumerate(cubefaces):\n",
    "    for i1 in range(i0, len(cubefaces)):\n",
    "        c1 = cubefaces[i1]\n",
    "\n",
    "        #left or right edge\n",
    "        if c0.map_position[0] == c1.map_position[0]: #Same row coordinate\n",
    "            if c0.map_position[1]+cube_size == c1.map_position[1] :\n",
    "                c0.whoAtSide[RIGHT] = (c1,LEFT)\n",
    "                c1.whoAtSide[LEFT]= (c0,RIGHT)\n",
    "            elif c0.map_position[1]==0 and c1.map_position[1]+cube_size==4*cube_size:\n",
    "                c0.whoAtSide[LEFT] = (c1,RIGHT)\n",
    "                c1.whoAtSide[RIGHT] = (c0, LEFT)\n",
    "\n",
    "        #Top to bottom\n",
    "        if c0.map_position[1] == c1.map_position[1]: #same col coordinate\n",
    "            if c0.map_position[0]+cube_size == c1.map_position[0]:\n",
    "                c0.whoAtSide[DOWN] = (c1,UP)\n",
    "                c1.whoAtSide[UP] = (c0,DOWN)\n",
    "            if c0.map_position[0]==0 and c1.map_position[0]+cube_size==4*cube_size:\n",
    "                c0.whoAtSide[UP] = (c1,DOWN)\n",
    "                c1.whoAtSide[DOWN] = (c0,UP)"
   ]
  },
  {
   "cell_type": "code",
   "execution_count": 25,
   "metadata": {},
   "outputs": [
    {
     "name": "stdout",
     "output_type": "stream",
     "text": [
      "Cube face 0, from map_position [0, 8], connected to ; None ; 3,3; None ; None \n",
      "Cube face 1, from map_position [4, 0], connected to ; 2,2; None ; None ; None \n",
      "Cube face 2, from map_position [4, 4], connected to ; 3,2; None ; 1,0; None \n",
      "Cube face 3, from map_position [4, 8], connected to ; None ; 4,3; 2,0; 0,1\n",
      "Cube face 4, from map_position [8, 8], connected to ; 5,2; None ; None ; 3,1\n",
      "Cube face 5, from map_position [8, 12], connected to ; None ; None ; 4,0; None \n"
     ]
    }
   ],
   "source": [
    "for c0 in cubefaces:\n",
    "    print(c0)"
   ]
  },
  {
   "attachments": {},
   "cell_type": "markdown",
   "metadata": {},
   "source": [
    "OK"
   ]
  },
  {
   "attachments": {},
   "cell_type": "markdown",
   "metadata": {},
   "source": [
    "For each cube look for faces around corners and connect as appropriate"
   ]
  },
  {
   "cell_type": "code",
   "execution_count": 26,
   "metadata": {},
   "outputs": [],
   "source": [
    "dir_clockw_dict = {RIGHT:DOWN , DOWN:LEFT , LEFT:UP, UP:RIGHT}\n",
    "dir_cclockw_dict = {RIGHT:UP , DOWN:RIGHT , LEFT:DOWN, UP:LEFT}"
   ]
  },
  {
   "cell_type": "code",
   "execution_count": 27,
   "metadata": {},
   "outputs": [
    {
     "name": "stdout",
     "output_type": "stream",
     "text": [
      "Cube face 0, from map_position [0, 8], connected to ; None ; 3,3; None ; None \n"
     ]
    }
   ],
   "source": [
    "print(cubefaces[0])"
   ]
  },
  {
   "cell_type": "code",
   "execution_count": 28,
   "metadata": {},
   "outputs": [
    {
     "name": "stdout",
     "output_type": "stream",
     "text": [
      "i:1\n",
      "face 3 has two other faces at 90degrees, 4 and 2 \n",
      "face 4 has no connection at side 2\n",
      "c1:  Cube face 4, from map_position [8, 8], connected to ; 5,2; None ; None ; 3,1\n",
      "c2:  Cube face 2, from map_position [4, 4], connected to ; 3,2; None ; 1,0; None \n",
      "After connection:\n",
      "c1:  Cube face 4, from map_position [8, 8], connected to ; 5,2; None ; 2,1; 3,1\n",
      "c2:  Cube face 2, from map_position [4, 4], connected to ; 3,2; 4,2; 1,0; None \n",
      "face 3 has two other faces at 90degrees, 2 and 0 \n",
      "face 2 has no connection at side 3\n",
      "c1:  Cube face 2, from map_position [4, 4], connected to ; 3,2; 4,2; 1,0; None \n",
      "c2:  Cube face 0, from map_position [0, 8], connected to ; None ; 3,3; None ; None \n",
      "After connection:\n",
      "c1:  Cube face 2, from map_position [4, 4], connected to ; 3,2; 4,2; 1,0; 0,2\n",
      "c2:  Cube face 0, from map_position [0, 8], connected to ; None ; 3,3; 2,3; None \n",
      "face 4 has two other faces at 90degrees, 2 and 3 \n",
      "face 4 has two other faces at 90degrees, 3 and 5 \n",
      "face 3 has no connection at side 0\n",
      "c1:  Cube face 3, from map_position [4, 8], connected to ; None ; 4,3; 2,0; 0,1\n",
      "c2:  Cube face 5, from map_position [8, 12], connected to ; None ; None ; 4,0; None \n",
      "After connection:\n",
      "c1:  Cube face 3, from map_position [4, 8], connected to ; 5,3; 4,3; 2,0; 0,1\n",
      "c2:  Cube face 5, from map_position [8, 12], connected to ; None ; None ; 4,0; 3,0\n",
      "face 5 has two other faces at 90degrees, 4 and 3 \n",
      "i:2\n",
      "face 0 has two other faces at 90degrees, 3 and 2 \n",
      "face 2 has two other faces at 90degrees, 3 and 4 \n",
      "face 2 has two other faces at 90degrees, 4 and 1 \n",
      "face 4 has no connection at side 1\n",
      "c1:  Cube face 4, from map_position [8, 8], connected to ; 5,2; None ; 2,1; 3,1\n",
      "c2:  Cube face 1, from map_position [4, 0], connected to ; 2,2; None ; None ; None \n",
      "After connection:\n",
      "c1:  Cube face 4, from map_position [8, 8], connected to ; 5,2; 1,1; 2,1; 3,1\n",
      "c2:  Cube face 1, from map_position [4, 0], connected to ; 2,2; 4,1; None ; None \n",
      "face 2 has two other faces at 90degrees, 1 and 0 \n",
      "face 1 has no connection at side 3\n",
      "c1:  Cube face 1, from map_position [4, 0], connected to ; 2,2; 4,1; None ; None \n",
      "c2:  Cube face 0, from map_position [0, 8], connected to ; None ; 3,3; 2,3; None \n",
      "After connection:\n",
      "c1:  Cube face 1, from map_position [4, 0], connected to ; 2,2; 4,1; None ; 0,3\n",
      "c2:  Cube face 0, from map_position [0, 8], connected to ; None ; 3,3; 2,3; 1,3\n",
      "face 2 has two other faces at 90degrees, 0 and 3 \n",
      "face 3 has two other faces at 90degrees, 5 and 4 \n",
      "face 3 has two other faces at 90degrees, 4 and 2 \n",
      "face 3 has two other faces at 90degrees, 2 and 0 \n",
      "face 3 has two other faces at 90degrees, 0 and 5 \n",
      "face 0 has no connection at side 0\n",
      "c1:  Cube face 0, from map_position [0, 8], connected to ; None ; 3,3; 2,3; 1,3\n",
      "c2:  Cube face 5, from map_position [8, 12], connected to ; None ; None ; 4,0; 3,0\n",
      "After connection:\n",
      "c1:  Cube face 0, from map_position [0, 8], connected to ; 5,0; 3,3; 2,3; 1,3\n",
      "c2:  Cube face 5, from map_position [8, 12], connected to ; 0,0; None ; 4,0; 3,0\n",
      "face 4 has two other faces at 90degrees, 5 and 1 \n",
      "face 5 has no connection at side 1\n",
      "c1:  Cube face 5, from map_position [8, 12], connected to ; 0,0; None ; 4,0; 3,0\n",
      "c2:  Cube face 1, from map_position [4, 0], connected to ; 2,2; 4,1; None ; 0,3\n",
      "After connection:\n",
      "c1:  Cube face 5, from map_position [8, 12], connected to ; 0,0; 1,2; 4,0; 3,0\n",
      "c2:  Cube face 1, from map_position [4, 0], connected to ; 2,2; 4,1; 5,1; 0,3\n",
      "face 4 has two other faces at 90degrees, 1 and 2 \n",
      "face 4 has two other faces at 90degrees, 2 and 3 \n",
      "face 4 has two other faces at 90degrees, 3 and 5 \n",
      "face 5 has two other faces at 90degrees, 0 and 1 \n",
      "face 5 has two other faces at 90degrees, 1 and 4 \n",
      "face 5 has two other faces at 90degrees, 4 and 3 \n",
      "face 5 has two other faces at 90degrees, 3 and 0 \n",
      "i:3\n",
      "face 0 has two other faces at 90degrees, 5 and 3 \n",
      "face 0 has two other faces at 90degrees, 3 and 2 \n",
      "face 0 has two other faces at 90degrees, 2 and 1 \n",
      "face 0 has two other faces at 90degrees, 1 and 5 \n",
      "face 1 has two other faces at 90degrees, 2 and 4 \n",
      "face 1 has two other faces at 90degrees, 4 and 5 \n",
      "face 1 has two other faces at 90degrees, 5 and 0 \n",
      "face 1 has two other faces at 90degrees, 0 and 2 \n",
      "face 2 has two other faces at 90degrees, 3 and 4 \n",
      "face 2 has two other faces at 90degrees, 4 and 1 \n",
      "face 2 has two other faces at 90degrees, 1 and 0 \n",
      "face 2 has two other faces at 90degrees, 0 and 3 \n",
      "face 3 has two other faces at 90degrees, 5 and 4 \n",
      "face 3 has two other faces at 90degrees, 4 and 2 \n",
      "face 3 has two other faces at 90degrees, 2 and 0 \n",
      "face 3 has two other faces at 90degrees, 0 and 5 \n",
      "face 4 has two other faces at 90degrees, 5 and 1 \n",
      "face 4 has two other faces at 90degrees, 1 and 2 \n",
      "face 4 has two other faces at 90degrees, 2 and 3 \n",
      "face 4 has two other faces at 90degrees, 3 and 5 \n",
      "face 5 has two other faces at 90degrees, 0 and 1 \n",
      "face 5 has two other faces at 90degrees, 1 and 4 \n",
      "face 5 has two other faces at 90degrees, 4 and 3 \n",
      "face 5 has two other faces at 90degrees, 3 and 0 \n"
     ]
    }
   ],
   "source": [
    "bThereWereNoneConnections = True\n",
    "\n",
    "i=0\n",
    "while bThereWereNoneConnections:\n",
    "    bThereWereNoneConnections = False\n",
    "    i+=1\n",
    "    print(f\"i:{i}\")\n",
    "    for c0 in cubefaces:\n",
    "        check_order = [ (c0.whoAtSide[RIGHT], c0.whoAtSide[DOWN]) , (c0.whoAtSide[DOWN], c0.whoAtSide[LEFT]), (c0.whoAtSide[LEFT], c0.whoAtSide[UP]), (c0.whoAtSide[UP], c0.whoAtSide[RIGHT]) ]\n",
    "\n",
    "        for w1,w2 in check_order:\n",
    "            if (not w1 is None) and (not w2 is None):\n",
    "                c1,side1 = w1\n",
    "                c2,side2 = w2\n",
    "                print(f\"face {c0.tag} has two other faces at 90degrees, {c1.tag} and {c2.tag} \")\n",
    "\n",
    "                #Check counterclockwise side\n",
    "                side1_c = dir_cclockw_dict[side1]\n",
    "                side2_c = dir_clockw_dict[side2]\n",
    "\n",
    "                #Check if there is connection already\n",
    "                if c1.whoAtSide[side1_c] is None:\n",
    "                    print(f\"face {c1.tag} has no connection at side {side1_c}\")\n",
    "                    print(\"c1: \", c1)\n",
    "                    print(\"c2: \", c2)\n",
    "                    assert c2.whoAtSide[side2_c] is None\n",
    "                    bThereWereNoneConnections=True\n",
    "                    #Connect them\n",
    "                    c1.whoAtSide[side1_c]= (c2,side2_c)\n",
    "                    c2.whoAtSide[side2_c]= (c1,side1_c)\n",
    "                    \n",
    "                    print(\"After connection:\")\n",
    "                    print(\"c1: \", c1)\n",
    "                    print(\"c2: \", c2)\n"
   ]
  },
  {
   "cell_type": "code",
   "execution_count": 29,
   "metadata": {},
   "outputs": [
    {
     "name": "stdout",
     "output_type": "stream",
     "text": [
      "Cube face 0, from map_position [0, 8], connected to ; 5,0; 3,3; 2,3; 1,3\n",
      "Cube face 1, from map_position [4, 0], connected to ; 2,2; 4,1; 5,1; 0,3\n",
      "Cube face 2, from map_position [4, 4], connected to ; 3,2; 4,2; 1,0; 0,2\n",
      "Cube face 3, from map_position [4, 8], connected to ; 5,3; 4,3; 2,0; 0,1\n",
      "Cube face 4, from map_position [8, 8], connected to ; 5,2; 1,1; 2,1; 3,1\n",
      "Cube face 5, from map_position [8, 12], connected to ; 0,0; 1,2; 4,0; 3,0\n"
     ]
    }
   ],
   "source": [
    "for c0 in cubefaces:\n",
    "    print(c0)"
   ]
  },
  {
   "cell_type": "code",
   "execution_count": null,
   "metadata": {},
   "outputs": [],
   "source": []
  },
  {
   "attachments": {},
   "cell_type": "markdown",
   "metadata": {},
   "source": [
    "# Movement algorithm"
   ]
  },
  {
   "cell_type": "code",
   "execution_count": null,
   "metadata": {},
   "outputs": [],
   "source": []
  },
  {
   "cell_type": "code",
   "execution_count": 72,
   "metadata": {},
   "outputs": [],
   "source": [
    "def rot90(y,x,dir,k=0):\n",
    "    rot_centre = (cube_size-1)/2\n",
    "\n",
    "    y0=y-rot_centre\n",
    "    x0=x-rot_centre\n",
    "    dir0=dir\n",
    "    for i in range(k):\n",
    "        #Rotates counterclockwise\n",
    "        y1 = x0\n",
    "        x1 = -y0\n",
    "        y0=y1\n",
    "        x0=x1\n",
    "        dir0 = Rrot_dict[dir0]\n",
    "\n",
    "    y1 = int(y0+rot_centre)\n",
    "    x1= int(x0+rot_centre)\n",
    "    return y1,x1, dir0\n",
    "rot90(1,0, (1,0),1)"
   ]
  },
  {
   "cell_type": "code",
   "execution_count": 71,
   "metadata": {},
   "outputs": [
    {
     "data": {
      "text/plain": [
       "(3, 1, (0, -1))"
      ]
     },
     "execution_count": 71,
     "metadata": {},
     "output_type": "execute_result"
    }
   ],
   "source": []
  },
  {
   "cell_type": "code",
   "execution_count": null,
   "metadata": {},
   "outputs": [],
   "source": []
  },
  {
   "cell_type": "code",
   "execution_count": 64,
   "metadata": {},
   "outputs": [],
   "source": [
    "def doStepCube(cface0, y0,x0 , dir0):\n",
    "\n",
    "    #pos is position within the face_number given\n",
    "\n",
    "    y = y0 #new positions start\n",
    "    x = x0\n",
    "\n",
    "    new_face = cface0\n",
    "\n",
    "    newdir = dir0\n",
    "\n",
    "    #Move one step\n",
    "    y+=dir0[0]\n",
    "    x+=dir0[1]\n",
    "\n",
    "    #Check for over-the-edge movement\n",
    "    # If goes over the edge, then move it to new face and adjust direction\n",
    "    \n",
    "    if x<0:\n",
    "        assert dir0==DIR_LEFT\n",
    "\n",
    "        #Check for face in the\n",
    "        new_face, new_side = cface0.whoAtSide[LEFT]\n",
    "        print(\"x<0, next face\", new_face.tag)\n",
    "\n",
    "        x=cube_size-1 #Default if side of the other cube is RIGHT\n",
    "        #Translate coordinates based on the new side\n",
    "        nrot= (new_side-RIGHT) %4\n",
    "        y,x,newdir = rot90(y,x,newdir, nrot)\n",
    "        print(f\"y,x: {y},{x}, newdir:{newdir} , nrot:{nrot}\")\n",
    "    \n",
    "    if x>=cube_size:\n",
    "        assert dir0==DIR_RIGHT\n",
    "        #Check for face in the\n",
    "        new_face, new_side = cface0.whoAtSide[RIGHT]\n",
    "        print(\"x>=cube_size, next face\", new_face.tag)\n",
    "        \n",
    "        x=0 #Default if side of the other cube is RIGHT\n",
    "        #Translate coordinates based on the new side\n",
    "        nrot= (new_side-LEFT) %4\n",
    "        y,x, newdir = rot90(y,x,newdir, nrot)\n",
    "        print(f\"y,x: {y},{x}, newdir:{newdir} , nrot:{nrot}\")\n",
    "\n",
    "    if y<0:\n",
    "        assert dir0==DIR_UP\n",
    "        new_face, new_side = cface0.whoAtSide[UP]\n",
    "        print(\"y<0, next face\", new_face.tag)\n",
    "        y=cube_size-1\n",
    "        nrot= (new_side-DOWN) %4\n",
    "        y,x, newdir = rot90(y,x,newdir, nrot)\n",
    "        print(f\"y,x: {y},{x}, newdir:{newdir} , nrot:{nrot}\")\n",
    "        \n",
    "    if y>=cube_size:\n",
    "        assert dir0==DIR_DOWN\n",
    "        new_face, new_side = cface0.whoAtSide[DOWN]\n",
    "        print(\"y>=cube_size, next face\", new_face.tag)\n",
    "        y=0\n",
    "        nrot= (new_side-UP) %4\n",
    "        y,x, newdir = rot90(y,x,newdir, nrot)\n",
    "        print(f\"y,x: {y},{x}, newdir:{newdir} , nrot:{nrot}\")\n",
    "\n",
    "    #Check if it is wall\n",
    "    if new_face.facedata[y,x] == WALL:\n",
    "        return None #Cannot move, so stop\n",
    "\n",
    "    assert new_face.facedata[y,x] == TILE\n",
    "\n",
    "    print(f\"check: y,x: {y},{x}, newdir:{newdir}\")\n",
    "    #Return new position, new direction and face\n",
    "    return new_face, y,x, newdir"
   ]
  },
  {
   "attachments": {},
   "cell_type": "markdown",
   "metadata": {},
   "source": [
    "do movements"
   ]
  },
  {
   "cell_type": "code",
   "execution_count": 65,
   "metadata": {},
   "outputs": [
    {
     "name": "stdout",
     "output_type": "stream",
     "text": [
      "starting location, cface:0, pos:0,0, direction:(0, 1)\n",
      "Move 10\n",
      "i:0\n",
      "check: y,x: 0,1, newdir:(0, 1)\n",
      "cface:0, pos:0,1, direction:(0, 1)\n",
      "i:1\n",
      "check: y,x: 0,2, newdir:(0, 1)\n",
      "cface:0, pos:0,2, direction:(0, 1)\n",
      "i:2\n",
      "Hit wall\n",
      "position after move, cface:0, pos:0,2, direction:(0, 1)\n",
      "Move R\n",
      "position after move, cface:0, pos:0,2, direction:(1, 0)\n",
      "Move 5\n",
      "i:0\n",
      "check: y,x: 1,2, newdir:(1, 0)\n",
      "cface:0, pos:1,2, direction:(1, 0)\n",
      "i:1\n",
      "check: y,x: 2,2, newdir:(1, 0)\n",
      "cface:0, pos:2,2, direction:(1, 0)\n",
      "i:2\n",
      "check: y,x: 3,2, newdir:(1, 0)\n",
      "cface:0, pos:3,2, direction:(1, 0)\n",
      "i:3\n",
      "y>=cube_size, next face 3\n",
      "y,x: 0,2, newdir:(1, 0) , nrot:0\n",
      "check: y,x: 0,2, newdir:(1, 0)\n",
      "cface:3, pos:0,2, direction:(1, 0)\n",
      "i:4\n",
      "check: y,x: 1,2, newdir:(1, 0)\n",
      "cface:3, pos:1,2, direction:(1, 0)\n",
      "position after move, cface:3, pos:1,2, direction:(1, 0)\n",
      "Move L\n",
      "position after move, cface:3, pos:1,2, direction:(0, 1)\n",
      "Move 5\n",
      "i:0\n",
      "check: y,x: 1,3, newdir:(0, 1)\n",
      "cface:3, pos:1,3, direction:(0, 1)\n",
      "i:1\n",
      "x>=cube_size, next face 5\n",
      "y,x: 3,1, newdir:(1, 0) , nrot:1\n",
      "check: y,x: 3,1, newdir:(1, 0)\n",
      "cface:5, pos:3,1, direction:(1, 0)\n",
      "i:2\n",
      "y>=cube_size, next face 1\n",
      "y,x: 3,0, newdir:(0, 1) , nrot:3\n",
      "check: y,x: 3,0, newdir:(0, 1)\n",
      "cface:1, pos:3,0, direction:(0, 1)\n",
      "i:3\n",
      "check: y,x: 3,1, newdir:(0, 1)\n",
      "cface:1, pos:3,1, direction:(0, 1)\n",
      "i:4\n",
      "check: y,x: 3,2, newdir:(0, 1)\n",
      "cface:1, pos:3,2, direction:(0, 1)\n",
      "position after move, cface:1, pos:3,2, direction:(0, 1)\n",
      "Move R\n",
      "position after move, cface:1, pos:3,2, direction:(1, 0)\n",
      "Move 10\n",
      "i:0\n",
      "y>=cube_size, next face 4\n",
      "y,x: 3,0, newdir:(-1, 0) , nrot:2\n",
      "check: y,x: 3,0, newdir:(-1, 0)\n",
      "cface:4, pos:3,0, direction:(-1, 0)\n",
      "i:1\n",
      "check: y,x: 2,0, newdir:(-1, 0)\n",
      "cface:4, pos:2,0, direction:(-1, 0)\n",
      "i:2\n",
      "check: y,x: 1,0, newdir:(-1, 0)\n",
      "cface:4, pos:1,0, direction:(-1, 0)\n",
      "i:3\n",
      "check: y,x: 0,0, newdir:(-1, 0)\n",
      "cface:4, pos:0,0, direction:(-1, 0)\n",
      "i:4\n",
      "y<0, next face 3\n",
      "y,x: 3,0, newdir:(-1, 0) , nrot:0\n",
      "check: y,x: 3,0, newdir:(-1, 0)\n",
      "cface:3, pos:3,0, direction:(-1, 0)\n",
      "i:5\n",
      "check: y,x: 2,0, newdir:(-1, 0)\n",
      "cface:3, pos:2,0, direction:(-1, 0)\n",
      "i:6\n",
      "Hit wall\n",
      "position after move, cface:3, pos:2,0, direction:(-1, 0)\n",
      "Move L\n",
      "position after move, cface:3, pos:2,0, direction:(0, -1)\n",
      "Move 4\n",
      "i:0\n",
      "x<0, next face 2\n",
      "y,x: 2,3, newdir:(0, -1) , nrot:0\n",
      "Hit wall\n",
      "position after move, cface:3, pos:2,0, direction:(0, -1)\n",
      "Move R\n",
      "position after move, cface:3, pos:2,0, direction:(-1, 0)\n",
      "Move 5\n",
      "i:0\n",
      "Hit wall\n",
      "position after move, cface:3, pos:2,0, direction:(-1, 0)\n",
      "Move L\n",
      "position after move, cface:3, pos:2,0, direction:(0, -1)\n",
      "Move 5\n",
      "i:0\n",
      "x<0, next face 2\n",
      "y,x: 2,3, newdir:(0, -1) , nrot:0\n",
      "Hit wall\n",
      "position after move, cface:3, pos:2,0, direction:(0, -1)\n"
     ]
    }
   ],
   "source": [
    "#Starting position and direction\n",
    "\n",
    "my_y, my_x = 0, 0\n",
    "my_face = cubefaces[0]\n",
    "my_dir = DIR_RIGHT\n",
    "\n",
    "print(f\"starting location, cface:{my_face.tag}, pos:{my_y},{my_x}, direction:{my_dir}\")\n",
    "for m0 in moves_list:\n",
    "    print(f\"Move {m0}\")\n",
    "    if m0.isnumeric():\n",
    "        #Makes the move N times\n",
    "        steps = int(m0)\n",
    "        #print(f\"Numeric move, steps {steps}\")\n",
    "        for i in range(steps):\n",
    "            print(f\"i:{i}\")\n",
    "            res = doStepCube(my_face, my_y, my_x, my_dir)\n",
    "            #print(f\"res:{res}\")\n",
    "            if res is None:\n",
    "                print(\"Hit wall\")\n",
    "                break\n",
    "            else:\n",
    "                my_face, my_y, my_x, my_dir = res\n",
    "                print(f\"cface:{my_face.tag}, pos:{my_y},{my_x}, direction:{my_dir}\")\n",
    "\n",
    "    else:\n",
    "        #Instruction is a turn\n",
    "        if m0=='R':\n",
    "            #Clockwise\n",
    "            newdir = Rrot_dict[my_dir]\n",
    "        else:\n",
    "            assert m0=='L'\n",
    "            newdir= Lrot_dict[my_dir]\n",
    "        my_dir=newdir\n",
    "    print(f\"position after move, cface:{my_face.tag}, pos:{my_y},{my_x}, direction:{my_dir}\")"
   ]
  },
  {
   "attachments": {},
   "cell_type": "markdown",
   "metadata": {},
   "source": [
    "Now try to extract position in the map"
   ]
  },
  {
   "cell_type": "code",
   "execution_count": 48,
   "metadata": {},
   "outputs": [
    {
     "data": {
      "text/plain": [
       "[4, 8]"
      ]
     },
     "execution_count": 48,
     "metadata": {},
     "output_type": "execute_result"
    }
   ],
   "source": [
    "face_map_pos = my_face.map_position\n",
    "face_map_pos"
   ]
  },
  {
   "cell_type": "code",
   "execution_count": 49,
   "metadata": {},
   "outputs": [
    {
     "name": "stdout",
     "output_type": "stream",
     "text": [
      "Final position in map y1:6, x1:8 , dir1:(0, -1)\n"
     ]
    }
   ],
   "source": [
    "#Convert final position and face to map position\n",
    "y1 = my_y + face_map_pos[0]\n",
    "x1 = my_x + face_map_pos[1]\n",
    "dir1= my_dir\n",
    "\n",
    "print(f\"Final position in map y1:{y1}, x1:{x1} , dir1:{dir1}\")"
   ]
  },
  {
   "cell_type": "code",
   "execution_count": null,
   "metadata": {},
   "outputs": [],
   "source": [
    "score_dir_dict = {DIR_RIGHT:0, DIR_DOWN:1, DIR_LEFT:2, DIR_UP:3 }"
   ]
  },
  {
   "cell_type": "code",
   "execution_count": null,
   "metadata": {},
   "outputs": [],
   "source": [
    "row = pos[0]+1\n",
    "col = pos[1]+1\n",
    "dir_score = score_dir_dict[dir]"
   ]
  },
  {
   "cell_type": "code",
   "execution_count": null,
   "metadata": {},
   "outputs": [],
   "source": [
    "1000*row+4*col+dir_score"
   ]
  },
  {
   "attachments": {},
   "cell_type": "markdown",
   "metadata": {},
   "source": [
    "OK"
   ]
  },
  {
   "cell_type": "code",
   "execution_count": null,
   "metadata": {},
   "outputs": [],
   "source": []
  },
  {
   "cell_type": "code",
   "execution_count": null,
   "metadata": {},
   "outputs": [],
   "source": []
  },
  {
   "cell_type": "code",
   "execution_count": null,
   "metadata": {},
   "outputs": [],
   "source": []
  }
 ],
 "metadata": {
  "kernelspec": {
   "display_name": "dev",
   "language": "python",
   "name": "python3"
  },
  "language_info": {
   "codemirror_mode": {
    "name": "ipython",
    "version": 3
   },
   "file_extension": ".py",
   "mimetype": "text/x-python",
   "name": "python",
   "nbconvert_exporter": "python",
   "pygments_lexer": "ipython3",
   "version": "3.8.13"
  },
  "orig_nbformat": 4,
  "vscode": {
   "interpreter": {
    "hash": "ae9318eca6f153166416f971f14e35a175773b3b30438ae2aa8538d9aa021541"
   }
  }
 },
 "nbformat": 4,
 "nbformat_minor": 2
}
