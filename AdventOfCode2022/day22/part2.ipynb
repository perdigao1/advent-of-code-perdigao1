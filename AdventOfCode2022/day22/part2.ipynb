{
 "cells": [
  {
   "attachments": {},
   "cell_type": "markdown",
   "metadata": {},
   "source": [
    "# Not working"
   ]
  },
  {
   "cell_type": "code",
   "execution_count": 1,
   "metadata": {},
   "outputs": [],
   "source": [
    "file_input, cube_size = 'input_test.txt', 4\n",
    "#file_input, cube_size = 'input.txt', 50"
   ]
  },
  {
   "cell_type": "code",
   "execution_count": 2,
   "metadata": {},
   "outputs": [],
   "source": [
    "import numpy as np"
   ]
  },
  {
   "cell_type": "code",
   "execution_count": 3,
   "metadata": {},
   "outputs": [],
   "source": [
    "with open(file_input) as f:\n",
    "    filetxt = f.read()"
   ]
  },
  {
   "cell_type": "code",
   "execution_count": 4,
   "metadata": {},
   "outputs": [],
   "source": [
    "map,moves = filetxt.split('\\n\\n')"
   ]
  },
  {
   "cell_type": "code",
   "execution_count": 5,
   "metadata": {},
   "outputs": [],
   "source": [
    "map = map.split('\\n')"
   ]
  },
  {
   "cell_type": "code",
   "execution_count": 6,
   "metadata": {},
   "outputs": [
    {
     "data": {
      "text/plain": [
       "['        ...#',\n",
       " '        .#..',\n",
       " '        #...',\n",
       " '        ....',\n",
       " '...#.......#',\n",
       " '........#...',\n",
       " '..#....#....',\n",
       " '..........#.',\n",
       " '        ...#....',\n",
       " '        .....#..',\n",
       " '        .#......',\n",
       " '        ......#.']"
      ]
     },
     "execution_count": 6,
     "metadata": {},
     "output_type": "execute_result"
    }
   ],
   "source": [
    "map"
   ]
  },
  {
   "cell_type": "code",
   "execution_count": 7,
   "metadata": {},
   "outputs": [],
   "source": [
    "moves=moves.strip('\\n')"
   ]
  },
  {
   "cell_type": "code",
   "execution_count": 8,
   "metadata": {},
   "outputs": [
    {
     "data": {
      "text/plain": [
       "'10R5L5R10L4R5L5'"
      ]
     },
     "execution_count": 8,
     "metadata": {},
     "output_type": "execute_result"
    }
   ],
   "source": [
    "moves"
   ]
  },
  {
   "cell_type": "code",
   "execution_count": 9,
   "metadata": {},
   "outputs": [
    {
     "data": {
      "text/plain": [
       "['10', 'R', '5', 'L', '5', 'R', '10', 'L', '4', 'R', '5', 'L', '5']"
      ]
     },
     "execution_count": 9,
     "metadata": {},
     "output_type": "execute_result"
    }
   ],
   "source": [
    "#Test splitting the moves\n",
    "import re\n",
    "re.findall( \"[R|L]|[0-9]+\", moves)"
   ]
  },
  {
   "cell_type": "code",
   "execution_count": 10,
   "metadata": {},
   "outputs": [
    {
     "data": {
      "text/plain": [
       "['10', 'R', '5', 'L', '5', 'R', '10', 'L', '4', 'R', '5', 'L', '5']"
      ]
     },
     "execution_count": 10,
     "metadata": {},
     "output_type": "execute_result"
    }
   ],
   "source": [
    "moves_list = re.findall( \"[R|L]|[0-9]+\", moves)\n",
    "moves_list"
   ]
  },
  {
   "attachments": {},
   "cell_type": "markdown",
   "metadata": {},
   "source": [
    "# Parse map"
   ]
  },
  {
   "attachments": {},
   "cell_type": "markdown",
   "metadata": {},
   "source": [
    "Convert map to a numpy array of int8"
   ]
  },
  {
   "cell_type": "code",
   "execution_count": 11,
   "metadata": {},
   "outputs": [],
   "source": [
    "VOID=0\n",
    "TILE=1\n",
    "WALL=2"
   ]
  },
  {
   "cell_type": "code",
   "execution_count": 12,
   "metadata": {},
   "outputs": [],
   "source": [
    "conv_dict={' ':VOID , '.':TILE , '#':WALL}"
   ]
  },
  {
   "attachments": {},
   "cell_type": "markdown",
   "metadata": {},
   "source": [
    "need to figure out dimensions of the map"
   ]
  },
  {
   "cell_type": "code",
   "execution_count": 13,
   "metadata": {},
   "outputs": [
    {
     "data": {
      "text/plain": [
       "12"
      ]
     },
     "execution_count": 13,
     "metadata": {},
     "output_type": "execute_result"
    }
   ],
   "source": [
    "ysize = len(map)\n",
    "ysize"
   ]
  },
  {
   "cell_type": "code",
   "execution_count": 14,
   "metadata": {},
   "outputs": [
    {
     "data": {
      "text/plain": [
       "16"
      ]
     },
     "execution_count": 14,
     "metadata": {},
     "output_type": "execute_result"
    }
   ],
   "source": [
    "xsize=0\n",
    "for l0 in map:\n",
    "    lsize = len(l0)\n",
    "    xsize=max(xsize,lsize)\n",
    "xsize"
   ]
  },
  {
   "attachments": {},
   "cell_type": "markdown",
   "metadata": {},
   "source": [
    "Create array with these dimensions and fill with the elements"
   ]
  },
  {
   "cell_type": "code",
   "execution_count": 15,
   "metadata": {},
   "outputs": [],
   "source": [
    "map_np = np.zeros((ysize,xsize), dtype=np.int8)\n",
    "\n",
    "for iy, l0 in enumerate(map):\n",
    "    for ix,char in enumerate(l0):\n",
    "        map_np[iy,ix] = conv_dict[char]"
   ]
  },
  {
   "cell_type": "code",
   "execution_count": 16,
   "metadata": {},
   "outputs": [
    {
     "data": {
      "text/plain": [
       "<matplotlib.image.AxesImage at 0x19179213970>"
      ]
     },
     "execution_count": 16,
     "metadata": {},
     "output_type": "execute_result"
    },
    {
     "data": {
      "image/png": "[encoded data removed]",
      "text/plain": [
       "<Figure size 640x480 with 1 Axes>"
      ]
     },
     "metadata": {},
     "output_type": "display_data"
    }
   ],
   "source": [
    "import matplotlib.pyplot as plt\n",
    "plt.imshow(map_np)"
   ]
  },
  {
   "attachments": {},
   "cell_type": "markdown",
   "metadata": {},
   "source": [
    "Get starting position. This is the top line, the first time a free tile appears"
   ]
  },
  {
   "cell_type": "code",
   "execution_count": 17,
   "metadata": {},
   "outputs": [],
   "source": [
    "ystart=0\n",
    "xstart=0\n",
    "topline = map_np[0,:]"
   ]
  },
  {
   "cell_type": "code",
   "execution_count": 17,
   "metadata": {},
   "outputs": [
    {
     "ename": "NameError",
     "evalue": "name 'topline' is not defined",
     "output_type": "error",
     "traceback": [
      "\u001b[1;31m---------------------------------------------------------------------------\u001b[0m",
      "\u001b[1;31mNameError\u001b[0m                                 Traceback (most recent call last)",
      "Cell \u001b[1;32mIn[17], line 1\u001b[0m\n\u001b[1;32m----> 1\u001b[0m topline\n",
      "\u001b[1;31mNameError\u001b[0m: name 'topline' is not defined"
     ]
    }
   ],
   "source": [
    "topline"
   ]
  },
  {
   "cell_type": "code",
   "execution_count": null,
   "metadata": {},
   "outputs": [
    {
     "data": {
      "text/plain": [
       "50"
      ]
     },
     "execution_count": 19,
     "metadata": {},
     "output_type": "execute_result"
    }
   ],
   "source": [
    "xstart=np.nonzero(np.logical_and(topline[0:-1]==VOID, topline[1:]==TILE) )[0][0]+1\n",
    "xstart"
   ]
  },
  {
   "attachments": {},
   "cell_type": "markdown",
   "metadata": {},
   "source": [
    "Setup directions"
   ]
  },
  {
   "cell_type": "code",
   "execution_count": 18,
   "metadata": {},
   "outputs": [],
   "source": [
    "DIR_UP=(-1,0)\n",
    "DIR_DOWN=(1,0)\n",
    "DIR_LEFT=(0,-1)\n",
    "DIR_RIGHT=(0,1)"
   ]
  },
  {
   "cell_type": "code",
   "execution_count": 19,
   "metadata": {},
   "outputs": [],
   "source": [
    "Lrot_dict={DIR_UP:DIR_LEFT , DIR_DOWN:DIR_RIGHT , DIR_LEFT:DIR_DOWN , DIR_RIGHT:DIR_UP} #counterclockwise\n",
    "Rrot_dict={DIR_UP:DIR_RIGHT , DIR_DOWN:DIR_LEFT , DIR_LEFT:DIR_UP , DIR_RIGHT:DIR_DOWN} #clockwise"
   ]
  },
  {
   "attachments": {},
   "cell_type": "markdown",
   "metadata": {},
   "source": [
    "# Setup the cubefaces\n",
    "\n",
    "Check notebook for details"
   ]
  },
  {
   "cell_type": "code",
   "execution_count": 21,
   "metadata": {},
   "outputs": [],
   "source": []
  },
  {
   "cell_type": "code",
   "execution_count": 33,
   "metadata": {},
   "outputs": [],
   "source": [
    "#Get the order of face locations along row\n",
    "face_locations = [\n",
    "    [0,1,2,3],\n",
    "    [5,1,4,3],\n",
    "    [2,1,0,3],\n",
    "    [4,1,5,3]\n",
    "    ]\n",
    "\n",
    "#Clockwise rotations\n",
    "face_C_rots = [\n",
    "    [0,0,0,0],\n",
    "    [0,1,2,3],\n",
    "    [2,2,2,2],\n",
    "    [0,3,2,1]\n",
    "    ]"
   ]
  },
  {
   "cell_type": "code",
   "execution_count": 55,
   "metadata": {},
   "outputs": [
    {
     "name": "stdout",
     "output_type": "stream",
     "text": [
      "face found, iy:0 , ix:8 , fl:2 , fcr:0\n",
      "face found, iy:4 , ix:0 , fl:5 , fcr:0\n",
      "face found, iy:4 , ix:4 , fl:1 , fcr:1\n",
      "face found, iy:4 , ix:8 , fl:4 , fcr:2\n",
      "face found, iy:8 , ix:8 , fl:0 , fcr:2\n",
      "face found, iy:8 , ix:12 , fl:3 , fcr:2\n"
     ]
    }
   ],
   "source": [
    "cubefaces = []\n",
    "cubefaces_mappos = [0,0,0,0,0,0]\n",
    "cubeface_rotapplied = [0,0,0,0,0,0]\n",
    "starting_face = -1\n",
    "\n",
    "#Initialise\n",
    "for i in range(6):\n",
    "    cubeface0 = np.zeros((cube_size, cube_size), dtype=np.int8)\n",
    "    cubefaces.append(cubeface0)\n",
    "    cubefaces_mappos\n",
    "\n",
    "for iy in range(0, map_np.shape[0], cube_size):\n",
    "    for ix in range( 0, map_np.shape[1], cube_size):\n",
    "        face = map_np[iy:iy+cube_size , ix:ix+cube_size]\n",
    "\n",
    "        if face[0,0]!=VOID:\n",
    "            #Valid face, add to cubeface at the right location\n",
    "            row = (iy//cube_size) %4\n",
    "            col = (ix//cube_size) %4\n",
    "\n",
    "            fl = face_locations[row][col]\n",
    "            fcr = face_C_rots[row][col]\n",
    "\n",
    "            if row==0 and starting_face==-1:\n",
    "                starting_face=fl\n",
    "\n",
    "            print(f\"face found, iy:{iy} , ix:{ix} , fl:{fl} , fcr:{fcr}\")\n",
    "            face_rot = np.rot90(face,k=-fcr)\n",
    "            #Add element\n",
    "            cubefaces[fl] = face_rot\n",
    "            cubefaces_mappos[fl]= [iy,ix]\n",
    "            cubeface_rotapplied[fl]=fcr\n"
   ]
  },
  {
   "cell_type": "code",
   "execution_count": 56,
   "metadata": {},
   "outputs": [
    {
     "data": {
      "text/plain": [
       "[array([[1, 1, 1, 1],\n",
       "        [1, 1, 2, 1],\n",
       "        [1, 1, 1, 1],\n",
       "        [2, 1, 1, 1]], dtype=int8),\n",
       " array([[1, 1, 1, 1],\n",
       "        [1, 1, 1, 1],\n",
       "        [1, 1, 1, 1],\n",
       "        [1, 2, 1, 1]], dtype=int8),\n",
       " array([[1, 1, 1, 2],\n",
       "        [1, 2, 1, 1],\n",
       "        [2, 1, 1, 1],\n",
       "        [1, 1, 1, 1]], dtype=int8),\n",
       " array([[1, 2, 1, 1],\n",
       "        [1, 1, 1, 1],\n",
       "        [1, 1, 2, 1],\n",
       "        [1, 1, 1, 1]], dtype=int8),\n",
       " array([[1, 2, 1, 1],\n",
       "        [1, 1, 1, 1],\n",
       "        [1, 1, 1, 2],\n",
       "        [2, 1, 1, 1]], dtype=int8),\n",
       " array([[1, 1, 1, 2],\n",
       "        [1, 1, 1, 1],\n",
       "        [1, 1, 2, 1],\n",
       "        [1, 1, 1, 1]], dtype=int8)]"
      ]
     },
     "execution_count": 56,
     "metadata": {},
     "output_type": "execute_result"
    }
   ],
   "source": [
    "cubefaces"
   ]
  },
  {
   "cell_type": "code",
   "execution_count": 57,
   "metadata": {},
   "outputs": [
    {
     "data": {
      "text/plain": [
       "[[8, 8], [4, 4], [0, 8], [8, 12], [4, 8], [4, 0]]"
      ]
     },
     "execution_count": 57,
     "metadata": {},
     "output_type": "execute_result"
    }
   ],
   "source": [
    "cubefaces_mappos"
   ]
  },
  {
   "cell_type": "code",
   "execution_count": 60,
   "metadata": {},
   "outputs": [
    {
     "data": {
      "text/plain": [
       "[2, 1, 0, 2, 2, 0]"
      ]
     },
     "execution_count": 60,
     "metadata": {},
     "output_type": "execute_result"
    }
   ],
   "source": [
    "cubeface_rotapplied"
   ]
  },
  {
   "cell_type": "code",
   "execution_count": 61,
   "metadata": {},
   "outputs": [
    {
     "data": {
      "text/plain": [
       "2"
      ]
     },
     "execution_count": 61,
     "metadata": {},
     "output_type": "execute_result"
    }
   ],
   "source": [
    "starting_face"
   ]
  },
  {
   "attachments": {},
   "cell_type": "markdown",
   "metadata": {},
   "source": [
    "# Algorithm\n",
    "\n",
    "Need to modify the DoStep so that takes into account the cube folding"
   ]
  },
  {
   "cell_type": "code",
   "execution_count": 62,
   "metadata": {},
   "outputs": [],
   "source": [
    "def doStep(pos0, dir0):\n",
    "    #Check against map if one step of the move is possible\n",
    "    y = pos0[0] #new positons start\n",
    "    x = pos0[1]\n",
    "\n",
    "    sizey, sizex = map_np.shape\n",
    "    isVoid=True\n",
    "\n",
    "    while isVoid:\n",
    "        #Move one step\n",
    "        y+=dir0[0]\n",
    "        x+=dir0[1]\n",
    "\n",
    "        if x<0: x=sizex-1\n",
    "        if x>=sizex: x=0\n",
    "        if y<0: y=sizey-1\n",
    "        if y>=sizey: y=0\n",
    "\n",
    "        #Check if it is wall\n",
    "        if map_np[y,x] == WALL:\n",
    "            return None #Cannot move, so stop\n",
    "        elif map_np[y,x] == VOID:\n",
    "            isVoid=True\n",
    "        else:\n",
    "            isVoid=False\n",
    "\n",
    "    assert map_np[y,x] == TILE\n",
    "\n",
    "    return [y,x]"
   ]
  },
  {
   "cell_type": "code",
   "execution_count": null,
   "metadata": {},
   "outputs": [],
   "source": []
  },
  {
   "cell_type": "code",
   "execution_count": 63,
   "metadata": {},
   "outputs": [],
   "source": [
    "def doStepCube(pos0, face_number, dir0):\n",
    "\n",
    "    #pos is position within the face_number given\n",
    "\n",
    "    y = pos0[0] #new positons start\n",
    "    x = pos0[1]\n",
    "\n",
    "    new_face_number = face_number\n",
    "\n",
    "    newdir = dir0\n",
    "\n",
    "    #sizey, sizex = cube_size\n",
    "\n",
    "    #isVoid=True #There is no void this time\n",
    "\n",
    "    #Move one step\n",
    "    y+=dir0[0]\n",
    "    x+=dir0[1]\n",
    "\n",
    "    #Check for over-the-edge movement\n",
    "    # If goes over the edge, then move it to new face and adjust direction\n",
    "    \n",
    "    if x<0:\n",
    "        assert dir0==DIR_LEFT\n",
    "        if 1<=face_number<=3:\n",
    "            #Just move to lower face number, keep direction, and adjust x\n",
    "            new_face_number-=1\n",
    "            x = cube_size-1\n",
    "        if face_number==0:\n",
    "            new_face_number=3\n",
    "            x = cube_size-1\n",
    "        if face_number==4:\n",
    "            #Emerges from top of 3\n",
    "            new_face_number=3\n",
    "            x=y\n",
    "            y=0\n",
    "            newdir=DIR_DOWN\n",
    "        if face_number==5:\n",
    "            #Emerges from bottom of 3\n",
    "            new_face_number=3\n",
    "            x=cube_size-1-y #note the subtraction\n",
    "            y=cube_size-1\n",
    "            newdir=DIR_UP\n",
    "    \n",
    "    if x>=cube_size:\n",
    "        assert dir0==DIR_RIGHT\n",
    "        if 0<=face_number<=2:\n",
    "            #move to higher face number, keep direction, and adjust x\n",
    "            new_face_number+=1\n",
    "            x=0\n",
    "        if face_number==3:\n",
    "            new_face_number=0\n",
    "            x=0\n",
    "        if face_number==4:\n",
    "            #emerges from top of 1\n",
    "            new_face_number=1 #Emerges from top of 1\n",
    "            x=cube_size-1-y\n",
    "            y=0\n",
    "            newdir=DIR_DOWN\n",
    "        if face_number==5:\n",
    "            #emerges from bottom of 1\n",
    "            new_face_number=1 #Emerges from bottom of 1\n",
    "            x=y\n",
    "            y=cube_size-1\n",
    "            newdir=DIR_UP\n",
    "\n",
    "    if y<0:\n",
    "        assert dir0==DIR_UP\n",
    "        if face_number==0:\n",
    "            new_face_number=4\n",
    "            y=cube_size-1\n",
    "        if face_number==5:\n",
    "            new_face_number=0\n",
    "            y=cube_size-1\n",
    "\n",
    "        if face_number==4:\n",
    "            #Emerges from the top of 2\n",
    "            new_face_number=2\n",
    "            y=0\n",
    "            x=cube_size-1-x\n",
    "            newdir=DIR_DOWN\n",
    "        if face_number==1:\n",
    "            #Emerges from the right side of 4\n",
    "            new_face_number=4\n",
    "            y=cube_size-1-x\n",
    "            x=cube_size-1\n",
    "            newdir=DIR_LEFT\n",
    "        if face_number==2:\n",
    "            #Emerges from the top side of 4\n",
    "            new_face_number=4\n",
    "            y=0\n",
    "            x=cube_size-1-x\n",
    "            newdir=DIR_DOWN\n",
    "        if face_number==3:\n",
    "            #Emerges from the left side of 3\n",
    "            new_face_number=4\n",
    "            y=x\n",
    "            x=0\n",
    "            newdir=DIR_RIGHT\n",
    "        \n",
    "    if y>=cube_size:\n",
    "        assert dir0==DIR_DOWN\n",
    "\n",
    "        if face_number==4:\n",
    "            new_face_number=0\n",
    "            y=0\n",
    "        if face_number==0:\n",
    "            new_face_number=5\n",
    "            y=0\n",
    "\n",
    "        if face_number==5:\n",
    "            #Emerges from the bottom of 2\n",
    "            new_face_number=2\n",
    "            x=cube_size-1-x\n",
    "            y=cube_size-1\n",
    "            newdir=DIR_UP\n",
    "        if face_number==1:\n",
    "            # Emerges from the right of 5\n",
    "            new_face_number=5\n",
    "            y=x\n",
    "            x=cube_size-1\n",
    "            newdir=DIR_LEFT\n",
    "\n",
    "        if face_number==2:\n",
    "            # Emerges from the bottom of 5\n",
    "            new_face_number=5\n",
    "            x=cube_size-1-x\n",
    "            y=cube_size-1\n",
    "            newdir=DIR_UP\n",
    "\n",
    "        if face_number==3:\n",
    "            # Emerges from the left of 5\n",
    "            new_face_number=5\n",
    "            y=cube_size-1-x\n",
    "            x=0\n",
    "            newdir=DIR_RIGHT\n",
    "\n",
    "    newface = cubefaces[new_face_number]\n",
    "\n",
    "    #Check if it is wall\n",
    "    if newface[y,x] == WALL:\n",
    "        return None #Cannot move, so stop\n",
    "\n",
    "    assert newface[y,x] == TILE\n",
    "\n",
    "\n",
    "    #Return new position, new direction and face\n",
    "    return [y,x] , new_face_number, newdir"
   ]
  },
  {
   "cell_type": "code",
   "execution_count": 64,
   "metadata": {},
   "outputs": [
    {
     "name": "stdout",
     "output_type": "stream",
     "text": [
      "starting location, face:2, pos:[0, 0], direction:(0, 1)\n",
      "position after move, face:2, pos:[0, 2], direction:(0, 1)\n",
      "position after move, face:2, pos:[0, 2], direction:(1, 0)\n",
      "position after move, face:5, pos:[2, 1], direction:(-1, 0)\n",
      "position after move, face:5, pos:[2, 1], direction:(0, -1)\n",
      "position after move, face:3, pos:[1, 1], direction:(-1, 0)\n",
      "position after move, face:3, pos:[1, 1], direction:(0, 1)\n",
      "position after move, face:0, pos:[1, 1], direction:(0, 1)\n",
      "position after move, face:0, pos:[1, 1], direction:(-1, 0)\n",
      "position after move, face:4, pos:[1, 1], direction:(-1, 0)\n",
      "position after move, face:4, pos:[1, 1], direction:(0, 1)\n",
      "position after move, face:1, pos:[2, 2], direction:(1, 0)\n",
      "position after move, face:1, pos:[2, 2], direction:(0, 1)\n",
      "position after move, face:1, pos:[2, 3], direction:(0, 1)\n"
     ]
    }
   ],
   "source": [
    "#Starting position and direction\n",
    "my_pos = [0, 0]\n",
    "my_face = starting_face\n",
    "my_dir = DIR_RIGHT\n",
    "\n",
    "print(f\"starting location, face:{my_face}, pos:{my_pos}, direction:{my_dir}\")\n",
    "for m0 in moves_list:\n",
    "    #print(f\"Move {m0}\")\n",
    "    if m0.isnumeric():\n",
    "        #Makes the move N times\n",
    "        steps = int(m0)\n",
    "        #print(f\"Numeric move, steps {steps}\")\n",
    "        for i in range(steps):\n",
    "            #print(f\"i:{i}\")\n",
    "            res = doStepCube(my_pos,my_face, my_dir)\n",
    "            #print(f\"res:{res}\")\n",
    "            if res is None:\n",
    "                break\n",
    "            else:\n",
    "                my_pos, my_face, my_dir = res\n",
    "\n",
    "    else:\n",
    "        #Instruction is a turn\n",
    "        if m0=='R':\n",
    "            #Clockwise\n",
    "            newdir = Rrot_dict[my_dir]\n",
    "        else:\n",
    "            assert m0=='L'\n",
    "            newdir= Lrot_dict[my_dir]\n",
    "        my_dir=newdir\n",
    "    print(f\"position after move, face:{my_face}, pos:{my_pos}, direction:{my_dir}\")"
   ]
  },
  {
   "cell_type": "code",
   "execution_count": 67,
   "metadata": {},
   "outputs": [
    {
     "name": "stdout",
     "output_type": "stream",
     "text": [
      "y0:3, x0:2, dir0:(0, 1)\n",
      "After reversing rotation of face y0:1, x0:3 , dir0:(1, 0)\n",
      "Final position in map y1:5, x1:7 , dir1:(1, 0)\n"
     ]
    }
   ],
   "source": [
    "#Convert position and face to map position\n",
    "final_face = my_face\n",
    "rot_to_rev = cubeface_rotapplied[final_face]\n",
    "\n",
    "x0, y0 = my_pos\n",
    "dir0 = my_dir\n",
    "print(f\"y0:{y0}, x0:{x0}, dir0:{dir0}\")\n",
    "\n",
    "#This time rotate coords clockwise to reverse\n",
    "for i in range(rot_to_rev):\n",
    "    x_rot= y0\n",
    "    y_rot = cube_size-1-x0\n",
    "    x0=x_rot\n",
    "    y0=y_rot\n",
    "\n",
    "    dir0 = Rrot_dict[dir0]\n",
    "\n",
    "print(f\"After reversing rotation of face y0:{y0}, x0:{x0} , dir0:{dir0}\")\n",
    "\n",
    "#Get positon in map\n",
    "face_mappos = cubefaces_mappos[final_face]\n",
    "y1 = y0 + face_mappos[0]\n",
    "x1 = x0 + face_mappos[1]\n",
    "dir1= dir0\n",
    "\n",
    "print(f\"Final position in map y1:{y1}, x1:{x1} , dir1:{dir1}\")"
   ]
  },
  {
   "cell_type": "code",
   "execution_count": 68,
   "metadata": {},
   "outputs": [],
   "source": [
    "score_dir_dict = {DIR_RIGHT:0, DIR_DOWN:1, DIR_LEFT:2, DIR_UP:3 }"
   ]
  },
  {
   "cell_type": "code",
   "execution_count": 135,
   "metadata": {},
   "outputs": [],
   "source": [
    "row = pos[0]+1\n",
    "col = pos[1]+1\n",
    "dir_score = score_dir_dict[dir]"
   ]
  },
  {
   "cell_type": "code",
   "execution_count": 136,
   "metadata": {},
   "outputs": [
    {
     "data": {
      "text/plain": [
       "186128"
      ]
     },
     "execution_count": 136,
     "metadata": {},
     "output_type": "execute_result"
    }
   ],
   "source": [
    "1000*row+4*col+dir_score"
   ]
  },
  {
   "attachments": {},
   "cell_type": "markdown",
   "metadata": {},
   "source": [
    "OK"
   ]
  },
  {
   "cell_type": "code",
   "execution_count": null,
   "metadata": {},
   "outputs": [],
   "source": []
  },
  {
   "cell_type": "code",
   "execution_count": null,
   "metadata": {},
   "outputs": [],
   "source": []
  },
  {
   "cell_type": "code",
   "execution_count": null,
   "metadata": {},
   "outputs": [],
   "source": []
  }
 ],
 "metadata": {
  "kernelspec": {
   "display_name": "dev",
   "language": "python",
   "name": "python3"
  },
  "language_info": {
   "codemirror_mode": {
    "name": "ipython",
    "version": 3
   },
   "file_extension": ".py",
   "mimetype": "text/x-python",
   "name": "python",
   "nbconvert_exporter": "python",
   "pygments_lexer": "ipython3",
   "version": "3.8.13"
  },
  "orig_nbformat": 4,
  "vscode": {
   "interpreter": {
    "hash": "ae9318eca6f153166416f971f14e35a175773b3b30438ae2aa8538d9aa021541"
   }
  }
 },
 "nbformat": 4,
 "nbformat_minor": 2
}
