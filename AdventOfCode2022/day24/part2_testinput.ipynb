{
 "cells": [
  {
   "cell_type": "code",
   "execution_count": 1,
   "metadata": {},
   "outputs": [],
   "source": [
    "import numpy as np"
   ]
  },
  {
   "cell_type": "code",
   "execution_count": 2,
   "metadata": {},
   "outputs": [],
   "source": [
    "input_file='./input_test.txt'\n",
    "#input_file='./input.txt'"
   ]
  },
  {
   "cell_type": "code",
   "execution_count": 3,
   "metadata": {},
   "outputs": [],
   "source": [
    "with open(input_file,'r') as f:\n",
    "    lines=f.read().split('\\n')"
   ]
  },
  {
   "cell_type": "code",
   "execution_count": 4,
   "metadata": {},
   "outputs": [],
   "source": [
    "lines.remove('')"
   ]
  },
  {
   "cell_type": "code",
   "execution_count": 5,
   "metadata": {},
   "outputs": [
    {
     "data": {
      "text/plain": [
       "['#.######', '#>>.<^<#', '#.<..<<#', '#>v.><>#', '#<^v^^>#', '######.#']"
      ]
     },
     "execution_count": 5,
     "metadata": {},
     "output_type": "execute_result"
    }
   ],
   "source": [
    "lines"
   ]
  },
  {
   "cell_type": "code",
   "execution_count": 6,
   "metadata": {},
   "outputs": [
    {
     "data": {
      "text/plain": [
       "(-1, 0)"
      ]
     },
     "execution_count": 6,
     "metadata": {},
     "output_type": "execute_result"
    }
   ],
   "source": [
    "# First line tells initial position of elf, and width size of the area\n",
    "elf_pos_initial=(-1,lines[0].index('.')-1) #y=-1 and x given\n",
    "elf_pos_initial"
   ]
  },
  {
   "cell_type": "code",
   "execution_count": 7,
   "metadata": {},
   "outputs": [
    {
     "data": {
      "text/plain": [
       "(4, 5)"
      ]
     },
     "execution_count": 7,
     "metadata": {},
     "output_type": "execute_result"
    }
   ],
   "source": [
    "elf_aim_position=(len(lines)-2,lines[-1].index('.')-1)\n",
    "elf_aim_position"
   ]
  },
  {
   "cell_type": "code",
   "execution_count": 8,
   "metadata": {},
   "outputs": [
    {
     "name": "stdout",
     "output_type": "stream",
     "text": [
      "4\n",
      "6\n"
     ]
    }
   ],
   "source": [
    "valley_width = len(lines[0])-2\n",
    "valley_height = len(lines)-2\n",
    "print(valley_height)\n",
    "print(valley_width)"
   ]
  },
  {
   "attachments": {},
   "cell_type": "markdown",
   "metadata": {},
   "source": [
    "Get initial state of blizzard"
   ]
  },
  {
   "cell_type": "code",
   "execution_count": 9,
   "metadata": {},
   "outputs": [],
   "source": [
    "blizzard_up_initial=np.zeros((valley_height,valley_width), dtype=bool)\n",
    "blizzard_down_initial=np.zeros((valley_height,valley_width), dtype=bool)\n",
    "blizzard_right_initial=np.zeros((valley_height,valley_width), dtype=bool)\n",
    "blizzard_left_initial=np.zeros((valley_height,valley_width), dtype=bool)\n",
    "for irow,line in enumerate(lines[1:-1]):\n",
    "    for icol, char in enumerate(line[1:-1]):\n",
    "        if char=='^':\n",
    "            blizzard_up_initial[irow,icol]=True\n",
    "            continue\n",
    "        if char=='>':\n",
    "            blizzard_right_initial[irow,icol]=True\n",
    "            continue\n",
    "        if char=='v':\n",
    "            blizzard_down_initial[irow,icol]=True\n",
    "            continue\n",
    "        if char=='<':\n",
    "            blizzard_left_initial[irow,icol]=True"
   ]
  },
  {
   "attachments": {},
   "cell_type": "markdown",
   "metadata": {},
   "source": [
    "In order to find next movement, it is best to find the next blizzard position(s)"
   ]
  },
  {
   "cell_type": "code",
   "execution_count": 10,
   "metadata": {},
   "outputs": [],
   "source": [
    "def getNextBlizzard(blizzard_up, blizzard_right, blizzard_down, blizzard_left):\n",
    "    blizzard_up_next = np.zeros_like(blizzard_up)\n",
    "    blizzard_up_next[0:-1,:] = blizzard_up[1:,:]\n",
    "    blizzard_up_next[-1,:]=blizzard_up[0,:]\n",
    "\n",
    "    blizzard_down_next = np.zeros_like(blizzard_down)\n",
    "    blizzard_down_next[1:,:] = blizzard_down[0:-1,:]\n",
    "    blizzard_down_next[0,:]=blizzard_down[-1,:]\n",
    "\n",
    "    blizzard_right_next = np.zeros_like(blizzard_right)\n",
    "    blizzard_right_next[:,1:] = blizzard_right[:,0:-1]\n",
    "    blizzard_right_next[:,0]=blizzard_right[:,-1]\n",
    "\n",
    "    blizzard_left_next = np.zeros_like(blizzard_left)\n",
    "    blizzard_left_next[:,0:-1] = blizzard_left[:,1:]\n",
    "    blizzard_left_next[:,-1]=blizzard_left[:,0]\n",
    "\n",
    "    return (blizzard_up_next, blizzard_right_next, blizzard_down_next, blizzard_left_next)"
   ]
  },
  {
   "cell_type": "code",
   "execution_count": 11,
   "metadata": {},
   "outputs": [],
   "source": [
    "def printBlizzardMap(blizzard_up, blizzard_right, blizzard_down, blizzard_left):\n",
    "    irows,icols = blizzard_up.shape\n",
    "    blizzards_total = blizzard_up.astype(np.uint8)+blizzard_right.astype(np.uint8)+blizzard_down.astype(np.uint8)+blizzard_left.astype(np.uint8)\n",
    "    print('#'*(icols+2))\n",
    "    for irow in range(irows):\n",
    "        s='#'\n",
    "        for icol in range(icols):\n",
    "            bl_tot0=blizzards_total[irow,icol]\n",
    "            if bl_tot0==0:\n",
    "                s+='.'\n",
    "                continue\n",
    "            if bl_tot0>1:\n",
    "                s+=str(blizzards_total[irow,icol])\n",
    "                continue\n",
    "            #Only one blizzard, put the right character\n",
    "            if blizzard_up[irow,icol]:\n",
    "                s+='^'\n",
    "                continue\n",
    "            if blizzard_right[irow,icol]:\n",
    "                s+='>'\n",
    "                continue\n",
    "            if blizzard_down[irow,icol]:\n",
    "                s+='v'\n",
    "                continue\n",
    "            if blizzard_left[irow,icol]:\n",
    "                s+='<'\n",
    "                continue\n",
    "        s+='#'\n",
    "        print(s)\n",
    "    print('#'*(icols+2)) "
   ]
  },
  {
   "cell_type": "code",
   "execution_count": 12,
   "metadata": {},
   "outputs": [],
   "source": [
    "def get_manhatan_distance(vector0, vector1):\n",
    "    v1=np.array(vector0)\n",
    "    v2=np.array(vector1)\n",
    "\n",
    "    return np.sum(np.abs(v1-v2))"
   ]
  },
  {
   "attachments": {},
   "cell_type": "markdown",
   "metadata": {},
   "source": [
    "Check Manh distance from start to end, for curiosity"
   ]
  },
  {
   "cell_type": "code",
   "execution_count": 13,
   "metadata": {},
   "outputs": [
    {
     "data": {
      "text/plain": [
       "10"
      ]
     },
     "execution_count": 13,
     "metadata": {},
     "output_type": "execute_result"
    }
   ],
   "source": [
    "no_blizz_distance= get_manhatan_distance(elf_pos_initial,elf_aim_position)\n",
    "no_blizz_distance"
   ]
  },
  {
   "attachments": {},
   "cell_type": "markdown",
   "metadata": {},
   "source": [
    "Create a function that can work recursively that\n",
    "\n",
    "Need global variable that has minimum minutes turns to get to destination from start.\n",
    "global with dimension of valey\n",
    "\n",
    "Returns (minimum) number of minutes to get to destination from this location. None if it could not find suitable route.\n",
    "\n",
    "Parameters:\n",
    "- next elf location\n",
    "- next blizzard state\n",
    "- current number of moves"
   ]
  },
  {
   "cell_type": "code",
   "execution_count": 14,
   "metadata": {},
   "outputs": [],
   "source": [
    "global_minmins=None\n",
    "global_max_mins=5*no_blizz_distance"
   ]
  },
  {
   "cell_type": "code",
   "execution_count": 15,
   "metadata": {},
   "outputs": [],
   "source": [
    "global_elfpos_mins_history=[]"
   ]
  },
  {
   "cell_type": "code",
   "execution_count": 16,
   "metadata": {},
   "outputs": [],
   "source": [
    "def get_minimum_minutes_from(elf_loc, blizz_state, n_cur_minutes):\n",
    "    global valley_width\n",
    "    global valley_height\n",
    "    global elf_aim_position\n",
    "    global global_minmins\n",
    "    global global_max_mins\n",
    "    global global_elfpos_mins_history\n",
    "    \n",
    "    print(f\"elf_loc:{elf_loc}, n_cur_minutes:{n_cur_minutes}, global_minmins:{global_minmins}\")\n",
    "    if elf_loc[1]==elf_aim_position[1] and elf_loc[0]==elf_aim_position[0]-1:\n",
    "        #Next move is to exit, regardless of blizzard\n",
    "        print(f\"Exit after:{n_cur_minutes+1}\")\n",
    "        return n_cur_minutes+1\n",
    "    \n",
    "    if (elf_loc,n_cur_minutes) in global_elfpos_mins_history:\n",
    "        #already checked from this position\n",
    "        return None\n",
    "    else:\n",
    "        global_elfpos_mins_history.append( (elf_loc,n_cur_minutes) )\n",
    "\n",
    "    #Check current position against the global minmins\n",
    "    if not global_minmins is None:\n",
    "        if n_cur_minutes+get_manhatan_distance(elf_loc,elf_aim_position) > global_minmins:\n",
    "            #No point trying to find a route as it will take more minutes than minimum set\n",
    "            return None\n",
    "    \n",
    "    if n_cur_minutes>global_max_mins:\n",
    "        return None\n",
    "        \n",
    "    #Update blizzard to new state\n",
    "    blizz_next = getNextBlizzard(*blizz_state)\n",
    "\n",
    "    #with this new blizzard check possible movements\n",
    "    next_positions=[]\n",
    "    #Preference down or right\n",
    "\n",
    "    bl0,bl1,bl2,bl3= blizz_next\n",
    "    #Blizard any\n",
    "    bl_any = bl0 | bl1 | bl2 | bl3\n",
    "\n",
    "    #Check right\n",
    "    if elf_loc[1]<valley_width-1:\n",
    "        pos1= (elf_loc[0],elf_loc[1]+1)\n",
    "        if not bl_any[pos1[0], pos1[1]]:\n",
    "            next_positions.append(pos1)\n",
    "\n",
    "    #Check down\n",
    "    if elf_loc[0]<valley_height-1:\n",
    "        pos1=(elf_loc[0]+1,elf_loc[1])\n",
    "        if not bl_any[pos1[0], pos1[1]]:\n",
    "            next_positions.append(pos1)\n",
    "    \n",
    "\n",
    "    #Check left\n",
    "    if elf_loc[1]>0:\n",
    "        pos1= (elf_loc[0],elf_loc[1]-1)\n",
    "        if not bl_any[pos1[0], pos1[1]]:\n",
    "            next_positions.append(pos1)\n",
    "    \n",
    "    #Check stationary\n",
    "    pos1= (elf_loc[0],elf_loc[1])\n",
    "    if not bl_any[pos1[0], pos1[1]]:\n",
    "        next_positions.append(pos1)\n",
    "\n",
    "    #Check up\n",
    "    if elf_loc[0]>0:\n",
    "        pos1=(elf_loc[0]-1,elf_loc[1])\n",
    "        if not bl_any[pos1[0], pos1[1]]:\n",
    "            next_positions.append(pos1)\n",
    "    \n",
    "    #At this point next_positions should have all possible positions to try if any\n",
    "    if len(next_positions)==0:\n",
    "        #No movements of stationary is possible, returning None\n",
    "        return None\n",
    "    else:\n",
    "        n_cur_minutes0=n_cur_minutes+1 #for next iteration\n",
    "        for nextpos0 in next_positions:\n",
    "            mins=get_minimum_minutes_from(nextpos0, blizz_next, n_cur_minutes0)\n",
    "\n",
    "            #Process mins\n",
    "            if not mins is None:\n",
    "                if global_minmins is None:\n",
    "                    global_minmins=mins\n",
    "                else:\n",
    "                    global_minmins=min(global_minmins,mins)\n",
    "        \n",
    "        return global_minmins"
   ]
  },
  {
   "attachments": {},
   "cell_type": "markdown",
   "metadata": {},
   "source": [
    "# try running"
   ]
  },
  {
   "cell_type": "code",
   "execution_count": 17,
   "metadata": {},
   "outputs": [],
   "source": [
    "blizz_start = (blizzard_up_initial, blizzard_right_initial, blizzard_down_initial, blizzard_left_initial)"
   ]
  },
  {
   "cell_type": "code",
   "execution_count": 18,
   "metadata": {},
   "outputs": [
    {
     "name": "stdout",
     "output_type": "stream",
     "text": [
      "global_max_mins:80\n",
      "elf_loc:(-1, 0), n_cur_minutes:0, global_minmins:None\n",
      "elf_loc:(0, 0), n_cur_minutes:1, global_minmins:None\n",
      "elf_loc:(1, 0), n_cur_minutes:2, global_minmins:None\n",
      "elf_loc:(1, 0), n_cur_minutes:3, global_minmins:None\n",
      "elf_loc:(0, 0), n_cur_minutes:4, global_minmins:None\n",
      "elf_loc:(0, 1), n_cur_minutes:5, global_minmins:None\n",
      "elf_loc:(0, 2), n_cur_minutes:6, global_minmins:None\n",
      "elf_loc:(1, 2), n_cur_minutes:7, global_minmins:None\n",
      "elf_loc:(1, 1), n_cur_minutes:8, global_minmins:None\n",
      "elf_loc:(1, 0), n_cur_minutes:9, global_minmins:None\n",
      "elf_loc:(0, 0), n_cur_minutes:10, global_minmins:None\n",
      "elf_loc:(0, 1), n_cur_minutes:9, global_minmins:None\n",
      "elf_loc:(0, 2), n_cur_minutes:10, global_minmins:None\n",
      "elf_loc:(0, 2), n_cur_minutes:11, global_minmins:None\n",
      "elf_loc:(1, 2), n_cur_minutes:12, global_minmins:None\n",
      "elf_loc:(2, 2), n_cur_minutes:13, global_minmins:None\n",
      "elf_loc:(2, 3), n_cur_minutes:14, global_minmins:None\n",
      "elf_loc:(2, 4), n_cur_minutes:15, global_minmins:None\n",
      "elf_loc:(2, 5), n_cur_minutes:16, global_minmins:None\n",
      "elf_loc:(3, 5), n_cur_minutes:17, global_minmins:None\n",
      "Exit after:18\n",
      "elf_loc:(1, 4), n_cur_minutes:16, global_minmins:18\n",
      "elf_loc:(1, 3), n_cur_minutes:15, global_minmins:18\n",
      "elf_loc:(3, 2), n_cur_minutes:14, global_minmins:18\n",
      "elf_loc:(3, 1), n_cur_minutes:15, global_minmins:18\n",
      "elf_loc:(1, 1), n_cur_minutes:13, global_minmins:18\n",
      "elf_loc:(1, 2), n_cur_minutes:13, global_minmins:18\n",
      "elf_loc:(0, 2), n_cur_minutes:12, global_minmins:18\n",
      "elf_loc:(0, 0), n_cur_minutes:10, global_minmins:18\n",
      "elf_loc:(0, 0), n_cur_minutes:2, global_minmins:18\n",
      "elf_loc:(1, 0), n_cur_minutes:3, global_minmins:18\n"
     ]
    },
    {
     "data": {
      "text/plain": [
       "18"
      ]
     },
     "execution_count": 18,
     "metadata": {},
     "output_type": "execute_result"
    }
   ],
   "source": [
    "global_minmins=None\n",
    "global_max_mins= 8*no_blizz_distance\n",
    "print(f\"global_max_mins:{global_max_mins}\")\n",
    "global_elfpos_mins_history=[]\n",
    "get_minimum_minutes_from(elf_pos_initial,blizz_start,0)"
   ]
  },
  {
   "attachments": {},
   "cell_type": "markdown",
   "metadata": {},
   "source": [
    "`input_test.txt` gives correct answer of 18\n",
    "\n",
    "`input.txt` not 626, 586, 561, 489, 362. Correct answer 286\n"
   ]
  },
  {
   "attachments": {},
   "cell_type": "markdown",
   "metadata": {},
   "source": [
    "# Check going back after reaching end\n",
    "\n",
    "Need to get blizzard state after 286 minutes\n",
    "\n",
    "set initial position to be the current end, and the end poition the opposite"
   ]
  },
  {
   "cell_type": "code",
   "execution_count": 19,
   "metadata": {},
   "outputs": [],
   "source": [
    "import time\n",
    "def get_minimum_minutes_from_back(elf_loc, blizz_state, n_cur_minutes, elf_aim_pos, progress0,progressDiv):\n",
    "    global valley_width\n",
    "    global valley_height\n",
    "    global global_minmins\n",
    "    global global_max_mins\n",
    "    global global_elfpos_mins_history\n",
    "    global t0\n",
    "    \n",
    "    t1=time.time()\n",
    "    if t1-t0>60: #Check progress every minute\n",
    "        print(f\"elf_loc:{elf_loc}, n_cur_minutes:{n_cur_minutes}, global_minmins:{global_minmins}, progress:{progress0}\")\n",
    "        t0=t1\n",
    "    \n",
    "    mdist = get_manhatan_distance(elf_loc,elf_aim_pos)\n",
    "\n",
    "    if mdist==1:\n",
    "        #Next move is to exit, regardless of blizzard\n",
    "        print(f\"Exit after:{n_cur_minutes+1}\")\n",
    "        print(f\"elf_loc:{elf_loc}, n_cur_minutes:{n_cur_minutes}, global_minmins:{global_minmins}, progress:{progress0}\")\n",
    "        return n_cur_minutes+1\n",
    "\n",
    "    if (elf_loc,n_cur_minutes) in global_elfpos_mins_history:\n",
    "        #already checked from this position\n",
    "        return None\n",
    "    else:\n",
    "        global_elfpos_mins_history.append( (elf_loc,n_cur_minutes) )\n",
    "\n",
    "    #Check current position against the global minmins\n",
    "    if not global_minmins is None:\n",
    "        if n_cur_minutes+get_manhatan_distance(elf_loc,elf_aim_pos) > global_minmins:\n",
    "            #No point trying to find a route as it will take more minutes than minimum set\n",
    "            return None\n",
    "    \n",
    "    if n_cur_minutes>global_max_mins:\n",
    "        return None\n",
    "        \n",
    "    #Update blizzard to new state\n",
    "    blizz_next = getNextBlizzard(*blizz_state)\n",
    "\n",
    "    #with this new blizzard check possible movements\n",
    "    next_positions=[]\n",
    "    #Preference down or right\n",
    "\n",
    "    bl0,bl1,bl2,bl3= blizz_next\n",
    "    #Blizard any\n",
    "    bl_any = bl0 | bl1 | bl2 | bl3\n",
    "\n",
    "    #Check left\n",
    "    if elf_loc[1]>0 and elf_loc[0]<valley_height:\n",
    "        pos1= (elf_loc[0],elf_loc[1]-1)\n",
    "        if not bl_any[pos1[0], pos1[1]]:\n",
    "            next_positions.append(pos1)\n",
    "    \n",
    "    #Check up\n",
    "    if elf_loc[0]>0:\n",
    "        pos1=(elf_loc[0]-1,elf_loc[1])\n",
    "        if not bl_any[pos1[0], pos1[1]]:\n",
    "            next_positions.append(pos1)\n",
    "\n",
    "    #Check stationary\n",
    "    if elf_loc[0]<valley_height and elf_loc[1]<valley_width:\n",
    "        pos1= (elf_loc[0],elf_loc[1])\n",
    "        if not bl_any[pos1[0], pos1[1]]:\n",
    "            next_positions.append(pos1)\n",
    "    \n",
    "    #Check right\n",
    "    if elf_loc[1]<valley_width-1:\n",
    "        pos1= (elf_loc[0],elf_loc[1]+1)\n",
    "        if not bl_any[pos1[0], pos1[1]]:\n",
    "            next_positions.append(pos1)\n",
    "\n",
    "    #Check down\n",
    "    if elf_loc[0]<valley_height-1:\n",
    "        pos1=(elf_loc[0]+1,elf_loc[1])\n",
    "        if not bl_any[pos1[0], pos1[1]]:\n",
    "            next_positions.append(pos1)\n",
    "\n",
    "    \n",
    "    #At this point next_positions should have all possible positions to try if any\n",
    "    if len(next_positions)==0:\n",
    "        #No movements of stationary is possible, returning None\n",
    "        return None\n",
    "    else:\n",
    "        n_cur_minutes0=n_cur_minutes+1 #for next iteration\n",
    "        progressDiv1=progressDiv/len(next_positions)\n",
    "        for nextpos0 in next_positions:\n",
    "            mins=get_minimum_minutes_from_back(nextpos0, blizz_next, n_cur_minutes0, elf_aim_pos, progress0, progressDiv1)\n",
    "\n",
    "            #Process mins\n",
    "            if not mins is None:\n",
    "                if global_minmins is None:\n",
    "                    global_minmins=mins\n",
    "                else:\n",
    "                    global_minmins=min(global_minmins,mins)\n",
    "            progress0+=progressDiv1\n",
    "        return global_minmins"
   ]
  },
  {
   "cell_type": "code",
   "execution_count": 20,
   "metadata": {},
   "outputs": [],
   "source": [
    "bliz18=blizz_start\n",
    "\n",
    "for i in range(18):\n",
    "    bliz286=getNextBlizzard(*bliz18)"
   ]
  },
  {
   "cell_type": "code",
   "execution_count": 21,
   "metadata": {},
   "outputs": [],
   "source": [
    "elf_aim_position_back=elf_pos_initial\n",
    "elf_pos_initial_back=elf_aim_position"
   ]
  },
  {
   "cell_type": "code",
   "execution_count": 22,
   "metadata": {},
   "outputs": [
    {
     "name": "stdout",
     "output_type": "stream",
     "text": [
      "global_max_mins:50\n",
      "Exit after:16\n",
      "elf_loc:(0, 0), n_cur_minutes:15, global_minmins:None, progress:4.166666666666667\n"
     ]
    },
    {
     "data": {
      "text/plain": [
       "16"
      ]
     },
     "execution_count": 22,
     "metadata": {},
     "output_type": "execute_result"
    }
   ],
   "source": [
    "global_minmins=None\n",
    "global_max_mins= 5*no_blizz_distance\n",
    "print(f\"global_max_mins:{global_max_mins}\")\n",
    "global_elfpos_mins_history=[]\n",
    "\n",
    "progress=0\n",
    "t0=time.time()\n",
    "get_minimum_minutes_from_back(elf_pos_initial_back,bliz286,0, elf_aim_position_back,0.0,100.0)"
   ]
  },
  {
   "attachments": {},
   "cell_type": "markdown",
   "metadata": {},
   "source": [
    "Answer for coming back is 16"
   ]
  },
  {
   "cell_type": "code",
   "execution_count": 23,
   "metadata": {},
   "outputs": [
    {
     "data": {
      "text/plain": [
       "34"
      ]
     },
     "execution_count": 23,
     "metadata": {},
     "output_type": "execute_result"
    }
   ],
   "source": [
    "18+16"
   ]
  },
  {
   "attachments": {},
   "cell_type": "markdown",
   "metadata": {},
   "source": [
    "So total blizzard state is 255+286=541"
   ]
  },
  {
   "attachments": {},
   "cell_type": "markdown",
   "metadata": {},
   "source": [
    "# Going down again"
   ]
  },
  {
   "cell_type": "code",
   "execution_count": 78,
   "metadata": {},
   "outputs": [],
   "source": [
    "import time\n",
    "def get_minimum_minutes_from_downagain(elf_loc, blizz_state, n_cur_minutes, elf_aim_pos, progress0,progressDiv):\n",
    "    global valley_width\n",
    "    global valley_height\n",
    "    global global_minmins\n",
    "    global global_max_mins\n",
    "    global global_elfpos_mins_history\n",
    "    global t0\n",
    "    \n",
    "    t1=time.time()\n",
    "    if t1-t0>60: #Check progress every minute\n",
    "        print(f\"elf_loc:{elf_loc}, n_cur_minutes:{n_cur_minutes}, global_minmins:{global_minmins}, progress:{progress0}\")\n",
    "        t0=t1\n",
    "    \n",
    "    mdist = get_manhatan_distance(elf_loc,elf_aim_pos)\n",
    "\n",
    "    if mdist==1:\n",
    "        #Next move is to exit, regardless of blizzard\n",
    "        print(f\"Exit after:{n_cur_minutes+1}\")\n",
    "        print(f\"elf_loc:{elf_loc}, n_cur_minutes:{n_cur_minutes}, global_minmins:{global_minmins}, progress:{progress0}\")\n",
    "        return n_cur_minutes+1\n",
    "\n",
    "    if (elf_loc,n_cur_minutes) in global_elfpos_mins_history:\n",
    "        #already checked from this position\n",
    "        return None\n",
    "    else:\n",
    "        global_elfpos_mins_history.append( (elf_loc,n_cur_minutes) )\n",
    "\n",
    "    #Check current position against the global minmins\n",
    "    if not global_minmins is None:\n",
    "        if n_cur_minutes+get_manhatan_distance(elf_loc,elf_aim_pos) > global_minmins:\n",
    "            #No point trying to find a route as it will take more minutes than minimum set\n",
    "            return None\n",
    "    \n",
    "    if n_cur_minutes>global_max_mins:\n",
    "        return None\n",
    "        \n",
    "    #Update blizzard to new state\n",
    "    blizz_next = getNextBlizzard(*blizz_state)\n",
    "\n",
    "    #with this new blizzard check possible movements\n",
    "    next_positions=[]\n",
    "    #Preference down or right\n",
    "\n",
    "    bl0,bl1,bl2,bl3= blizz_next\n",
    "    #Blizard any\n",
    "    bl_any = bl0 | bl1 | bl2 | bl3\n",
    "\n",
    "    #Check right\n",
    "    if elf_loc[1]<valley_width-1:\n",
    "        pos1= (elf_loc[0],elf_loc[1]+1)\n",
    "        if not bl_any[pos1[0], pos1[1]]:\n",
    "            next_positions.append(pos1)\n",
    "            \n",
    "    #Check down\n",
    "    if elf_loc[0]<valley_height-1:\n",
    "        pos1=(elf_loc[0]+1,elf_loc[1])\n",
    "        if not bl_any[pos1[0], pos1[1]]:\n",
    "            next_positions.append(pos1)\n",
    "\n",
    "    #Check stationary\n",
    "    if elf_loc[0]<valley_height and elf_loc[1]<valley_width:\n",
    "        pos1= (elf_loc[0],elf_loc[1])\n",
    "        if not bl_any[pos1[0], pos1[1]]:\n",
    "            next_positions.append(pos1)\n",
    "\n",
    "    #Check left\n",
    "    if elf_loc[1]>0 and elf_loc[0]<valley_height:\n",
    "        pos1= (elf_loc[0],elf_loc[1]-1)\n",
    "        if not bl_any[pos1[0], pos1[1]]:\n",
    "            next_positions.append(pos1)\n",
    "    \n",
    "    #Check up\n",
    "    if elf_loc[0]>0:\n",
    "        pos1=(elf_loc[0]-1,elf_loc[1])\n",
    "        if not bl_any[pos1[0], pos1[1]]:\n",
    "            next_positions.append(pos1)\n",
    "    \n",
    "    #At this point next_positions should have all possible positions to try if any\n",
    "    if len(next_positions)==0:\n",
    "        #No movements of stationary is possible, returning None\n",
    "        return None\n",
    "    else:\n",
    "        n_cur_minutes0=n_cur_minutes+1 #for next iteration\n",
    "        progressDiv1=progressDiv/len(next_positions)\n",
    "        for nextpos0 in next_positions:\n",
    "            mins=get_minimum_minutes_from_downagain(nextpos0, blizz_next, n_cur_minutes0, elf_aim_pos, progress0, progressDiv1)\n",
    "\n",
    "            #Process mins\n",
    "            if not mins is None:\n",
    "                if global_minmins is None:\n",
    "                    global_minmins=mins\n",
    "                else:\n",
    "                    global_minmins=min(global_minmins,mins)\n",
    "            progress0+=progressDiv1\n",
    "        return global_minmins"
   ]
  },
  {
   "cell_type": "code",
   "execution_count": 79,
   "metadata": {},
   "outputs": [],
   "source": [
    "bliz541=blizz_start\n",
    "\n",
    "for i in range(541):\n",
    "    bliz541=getNextBlizzard(*bliz541)"
   ]
  },
  {
   "cell_type": "code",
   "execution_count": 80,
   "metadata": {},
   "outputs": [
    {
     "name": "stdout",
     "output_type": "stream",
     "text": [
      "(-1, 0)\n",
      "(25, 119)\n"
     ]
    }
   ],
   "source": [
    "print(elf_pos_initial)\n",
    "print(elf_aim_position)"
   ]
  },
  {
   "cell_type": "code",
   "execution_count": 81,
   "metadata": {},
   "outputs": [
    {
     "name": "stdout",
     "output_type": "stream",
     "text": [
      "global_max_mins:725\n",
      "elf_loc:(2, 80), n_cur_minutes:682, global_minmins:None, progress:44.5601951080882\n",
      "Exit after:715\n",
      "elf_loc:(24, 119), n_cur_minutes:714, global_minmins:None, progress:44.5601951080882\n",
      "Exit after:696\n",
      "elf_loc:(24, 119), n_cur_minutes:695, global_minmins:715, progress:44.5601951080882\n",
      "Exit after:696\n",
      "elf_loc:(24, 119), n_cur_minutes:695, global_minmins:696, progress:44.5601951080882\n",
      "elf_loc:(16, 89), n_cur_minutes:618, global_minmins:696, progress:44.5601951080882\n",
      "Exit after:685\n",
      "elf_loc:(24, 119), n_cur_minutes:684, global_minmins:696, progress:44.5601951080882\n",
      "Exit after:656\n",
      "elf_loc:(24, 119), n_cur_minutes:655, global_minmins:685, progress:44.5601951080882\n",
      "Exit after:645\n",
      "elf_loc:(24, 119), n_cur_minutes:644, global_minmins:656, progress:44.5601951080882\n",
      "Exit after:645\n",
      "elf_loc:(24, 119), n_cur_minutes:644, global_minmins:645, progress:44.5601951080882\n",
      "Exit after:639\n",
      "elf_loc:(24, 119), n_cur_minutes:638, global_minmins:645, progress:44.5601951080882\n",
      "elf_loc:(15, 66), n_cur_minutes:550, global_minmins:639, progress:44.5601951080882\n",
      "elf_loc:(20, 43), n_cur_minutes:556, global_minmins:639, progress:44.5601951080882\n",
      "Exit after:620\n",
      "elf_loc:(24, 119), n_cur_minutes:619, global_minmins:639, progress:44.5601951080882\n",
      "Exit after:620\n",
      "elf_loc:(24, 119), n_cur_minutes:619, global_minmins:620, progress:44.5601951080882\n",
      "elf_loc:(24, 58), n_cur_minutes:478, global_minmins:620, progress:44.5601951080882\n",
      "elf_loc:(14, 36), n_cur_minutes:520, global_minmins:620, progress:44.5601951080882\n",
      "elf_loc:(14, 48), n_cur_minutes:481, global_minmins:620, progress:44.5601951080882\n",
      "elf_loc:(20, 82), n_cur_minutes:514, global_minmins:620, progress:44.5601951080882\n",
      "Exit after:595\n",
      "elf_loc:(24, 119), n_cur_minutes:594, global_minmins:620, progress:44.5601951080882\n",
      "Exit after:595\n",
      "elf_loc:(24, 119), n_cur_minutes:594, global_minmins:595, progress:44.5601951080882\n",
      "Exit after:589\n",
      "elf_loc:(24, 119), n_cur_minutes:588, global_minmins:595, progress:44.5601951080882\n",
      "Exit after:585\n",
      "elf_loc:(24, 119), n_cur_minutes:584, global_minmins:589, progress:44.5601951080882\n",
      "Exit after:585\n",
      "elf_loc:(24, 119), n_cur_minutes:584, global_minmins:585, progress:44.5601951080882\n",
      "elf_loc:(22, 33), n_cur_minutes:482, global_minmins:585, progress:44.5601951080882\n",
      "elf_loc:(9, 33), n_cur_minutes:461, global_minmins:585, progress:44.5601951080882\n",
      "elf_loc:(7, 41), n_cur_minutes:438, global_minmins:585, progress:44.5601951080882\n",
      "elf_loc:(7, 74), n_cur_minutes:472, global_minmins:585, progress:44.5601951080882\n",
      "elf_loc:(6, 24), n_cur_minutes:435, global_minmins:585, progress:44.5601951080882\n",
      "Exit after:574\n",
      "elf_loc:(24, 119), n_cur_minutes:573, global_minmins:585, progress:44.5601951080882\n",
      "elf_loc:(20, 95), n_cur_minutes:506, global_minmins:574, progress:44.5601951080882\n",
      "elf_loc:(20, 7), n_cur_minutes:451, global_minmins:574, progress:44.5601951080882\n",
      "elf_loc:(20, 49), n_cur_minutes:390, global_minmins:574, progress:44.5601951080882\n",
      "Exit after:559\n",
      "elf_loc:(24, 119), n_cur_minutes:558, global_minmins:574, progress:44.5601951080882\n",
      "Exit after:549\n",
      "elf_loc:(24, 119), n_cur_minutes:548, global_minmins:559, progress:44.5601951080882\n",
      "Exit after:548\n",
      "elf_loc:(24, 119), n_cur_minutes:547, global_minmins:549, progress:44.5601951080882\n",
      "Exit after:548\n",
      "elf_loc:(24, 119), n_cur_minutes:547, global_minmins:548, progress:44.5601951080882\n",
      "elf_loc:(11, 83), n_cur_minutes:470, global_minmins:548, progress:44.5601951080882\n",
      "elf_loc:(7, 30), n_cur_minutes:409, global_minmins:548, progress:44.5601951080882\n",
      "elf_loc:(1, 75), n_cur_minutes:457, global_minmins:548, progress:44.5601951080882\n",
      "elf_loc:(20, 29), n_cur_minutes:374, global_minmins:548, progress:44.5601951080882\n",
      "elf_loc:(17, 56), n_cur_minutes:383, global_minmins:548, progress:44.5601951080882\n",
      "Exit after:531\n",
      "elf_loc:(24, 119), n_cur_minutes:530, global_minmins:548, progress:44.5601951080882\n",
      "Exit after:520\n",
      "elf_loc:(24, 119), n_cur_minutes:519, global_minmins:531, progress:44.5601951080882\n",
      "elf_loc:(14, 99), n_cur_minutes:482, global_minmins:520, progress:44.5601951080882\n",
      "elf_loc:(13, 73), n_cur_minutes:425, global_minmins:520, progress:44.5601951080882\n",
      "elf_loc:(0, 50), n_cur_minutes:383, global_minmins:520, progress:44.5601951080882\n",
      "elf_loc:(1, 21), n_cur_minutes:373, global_minmins:520, progress:44.5601951080882\n",
      "elf_loc:(15, 5), n_cur_minutes:371, global_minmins:520, progress:44.5601951080882\n",
      "Exit after:519\n",
      "elf_loc:(24, 119), n_cur_minutes:518, global_minmins:520, progress:44.5601951080882\n",
      "Exit after:515\n",
      "elf_loc:(24, 119), n_cur_minutes:514, global_minmins:519, progress:44.5601951080882\n",
      "elf_loc:(19, 101), n_cur_minutes:481, global_minmins:515, progress:44.5601951080882\n",
      "elf_loc:(8, 31), n_cur_minutes:339, global_minmins:515, progress:44.5601951080882\n",
      "elf_loc:(21, 51), n_cur_minutes:346, global_minmins:515, progress:44.5601951080882\n",
      "elf_loc:(5, 98), n_cur_minutes:453, global_minmins:515, progress:44.5601951080882\n",
      "Exit after:490\n",
      "elf_loc:(24, 119), n_cur_minutes:489, global_minmins:515, progress:44.5601951080882\n",
      "Exit after:482\n",
      "elf_loc:(24, 119), n_cur_minutes:481, global_minmins:490, progress:44.5601951080882\n",
      "elf_loc:(8, 96), n_cur_minutes:440, global_minmins:482, progress:44.5601951080882\n",
      "elf_loc:(10, 55), n_cur_minutes:367, global_minmins:482, progress:44.5601951080882\n",
      "elf_loc:(17, 11), n_cur_minutes:335, global_minmins:482, progress:44.5601951080882\n",
      "elf_loc:(22, 79), n_cur_minutes:392, global_minmins:482, progress:44.5601951080882\n",
      "elf_loc:(18, 70), n_cur_minutes:375, global_minmins:482, progress:44.5601951080882\n",
      "elf_loc:(15, 71), n_cur_minutes:374, global_minmins:482, progress:44.5601951080882\n",
      "elf_loc:(6, 77), n_cur_minutes:397, global_minmins:482, progress:44.5601951080882\n",
      "elf_loc:(23, 33), n_cur_minutes:280, global_minmins:482, progress:44.5601951080882\n",
      "elf_loc:(14, 73), n_cur_minutes:375, global_minmins:482, progress:44.5601951080882\n",
      "elf_loc:(3, 94), n_cur_minutes:413, global_minmins:482, progress:44.5601951080882\n",
      "Exit after:472\n",
      "elf_loc:(24, 119), n_cur_minutes:471, global_minmins:482, progress:44.5601951080882\n",
      "Exit after:472\n",
      "elf_loc:(24, 119), n_cur_minutes:471, global_minmins:472, progress:44.5601951080882\n",
      "elf_loc:(18, 106), n_cur_minutes:432, global_minmins:472, progress:44.5601951080882\n",
      "elf_loc:(9, 93), n_cur_minutes:393, global_minmins:472, progress:44.5601951080882\n"
     ]
    }
   ],
   "source": [
    "global_minmins=None\n",
    "global_max_mins= 5*no_blizz_distance\n",
    "print(f\"global_max_mins:{global_max_mins}\")\n",
    "global_elfpos_mins_history=[]\n",
    "\n",
    "progress=0\n",
    "t0=time.time()\n",
    "get_minimum_minutes_from_downagain(elf_pos_initial,bliz541,0, elf_aim_position,0.0,100.0)"
   ]
  },
  {
   "cell_type": "code",
   "execution_count": null,
   "metadata": {},
   "outputs": [],
   "source": [
    " "
   ]
  }
 ],
 "metadata": {
  "kernelspec": {
   "display_name": "dev",
   "language": "python",
   "name": "python3"
  },
  "language_info": {
   "codemirror_mode": {
    "name": "ipython",
    "version": 3
   },
   "file_extension": ".py",
   "mimetype": "text/x-python",
   "name": "python",
   "nbconvert_exporter": "python",
   "pygments_lexer": "ipython3",
   "version": "3.8.15"
  },
  "orig_nbformat": 4,
  "vscode": {
   "interpreter": {
    "hash": "ae9318eca6f153166416f971f14e35a175773b3b30438ae2aa8538d9aa021541"
   }
  }
 },
 "nbformat": 4,
 "nbformat_minor": 2
}
