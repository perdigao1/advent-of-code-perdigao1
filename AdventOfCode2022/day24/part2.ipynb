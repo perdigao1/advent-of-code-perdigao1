{
 "cells": [
  {
   "cell_type": "code",
   "execution_count": 1,
   "metadata": {},
   "outputs": [],
   "source": [
    "import numpy as np"
   ]
  },
  {
   "cell_type": "code",
   "execution_count": 2,
   "metadata": {},
   "outputs": [],
   "source": [
    "#input_file='./input_test.txt'\n",
    "input_file='./input.txt'"
   ]
  },
  {
   "cell_type": "code",
   "execution_count": 3,
   "metadata": {},
   "outputs": [],
   "source": [
    "with open(input_file,'r') as f:\n",
    "    lines=f.read().split('\\n')"
   ]
  },
  {
   "cell_type": "code",
   "execution_count": 4,
   "metadata": {},
   "outputs": [],
   "source": [
    "lines.remove('')"
   ]
  },
  {
   "cell_type": "code",
   "execution_count": 5,
   "metadata": {},
   "outputs": [
    {
     "data": {
      "text/plain": [
       "['#.########################################################################################################################',\n",
       " '#<^vvv<v^v>^vvv.v<vv<>^^<^><.vvv^>v<^<<<<^>^vv^>^<^>>v>v^v^>^v>vv>^.^..v<^<^^^>>>><<>v<^^^v<>>><>.vv^vv>v.vv<<^<.v...^v.<#',\n",
       " '#<^^><><^^^<^>>v^^>v<^vvvv><vv<v.<vv^v<>v^.v^>v^v<>^<>^<vv.v^.^<<<^^^..<.><<v<vv^<v^^>>.><v<vv.>v>><<v.v^<^<v^^^^vv^v>^v>#',\n",
       " '#<^.>>v<<vv^^<<<<<.<v<>^>v^v<v<<<^<v^<<vvvv>v<^v<^v<>v.<>v^^^.^vv.<vv>v<^^v^>>.><^.><<<>v^>><^.<><>v^vv>>^v>>.><vvv^<<>v<#',\n",
       " '#>v^v<>^<.^.^>><>>..<vv<>^>>vv<.<.<^v<^<>>><<^v.v^<v<vv><v.<v.>v^v^<.v>^v^<^.v>.v.>^<v^>vv><<v.>^>v><<^vv<v^>v>v>.>v>>><.#',\n",
       " '#><<<^<v.><>>^>v<^><^<^v.^v<vv<<^^vvv><^^>>>>v^.^^v^<v^^.vv^v^<.v<v^^v<^..>>v<^v^.v^^^^.>v^<vv^<<>><<>vv><^<<^^><..vv.v^.#',\n",
       " '#<^>^.^v.><^>.v<v<>^<^<<<<<^^><vv.>^v><^<.>>.><^<v>>>^^^vvv<>v^^^<.^v^<^v<v>^.^.<>v^.v>v<v^<^^vv.^<><>v^>>.^>>><>><>v..^<#',\n",
       " '#>.^>^>^.v<vv.<>.>>v<>><^vv>>^<<v^.><^^>^^^.<><><.<v<<^.^<><<^>v<v<v<v>^^<^<v<<...<<>v<v<>.^v>>^^^^<<<><v<^>.^v^.>v<v>v.>#',\n",
       " '#<.>.^.<>^^<^v<<^^^^v..<><>^vvv<^>..v<>^vvvv<<<>v^<v.v^<<>v.<^v^>^>>vv<.<<.<^^^v^v<vv<.>^<^.v.<<<v.v^v>v^^<vv^^^>v>v^>><>#',\n",
       " '#<v>v>^<vvv^v<^>^v>.<<^v^^>v>^v>^.<<v<vv<<v^<v<^vvv.<>.<>^vv.>^vvv<v<><v^.<^v<..><<><^v..v>^>v<>>.<<>^<^v>v.^><<^v<<.v^>>#',\n",
       " '#<<<^<<^v^vv><><<>vv<>...<^<<<vv^^^...<><<<^vv^<vv<^<v>^<^^^^>v^>>.<^<^<>>v^><><v^v>>><v>^^<^.>><><^<v<^.>>v^>^v^v<v^^^<<#',\n",
       " '#<>.><^v.vv><.v<v>^.>^><<^<><vv>^v<^>v<^.v^.v<>^.>^>vv>^^>>v<^><^v.>v^>^vvv^^<v<>..v^^<>..v^>v^^^<<>vv^vv>v><<v<.>><<vvv>#',\n",
       " '#><><.^^<<<<.<<><v^<v>^>^>vv..v>^v<<v^<^^.<<>^>>.<>>^<<v.^>^^vv>^^v.^<<.>>><v^>.>>^.>>^<^v>^<>v<v.v<.<^.v>^<>v^v>.^.><^v>#',\n",
       " '#><>>>>^<>>>v^v^v^vv.<^^.^.^>^v>>v<<^..^>><<.^<v><>v>>><<>vv.<>v.^<^^<v^vv^>v<>v><^^vv>vvv.v><v.<<<<>>>vv>v.>v>>^^v>.^<><#',\n",
       " '#<<><><^>^v<>v^.^<.^<v^<v.>.>v^v.<^><<vv<vvv^<>^>.v>>v^><><<<v<.^v>><vv<^v<>^v>v.^<^.><.^<.v^v<^^><>^.^>v>.>^<..<<^>^vv..#',\n",
       " '#><v>v.v<>>v<<><>>^<>vv^<<>^vvv^<>^>>v><^<v.<^<<<^><<<<<^.^v><><<><><v.vv^^v.<<<<>.<<>v^.<^.v<v>>v^<..^><v<<^^<^>^^v^>.<>#',\n",
       " '#.<<>>>v.<>^<<^v.^<>v<><vv>.^v.^>.<v.>v<.^vvv>v^<<v<><^<v^.>vv^.<<^v^v>>vvv>.>>^>^<<<v.>>.vv>>>^v^vv^v<v<<^>>><.<>>^>v^<<#',\n",
       " '#<<>><><>>^v>^>.<v^v..v.v^v^>.><^.><^<>^.>>v.^>vv^v><^..<>^vv<>.<<.<>v^^..>^<>v><<^>^v><<v>..>vvv<.>>v<v<vv<^^v>^v<v^v<v.#',\n",
       " '#>vvv.><<<^<>>><<<v><>>>>^v<<.<><vvv.<<^^v.v<>^<>^v.^^>.<v>v>v^v^^<^.v^>^><v>^>>^<>>vvvv<.vv^v<^v^^^.^>^><><^vvv.>.v^<<v>#',\n",
       " '#>vv.><>>^.^v<.>vv>>.^v^vv>^v^>>><v<<vv.><^><>.><>>><^<>v^v<>^<<<^>^>^<.><.v>><v<>v>>><vv^.>^v.>v^<>v>v^vv^<v<<^v^v<<^>^>#',\n",
       " '#<v^vvv<><<<vv.<^v<<v^^>v^<vvv^^vvv^^>v<.<>v^>>>>^>.^><^>^^<^<^.v>>>v>^<<<v>>.v^v<v><^>>v.<^>^v^vv>>^^vv<<v<v<<vv^<^<.vv>#',\n",
       " '#<^>v^^^^vv><>>^>v>^>v<vv<><v.v<^vv><v<^^^^^.<<><v<><^.>^^.<^v>^<v>^<<.v>>^v^^.^<.<v>.^><.>^v^^v<><v<.v<.>>><^>^vv<.^.>><#',\n",
       " '#<>^^vvv<<v^vv<<>v>.^<>v^>.vv<vv^>.<^>v>v^>.^v<.<>^<vv^v><^v.^v>^^>v^>>><>vv<>vv>.^v><>.<^^v<<<^>^^^><>^^>^.^>vv<.<><<^>>#',\n",
       " '#<<^^..>v>vv<v<>>v<><^<v<v^>.<>v>^^>^v<.v^.<>>.<<>>v^><<^^<>^.<v^vvv^v^<<<^v.^vv^^^<v><<<v^<<>^.<><vvv^<>v<^>.>>><>^v<>v<#',\n",
       " '#<>>^.>^^^vv<>^>^<v.^^v><.v<^<vv>^^v><<>v<>>>>>.<^^vv^^^>.<<>v^>>.^.<v^>.>.v^vv>><>.><<^^>>v^>>>^>v<>.^^v>^>vvv^^^^.^^^.<#',\n",
       " '#>v<vvv<^^>v^>>^^<vvvv.v.v>^<v^>>v><><<v^.<><v<^>v.<^v<>>^v<.^><^v>^^>v^<v^v>>^vv><v.^<><<v<<<v^v>vv><<^<>v^<<^...<<.<>^<#',\n",
       " '########################################################################################################################.#']"
      ]
     },
     "execution_count": 5,
     "metadata": {},
     "output_type": "execute_result"
    }
   ],
   "source": [
    "lines"
   ]
  },
  {
   "cell_type": "code",
   "execution_count": 6,
   "metadata": {},
   "outputs": [
    {
     "data": {
      "text/plain": [
       "(-1, 0)"
      ]
     },
     "execution_count": 6,
     "metadata": {},
     "output_type": "execute_result"
    }
   ],
   "source": [
    "# First line tells initial position of elf, and width size of the area\n",
    "elf_pos_initial=(-1,lines[0].index('.')-1) #y=-1 and x given\n",
    "elf_pos_initial"
   ]
  },
  {
   "cell_type": "code",
   "execution_count": 7,
   "metadata": {},
   "outputs": [
    {
     "data": {
      "text/plain": [
       "(25, 119)"
      ]
     },
     "execution_count": 7,
     "metadata": {},
     "output_type": "execute_result"
    }
   ],
   "source": [
    "elf_aim_position=(len(lines)-2,lines[-1].index('.')-1)\n",
    "elf_aim_position"
   ]
  },
  {
   "cell_type": "code",
   "execution_count": 8,
   "metadata": {},
   "outputs": [
    {
     "name": "stdout",
     "output_type": "stream",
     "text": [
      "25\n",
      "120\n"
     ]
    }
   ],
   "source": [
    "valley_width = len(lines[0])-2\n",
    "valley_height = len(lines)-2\n",
    "print(valley_height)\n",
    "print(valley_width)"
   ]
  },
  {
   "attachments": {},
   "cell_type": "markdown",
   "metadata": {},
   "source": [
    "Get initial state of blizzard"
   ]
  },
  {
   "cell_type": "code",
   "execution_count": 9,
   "metadata": {},
   "outputs": [],
   "source": [
    "blizzard_up_initial=np.zeros((valley_height,valley_width), dtype=bool)\n",
    "blizzard_down_initial=np.zeros((valley_height,valley_width), dtype=bool)\n",
    "blizzard_right_initial=np.zeros((valley_height,valley_width), dtype=bool)\n",
    "blizzard_left_initial=np.zeros((valley_height,valley_width), dtype=bool)\n",
    "for irow,line in enumerate(lines[1:-1]):\n",
    "    for icol, char in enumerate(line[1:-1]):\n",
    "        if char=='^':\n",
    "            blizzard_up_initial[irow,icol]=True\n",
    "            continue\n",
    "        if char=='>':\n",
    "            blizzard_right_initial[irow,icol]=True\n",
    "            continue\n",
    "        if char=='v':\n",
    "            blizzard_down_initial[irow,icol]=True\n",
    "            continue\n",
    "        if char=='<':\n",
    "            blizzard_left_initial[irow,icol]=True"
   ]
  },
  {
   "attachments": {},
   "cell_type": "markdown",
   "metadata": {},
   "source": [
    "In order to find next movement, it is best to find the next blizzard position(s)"
   ]
  },
  {
   "cell_type": "code",
   "execution_count": 10,
   "metadata": {},
   "outputs": [],
   "source": [
    "def getNextBlizzard(blizzard_up, blizzard_right, blizzard_down, blizzard_left):\n",
    "    blizzard_up_next = np.zeros_like(blizzard_up)\n",
    "    blizzard_up_next[0:-1,:] = blizzard_up[1:,:]\n",
    "    blizzard_up_next[-1,:]=blizzard_up[0,:]\n",
    "\n",
    "    blizzard_down_next = np.zeros_like(blizzard_down)\n",
    "    blizzard_down_next[1:,:] = blizzard_down[0:-1,:]\n",
    "    blizzard_down_next[0,:]=blizzard_down[-1,:]\n",
    "\n",
    "    blizzard_right_next = np.zeros_like(blizzard_right)\n",
    "    blizzard_right_next[:,1:] = blizzard_right[:,0:-1]\n",
    "    blizzard_right_next[:,0]=blizzard_right[:,-1]\n",
    "\n",
    "    blizzard_left_next = np.zeros_like(blizzard_left)\n",
    "    blizzard_left_next[:,0:-1] = blizzard_left[:,1:]\n",
    "    blizzard_left_next[:,-1]=blizzard_left[:,0]\n",
    "\n",
    "    return (blizzard_up_next, blizzard_right_next, blizzard_down_next, blizzard_left_next)"
   ]
  },
  {
   "cell_type": "code",
   "execution_count": 11,
   "metadata": {},
   "outputs": [],
   "source": [
    "def printBlizzardMap(blizzard_up, blizzard_right, blizzard_down, blizzard_left):\n",
    "    irows,icols = blizzard_up.shape\n",
    "    blizzards_total = blizzard_up.astype(np.uint8)+blizzard_right.astype(np.uint8)+blizzard_down.astype(np.uint8)+blizzard_left.astype(np.uint8)\n",
    "    print('#'*(icols+2))\n",
    "    for irow in range(irows):\n",
    "        s='#'\n",
    "        for icol in range(icols):\n",
    "            bl_tot0=blizzards_total[irow,icol]\n",
    "            if bl_tot0==0:\n",
    "                s+='.'\n",
    "                continue\n",
    "            if bl_tot0>1:\n",
    "                s+=str(blizzards_total[irow,icol])\n",
    "                continue\n",
    "            #Only one blizzard, put the right character\n",
    "            if blizzard_up[irow,icol]:\n",
    "                s+='^'\n",
    "                continue\n",
    "            if blizzard_right[irow,icol]:\n",
    "                s+='>'\n",
    "                continue\n",
    "            if blizzard_down[irow,icol]:\n",
    "                s+='v'\n",
    "                continue\n",
    "            if blizzard_left[irow,icol]:\n",
    "                s+='<'\n",
    "                continue\n",
    "        s+='#'\n",
    "        print(s)\n",
    "    print('#'*(icols+2)) "
   ]
  },
  {
   "cell_type": "code",
   "execution_count": 12,
   "metadata": {},
   "outputs": [],
   "source": [
    "def get_manhatan_distance(vector0, vector1):\n",
    "    v1=np.array(vector0)\n",
    "    v2=np.array(vector1)\n",
    "\n",
    "    return np.sum(np.abs(v1-v2))"
   ]
  },
  {
   "attachments": {},
   "cell_type": "markdown",
   "metadata": {},
   "source": [
    "Check Manh distance from start to end, for curiosity"
   ]
  },
  {
   "cell_type": "code",
   "execution_count": 13,
   "metadata": {},
   "outputs": [
    {
     "data": {
      "text/plain": [
       "145"
      ]
     },
     "execution_count": 13,
     "metadata": {},
     "output_type": "execute_result"
    }
   ],
   "source": [
    "no_blizz_distance= get_manhatan_distance(elf_pos_initial,elf_aim_position)\n",
    "no_blizz_distance"
   ]
  },
  {
   "cell_type": "code",
   "execution_count": 14,
   "metadata": {},
   "outputs": [],
   "source": [
    "blizz_start = (blizzard_up_initial, blizzard_right_initial, blizzard_down_initial, blizzard_left_initial)"
   ]
  },
  {
   "attachments": {},
   "cell_type": "markdown",
   "metadata": {},
   "source": [
    "# 1st go"
   ]
  },
  {
   "attachments": {},
   "cell_type": "markdown",
   "metadata": {},
   "source": [
    "Create a function that can work recursively that\n",
    "\n",
    "Need global variable that has minimum minutes turns to get to destination from start.\n",
    "global with dimension of valey\n",
    "\n",
    "Returns (minimum) number of minutes to get to destination from this location. None if it could not find suitable route.\n",
    "\n",
    "Parameters:\n",
    "- next elf location\n",
    "- next blizzard state\n",
    "- current number of moves"
   ]
  },
  {
   "cell_type": "code",
   "execution_count": null,
   "metadata": {},
   "outputs": [],
   "source": [
    "global_minmins=None\n",
    "global_max_mins=5*no_blizz_distance"
   ]
  },
  {
   "cell_type": "code",
   "execution_count": null,
   "metadata": {},
   "outputs": [],
   "source": [
    "global_elfpos_mins_history=[]"
   ]
  },
  {
   "cell_type": "code",
   "execution_count": null,
   "metadata": {},
   "outputs": [],
   "source": [
    "def get_minimum_minutes_from(elf_loc, blizz_state, n_cur_minutes):\n",
    "    global valley_width\n",
    "    global valley_height\n",
    "    global elf_aim_position\n",
    "    global global_minmins\n",
    "    global global_max_mins\n",
    "    global global_elfpos_mins_history\n",
    "    \n",
    "    print(f\"elf_loc:{elf_loc}, n_cur_minutes:{n_cur_minutes}, global_minmins:{global_minmins}\")\n",
    "    if elf_loc[1]==elf_aim_position[1] and elf_loc[0]==elf_aim_position[0]-1:\n",
    "        #Next move is to exit, regardless of blizzard\n",
    "        print(f\"Exit after:{n_cur_minutes+1}\")\n",
    "        return n_cur_minutes+1\n",
    "    \n",
    "    if (elf_loc,n_cur_minutes) in global_elfpos_mins_history:\n",
    "        #already checked from this position\n",
    "        return None\n",
    "    else:\n",
    "        global_elfpos_mins_history.append( (elf_loc,n_cur_minutes) )\n",
    "\n",
    "    #Check current position against the global minmins\n",
    "    if not global_minmins is None:\n",
    "        if n_cur_minutes+get_manhatan_distance(elf_loc,elf_aim_position) > global_minmins:\n",
    "            #No point trying to find a route as it will take more minutes than minimum set\n",
    "            return None\n",
    "    \n",
    "    if n_cur_minutes>global_max_mins:\n",
    "        return None\n",
    "        \n",
    "    #Update blizzard to new state\n",
    "    blizz_next = getNextBlizzard(*blizz_state)\n",
    "\n",
    "    #with this new blizzard check possible movements\n",
    "    next_positions=[]\n",
    "    #Preference down or right\n",
    "\n",
    "    bl0,bl1,bl2,bl3= blizz_next\n",
    "    #Blizard any\n",
    "    bl_any = bl0 | bl1 | bl2 | bl3\n",
    "\n",
    "    #Check right\n",
    "    if elf_loc[1]<valley_width-1:\n",
    "        pos1= (elf_loc[0],elf_loc[1]+1)\n",
    "        if not bl_any[pos1[0], pos1[1]]:\n",
    "            next_positions.append(pos1)\n",
    "\n",
    "    #Check down\n",
    "    if elf_loc[0]<valley_height-1:\n",
    "        pos1=(elf_loc[0]+1,elf_loc[1])\n",
    "        if not bl_any[pos1[0], pos1[1]]:\n",
    "            next_positions.append(pos1)\n",
    "    \n",
    "\n",
    "    #Check left\n",
    "    if elf_loc[1]>0:\n",
    "        pos1= (elf_loc[0],elf_loc[1]-1)\n",
    "        if not bl_any[pos1[0], pos1[1]]:\n",
    "            next_positions.append(pos1)\n",
    "    \n",
    "    #Check stationary\n",
    "    pos1= (elf_loc[0],elf_loc[1])\n",
    "    if not bl_any[pos1[0], pos1[1]]:\n",
    "        next_positions.append(pos1)\n",
    "\n",
    "    #Check up\n",
    "    if elf_loc[0]>0:\n",
    "        pos1=(elf_loc[0]-1,elf_loc[1])\n",
    "        if not bl_any[pos1[0], pos1[1]]:\n",
    "            next_positions.append(pos1)\n",
    "    \n",
    "    #At this point next_positions should have all possible positions to try if any\n",
    "    if len(next_positions)==0:\n",
    "        #No movements of stationary is possible, returning None\n",
    "        return None\n",
    "    else:\n",
    "        n_cur_minutes0=n_cur_minutes+1 #for next iteration\n",
    "        for nextpos0 in next_positions:\n",
    "            mins=get_minimum_minutes_from(nextpos0, blizz_next, n_cur_minutes0)\n",
    "\n",
    "            #Process mins\n",
    "            if not mins is None:\n",
    "                if global_minmins is None:\n",
    "                    global_minmins=mins\n",
    "                else:\n",
    "                    global_minmins=min(global_minmins,mins)\n",
    "        \n",
    "        return global_minmins"
   ]
  },
  {
   "attachments": {},
   "cell_type": "markdown",
   "metadata": {},
   "source": [
    "## try running down"
   ]
  },
  {
   "cell_type": "code",
   "execution_count": null,
   "metadata": {},
   "outputs": [],
   "source": [
    "global_minmins=None\n",
    "global_max_mins= 8*no_blizz_distance\n",
    "print(f\"global_max_mins:{global_max_mins}\")\n",
    "global_elfpos_mins_history=[]\n",
    "nmins1=get_minimum_minutes_from(elf_pos_initial,blizz_start,0)\n",
    "print(nmins1)"
   ]
  },
  {
   "attachments": {},
   "cell_type": "markdown",
   "metadata": {},
   "source": [
    "`input_test.txt` gives correct answer of 18\n",
    "\n",
    "`input.txt` not 626, 586, 561, 489, 362. Correct answer 286\n"
   ]
  },
  {
   "cell_type": "code",
   "execution_count": 15,
   "metadata": {},
   "outputs": [],
   "source": [
    "#nmins1=18\n",
    "nmins1=286"
   ]
  },
  {
   "attachments": {},
   "cell_type": "markdown",
   "metadata": {},
   "source": [
    "# Check going back after reaching end\n",
    "\n",
    "Need to get blizzard state after 286 minutes\n",
    "\n",
    "set initial position to be the current end, and the end poition the opposite"
   ]
  },
  {
   "cell_type": "code",
   "execution_count": null,
   "metadata": {},
   "outputs": [],
   "source": [
    "import time\n",
    "def get_minimum_minutes_from_back(elf_loc, blizz_state, n_cur_minutes, elf_aim_pos, progress0,progressDiv):\n",
    "    global valley_width\n",
    "    global valley_height\n",
    "    global global_minmins\n",
    "    global global_max_mins\n",
    "    global global_elfpos_mins_history\n",
    "    global t0\n",
    "    \n",
    "    t1=time.time()\n",
    "    if t1-t0>60: #Check progress every minute\n",
    "        print(f\"elf_loc:{elf_loc}, n_cur_minutes:{n_cur_minutes}, global_minmins:{global_minmins}, progress:{progress0}\")\n",
    "        t0=t1\n",
    "    #print(f\"elf_loc:{elf_loc}, n_cur_minutes:{n_cur_minutes}, global_minmins:{global_minmins}, progress:{progress0}\")\n",
    "\n",
    "    mdist = get_manhatan_distance(elf_loc,elf_aim_pos)\n",
    "\n",
    "    if mdist==1:\n",
    "        #Next move is to exit, regardless of blizzard\n",
    "        print(f\"Exit after:{n_cur_minutes+1}\")\n",
    "        print(f\"elf_loc:{elf_loc}, n_cur_minutes:{n_cur_minutes}, global_minmins:{global_minmins}, progress:{progress0}\")\n",
    "        return n_cur_minutes+1\n",
    "\n",
    "    if (elf_loc,n_cur_minutes) in global_elfpos_mins_history:\n",
    "        #already checked from this position\n",
    "        return None\n",
    "    else:\n",
    "        global_elfpos_mins_history.append( (elf_loc,n_cur_minutes) )\n",
    "\n",
    "    #Check current position against the global minmins\n",
    "    if not global_minmins is None:\n",
    "        if n_cur_minutes+get_manhatan_distance(elf_loc,elf_aim_pos) > global_minmins:\n",
    "            #No point trying to find a route as it will take more minutes than minimum set\n",
    "            return None\n",
    "    \n",
    "    if n_cur_minutes>global_max_mins:\n",
    "        return None\n",
    "        \n",
    "    #Update blizzard to new state\n",
    "    blizz_next = getNextBlizzard(*blizz_state)\n",
    "\n",
    "    #with this new blizzard check possible movements\n",
    "    next_positions=[]\n",
    "    #Preference down or right\n",
    "\n",
    "    bl0,bl1,bl2,bl3= blizz_next\n",
    "    #Blizard any\n",
    "    bl_any = bl0 | bl1 | bl2 | bl3\n",
    "\n",
    "    if elf_loc[0]<0:\n",
    "        #Starting position: only move down or stationary allowed\n",
    "        pos1= (elf_loc[0]+1,elf_loc[1])\n",
    "        next_positions.append(pos1)\n",
    "\n",
    "        pos1= (elf_loc[0],elf_loc[1])\n",
    "        next_positions.append(pos1)\n",
    "    elif elf_loc[0]==valley_height:\n",
    "        #Starting position from bottom: only move up or stationary allowed\n",
    "        pos1= (elf_loc[0]-1,elf_loc[1])\n",
    "        next_positions.append(pos1)\n",
    "\n",
    "        pos1= (elf_loc[0],elf_loc[1])\n",
    "        next_positions.append(pos1)\n",
    "    else:\n",
    "        #Check left\n",
    "        if elf_loc[1]>0:\n",
    "            pos1= (elf_loc[0],elf_loc[1]-1)\n",
    "            if not bl_any[pos1[0], pos1[1]]:\n",
    "                next_positions.append(pos1)\n",
    "        \n",
    "        #Check up\n",
    "        if elf_loc[0]>0:\n",
    "            pos1=(elf_loc[0]-1,elf_loc[1])\n",
    "            if not bl_any[pos1[0], pos1[1]]:\n",
    "                next_positions.append(pos1)\n",
    "\n",
    "        #Check stationary\n",
    "        pos1= (elf_loc[0],elf_loc[1])\n",
    "        if not bl_any[pos1[0], pos1[1]]:\n",
    "            next_positions.append(pos1)\n",
    "\n",
    "        #Check right\n",
    "        if elf_loc[1]<valley_width-1:\n",
    "            pos1= (elf_loc[0],elf_loc[1]+1)\n",
    "            if not bl_any[pos1[0], pos1[1]]:\n",
    "                next_positions.append(pos1)\n",
    "\n",
    "        #Check down\n",
    "        if elf_loc[0]<valley_height-1:\n",
    "            pos1=(elf_loc[0]+1,elf_loc[1])\n",
    "            if not bl_any[pos1[0], pos1[1]]:\n",
    "                next_positions.append(pos1)\n",
    "\n",
    "    #At this point next_positions should have all possible positions to try if any\n",
    "    if len(next_positions)==0:\n",
    "        #No movements of stationary is possible, returning None\n",
    "        #print(\"No movements\")\n",
    "        return None\n",
    "    else:\n",
    "        n_cur_minutes0=n_cur_minutes+1 #for next iteration\n",
    "        progressDiv1=progressDiv/len(next_positions)\n",
    "        for nextpos0 in next_positions:\n",
    "            mins=get_minimum_minutes_from_back(nextpos0, blizz_next, n_cur_minutes0, elf_aim_pos, progress0, progressDiv1)\n",
    "\n",
    "            #Process mins\n",
    "            if not mins is None:\n",
    "                if global_minmins is None:\n",
    "                    global_minmins=mins\n",
    "                else:\n",
    "                    global_minmins=min(global_minmins,mins)\n",
    "            progress0+=progressDiv1\n",
    "        return global_minmins"
   ]
  },
  {
   "cell_type": "code",
   "execution_count": null,
   "metadata": {},
   "outputs": [],
   "source": [
    "bliz2=blizz_start\n",
    "\n",
    "for i in range(nmins1):\n",
    "    bliz2=getNextBlizzard(*bliz2)"
   ]
  },
  {
   "cell_type": "code",
   "execution_count": null,
   "metadata": {},
   "outputs": [],
   "source": [
    "elf_aim_position_back=elf_pos_initial\n",
    "elf_pos_initial_back=elf_aim_position\n",
    "print(elf_pos_initial_back)\n",
    "print(elf_aim_position_back)"
   ]
  },
  {
   "cell_type": "code",
   "execution_count": null,
   "metadata": {},
   "outputs": [],
   "source": [
    "global_minmins=None\n",
    "global_max_mins= 5*no_blizz_distance\n",
    "print(f\"global_max_mins:{global_max_mins}\")\n",
    "global_elfpos_mins_history=[]\n",
    "t0=time.time()\n",
    "nmins2 = get_minimum_minutes_from_back(elf_pos_initial_back,bliz2,0, elf_aim_position_back,0.0,100.0)\n",
    "print(nmins2)\n",
    "#Not running for some reason"
   ]
  },
  {
   "attachments": {},
   "cell_type": "markdown",
   "metadata": {},
   "source": [
    "input_test answer is 23 which is the correct answer\n",
    "\n",
    "Answer for coming back is 255"
   ]
  },
  {
   "cell_type": "code",
   "execution_count": 16,
   "metadata": {},
   "outputs": [],
   "source": [
    "#nmins2=23\n",
    "nmins2=255"
   ]
  },
  {
   "attachments": {},
   "cell_type": "markdown",
   "metadata": {},
   "source": [
    "So total blizzard state is 255+286=541"
   ]
  },
  {
   "attachments": {},
   "cell_type": "markdown",
   "metadata": {},
   "source": [
    "# Going down again (improved)"
   ]
  },
  {
   "cell_type": "code",
   "execution_count": 17,
   "metadata": {},
   "outputs": [],
   "source": [
    "import time\n",
    "def get_minimum_minutes_from_downagain(elf_loc, blizz_state, n_cur_minutes, elf_aim_pos, progress0,progressDiv):\n",
    "    global valley_width\n",
    "    global valley_height\n",
    "    global global_minmins\n",
    "    global global_max_mins\n",
    "    global global_elfpos_mins_history\n",
    "    global t0\n",
    "    \n",
    "    t1=time.time()\n",
    "    if t1-t0>60: #Check progress every minute\n",
    "        print(f\"elf_loc:{elf_loc}, n_cur_minutes:{n_cur_minutes}, global_minmins:{global_minmins}, progress:{progress0}\")\n",
    "        t0=t1\n",
    "    #print(f\"elf_loc:{elf_loc}, n_cur_minutes:{n_cur_minutes}, global_minmins:{global_minmins}, progress:{progress0}\")\n",
    "\n",
    "    mdist = get_manhatan_distance(elf_loc,elf_aim_pos)\n",
    "\n",
    "    if mdist==1:\n",
    "        #Next move is to exit, regardless of blizzard\n",
    "        print(f\"Exit after:{n_cur_minutes+1}\")\n",
    "        print(f\"elf_loc:{elf_loc}, n_cur_minutes:{n_cur_minutes}, global_minmins:{global_minmins}, progress:{progress0}\")\n",
    "        return n_cur_minutes+1\n",
    "\n",
    "    if (elf_loc,n_cur_minutes) in global_elfpos_mins_history:\n",
    "        #already checked from this position\n",
    "        return None\n",
    "    else:\n",
    "        global_elfpos_mins_history.append( (elf_loc,n_cur_minutes) )\n",
    "\n",
    "    #Check current position against the global minmins\n",
    "    if not global_minmins is None:\n",
    "        if n_cur_minutes+get_manhatan_distance(elf_loc,elf_aim_pos) > global_minmins:\n",
    "            #No point trying to find a route as it will take more minutes than minimum set\n",
    "            return None\n",
    "    \n",
    "    if n_cur_minutes>global_max_mins:\n",
    "        return None\n",
    "        \n",
    "    #Update blizzard to new state\n",
    "    blizz_next = getNextBlizzard(*blizz_state)\n",
    "\n",
    "    #with this new blizzard check possible movements\n",
    "    next_positions=[]\n",
    "    #Preference down or right\n",
    "\n",
    "    bl0,bl1,bl2,bl3= blizz_next\n",
    "    #Blizard any\n",
    "    bl_any = bl0 | bl1 | bl2 | bl3\n",
    "\n",
    "    if elf_loc[0]<0:\n",
    "        #Starting position: only move down or stationary allowed\n",
    "        pos1= (elf_loc[0]+1,elf_loc[1])\n",
    "        next_positions.append(pos1)\n",
    "\n",
    "        pos1= (elf_loc[0],elf_loc[1])\n",
    "        next_positions.append(pos1)\n",
    "    elif elf_loc[0]==valley_height:\n",
    "        #Starting position from bottom: only move up or stationary allowed\n",
    "        pos1= (elf_loc[0]-1,elf_loc[1])\n",
    "        next_positions.append(pos1)\n",
    "\n",
    "        pos1= (elf_loc[0],elf_loc[1])\n",
    "        next_positions.append(pos1)\n",
    "    else:\n",
    "         #Check right\n",
    "        if elf_loc[1]<valley_width-1:\n",
    "            pos1= (elf_loc[0],elf_loc[1]+1)\n",
    "            if not bl_any[pos1[0], pos1[1]]:\n",
    "                next_positions.append(pos1)\n",
    "\n",
    "        #Check down\n",
    "        if elf_loc[0]<valley_height-1:\n",
    "            pos1=(elf_loc[0]+1,elf_loc[1])\n",
    "            if not bl_any[pos1[0], pos1[1]]:\n",
    "                next_positions.append(pos1)\n",
    "\n",
    "        #Check stationary\n",
    "        pos1= (elf_loc[0],elf_loc[1])\n",
    "        if not bl_any[pos1[0], pos1[1]]:\n",
    "            next_positions.append(pos1)\n",
    "        \n",
    "        #Check left\n",
    "        if elf_loc[1]>0:\n",
    "            pos1= (elf_loc[0],elf_loc[1]-1)\n",
    "            if not bl_any[pos1[0], pos1[1]]:\n",
    "                next_positions.append(pos1)\n",
    "        \n",
    "        #Check up\n",
    "        if elf_loc[0]>0:\n",
    "            pos1=(elf_loc[0]-1,elf_loc[1])\n",
    "            if not bl_any[pos1[0], pos1[1]]:\n",
    "                next_positions.append(pos1)\n",
    "\n",
    "    #At this point next_positions should have all possible positions to try if any\n",
    "    if len(next_positions)==0:\n",
    "        #No movements of stationary is possible, returning None\n",
    "        #print(\"No movements\")\n",
    "        return None\n",
    "    else:\n",
    "        n_cur_minutes0=n_cur_minutes+1 #for next iteration\n",
    "        progressDiv1=progressDiv/len(next_positions)\n",
    "        for nextpos0 in next_positions:\n",
    "            mins=get_minimum_minutes_from_downagain(nextpos0, blizz_next, n_cur_minutes0, elf_aim_pos, progress0, progressDiv1)\n",
    "\n",
    "            #Process mins\n",
    "            if not mins is None:\n",
    "                if global_minmins is None:\n",
    "                    global_minmins=mins\n",
    "                else:\n",
    "                    global_minmins=min(global_minmins,mins)\n",
    "            progress0+=progressDiv1\n",
    "        return global_minmins"
   ]
  },
  {
   "cell_type": "code",
   "execution_count": 18,
   "metadata": {},
   "outputs": [],
   "source": [
    "bliz3=blizz_start\n",
    "\n",
    "for i in range(nmins1+nmins2):\n",
    "    bliz3=getNextBlizzard(*bliz3)"
   ]
  },
  {
   "cell_type": "code",
   "execution_count": 19,
   "metadata": {},
   "outputs": [
    {
     "name": "stdout",
     "output_type": "stream",
     "text": [
      "(-1, 0)\n",
      "(25, 119)\n"
     ]
    }
   ],
   "source": [
    "print(elf_pos_initial)\n",
    "print(elf_aim_position)"
   ]
  },
  {
   "cell_type": "code",
   "execution_count": 21,
   "metadata": {},
   "outputs": [
    {
     "name": "stdout",
     "output_type": "stream",
     "text": [
      "global_max_mins:725\n",
      "Exit after:715\n",
      "elf_loc:(24, 119), n_cur_minutes:714, global_minmins:None, progress:8.680585324264593\n",
      "Exit after:696\n",
      "elf_loc:(24, 119), n_cur_minutes:695, global_minmins:715, progress:8.680585324264593\n",
      "Exit after:696\n",
      "elf_loc:(24, 119), n_cur_minutes:695, global_minmins:696, progress:8.680585324264593\n",
      "elf_loc:(22, 94), n_cur_minutes:634, global_minmins:696, progress:8.680585324264593\n",
      "Exit after:685\n",
      "elf_loc:(24, 119), n_cur_minutes:684, global_minmins:696, progress:8.680585324264593\n",
      "Exit after:656\n",
      "elf_loc:(24, 119), n_cur_minutes:655, global_minmins:685, progress:8.680585324264593\n",
      "Exit after:645\n",
      "elf_loc:(24, 119), n_cur_minutes:644, global_minmins:656, progress:8.680585324264593\n",
      "Exit after:645\n",
      "elf_loc:(24, 119), n_cur_minutes:644, global_minmins:645, progress:8.680585324264593\n",
      "elf_loc:(14, 67), n_cur_minutes:565, global_minmins:645, progress:8.680585324264593\n",
      "Exit after:639\n",
      "elf_loc:(24, 119), n_cur_minutes:638, global_minmins:645, progress:8.680585324264593\n",
      "elf_loc:(4, 89), n_cur_minutes:582, global_minmins:639, progress:8.680585324264593\n",
      "Exit after:620\n",
      "elf_loc:(24, 119), n_cur_minutes:619, global_minmins:639, progress:8.680585324264593\n",
      "Exit after:620\n",
      "elf_loc:(24, 119), n_cur_minutes:619, global_minmins:620, progress:8.680585324264593\n",
      "elf_loc:(11, 59), n_cur_minutes:535, global_minmins:620, progress:8.680585324264593\n",
      "elf_loc:(6, 38), n_cur_minutes:499, global_minmins:620, progress:8.680585324264593\n",
      "Exit after:595\n",
      "elf_loc:(24, 119), n_cur_minutes:594, global_minmins:620, progress:8.680585324264593\n",
      "Exit after:595\n",
      "elf_loc:(24, 119), n_cur_minutes:594, global_minmins:595, progress:8.680585324264593\n",
      "Exit after:589\n",
      "elf_loc:(24, 119), n_cur_minutes:588, global_minmins:595, progress:8.680585324264593\n",
      "elf_loc:(24, 114), n_cur_minutes:570, global_minmins:589, progress:8.680585324264593\n",
      "Exit after:585\n",
      "elf_loc:(24, 119), n_cur_minutes:584, global_minmins:589, progress:8.680585324264593\n",
      "Exit after:585\n",
      "elf_loc:(24, 119), n_cur_minutes:584, global_minmins:585, progress:8.680585324264593\n",
      "elf_loc:(13, 46), n_cur_minutes:448, global_minmins:585, progress:8.680585324264593\n",
      "elf_loc:(5, 72), n_cur_minutes:498, global_minmins:585, progress:8.680585324264593\n",
      "elf_loc:(6, 94), n_cur_minutes:533, global_minmins:585, progress:8.680585324264593\n",
      "elf_loc:(0, 36), n_cur_minutes:429, global_minmins:585, progress:8.680585324264593\n",
      "Exit after:574\n",
      "elf_loc:(24, 119), n_cur_minutes:573, global_minmins:585, progress:8.680585324264593\n",
      "elf_loc:(6, 97), n_cur_minutes:510, global_minmins:574, progress:8.680585324264593\n",
      "elf_loc:(15, 74), n_cur_minutes:461, global_minmins:574, progress:8.680585324264593\n",
      "Exit after:559\n",
      "elf_loc:(24, 119), n_cur_minutes:558, global_minmins:574, progress:8.680585324264593\n",
      "Exit after:549\n",
      "elf_loc:(24, 119), n_cur_minutes:548, global_minmins:559, progress:8.680585324264593\n",
      "Exit after:548\n",
      "elf_loc:(24, 119), n_cur_minutes:547, global_minmins:549, progress:8.680585324264593\n",
      "Exit after:548\n",
      "elf_loc:(24, 119), n_cur_minutes:547, global_minmins:548, progress:8.680585324264593\n",
      "elf_loc:(22, 46), n_cur_minutes:385, global_minmins:548, progress:8.680585324264593\n",
      "elf_loc:(2, 41), n_cur_minutes:401, global_minmins:548, progress:8.680585324264593\n",
      "elf_loc:(12, 58), n_cur_minutes:418, global_minmins:548, progress:8.680585324264593\n",
      "elf_loc:(12, 53), n_cur_minutes:382, global_minmins:548, progress:8.680585324264593\n",
      "Exit after:531\n",
      "elf_loc:(24, 119), n_cur_minutes:530, global_minmins:548, progress:8.680585324264593\n",
      "Exit after:520\n",
      "elf_loc:(24, 119), n_cur_minutes:519, global_minmins:531, progress:8.680585324264593\n",
      "elf_loc:(12, 100), n_cur_minutes:477, global_minmins:520, progress:8.680585324264593\n",
      "elf_loc:(12, 63), n_cur_minutes:406, global_minmins:520, progress:8.680585324264593\n",
      "elf_loc:(12, 16), n_cur_minutes:391, global_minmins:520, progress:8.680585324264593\n",
      "elf_loc:(16, 18), n_cur_minutes:353, global_minmins:520, progress:8.680585324264593\n",
      "elf_loc:(8, 13), n_cur_minutes:363, global_minmins:520, progress:8.680585324264593\n",
      "Exit after:519\n",
      "elf_loc:(24, 119), n_cur_minutes:518, global_minmins:520, progress:8.680585324264593\n",
      "Exit after:515\n",
      "elf_loc:(24, 119), n_cur_minutes:514, global_minmins:519, progress:8.680585324264593\n",
      "elf_loc:(20, 12), n_cur_minutes:340, global_minmins:515, progress:8.680585324264593\n",
      "elf_loc:(19, 48), n_cur_minutes:341, global_minmins:515, progress:8.680585324264593\n",
      "elf_loc:(7, 113), n_cur_minutes:484, global_minmins:515, progress:8.680585324264593\n",
      "Exit after:490\n",
      "elf_loc:(24, 119), n_cur_minutes:489, global_minmins:515, progress:8.680585324264593\n",
      "Exit after:482\n",
      "elf_loc:(24, 119), n_cur_minutes:481, global_minmins:490, progress:8.680585324264593\n",
      "elf_loc:(21, 88), n_cur_minutes:407, global_minmins:482, progress:8.680585324264593\n",
      "elf_loc:(4, 46), n_cur_minutes:341, global_minmins:482, progress:8.680585324264593\n",
      "elf_loc:(24, 90), n_cur_minutes:399, global_minmins:482, progress:8.680585324264593\n",
      "elf_loc:(9, 71), n_cur_minutes:373, global_minmins:482, progress:8.680585324264593\n",
      "elf_loc:(17, 60), n_cur_minutes:342, global_minmins:482, progress:8.680585324264593\n",
      "Exit after:472\n",
      "elf_loc:(24, 119), n_cur_minutes:471, global_minmins:482, progress:8.680585324264593\n",
      "Exit after:472\n",
      "elf_loc:(24, 119), n_cur_minutes:471, global_minmins:472, progress:8.680585324264593\n",
      "elf_loc:(20, 105), n_cur_minutes:439, global_minmins:472, progress:8.680585324264593\n",
      "elf_loc:(16, 91), n_cur_minutes:395, global_minmins:472, progress:8.680585324264593\n",
      "Exit after:445\n",
      "elf_loc:(24, 119), n_cur_minutes:444, global_minmins:472, progress:8.680585324264593\n",
      "elf_loc:(21, 15), n_cur_minutes:324, global_minmins:445, progress:8.680585324264593\n",
      "elf_loc:(10, 22), n_cur_minutes:309, global_minmins:445, progress:8.680585324264593\n",
      "elf_loc:(22, 7), n_cur_minutes:304, global_minmins:445, progress:8.680585324264593\n",
      "elf_loc:(18, 24), n_cur_minutes:268, global_minmins:445, progress:8.680585324264593\n",
      "elf_loc:(11, 12), n_cur_minutes:271, global_minmins:445, progress:8.680585324264593\n",
      "elf_loc:(14, 44), n_cur_minutes:304, global_minmins:445, progress:8.680585324264593\n",
      "elf_loc:(16, 58), n_cur_minutes:326, global_minmins:445, progress:8.680585324264593\n",
      "elf_loc:(19, 1), n_cur_minutes:283, global_minmins:445, progress:8.680585324264593\n",
      "elf_loc:(3, 22), n_cur_minutes:303, global_minmins:445, progress:8.680585324264593\n",
      "elf_loc:(15, 36), n_cur_minutes:272, global_minmins:445, progress:8.680585324264593\n",
      "elf_loc:(16, 89), n_cur_minutes:370, global_minmins:445, progress:8.680585324264593\n",
      "elf_loc:(14, 36), n_cur_minutes:258, global_minmins:445, progress:8.680585324264593\n",
      "Exit after:421\n",
      "elf_loc:(24, 119), n_cur_minutes:420, global_minmins:445, progress:8.680585324264593\n",
      "elf_loc:(19, 58), n_cur_minutes:290, global_minmins:421, progress:8.680585324264593\n",
      "elf_loc:(18, 14), n_cur_minutes:225, global_minmins:421, progress:8.680585324264593\n",
      "elf_loc:(19, 36), n_cur_minutes:242, global_minmins:421, progress:8.680585324264593\n",
      "elf_loc:(8, 36), n_cur_minutes:265, global_minmins:421, progress:8.680585324264593\n",
      "elf_loc:(1, 30), n_cur_minutes:240, global_minmins:421, progress:8.680585324264593\n",
      "elf_loc:(14, 40), n_cur_minutes:254, global_minmins:421, progress:8.680585324264593\n",
      "elf_loc:(2, 79), n_cur_minutes:343, global_minmins:421, progress:8.680585324264593\n",
      "elf_loc:(17, 47), n_cur_minutes:263, global_minmins:421, progress:8.680585324264593\n",
      "elf_loc:(23, 36), n_cur_minutes:221, global_minmins:421, progress:8.680585324264593\n",
      "elf_loc:(2, 39), n_cur_minutes:251, global_minmins:421, progress:8.680585324264593\n",
      "elf_loc:(7, 47), n_cur_minutes:246, global_minmins:421, progress:8.680585324264593\n",
      "elf_loc:(9, 81), n_cur_minutes:329, global_minmins:421, progress:8.680585324264593\n",
      "Exit after:416\n",
      "elf_loc:(24, 119), n_cur_minutes:415, global_minmins:421, progress:8.680585324264593\n",
      "Exit after:412\n",
      "elf_loc:(24, 119), n_cur_minutes:411, global_minmins:416, progress:8.680585324264593\n",
      "Exit after:412\n",
      "elf_loc:(24, 119), n_cur_minutes:411, global_minmins:412, progress:8.680585324264593\n",
      "elf_loc:(7, 65), n_cur_minutes:297, global_minmins:412, progress:8.680585324264593\n",
      "Exit after:411\n",
      "elf_loc:(24, 119), n_cur_minutes:410, global_minmins:412, progress:8.680585324264593\n",
      "Exit after:395\n",
      "elf_loc:(24, 119), n_cur_minutes:394, global_minmins:411, progress:8.680585324264593\n",
      "elf_loc:(10, 73), n_cur_minutes:299, global_minmins:395, progress:8.680585324264593\n",
      "elf_loc:(4, 98), n_cur_minutes:352, global_minmins:395, progress:8.680585324264593\n",
      "elf_loc:(4, 112), n_cur_minutes:366, global_minmins:395, progress:8.680585324264593\n",
      "elf_loc:(23, 37), n_cur_minutes:206, global_minmins:395, progress:8.680585324264593\n",
      "elf_loc:(2, 1), n_cur_minutes:223, global_minmins:395, progress:8.680585324264593\n",
      "elf_loc:(18, 42), n_cur_minutes:219, global_minmins:395, progress:8.680585324264593\n",
      "Exit after:370\n",
      "elf_loc:(24, 119), n_cur_minutes:369, global_minmins:395, progress:8.680585324264593\n",
      "Exit after:370\n",
      "elf_loc:(24, 119), n_cur_minutes:369, global_minmins:370, progress:8.680585324264593\n",
      "Exit after:366\n",
      "elf_loc:(24, 119), n_cur_minutes:365, global_minmins:370, progress:8.680585324264593\n",
      "Exit after:356\n",
      "elf_loc:(24, 119), n_cur_minutes:355, global_minmins:366, progress:8.680585324264593\n",
      "Exit after:345\n",
      "elf_loc:(24, 119), n_cur_minutes:344, global_minmins:356, progress:8.680585324264593\n",
      "Exit after:345\n",
      "elf_loc:(24, 119), n_cur_minutes:344, global_minmins:345, progress:8.680585324264593\n",
      "elf_loc:(20, 78), n_cur_minutes:296, global_minmins:345, progress:8.680585324264593\n",
      "elf_loc:(9, 51), n_cur_minutes:232, global_minmins:345, progress:8.680585324264593\n",
      "elf_loc:(18, 25), n_cur_minutes:177, global_minmins:345, progress:8.680585324264593\n",
      "elf_loc:(20, 43), n_cur_minutes:200, global_minmins:345, progress:8.680585324264593\n",
      "elf_loc:(8, 26), n_cur_minutes:182, global_minmins:345, progress:8.680585324264593\n",
      "elf_loc:(16, 11), n_cur_minutes:166, global_minmins:345, progress:8.680585324264593\n",
      "elf_loc:(9, 10), n_cur_minutes:166, global_minmins:345, progress:8.680585324264593\n",
      "elf_loc:(0, 23), n_cur_minutes:187, global_minmins:345, progress:8.680585324264593\n",
      "elf_loc:(8, 14), n_cur_minutes:153, global_minmins:345, progress:8.680585324264593\n",
      "elf_loc:(23, 56), n_cur_minutes:217, global_minmins:345, progress:8.680585324264593\n",
      "elf_loc:(7, 75), n_cur_minutes:276, global_minmins:345, progress:8.680585324264593\n",
      "elf_loc:(22, 78), n_cur_minutes:271, global_minmins:345, progress:8.680585324264593\n",
      "elf_loc:(19, 97), n_cur_minutes:290, global_minmins:345, progress:8.680585324264593\n",
      "elf_loc:(23, 68), n_cur_minutes:239, global_minmins:345, progress:8.680585324264593\n",
      "elf_loc:(19, 24), n_cur_minutes:142, global_minmins:345, progress:8.680585324264593\n",
      "elf_loc:(24, 0), n_cur_minutes:153, global_minmins:345, progress:8.680585324264593\n",
      "elf_loc:(20, 4), n_cur_minutes:139, global_minmins:345, progress:8.680585324264593\n",
      "elf_loc:(15, 2), n_cur_minutes:119, global_minmins:345, progress:8.680585324264593\n",
      "elf_loc:(6, 108), n_cur_minutes:316, global_minmins:345, progress:8.680585324264593\n",
      "elf_loc:(9, 65), n_cur_minutes:218, global_minmins:345, progress:8.680585324264593\n",
      "elf_loc:(2, 44), n_cur_minutes:175, global_minmins:345, progress:8.680585324264593\n",
      "elf_loc:(2, 26), n_cur_minutes:147, global_minmins:345, progress:8.680585324264593\n",
      "elf_loc:(19, 65), n_cur_minutes:209, global_minmins:345, progress:8.680585324264593\n",
      "elf_loc:(12, 82), n_cur_minutes:244, global_minmins:345, progress:8.680585324264593\n",
      "elf_loc:(11, 45), n_cur_minutes:166, global_minmins:345, progress:8.680585324264593\n",
      "elf_loc:(5, 72), n_cur_minutes:222, global_minmins:345, progress:8.680585324264593\n",
      "elf_loc:(7, 73), n_cur_minutes:217, global_minmins:345, progress:8.680585324264593\n",
      "elf_loc:(1, 48), n_cur_minutes:171, global_minmins:345, progress:8.680585324264593\n",
      "elf_loc:(5, 0), n_cur_minutes:127, global_minmins:345, progress:8.680585324264593\n",
      "elf_loc:(7, 12), n_cur_minutes:108, global_minmins:345, progress:8.680585324264593\n",
      "Exit after:334\n",
      "elf_loc:(24, 119), n_cur_minutes:333, global_minmins:345, progress:8.680585324264593\n",
      "Exit after:319\n",
      "elf_loc:(24, 119), n_cur_minutes:318, global_minmins:334, progress:8.680585324264593\n",
      "elf_loc:(24, 98), n_cur_minutes:270, global_minmins:319, progress:8.680585324264593\n",
      "elf_loc:(4, 101), n_cur_minutes:276, global_minmins:319, progress:8.680585324264593\n",
      "elf_loc:(15, 26), n_cur_minutes:107, global_minmins:319, progress:8.680585324264593\n",
      "elf_loc:(9, 73), n_cur_minutes:202, global_minmins:319, progress:8.680585324264593\n",
      "Exit after:309\n",
      "elf_loc:(24, 119), n_cur_minutes:308, global_minmins:319, progress:8.680585324264593\n",
      "elf_loc:(13, 119), n_cur_minutes:295, global_minmins:309, progress:8.680585324264593\n",
      "Exit after:308\n",
      "elf_loc:(24, 119), n_cur_minutes:307, global_minmins:309, progress:8.680585324264593\n",
      "Exit after:291\n",
      "elf_loc:(24, 119), n_cur_minutes:290, global_minmins:308, progress:8.680585324264593\n",
      "elf_loc:(21, 100), n_cur_minutes:263, global_minmins:291, progress:8.680585324264593\n",
      "elf_loc:(2, 33), n_cur_minutes:128, global_minmins:291, progress:8.680585324264593\n",
      "elf_loc:(23, 81), n_cur_minutes:224, global_minmins:291, progress:8.680585324264593\n",
      "elf_loc:(9, 23), n_cur_minutes:90, global_minmins:291, progress:8.680585324264593\n",
      "elf_loc:(3, 13), n_cur_minutes:80, global_minmins:291, progress:8.680585324264593\n",
      "elf_loc:(11, 54), n_cur_minutes:147, global_minmins:291, progress:8.680585324264593\n",
      "elf_loc:(7, 1), n_cur_minutes:89, global_minmins:291, progress:8.680585324264625\n",
      "elf_loc:(11, 17), n_cur_minutes:66, global_minmins:291, progress:8.680585337189227\n",
      "elf_loc:(22, 47), n_cur_minutes:126, global_minmins:291, progress:8.68100230583872\n",
      "elf_loc:(20, 30), n_cur_minutes:89, global_minmins:291, progress:8.68100230583872\n",
      "elf_loc:(7, 73), n_cur_minutes:192, global_minmins:291, progress:8.68100230583872\n",
      "elf_loc:(14, 119), n_cur_minutes:276, global_minmins:291, progress:8.68100230583872\n",
      "Exit after:279\n",
      "elf_loc:(24, 119), n_cur_minutes:278, global_minmins:291, progress:8.68100230583872\n",
      "elf_loc:(13, 88), n_cur_minutes:204, global_minmins:279, progress:8.68100230583872\n",
      "elf_loc:(22, 71), n_cur_minutes:184, global_minmins:279, progress:8.68100230583872\n",
      "elf_loc:(2, 62), n_cur_minutes:142, global_minmins:279, progress:8.68100230583872\n",
      "elf_loc:(21, 8), n_cur_minutes:57, global_minmins:279, progress:8.681004435438814\n",
      "elf_loc:(21, 3), n_cur_minutes:50, global_minmins:279, progress:8.688614937390309\n",
      "279\n"
     ]
    }
   ],
   "source": [
    "global_minmins=None\n",
    "global_max_mins= 5*no_blizz_distance\n",
    "print(f\"global_max_mins:{global_max_mins}\")\n",
    "global_elfpos_mins_history=[]\n",
    "\n",
    "progress=0\n",
    "t0=time.time()\n",
    "nmins3=get_minimum_minutes_from_downagain(elf_pos_initial,bliz3,0, elf_aim_position,0.0,100.0)\n",
    "print(nmins3)"
   ]
  },
  {
   "attachments": {},
   "cell_type": "markdown",
   "metadata": {},
   "source": [
    "input_test gives the answer 13, which is the right answer\n",
    "\n",
    "279"
   ]
  },
  {
   "cell_type": "code",
   "execution_count": 22,
   "metadata": {},
   "outputs": [
    {
     "data": {
      "text/plain": [
       "820"
      ]
     },
     "execution_count": 22,
     "metadata": {},
     "output_type": "execute_result"
    }
   ],
   "source": [
    " nmins1+nmins2+nmins3"
   ]
  },
  {
   "cell_type": "code",
   "execution_count": null,
   "metadata": {},
   "outputs": [],
   "source": []
  }
 ],
 "metadata": {
  "kernelspec": {
   "display_name": "dev",
   "language": "python",
   "name": "python3"
  },
  "language_info": {
   "codemirror_mode": {
    "name": "ipython",
    "version": 3
   },
   "file_extension": ".py",
   "mimetype": "text/x-python",
   "name": "python",
   "nbconvert_exporter": "python",
   "pygments_lexer": "ipython3",
   "version": "3.8.15"
  },
  "orig_nbformat": 4,
  "vscode": {
   "interpreter": {
    "hash": "ae9318eca6f153166416f971f14e35a175773b3b30438ae2aa8538d9aa021541"
   }
  }
 },
 "nbformat": 4,
 "nbformat_minor": 2
}
