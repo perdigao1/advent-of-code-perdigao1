{
 "cells": [
  {
   "cell_type": "markdown",
   "metadata": {},
   "source": [
    "# Read file as lines"
   ]
  },
  {
   "cell_type": "code",
   "execution_count": null,
   "metadata": {},
   "outputs": [],
   "source": [
    "#INPUT_FN = \"input_test.txt\" #part1 14, part2 34\n",
    "INPUT_FN = \"input.txt\"\n",
    "\n",
    "with open(INPUT_FN) as f:\n",
    "    lines = [l.rstrip() for l in f]\n",
    "\n",
    "if lines[-1]=='':\n",
    "    lines=lines[:,-1]"
   ]
  },
  {
   "cell_type": "markdown",
   "metadata": {},
   "source": [
    "Part1: Resonant collinearity\n",
    "\n",
    "Need to mark antinodes.\n",
    "\n",
    "Map has characters, match characters create antinodes following the same segment connecting them but opposite (twoce the length) on each direction.\n",
    "\n",
    "Plan, convert input to numpy array, to make it easier to index\n",
    "\n",
    "Get locations of each character, and put them in a dictionary, character: list of locations coordinates\n",
    "\n",
    "Pairs, to get locations of antinodes. Antinodes locations added to a Set.\n",
    "\n",
    "Result: get number of antinodes\n"
   ]
  },
  {
   "cell_type": "code",
   "execution_count": 2,
   "metadata": {},
   "outputs": [],
   "source": [
    "import numpy as np\n",
    "antennas_map = np.zeros((len(lines),len(lines[0])), dtype=str)"
   ]
  },
  {
   "cell_type": "code",
   "execution_count": 3,
   "metadata": {},
   "outputs": [],
   "source": [
    "# convert map to numpy array\n",
    "# At the same time, we can create the dictionary with the locations of characters\n",
    "char_locations_dict= dict()\n",
    "\n",
    "for irow,line0 in enumerate(lines):\n",
    "    for icol,s in enumerate(line0):\n",
    "        antennas_map[irow,icol] = s\n",
    "        loc_tuple = (irow,icol)\n",
    "        if s!='.':\n",
    "            if s not in char_locations_dict.keys():\n",
    "                char_locations_dict[s] = [loc_tuple]\n",
    "            else:\n",
    "                char_locations_dict[s].append(loc_tuple)"
   ]
  },
  {
   "cell_type": "code",
   "execution_count": 4,
   "metadata": {},
   "outputs": [
    {
     "data": {
      "text/plain": [
       "array([['.', '.', '.', '.', '.', '.', '.', '.', '.', '.', '.', '.'],\n",
       "       ['.', '.', '.', '.', '.', '.', '.', '.', '0', '.', '.', '.'],\n",
       "       ['.', '.', '.', '.', '.', '0', '.', '.', '.', '.', '.', '.'],\n",
       "       ['.', '.', '.', '.', '.', '.', '.', '0', '.', '.', '.', '.'],\n",
       "       ['.', '.', '.', '.', '0', '.', '.', '.', '.', '.', '.', '.'],\n",
       "       ['.', '.', '.', '.', '.', '.', 'A', '.', '.', '.', '.', '.'],\n",
       "       ['.', '.', '.', '.', '.', '.', '.', '.', '.', '.', '.', '.'],\n",
       "       ['.', '.', '.', '.', '.', '.', '.', '.', '.', '.', '.', '.'],\n",
       "       ['.', '.', '.', '.', '.', '.', '.', '.', 'A', '.', '.', '.'],\n",
       "       ['.', '.', '.', '.', '.', '.', '.', '.', '.', 'A', '.', '.'],\n",
       "       ['.', '.', '.', '.', '.', '.', '.', '.', '.', '.', '.', '.'],\n",
       "       ['.', '.', '.', '.', '.', '.', '.', '.', '.', '.', '.', '.']],\n",
       "      dtype='<U1')"
      ]
     },
     "execution_count": 4,
     "metadata": {},
     "output_type": "execute_result"
    }
   ],
   "source": [
    "antennas_map"
   ]
  },
  {
   "cell_type": "code",
   "execution_count": 5,
   "metadata": {},
   "outputs": [
    {
     "data": {
      "text/plain": [
       "{'0': [(1, 8), (2, 5), (3, 7), (4, 4)], 'A': [(5, 6), (8, 8), (9, 9)]}"
      ]
     },
     "execution_count": 5,
     "metadata": {},
     "output_type": "execute_result"
    }
   ],
   "source": [
    "char_locations_dict"
   ]
  },
  {
   "cell_type": "markdown",
   "metadata": {},
   "source": [
    "Create antinodes by pairing equal characters"
   ]
  },
  {
   "cell_type": "code",
   "execution_count": 6,
   "metadata": {},
   "outputs": [],
   "source": [
    "from itertools import permutations\n",
    "\n",
    "nrows, ncols = antennas_map.shape\n",
    "\n",
    "antinodes_locs=set()\n",
    "\n",
    "for k,v in char_locations_dict.items():\n",
    "    if len(v)>1:\n",
    "        # get all pairs of locations\n",
    "        for loc0, loc1 in permutations(v,2):\n",
    "            an0 = 2*loc1[0]-loc0[0]\n",
    "            an1 = 2*loc1[1]-loc0[1]\n",
    "\n",
    "            # check antinode locations are within limits\n",
    "            if an0<0 or an0>=nrows or an1<0 or an1>=ncols:\n",
    "                #outside, don't consider\n",
    "                continue\n",
    "            antinodes_locs.add( (an0,an1) )"
   ]
  },
  {
   "cell_type": "code",
   "execution_count": 7,
   "metadata": {},
   "outputs": [
    {
     "data": {
      "text/plain": [
       "{(0, 6),\n",
       " (0, 11),\n",
       " (1, 3),\n",
       " (2, 4),\n",
       " (2, 10),\n",
       " (3, 2),\n",
       " (4, 9),\n",
       " (5, 1),\n",
       " (5, 6),\n",
       " (6, 3),\n",
       " (7, 0),\n",
       " (7, 7),\n",
       " (10, 10),\n",
       " (11, 10)}"
      ]
     },
     "execution_count": 7,
     "metadata": {},
     "output_type": "execute_result"
    }
   ],
   "source": [
    "antinodes_locs"
   ]
  },
  {
   "cell_type": "code",
   "execution_count": 8,
   "metadata": {},
   "outputs": [
    {
     "data": {
      "text/plain": [
       "14"
      ]
     },
     "execution_count": 8,
     "metadata": {},
     "output_type": "execute_result"
    }
   ],
   "source": [
    "len(antinodes_locs)"
   ]
  },
  {
   "cell_type": "markdown",
   "metadata": {},
   "source": [
    "OK"
   ]
  },
  {
   "cell_type": "markdown",
   "metadata": {},
   "source": [
    "# Part 2\n",
    "\n",
    "similar but have to go beyond a single node"
   ]
  },
  {
   "cell_type": "code",
   "execution_count": 12,
   "metadata": {},
   "outputs": [],
   "source": [
    "antinodes_locs_p2=set()\n",
    "\n",
    "for k,v in char_locations_dict.items():\n",
    "    if len(v)>1:\n",
    "        # get all pairs of locations\n",
    "        for loc0, loc1 in permutations(v,2):\n",
    "            disp0 = loc1[0]-loc0[0]\n",
    "            disp1 = loc1[1]-loc0[1]\n",
    "\n",
    "            #initialise\n",
    "            an0 = loc1[0]\n",
    "            an1 = loc1[1]\n",
    "\n",
    "            while True:\n",
    "                antinodes_locs_p2.add( (an0,an1) )\n",
    "                an0 += disp0\n",
    "                an1 += disp1\n",
    "\n",
    "                # check antinode locations are within limits\n",
    "                if an0<0 or an0>=nrows or an1<0 or an1>=ncols:\n",
    "                    #outside, don't consider and stop adding nodes for this pair\n",
    "                    break\n",
    "                #antinodes_locs_p2.add( (an0,an1) )"
   ]
  },
  {
   "cell_type": "code",
   "execution_count": 13,
   "metadata": {},
   "outputs": [
    {
     "data": {
      "text/plain": [
       "{(0, 0),\n",
       " (0, 1),\n",
       " (0, 6),\n",
       " (0, 11),\n",
       " (1, 1),\n",
       " (1, 3),\n",
       " (1, 8),\n",
       " (2, 2),\n",
       " (2, 4),\n",
       " (2, 5),\n",
       " (2, 10),\n",
       " (3, 2),\n",
       " (3, 3),\n",
       " (3, 7),\n",
       " (4, 4),\n",
       " (4, 9),\n",
       " (5, 1),\n",
       " (5, 5),\n",
       " (5, 6),\n",
       " (5, 11),\n",
       " (6, 3),\n",
       " (6, 6),\n",
       " (7, 0),\n",
       " (7, 5),\n",
       " (7, 7),\n",
       " (8, 2),\n",
       " (8, 8),\n",
       " (9, 4),\n",
       " (9, 9),\n",
       " (10, 1),\n",
       " (10, 10),\n",
       " (11, 3),\n",
       " (11, 10),\n",
       " (11, 11)}"
      ]
     },
     "execution_count": 13,
     "metadata": {},
     "output_type": "execute_result"
    }
   ],
   "source": [
    "antinodes_locs_p2"
   ]
  },
  {
   "cell_type": "code",
   "execution_count": 14,
   "metadata": {},
   "outputs": [
    {
     "data": {
      "text/plain": [
       "34"
      ]
     },
     "execution_count": 14,
     "metadata": {},
     "output_type": "execute_result"
    }
   ],
   "source": [
    "len(antinodes_locs_p2)"
   ]
  },
  {
   "cell_type": "code",
   "execution_count": null,
   "metadata": {},
   "outputs": [],
   "source": []
  }
 ],
 "metadata": {
  "kernelspec": {
   "display_name": "dev2",
   "language": "python",
   "name": "python3"
  },
  "language_info": {
   "codemirror_mode": {
    "name": "ipython",
    "version": 3
   },
   "file_extension": ".py",
   "mimetype": "text/x-python",
   "name": "python",
   "nbconvert_exporter": "python",
   "pygments_lexer": "ipython3",
   "version": "3.13.7"
  }
 },
 "nbformat": 4,
 "nbformat_minor": 2
}
