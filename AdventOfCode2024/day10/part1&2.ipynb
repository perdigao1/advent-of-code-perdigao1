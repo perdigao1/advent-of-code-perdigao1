{
 "cells": [
  {
   "cell_type": "markdown",
   "metadata": {},
   "source": [
    "# Read file as lines"
   ]
  },
  {
   "cell_type": "code",
   "execution_count": 1,
   "metadata": {},
   "outputs": [],
   "source": [
    "#INPUT_FN = \"input_test.txt\" #36\n",
    "INPUT_FN = \"input.txt\"\n",
    "\n",
    "with open(INPUT_FN) as f:\n",
    "    lines = [l.rstrip() for l in f]\n",
    "\n",
    "if lines[-1]=='':\n",
    "    lines=lines[:,-1]"
   ]
  },
  {
   "cell_type": "code",
   "execution_count": 2,
   "metadata": {},
   "outputs": [
    {
     "data": {
      "text/plain": [
       "['101234653436698943210876543298108967890123211',\n",
       " '900945762567787651028945054167211876965254300',\n",
       " '812876851008632112987632167054340105874367891',\n",
       " '743987945219541003456542108981233234567809892',\n",
       " '657641434349898764565876232190543456452912763',\n",
       " '898530125896701651698965945087612387301103454',\n",
       " '101421056787672340789234876231201293219010989',\n",
       " '012336765410589121470125960140340184678321670',\n",
       " '987449870323431034561076054057653296501234521',\n",
       " '876558901210120345665780143968934187410345438',\n",
       " '034569821025001256676891232877065056309654589',\n",
       " '125678438136789867589872301986174145218789678',\n",
       " '678776569245234798434565432765289036785890541',\n",
       " '589989478910135652329806567874376123896781030',\n",
       " '431276321210023101210715432990145678765432121',\n",
       " '120345290923412302345620121087230109650187656',\n",
       " '098010187874503210989430101256521212341090347',\n",
       " '187623456365694567876543232344560301032181298',\n",
       " '012510589456787655469854741023478912345672107',\n",
       " '143421674307897846988767858910890109852109856',\n",
       " '231256014210978987671056967378765210763296705',\n",
       " '140347123900389034502340191269854307894585014',\n",
       " '051298034891276123216521780350123456765674323',\n",
       " '565434540762345637897435615443210523456001298',\n",
       " '876529651057850136988904306782107610987123367',\n",
       " '985018782348943245077211216790108901278994453',\n",
       " '123427890167654432106310345889299870122185432',\n",
       " '010568921211234501215445432976387761233076541',\n",
       " '129877432100235676301456701265456654394567650',\n",
       " '431066523231145985490389876014012534585658969',\n",
       " '302309012694046796781201078923453421673215678',\n",
       " '213218906783459873212212562112969010984504301',\n",
       " '304567815612163654304323453007878123435643210',\n",
       " '412359854309072345323456894314365036521754965',\n",
       " '563456743218781896210567765101254307810867874',\n",
       " '694105678907690787890698989210345218987980123',\n",
       " '787234563210581654321787876307896210898943321',\n",
       " '894563454671410010987345665456987346787652450',\n",
       " '763674589582323225676298767645459855898101067',\n",
       " '652983673497654134570156958912378764306678998',\n",
       " '341672102108987010987667843003569013215463210',\n",
       " '030501012896109823478766542103454320176354501',\n",
       " '125418923787210734569651033212169010083296101',\n",
       " '654327654654323601234569124349078321190187632',\n",
       " '789210125345434512103678765678767456783276543']"
      ]
     },
     "execution_count": 2,
     "metadata": {},
     "output_type": "execute_result"
    }
   ],
   "source": [
    "lines"
   ]
  },
  {
   "cell_type": "code",
   "execution_count": 3,
   "metadata": {},
   "outputs": [
    {
     "name": "stdout",
     "output_type": "stream",
     "text": [
      "nrows=45, ncols=45\n"
     ]
    }
   ],
   "source": [
    "nrows = len(lines)\n",
    "ncols = len(lines[0])\n",
    "print(f\"{nrows=}, {ncols=}\")"
   ]
  },
  {
   "cell_type": "markdown",
   "metadata": {},
   "source": [
    "How to solve.\n",
    "\n",
    "Graph based solution. Direct graph, with nodes connected in +1 steps. Node id is the coordinates\n",
    "Determine the zero nodes.\n",
    "From each of the zero nodes find how many 9's it can reach (not the number of routes)"
   ]
  },
  {
   "cell_type": "code",
   "execution_count": 4,
   "metadata": {},
   "outputs": [],
   "source": [
    "import networkx as nx"
   ]
  },
  {
   "cell_type": "code",
   "execution_count": 5,
   "metadata": {},
   "outputs": [],
   "source": [
    "def get_el_value_from_lines(irow,icol):\n",
    "    global lines\n",
    "    return int(lines[irow][icol])"
   ]
  },
  {
   "cell_type": "code",
   "execution_count": 6,
   "metadata": {},
   "outputs": [],
   "source": [
    "zero_nodes = []\n",
    "nine_nodes = []\n",
    "G = nx.DiGraph()\n",
    "for irow in range(nrows):\n",
    "    for icol in range(ncols):\n",
    "        #add as edge\n",
    "        v = get_el_value_from_lines(irow, icol)\n",
    "        node_tuple = (irow,icol)\n",
    "        G.add_node ( node_tuple )\n",
    "        if v==0:\n",
    "            zero_nodes.append(node_tuple)\n",
    "        elif v==9:\n",
    "            nine_nodes.append(node_tuple)\n",
    "\n",
    "#handle connectivity\n",
    "for irow in range(nrows):\n",
    "    for icol in range(ncols):\n",
    "        v = get_el_value_from_lines(irow, icol)\n",
    "        if irow < nrows-1:\n",
    "            # check down\n",
    "            v1 = get_el_value_from_lines(irow+1, icol)\n",
    "            if (v1-v)==1:\n",
    "                #add adge towards v1\n",
    "                G.add_edge( (irow,icol), (irow+1, icol))\n",
    "            elif (v1-v)==-1:\n",
    "                G.add_edge( (irow+1,icol), (irow, icol))\n",
    "        \n",
    "        if icol<ncols-1:\n",
    "            # check right\n",
    "            v1 = get_el_value_from_lines(irow, icol+1)\n",
    "            if (v1-v)==1:\n",
    "                #add adge towards v1\n",
    "                G.add_edge( (irow,icol), (irow, icol+1))\n",
    "            elif (v1-v)==-1:\n",
    "                G.add_edge( (irow,icol+1), (irow, icol))\n"
   ]
  },
  {
   "cell_type": "markdown",
   "metadata": {},
   "source": [
    "Try to get solutions.\n",
    "\n",
    "For each zero, find all edges. Of those find the ones that are nines"
   ]
  },
  {
   "cell_type": "code",
   "execution_count": 7,
   "metadata": {},
   "outputs": [
    {
     "data": {
      "text/plain": [
       "(0, 1)"
      ]
     },
     "execution_count": 7,
     "metadata": {},
     "output_type": "execute_result"
    }
   ],
   "source": [
    "zero_node0 = zero_nodes[0]\n",
    "zero_node0"
   ]
  },
  {
   "cell_type": "code",
   "execution_count": 8,
   "metadata": {},
   "outputs": [
    {
     "data": {
      "text/plain": [
       "(0, 13)"
      ]
     },
     "execution_count": 8,
     "metadata": {},
     "output_type": "execute_result"
    }
   ],
   "source": [
    "nine_node0 = nine_nodes[0]\n",
    "nine_node0"
   ]
  },
  {
   "cell_type": "code",
   "execution_count": 9,
   "metadata": {},
   "outputs": [],
   "source": [
    "z_desc0 = nx.descendants(G, zero_node0)"
   ]
  },
  {
   "cell_type": "code",
   "execution_count": 10,
   "metadata": {},
   "outputs": [
    {
     "data": {
      "text/plain": [
       "{(1, 3), (3, 3)}"
      ]
     },
     "execution_count": 10,
     "metadata": {},
     "output_type": "execute_result"
    }
   ],
   "source": [
    "z_desc0.intersection(nine_nodes)"
   ]
  },
  {
   "cell_type": "code",
   "execution_count": 11,
   "metadata": {},
   "outputs": [],
   "source": [
    "score = 0\n",
    "for zero_node in zero_nodes:\n",
    "    z_desc = nx.descendants(G, zero_node)\n",
    "\n",
    "    nine_reachable = z_desc.intersection(nine_nodes)\n",
    "\n",
    "    score+= len(nine_reachable)"
   ]
  },
  {
   "cell_type": "code",
   "execution_count": 12,
   "metadata": {},
   "outputs": [
    {
     "data": {
      "text/plain": [
       "557"
      ]
     },
     "execution_count": 12,
     "metadata": {},
     "output_type": "execute_result"
    }
   ],
   "source": [
    "score"
   ]
  },
  {
   "cell_type": "markdown",
   "metadata": {},
   "source": [
    "OK"
   ]
  },
  {
   "cell_type": "markdown",
   "metadata": {},
   "source": [
    "# Part 2\n",
    "\n",
    "Score is calculated not by counting how many nines it can reach but by summing the number of ways each zero node can reach each nine"
   ]
  },
  {
   "cell_type": "code",
   "execution_count": 13,
   "metadata": {},
   "outputs": [
    {
     "data": {
      "text/plain": [
       "[(43, 23), (42, 20)]"
      ]
     },
     "execution_count": 13,
     "metadata": {},
     "output_type": "execute_result"
    }
   ],
   "source": [
    "# try\n",
    "nine_reachable0 = list(z_desc.intersection(nine_nodes))\n",
    "nine_reachable0"
   ]
  },
  {
   "cell_type": "code",
   "execution_count": 14,
   "metadata": {},
   "outputs": [
    {
     "data": {
      "text/plain": [
       "[]"
      ]
     },
     "execution_count": 14,
     "metadata": {},
     "output_type": "execute_result"
    }
   ],
   "source": [
    "paths0 = list(nx.all_simple_paths(G, zero_node0, nine_reachable0[0]))\n",
    "paths0"
   ]
  },
  {
   "cell_type": "code",
   "execution_count": 15,
   "metadata": {},
   "outputs": [
    {
     "data": {
      "text/plain": [
       "0"
      ]
     },
     "execution_count": 15,
     "metadata": {},
     "output_type": "execute_result"
    }
   ],
   "source": [
    "len(paths0)"
   ]
  },
  {
   "cell_type": "code",
   "execution_count": 16,
   "metadata": {},
   "outputs": [],
   "source": [
    "score2 = 0\n",
    "for zero_node in zero_nodes:\n",
    "    z_desc = nx.descendants(G, zero_node)\n",
    "    nine_reachable = z_desc.intersection(nine_nodes)\n",
    "\n",
    "    npaths_from_this = 0 #debug\n",
    "\n",
    "    for nine0 in nine_reachable:\n",
    "        npaths = len(list(nx.all_simple_paths(G,zero_node, nine0 )))\n",
    "\n",
    "        score2+= npaths\n",
    "        npaths_from_this+=npaths\n",
    "\n",
    "        #print(f\"from {zero_node=} to {nine0=}, {npaths=}\")\n",
    "\n",
    "    #print(f\"{zero_node=} , {npaths_from_this=}\")"
   ]
  },
  {
   "cell_type": "code",
   "execution_count": 17,
   "metadata": {},
   "outputs": [
    {
     "data": {
      "text/plain": [
       "1062"
      ]
     },
     "execution_count": 17,
     "metadata": {},
     "output_type": "execute_result"
    }
   ],
   "source": [
    "score2"
   ]
  },
  {
   "cell_type": "code",
   "execution_count": null,
   "metadata": {},
   "outputs": [],
   "source": []
  }
 ],
 "metadata": {
  "kernelspec": {
   "display_name": "dev2",
   "language": "python",
   "name": "python3"
  },
  "language_info": {
   "codemirror_mode": {
    "name": "ipython",
    "version": 3
   },
   "file_extension": ".py",
   "mimetype": "text/x-python",
   "name": "python",
   "nbconvert_exporter": "python",
   "pygments_lexer": "ipython3",
   "version": "3.13.7"
  }
 },
 "nbformat": 4,
 "nbformat_minor": 2
}
