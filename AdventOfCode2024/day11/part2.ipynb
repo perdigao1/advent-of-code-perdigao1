{
 "cells": [
  {
   "cell_type": "markdown",
   "metadata": {},
   "source": [
    "# Part 2\n",
    "# Read file as lines"
   ]
  },
  {
   "cell_type": "code",
   "execution_count": 31,
   "metadata": {},
   "outputs": [],
   "source": [
    "TEST = False\n",
    "LINE_INPUT = \"125 17\"\n",
    "TEST_SOLUTION=\"55312\"\n",
    "\n",
    "if not TEST:\n",
    "    #INPUT_FN = \"input_test.txt\" #36\n",
    "    INPUT_FN = \"input.txt\"\n",
    "\n",
    "    with open(INPUT_FN) as f:\n",
    "        lines = [l.rstrip() for l in f]\n",
    "\n",
    "    if lines[-1]=='':\n",
    "        lines=lines[:,-1]\n",
    "\n",
    "    LINE_INPUT = lines[0]"
   ]
  },
  {
   "cell_type": "code",
   "execution_count": 32,
   "metadata": {},
   "outputs": [
    {
     "data": {
      "text/plain": [
       "'773 79858 0 71 213357 2937 1 3998391'"
      ]
     },
     "execution_count": 32,
     "metadata": {},
     "output_type": "execute_result"
    }
   ],
   "source": [
    "LINE_INPUT"
   ]
  },
  {
   "cell_type": "markdown",
   "metadata": {},
   "source": [
    "Read values as ints"
   ]
  },
  {
   "cell_type": "code",
   "execution_count": 33,
   "metadata": {},
   "outputs": [
    {
     "data": {
      "text/plain": [
       "[773, 79858, 0, 71, 213357, 2937, 1, 3998391]"
      ]
     },
     "execution_count": 33,
     "metadata": {},
     "output_type": "execute_result"
    }
   ],
   "source": [
    "stones = [int(s) for s in LINE_INPUT.strip().split()]\n",
    "stones"
   ]
  },
  {
   "cell_type": "code",
   "execution_count": 34,
   "metadata": {},
   "outputs": [],
   "source": [
    "from functools import lru_cache"
   ]
  },
  {
   "cell_type": "code",
   "execution_count": 23,
   "metadata": {},
   "outputs": [],
   "source": [
    "@lru_cache\n",
    "def get_counts(stone_val, depth):\n",
    "    # use rules\n",
    "    if depth==0: return 1\n",
    "    \n",
    "    if stone_val==0:\n",
    "        return get_counts(1, depth-1)\n",
    "    \n",
    "    ndigits = len(str(stone_val))\n",
    "    if ndigits%2==0:\n",
    "        #even digits, split\n",
    "        s = str(stone_val)\n",
    "        val0 = int(s[:ndigits//2])\n",
    "        val1 = int(s[ndigits//2:])\n",
    "\n",
    "        counts_split = get_counts(val0, depth-1) + get_counts(val1, depth-1)\n",
    "        return counts_split\n",
    "    \n",
    "    return get_counts(stone_val*2024, depth-1)"
   ]
  },
  {
   "cell_type": "markdown",
   "metadata": {},
   "source": [
    "try"
   ]
  },
  {
   "cell_type": "code",
   "execution_count": 10,
   "metadata": {},
   "outputs": [
    {
     "ename": "KeyboardInterrupt",
     "evalue": "",
     "output_type": "error",
     "traceback": [
      "\u001b[31m---------------------------------------------------------------------------\u001b[39m",
      "\u001b[31mKeyboardInterrupt\u001b[39m                         Traceback (most recent call last)",
      "\u001b[36mCell\u001b[39m\u001b[36m \u001b[39m\u001b[32mIn[10]\u001b[39m\u001b[32m, line 5\u001b[39m\n\u001b[32m      3\u001b[39m depth = \u001b[32m75\u001b[39m \u001b[38;5;66;03m# part2, takes forever\u001b[39;00m\n\u001b[32m      4\u001b[39m \u001b[38;5;28;01mfor\u001b[39;00m st0 \u001b[38;5;129;01min\u001b[39;00m stones:\n\u001b[32m----> \u001b[39m\u001b[32m5\u001b[39m     counts+=\u001b[43mget_counts\u001b[49m\u001b[43m(\u001b[49m\u001b[43mst0\u001b[49m\u001b[43m,\u001b[49m\u001b[43m \u001b[49m\u001b[43mdepth\u001b[49m\u001b[43m)\u001b[49m\n\u001b[32m      7\u001b[39m counts\n",
      "\u001b[36mCell\u001b[39m\u001b[36m \u001b[39m\u001b[32mIn[8]\u001b[39m\u001b[32m, line 19\u001b[39m, in \u001b[36mget_counts\u001b[39m\u001b[34m(stone_val, depth)\u001b[39m\n\u001b[32m     16\u001b[39m     counts_split = get_counts(val0, depth-\u001b[32m1\u001b[39m) + get_counts(val1, depth-\u001b[32m1\u001b[39m)\n\u001b[32m     17\u001b[39m     \u001b[38;5;28;01mreturn\u001b[39;00m counts_split\n\u001b[32m---> \u001b[39m\u001b[32m19\u001b[39m \u001b[38;5;28;01mreturn\u001b[39;00m \u001b[43mget_counts\u001b[49m\u001b[43m(\u001b[49m\u001b[43mstone_val\u001b[49m\u001b[43m*\u001b[49m\u001b[32;43m2024\u001b[39;49m\u001b[43m,\u001b[49m\u001b[43m \u001b[49m\u001b[43mdepth\u001b[49m\u001b[43m-\u001b[49m\u001b[32;43m1\u001b[39;49m\u001b[43m)\u001b[49m\n",
      "\u001b[36mCell\u001b[39m\u001b[36m \u001b[39m\u001b[32mIn[8]\u001b[39m\u001b[32m, line 19\u001b[39m, in \u001b[36mget_counts\u001b[39m\u001b[34m(stone_val, depth)\u001b[39m\n\u001b[32m     16\u001b[39m     counts_split = get_counts(val0, depth-\u001b[32m1\u001b[39m) + get_counts(val1, depth-\u001b[32m1\u001b[39m)\n\u001b[32m     17\u001b[39m     \u001b[38;5;28;01mreturn\u001b[39;00m counts_split\n\u001b[32m---> \u001b[39m\u001b[32m19\u001b[39m \u001b[38;5;28;01mreturn\u001b[39;00m \u001b[43mget_counts\u001b[49m\u001b[43m(\u001b[49m\u001b[43mstone_val\u001b[49m\u001b[43m*\u001b[49m\u001b[32;43m2024\u001b[39;49m\u001b[43m,\u001b[49m\u001b[43m \u001b[49m\u001b[43mdepth\u001b[49m\u001b[43m-\u001b[49m\u001b[32;43m1\u001b[39;49m\u001b[43m)\u001b[49m\n",
      "\u001b[36mCell\u001b[39m\u001b[36m \u001b[39m\u001b[32mIn[8]\u001b[39m\u001b[32m, line 16\u001b[39m, in \u001b[36mget_counts\u001b[39m\u001b[34m(stone_val, depth)\u001b[39m\n\u001b[32m     13\u001b[39m     val0 = \u001b[38;5;28mint\u001b[39m(s[:ndigits//\u001b[32m2\u001b[39m])\n\u001b[32m     14\u001b[39m     val1 = \u001b[38;5;28mint\u001b[39m(s[ndigits//\u001b[32m2\u001b[39m:])\n\u001b[32m---> \u001b[39m\u001b[32m16\u001b[39m     counts_split = \u001b[43mget_counts\u001b[49m\u001b[43m(\u001b[49m\u001b[43mval0\u001b[49m\u001b[43m,\u001b[49m\u001b[43m \u001b[49m\u001b[43mdepth\u001b[49m\u001b[43m-\u001b[49m\u001b[32;43m1\u001b[39;49m\u001b[43m)\u001b[49m + get_counts(val1, depth-\u001b[32m1\u001b[39m)\n\u001b[32m     17\u001b[39m     \u001b[38;5;28;01mreturn\u001b[39;00m counts_split\n\u001b[32m     19\u001b[39m \u001b[38;5;28;01mreturn\u001b[39;00m get_counts(stone_val*\u001b[32m2024\u001b[39m, depth-\u001b[32m1\u001b[39m)\n",
      "    \u001b[31m[... skipping similar frames: get_counts at line 19 (1 times)]\u001b[39m\n",
      "\u001b[36mCell\u001b[39m\u001b[36m \u001b[39m\u001b[32mIn[8]\u001b[39m\u001b[32m, line 16\u001b[39m, in \u001b[36mget_counts\u001b[39m\u001b[34m(stone_val, depth)\u001b[39m\n\u001b[32m     13\u001b[39m     val0 = \u001b[38;5;28mint\u001b[39m(s[:ndigits//\u001b[32m2\u001b[39m])\n\u001b[32m     14\u001b[39m     val1 = \u001b[38;5;28mint\u001b[39m(s[ndigits//\u001b[32m2\u001b[39m:])\n\u001b[32m---> \u001b[39m\u001b[32m16\u001b[39m     counts_split = \u001b[43mget_counts\u001b[49m\u001b[43m(\u001b[49m\u001b[43mval0\u001b[49m\u001b[43m,\u001b[49m\u001b[43m \u001b[49m\u001b[43mdepth\u001b[49m\u001b[43m-\u001b[49m\u001b[32;43m1\u001b[39;49m\u001b[43m)\u001b[49m + get_counts(val1, depth-\u001b[32m1\u001b[39m)\n\u001b[32m     17\u001b[39m     \u001b[38;5;28;01mreturn\u001b[39;00m counts_split\n\u001b[32m     19\u001b[39m \u001b[38;5;28;01mreturn\u001b[39;00m get_counts(stone_val*\u001b[32m2024\u001b[39m, depth-\u001b[32m1\u001b[39m)\n",
      "    \u001b[31m[... skipping similar frames: get_counts at line 16 (22 times), get_counts at line 19 (13 times)]\u001b[39m\n",
      "\u001b[36mCell\u001b[39m\u001b[36m \u001b[39m\u001b[32mIn[8]\u001b[39m\u001b[32m, line 19\u001b[39m, in \u001b[36mget_counts\u001b[39m\u001b[34m(stone_val, depth)\u001b[39m\n\u001b[32m     16\u001b[39m     counts_split = get_counts(val0, depth-\u001b[32m1\u001b[39m) + get_counts(val1, depth-\u001b[32m1\u001b[39m)\n\u001b[32m     17\u001b[39m     \u001b[38;5;28;01mreturn\u001b[39;00m counts_split\n\u001b[32m---> \u001b[39m\u001b[32m19\u001b[39m \u001b[38;5;28;01mreturn\u001b[39;00m \u001b[43mget_counts\u001b[49m\u001b[43m(\u001b[49m\u001b[43mstone_val\u001b[49m\u001b[43m*\u001b[49m\u001b[32;43m2024\u001b[39;49m\u001b[43m,\u001b[49m\u001b[43m \u001b[49m\u001b[43mdepth\u001b[49m\u001b[43m-\u001b[49m\u001b[32;43m1\u001b[39;49m\u001b[43m)\u001b[49m\n",
      "    \u001b[31m[... skipping similar frames: get_counts at line 16 (2 times)]\u001b[39m\n",
      "\u001b[36mCell\u001b[39m\u001b[36m \u001b[39m\u001b[32mIn[8]\u001b[39m\u001b[32m, line 16\u001b[39m, in \u001b[36mget_counts\u001b[39m\u001b[34m(stone_val, depth)\u001b[39m\n\u001b[32m     13\u001b[39m     val0 = \u001b[38;5;28mint\u001b[39m(s[:ndigits//\u001b[32m2\u001b[39m])\n\u001b[32m     14\u001b[39m     val1 = \u001b[38;5;28mint\u001b[39m(s[ndigits//\u001b[32m2\u001b[39m:])\n\u001b[32m---> \u001b[39m\u001b[32m16\u001b[39m     counts_split = get_counts(val0, depth-\u001b[32m1\u001b[39m) + \u001b[43mget_counts\u001b[49m\u001b[43m(\u001b[49m\u001b[43mval1\u001b[49m\u001b[43m,\u001b[49m\u001b[43m \u001b[49m\u001b[43mdepth\u001b[49m\u001b[43m-\u001b[49m\u001b[32;43m1\u001b[39;49m\u001b[43m)\u001b[49m\n\u001b[32m     17\u001b[39m     \u001b[38;5;28;01mreturn\u001b[39;00m counts_split\n\u001b[32m     19\u001b[39m \u001b[38;5;28;01mreturn\u001b[39;00m get_counts(stone_val*\u001b[32m2024\u001b[39m, depth-\u001b[32m1\u001b[39m)\n",
      "\u001b[36mCell\u001b[39m\u001b[36m \u001b[39m\u001b[32mIn[8]\u001b[39m\u001b[32m, line 7\u001b[39m, in \u001b[36mget_counts\u001b[39m\u001b[34m(stone_val, depth)\u001b[39m\n\u001b[32m      4\u001b[39m \u001b[38;5;28;01mif\u001b[39;00m depth==\u001b[32m0\u001b[39m: \u001b[38;5;28;01mreturn\u001b[39;00m \u001b[32m1\u001b[39m\n\u001b[32m      6\u001b[39m \u001b[38;5;28;01mif\u001b[39;00m stone_val==\u001b[32m0\u001b[39m:\n\u001b[32m----> \u001b[39m\u001b[32m7\u001b[39m     \u001b[38;5;28;01mreturn\u001b[39;00m \u001b[43mget_counts\u001b[49m\u001b[43m(\u001b[49m\u001b[32;43m1\u001b[39;49m\u001b[43m,\u001b[49m\u001b[43m \u001b[49m\u001b[43mdepth\u001b[49m\u001b[43m-\u001b[49m\u001b[32;43m1\u001b[39;49m\u001b[43m)\u001b[49m\n\u001b[32m      9\u001b[39m ndigits = \u001b[38;5;28mlen\u001b[39m(\u001b[38;5;28mstr\u001b[39m(stone_val))\n\u001b[32m     10\u001b[39m \u001b[38;5;28;01mif\u001b[39;00m ndigits%\u001b[32m2\u001b[39m==\u001b[32m0\u001b[39m:\n\u001b[32m     11\u001b[39m     \u001b[38;5;66;03m#even digits, split\u001b[39;00m\n",
      "\u001b[36mCell\u001b[39m\u001b[36m \u001b[39m\u001b[32mIn[8]\u001b[39m\u001b[32m, line 19\u001b[39m, in \u001b[36mget_counts\u001b[39m\u001b[34m(stone_val, depth)\u001b[39m\n\u001b[32m     16\u001b[39m     counts_split = get_counts(val0, depth-\u001b[32m1\u001b[39m) + get_counts(val1, depth-\u001b[32m1\u001b[39m)\n\u001b[32m     17\u001b[39m     \u001b[38;5;28;01mreturn\u001b[39;00m counts_split\n\u001b[32m---> \u001b[39m\u001b[32m19\u001b[39m \u001b[38;5;28;01mreturn\u001b[39;00m \u001b[43mget_counts\u001b[49m\u001b[43m(\u001b[49m\u001b[43mstone_val\u001b[49m\u001b[43m*\u001b[49m\u001b[32;43m2024\u001b[39;49m\u001b[43m,\u001b[49m\u001b[43m \u001b[49m\u001b[43mdepth\u001b[49m\u001b[43m-\u001b[49m\u001b[32;43m1\u001b[39;49m\u001b[43m)\u001b[49m\n",
      "\u001b[36mCell\u001b[39m\u001b[36m \u001b[39m\u001b[32mIn[8]\u001b[39m\u001b[32m, line 16\u001b[39m, in \u001b[36mget_counts\u001b[39m\u001b[34m(stone_val, depth)\u001b[39m\n\u001b[32m     13\u001b[39m     val0 = \u001b[38;5;28mint\u001b[39m(s[:ndigits//\u001b[32m2\u001b[39m])\n\u001b[32m     14\u001b[39m     val1 = \u001b[38;5;28mint\u001b[39m(s[ndigits//\u001b[32m2\u001b[39m:])\n\u001b[32m---> \u001b[39m\u001b[32m16\u001b[39m     counts_split = get_counts(val0, depth-\u001b[32m1\u001b[39m) + \u001b[43mget_counts\u001b[49m\u001b[43m(\u001b[49m\u001b[43mval1\u001b[49m\u001b[43m,\u001b[49m\u001b[43m \u001b[49m\u001b[43mdepth\u001b[49m\u001b[43m-\u001b[49m\u001b[32;43m1\u001b[39;49m\u001b[43m)\u001b[49m\n\u001b[32m     17\u001b[39m     \u001b[38;5;28;01mreturn\u001b[39;00m counts_split\n\u001b[32m     19\u001b[39m \u001b[38;5;28;01mreturn\u001b[39;00m get_counts(stone_val*\u001b[32m2024\u001b[39m, depth-\u001b[32m1\u001b[39m)\n",
      "\u001b[36mCell\u001b[39m\u001b[36m \u001b[39m\u001b[32mIn[8]\u001b[39m\u001b[32m, line 16\u001b[39m, in \u001b[36mget_counts\u001b[39m\u001b[34m(stone_val, depth)\u001b[39m\n\u001b[32m     13\u001b[39m     val0 = \u001b[38;5;28mint\u001b[39m(s[:ndigits//\u001b[32m2\u001b[39m])\n\u001b[32m     14\u001b[39m     val1 = \u001b[38;5;28mint\u001b[39m(s[ndigits//\u001b[32m2\u001b[39m:])\n\u001b[32m---> \u001b[39m\u001b[32m16\u001b[39m     counts_split = \u001b[43mget_counts\u001b[49m\u001b[43m(\u001b[49m\u001b[43mval0\u001b[49m\u001b[43m,\u001b[49m\u001b[43m \u001b[49m\u001b[43mdepth\u001b[49m\u001b[43m-\u001b[49m\u001b[32;43m1\u001b[39;49m\u001b[43m)\u001b[49m + get_counts(val1, depth-\u001b[32m1\u001b[39m)\n\u001b[32m     17\u001b[39m     \u001b[38;5;28;01mreturn\u001b[39;00m counts_split\n\u001b[32m     19\u001b[39m \u001b[38;5;28;01mreturn\u001b[39;00m get_counts(stone_val*\u001b[32m2024\u001b[39m, depth-\u001b[32m1\u001b[39m)\n",
      "\u001b[36mCell\u001b[39m\u001b[36m \u001b[39m\u001b[32mIn[8]\u001b[39m\u001b[32m, line 19\u001b[39m, in \u001b[36mget_counts\u001b[39m\u001b[34m(stone_val, depth)\u001b[39m\n\u001b[32m     16\u001b[39m     counts_split = get_counts(val0, depth-\u001b[32m1\u001b[39m) + get_counts(val1, depth-\u001b[32m1\u001b[39m)\n\u001b[32m     17\u001b[39m     \u001b[38;5;28;01mreturn\u001b[39;00m counts_split\n\u001b[32m---> \u001b[39m\u001b[32m19\u001b[39m \u001b[38;5;28;01mreturn\u001b[39;00m \u001b[43mget_counts\u001b[49m\u001b[43m(\u001b[49m\u001b[43mstone_val\u001b[49m\u001b[43m*\u001b[49m\u001b[32;43m2024\u001b[39;49m\u001b[43m,\u001b[49m\u001b[43m \u001b[49m\u001b[43mdepth\u001b[49m\u001b[43m-\u001b[49m\u001b[32;43m1\u001b[39;49m\u001b[43m)\u001b[49m\n",
      "    \u001b[31m[... skipping similar frames: get_counts at line 16 (14 times), get_counts at line 19 (8 times)]\u001b[39m\n",
      "\u001b[36mCell\u001b[39m\u001b[36m \u001b[39m\u001b[32mIn[8]\u001b[39m\u001b[32m, line 16\u001b[39m, in \u001b[36mget_counts\u001b[39m\u001b[34m(stone_val, depth)\u001b[39m\n\u001b[32m     13\u001b[39m     val0 = \u001b[38;5;28mint\u001b[39m(s[:ndigits//\u001b[32m2\u001b[39m])\n\u001b[32m     14\u001b[39m     val1 = \u001b[38;5;28mint\u001b[39m(s[ndigits//\u001b[32m2\u001b[39m:])\n\u001b[32m---> \u001b[39m\u001b[32m16\u001b[39m     counts_split = get_counts(val0, depth-\u001b[32m1\u001b[39m) + \u001b[43mget_counts\u001b[49m\u001b[43m(\u001b[49m\u001b[43mval1\u001b[49m\u001b[43m,\u001b[49m\u001b[43m \u001b[49m\u001b[43mdepth\u001b[49m\u001b[43m-\u001b[49m\u001b[32;43m1\u001b[39;49m\u001b[43m)\u001b[49m\n\u001b[32m     17\u001b[39m     \u001b[38;5;28;01mreturn\u001b[39;00m counts_split\n\u001b[32m     19\u001b[39m \u001b[38;5;28;01mreturn\u001b[39;00m get_counts(stone_val*\u001b[32m2024\u001b[39m, depth-\u001b[32m1\u001b[39m)\n",
      "\u001b[36mCell\u001b[39m\u001b[36m \u001b[39m\u001b[32mIn[8]\u001b[39m\u001b[32m, line 19\u001b[39m, in \u001b[36mget_counts\u001b[39m\u001b[34m(stone_val, depth)\u001b[39m\n\u001b[32m     16\u001b[39m     counts_split = get_counts(val0, depth-\u001b[32m1\u001b[39m) + get_counts(val1, depth-\u001b[32m1\u001b[39m)\n\u001b[32m     17\u001b[39m     \u001b[38;5;28;01mreturn\u001b[39;00m counts_split\n\u001b[32m---> \u001b[39m\u001b[32m19\u001b[39m \u001b[38;5;28;01mreturn\u001b[39;00m \u001b[43mget_counts\u001b[49m\u001b[43m(\u001b[49m\u001b[43mstone_val\u001b[49m\u001b[43m*\u001b[49m\u001b[32;43m2024\u001b[39;49m\u001b[43m,\u001b[49m\u001b[43m \u001b[49m\u001b[43mdepth\u001b[49m\u001b[43m-\u001b[49m\u001b[32;43m1\u001b[39;49m\u001b[43m)\u001b[49m\n",
      "\u001b[36mCell\u001b[39m\u001b[36m \u001b[39m\u001b[32mIn[8]\u001b[39m\u001b[32m, line 13\u001b[39m, in \u001b[36mget_counts\u001b[39m\u001b[34m(stone_val, depth)\u001b[39m\n\u001b[32m     10\u001b[39m \u001b[38;5;28;01mif\u001b[39;00m ndigits%\u001b[32m2\u001b[39m==\u001b[32m0\u001b[39m:\n\u001b[32m     11\u001b[39m     \u001b[38;5;66;03m#even digits, split\u001b[39;00m\n\u001b[32m     12\u001b[39m     s = \u001b[38;5;28mstr\u001b[39m(stone_val)\n\u001b[32m---> \u001b[39m\u001b[32m13\u001b[39m     val0 = \u001b[38;5;28;43mint\u001b[39;49m\u001b[43m(\u001b[49m\u001b[43ms\u001b[49m\u001b[43m[\u001b[49m\u001b[43m:\u001b[49m\u001b[43mndigits\u001b[49m\u001b[43m/\u001b[49m\u001b[43m/\u001b[49m\u001b[32;43m2\u001b[39;49m\u001b[43m]\u001b[49m\u001b[43m)\u001b[49m\n\u001b[32m     14\u001b[39m     val1 = \u001b[38;5;28mint\u001b[39m(s[ndigits//\u001b[32m2\u001b[39m:])\n\u001b[32m     16\u001b[39m     counts_split = get_counts(val0, depth-\u001b[32m1\u001b[39m) + get_counts(val1, depth-\u001b[32m1\u001b[39m)\n",
      "\u001b[31mKeyboardInterrupt\u001b[39m: "
     ]
    }
   ],
   "source": [
    "counts = 0\n",
    "#depth = 25 #part1\n",
    "depth = 75 # part2, takes forever\n",
    "for st0 in stones:\n",
    "    counts+=get_counts(st0, depth)\n",
    "\n",
    "counts"
   ]
  },
  {
   "cell_type": "markdown",
   "metadata": {},
   "source": [
    "This takes too long\n",
    "\n",
    "Try another algorithm\n",
    "\n",
    "# alternative algorithm\n",
    "\n",
    "There are a lot of stones that are repeated, so it is probably best to keep track of counting each of them between blinks.\n",
    "\n",
    "Use Counter (dictionary) from collections"
   ]
  },
  {
   "cell_type": "code",
   "execution_count": 35,
   "metadata": {},
   "outputs": [
    {
     "data": {
      "text/plain": [
       "[773, 79858, 0, 71, 213357, 2937, 1, 3998391]"
      ]
     },
     "execution_count": 35,
     "metadata": {},
     "output_type": "execute_result"
    }
   ],
   "source": [
    "#check\n",
    "stones"
   ]
  },
  {
   "cell_type": "code",
   "execution_count": 36,
   "metadata": {},
   "outputs": [],
   "source": [
    "from collections import Counter\n"
   ]
  },
  {
   "cell_type": "code",
   "execution_count": null,
   "metadata": {},
   "outputs": [
    {
     "name": "stdout",
     "output_type": "stream",
     "text": [
      "Counter({773: 1, 79858: 1, 0: 1, 71: 1, 213357: 1, 2937: 1, 1: 1, 3998391: 1})\n",
      "blink_it=0 , count stones: 11\n",
      "blink_it=1 , count stones: 15\n",
      "blink_it=2 , count stones: 23\n",
      "blink_it=3 , count stones: 33\n",
      "blink_it=4 , count stones: 50\n",
      "blink_it=5 , count stones: 86\n",
      "blink_it=6 , count stones: 120\n",
      "blink_it=7 , count stones: 153\n",
      "blink_it=8 , count stones: 243\n",
      "blink_it=9 , count stones: 393\n",
      "blink_it=10 , count stones: 589\n",
      "blink_it=11 , count stones: 857\n",
      "blink_it=12 , count stones: 1308\n",
      "blink_it=13 , count stones: 2009\n",
      "blink_it=14 , count stones: 3107\n",
      "blink_it=15 , count stones: 4650\n",
      "blink_it=16 , count stones: 7036\n",
      "blink_it=17 , count stones: 10620\n",
      "blink_it=18 , count stones: 15977\n",
      "blink_it=19 , count stones: 24809\n",
      "blink_it=20 , count stones: 37628\n",
      "blink_it=21 , count stones: 56628\n",
      "blink_it=22 , count stones: 85841\n",
      "blink_it=23 , count stones: 130500\n",
      "blink_it=24 , count stones: 199982\n",
      "blink_it=25 , count stones: 302038\n",
      "blink_it=26 , count stones: 457010\n",
      "blink_it=27 , count stones: 697430\n",
      "blink_it=28 , count stones: 1056195\n",
      "blink_it=29 , count stones: 1607523\n",
      "blink_it=30 , count stones: 2443726\n",
      "blink_it=31 , count stones: 3702814\n",
      "blink_it=32 , count stones: 5632653\n",
      "blink_it=33 , count stones: 8541118\n",
      "blink_it=34 , count stones: 12994959\n",
      "blink_it=35 , count stones: 19754149\n",
      "blink_it=36 , count stones: 29924043\n",
      "blink_it=37 , count stones: 45532018\n",
      "blink_it=38 , count stones: 69141374\n",
      "blink_it=39 , count stones: 104986693\n",
      "blink_it=40 , count stones: 159600738\n",
      "blink_it=41 , count stones: 242129122\n",
      "blink_it=42 , count stones: 368097556\n",
      "blink_it=43 , count stones: 559002180\n",
      "blink_it=44 , count stones: 848671361\n",
      "blink_it=45 , count stones: 1290317692\n",
      "blink_it=46 , count stones: 1958256222\n",
      "blink_it=47 , count stones: 2975030325\n",
      "blink_it=48 , count stones: 4520233696\n",
      "blink_it=49 , count stones: 6862646880\n",
      "blink_it=50 , count stones: 10429205140\n",
      "blink_it=51 , count stones: 15835082770\n",
      "blink_it=52 , count stones: 24052942389\n",
      "blink_it=53 , count stones: 36546461319\n",
      "blink_it=54 , count stones: 55487146737\n",
      "blink_it=55 , count stones: 84307911317\n",
      "blink_it=56 , count stones: 128047045839\n",
      "blink_it=57 , count stones: 194464180947\n",
      "blink_it=58 , count stones: 295455714308\n",
      "blink_it=59 , count stones: 448665332941\n",
      "blink_it=60 , count stones: 681581870160\n",
      "blink_it=61 , count stones: 1035294441412\n",
      "blink_it=62 , count stones: 1572279494401\n",
      "blink_it=63 , count stones: 2388666894667\n",
      "blink_it=64 , count stones: 3627719819389\n",
      "blink_it=65 , count stones: 5510325697392\n",
      "blink_it=66 , count stones: 8370476304410\n",
      "blink_it=67 , count stones: 12712477928389\n",
      "blink_it=68 , count stones: 19311515524754\n",
      "blink_it=69 , count stones: 29331310094192\n",
      "blink_it=70 , count stones: 44550835039190\n",
      "blink_it=71 , count stones: 67675024055663\n",
      "blink_it=72 , count stones: 102783901828778\n",
      "blink_it=73 , count stones: 156129847613490\n",
      "blink_it=74 , count stones: 237149922829154\n"
     ]
    }
   ],
   "source": [
    "# initialize stones\n",
    "stones_counter = Counter(stones)\n",
    "print(stones_counter)\n",
    "\n",
    "#for blink_it in range(75):\n",
    "for blink_it in range(25):\n",
    "    post_blink_stone_counter = Counter()\n",
    "\n",
    "    for st, st_count in stones_counter.items():\n",
    "        if st==0:\n",
    "            post_blink_stone_counter[1] += st_count # 0 to 1\n",
    "        else:\n",
    "            s = str(st)\n",
    "            ndigits = len(s)\n",
    "\n",
    "            if ndigits%2 == 0:\n",
    "                val0 = int(s[:ndigits//2])\n",
    "                val1 = int(s[ndigits//2:])\n",
    "\n",
    "                post_blink_stone_counter[val0] += st_count\n",
    "                post_blink_stone_counter[val1] += st_count\n",
    "            else:\n",
    "                post_blink_stone_counter[st*2024] += st_count\n",
    "\n",
    "    stones_counter = post_blink_stone_counter\n",
    "    #print(f\"{blink_it=} , {stones_counter=}, count stones: {sum(stones_counter.values())}\")\n",
    "    print(f\"{blink_it=} , count stones: {sum(stones_counter.values())}\")"
   ]
  },
  {
   "cell_type": "code",
   "execution_count": null,
   "metadata": {},
   "outputs": [],
   "source": []
  }
 ],
 "metadata": {
  "kernelspec": {
   "display_name": "dev2",
   "language": "python",
   "name": "python3"
  },
  "language_info": {
   "codemirror_mode": {
    "name": "ipython",
    "version": 3
   },
   "file_extension": ".py",
   "mimetype": "text/x-python",
   "name": "python",
   "nbconvert_exporter": "python",
   "pygments_lexer": "ipython3",
   "version": "3.13.7"
  }
 },
 "nbformat": 4,
 "nbformat_minor": 2
}
