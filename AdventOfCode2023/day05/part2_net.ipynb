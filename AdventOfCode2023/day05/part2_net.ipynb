{
 "cells": [
  {
   "cell_type": "markdown",
   "metadata": {},
   "source": [
    "based from\n",
    "\n",
    "https://github.com/hyper-neutrino/advent-of-code/blob/main/2023/day05p2.py\n",
    "\n",
    "input_test, lowest location from range 46"
   ]
  },
  {
   "cell_type": "code",
   "execution_count": 11,
   "metadata": {},
   "outputs": [],
   "source": [
    "import numpy as np\n",
    "import re"
   ]
  },
  {
   "cell_type": "code",
   "execution_count": 12,
   "metadata": {},
   "outputs": [],
   "source": [
    "with open(\"input_test.txt\", 'r') as f0:\n",
    "#with open(\"input.txt\", 'r') as f0:\n",
    "    text= f0.read()"
   ]
  },
  {
   "cell_type": "code",
   "execution_count": 13,
   "metadata": {},
   "outputs": [
    {
     "name": "stdout",
     "output_type": "stream",
     "text": [
      "Starting seeds\n",
      "[(79, 93), (55, 68)]\n",
      "i:0\n",
      "[(57, 70), (81, 95)]\n",
      "i:1\n",
      "[(81, 95), (57, 70)]\n",
      "i:2\n",
      "[(53, 57), (61, 70), (81, 95)]\n",
      "i:3\n",
      "[(74, 88), (54, 63), (46, 50)]\n",
      "i:4\n",
      "[(82, 86), (90, 99), (45, 56), (78, 81)]\n",
      "i:5\n",
      "[(78, 81), (46, 57), (90, 99), (82, 86)]\n",
      "i:6\n",
      "[(86, 90), (94, 97), (56, 60), (97, 99), (60, 61), (46, 56), (82, 85)]\n",
      "Final result\n",
      "46\n"
     ]
    }
   ],
   "source": [
    "inputs, *blocks = text.split(\"\\n\\n\")\n",
    "\n",
    "inputs = list(map(int, inputs.split(\":\")[1].split()))\n",
    "\n",
    "seeds = [] # stores tuples (start,end) ranges\n",
    "\n",
    "for i in range(0, len(inputs), 2):\n",
    "    seeds.append((inputs[i], inputs[i] + inputs[i + 1]))\n",
    "print(\"Starting seeds\")\n",
    "print(seeds)\n",
    "\n",
    "for i, block in enumerate(blocks):\n",
    "    ranges = []\n",
    "    for line in block.splitlines()[1:]:\n",
    "        ranges.append(list(map(int, line.split())))\n",
    "    new = []\n",
    "    while len(seeds) > 0:\n",
    "        s, e = seeds.pop()\n",
    "        # if s==1553776977:\n",
    "        #     print(s,e)\n",
    "        for a, b, c in ranges:\n",
    "            os = max(s, b)\n",
    "            oe = min(e, b + c)\n",
    "            if os < oe:\n",
    "                # this range can be mapped\n",
    "                new.append((os - b + a, oe - b + a))\n",
    "\n",
    "                #debug\n",
    "                if (os-b+a)==1845319553 or (os-b+a)==790471742:\n",
    "                    print(s,e)\n",
    "                \n",
    "                if os > s:\n",
    "                    seeds.append((s, os)) #appends leftover ranges so that they can be checked in next iterations\n",
    "                if e > oe:\n",
    "                    seeds.append((oe, e))\n",
    "                break # don't check other ranges. why?\n",
    "                #other ranges may overlap, but this code says, no point in checking?\n",
    "        else:\n",
    "            new.append((s, e))\n",
    "    print(f\"i:{i}\")\n",
    "    print(new)\n",
    "    seeds = new\n",
    "\n",
    "print(\"Final result\")\n",
    "print(min(seeds)[0])"
   ]
  },
  {
   "cell_type": "code",
   "execution_count": null,
   "metadata": {},
   "outputs": [],
   "source": []
  }
 ],
 "metadata": {
  "kernelspec": {
   "display_name": "dev",
   "language": "python",
   "name": "python3"
  },
  "language_info": {
   "codemirror_mode": {
    "name": "ipython",
    "version": 3
   },
   "file_extension": ".py",
   "mimetype": "text/x-python",
   "name": "python",
   "nbconvert_exporter": "python",
   "pygments_lexer": "ipython3",
   "version": "3.11.5"
  }
 },
 "nbformat": 4,
 "nbformat_minor": 2
}
