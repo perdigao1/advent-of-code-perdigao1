{
 "cells": [
  {
   "cell_type": "markdown",
   "metadata": {},
   "source": [
    "input_test, lowest location from range 46\n",
    "\n",
    "NOT WORKING"
   ]
  },
  {
   "cell_type": "code",
   "execution_count": 1,
   "metadata": {},
   "outputs": [],
   "source": [
    "import numpy as np\n",
    "import re"
   ]
  },
  {
   "cell_type": "code",
   "execution_count": 2,
   "metadata": {},
   "outputs": [],
   "source": [
    "#with open(\"input_test.txt\", 'r') as f0:\n",
    "with open(\"input.txt\", 'r') as f0:\n",
    "    text= f0.read()"
   ]
  },
  {
   "cell_type": "code",
   "execution_count": 3,
   "metadata": {},
   "outputs": [],
   "source": [
    "class alm_map():\n",
    "    def __init__(self, text_map):\n",
    "        # text_map contains the text with lines providing map\n",
    "        self.params_list=[]\n",
    "        lines_map = text_map.split('\\n')\n",
    "        #print(lines_map)\n",
    "        for l0 in lines_map:\n",
    "            values_str = l0.split(' ')\n",
    "            if len(values_str)!=3:\n",
    "                #print(f\"Error with this line {l0}, does not have 3 values\")\n",
    "                continue\n",
    "            dest_orig = int(values_str[0])\n",
    "            source_orig = int(values_str[1])\n",
    "            length = int(values_str[2])\n",
    "            self.params_list.append((dest_orig, source_orig, length))\n",
    "    \n",
    "    def source_to_dest(self,i):\n",
    "        ret=i # default\n",
    "        # go though list and finds the map\n",
    "        for d0, s0, l0 in self.params_list:\n",
    "            if i>=s0 and i<s0+l0:\n",
    "                ret=d0+(i-s0)\n",
    "                break\n",
    "        return ret\n",
    "    \n",
    "    def npsource_to_npdest(self, npsource):\n",
    "        # numpy 1dim array of booleans where mapped regions are masked with one\n",
    "\n",
    "        npsource1 = npsource.copy()\n",
    "        npdest=npsource.copy()\n",
    "\n",
    "        #Check against the mapping parameters\n",
    "        for d0, s0, l0 in self.params_list:\n",
    "            s1=s0+l0\n",
    "            d1= d0+l0\n",
    "            print(f\"mapping {s0}:{s1} to {d0}:{d1}, l0:{l0} to be applied\")\n",
    "            \n",
    "            #check dimensions of destination\n",
    "            max_dim= max(s1,d1)\n",
    "            if npdest.shape[0]<max_dim:\n",
    "                #print(f\"Increasing array size to {max_dim}\")\n",
    "                npdest=np.resize(npdest, max_dim)\n",
    "                npsource1=np.resize(npsource1,max_dim)\n",
    "                #print(f\"After resizing, array is {npdest}\")\n",
    "\n",
    "            nptemp = npsource1[s0:s1] #use source\n",
    "            #npdest[s0:s1]=False\n",
    "            npdest[d0:d1]=nptemp\n",
    "\n",
    "        return npdest"
   ]
  },
  {
   "cell_type": "markdown",
   "metadata": {},
   "source": [
    "Get starting seeds"
   ]
  },
  {
   "cell_type": "code",
   "execution_count": 4,
   "metadata": {},
   "outputs": [
    {
     "data": {
      "text/plain": [
       "[' 202517468 131640971 1553776977 241828580 1435322022 100369067 2019100043 153706556 460203450 84630899 3766866638 114261107 1809826083 153144153 2797169753 177517156 2494032210 235157184 856311572 542740109']"
      ]
     },
     "execution_count": 4,
     "metadata": {},
     "output_type": "execute_result"
    }
   ],
   "source": [
    "seeds_inp = re.findall(\"seeds:(.*)\", text)\n",
    "seeds_inp"
   ]
  },
  {
   "cell_type": "markdown",
   "metadata": {},
   "source": [
    "convert to seed ranges"
   ]
  },
  {
   "cell_type": "code",
   "execution_count": 5,
   "metadata": {},
   "outputs": [
    {
     "data": {
      "text/plain": [
       "[(202517468, 334158439),\n",
       " (1553776977, 1795605557),\n",
       " (1435322022, 1535691089),\n",
       " (2019100043, 2172806599),\n",
       " (460203450, 544834349),\n",
       " (3766866638, 3881127745),\n",
       " (1809826083, 1962970236),\n",
       " (2797169753, 2974686909),\n",
       " (2494032210, 2729189394),\n",
       " (856311572, 1399051681)]"
      ]
     },
     "execution_count": 5,
     "metadata": {},
     "output_type": "execute_result"
    }
   ],
   "source": [
    "seeds_ranges=[]\n",
    "s_list = seeds_inp[0].strip().split()\n",
    "for i in range(0,len(s_list),2):\n",
    "    s0=int(s_list[i])\n",
    "    s1=int(s_list[i+1])+s0\n",
    "    seeds_ranges.append((s0,s1))\n",
    "seeds_ranges"
   ]
  },
  {
   "cell_type": "code",
   "execution_count": 6,
   "metadata": {},
   "outputs": [
    {
     "data": {
      "text/plain": [
       "3881127745"
      ]
     },
     "execution_count": 6,
     "metadata": {},
     "output_type": "execute_result"
    }
   ],
   "source": [
    "max_dim= np.max(np.array(seeds_ranges))\n",
    "max_dim"
   ]
  },
  {
   "cell_type": "code",
   "execution_count": 7,
   "metadata": {},
   "outputs": [
    {
     "data": {
      "text/plain": [
       "array([False, False, False, ...,  True,  True,  True])"
      ]
     },
     "execution_count": 7,
     "metadata": {},
     "output_type": "execute_result"
    }
   ],
   "source": [
    "seeds_np =np.zeros(max_dim, dtype=bool)\n",
    "for s0,s1 in seeds_ranges:\n",
    "    seeds_np[s0:s1]=True\n",
    "seeds_np"
   ]
  },
  {
   "cell_type": "code",
   "execution_count": 8,
   "metadata": {},
   "outputs": [],
   "source": [
    "def get_ranges(npbools):\n",
    "    #tr0 = np.where(npbools)\n",
    "    #print(tr0)\n",
    "\n",
    "    tr1 = np.where(npbools[:-1]!=npbools[1:])[0]\n",
    "    tr1+=1\n",
    "    #print(tr1)\n",
    "\n",
    "    ranges=[]\n",
    "    if npbools[0]: r0=0  #check status of first element\n",
    "    \n",
    "    for i in tr1:\n",
    "        if i==len(npbools):\n",
    "            break\n",
    "        if npbools[i]:\n",
    "            r0=i\n",
    "        else:\n",
    "            ranges.append([r0,i])\n",
    "    if npbools[-1]:\n",
    "        ranges.append([r0,len(npbools)])\n",
    "    return ranges"
   ]
  },
  {
   "cell_type": "code",
   "execution_count": 9,
   "metadata": {},
   "outputs": [
    {
     "data": {
      "text/plain": [
       "[[202517468, 334158439],\n",
       " [460203450, 544834349],\n",
       " [856311572, 1399051681],\n",
       " [1435322022, 1535691089],\n",
       " [1553776977, 1795605557],\n",
       " [1809826083, 1962970236],\n",
       " [2019100043, 2172806599],\n",
       " [2494032210, 2729189394],\n",
       " [2797169753, 2974686909],\n",
       " [3766866638, 3881127745]]"
      ]
     },
     "execution_count": 9,
     "metadata": {},
     "output_type": "execute_result"
    }
   ],
   "source": [
    "get_ranges(seeds_np)"
   ]
  },
  {
   "cell_type": "code",
   "execution_count": 10,
   "metadata": {},
   "outputs": [
    {
     "data": {
      "text/plain": [
       "[(202517468, 334158439),\n",
       " (1553776977, 1795605557),\n",
       " (1435322022, 1535691089),\n",
       " (2019100043, 2172806599),\n",
       " (460203450, 544834349),\n",
       " (3766866638, 3881127745),\n",
       " (1809826083, 1962970236),\n",
       " (2797169753, 2974686909),\n",
       " (2494032210, 2729189394),\n",
       " (856311572, 1399051681)]"
      ]
     },
     "execution_count": 10,
     "metadata": {},
     "output_type": "execute_result"
    }
   ],
   "source": [
    "seeds_ranges"
   ]
  },
  {
   "cell_type": "markdown",
   "metadata": {},
   "source": [
    "setup the pipeline according to the almanac"
   ]
  },
  {
   "cell_type": "code",
   "execution_count": 11,
   "metadata": {},
   "outputs": [],
   "source": [
    "alm_pipeline_cls=[]\n",
    "\n",
    "re0list = [\n",
    "    \"seed-to-soil map:\\n((.|\\n)*)\\nsoil-to-fertilizer map\",\n",
    "    \"soil-to-fertilizer map:\\n((.|\\n)*)\\nfertilizer-to-water map:\",\n",
    "    \"fertilizer-to-water map:\\n((.|\\n)*)\\nwater-to-light map\",\n",
    "    \"water-to-light map:\\n((.|\\n)*)\\nlight-to-temperature map\",\n",
    "    \"light-to-temperature map:\\n((.|\\n)*)\\ntemperature-to-humidity map:\",\n",
    "    \"temperature-to-humidity map:\\n((.|\\n)*)\\nhumidity-to-location map:\",\n",
    "    \"humidity-to-location map:\\n((.|\\n)*)\\n\"\n",
    "]\n",
    "\n",
    "for re0 in re0list:\n",
    "    t0= re.findall(re0, text)\n",
    "    t0_map = alm_map(t0[0][0])\n",
    "    alm_pipeline_cls.append(t0_map)"
   ]
  },
  {
   "cell_type": "markdown",
   "metadata": {},
   "source": [
    "Test pipeline with first input"
   ]
  },
  {
   "cell_type": "code",
   "execution_count": 12,
   "metadata": {},
   "outputs": [
    {
     "name": "stdout",
     "output_type": "stream",
     "text": [
      "mapping 644938450:804624157 to 1393363309:1553049016, l0:159685707 to be applied\n",
      "mapping 1844060172:1863372374 to 2025282601:2044594803, l0:19312202 to be applied\n",
      "mapping 1026919253:1059790345 to 1233103806:1265974898, l0:32871092 to be applied\n",
      "mapping 1933428941:2019959932 to 1086566452:1173097443, l0:86530991 to be applied\n",
      "mapping 0:21589659 to 1265974898:1287564557, l0:21589659 to be applied\n",
      "mapping 1636167265:1671909450 to 1357621124:1393363309, l0:35742185 to be applied\n",
      "mapping 2665606060:2746727202 to 2343571960:2424693102, l0:81121142 to be applied\n",
      "mapping 809179011:1011676203 to 1585337376:1787834568, l0:202497192 to be applied\n",
      "mapping 3039622538:3094154389 to 3151050390:3205582241, l0:54531851 to be applied\n",
      "mapping 804624157:809179011 to 2059837853:2064392707, l0:4554854 to be applied\n",
      "mapping 124717914:183998060 to 169037772:228317918, l0:59280146 to be applied\n",
      "mapping 183998060:432113003 to 228317918:476432861, l0:248114943 to be applied\n",
      "mapping 2343571960:2395245583 to 2646529073:2698202696, l0:51673623 to be applied\n",
      "mapping 1360585007:1420591370 to 1173097443:1233103806, l0:60006363 to be applied\n",
      "mapping 1203115155:1227737741 to 2000660015:2025282601, l0:24622586 to be applied\n",
      "mapping 1176035097:1203115155 to 1059486394:1086566452, l0:27080058 to be applied\n",
      "mapping 4185259485:4202626654 to 3129081851:3146449020, l0:17367169 to be applied\n"
     ]
    },
    {
     "ename": "MemoryError",
     "evalue": "Unable to allocate 7.23 GiB for an array with shape (7762255490,) and data type bool",
     "output_type": "error",
     "traceback": [
      "\u001b[1;31m---------------------------------------------------------------------------\u001b[0m",
      "\u001b[1;31mMemoryError\u001b[0m                               Traceback (most recent call last)",
      "Cell \u001b[1;32mIn[12], line 1\u001b[0m\n\u001b[1;32m----> 1\u001b[0m soil_np \u001b[38;5;241m=\u001b[39m \u001b[43malm_pipeline_cls\u001b[49m\u001b[43m[\u001b[49m\u001b[38;5;241;43m0\u001b[39;49m\u001b[43m]\u001b[49m\u001b[38;5;241;43m.\u001b[39;49m\u001b[43mnpsource_to_npdest\u001b[49m\u001b[43m(\u001b[49m\u001b[43mseeds_np\u001b[49m\u001b[43m)\u001b[49m\n\u001b[0;32m      2\u001b[0m soil_np\n",
      "Cell \u001b[1;32mIn[3], line 43\u001b[0m, in \u001b[0;36malm_map.npsource_to_npdest\u001b[1;34m(self, npsource)\u001b[0m\n\u001b[0;32m     40\u001b[0m \u001b[38;5;28;01mif\u001b[39;00m npdest\u001b[38;5;241m.\u001b[39mshape[\u001b[38;5;241m0\u001b[39m]\u001b[38;5;241m<\u001b[39mmax_dim:\n\u001b[0;32m     41\u001b[0m     \u001b[38;5;66;03m#print(f\"Increasing array size to {max_dim}\")\u001b[39;00m\n\u001b[0;32m     42\u001b[0m     npdest\u001b[38;5;241m=\u001b[39mnp\u001b[38;5;241m.\u001b[39mresize(npdest, max_dim)\n\u001b[1;32m---> 43\u001b[0m     npsource1\u001b[38;5;241m=\u001b[39m\u001b[43mnp\u001b[49m\u001b[38;5;241;43m.\u001b[39;49m\u001b[43mresize\u001b[49m\u001b[43m(\u001b[49m\u001b[43mnpsource1\u001b[49m\u001b[43m,\u001b[49m\u001b[43mmax_dim\u001b[49m\u001b[43m)\u001b[49m\n\u001b[0;32m     44\u001b[0m     \u001b[38;5;66;03m#print(f\"After resizing, array is {npdest}\")\u001b[39;00m\n\u001b[0;32m     46\u001b[0m nptemp \u001b[38;5;241m=\u001b[39m npsource1[s0:s1] \u001b[38;5;66;03m#use source\u001b[39;00m\n",
      "File \u001b[1;32mc:\\Users\\Luis-work\\miniconda3\\envs\\dev\\Lib\\site-packages\\numpy\\core\\fromnumeric.py:1482\u001b[0m, in \u001b[0;36mresize\u001b[1;34m(a, new_shape)\u001b[0m\n\u001b[0;32m   1479\u001b[0m     \u001b[38;5;28;01mreturn\u001b[39;00m np\u001b[38;5;241m.\u001b[39mzeros_like(a, shape\u001b[38;5;241m=\u001b[39mnew_shape)\n\u001b[0;32m   1481\u001b[0m repeats \u001b[38;5;241m=\u001b[39m \u001b[38;5;241m-\u001b[39m(\u001b[38;5;241m-\u001b[39mnew_size \u001b[38;5;241m/\u001b[39m\u001b[38;5;241m/\u001b[39m a\u001b[38;5;241m.\u001b[39msize)  \u001b[38;5;66;03m# ceil division\u001b[39;00m\n\u001b[1;32m-> 1482\u001b[0m a \u001b[38;5;241m=\u001b[39m \u001b[43mconcatenate\u001b[49m\u001b[43m(\u001b[49m\u001b[43m(\u001b[49m\u001b[43ma\u001b[49m\u001b[43m,\u001b[49m\u001b[43m)\u001b[49m\u001b[43m \u001b[49m\u001b[38;5;241;43m*\u001b[39;49m\u001b[43m \u001b[49m\u001b[43mrepeats\u001b[49m\u001b[43m)\u001b[49m[:new_size]\n\u001b[0;32m   1484\u001b[0m \u001b[38;5;28;01mreturn\u001b[39;00m reshape(a, new_shape)\n",
      "\u001b[1;31mMemoryError\u001b[0m: Unable to allocate 7.23 GiB for an array with shape (7762255490,) and data type bool"
     ]
    }
   ],
   "source": [
    "soil_np = alm_pipeline_cls[0].npsource_to_npdest(seeds_np)\n",
    "soil_np"
   ]
  },
  {
   "cell_type": "markdown",
   "metadata": {},
   "source": [
    "Does not work. Requires 7Gb!!"
   ]
  },
  {
   "cell_type": "code",
   "execution_count": null,
   "metadata": {},
   "outputs": [
    {
     "data": {
      "text/plain": [
       "[[57, 70], [81, 95]]"
      ]
     },
     "execution_count": 22,
     "metadata": {},
     "output_type": "execute_result"
    }
   ],
   "source": [
    "get_ranges(soil_np)"
   ]
  },
  {
   "cell_type": "markdown",
   "metadata": {},
   "source": []
  },
  {
   "cell_type": "markdown",
   "metadata": {},
   "source": [
    "Try the whole pipeline"
   ]
  },
  {
   "cell_type": "code",
   "execution_count": null,
   "metadata": {},
   "outputs": [
    {
     "name": "stdout",
     "output_type": "stream",
     "text": [
      "0\n",
      "mapping 98:100 to 50:52, l0:2 to be applied\n",
      "mapping 50:98 to 52:100, l0:48 to be applied\n",
      "[[57, 70], [81, 95]]\n",
      "1\n",
      "mapping 15:52 to 0:37, l0:37 to be applied\n",
      "mapping 52:54 to 37:39, l0:2 to be applied\n",
      "mapping 0:15 to 39:54, l0:15 to be applied\n",
      "[[57, 70], [81, 95]]\n",
      "2\n",
      "mapping 53:61 to 49:57, l0:8 to be applied\n",
      "mapping 11:53 to 0:42, l0:42 to be applied\n",
      "mapping 0:7 to 42:49, l0:7 to be applied\n",
      "mapping 7:11 to 57:61, l0:4 to be applied\n",
      "[[53, 57], [61, 70], [81, 95]]\n",
      "3\n",
      "mapping 18:25 to 88:95, l0:7 to be applied\n",
      "mapping 25:95 to 18:88, l0:70 to be applied\n",
      "[[46, 50], [54, 63], [74, 88]]\n",
      "4\n",
      "mapping 77:100 to 45:68, l0:23 to be applied\n",
      "mapping 45:64 to 81:100, l0:19 to be applied\n",
      "mapping 64:77 to 68:81, l0:13 to be applied\n",
      "[[45, 56], [78, 81], [82, 86], [90, 99]]\n",
      "5\n",
      "mapping 69:70 to 0:1, l0:1 to be applied\n",
      "mapping 0:69 to 1:70, l0:69 to be applied\n",
      "[[46, 57], [78, 81], [82, 86], [90, 99]]\n",
      "6\n",
      "mapping 56:93 to 60:97, l0:37 to be applied\n",
      "mapping 93:97 to 56:60, l0:4 to be applied\n",
      "[[46, 61], [82, 85], [86, 90], [94, 99]]\n"
     ]
    }
   ],
   "source": [
    "s0 = seeds_np\n",
    "\n",
    "for i,p0 in  enumerate(alm_pipeline_cls):\n",
    "    print(i)\n",
    "    s1=p0.npsource_to_npdest(s0)\n",
    "    #print(\"min index:\",np.nonzero(s1==True)[0][0])\n",
    "    #print(get_ranges(s1))\n",
    "    s0=s1\n",
    "\n",
    "#print(s1)"
   ]
  },
  {
   "cell_type": "markdown",
   "metadata": {},
   "source": [
    "Something is wrong going from 3 to 4, light-to-temp. I should give someting like [(78, 3), (45, 11), (90, 9), (82, 4)] (start, length)\n",
    "\n",
    "It's ok now. I think"
   ]
  },
  {
   "cell_type": "code",
   "execution_count": null,
   "metadata": {},
   "outputs": [
    {
     "data": {
      "text/plain": [
       "[[46, 61], [82, 85], [86, 90], [94, 99]]"
      ]
     },
     "execution_count": 24,
     "metadata": {},
     "output_type": "execute_result"
    }
   ],
   "source": [
    "get_ranges(s1)"
   ]
  },
  {
   "cell_type": "code",
   "execution_count": null,
   "metadata": {},
   "outputs": [
    {
     "data": {
      "text/plain": [
       "46"
      ]
     },
     "execution_count": 26,
     "metadata": {},
     "output_type": "execute_result"
    }
   ],
   "source": [
    "np.min(np.array(get_ranges(s1)))"
   ]
  },
  {
   "cell_type": "code",
   "execution_count": null,
   "metadata": {},
   "outputs": [],
   "source": []
  }
 ],
 "metadata": {
  "kernelspec": {
   "display_name": "dev",
   "language": "python",
   "name": "python3"
  },
  "language_info": {
   "codemirror_mode": {
    "name": "ipython",
    "version": 3
   },
   "file_extension": ".py",
   "mimetype": "text/x-python",
   "name": "python",
   "nbconvert_exporter": "python",
   "pygments_lexer": "ipython3",
   "version": "3.11.5"
  }
 },
 "nbformat": 4,
 "nbformat_minor": 2
}
