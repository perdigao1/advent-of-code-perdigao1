{
 "cells": [
  {
   "cell_type": "markdown",
   "metadata": {},
   "source": [
    "input_test, lowest location from range 46"
   ]
  },
  {
   "cell_type": "code",
   "execution_count": 1,
   "metadata": {},
   "outputs": [],
   "source": [
    "import numpy as np\n",
    "import re"
   ]
  },
  {
   "cell_type": "code",
   "execution_count": 2,
   "metadata": {},
   "outputs": [],
   "source": [
    "#with open(\"input_test.txt\", 'r') as f0:\n",
    "with open(\"input.txt\", 'r') as f0:\n",
    "    text= f0.read()"
   ]
  },
  {
   "cell_type": "code",
   "execution_count": 3,
   "metadata": {},
   "outputs": [],
   "source": [
    "class alm_map():\n",
    "    def __init__(self, text_map):\n",
    "        # text_map contains the text with lines providing map\n",
    "        self.params_list=[]\n",
    "        lines_map = text_map.split('\\n')\n",
    "        #print(lines_map)\n",
    "        for l0 in lines_map:\n",
    "            values_str = l0.split(' ')\n",
    "            if len(values_str)!=3:\n",
    "                #print(f\"Error with this line {l0}, does not have 3 values\")\n",
    "                continue\n",
    "            dest_orig = int(values_str[0])\n",
    "            source_orig = int(values_str[1])\n",
    "            length = int(values_str[2])\n",
    "            self.params_list.append((dest_orig, source_orig, length))\n",
    "    \n",
    "    def source_to_dest(self,i):\n",
    "        ret=i # default\n",
    "        # go though list and finds the map\n",
    "        for d0, s0, l0 in self.params_list:\n",
    "            if i>=s0 and i<s0+l0:\n",
    "                ret=d0+(i-s0)\n",
    "                break\n",
    "        return ret\n",
    "    \n",
    "    @staticmethod\n",
    "    def _range_to_map_range(i0, i1, r0, r1, d):\n",
    "        # put start end values in a list, convert to set to remove duplicates\n",
    "        #range start, length i0,il. mapped range start, length r0 rl, destination start d\n",
    "        \n",
    "        start0 = max(i0,r0)\n",
    "        end0 = min(i1,r1)\n",
    "\n",
    "        ret_ranges_unmapped = [] #list of start,end\n",
    "        ret_ranges_mapped = [] #list of start,end\n",
    "\n",
    "        #Check region is inside the range and map it\n",
    "        if start0<end0:\n",
    "            ret_ranges_mapped.append((d+(start0-r0), d+(end0-r0)))\n",
    "\n",
    "            #sort surrounding regions if any and mark them as unmmaped\n",
    "            if start0>i0:\n",
    "                ret_ranges_unmapped.append((i0,start0)) #start,end\n",
    "            if i1>end0:\n",
    "                ret_ranges_unmapped.append((end0,i1)) #start,end\n",
    "        else:\n",
    "            ret_ranges_unmapped.append((i0,i1))\n",
    "            \n",
    "        return [ret_ranges_unmapped,ret_ranges_mapped]\n",
    "    \n",
    "    def sources_to_dests_ranges(self, sources0):\n",
    "        # use notation start,end\n",
    "        #sources are a list of 2-tuples start:end\n",
    "        unmapped_ranges0=sources0.copy() # initialize\n",
    "        new_ranges=[]\n",
    "\n",
    "        while len(unmapped_ranges0)>0:\n",
    "            s0, s1 = unmapped_ranges0.pop()\n",
    "            #print(f\"origin range {s0}:{s1}\")\n",
    "            #Check against the mapping parameters\n",
    "            new_unmapped = []\n",
    "            new_mapped = []\n",
    "            for d0, r0, l0 in self.params_list:\n",
    "                r1=r0+l0 #enpoint\n",
    "                #print(f\"mapping r0:r1 {r0}:{r1} to d0:{d0}:{d0+l0}, be applied to unmapped_range:{s0}:{s1}\")\n",
    "\n",
    "                unmapped_ranges1, mapped_ranges1= self._range_to_map_range(s0,s1,r0,r1,d0)\n",
    "                #print(f\"result unmapped:{unmapped_ranges1}, mapped:{mapped_ranges1}\")\n",
    "                \n",
    "                if len(mapped_ranges1)>0:\n",
    "                    #print(\"len(mapped_ranges1)>0\")\n",
    "                    new_mapped+=mapped_ranges1 #mapped ranges increase\n",
    "                    new_unmapped+=unmapped_ranges1\n",
    "                    #Cannot use the original unmapped region, as it has alrady been transformed\n",
    "                    # So leave the for-loop to get the next unmasked range\n",
    "                    break\n",
    "\n",
    "            # After checking an unmapped region against all the maps...\n",
    "            # If there was no mapping applied, preserve it for next\n",
    "            # If there was some mapping, then new_unmapped should contain the new maps\n",
    "            # We need to check these new regions against the mappings\n",
    "            if len(new_mapped)==0:\n",
    "                #original range not affected\n",
    "                #print(f\"Region {s0}:{s1} not affected. new ranges+={(s0,s1)}\")\n",
    "                new_ranges+=[(s0,s1)]\n",
    "            else:\n",
    "                unmapped_ranges0+=new_unmapped\n",
    "                new_ranges+=new_mapped\n",
    "                #new_ranges+=new_unmapped\n",
    "\n",
    "        return new_ranges"
   ]
  },
  {
   "cell_type": "markdown",
   "metadata": {},
   "source": [
    "# Test _range_to_map_range"
   ]
  },
  {
   "cell_type": "code",
   "execution_count": 4,
   "metadata": {},
   "outputs": [
    {
     "name": "stdout",
     "output_type": "stream",
     "text": [
      "[[(15, 20)], [(25, 30)]]\n"
     ]
    }
   ],
   "source": [
    "#Returns unmapped, mapped ranges, each in format start,length\n",
    "print( alm_map._range_to_map_range(10,20, 5,15, 20) )"
   ]
  },
  {
   "cell_type": "markdown",
   "metadata": {},
   "source": [
    "Get starting seeds"
   ]
  },
  {
   "cell_type": "code",
   "execution_count": 5,
   "metadata": {},
   "outputs": [
    {
     "data": {
      "text/plain": [
       "[' 79 14 55 13']"
      ]
     },
     "execution_count": 5,
     "metadata": {},
     "output_type": "execute_result"
    }
   ],
   "source": [
    "seeds_inp = re.findall(\"seeds:(.*)\", text)\n",
    "seeds_inp"
   ]
  },
  {
   "cell_type": "markdown",
   "metadata": {},
   "source": [
    "convert to seed ranges"
   ]
  },
  {
   "cell_type": "code",
   "execution_count": 6,
   "metadata": {},
   "outputs": [
    {
     "data": {
      "text/plain": [
       "['79', '14', '55', '13']"
      ]
     },
     "execution_count": 6,
     "metadata": {},
     "output_type": "execute_result"
    }
   ],
   "source": [
    "seeds_inp[0].strip().split()"
   ]
  },
  {
   "cell_type": "code",
   "execution_count": 7,
   "metadata": {},
   "outputs": [
    {
     "data": {
      "text/plain": [
       "[(79, 93), (55, 68)]"
      ]
     },
     "execution_count": 7,
     "metadata": {},
     "output_type": "execute_result"
    }
   ],
   "source": [
    "seeds_ranges =[]\n",
    "\n",
    "s_list = seeds_inp[0].strip().split()\n",
    "for i in range(0,len(s_list),2):\n",
    "    s0=int(s_list[i])\n",
    "    s1=int(s_list[i+1]) +s0\n",
    "    seeds_ranges.append((s0,s1))\n",
    "seeds_ranges"
   ]
  },
  {
   "cell_type": "code",
   "execution_count": 8,
   "metadata": {},
   "outputs": [],
   "source": [
    "# Overrides for testing\n",
    "#seeds_ranges=[(82,1)] #test ok, gives right answer 46"
   ]
  },
  {
   "cell_type": "code",
   "execution_count": 9,
   "metadata": {},
   "outputs": [],
   "source": [
    "# seed2soil\n",
    "t0= re.findall(\"seed-to-soil map:\\n((.|\\n)*)\\nsoil-to-fertilizer map\", text)\n",
    "t0_map = alm_map(t0[0][0])"
   ]
  },
  {
   "cell_type": "code",
   "execution_count": 10,
   "metadata": {},
   "outputs": [
    {
     "name": "stdout",
     "output_type": "stream",
     "text": [
      "new_range:[(57, 70), (81, 95)]\n"
     ]
    }
   ],
   "source": [
    "start_ranges = seeds_ranges.copy()\n",
    "\n",
    "result_ranges = t0_map.sources_to_dests_ranges(start_ranges)\n",
    "print(f\"new_range:{result_ranges}\")\n",
    "\n",
    "soil0_ranges =result_ranges"
   ]
  },
  {
   "cell_type": "code",
   "execution_count": 11,
   "metadata": {},
   "outputs": [
    {
     "data": {
      "text/plain": [
       "[(57, 70), (81, 95)]"
      ]
     },
     "execution_count": 11,
     "metadata": {},
     "output_type": "execute_result"
    }
   ],
   "source": [
    "soil0_ranges"
   ]
  },
  {
   "cell_type": "markdown",
   "metadata": {},
   "source": [
    "soil-to-fertilizer map:"
   ]
  },
  {
   "cell_type": "code",
   "execution_count": 12,
   "metadata": {},
   "outputs": [
    {
     "name": "stdout",
     "output_type": "stream",
     "text": [
      "new_range:[(81, 95), (57, 70)]\n"
     ]
    }
   ],
   "source": [
    "# soil2fert\n",
    "t0 = re.findall(\"soil-to-fertilizer map:\\n((.|\\n)*)\\nfertilizer-to-water map:\", text)\n",
    "t0_map = alm_map(t0[0][0])\n",
    "\n",
    "# start_ranges = soil0_ranges\n",
    "# mapped_ranges =[]\n",
    "\n",
    "# for r0,rl in start_ranges:\n",
    "#     #print(f\"soil_range, {r0} , length:{rl}\")\n",
    "#     new_range = t0_map.source_to_dest_ranges(r0,rl)\n",
    "#     #print(f\"r0:{r0}, r1:{rl}, new_range:{new_range}\")\n",
    "#     mapped_ranges+=new_range\n",
    "\n",
    "# fert0_ranges=mapped_ranges\n",
    "\n",
    "start_ranges = soil0_ranges.copy() #Adjust\n",
    "\n",
    "result_ranges = t0_map.sources_to_dests_ranges(start_ranges)\n",
    "print(f\"new_range:{result_ranges}\")\n",
    "    \n",
    "fert0_ranges =result_ranges #Adjust"
   ]
  },
  {
   "cell_type": "code",
   "execution_count": 13,
   "metadata": {},
   "outputs": [
    {
     "data": {
      "text/plain": [
       "[(81, 95), (57, 70)]"
      ]
     },
     "execution_count": 13,
     "metadata": {},
     "output_type": "execute_result"
    }
   ],
   "source": [
    "fert0_ranges"
   ]
  },
  {
   "cell_type": "code",
   "execution_count": 14,
   "metadata": {},
   "outputs": [
    {
     "name": "stdout",
     "output_type": "stream",
     "text": [
      "new_range:[(53, 57), (61, 70), (81, 95)]\n"
     ]
    }
   ],
   "source": [
    "# fert2water\n",
    "t0 = re.findall(\"fertilizer-to-water map:\\n((.|\\n)*)\\nwater-to-light map\", text)\n",
    "t0_map = alm_map(t0[0][0])\n",
    "\n",
    "# start_ranges = fert0_ranges\n",
    "# mapped_ranges =[]\n",
    "\n",
    "# for r0,rl in start_ranges:\n",
    "#     #print(f\"start_range, {r0} , length:{rl}\")\n",
    "#     new_range = t0_map.source_to_dest_ranges(r0,rl)\n",
    "#     #print(f\"r0:{r0}, r1:{rl}, new_range:{new_range}\")\n",
    "#     mapped_ranges+=new_range\n",
    "\n",
    "# water0_ranges=mapped_ranges\n",
    "\n",
    "start_ranges = fert0_ranges.copy() #Adjust\n",
    "\n",
    "result_ranges = t0_map.sources_to_dests_ranges(start_ranges)\n",
    "print(f\"new_range:{result_ranges}\")\n",
    "\n",
    "water0_ranges =result_ranges #Adjust"
   ]
  },
  {
   "cell_type": "code",
   "execution_count": 15,
   "metadata": {},
   "outputs": [
    {
     "data": {
      "text/plain": [
       "[(53, 57), (61, 70), (81, 95)]"
      ]
     },
     "execution_count": 15,
     "metadata": {},
     "output_type": "execute_result"
    }
   ],
   "source": [
    "water0_ranges"
   ]
  },
  {
   "cell_type": "code",
   "execution_count": 16,
   "metadata": {},
   "outputs": [
    {
     "name": "stdout",
     "output_type": "stream",
     "text": [
      "new_range:[(74, 88), (54, 63), (46, 50)]\n"
     ]
    }
   ],
   "source": [
    "# water2light\n",
    "t0 = re.findall(\"water-to-light map:\\n((.|\\n)*)\\nlight-to-temperature map\", text)\n",
    "t0_map = alm_map(t0[0][0])\n",
    "\n",
    "# start_ranges = water0_ranges\n",
    "# mapped_ranges =[]\n",
    "\n",
    "# for r0,rl in start_ranges:\n",
    "#     #print(f\"start_range, {r0} , length:{rl}\")\n",
    "#     new_range = t0_map.source_to_dest_ranges(r0,rl)\n",
    "#     #print(f\"r0:{r0}, r1:{rl}, new_range:{new_range}\")\n",
    "#     mapped_ranges+=new_range\n",
    "# light0_ranges=mapped_ranges\n",
    "\n",
    "start_ranges = water0_ranges.copy() #Adjust\n",
    "\n",
    "result_ranges = t0_map.sources_to_dests_ranges(start_ranges)\n",
    "print(f\"new_range:{result_ranges}\")\n",
    "\n",
    "light0_ranges =result_ranges #Adjust"
   ]
  },
  {
   "cell_type": "code",
   "execution_count": 17,
   "metadata": {},
   "outputs": [
    {
     "data": {
      "text/plain": [
       "[(74, 88), (54, 63), (46, 50)]"
      ]
     },
     "execution_count": 17,
     "metadata": {},
     "output_type": "execute_result"
    }
   ],
   "source": [
    "light0_ranges"
   ]
  },
  {
   "cell_type": "code",
   "execution_count": 18,
   "metadata": {},
   "outputs": [
    {
     "name": "stdout",
     "output_type": "stream",
     "text": [
      "new_range:[(82, 86), (90, 99), (45, 56), (78, 81)]\n"
     ]
    }
   ],
   "source": [
    "# light2temp\n",
    "t0 = re.findall(\"light-to-temperature map:\\n((.|\\n)*)\\ntemperature-to-humidity map:\", text)\n",
    "t0_map = alm_map(t0[0][0])\n",
    "\n",
    "# start_ranges = light0_ranges\n",
    "# mapped_ranges =[]\n",
    "\n",
    "# for r0,rl in start_ranges:\n",
    "#     #print(f\"start_range, {r0} , length:{rl}\")\n",
    "#     new_range = t0_map.source_to_dest_ranges(r0,rl)\n",
    "#     #print(f\"r0:{r0}, r1:{rl}, new_range:{new_range}\")\n",
    "#     mapped_ranges+=new_range\n",
    "# temp0_ranges=mapped_ranges\n",
    "# temp0_ranges\n",
    "\n",
    "start_ranges = light0_ranges.copy() #Adjust\n",
    "\n",
    "result_ranges = t0_map.sources_to_dests_ranges(start_ranges)\n",
    "print(f\"new_range:{result_ranges}\")\n",
    "\n",
    "temp0_ranges =result_ranges #Adjust"
   ]
  },
  {
   "cell_type": "code",
   "execution_count": 19,
   "metadata": {},
   "outputs": [
    {
     "data": {
      "text/plain": [
       "[(82, 86), (90, 99), (45, 56), (78, 81)]"
      ]
     },
     "execution_count": 19,
     "metadata": {},
     "output_type": "execute_result"
    }
   ],
   "source": [
    "temp0_ranges"
   ]
  },
  {
   "cell_type": "code",
   "execution_count": 20,
   "metadata": {},
   "outputs": [
    {
     "name": "stdout",
     "output_type": "stream",
     "text": [
      "new_range:[(78, 81), (46, 57), (90, 99), (82, 86)]\n"
     ]
    }
   ],
   "source": [
    "# temp2humid\n",
    "t0 = re.findall(\"temperature-to-humidity map:\\n((.|\\n)*)\\nhumidity-to-location map:\", text)\n",
    "t0_map = alm_map(t0[0][0])\n",
    "\n",
    "# start_ranges = temp0_ranges\n",
    "# mapped_ranges =[]\n",
    "\n",
    "# for r0,rl in start_ranges:\n",
    "#     #print(f\"start_range, {r0} , length:{rl}\")\n",
    "#     new_range = t0_map.source_to_dest_ranges(r0,rl)\n",
    "#     #print(f\"r0:{r0}, r1:{rl}, new_range:{new_range}\")\n",
    "#     mapped_ranges+=new_range\n",
    "# humid0_ranges=mapped_ranges\n",
    "# humid0_ranges\n",
    "\n",
    "start_ranges = temp0_ranges.copy() #Adjust\n",
    "\n",
    "result_ranges = t0_map.sources_to_dests_ranges(start_ranges)\n",
    "print(f\"new_range:{result_ranges}\")\n",
    "\n",
    "humid0_ranges =result_ranges #Adjust"
   ]
  },
  {
   "cell_type": "code",
   "execution_count": 21,
   "metadata": {},
   "outputs": [
    {
     "data": {
      "text/plain": [
       "[(78, 81), (46, 57), (90, 99), (82, 86)]"
      ]
     },
     "execution_count": 21,
     "metadata": {},
     "output_type": "execute_result"
    }
   ],
   "source": [
    "humid0_ranges"
   ]
  },
  {
   "cell_type": "code",
   "execution_count": 22,
   "metadata": {},
   "outputs": [
    {
     "name": "stdout",
     "output_type": "stream",
     "text": [
      "new_range:[(86, 90), (94, 97), (56, 60), (97, 99), (60, 61), (46, 56), (82, 85)]\n"
     ]
    }
   ],
   "source": [
    "# hum2loc\n",
    "t0 = re.findall(\"humidity-to-location map:\\n((.|\\n)*)\\n\", text)\n",
    "t0_map = alm_map(t0[0][0])\n",
    "\n",
    "# start_ranges = humid0_ranges\n",
    "# mapped_ranges =[]\n",
    "\n",
    "# for r0,rl in start_ranges:\n",
    "#     #print(f\"start_range, {r0} , length:{rl}\")\n",
    "#     new_range = t0_map.source_to_dest_ranges(r0,rl)\n",
    "#     #print(f\"r0:{r0}, r1:{rl}, new_range:{new_range}\")\n",
    "#     mapped_ranges+=new_range\n",
    "# loc0_ranges=mapped_ranges\n",
    "# loc0_ranges\n",
    "\n",
    "start_ranges = humid0_ranges.copy() #Adjust\n",
    "\n",
    "result_ranges = t0_map.sources_to_dests_ranges(start_ranges)\n",
    "print(f\"new_range:{result_ranges}\")\n",
    "\n",
    "loc0_ranges =result_ranges #Adjust"
   ]
  },
  {
   "cell_type": "code",
   "execution_count": 23,
   "metadata": {},
   "outputs": [
    {
     "data": {
      "text/plain": [
       "[(86, 90), (94, 97), (56, 60), (97, 99), (60, 61), (46, 56), (82, 85)]"
      ]
     },
     "execution_count": 23,
     "metadata": {},
     "output_type": "execute_result"
    }
   ],
   "source": [
    "loc0_ranges"
   ]
  },
  {
   "cell_type": "code",
   "execution_count": 24,
   "metadata": {},
   "outputs": [
    {
     "name": "stdout",
     "output_type": "stream",
     "text": [
      "46\n"
     ]
    }
   ],
   "source": [
    "# lowest number\n",
    "loc_starts=[]\n",
    "for loc0 in loc0_ranges:\n",
    "    s0,l0 = loc0\n",
    "    loc_starts.append(s0)\n",
    "\n",
    "print(np.min(loc_starts))"
   ]
  },
  {
   "cell_type": "markdown",
   "metadata": {},
   "source": [
    "Answer 149145352 ? is too high!!\n",
    "\n",
    "Correct answer is 37384986"
   ]
  },
  {
   "cell_type": "code",
   "execution_count": null,
   "metadata": {},
   "outputs": [],
   "source": []
  },
  {
   "cell_type": "code",
   "execution_count": null,
   "metadata": {},
   "outputs": [],
   "source": []
  }
 ],
 "metadata": {
  "kernelspec": {
   "display_name": "dev",
   "language": "python",
   "name": "python3"
  },
  "language_info": {
   "codemirror_mode": {
    "name": "ipython",
    "version": 3
   },
   "file_extension": ".py",
   "mimetype": "text/x-python",
   "name": "python",
   "nbconvert_exporter": "python",
   "pygments_lexer": "ipython3",
   "version": "3.11.5"
  }
 },
 "nbformat": 4,
 "nbformat_minor": 2
}
