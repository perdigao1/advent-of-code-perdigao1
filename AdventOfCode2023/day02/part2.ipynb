{
 "cells": [
  {
   "cell_type": "code",
   "execution_count": 1,
   "metadata": {},
   "outputs": [],
   "source": [
    "import numpy as np\n",
    "import re"
   ]
  },
  {
   "cell_type": "code",
   "execution_count": 2,
   "metadata": {},
   "outputs": [],
   "source": [
    "#with open(\"input_test.txt\", 'r') as f0:\n",
    "with open(\"input.txt\", 'r') as f0:\n",
    "    lines0= f0.readlines()\n",
    "\n",
    "lines = [l0.strip() for l0 in lines0]"
   ]
  },
  {
   "cell_type": "code",
   "execution_count": 3,
   "metadata": {},
   "outputs": [],
   "source": [
    "#lines"
   ]
  },
  {
   "cell_type": "markdown",
   "metadata": {},
   "source": [
    "OK"
   ]
  },
  {
   "cell_type": "code",
   "execution_count": 4,
   "metadata": {},
   "outputs": [
    {
     "name": "stdout",
     "output_type": "stream",
     "text": [
      "id:1, power:240\n",
      "id:2, power:840\n",
      "id:3, power:150\n",
      "id:4, power:96\n",
      "id:5, power:40\n",
      "id:6, power:288\n",
      "id:7, power:3888\n",
      "id:8, power:432\n",
      "id:9, power:384\n",
      "id:10, power:420\n",
      "id:11, power:504\n",
      "id:12, power:1170\n",
      "id:13, power:2700\n",
      "id:14, power:648\n",
      "id:15, power:196\n",
      "id:16, power:540\n",
      "id:17, power:210\n",
      "id:18, power:144\n",
      "id:19, power:1170\n",
      "id:20, power:2080\n",
      "id:21, power:330\n",
      "id:22, power:495\n",
      "id:23, power:864\n",
      "id:24, power:595\n",
      "id:25, power:513\n",
      "id:26, power:336\n",
      "id:27, power:119\n",
      "id:28, power:1785\n",
      "id:29, power:612\n",
      "id:30, power:1056\n",
      "id:31, power:416\n",
      "id:32, power:385\n",
      "id:33, power:672\n",
      "id:34, power:312\n",
      "id:35, power:630\n",
      "id:36, power:864\n",
      "id:37, power:400\n",
      "id:38, power:1800\n",
      "id:39, power:832\n",
      "id:40, power:192\n",
      "id:41, power:108\n",
      "id:42, power:8\n",
      "id:43, power:770\n",
      "id:44, power:84\n",
      "id:45, power:10\n",
      "id:46, power:1872\n",
      "id:47, power:2754\n",
      "id:48, power:884\n",
      "id:49, power:378\n",
      "id:50, power:324\n",
      "id:51, power:324\n",
      "id:52, power:440\n",
      "id:53, power:1560\n",
      "id:54, power:30\n",
      "id:55, power:1404\n",
      "id:56, power:336\n",
      "id:57, power:140\n",
      "id:58, power:105\n",
      "id:59, power:324\n",
      "id:60, power:459\n",
      "id:61, power:3672\n",
      "id:62, power:1080\n",
      "id:63, power:320\n",
      "id:64, power:294\n",
      "id:65, power:84\n",
      "id:66, power:1190\n",
      "id:67, power:224\n",
      "id:68, power:275\n",
      "id:69, power:600\n",
      "id:70, power:1020\n",
      "id:71, power:192\n",
      "id:72, power:720\n",
      "id:73, power:480\n",
      "id:74, power:572\n",
      "id:75, power:1260\n",
      "id:76, power:648\n",
      "id:77, power:1190\n",
      "id:78, power:324\n",
      "id:79, power:312\n",
      "id:80, power:280\n",
      "id:81, power:378\n",
      "id:82, power:880\n",
      "id:83, power:16\n",
      "id:84, power:390\n",
      "id:85, power:8\n",
      "id:86, power:150\n",
      "id:87, power:2508\n",
      "id:88, power:960\n",
      "id:89, power:896\n",
      "id:90, power:216\n",
      "id:91, power:256\n",
      "id:92, power:72\n",
      "id:93, power:480\n",
      "id:94, power:495\n",
      "id:95, power:1008\n",
      "id:96, power:784\n",
      "id:97, power:1596\n",
      "id:98, power:2730\n",
      "id:99, power:220\n",
      "id:100, power:832\n"
     ]
    }
   ],
   "source": [
    "powers = [] #Collect powers in each game\n",
    "\n",
    "for l0 in lines:\n",
    "    sp0 = l0.split(\":\") #Split by game id\n",
    "    #get game id\n",
    "    id = int(re.findall(\"[0-9]+\",sp0[0])[0])\n",
    "\n",
    "    sp1 = sp0[1].split(\";\") #split after : by subset\n",
    "    \n",
    "    ballcount_min={\"blue\":0, \"red\":0, \"green\":0}\n",
    "    for i,subset0 in enumerate(sp1):\n",
    "        ballcount={\"blue\":0, \"red\":0, \"green\":0}\n",
    "\n",
    "        balls = subset0.split(\",\") #split balls\n",
    "\n",
    "        for b0 in balls:\n",
    "            re0=re.findall(\"[0-9]+\",b0)\n",
    "            v0 = int(re0[0])\n",
    "            #print(v0)\n",
    "            for k0 in ballcount.keys():\n",
    "                if k0 in b0:\n",
    "                    ballcount[k0]=v0\n",
    "        \n",
    "        if i==0:\n",
    "            ballcount_min=ballcount.copy()\n",
    "        else:\n",
    "            #Check if any exceeds maximum\n",
    "            for k0 in ballcount.keys():\n",
    "                ballcount_min[k0]= max(ballcount_min[k0],ballcount[k0])\n",
    "\n",
    "    #print(list(ballcount_min.values()))\n",
    "    #End of subset, get the power value\n",
    "    power= np.prod(np.array(list(ballcount_min.values())))\n",
    "    powers.append(power)\n",
    "    print(f\"id:{id}, power:{power}\")\n"
   ]
  },
  {
   "cell_type": "code",
   "execution_count": 5,
   "metadata": {},
   "outputs": [
    {
     "data": {
      "text/plain": [
       "71274"
      ]
     },
     "execution_count": 5,
     "metadata": {},
     "output_type": "execute_result"
    }
   ],
   "source": [
    "np.sum(np.array(powers))"
   ]
  }
 ],
 "metadata": {
  "kernelspec": {
   "display_name": "dev",
   "language": "python",
   "name": "python3"
  },
  "language_info": {
   "codemirror_mode": {
    "name": "ipython",
    "version": 3
   },
   "file_extension": ".py",
   "mimetype": "text/x-python",
   "name": "python",
   "nbconvert_exporter": "python",
   "pygments_lexer": "ipython3",
   "version": "3.11.5"
  }
 },
 "nbformat": 4,
 "nbformat_minor": 2
}
