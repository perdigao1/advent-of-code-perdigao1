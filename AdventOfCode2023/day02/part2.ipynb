{
 "cells": [
  {
   "cell_type": "code",
   "execution_count": 1,
   "metadata": {},
   "outputs": [],
   "source": [
    "import numpy as np\n",
    "import re"
   ]
  },
  {
   "cell_type": "code",
   "execution_count": 2,
   "metadata": {},
   "outputs": [],
   "source": [
    "#with open(\"input_test.txt\", 'r') as f0:\n",
    "with open(\"input.txt\", 'r') as f0:\n",
    "    lines0= f0.readlines()\n",
    "\n",
    "lines = [l0.strip() for l0 in lines0]"
   ]
  },
  {
   "cell_type": "code",
   "execution_count": 3,
   "metadata": {},
   "outputs": [],
   "source": [
    "#lines"
   ]
  },
  {
   "cell_type": "markdown",
   "metadata": {},
   "source": [
    "OK"
   ]
  },
  {
   "cell_type": "code",
   "execution_count": 11,
   "metadata": {},
   "outputs": [
    {
     "name": "stdout",
     "output_type": "stream",
     "text": [
      "id:1, power:48\n",
      "id:2, power:12\n",
      "id:3, power:1560\n",
      "id:4, power:630\n",
      "id:5, power:36\n"
     ]
    }
   ],
   "source": [
    "powers = [] #Collect powers in each game\n",
    "\n",
    "for l0 in lines:\n",
    "    sp0 = l0.split(\":\") #Split by game id\n",
    "    #get game id\n",
    "    id = int(re.findall(\"[0-9]+\",sp0[0])[0])\n",
    "\n",
    "    sp1 = sp0[1].split(\";\") #split after : by subset\n",
    "    \n",
    "    ballcount_min={\"blue\":0, \"red\":0, \"green\":0}\n",
    "    for i,subset0 in enumerate(sp1):\n",
    "        ballcount={\"blue\":0, \"red\":0, \"green\":0}\n",
    "\n",
    "        balls = subset0.split(\",\") #split balls\n",
    "\n",
    "        for b0 in balls:\n",
    "            re0=re.findall(\"[0-9]+\",b0)\n",
    "            v0 = int(re0[0])\n",
    "            #print(v0)\n",
    "            for k0 in ballcount.keys():\n",
    "                if k0 in b0:\n",
    "                    ballcount[k0]=v0\n",
    "        \n",
    "        if i==0:\n",
    "            ballcount_min=ballcount.copy()\n",
    "        else:\n",
    "            #Check if any exceeds maximum\n",
    "            for k0 in ballcount.keys():\n",
    "                ballcount_min[k0]= max(ballcount_min[k0],ballcount[k0])\n",
    "\n",
    "    #print(list(ballcount_min.values()))\n",
    "    #End of subset, get the power value\n",
    "    power= np.prod(np.array(list(ballcount_min.values())))\n",
    "    powers.append(power)\n",
    "    print(f\"id:{id}, power:{power}\")\n"
   ]
  },
  {
   "cell_type": "code",
   "execution_count": 12,
   "metadata": {},
   "outputs": [
    {
     "data": {
      "text/plain": [
       "2286"
      ]
     },
     "execution_count": 12,
     "metadata": {},
     "output_type": "execute_result"
    }
   ],
   "source": [
    "np.sum(np.array(powers))"
   ]
  }
 ],
 "metadata": {
  "kernelspec": {
   "display_name": "dev",
   "language": "python",
   "name": "python3"
  },
  "language_info": {
   "codemirror_mode": {
    "name": "ipython",
    "version": 3
   },
   "file_extension": ".py",
   "mimetype": "text/x-python",
   "name": "python",
   "nbconvert_exporter": "python",
   "pygments_lexer": "ipython3",
   "version": "3.11.5"
  }
 },
 "nbformat": 4,
 "nbformat_minor": 2
}
