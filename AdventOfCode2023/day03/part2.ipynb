{
 "cells": [
  {
   "cell_type": "markdown",
   "metadata": {},
   "source": [
    "Perhaps the best way to solve this problem is to create a dictionary that links each gear to \"numbers\" that are adjacent\n",
    "\n",
    "Identify numbers and give them a unique id\n",
    "\n",
    "identify gears and give them an id\n",
    "\n",
    "Create links\n",
    "\n",
    "Check how many \"numbers\" per gear\n",
    "\n",
    "Select only gears with 2 adjacent numbers\n",
    "\n",
    "calculate"
   ]
  },
  {
   "cell_type": "code",
   "execution_count": 1,
   "metadata": {},
   "outputs": [],
   "source": [
    "import numpy as np\n",
    "import re"
   ]
  },
  {
   "cell_type": "code",
   "execution_count": 2,
   "metadata": {},
   "outputs": [],
   "source": [
    "with open(\"input_test.txt\", 'r') as f0:\n",
    "#with open(\"input.txt\", 'r') as f0:\n",
    "    lines0= f0.readlines()\n",
    "\n",
    "lines = [l0.strip() for l0 in lines0]"
   ]
  },
  {
   "cell_type": "code",
   "execution_count": 3,
   "metadata": {},
   "outputs": [
    {
     "data": {
      "text/plain": [
       "['467..114..',\n",
       " '...*......',\n",
       " '..35..633.',\n",
       " '......#...',\n",
       " '617*......',\n",
       " '.....+.58.',\n",
       " '..592.....',\n",
       " '......755.',\n",
       " '...$.*....',\n",
       " '.664.598..']"
      ]
     },
     "execution_count": 3,
     "metadata": {},
     "output_type": "execute_result"
    }
   ],
   "source": [
    "lines"
   ]
  },
  {
   "cell_type": "code",
   "execution_count": 4,
   "metadata": {},
   "outputs": [],
   "source": [
    "# Convert lines to array\n",
    "dimx =  len(lines[0])\n",
    "dimy = len(lines)"
   ]
  },
  {
   "cell_type": "code",
   "execution_count": 5,
   "metadata": {},
   "outputs": [],
   "source": [
    "is_gear = np.zeros((dimy,dimx), dtype=bool)\n",
    "\n",
    "for iy,l0 in enumerate(lines):\n",
    "    for ix,s0 in enumerate(l0):\n",
    "        if s0=='*':\n",
    "            # check for gears only\n",
    "            is_gear[iy,ix]=True"
   ]
  },
  {
   "cell_type": "markdown",
   "metadata": {},
   "source": [
    "Seperately identifies numbers and assigns an ID"
   ]
  },
  {
   "cell_type": "code",
   "execution_count": 6,
   "metadata": {},
   "outputs": [],
   "source": [
    "#mark each value with an ID number\n",
    "ids = np.zeros((dimy,dimx), dtype=np.uint32)\n",
    "\n",
    "ids_to_number = {}\n",
    "\n",
    "id_count=0\n",
    "for iy,l0 in enumerate(lines):\n",
    "    filt_line= list(l0)\n",
    "    str_n=\"\"\n",
    "    for ix,s0 in enumerate(l0): #character by character\n",
    "        if s0.isdigit():\n",
    "            if ix==0 or len(str_n)==0:\n",
    "                id_count+=1\n",
    "            str_n+=s0\n",
    "            ids[iy,ix]= id_count\n",
    "            if ix== len(l0)-1:\n",
    "                #Last digit\n",
    "                ids_to_number[id_count]=int(str_n)\n",
    "                str_n=\"\" #resets\n",
    "\n",
    "        else:\n",
    "            if len(str_n)!=0:\n",
    "                #previous character was digit. String completed, store it\n",
    "                ids_to_number[id_count]=int(str_n)\n",
    "                str_n=\"\" #resets"
   ]
  },
  {
   "cell_type": "code",
   "execution_count": 7,
   "metadata": {},
   "outputs": [
    {
     "data": {
      "text/plain": [
       "array([[ 1,  1,  1,  0,  0,  2,  2,  2,  0,  0],\n",
       "       [ 0,  0,  0,  0,  0,  0,  0,  0,  0,  0],\n",
       "       [ 0,  0,  3,  3,  0,  0,  4,  4,  4,  0],\n",
       "       [ 0,  0,  0,  0,  0,  0,  0,  0,  0,  0],\n",
       "       [ 5,  5,  5,  0,  0,  0,  0,  0,  0,  0],\n",
       "       [ 0,  0,  0,  0,  0,  0,  0,  6,  6,  0],\n",
       "       [ 0,  0,  7,  7,  7,  0,  0,  0,  0,  0],\n",
       "       [ 0,  0,  0,  0,  0,  0,  8,  8,  8,  0],\n",
       "       [ 0,  0,  0,  0,  0,  0,  0,  0,  0,  0],\n",
       "       [ 0,  9,  9,  9,  0, 10, 10, 10,  0,  0]], dtype=uint32)"
      ]
     },
     "execution_count": 7,
     "metadata": {},
     "output_type": "execute_result"
    }
   ],
   "source": [
    "ids"
   ]
  },
  {
   "cell_type": "code",
   "execution_count": 8,
   "metadata": {},
   "outputs": [
    {
     "data": {
      "text/plain": [
       "{1: 467, 2: 114, 3: 35, 4: 633, 5: 617, 6: 58, 7: 592, 8: 755, 9: 664, 10: 598}"
      ]
     },
     "execution_count": 8,
     "metadata": {},
     "output_type": "execute_result"
    }
   ],
   "source": [
    "ids_to_number"
   ]
  },
  {
   "cell_type": "markdown",
   "metadata": {},
   "source": [
    "Identify gears with only 2 numbers nearby"
   ]
  },
  {
   "cell_type": "code",
   "execution_count": 9,
   "metadata": {},
   "outputs": [
    {
     "name": "stdout",
     "output_type": "stream",
     "text": [
      "gear at 1,3\n",
      "gear at 1,3 has two part numbers around it 467 and 35, multiplied 16345 \n",
      "gear at 4,3\n",
      "gear at 8,5\n",
      "gear at 8,5 has two part numbers around it 755 and 598, multiplied 451490 \n"
     ]
    }
   ],
   "source": [
    "gear_ratio_sum=0\n",
    "\n",
    "for iy in range(is_gear.shape[0]):\n",
    "    for ix in range(is_gear.shape[1]):\n",
    "        # check for gears only\n",
    "        if is_gear[iy,ix]:\n",
    "            print(f\"gear at {iy},{ix}\")\n",
    "\n",
    "            #Now look around and pick the ids\n",
    "            y0 = iy-1\n",
    "            if y0<0: y0=0\n",
    "            y1 = iy+1\n",
    "            if y1==is_gear.shape[0]: y1-=1\n",
    "\n",
    "            x0 = ix-1\n",
    "            if x0<0: x0=0\n",
    "            x1 = ix+1\n",
    "            if x1==is_gear.shape[1]: x1-=1\n",
    "\n",
    "            ids_around=set()\n",
    "\n",
    "            for yy in range(y0,y1+1):\n",
    "                for xx in range (x0, x1+1):\n",
    "                    v0 = ids[yy,xx]\n",
    "                    if v0>0:\n",
    "                        ids_around.add(v0)\n",
    "            \n",
    "            if len(ids_around)==2:\n",
    "                ids0_list= list(ids_around)\n",
    "                #get the actual part numbers\n",
    "                pn0 = ids_to_number[ids0_list[0]]\n",
    "                pn1 = ids_to_number[ids0_list[1]]\n",
    "\n",
    "                pn_mult = pn0*pn1\n",
    "\n",
    "                print(f\"gear at {iy},{ix} has two part numbers around it {pn0} and {pn1}, multiplied {pn_mult} \")\n",
    "\n",
    "                gear_ratio_sum+=pn_mult\n"
   ]
  },
  {
   "cell_type": "code",
   "execution_count": 10,
   "metadata": {},
   "outputs": [
    {
     "data": {
      "text/plain": [
       "467835"
      ]
     },
     "execution_count": 10,
     "metadata": {},
     "output_type": "execute_result"
    }
   ],
   "source": [
    "gear_ratio_sum"
   ]
  },
  {
   "cell_type": "markdown",
   "metadata": {},
   "source": [
    "467835, ok"
   ]
  },
  {
   "cell_type": "code",
   "execution_count": null,
   "metadata": {},
   "outputs": [],
   "source": []
  },
  {
   "cell_type": "code",
   "execution_count": null,
   "metadata": {},
   "outputs": [],
   "source": []
  }
 ],
 "metadata": {
  "kernelspec": {
   "display_name": "dev",
   "language": "python",
   "name": "python3"
  },
  "language_info": {
   "codemirror_mode": {
    "name": "ipython",
    "version": 3
   },
   "file_extension": ".py",
   "mimetype": "text/x-python",
   "name": "python",
   "nbconvert_exporter": "python",
   "pygments_lexer": "ipython3",
   "version": "3.11.5"
  }
 },
 "nbformat": 4,
 "nbformat_minor": 2
}
