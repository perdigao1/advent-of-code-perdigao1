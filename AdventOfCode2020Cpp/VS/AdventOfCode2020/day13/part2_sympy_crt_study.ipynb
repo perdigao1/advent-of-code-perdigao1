{
 "cells": [
  {
   "cell_type": "code",
   "execution_count": 2,
   "metadata": {},
   "outputs": [],
   "source": [
    "from sympy.ntheory.modular import crt"
   ]
  },
  {
   "cell_type": "code",
   "execution_count": 3,
   "metadata": {},
   "outputs": [],
   "source": [
    "mods = [13, 41, 641, 19, 17, 29, 661, 37, 23]\n",
    "rems = [67, 64, 54, 42, 37, 25, 23, 17, 0]"
   ]
  },
  {
   "cell_type": "code",
   "execution_count": 6,
   "metadata": {},
   "outputs": [
    {
     "data": {
      "text/plain": [
       "(800177252346292, 1800183506587661)"
      ]
     },
     "execution_count": 6,
     "metadata": {},
     "output_type": "execute_result"
    }
   ],
   "source": [
    "crt_res = crt(mods, rems)\n",
    "crt_res"
   ]
  },
  {
   "cell_type": "code",
   "execution_count": 9,
   "metadata": {},
   "outputs": [
    {
     "data": {
      "text/plain": [
       "800177252346225"
      ]
     },
     "execution_count": 9,
     "metadata": {},
     "output_type": "execute_result"
    }
   ],
   "source": [
    "crt_res[0] - rems[0]"
   ]
  },
  {
   "cell_type": "markdown",
   "metadata": {},
   "source": [
    "This is the correct solution"
   ]
  },
  {
   "cell_type": "code",
   "execution_count": null,
   "metadata": {},
   "outputs": [],
   "source": []
  },
  {
   "cell_type": "markdown",
   "metadata": {},
   "source": [
    "# Finding a number to test"
   ]
  },
  {
   "cell_type": "markdown",
   "metadata": {},
   "source": [
    "n = 96"
   ]
  },
  {
   "cell_type": "code",
   "execution_count": 25,
   "metadata": {},
   "outputs": [],
   "source": [
    "N_try = 96"
   ]
  },
  {
   "cell_type": "code",
   "execution_count": 26,
   "metadata": {},
   "outputs": [
    {
     "name": "stdout",
     "output_type": "stream",
     "text": [
      "i:96  divisors:[1, 2, 3, 4, 6, 8, 12, 16, 24, 32, 48, 96]\n",
      "i:95  divisors:[1, 5, 19, 95]\n",
      "i:94  divisors:[1, 2, 47, 94]\n",
      "i:93  divisors:[1, 3, 31, 93]\n",
      "i:92  divisors:[1, 2, 4, 23, 46, 92]\n"
     ]
    }
   ],
   "source": [
    "from sympy import divisors\n",
    "\n",
    "for i in range(N_try, 91, -1):\n",
    "    print (f\"i:{i}  divisors:{divisors(i)}\")"
   ]
  },
  {
   "cell_type": "code",
   "execution_count": 32,
   "metadata": {},
   "outputs": [
    {
     "name": "stdout",
     "output_type": "stream",
     "text": [
      "(11376, 33840)\n"
     ]
    }
   ],
   "source": [
    "# Try manually\n",
    "\n",
    "rems = [4,3,2,1,0]\n",
    "mods = [4,3,47,5,12]\n",
    "\n",
    "crt0 = crt(mods,rems)\n",
    "print(crt0)\n",
    "N_crt = crt0[0]"
   ]
  },
  {
   "cell_type": "code",
   "execution_count": 33,
   "metadata": {},
   "outputs": [
    {
     "data": {
      "text/plain": [
       "(11376, 33840)"
      ]
     },
     "execution_count": 33,
     "metadata": {},
     "output_type": "execute_result"
    }
   ],
   "source": [
    "crt(mods,rems, symmetric=True)"
   ]
  },
  {
   "cell_type": "code",
   "execution_count": 35,
   "metadata": {},
   "outputs": [
    {
     "name": "stdout",
     "output_type": "stream",
     "text": [
      "m0: 4, 4, remainder reduced :0, \n",
      "N_try:96 -- 0   N_crt:11376 -- 0\n",
      "m0: 3, 3, remainder reduced :0, \n",
      "N_try:96 -- 0   N_crt:11376 -- 0\n",
      "m0: 47, 2, remainder reduced :2, \n",
      "N_try:96 -- 2   N_crt:11376 -- 2\n",
      "m0: 5, 1, remainder reduced :1, \n",
      "N_try:96 -- 1   N_crt:11376 -- 1\n",
      "m0: 12, 0, remainder reduced :0, \n",
      "N_try:96 -- 0   N_crt:11376 -- 0\n"
     ]
    }
   ],
   "source": [
    "# check\n",
    "\n",
    "for i in range(len(rems)):\n",
    "    r0 = rems[i]\n",
    "    m0 = mods[i]\n",
    "\n",
    "    print(f\"m0: {m0}, {r0}, remainder reduced :{r0%m0}, \")\n",
    "    # N_try\n",
    "    mod_try = N_try%m0\n",
    "\n",
    "    #N_crt\n",
    "    mod_crt = N_crt%m0\n",
    "    \n",
    "    print(f\"N_try:{N_try} -- {mod_try}   N_crt:{N_crt} -- {mod_crt}\") "
   ]
  },
  {
   "cell_type": "code",
   "execution_count": 36,
   "metadata": {},
   "outputs": [
    {
     "data": {
      "text/plain": [
       "(96, 2820)"
      ]
     },
     "execution_count": 36,
     "metadata": {},
     "output_type": "execute_result"
    }
   ],
   "source": [
    "crt([47,5,12], [2,1,0])"
   ]
  },
  {
   "cell_type": "code",
   "execution_count": null,
   "metadata": {},
   "outputs": [],
   "source": []
  }
 ],
 "metadata": {
  "kernelspec": {
   "display_name": "dev",
   "language": "python",
   "name": "python3"
  },
  "language_info": {
   "codemirror_mode": {
    "name": "ipython",
    "version": 3
   },
   "file_extension": ".py",
   "mimetype": "text/x-python",
   "name": "python",
   "nbconvert_exporter": "python",
   "pygments_lexer": "ipython3",
   "version": "3.11.7"
  }
 },
 "nbformat": 4,
 "nbformat_minor": 2
}
